{
 "cells": [
  {
   "cell_type": "code",
   "execution_count": 1,
   "id": "ad0d4d32",
   "metadata": {},
   "outputs": [],
   "source": [
    "import os\n",
    "import glob\n",
    "from joblib import Parallel, delayed\n",
    "import pandas as pd\n",
    "import numpy as np\n",
    "import scipy as sc\n",
    "from sklearn.model_selection import KFold\n",
    "import warnings\n",
    "warnings.filterwarnings('ignore')\n",
    "from tqdm import tqdm\n",
    "import joblib\n",
    "from statsmodels.tsa.arima.model import ARIMA as ARIMA\n",
    "from arch import arch_model\n",
    "pd.set_option('display.max_rows', 100)\n",
    "pd.set_option('display.max_columns', 200)\n",
    "pd.options.mode.chained_assignment = None"
   ]
  },
  {
   "cell_type": "code",
   "execution_count": 14,
   "id": "df8601a0",
   "metadata": {},
   "outputs": [],
   "source": [
    "x=pd.read_csv('train.csv')"
   ]
  },
  {
   "cell_type": "code",
   "execution_count": 46,
   "id": "a988e54e",
   "metadata": {},
   "outputs": [
    {
     "data": {
      "text/plain": [
       "Index(['stock_id', 'date_id', 'seconds_in_bucket', 'imbalance_size',\n",
       "       'imbalance_buy_sell_flag', 'reference_price', 'matched_size',\n",
       "       'far_price', 'near_price', 'bid_price', 'bid_size', 'ask_price',\n",
       "       'ask_size', 'wap', 'time_id', 'row_id', 'currently_scored'],\n",
       "      dtype='object')"
      ]
     },
     "execution_count": 46,
     "metadata": {},
     "output_type": "execute_result"
    }
   ],
   "source": [
    "test_df = pd.read_csv('test.csv', dtype = dtypes)\n",
    "test_df.columns"
   ]
  },
  {
   "cell_type": "code",
   "execution_count": 19,
   "id": "8a60a414-a414-445b-8bde-b3142852c328",
   "metadata": {},
   "outputs": [
    {
     "name": "stdout",
     "output_type": "stream",
     "text": [
      "\n",
      "Training and evaluating for Stock ID: 0\n",
      "Training Set Date Range: 0 -- 477\n",
      "Testing Set Date Range: 478 -- 480\n",
      "Order (0, 0, 0): MAE = 3.298011112594054\n",
      "Order (0, 0, 1): MAE = 3.2992870662231075\n",
      "Order (0, 0, 2): MAE = 3.300100554274874\n",
      "Order (0, 0, 3): MAE = 3.299563148075506\n",
      "Order (0, 0, 4): MAE = 3.2983591844579445\n",
      "Order (0, 0, 5): MAE = 3.301060005775331\n",
      "Order (0, 0, 6): MAE = 3.300839165087705\n",
      "Order (0, 1, 0): MAE = 3.2930374057151512\n",
      "Order (0, 1, 1): MAE = 3.274576904991574\n",
      "Order (0, 1, 2): MAE = 3.2774114541344566\n",
      "Order (0, 1, 3): MAE = 3.320269509225676\n",
      "Order (0, 1, 4): MAE = 3.2995825179617744\n",
      "Order (0, 1, 5): MAE = 3.2983876979715334\n",
      "Order (0, 1, 6): MAE = 3.301146643839144\n",
      "Order (1, 0, 0): MAE = 3.2979037866156613\n",
      "Order (1, 0, 1): MAE = 3.2980783393394963\n",
      "Order (1, 0, 2): MAE = 3.2981369438124823\n",
      "Order (1, 0, 3): MAE = 3.2978259087657555\n",
      "Order (1, 0, 4): MAE = 3.2984262882945727\n",
      "Order (1, 0, 5): MAE = 3.3008644368584825\n",
      "Order (1, 0, 6): MAE = 3.300892047326209\n",
      "Order (1, 1, 0): MAE = 3.27550944780751\n",
      "Order (1, 1, 1): MAE = 3.297943239987358\n",
      "Order (1, 1, 2): MAE = 3.298046288923937\n",
      "Order (1, 1, 3): MAE = 3.298110908783564\n",
      "Order (1, 1, 4): MAE = 3.297838135856787\n",
      "Order (1, 1, 5): MAE = 3.2984844960361563\n",
      "Order (1, 1, 6): MAE = 3.3009417267143095\n",
      "Order (2, 0, 0): MAE = 3.2981017291569157\n",
      "Order (2, 0, 1): MAE = 3.2991086282022186\n",
      "Order (2, 0, 2): MAE = 3.2978650966400007\n",
      "Order (2, 0, 3): MAE = 3.299955497826558\n",
      "Order (2, 0, 4): MAE = 3.300374102648731\n",
      "Order (2, 0, 5): MAE = 3.300744292363533\n"
     ]
    },
    {
     "name": "stderr",
     "output_type": "stream",
     "text": [
      "/Users/alikhan/anaconda3/lib/python3.10/site-packages/statsmodels/base/model.py:604: ConvergenceWarning: Maximum Likelihood optimization failed to converge. Check mle_retvals\n",
      "  warnings.warn(\"Maximum Likelihood optimization failed to \"\n"
     ]
    },
    {
     "name": "stdout",
     "output_type": "stream",
     "text": [
      "Order (2, 0, 6): MAE = 3.3034719432961013\n",
      "Order (2, 1, 0): MAE = 3.2755478346133877\n",
      "Order (2, 1, 1): MAE = 3.2981038348335834\n",
      "Order (2, 1, 2): MAE = 3.2986064962868715\n",
      "Order (2, 1, 3): MAE = 3.2985338092433016\n",
      "Order (2, 1, 4): MAE = 3.2987780860468554\n"
     ]
    },
    {
     "name": "stderr",
     "output_type": "stream",
     "text": [
      "/Users/alikhan/anaconda3/lib/python3.10/site-packages/statsmodels/base/model.py:604: ConvergenceWarning: Maximum Likelihood optimization failed to converge. Check mle_retvals\n",
      "  warnings.warn(\"Maximum Likelihood optimization failed to \"\n"
     ]
    },
    {
     "name": "stdout",
     "output_type": "stream",
     "text": [
      "Order (2, 1, 5): MAE = 3.3000938472891517\n"
     ]
    },
    {
     "name": "stderr",
     "output_type": "stream",
     "text": [
      "/Users/alikhan/anaconda3/lib/python3.10/site-packages/statsmodels/base/model.py:604: ConvergenceWarning: Maximum Likelihood optimization failed to converge. Check mle_retvals\n",
      "  warnings.warn(\"Maximum Likelihood optimization failed to \"\n"
     ]
    },
    {
     "name": "stdout",
     "output_type": "stream",
     "text": [
      "Order (2, 1, 6): MAE = 3.300810097850237\n",
      "Best Order for Stock ID 0: (0, 1, 1)\n",
      "Best MAE for Stock ID 0: 3.274576904991574\n",
      "\n",
      "Training and evaluating for Stock ID: 1\n",
      "Training Set Date Range: 0 -- 477\n",
      "Testing Set Date Range: 478 -- 480\n",
      "Order (0, 0, 0): MAE = 6.21177442183506\n",
      "Order (0, 0, 1): MAE = 6.212924936163075\n",
      "Order (0, 0, 2): MAE = 6.208848939701241\n",
      "Order (0, 0, 3): MAE = 6.20885580249067\n",
      "Order (0, 0, 4): MAE = 6.206793029280272\n",
      "Order (0, 0, 5): MAE = 6.209813599486931\n",
      "Order (0, 0, 6): MAE = 6.209696699929135\n",
      "Order (0, 1, 0): MAE = 6.730776825939394\n",
      "Order (0, 1, 1): MAE = 6.4019838376240985\n",
      "Order (0, 1, 2): MAE = 6.382589712958195\n",
      "Order (0, 1, 3): MAE = 6.049421854481443\n",
      "Order (0, 1, 4): MAE = 6.083415508211005\n",
      "Order (0, 1, 5): MAE = 6.13283376026145\n",
      "Order (0, 1, 6): MAE = 6.128293675116063\n",
      "Order (1, 0, 0): MAE = 6.203083603899929\n",
      "Order (1, 0, 1): MAE = 6.202386846637678\n",
      "Order (1, 0, 2): MAE = 6.203024566188414\n",
      "Order (1, 0, 3): MAE = 6.204804581688795\n",
      "Order (1, 0, 4): MAE = 6.205153643486147\n",
      "Order (1, 0, 5): MAE = 6.209554161668674\n",
      "Order (1, 0, 6): MAE = 6.210821174598146\n",
      "Order (1, 1, 0): MAE = 6.435897748145204\n",
      "Order (1, 1, 1): MAE = 6.165886697189901\n",
      "Order (1, 1, 2): MAE = 6.576769310527775\n",
      "Order (1, 1, 3): MAE = 6.1657703280245455\n",
      "Order (1, 1, 4): MAE = 6.074439068335761\n",
      "Order (1, 1, 5): MAE = 6.099446790097235\n",
      "Order (1, 1, 6): MAE = 6.1696975220755\n",
      "Order (2, 0, 0): MAE = 6.202309853275776\n",
      "Order (2, 0, 1): MAE = 6.2022077094198\n",
      "Order (2, 0, 2): MAE = 6.208187021301966\n",
      "Order (2, 0, 3): MAE = 6.205612824589192\n",
      "Order (2, 0, 4): MAE = 6.2085799865585924\n",
      "Order (2, 0, 5): MAE = 6.20983733459677\n",
      "Order (2, 0, 6): MAE = 6.210811560007934\n",
      "Order (2, 1, 0): MAE = 6.435790024104236\n",
      "Order (2, 1, 1): MAE = 6.167280716371599\n",
      "Order (2, 1, 2): MAE = 6.166069767037763\n",
      "Order (2, 1, 3): MAE = 6.1713664345591805\n",
      "Order (2, 1, 4): MAE = 6.1676398077816845\n"
     ]
    },
    {
     "name": "stderr",
     "output_type": "stream",
     "text": [
      "/Users/alikhan/anaconda3/lib/python3.10/site-packages/statsmodels/base/model.py:604: ConvergenceWarning: Maximum Likelihood optimization failed to converge. Check mle_retvals\n",
      "  warnings.warn(\"Maximum Likelihood optimization failed to \"\n"
     ]
    },
    {
     "name": "stdout",
     "output_type": "stream",
     "text": [
      "Order (2, 1, 5): MAE = 6.167250726425254\n",
      "Order (2, 1, 6): MAE = 6.164867131283106\n",
      "Best Order for Stock ID 1: (0, 1, 3)\n",
      "Best MAE for Stock ID 1: 6.049421854481443\n",
      "\n",
      "Training and evaluating for Stock ID: 2\n",
      "Training Set Date Range: 0 -- 477\n",
      "Testing Set Date Range: 478 -- 480\n",
      "Order (0, 0, 0): MAE = 3.5202195832322856\n",
      "Order (0, 0, 1): MAE = 3.5214325419855412\n",
      "Order (0, 0, 2): MAE = 3.5265899362007804\n",
      "Order (0, 0, 3): MAE = 3.522655310880856\n",
      "Order (0, 0, 4): MAE = 3.5305177124080123\n",
      "Order (0, 0, 5): MAE = 3.543916947135096\n",
      "Order (0, 0, 6): MAE = 3.5453450525761174\n",
      "Order (0, 1, 0): MAE = 5.023829834254546\n",
      "Order (0, 1, 1): MAE = 6.008849159284559\n",
      "Order (0, 1, 2): MAE = 5.771025322262336\n",
      "Order (0, 1, 3): MAE = 3.552460052354325\n",
      "Order (0, 1, 4): MAE = 3.5896286903479573\n",
      "Order (0, 1, 5): MAE = 3.5598849354224327\n"
     ]
    },
    {
     "name": "stderr",
     "output_type": "stream",
     "text": [
      "/Users/alikhan/anaconda3/lib/python3.10/site-packages/statsmodels/base/model.py:604: ConvergenceWarning: Maximum Likelihood optimization failed to converge. Check mle_retvals\n",
      "  warnings.warn(\"Maximum Likelihood optimization failed to \"\n"
     ]
    },
    {
     "name": "stdout",
     "output_type": "stream",
     "text": [
      "Order (0, 1, 6): MAE = 3.543923630865603\n",
      "Order (1, 0, 0): MAE = 3.527486515440393\n",
      "Order (1, 0, 1): MAE = 3.530519532033523\n",
      "Order (1, 0, 2): MAE = 3.5306401907280365\n",
      "Order (1, 0, 3): MAE = 3.536262941121921\n",
      "Order (1, 0, 4): MAE = 3.5431661775490886\n",
      "Order (1, 0, 5): MAE = 3.5466094693227506\n",
      "Order (1, 0, 6): MAE = 3.541797560341185\n",
      "Order (1, 1, 0): MAE = 5.93503893080765\n",
      "Order (1, 1, 1): MAE = 3.5274658711678706\n",
      "Order (1, 1, 2): MAE = 6.237404741756124\n",
      "Order (1, 1, 3): MAE = 3.5306658665049393\n",
      "Order (1, 1, 4): MAE = 3.58423115183321\n"
     ]
    },
    {
     "name": "stderr",
     "output_type": "stream",
     "text": [
      "/Users/alikhan/anaconda3/lib/python3.10/site-packages/statsmodels/base/model.py:604: ConvergenceWarning: Maximum Likelihood optimization failed to converge. Check mle_retvals\n",
      "  warnings.warn(\"Maximum Likelihood optimization failed to \"\n"
     ]
    },
    {
     "name": "stdout",
     "output_type": "stream",
     "text": [
      "Order (1, 1, 5): MAE = 3.5431923996873804\n",
      "Order (1, 1, 6): MAE = 3.5466000990015636\n",
      "Order (2, 0, 0): MAE = 3.530860266948802\n",
      "Order (2, 0, 1): MAE = 3.5280320117175\n",
      "Order (2, 0, 2): MAE = 3.536585586474852\n",
      "Order (2, 0, 3): MAE = 3.5356143938013\n",
      "Order (2, 0, 4): MAE = 3.536662484537968\n",
      "Order (2, 0, 5): MAE = 3.543251061243016\n",
      "Order (2, 0, 6): MAE = 3.5416496268257314\n",
      "Order (2, 1, 0): MAE = 5.902405907488302\n",
      "Order (2, 1, 1): MAE = 3.530826359553044\n",
      "Order (2, 1, 2): MAE = 3.528033951652697\n"
     ]
    },
    {
     "name": "stderr",
     "output_type": "stream",
     "text": [
      "/Users/alikhan/anaconda3/lib/python3.10/site-packages/statsmodels/base/model.py:604: ConvergenceWarning: Maximum Likelihood optimization failed to converge. Check mle_retvals\n",
      "  warnings.warn(\"Maximum Likelihood optimization failed to \"\n"
     ]
    },
    {
     "name": "stdout",
     "output_type": "stream",
     "text": [
      "Order (2, 1, 3): MAE = 3.5341290215724976\n"
     ]
    },
    {
     "name": "stderr",
     "output_type": "stream",
     "text": [
      "/Users/alikhan/anaconda3/lib/python3.10/site-packages/statsmodels/base/model.py:604: ConvergenceWarning: Maximum Likelihood optimization failed to converge. Check mle_retvals\n",
      "  warnings.warn(\"Maximum Likelihood optimization failed to \"\n"
     ]
    },
    {
     "name": "stdout",
     "output_type": "stream",
     "text": [
      "Order (2, 1, 4): MAE = 3.5356016176803045\n"
     ]
    },
    {
     "name": "stderr",
     "output_type": "stream",
     "text": [
      "/Users/alikhan/anaconda3/lib/python3.10/site-packages/statsmodels/base/model.py:604: ConvergenceWarning: Maximum Likelihood optimization failed to converge. Check mle_retvals\n",
      "  warnings.warn(\"Maximum Likelihood optimization failed to \"\n"
     ]
    },
    {
     "name": "stdout",
     "output_type": "stream",
     "text": [
      "Order (2, 1, 5): MAE = 3.537681423216151\n"
     ]
    },
    {
     "name": "stderr",
     "output_type": "stream",
     "text": [
      "/Users/alikhan/anaconda3/lib/python3.10/site-packages/statsmodels/base/model.py:604: ConvergenceWarning: Maximum Likelihood optimization failed to converge. Check mle_retvals\n",
      "  warnings.warn(\"Maximum Likelihood optimization failed to \"\n"
     ]
    },
    {
     "name": "stdout",
     "output_type": "stream",
     "text": [
      "Order (2, 1, 6): MAE = 3.543208201382365\n",
      "Best Order for Stock ID 2: (0, 0, 0)\n",
      "Best MAE for Stock ID 2: 3.5202195832322856\n",
      "\n",
      "Training and evaluating for Stock ID: 3\n",
      "Training Set Date Range: 0 -- 477\n",
      "Testing Set Date Range: 478 -- 480\n",
      "Order (0, 0, 0): MAE = 3.3677369764277434\n",
      "Order (0, 0, 1): MAE = 3.371681179867903\n",
      "Order (0, 0, 2): MAE = 3.381705426954902\n",
      "Order (0, 0, 3): MAE = 3.388124659710577\n",
      "Order (0, 0, 4): MAE = 3.3931347836945913\n",
      "Order (0, 0, 5): MAE = 3.4258443505754905\n",
      "Order (0, 0, 6): MAE = 3.4202308233308862\n",
      "Order (0, 1, 0): MAE = 6.978822503284848\n",
      "Order (0, 1, 1): MAE = 6.223623968382373\n",
      "Order (0, 1, 2): MAE = 5.727394386704728\n",
      "Order (0, 1, 3): MAE = 4.194972387193371\n",
      "Order (0, 1, 4): MAE = 3.2723006239574617\n",
      "Order (0, 1, 5): MAE = 3.2792072019454985\n",
      "Order (0, 1, 6): MAE = 3.341439406613418\n",
      "Order (1, 0, 0): MAE = 3.3886542909884785\n",
      "Order (1, 0, 1): MAE = 3.388705483487293\n",
      "Order (1, 0, 2): MAE = 3.392772785283394\n",
      "Order (1, 0, 3): MAE = 3.407720017165347\n",
      "Order (1, 0, 4): MAE = 3.427860014231474\n",
      "Order (1, 0, 5): MAE = 3.420598862985156\n"
     ]
    },
    {
     "name": "stderr",
     "output_type": "stream",
     "text": [
      "/Users/alikhan/anaconda3/lib/python3.10/site-packages/statsmodels/base/model.py:604: ConvergenceWarning: Maximum Likelihood optimization failed to converge. Check mle_retvals\n",
      "  warnings.warn(\"Maximum Likelihood optimization failed to \"\n"
     ]
    },
    {
     "name": "stdout",
     "output_type": "stream",
     "text": [
      "Order (1, 0, 6): MAE = 3.4209787897937667\n",
      "Order (1, 1, 0): MAE = 6.4200189290962255\n",
      "Order (1, 1, 1): MAE = 3.3272980803932226\n",
      "Order (1, 1, 2): MAE = 5.809161929846873\n",
      "Order (1, 1, 3): MAE = 3.3288690194298503\n",
      "Order (1, 1, 4): MAE = 3.343531776110612\n",
      "Order (1, 1, 5): MAE = 3.3603637763062033\n",
      "Order (1, 1, 6): MAE = 3.327367907243763\n",
      "Order (2, 0, 0): MAE = 3.3887178593310243\n",
      "Order (2, 0, 1): MAE = 3.3860574238134147\n",
      "Order (2, 0, 2): MAE = 3.421031807257282\n",
      "Order (2, 0, 3): MAE = 3.4346643999201167\n",
      "Order (2, 0, 4): MAE = 3.4302824954141227\n",
      "Order (2, 0, 5): MAE = 3.420023289491453\n"
     ]
    },
    {
     "name": "stderr",
     "output_type": "stream",
     "text": [
      "/Users/alikhan/anaconda3/lib/python3.10/site-packages/statsmodels/base/model.py:604: ConvergenceWarning: Maximum Likelihood optimization failed to converge. Check mle_retvals\n",
      "  warnings.warn(\"Maximum Likelihood optimization failed to \"\n"
     ]
    },
    {
     "name": "stdout",
     "output_type": "stream",
     "text": [
      "Order (2, 0, 6): MAE = 3.4221974396277397\n",
      "Order (2, 1, 0): MAE = 5.949601143275578\n",
      "Order (2, 1, 1): MAE = 3.3268349256855\n",
      "Order (2, 1, 2): MAE = 3.3237265709213335\n",
      "Order (2, 1, 3): MAE = 3.3248263665579714\n",
      "Order (2, 1, 4): MAE = 3.3292337846987063\n",
      "Order (2, 1, 5): MAE = 3.3370143390770903\n",
      "Order (2, 1, 6): MAE = 3.3253155139177197\n",
      "Best Order for Stock ID 3: (0, 1, 4)\n",
      "Best MAE for Stock ID 3: 3.2723006239574617\n",
      "\n",
      "Training and evaluating for Stock ID: 4\n",
      "Training Set Date Range: 0 -- 477\n",
      "Testing Set Date Range: 478 -- 480\n",
      "Order (0, 0, 0): MAE = 2.5837594488630975\n",
      "Order (0, 0, 1): MAE = 2.5838492810240328\n",
      "Order (0, 0, 2): MAE = 2.5846215394789613\n",
      "Order (0, 0, 3): MAE = 2.584318614439521\n",
      "Order (0, 0, 4): MAE = 2.584118213119482\n",
      "Order (0, 0, 5): MAE = 2.584004552900752\n",
      "Order (0, 0, 6): MAE = 2.5839905474522182\n",
      "Order (0, 1, 0): MAE = 3.1754428611272725\n",
      "Order (0, 1, 1): MAE = 3.0589729025695576\n",
      "Order (0, 1, 2): MAE = 3.01785568665626\n",
      "Order (0, 1, 3): MAE = 2.6229760649327734\n",
      "Order (0, 1, 4): MAE = 2.5450920536868145\n",
      "Order (0, 1, 5): MAE = 2.5422922460499375\n",
      "Order (0, 1, 6): MAE = 2.582164685079717\n",
      "Order (1, 0, 0): MAE = 2.583778062406349\n",
      "Order (1, 0, 1): MAE = 2.5837056186719782\n",
      "Order (1, 0, 2): MAE = 2.5840151179188062\n",
      "Order (1, 0, 3): MAE = 2.5838552337261538\n",
      "Order (1, 0, 4): MAE = 2.584102003724042\n",
      "Order (1, 0, 5): MAE = 2.583993065869299\n",
      "Order (1, 0, 6): MAE = 2.5844467031310647\n",
      "Order (1, 1, 0): MAE = 3.084427707502004\n",
      "Order (1, 1, 1): MAE = 2.5552843052978575\n",
      "Order (1, 1, 2): MAE = 2.5833916582975207\n",
      "Order (1, 1, 3): MAE = 2.5839861817716567\n",
      "Order (1, 1, 4): MAE = 2.5478501509543108\n"
     ]
    },
    {
     "name": "stderr",
     "output_type": "stream",
     "text": [
      "/Users/alikhan/anaconda3/lib/python3.10/site-packages/statsmodels/base/model.py:604: ConvergenceWarning: Maximum Likelihood optimization failed to converge. Check mle_retvals\n",
      "  warnings.warn(\"Maximum Likelihood optimization failed to \"\n"
     ]
    },
    {
     "name": "stdout",
     "output_type": "stream",
     "text": [
      "Order (1, 1, 5): MAE = 2.5838217329857796\n",
      "Order (1, 1, 6): MAE = 2.561147017758827\n",
      "Order (2, 0, 0): MAE = 2.583689619591757\n",
      "Order (2, 0, 1): MAE = 2.5838427103388697\n",
      "Order (2, 0, 2): MAE = 2.587444519744596\n",
      "Order (2, 0, 3): MAE = 2.5843465692253864\n",
      "Order (2, 0, 4): MAE = 2.584062833770624\n",
      "Order (2, 0, 5): MAE = 2.58400465516605\n"
     ]
    },
    {
     "name": "stderr",
     "output_type": "stream",
     "text": [
      "/Users/alikhan/anaconda3/lib/python3.10/site-packages/statsmodels/base/model.py:604: ConvergenceWarning: Maximum Likelihood optimization failed to converge. Check mle_retvals\n",
      "  warnings.warn(\"Maximum Likelihood optimization failed to \"\n"
     ]
    },
    {
     "name": "stdout",
     "output_type": "stream",
     "text": [
      "Order (2, 0, 6): MAE = 2.5852160545275287\n",
      "Order (2, 1, 0): MAE = 3.0478843982636405\n",
      "Order (2, 1, 1): MAE = 2.5769642720567303\n",
      "Order (2, 1, 2): MAE = 2.583783525700527\n"
     ]
    },
    {
     "name": "stderr",
     "output_type": "stream",
     "text": [
      "/Users/alikhan/anaconda3/lib/python3.10/site-packages/statsmodels/base/model.py:604: ConvergenceWarning: Maximum Likelihood optimization failed to converge. Check mle_retvals\n",
      "  warnings.warn(\"Maximum Likelihood optimization failed to \"\n"
     ]
    },
    {
     "name": "stdout",
     "output_type": "stream",
     "text": [
      "Order (2, 1, 3): MAE = 2.5837560393148\n"
     ]
    },
    {
     "name": "stderr",
     "output_type": "stream",
     "text": [
      "/Users/alikhan/anaconda3/lib/python3.10/site-packages/statsmodels/base/model.py:604: ConvergenceWarning: Maximum Likelihood optimization failed to converge. Check mle_retvals\n",
      "  warnings.warn(\"Maximum Likelihood optimization failed to \"\n"
     ]
    },
    {
     "name": "stdout",
     "output_type": "stream",
     "text": [
      "Order (2, 1, 4): MAE = 2.5840941284279126\n"
     ]
    },
    {
     "name": "stderr",
     "output_type": "stream",
     "text": [
      "/Users/alikhan/anaconda3/lib/python3.10/site-packages/statsmodels/base/model.py:604: ConvergenceWarning: Maximum Likelihood optimization failed to converge. Check mle_retvals\n",
      "  warnings.warn(\"Maximum Likelihood optimization failed to \"\n"
     ]
    },
    {
     "name": "stdout",
     "output_type": "stream",
     "text": [
      "Order (2, 1, 5): MAE = 2.5833623570797237\n",
      "Order (2, 1, 6): MAE = 2.5571583211100637\n",
      "Best Order for Stock ID 4: (0, 1, 5)\n",
      "Best MAE for Stock ID 4: 2.5422922460499375\n",
      "\n",
      "Training and evaluating for Stock ID: 5\n",
      "Training Set Date Range: 0 -- 477\n",
      "Testing Set Date Range: 478 -- 480\n",
      "Order (0, 0, 0): MAE = 5.68092757505894\n",
      "Order (0, 0, 1): MAE = 5.679129232253762\n",
      "Order (0, 0, 2): MAE = 5.689919811300952\n",
      "Order (0, 0, 3): MAE = 5.686173597187687\n",
      "Order (0, 0, 4): MAE = 5.683523227906799\n",
      "Order (0, 0, 5): MAE = 5.722009226353685\n",
      "Order (0, 0, 6): MAE = 5.726243334741683\n",
      "Order (0, 1, 0): MAE = 6.411646373818181\n",
      "Order (0, 1, 1): MAE = 6.413048603532941\n",
      "Order (0, 1, 2): MAE = 6.412195245448067\n",
      "Order (0, 1, 3): MAE = 6.311620428587097\n",
      "Order (0, 1, 4): MAE = 5.686126152757056\n",
      "Order (0, 1, 5): MAE = 5.683381852585862\n",
      "Order (0, 1, 6): MAE = 5.721636750775476\n",
      "Order (1, 0, 0): MAE = 5.665189029798014\n",
      "Order (1, 0, 1): MAE = 5.669169668371701\n",
      "Order (1, 0, 2): MAE = 5.675743762080867\n",
      "Order (1, 0, 3): MAE = 5.680213810136701\n",
      "Order (1, 0, 4): MAE = 5.700964180466882\n",
      "Order (1, 0, 5): MAE = 5.7263657861939015\n",
      "Order (1, 0, 6): MAE = 5.725035886579053\n",
      "Order (1, 1, 0): MAE = 6.41299969650001\n",
      "Order (1, 1, 1): MAE = 5.665440079808265\n",
      "Order (1, 1, 2): MAE = 5.6688791989455485\n",
      "Order (1, 1, 3): MAE = 5.67551010057777\n",
      "Order (1, 1, 4): MAE = 5.679865751977511\n",
      "Order (1, 1, 5): MAE = 5.700490614017122\n",
      "Order (1, 1, 6): MAE = 5.725987457486811\n",
      "Order (2, 0, 0): MAE = 5.671195926774934\n"
     ]
    },
    {
     "name": "stderr",
     "output_type": "stream",
     "text": [
      "/Users/alikhan/anaconda3/lib/python3.10/site-packages/statsmodels/base/model.py:604: ConvergenceWarning: Maximum Likelihood optimization failed to converge. Check mle_retvals\n",
      "  warnings.warn(\"Maximum Likelihood optimization failed to \"\n"
     ]
    },
    {
     "name": "stdout",
     "output_type": "stream",
     "text": [
      "Order (2, 0, 1): MAE = 5.712518160328295\n",
      "Order (2, 0, 2): MAE = 5.716438048829107\n",
      "Order (2, 0, 3): MAE = 5.727294012467803\n",
      "Order (2, 0, 4): MAE = 5.720064589216198\n",
      "Order (2, 0, 5): MAE = 5.7248760323444445\n"
     ]
    },
    {
     "name": "stderr",
     "output_type": "stream",
     "text": [
      "/Users/alikhan/anaconda3/lib/python3.10/site-packages/statsmodels/base/model.py:604: ConvergenceWarning: Maximum Likelihood optimization failed to converge. Check mle_retvals\n",
      "  warnings.warn(\"Maximum Likelihood optimization failed to \"\n"
     ]
    },
    {
     "name": "stdout",
     "output_type": "stream",
     "text": [
      "Order (2, 0, 6): MAE = 5.729318091500352\n",
      "Order (2, 1, 0): MAE = 6.412310208604739\n",
      "Order (2, 1, 1): MAE = 6.4125106919848305\n",
      "Order (2, 1, 2): MAE = 6.412026707516757\n",
      "Order (2, 1, 3): MAE = 5.667894650375388\n"
     ]
    },
    {
     "name": "stderr",
     "output_type": "stream",
     "text": [
      "/Users/alikhan/anaconda3/lib/python3.10/site-packages/statsmodels/base/model.py:604: ConvergenceWarning: Maximum Likelihood optimization failed to converge. Check mle_retvals\n",
      "  warnings.warn(\"Maximum Likelihood optimization failed to \"\n"
     ]
    },
    {
     "name": "stdout",
     "output_type": "stream",
     "text": [
      "Order (2, 1, 4): MAE = 5.677907555940684\n"
     ]
    },
    {
     "name": "stderr",
     "output_type": "stream",
     "text": [
      "/Users/alikhan/anaconda3/lib/python3.10/site-packages/statsmodels/base/model.py:604: ConvergenceWarning: Maximum Likelihood optimization failed to converge. Check mle_retvals\n",
      "  warnings.warn(\"Maximum Likelihood optimization failed to \"\n"
     ]
    },
    {
     "name": "stdout",
     "output_type": "stream",
     "text": [
      "Order (2, 1, 5): MAE = 5.678519835192659\n"
     ]
    },
    {
     "name": "stderr",
     "output_type": "stream",
     "text": [
      "/Users/alikhan/anaconda3/lib/python3.10/site-packages/statsmodels/base/model.py:604: ConvergenceWarning: Maximum Likelihood optimization failed to converge. Check mle_retvals\n",
      "  warnings.warn(\"Maximum Likelihood optimization failed to \"\n"
     ]
    },
    {
     "name": "stdout",
     "output_type": "stream",
     "text": [
      "Order (2, 1, 6): MAE = 5.724765068355449\n",
      "Best Order for Stock ID 5: (1, 0, 0)\n",
      "Best MAE for Stock ID 5: 5.665189029798014\n",
      "\n",
      "Training and evaluating for Stock ID: 6\n",
      "Training Set Date Range: 0 -- 477\n",
      "Testing Set Date Range: 478 -- 480\n",
      "Order (0, 0, 0): MAE = 7.301598824947816\n",
      "Order (0, 0, 1): MAE = 7.302415741766077\n",
      "Order (0, 0, 2): MAE = 7.308208659502333\n",
      "Order (0, 0, 3): MAE = 7.3074972845415305\n",
      "Order (0, 0, 4): MAE = 7.314417594185334\n",
      "Order (0, 0, 5): MAE = 7.31429595158261\n",
      "Order (0, 0, 6): MAE = 7.3121809027373255\n",
      "Order (0, 1, 0): MAE = 9.343790257757576\n",
      "Order (0, 1, 1): MAE = 9.951263357629514\n",
      "Order (0, 1, 2): MAE = 10.299167445108349\n",
      "Order (0, 1, 3): MAE = 7.469336570957264\n",
      "Order (0, 1, 4): MAE = 7.389488844626575\n",
      "Order (0, 1, 5): MAE = 7.314476889301023\n"
     ]
    },
    {
     "name": "stderr",
     "output_type": "stream",
     "text": [
      "/Users/alikhan/anaconda3/lib/python3.10/site-packages/statsmodels/base/model.py:604: ConvergenceWarning: Maximum Likelihood optimization failed to converge. Check mle_retvals\n",
      "  warnings.warn(\"Maximum Likelihood optimization failed to \"\n"
     ]
    },
    {
     "name": "stdout",
     "output_type": "stream",
     "text": [
      "Order (0, 1, 6): MAE = 7.314397853186576\n",
      "Order (1, 0, 0): MAE = 7.319692169645975\n",
      "Order (1, 0, 1): MAE = 7.325552492560472\n",
      "Order (1, 0, 2): MAE = 7.323968267197728\n",
      "Order (1, 0, 3): MAE = 7.318226238320908\n",
      "Order (1, 0, 4): MAE = 7.32083352750755\n",
      "Order (1, 0, 5): MAE = 7.313963272189371\n",
      "Order (1, 0, 6): MAE = 7.309044951791049\n",
      "Order (1, 1, 0): MAE = 9.742294715334882\n",
      "Order (1, 1, 1): MAE = 7.319720995280301\n",
      "Order (1, 1, 2): MAE = 7.325463621394362\n",
      "Order (1, 1, 3): MAE = 7.323962450900943\n",
      "Order (1, 1, 4): MAE = 7.403846401065346\n",
      "Order (1, 1, 5): MAE = 7.325198266584645\n"
     ]
    },
    {
     "name": "stderr",
     "output_type": "stream",
     "text": [
      "/Users/alikhan/anaconda3/lib/python3.10/site-packages/statsmodels/base/model.py:604: ConvergenceWarning: Maximum Likelihood optimization failed to converge. Check mle_retvals\n",
      "  warnings.warn(\"Maximum Likelihood optimization failed to \"\n"
     ]
    },
    {
     "name": "stdout",
     "output_type": "stream",
     "text": [
      "Order (1, 1, 6): MAE = 7.314061154217875\n",
      "Order (2, 0, 0): MAE = 7.325427520029183\n",
      "Order (2, 0, 1): MAE = 7.325049479271691\n",
      "Order (2, 0, 2): MAE = 7.329053690858648\n",
      "Order (2, 0, 3): MAE = 7.322587235396283\n",
      "Order (2, 0, 4): MAE = 7.314068020251887\n",
      "Order (2, 0, 5): MAE = 7.311796709912305\n",
      "Order (2, 0, 6): MAE = 7.308258532520761\n",
      "Order (2, 1, 0): MAE = 9.858344408003342\n",
      "Order (2, 1, 1): MAE = 7.325410615163112\n",
      "Order (2, 1, 2): MAE = 7.317789965398316\n"
     ]
    },
    {
     "name": "stderr",
     "output_type": "stream",
     "text": [
      "/Users/alikhan/anaconda3/lib/python3.10/site-packages/statsmodels/base/model.py:604: ConvergenceWarning: Maximum Likelihood optimization failed to converge. Check mle_retvals\n",
      "  warnings.warn(\"Maximum Likelihood optimization failed to \"\n"
     ]
    },
    {
     "name": "stdout",
     "output_type": "stream",
     "text": [
      "Order (2, 1, 3): MAE = 7.326931485933753\n",
      "Order (2, 1, 4): MAE = 7.539822772913244\n"
     ]
    },
    {
     "name": "stderr",
     "output_type": "stream",
     "text": [
      "/Users/alikhan/anaconda3/lib/python3.10/site-packages/statsmodels/base/model.py:604: ConvergenceWarning: Maximum Likelihood optimization failed to converge. Check mle_retvals\n",
      "  warnings.warn(\"Maximum Likelihood optimization failed to \"\n"
     ]
    },
    {
     "name": "stdout",
     "output_type": "stream",
     "text": [
      "Order (2, 1, 5): MAE = 7.403252042269636\n"
     ]
    },
    {
     "name": "stderr",
     "output_type": "stream",
     "text": [
      "/Users/alikhan/anaconda3/lib/python3.10/site-packages/statsmodels/base/model.py:604: ConvergenceWarning: Maximum Likelihood optimization failed to converge. Check mle_retvals\n",
      "  warnings.warn(\"Maximum Likelihood optimization failed to \"\n"
     ]
    },
    {
     "name": "stdout",
     "output_type": "stream",
     "text": [
      "Order (2, 1, 6): MAE = 7.311819832038823\n",
      "Best Order for Stock ID 6: (0, 0, 0)\n",
      "Best MAE for Stock ID 6: 7.301598824947816\n",
      "\n",
      "Training and evaluating for Stock ID: 7\n",
      "Training Set Date Range: 0 -- 477\n",
      "Testing Set Date Range: 478 -- 480\n",
      "Order (0, 0, 0): MAE = 4.433110704337285\n",
      "Order (0, 0, 1): MAE = 4.439129295121845\n",
      "Order (0, 0, 2): MAE = 4.452749243858002\n",
      "Order (0, 0, 3): MAE = 4.452353940174918\n",
      "Order (0, 0, 4): MAE = 4.466759135455664\n",
      "Order (0, 0, 5): MAE = 4.502763114501766\n",
      "Order (0, 0, 6): MAE = 4.492892766315622\n",
      "Order (0, 1, 0): MAE = 8.972092110327273\n",
      "Order (0, 1, 1): MAE = 8.487148062288966\n",
      "Order (0, 1, 2): MAE = 8.158955545323414\n",
      "Order (0, 1, 3): MAE = 4.452833988454834\n",
      "Order (0, 1, 4): MAE = 4.452616965766405\n",
      "Order (0, 1, 5): MAE = 4.466842280095383\n",
      "Order (0, 1, 6): MAE = 4.502968704481139\n",
      "Order (1, 0, 0): MAE = 4.47832255466732\n",
      "Order (1, 0, 1): MAE = 4.485018022563297\n",
      "Order (1, 0, 2): MAE = 4.483315950223483\n",
      "Order (1, 0, 3): MAE = 4.490210754146951\n",
      "Order (1, 0, 4): MAE = 4.498149422068723\n",
      "Order (1, 0, 5): MAE = 4.49654894684134\n",
      "Order (1, 0, 6): MAE = 4.488703954829296\n",
      "Order (1, 1, 0): MAE = 8.744191491422622\n",
      "Order (1, 1, 1): MAE = 4.480841179000137\n",
      "Order (1, 1, 2): MAE = 8.17101778522894\n",
      "Order (1, 1, 3): MAE = 4.4839869976358875\n",
      "Order (1, 1, 4): MAE = 4.451981250643624\n",
      "Order (1, 1, 5): MAE = 4.498454506364649\n"
     ]
    },
    {
     "name": "stderr",
     "output_type": "stream",
     "text": [
      "/Users/alikhan/anaconda3/lib/python3.10/site-packages/statsmodels/base/model.py:604: ConvergenceWarning: Maximum Likelihood optimization failed to converge. Check mle_retvals\n",
      "  warnings.warn(\"Maximum Likelihood optimization failed to \"\n"
     ]
    },
    {
     "name": "stdout",
     "output_type": "stream",
     "text": [
      "Order (1, 1, 6): MAE = 4.496715994114769\n",
      "Order (2, 0, 0): MAE = 4.485732677648396\n",
      "Order (2, 0, 1): MAE = 4.473851398394991\n",
      "Order (2, 0, 2): MAE = 4.478669555924584\n",
      "Order (2, 0, 3): MAE = 4.480526749632247\n",
      "Order (2, 0, 4): MAE = 4.481437361580087\n",
      "Order (2, 0, 5): MAE = 4.4934385315226\n",
      "Order (2, 0, 6): MAE = 4.487270882817665\n",
      "Order (2, 1, 0): MAE = 8.500321211302731\n",
      "Order (2, 1, 1): MAE = 4.486224689398837\n",
      "Order (2, 1, 2): MAE = 4.473740954407217\n",
      "Order (2, 1, 3): MAE = 4.483729020376949\n"
     ]
    },
    {
     "name": "stderr",
     "output_type": "stream",
     "text": [
      "/Users/alikhan/anaconda3/lib/python3.10/site-packages/statsmodels/base/model.py:604: ConvergenceWarning: Maximum Likelihood optimization failed to converge. Check mle_retvals\n",
      "  warnings.warn(\"Maximum Likelihood optimization failed to \"\n"
     ]
    },
    {
     "name": "stdout",
     "output_type": "stream",
     "text": [
      "Order (2, 1, 4): MAE = 4.480967533365339\n"
     ]
    },
    {
     "name": "stderr",
     "output_type": "stream",
     "text": [
      "/Users/alikhan/anaconda3/lib/python3.10/site-packages/statsmodels/base/model.py:604: ConvergenceWarning: Maximum Likelihood optimization failed to converge. Check mle_retvals\n",
      "  warnings.warn(\"Maximum Likelihood optimization failed to \"\n"
     ]
    },
    {
     "name": "stdout",
     "output_type": "stream",
     "text": [
      "Order (2, 1, 5): MAE = 4.49424779033706\n"
     ]
    },
    {
     "name": "stderr",
     "output_type": "stream",
     "text": [
      "/Users/alikhan/anaconda3/lib/python3.10/site-packages/statsmodels/base/model.py:604: ConvergenceWarning: Maximum Likelihood optimization failed to converge. Check mle_retvals\n",
      "  warnings.warn(\"Maximum Likelihood optimization failed to \"\n"
     ]
    },
    {
     "name": "stdout",
     "output_type": "stream",
     "text": [
      "Order (2, 1, 6): MAE = 4.49406227905198\n",
      "Best Order for Stock ID 7: (0, 0, 0)\n",
      "Best MAE for Stock ID 7: 4.433110704337285\n",
      "\n",
      "Training and evaluating for Stock ID: 8\n",
      "Training Set Date Range: 0 -- 477\n",
      "Testing Set Date Range: 478 -- 480\n",
      "Order (0, 0, 0): MAE = 7.837140989309129\n",
      "Order (0, 0, 1): MAE = 7.837292638215145\n",
      "Order (0, 0, 2): MAE = 7.837390850610772\n",
      "Order (0, 0, 3): MAE = 7.837175827643101\n",
      "Order (0, 0, 4): MAE = 7.837824057878945\n",
      "Order (0, 0, 5): MAE = 7.8397562397206055\n",
      "Order (0, 0, 6): MAE = 7.839452990280335\n",
      "Order (0, 1, 0): MAE = 7.859370972387879\n",
      "Order (0, 1, 1): MAE = 8.140448920236844\n",
      "Order (0, 1, 2): MAE = 8.250300178240964\n",
      "Order (0, 1, 3): MAE = 7.837300305102377\n",
      "Order (0, 1, 4): MAE = 7.837171458281593\n",
      "Order (0, 1, 5): MAE = 7.837823507184923\n",
      "Order (0, 1, 6): MAE = 7.839759234633262\n",
      "Order (1, 0, 0): MAE = 7.837292835393391\n",
      "Order (1, 0, 1): MAE = 7.837806174512938\n",
      "Order (1, 0, 2): MAE = 7.837664508027641\n",
      "Order (1, 0, 3): MAE = 7.838008958047678\n",
      "Order (1, 0, 4): MAE = 7.838467324714635\n",
      "Order (1, 0, 5): MAE = 7.83949538330117\n",
      "Order (1, 0, 6): MAE = 7.839886766032312\n",
      "Order (1, 1, 0): MAE = 8.017649755095249\n",
      "Order (1, 1, 1): MAE = 7.837254254711362\n",
      "Order (1, 1, 2): MAE = 7.837776474095033\n",
      "Order (1, 1, 3): MAE = 7.837662203212218\n",
      "Order (1, 1, 4): MAE = 7.8374176427327455\n"
     ]
    },
    {
     "name": "stderr",
     "output_type": "stream",
     "text": [
      "/Users/alikhan/anaconda3/lib/python3.10/site-packages/statsmodels/base/model.py:604: ConvergenceWarning: Maximum Likelihood optimization failed to converge. Check mle_retvals\n",
      "  warnings.warn(\"Maximum Likelihood optimization failed to \"\n"
     ]
    },
    {
     "name": "stdout",
     "output_type": "stream",
     "text": [
      "Order (1, 1, 5): MAE = 7.837460888483828\n"
     ]
    },
    {
     "name": "stderr",
     "output_type": "stream",
     "text": [
      "/Users/alikhan/anaconda3/lib/python3.10/site-packages/statsmodels/base/model.py:604: ConvergenceWarning: Maximum Likelihood optimization failed to converge. Check mle_retvals\n",
      "  warnings.warn(\"Maximum Likelihood optimization failed to \"\n"
     ]
    },
    {
     "name": "stdout",
     "output_type": "stream",
     "text": [
      "Order (1, 1, 6): MAE = 7.839495062969384\n",
      "Order (2, 0, 0): MAE = 7.837843843593041\n",
      "Order (2, 0, 1): MAE = 7.837774461996066\n",
      "Order (2, 0, 2): MAE = 7.8385601412599755\n",
      "Order (2, 0, 3): MAE = 7.837655461926995\n",
      "Order (2, 0, 4): MAE = 7.8390738322731615\n",
      "Order (2, 0, 5): MAE = 7.839435247928739\n",
      "Order (2, 0, 6): MAE = 7.840208470129694\n",
      "Order (2, 1, 0): MAE = 8.098742089879794\n",
      "Order (2, 1, 1): MAE = 7.837841463579721\n",
      "Order (2, 1, 2): MAE = 7.837260158094952\n",
      "Order (2, 1, 3): MAE = 7.837922783999105\n",
      "Order (2, 1, 4): MAE = 7.840469280973668\n",
      "Order (2, 1, 5): MAE = 7.837298491125007\n"
     ]
    },
    {
     "name": "stderr",
     "output_type": "stream",
     "text": [
      "/Users/alikhan/anaconda3/lib/python3.10/site-packages/statsmodels/base/model.py:604: ConvergenceWarning: Maximum Likelihood optimization failed to converge. Check mle_retvals\n",
      "  warnings.warn(\"Maximum Likelihood optimization failed to \"\n"
     ]
    },
    {
     "name": "stdout",
     "output_type": "stream",
     "text": [
      "Order (2, 1, 6): MAE = 7.839429300753191\n",
      "Best Order for Stock ID 8: (0, 0, 0)\n",
      "Best MAE for Stock ID 8: 7.837140989309129\n",
      "\n",
      "Training and evaluating for Stock ID: 9\n",
      "Training Set Date Range: 0 -- 477\n",
      "Testing Set Date Range: 478 -- 480\n",
      "Order (0, 0, 0): MAE = 3.979284895646723\n",
      "Order (0, 0, 1): MAE = 3.9889083952611104\n",
      "Order (0, 0, 2): MAE = 3.986833440229726\n",
      "Order (0, 0, 3): MAE = 3.9889995403602385\n",
      "Order (0, 0, 4): MAE = 3.9876707666073554\n",
      "Order (0, 0, 5): MAE = 4.004716757729987\n",
      "Order (0, 0, 6): MAE = 4.004314465947132\n",
      "Order (0, 1, 0): MAE = 4.8990611114909095\n",
      "Order (0, 1, 1): MAE = 4.801587183061936\n",
      "Order (0, 1, 2): MAE = 4.75166452856042\n",
      "Order (0, 1, 3): MAE = 4.0584674096217475\n",
      "Order (0, 1, 4): MAE = 3.979339850373526\n",
      "Order (0, 1, 5): MAE = 3.9778961677066884\n",
      "Order (0, 1, 6): MAE = 3.993708148519098\n",
      "Order (1, 0, 0): MAE = 3.991846527089709\n",
      "Order (1, 0, 1): MAE = 3.993100563086971\n",
      "Order (1, 0, 2): MAE = 3.992278778193128\n",
      "Order (1, 0, 3): MAE = 3.997341332187275\n",
      "Order (1, 0, 4): MAE = 3.9967452583912113\n",
      "Order (1, 0, 5): MAE = 4.004334160245523\n",
      "Order (1, 0, 6): MAE = 4.0037713990274995\n",
      "Order (1, 1, 0): MAE = 4.809361717167404\n",
      "Order (1, 1, 1): MAE = 3.9843008528517623\n",
      "Order (1, 1, 2): MAE = 3.9853694842995506\n",
      "Order (1, 1, 3): MAE = 3.9835053410955115\n",
      "Order (1, 1, 4): MAE = 3.988392776612071\n",
      "Order (1, 1, 5): MAE = 3.987694562842685\n",
      "Order (1, 1, 6): MAE = 3.993220187015618\n",
      "Order (2, 0, 0): MAE = 3.993248344878032\n",
      "Order (2, 0, 1): MAE = 3.997030975299273\n",
      "Order (2, 0, 2): MAE = 3.9966790203502\n",
      "Order (2, 0, 3): MAE = 3.997689778445634\n",
      "Order (2, 0, 4): MAE = 3.992482712236329\n",
      "Order (2, 0, 5): MAE = 4.004295239656414\n"
     ]
    },
    {
     "name": "stderr",
     "output_type": "stream",
     "text": [
      "/Users/alikhan/anaconda3/lib/python3.10/site-packages/statsmodels/base/model.py:604: ConvergenceWarning: Maximum Likelihood optimization failed to converge. Check mle_retvals\n",
      "  warnings.warn(\"Maximum Likelihood optimization failed to \"\n"
     ]
    },
    {
     "name": "stdout",
     "output_type": "stream",
     "text": [
      "Order (2, 0, 6): MAE = 4.003834717595177\n",
      "Order (2, 1, 0): MAE = 4.775386550307313\n",
      "Order (2, 1, 1): MAE = 3.985095540919539\n",
      "Order (2, 1, 2): MAE = 3.9869204866258228\n",
      "Order (2, 1, 3): MAE = 3.986647723871935\n",
      "Order (2, 1, 4): MAE = 3.9843953406079087\n",
      "Order (2, 1, 5): MAE = 3.9814019884431393\n",
      "Order (2, 1, 6): MAE = 3.993042013174688\n",
      "Best Order for Stock ID 9: (0, 1, 5)\n",
      "Best MAE for Stock ID 9: 3.9778961677066884\n",
      "\n",
      "Training and evaluating for Stock ID: 10\n",
      "Training Set Date Range: 0 -- 477\n",
      "Testing Set Date Range: 478 -- 480\n",
      "Order (0, 0, 0): MAE = 5.420923027575886\n",
      "Order (0, 0, 1): MAE = 5.420994203076515\n",
      "Order (0, 0, 2): MAE = 5.421158359561997\n",
      "Order (0, 0, 3): MAE = 5.421178996102773\n",
      "Order (0, 0, 4): MAE = 5.422163739282873\n",
      "Order (0, 0, 5): MAE = 5.423355696566881\n",
      "Order (0, 0, 6): MAE = 5.423667449380863\n",
      "Order (0, 1, 0): MAE = 5.5368054928969705\n",
      "Order (0, 1, 1): MAE = 5.660670295989661\n",
      "Order (0, 1, 2): MAE = 5.685309258391411\n",
      "Order (0, 1, 3): MAE = 5.428586819947081\n",
      "Order (0, 1, 4): MAE = 5.499442258003085\n",
      "Order (0, 1, 5): MAE = 5.43079689904298\n",
      "Order (0, 1, 6): MAE = 5.423357509799613\n",
      "Order (1, 0, 0): MAE = 5.421746041181467\n",
      "Order (1, 0, 1): MAE = 5.42183755276072\n",
      "Order (1, 0, 2): MAE = 5.42169941526939\n",
      "Order (1, 0, 3): MAE = 5.422839198245931\n",
      "Order (1, 0, 4): MAE = 5.423357753638465\n",
      "Order (1, 0, 5): MAE = 5.423637007821172\n",
      "Order (1, 0, 6): MAE = 5.423522560903983\n",
      "Order (1, 1, 0): MAE = 5.634759725972826\n",
      "Order (1, 1, 1): MAE = 5.421800651135754\n",
      "Order (1, 1, 2): MAE = 5.421844601473233\n",
      "Order (1, 1, 3): MAE = 5.4217142808750705\n",
      "Order (1, 1, 4): MAE = 5.5447218084145815\n",
      "Order (1, 1, 5): MAE = 5.423362238837385\n",
      "Order (1, 1, 6): MAE = 5.425888518563167\n",
      "Order (2, 0, 0): MAE = 5.4218484629800265\n",
      "Order (2, 0, 1): MAE = 5.421878060515975\n",
      "Order (2, 0, 2): MAE = 5.422056572487224\n",
      "Order (2, 0, 3): MAE = 5.421663197505247\n",
      "Order (2, 0, 4): MAE = 5.423078597871956\n",
      "Order (2, 0, 5): MAE = 5.423682541218269\n",
      "Order (2, 0, 6): MAE = 5.423507814355056\n",
      "Order (2, 1, 0): MAE = 5.672953941475559\n",
      "Order (2, 1, 1): MAE = 5.421860373959532\n",
      "Order (2, 1, 2): MAE = 5.421546316249959\n",
      "Order (2, 1, 3): MAE = 5.421912893925161\n"
     ]
    },
    {
     "name": "stderr",
     "output_type": "stream",
     "text": [
      "/Users/alikhan/anaconda3/lib/python3.10/site-packages/statsmodels/base/model.py:604: ConvergenceWarning: Maximum Likelihood optimization failed to converge. Check mle_retvals\n",
      "  warnings.warn(\"Maximum Likelihood optimization failed to \"\n"
     ]
    },
    {
     "name": "stdout",
     "output_type": "stream",
     "text": [
      "Order (2, 1, 4): MAE = 5.421670078690599\n"
     ]
    },
    {
     "name": "stderr",
     "output_type": "stream",
     "text": [
      "/Users/alikhan/anaconda3/lib/python3.10/site-packages/statsmodels/base/model.py:604: ConvergenceWarning: Maximum Likelihood optimization failed to converge. Check mle_retvals\n",
      "  warnings.warn(\"Maximum Likelihood optimization failed to \"\n"
     ]
    },
    {
     "name": "stdout",
     "output_type": "stream",
     "text": [
      "Order (2, 1, 5): MAE = 5.421865015611496\n",
      "Order (2, 1, 6): MAE = 5.426870096854983\n",
      "Best Order for Stock ID 10: (0, 0, 0)\n",
      "Best MAE for Stock ID 10: 5.420923027575886\n",
      "\n",
      "Training and evaluating for Stock ID: 11\n",
      "Training Set Date Range: 0 -- 477\n",
      "Testing Set Date Range: 478 -- 480\n",
      "Order (0, 0, 0): MAE = 7.247971956099076\n",
      "Order (0, 0, 1): MAE = 7.256594433232105\n",
      "Order (0, 0, 2): MAE = 7.274425916333302\n",
      "Order (0, 0, 3): MAE = 7.277087046797796\n",
      "Order (0, 0, 4): MAE = 7.282806778239426\n",
      "Order (0, 0, 5): MAE = 7.330980010885027\n",
      "Order (0, 0, 6): MAE = 7.326594004936084\n",
      "Order (0, 1, 0): MAE = 14.792145755551513\n",
      "Order (0, 1, 1): MAE = 14.337057435574135\n",
      "Order (0, 1, 2): MAE = 14.079457267559656\n",
      "Order (0, 1, 3): MAE = 11.417575666544069\n",
      "Order (0, 1, 4): MAE = 7.378366223667193\n",
      "Order (0, 1, 5): MAE = 7.498195089429559\n",
      "Order (0, 1, 6): MAE = 7.382407529765695\n",
      "Order (1, 0, 0): MAE = 7.298462710545542\n",
      "Order (1, 0, 1): MAE = 7.298219173064129\n",
      "Order (1, 0, 2): MAE = 7.300335252831097\n",
      "Order (1, 0, 3): MAE = 7.3082921971379005\n",
      "Order (1, 0, 4): MAE = 7.332956942813587\n",
      "Order (1, 0, 5): MAE = 7.326751701679158\n"
     ]
    },
    {
     "name": "stderr",
     "output_type": "stream",
     "text": [
      "/Users/alikhan/anaconda3/lib/python3.10/site-packages/statsmodels/base/model.py:604: ConvergenceWarning: Maximum Likelihood optimization failed to converge. Check mle_retvals\n",
      "  warnings.warn(\"Maximum Likelihood optimization failed to \"\n"
     ]
    },
    {
     "name": "stdout",
     "output_type": "stream",
     "text": [
      "Order (1, 0, 6): MAE = 7.323649708086937\n",
      "Order (1, 1, 0): MAE = 14.383221892347445\n",
      "Order (1, 1, 1): MAE = 7.323111105694833\n",
      "Order (1, 1, 2): MAE = 7.320384623079186\n",
      "Order (1, 1, 3): MAE = 7.330499073604059\n",
      "Order (1, 1, 4): MAE = 7.339069618674795\n",
      "Order (1, 1, 5): MAE = 7.367339577751224\n",
      "Order (1, 1, 6): MAE = 7.382852328700397\n",
      "Order (2, 0, 0): MAE = 7.2983098583206285\n",
      "Order (2, 0, 1): MAE = 7.297008781047947\n",
      "Order (2, 0, 2): MAE = 7.319028526221522\n",
      "Order (2, 0, 3): MAE = 7.321507728823007\n",
      "Order (2, 0, 4): MAE = 7.32587566009609\n",
      "Order (2, 0, 5): MAE = 7.326666785001405\n",
      "Order (2, 0, 6): MAE = 7.32665490930125\n",
      "Order (2, 1, 0): MAE = 14.170291075901535\n",
      "Order (2, 1, 1): MAE = 7.322825732626112\n",
      "Order (2, 1, 2): MAE = 7.319096729658832\n",
      "Order (2, 1, 3): MAE = 7.317329961914801\n",
      "Order (2, 1, 4): MAE = 7.330708725449439\n",
      "Order (2, 1, 5): MAE = 7.33168230729455\n",
      "Order (2, 1, 6): MAE = 7.383005635425095\n",
      "Best Order for Stock ID 11: (0, 0, 0)\n",
      "Best MAE for Stock ID 11: 7.247971956099076\n",
      "\n",
      "Training and evaluating for Stock ID: 12\n",
      "Training Set Date Range: 0 -- 477\n",
      "Testing Set Date Range: 478 -- 480\n",
      "Order (0, 0, 0): MAE = 4.044683306602193\n",
      "Order (0, 0, 1): MAE = 4.060460780221022\n",
      "Order (0, 0, 2): MAE = 4.068741018256961\n",
      "Order (0, 0, 3): MAE = 4.080108222539089\n",
      "Order (0, 0, 4): MAE = 4.078623080193727\n",
      "Order (0, 0, 5): MAE = 4.101315770479604\n",
      "Order (0, 0, 6): MAE = 4.0953278904139285\n",
      "Order (0, 1, 0): MAE = 9.859796757454545\n",
      "Order (0, 1, 1): MAE = 9.12924726223262\n",
      "Order (0, 1, 2): MAE = 8.952353078536772\n",
      "Order (0, 1, 3): MAE = 7.524633493638877\n",
      "Order (0, 1, 4): MAE = 4.013757009231369\n",
      "Order (0, 1, 5): MAE = 4.074970768896676\n",
      "Order (0, 1, 6): MAE = 4.101276296588237\n",
      "Order (1, 0, 0): MAE = 4.121753745804065\n",
      "Order (1, 0, 1): MAE = 4.126317238016178\n",
      "Order (1, 0, 2): MAE = 4.122314647888054\n",
      "Order (1, 0, 3): MAE = 4.119840562957869\n",
      "Order (1, 0, 4): MAE = 4.10628208536341\n",
      "Order (1, 0, 5): MAE = 4.09614349887296\n",
      "Order (1, 0, 6): MAE = 4.0950041624790945\n",
      "Order (1, 1, 0): MAE = 9.280881092251565\n",
      "Order (1, 1, 1): MAE = 4.1143024263149846\n",
      "Order (1, 1, 2): MAE = 4.126346346690117\n",
      "Order (1, 1, 3): MAE = 4.12179637853676\n"
     ]
    },
    {
     "name": "stderr",
     "output_type": "stream",
     "text": [
      "/Users/alikhan/anaconda3/lib/python3.10/site-packages/statsmodels/base/model.py:604: ConvergenceWarning: Maximum Likelihood optimization failed to converge. Check mle_retvals\n",
      "  warnings.warn(\"Maximum Likelihood optimization failed to \"\n"
     ]
    },
    {
     "name": "stdout",
     "output_type": "stream",
     "text": [
      "Order (1, 1, 4): MAE = 4.42198914595357\n",
      "Order (1, 1, 5): MAE = 4.10615290315329\n"
     ]
    },
    {
     "name": "stderr",
     "output_type": "stream",
     "text": [
      "/Users/alikhan/anaconda3/lib/python3.10/site-packages/statsmodels/base/model.py:604: ConvergenceWarning: Maximum Likelihood optimization failed to converge. Check mle_retvals\n",
      "  warnings.warn(\"Maximum Likelihood optimization failed to \"\n"
     ]
    },
    {
     "name": "stdout",
     "output_type": "stream",
     "text": [
      "Order (1, 1, 6): MAE = 4.096139735596837\n",
      "Order (2, 0, 0): MAE = 4.126724295063495\n",
      "Order (2, 0, 1): MAE = 4.126042313105335\n",
      "Order (2, 0, 2): MAE = 4.1065179668963285\n",
      "Order (2, 0, 3): MAE = 4.12219134605074\n",
      "Order (2, 0, 4): MAE = 4.088327727893293\n",
      "Order (2, 0, 5): MAE = 4.09501023974891\n",
      "Order (2, 0, 6): MAE = 4.095637962964717\n",
      "Order (2, 1, 0): MAE = 9.107236415904064\n",
      "Order (2, 1, 1): MAE = 4.125210483034713\n",
      "Order (2, 1, 2): MAE = 4.119277069638099\n",
      "Order (2, 1, 3): MAE = 4.128442923312451\n"
     ]
    },
    {
     "name": "stderr",
     "output_type": "stream",
     "text": [
      "/Users/alikhan/anaconda3/lib/python3.10/site-packages/statsmodels/base/model.py:604: ConvergenceWarning: Maximum Likelihood optimization failed to converge. Check mle_retvals\n",
      "  warnings.warn(\"Maximum Likelihood optimization failed to \"\n"
     ]
    },
    {
     "name": "stdout",
     "output_type": "stream",
     "text": [
      "Order (2, 1, 4): MAE = 4.122153021484727\n"
     ]
    },
    {
     "name": "stderr",
     "output_type": "stream",
     "text": [
      "/Users/alikhan/anaconda3/lib/python3.10/site-packages/statsmodels/base/model.py:604: ConvergenceWarning: Maximum Likelihood optimization failed to converge. Check mle_retvals\n",
      "  warnings.warn(\"Maximum Likelihood optimization failed to \"\n"
     ]
    },
    {
     "name": "stdout",
     "output_type": "stream",
     "text": [
      "Order (2, 1, 5): MAE = 4.121414655965051\n"
     ]
    },
    {
     "name": "stderr",
     "output_type": "stream",
     "text": [
      "/Users/alikhan/anaconda3/lib/python3.10/site-packages/statsmodels/base/model.py:604: ConvergenceWarning: Maximum Likelihood optimization failed to converge. Check mle_retvals\n",
      "  warnings.warn(\"Maximum Likelihood optimization failed to \"\n"
     ]
    },
    {
     "name": "stdout",
     "output_type": "stream",
     "text": [
      "Order (2, 1, 6): MAE = 4.09476707027616\n",
      "Best Order for Stock ID 12: (0, 1, 4)\n",
      "Best MAE for Stock ID 12: 4.013757009231369\n",
      "\n",
      "Training and evaluating for Stock ID: 13\n",
      "Training Set Date Range: 0 -- 477\n",
      "Testing Set Date Range: 478 -- 480\n",
      "Order (0, 0, 0): MAE = 4.7149356137977385\n",
      "Order (0, 0, 1): MAE = 4.716770624653661\n",
      "Order (0, 0, 2): MAE = 4.7152161450651775\n",
      "Order (0, 0, 3): MAE = 4.7166665774037275\n",
      "Order (0, 0, 4): MAE = 4.7189102928112385\n",
      "Order (0, 0, 5): MAE = 4.72219906729463\n",
      "Order (0, 0, 6): MAE = 4.721897814428428\n",
      "Order (0, 1, 0): MAE = 5.718393778290909\n",
      "Order (0, 1, 1): MAE = 5.840144979935973\n",
      "Order (0, 1, 2): MAE = 5.896573247890479\n",
      "Order (0, 1, 3): MAE = 5.941936364837605\n",
      "Order (0, 1, 4): MAE = 5.044099399709096\n",
      "Order (0, 1, 5): MAE = 4.781213348577312\n",
      "Order (0, 1, 6): MAE = 4.722130047384477\n",
      "Order (1, 0, 0): MAE = 4.724121798219552\n",
      "Order (1, 0, 1): MAE = 4.7249988470082\n",
      "Order (1, 0, 2): MAE = 4.7231056033684595\n",
      "Order (1, 0, 3): MAE = 4.724078152895549\n",
      "Order (1, 0, 4): MAE = 4.722215407812282\n",
      "Order (1, 0, 5): MAE = 4.7219182682000636\n",
      "Order (1, 0, 6): MAE = 4.721548971804396\n",
      "Order (1, 1, 0): MAE = 5.79525819826817\n",
      "Order (1, 1, 1): MAE = 4.7234259184403005\n",
      "Order (1, 1, 2): MAE = 5.923467516421713\n",
      "Order (1, 1, 3): MAE = 4.7229685277324\n",
      "Order (1, 1, 4): MAE = 5.111811971414831\n",
      "Order (1, 1, 5): MAE = 4.72213388288471\n",
      "Order (1, 1, 6): MAE = 4.7218559114453615\n",
      "Order (2, 0, 0): MAE = 4.7251030837155685\n",
      "Order (2, 0, 1): MAE = 4.724849109834618\n",
      "Order (2, 0, 2): MAE = 4.720476199271451\n",
      "Order (2, 0, 3): MAE = 4.721516629552136\n",
      "Order (2, 0, 4): MAE = 4.72045118326321\n",
      "Order (2, 0, 5): MAE = 4.721908972568782\n",
      "Order (2, 0, 6): MAE = 4.721930583470545\n",
      "Order (2, 1, 0): MAE = 5.868731730302768\n",
      "Order (2, 1, 1): MAE = 4.724988768053839\n",
      "Order (2, 1, 2): MAE = 4.722973912664464\n",
      "Order (2, 1, 3): MAE = 4.7263101060080235\n"
     ]
    },
    {
     "name": "stderr",
     "output_type": "stream",
     "text": [
      "/Users/alikhan/anaconda3/lib/python3.10/site-packages/statsmodels/base/model.py:604: ConvergenceWarning: Maximum Likelihood optimization failed to converge. Check mle_retvals\n",
      "  warnings.warn(\"Maximum Likelihood optimization failed to \"\n"
     ]
    },
    {
     "name": "stdout",
     "output_type": "stream",
     "text": [
      "Order (2, 1, 4): MAE = 4.723377759831655\n"
     ]
    },
    {
     "name": "stderr",
     "output_type": "stream",
     "text": [
      "/Users/alikhan/anaconda3/lib/python3.10/site-packages/statsmodels/base/model.py:604: ConvergenceWarning: Maximum Likelihood optimization failed to converge. Check mle_retvals\n",
      "  warnings.warn(\"Maximum Likelihood optimization failed to \"\n"
     ]
    },
    {
     "name": "stdout",
     "output_type": "stream",
     "text": [
      "Order (2, 1, 5): MAE = 4.723594410426878\n"
     ]
    },
    {
     "name": "stderr",
     "output_type": "stream",
     "text": [
      "/Users/alikhan/anaconda3/lib/python3.10/site-packages/statsmodels/base/model.py:604: ConvergenceWarning: Maximum Likelihood optimization failed to converge. Check mle_retvals\n",
      "  warnings.warn(\"Maximum Likelihood optimization failed to \"\n"
     ]
    },
    {
     "name": "stdout",
     "output_type": "stream",
     "text": [
      "Order (2, 1, 6): MAE = 4.721844722591955\n",
      "Best Order for Stock ID 13: (0, 0, 0)\n",
      "Best MAE for Stock ID 13: 4.7149356137977385\n",
      "\n",
      "Training and evaluating for Stock ID: 14\n",
      "Training Set Date Range: 0 -- 477\n",
      "Testing Set Date Range: 478 -- 480\n",
      "Order (0, 0, 0): MAE = 3.6282943906755696\n",
      "Order (0, 0, 1): MAE = 3.629972268582048\n",
      "Order (0, 0, 2): MAE = 3.6467793309080654\n",
      "Order (0, 0, 3): MAE = 3.637911446327603\n",
      "Order (0, 0, 4): MAE = 3.642148532954031\n",
      "Order (0, 0, 5): MAE = 3.663738086169107\n",
      "Order (0, 0, 6): MAE = 3.6580791061277513\n",
      "Order (0, 1, 0): MAE = 6.2930510258424235\n",
      "Order (0, 1, 1): MAE = 5.526367687909507\n",
      "Order (0, 1, 2): MAE = 5.416282474033031\n",
      "Order (0, 1, 3): MAE = 4.656528206829079\n",
      "Order (0, 1, 4): MAE = 3.62362201239621\n",
      "Order (0, 1, 5): MAE = 3.650440982431494\n",
      "Order (0, 1, 6): MAE = 3.6331546040206937\n",
      "Order (1, 0, 0): MAE = 3.6437469736224277\n",
      "Order (1, 0, 1): MAE = 3.644172079650426\n",
      "Order (1, 0, 2): MAE = 3.645063899855687\n",
      "Order (1, 0, 3): MAE = 3.6411605621625585\n",
      "Order (1, 0, 4): MAE = 3.657641775010355\n",
      "Order (1, 0, 5): MAE = 3.6591672096170105\n",
      "Order (1, 0, 6): MAE = 3.657626608607306\n",
      "Order (1, 1, 0): MAE = 5.740883749537044\n",
      "Order (1, 1, 1): MAE = 3.6174919840750768\n",
      "Order (1, 1, 2): MAE = 5.181646265997004\n",
      "Order (1, 1, 3): MAE = 3.6116165870741392\n",
      "Order (1, 1, 4): MAE = 3.6271149493702324\n",
      "Order (1, 1, 5): MAE = 3.629717965405128\n",
      "Order (1, 1, 6): MAE = 3.6472670229155395\n",
      "Order (2, 0, 0): MAE = 3.644369109640067\n",
      "Order (2, 0, 1): MAE = 3.6448103187833305\n",
      "Order (2, 0, 2): MAE = 3.644684968042757\n",
      "Order (2, 0, 3): MAE = 3.640615842438293\n",
      "Order (2, 0, 4): MAE = 3.6565876870346963\n",
      "Order (2, 0, 5): MAE = 3.6580222074477633\n"
     ]
    },
    {
     "name": "stderr",
     "output_type": "stream",
     "text": [
      "/Users/alikhan/anaconda3/lib/python3.10/site-packages/statsmodels/base/model.py:604: ConvergenceWarning: Maximum Likelihood optimization failed to converge. Check mle_retvals\n",
      "  warnings.warn(\"Maximum Likelihood optimization failed to \"\n"
     ]
    },
    {
     "name": "stdout",
     "output_type": "stream",
     "text": [
      "Order (2, 0, 6): MAE = 3.6567821377103096\n",
      "Order (2, 1, 0): MAE = 5.506847313895853\n",
      "Order (2, 1, 1): MAE = 3.6086533716466804\n",
      "Order (2, 1, 2): MAE = 3.616712400018646\n",
      "Order (2, 1, 3): MAE = 3.621495300897377\n",
      "Order (2, 1, 4): MAE = 3.6069956840166686\n",
      "Order (2, 1, 5): MAE = 3.605361264949083\n",
      "Order (2, 1, 6): MAE = 3.6512291024349364\n",
      "Best Order for Stock ID 14: (2, 1, 5)\n",
      "Best MAE for Stock ID 14: 3.605361264949083\n",
      "\n",
      "Training and evaluating for Stock ID: 15\n",
      "Training Set Date Range: 0 -- 477\n",
      "Testing Set Date Range: 478 -- 480\n",
      "Order (0, 0, 0): MAE = 5.1429376533886915\n",
      "Order (0, 0, 1): MAE = 5.143624382332522\n",
      "Order (0, 0, 2): MAE = 5.148102367675416\n",
      "Order (0, 0, 3): MAE = 5.1471907179537855\n",
      "Order (0, 0, 4): MAE = 5.144408323674299\n",
      "Order (0, 0, 5): MAE = 5.146291439799634\n",
      "Order (0, 0, 6): MAE = 5.1461309854499016\n",
      "Order (0, 1, 0): MAE = 5.5374918540424245\n",
      "Order (0, 1, 1): MAE = 5.408677238562508\n",
      "Order (0, 1, 2): MAE = 5.340022235741152\n",
      "Order (0, 1, 3): MAE = 5.375976567570792\n",
      "Order (0, 1, 4): MAE = 5.147226745426536\n",
      "Order (0, 1, 5): MAE = 5.144627419898515\n",
      "Order (0, 1, 6): MAE = 5.14662205049644\n",
      "Order (1, 0, 0): MAE = 5.145996097782829\n",
      "Order (1, 0, 1): MAE = 5.146253600626881\n",
      "Order (1, 0, 2): MAE = 5.146373119396357\n",
      "Order (1, 0, 3): MAE = 5.144152914073715\n",
      "Order (1, 0, 4): MAE = 5.144586754343422\n",
      "Order (1, 0, 5): MAE = 5.146150249965173\n",
      "Order (1, 0, 6): MAE = 5.146168297574792\n",
      "Order (1, 1, 0): MAE = 5.437618600693114\n",
      "Order (1, 1, 1): MAE = 5.146053232321986\n",
      "Order (1, 1, 2): MAE = 5.146423605814233\n",
      "Order (1, 1, 3): MAE = 5.146587340550774\n",
      "Order (1, 1, 4): MAE = 5.149055000056515\n",
      "Order (1, 1, 5): MAE = 5.144733280487397\n",
      "Order (1, 1, 6): MAE = 5.146539018662815\n",
      "Order (2, 0, 0): MAE = 5.146281208435389\n",
      "Order (2, 0, 1): MAE = 5.145742771193749\n",
      "Order (2, 0, 2): MAE = 5.145774017120681\n",
      "Order (2, 0, 3): MAE = 5.144418920652233\n",
      "Order (2, 0, 4): MAE = 5.145384958808701\n",
      "Order (2, 0, 5): MAE = 5.146311351657829\n"
     ]
    },
    {
     "name": "stderr",
     "output_type": "stream",
     "text": [
      "/Users/alikhan/anaconda3/lib/python3.10/site-packages/statsmodels/base/model.py:604: ConvergenceWarning: Maximum Likelihood optimization failed to converge. Check mle_retvals\n",
      "  warnings.warn(\"Maximum Likelihood optimization failed to \"\n"
     ]
    },
    {
     "name": "stdout",
     "output_type": "stream",
     "text": [
      "Order (2, 0, 6): MAE = 5.146315099053308\n",
      "Order (2, 1, 0): MAE = 5.341297750864375\n",
      "Order (2, 1, 1): MAE = 5.146468295125924\n",
      "Order (2, 1, 2): MAE = 5.1460178068257685\n",
      "Order (2, 1, 3): MAE = 5.145871510907649\n",
      "Order (2, 1, 4): MAE = 5.146260322642175\n",
      "Order (2, 1, 5): MAE = 5.145873115454916\n",
      "Order (2, 1, 6): MAE = 5.146702260290121\n",
      "Best Order for Stock ID 15: (0, 0, 0)\n",
      "Best MAE for Stock ID 15: 5.1429376533886915\n",
      "\n",
      "Training and evaluating for Stock ID: 16\n",
      "Training Set Date Range: 0 -- 477\n",
      "Testing Set Date Range: 478 -- 480\n",
      "Order (0, 0, 0): MAE = 5.6629885867673595\n",
      "Order (0, 0, 1): MAE = 5.663738648121248\n",
      "Order (0, 0, 2): MAE = 5.672659035604707\n",
      "Order (0, 0, 3): MAE = 5.670613392568129\n",
      "Order (0, 0, 4): MAE = 5.676326951226531\n",
      "Order (0, 0, 5): MAE = 5.700707684615099\n",
      "Order (0, 0, 6): MAE = 5.690058461376169\n",
      "Order (0, 1, 0): MAE = 8.188872597963636\n",
      "Order (0, 1, 1): MAE = 6.979803046422121\n",
      "Order (0, 1, 2): MAE = 6.354916537872241\n",
      "Order (0, 1, 3): MAE = 5.695966534311351\n",
      "Order (0, 1, 4): MAE = 5.6825372404132715\n",
      "Order (0, 1, 5): MAE = 5.676275203988562\n",
      "Order (0, 1, 6): MAE = 5.700646110125683\n",
      "Order (1, 0, 0): MAE = 5.671695662278676\n",
      "Order (1, 0, 1): MAE = 5.671787474305059\n",
      "Order (1, 0, 2): MAE = 5.673849425315782\n",
      "Order (1, 0, 3): MAE = 5.6781242372463625\n",
      "Order (1, 0, 4): MAE = 5.691540728623839\n",
      "Order (1, 0, 5): MAE = 5.694243450542185\n",
      "Order (1, 0, 6): MAE = 5.6898953610186815\n",
      "Order (1, 1, 0): MAE = 7.619551792094855\n",
      "Order (1, 1, 1): MAE = 5.671460603234185\n",
      "Order (1, 1, 2): MAE = 5.671254012895058\n",
      "Order (1, 1, 3): MAE = 5.673643885692561\n",
      "Order (1, 1, 4): MAE = 5.68819665987017\n",
      "Order (1, 1, 5): MAE = 5.667386373082042\n"
     ]
    },
    {
     "name": "stderr",
     "output_type": "stream",
     "text": [
      "/Users/alikhan/anaconda3/lib/python3.10/site-packages/statsmodels/base/model.py:604: ConvergenceWarning: Maximum Likelihood optimization failed to converge. Check mle_retvals\n",
      "  warnings.warn(\"Maximum Likelihood optimization failed to \"\n"
     ]
    },
    {
     "name": "stdout",
     "output_type": "stream",
     "text": [
      "Order (1, 1, 6): MAE = 5.694223011657063\n",
      "Order (2, 0, 0): MAE = 5.672123050407721\n",
      "Order (2, 0, 1): MAE = 5.67265113957554\n",
      "Order (2, 0, 2): MAE = 5.69144619959149\n",
      "Order (2, 0, 3): MAE = 5.673256345326899\n",
      "Order (2, 0, 4): MAE = 5.691200047567245\n",
      "Order (2, 0, 5): MAE = 5.690276729158197\n",
      "Order (2, 0, 6): MAE = 5.691852768374892\n",
      "Order (2, 1, 0): MAE = 6.985448518824981\n",
      "Order (2, 1, 1): MAE = 5.671983281512113\n",
      "Order (2, 1, 2): MAE = 5.669797311434675\n",
      "Order (2, 1, 3): MAE = 5.6691082864531905\n"
     ]
    },
    {
     "name": "stderr",
     "output_type": "stream",
     "text": [
      "/Users/alikhan/anaconda3/lib/python3.10/site-packages/statsmodels/base/model.py:604: ConvergenceWarning: Maximum Likelihood optimization failed to converge. Check mle_retvals\n",
      "  warnings.warn(\"Maximum Likelihood optimization failed to \"\n"
     ]
    },
    {
     "name": "stdout",
     "output_type": "stream",
     "text": [
      "Order (2, 1, 4): MAE = 5.671375428396329\n"
     ]
    },
    {
     "name": "stderr",
     "output_type": "stream",
     "text": [
      "/Users/alikhan/anaconda3/lib/python3.10/site-packages/statsmodels/base/model.py:604: ConvergenceWarning: Maximum Likelihood optimization failed to converge. Check mle_retvals\n",
      "  warnings.warn(\"Maximum Likelihood optimization failed to \"\n"
     ]
    },
    {
     "name": "stdout",
     "output_type": "stream",
     "text": [
      "Order (2, 1, 5): MAE = 5.675262535174376\n"
     ]
    },
    {
     "name": "stderr",
     "output_type": "stream",
     "text": [
      "/Users/alikhan/anaconda3/lib/python3.10/site-packages/statsmodels/base/model.py:604: ConvergenceWarning: Maximum Likelihood optimization failed to converge. Check mle_retvals\n",
      "  warnings.warn(\"Maximum Likelihood optimization failed to \"\n"
     ]
    },
    {
     "name": "stdout",
     "output_type": "stream",
     "text": [
      "Order (2, 1, 6): MAE = 5.690023265111377\n",
      "Best Order for Stock ID 16: (0, 0, 0)\n",
      "Best MAE for Stock ID 16: 5.6629885867673595\n",
      "\n",
      "Training and evaluating for Stock ID: 17\n",
      "Training Set Date Range: 0 -- 477\n",
      "Testing Set Date Range: 478 -- 480\n",
      "Order (0, 0, 0): MAE = 4.731260328407737\n",
      "Order (0, 0, 1): MAE = 4.731918447388966\n",
      "Order (0, 0, 2): MAE = 4.742877734529775\n",
      "Order (0, 0, 3): MAE = 4.738341795532742\n",
      "Order (0, 0, 4): MAE = 4.752119094927498\n",
      "Order (0, 0, 5): MAE = 4.765155166969371\n",
      "Order (0, 0, 6): MAE = 4.75827206695973\n",
      "Order (0, 1, 0): MAE = 7.529619931878788\n",
      "Order (0, 1, 1): MAE = 7.374417731556598\n",
      "Order (0, 1, 2): MAE = 7.079252338033221\n",
      "Order (0, 1, 3): MAE = 4.7982888147221825\n",
      "Order (0, 1, 4): MAE = 4.733707248662208\n",
      "Order (0, 1, 5): MAE = 4.7483622955469365\n",
      "Order (0, 1, 6): MAE = 4.765177028048123\n",
      "Order (1, 0, 0): MAE = 4.7515329593174895\n",
      "Order (1, 0, 1): MAE = 4.755077146078012\n",
      "Order (1, 0, 2): MAE = 4.755049785899103\n",
      "Order (1, 0, 3): MAE = 4.75644735429376\n",
      "Order (1, 0, 4): MAE = 4.771902454061712\n",
      "Order (1, 0, 5): MAE = 4.760328987420061\n",
      "Order (1, 0, 6): MAE = 4.757247710984319\n",
      "Order (1, 1, 0): MAE = 7.5641342800227065\n",
      "Order (1, 1, 1): MAE = 4.751486940107732\n",
      "Order (1, 1, 2): MAE = 4.754675510460718\n",
      "Order (1, 1, 3): MAE = 4.754978067498772\n",
      "Order (1, 1, 4): MAE = 4.734313830072069\n",
      "Order (1, 1, 5): MAE = 4.771865746962036\n",
      "Order (1, 1, 6): MAE = 4.760281497405012\n",
      "Order (2, 0, 0): MAE = 4.755508629733508\n",
      "Order (2, 0, 1): MAE = 4.755541148568593\n",
      "Order (2, 0, 2): MAE = 4.757206348357038\n",
      "Order (2, 0, 3): MAE = 4.751156046260133\n",
      "Order (2, 0, 4): MAE = 4.761009566013027\n",
      "Order (2, 0, 5): MAE = 4.758385570996494\n",
      "Order (2, 0, 6): MAE = 4.757426489827778\n",
      "Order (2, 1, 0): MAE = 7.3373089330905215\n",
      "Order (2, 1, 1): MAE = 4.755447642990294\n",
      "Order (2, 1, 2): MAE = 4.747176774804504\n"
     ]
    },
    {
     "name": "stderr",
     "output_type": "stream",
     "text": [
      "/Users/alikhan/anaconda3/lib/python3.10/site-packages/statsmodels/base/model.py:604: ConvergenceWarning: Maximum Likelihood optimization failed to converge. Check mle_retvals\n",
      "  warnings.warn(\"Maximum Likelihood optimization failed to \"\n"
     ]
    },
    {
     "name": "stdout",
     "output_type": "stream",
     "text": [
      "Order (2, 1, 3): MAE = 4.751572105497924\n"
     ]
    },
    {
     "name": "stderr",
     "output_type": "stream",
     "text": [
      "/Users/alikhan/anaconda3/lib/python3.10/site-packages/statsmodels/base/model.py:604: ConvergenceWarning: Maximum Likelihood optimization failed to converge. Check mle_retvals\n",
      "  warnings.warn(\"Maximum Likelihood optimization failed to \"\n"
     ]
    },
    {
     "name": "stdout",
     "output_type": "stream",
     "text": [
      "Order (2, 1, 4): MAE = 4.750954514683265\n"
     ]
    },
    {
     "name": "stderr",
     "output_type": "stream",
     "text": [
      "/Users/alikhan/anaconda3/lib/python3.10/site-packages/statsmodels/base/model.py:604: ConvergenceWarning: Maximum Likelihood optimization failed to converge. Check mle_retvals\n",
      "  warnings.warn(\"Maximum Likelihood optimization failed to \"\n"
     ]
    },
    {
     "name": "stdout",
     "output_type": "stream",
     "text": [
      "Order (2, 1, 5): MAE = 4.757512395292097\n"
     ]
    },
    {
     "name": "stderr",
     "output_type": "stream",
     "text": [
      "/Users/alikhan/anaconda3/lib/python3.10/site-packages/statsmodels/base/model.py:604: ConvergenceWarning: Maximum Likelihood optimization failed to converge. Check mle_retvals\n",
      "  warnings.warn(\"Maximum Likelihood optimization failed to \"\n"
     ]
    },
    {
     "name": "stdout",
     "output_type": "stream",
     "text": [
      "Order (2, 1, 6): MAE = 4.758104179396815\n",
      "Best Order for Stock ID 17: (0, 0, 0)\n",
      "Best MAE for Stock ID 17: 4.731260328407737\n",
      "\n",
      "Training and evaluating for Stock ID: 18\n",
      "Training Set Date Range: 0 -- 477\n",
      "Testing Set Date Range: 478 -- 480\n",
      "Order (0, 0, 0): MAE = 6.022206862504062\n",
      "Order (0, 0, 1): MAE = 6.028084317504545\n",
      "Order (0, 0, 2): MAE = 6.048326368429194\n",
      "Order (0, 0, 3): MAE = 6.044985318401003\n",
      "Order (0, 0, 4): MAE = 6.053883693235573\n",
      "Order (0, 0, 5): MAE = 6.095683195422271\n",
      "Order (0, 0, 6): MAE = 6.09531103229401\n",
      "Order (0, 1, 0): MAE = 11.634432862218182\n",
      "Order (0, 1, 1): MAE = 11.58775934768503\n",
      "Order (0, 1, 2): MAE = 11.447956740457357\n",
      "Order (0, 1, 3): MAE = 10.472851758965016\n",
      "Order (0, 1, 4): MAE = 6.17238923914378\n",
      "Order (0, 1, 5): MAE = 6.177909090616596\n",
      "Order (0, 1, 6): MAE = 6.166457814263947\n",
      "Order (1, 0, 0): MAE = 6.101129321250161\n",
      "Order (1, 0, 1): MAE = 6.091558229678301\n",
      "Order (1, 0, 2): MAE = 6.086934526573134\n",
      "Order (1, 0, 3): MAE = 6.084303145368335\n",
      "Order (1, 0, 4): MAE = 6.099569805988779\n",
      "Order (1, 0, 5): MAE = 6.095341358725668\n"
     ]
    },
    {
     "name": "stderr",
     "output_type": "stream",
     "text": [
      "/Users/alikhan/anaconda3/lib/python3.10/site-packages/statsmodels/base/model.py:604: ConvergenceWarning: Maximum Likelihood optimization failed to converge. Check mle_retvals\n",
      "  warnings.warn(\"Maximum Likelihood optimization failed to \"\n"
     ]
    },
    {
     "name": "stdout",
     "output_type": "stream",
     "text": [
      "Order (1, 0, 6): MAE = 6.092615637224306\n",
      "Order (1, 1, 0): MAE = 11.594846961862473\n",
      "Order (1, 1, 1): MAE = 6.125301943983749\n",
      "Order (1, 1, 2): MAE = 6.128486039128381\n",
      "Order (1, 1, 3): MAE = 6.133230179343368\n",
      "Order (1, 1, 4): MAE = 6.132067932319766\n",
      "Order (1, 1, 5): MAE = 6.149128170408232\n",
      "Order (1, 1, 6): MAE = 6.167395313040847\n",
      "Order (2, 0, 0): MAE = 6.089200568034981\n",
      "Order (2, 0, 1): MAE = 6.094347298389187\n",
      "Order (2, 0, 2): MAE = 6.074606027918204\n",
      "Order (2, 0, 3): MAE = 6.0761939458442225\n",
      "Order (2, 0, 4): MAE = 6.087657648397256\n",
      "Order (2, 0, 5): MAE = 6.0939847364099515\n",
      "Order (2, 0, 6): MAE = 6.095051583721783\n",
      "Order (2, 1, 0): MAE = 11.487148161627685\n",
      "Order (2, 1, 1): MAE = 6.13146443562326\n",
      "Order (2, 1, 2): MAE = 6.133246667901958\n",
      "Order (2, 1, 3): MAE = 6.124198243120944\n",
      "Order (2, 1, 4): MAE = 6.1313078245844075\n",
      "Order (2, 1, 5): MAE = 6.171256152505753\n",
      "Order (2, 1, 6): MAE = 6.169087510123504\n",
      "Best Order for Stock ID 18: (0, 0, 0)\n",
      "Best MAE for Stock ID 18: 6.022206862504062\n",
      "\n",
      "Training and evaluating for Stock ID: 19\n",
      "Training Set Date Range: 0 -- 477\n",
      "Testing Set Date Range: 478 -- 480\n",
      "Order (0, 0, 0): MAE = 7.758741745490909\n",
      "Order (0, 0, 1): MAE = 7.761350639513123\n",
      "Order (0, 0, 2): MAE = 7.7616276110510265\n",
      "Order (0, 0, 3): MAE = 7.762709066777657\n",
      "Order (0, 0, 4): MAE = 7.76180646717641\n",
      "Order (0, 0, 5): MAE = 7.764768175406593\n",
      "Order (0, 0, 6): MAE = 7.764315256686418\n",
      "Order (0, 1, 0): MAE = 8.787122674448485\n",
      "Order (0, 1, 1): MAE = 8.548148647672903\n",
      "Order (0, 1, 2): MAE = 8.524225005164402\n",
      "Order (0, 1, 3): MAE = 7.791598690210672\n",
      "Order (0, 1, 4): MAE = 7.786481897037235\n",
      "Order (0, 1, 5): MAE = 7.775076530316072\n",
      "Order (0, 1, 6): MAE = 7.763896516996916\n",
      "Order (1, 0, 0): MAE = 7.76597472826956\n",
      "Order (1, 0, 1): MAE = 7.76609011041329\n",
      "Order (1, 0, 2): MAE = 7.765523434866905\n",
      "Order (1, 0, 3): MAE = 7.765107295819607\n",
      "Order (1, 0, 4): MAE = 7.764688840012173\n",
      "Order (1, 0, 5): MAE = 7.764405205333321\n",
      "Order (1, 0, 6): MAE = 7.764109966336428\n",
      "Order (1, 1, 0): MAE = 8.578333918738828\n",
      "Order (1, 1, 1): MAE = 7.766610112279569\n",
      "Order (1, 1, 2): MAE = 7.7656824270134\n",
      "Order (1, 1, 3): MAE = 7.766385603337239\n",
      "Order (1, 1, 4): MAE = 7.788970927144769\n",
      "Order (1, 1, 5): MAE = 7.7646944028714415\n",
      "Order (1, 1, 6): MAE = 7.766167584933986\n",
      "Order (2, 0, 0): MAE = 7.766088561746728\n",
      "Order (2, 0, 1): MAE = 7.765983015134458\n",
      "Order (2, 0, 2): MAE = 7.764473745699095\n",
      "Order (2, 0, 3): MAE = 7.764902383871284\n",
      "Order (2, 0, 4): MAE = 7.763374510014231\n",
      "Order (2, 0, 5): MAE = 7.764377892097014\n",
      "Order (2, 0, 6): MAE = 7.7640414025530395\n",
      "Order (2, 1, 0): MAE = 8.560777139841587\n",
      "Order (2, 1, 1): MAE = 7.765580539710972\n",
      "Order (2, 1, 2): MAE = 7.766900977948846\n",
      "Order (2, 1, 3): MAE = 7.765098124465049\n",
      "Order (2, 1, 4): MAE = 7.7656100342168175\n",
      "Order (2, 1, 5): MAE = 7.765303735923061\n",
      "Order (2, 1, 6): MAE = 7.767458309161049\n",
      "Best Order for Stock ID 19: (0, 0, 0)\n",
      "Best MAE for Stock ID 19: 7.758741745490909\n",
      "\n",
      "Training and evaluating for Stock ID: 20\n",
      "Training Set Date Range: 0 -- 477\n",
      "Testing Set Date Range: 478 -- 480\n",
      "Order (0, 0, 0): MAE = 5.491939454996758\n",
      "Order (0, 0, 1): MAE = 5.497189678220226\n",
      "Order (0, 0, 2): MAE = 5.499794992206542\n",
      "Order (0, 0, 3): MAE = 5.503834050683951\n",
      "Order (0, 0, 4): MAE = 5.512207626031311\n",
      "Order (0, 0, 5): MAE = 5.537408901510801\n",
      "Order (0, 0, 6): MAE = 5.530021321318092\n",
      "Order (0, 1, 0): MAE = 8.02067915169697\n",
      "Order (0, 1, 1): MAE = 7.51629658982332\n",
      "Order (0, 1, 2): MAE = 7.249545548279054\n",
      "Order (0, 1, 3): MAE = 5.477772596994532\n",
      "Order (0, 1, 4): MAE = 5.503862265195123\n",
      "Order (0, 1, 5): MAE = 5.51226917389984\n",
      "Order (0, 1, 6): MAE = 5.53755862816223\n",
      "Order (1, 0, 0): MAE = 5.516566106219004\n",
      "Order (1, 0, 1): MAE = 5.518348099066979\n",
      "Order (1, 0, 2): MAE = 5.517868414894966\n",
      "Order (1, 0, 3): MAE = 5.52659200321201\n",
      "Order (1, 0, 4): MAE = 5.530279138648455\n",
      "Order (1, 0, 5): MAE = 5.532261155624575\n",
      "Order (1, 0, 6): MAE = 5.527872831853203\n",
      "Order (1, 1, 0): MAE = 7.698283536537642\n",
      "Order (1, 1, 1): MAE = 5.516235483794948\n",
      "Order (1, 1, 2): MAE = 5.518324333337959\n",
      "Order (1, 1, 3): MAE = 5.517822707597476\n",
      "Order (1, 1, 4): MAE = 5.501711913446951\n",
      "Order (1, 1, 5): MAE = 5.530399981116823\n"
     ]
    },
    {
     "name": "stderr",
     "output_type": "stream",
     "text": [
      "/Users/alikhan/anaconda3/lib/python3.10/site-packages/statsmodels/base/model.py:604: ConvergenceWarning: Maximum Likelihood optimization failed to converge. Check mle_retvals\n",
      "  warnings.warn(\"Maximum Likelihood optimization failed to \"\n"
     ]
    },
    {
     "name": "stdout",
     "output_type": "stream",
     "text": [
      "Order (1, 1, 6): MAE = 5.53237096825718\n",
      "Order (2, 0, 0): MAE = 5.51855195495114\n",
      "Order (2, 0, 1): MAE = 5.518450008176681\n",
      "Order (2, 0, 2): MAE = 5.520867803176226\n",
      "Order (2, 0, 3): MAE = 5.519435291577147\n",
      "Order (2, 0, 4): MAE = 5.520067387379924\n",
      "Order (2, 0, 5): MAE = 5.530233468575006\n",
      "Order (2, 0, 6): MAE = 5.528407534258251\n",
      "Order (2, 1, 0): MAE = 7.5183155748069455\n",
      "Order (2, 1, 1): MAE = 5.5186294136634455\n",
      "Order (2, 1, 2): MAE = 5.516142548120654\n"
     ]
    },
    {
     "name": "stderr",
     "output_type": "stream",
     "text": [
      "/Users/alikhan/anaconda3/lib/python3.10/site-packages/statsmodels/base/model.py:604: ConvergenceWarning: Maximum Likelihood optimization failed to converge. Check mle_retvals\n",
      "  warnings.warn(\"Maximum Likelihood optimization failed to \"\n"
     ]
    },
    {
     "name": "stdout",
     "output_type": "stream",
     "text": [
      "Order (2, 1, 3): MAE = 5.519419210626269\n",
      "Order (2, 1, 4): MAE = 5.519372047228924\n"
     ]
    },
    {
     "name": "stderr",
     "output_type": "stream",
     "text": [
      "/Users/alikhan/anaconda3/lib/python3.10/site-packages/statsmodels/base/model.py:604: ConvergenceWarning: Maximum Likelihood optimization failed to converge. Check mle_retvals\n",
      "  warnings.warn(\"Maximum Likelihood optimization failed to \"\n"
     ]
    },
    {
     "name": "stdout",
     "output_type": "stream",
     "text": [
      "Order (2, 1, 5): MAE = 5.522086962018368\n"
     ]
    },
    {
     "name": "stderr",
     "output_type": "stream",
     "text": [
      "/Users/alikhan/anaconda3/lib/python3.10/site-packages/statsmodels/base/model.py:604: ConvergenceWarning: Maximum Likelihood optimization failed to converge. Check mle_retvals\n",
      "  warnings.warn(\"Maximum Likelihood optimization failed to \"\n"
     ]
    },
    {
     "name": "stdout",
     "output_type": "stream",
     "text": [
      "Order (2, 1, 6): MAE = 5.530341927011667\n",
      "Best Order for Stock ID 20: (0, 1, 3)\n",
      "Best MAE for Stock ID 20: 5.477772596994532\n",
      "\n",
      "Training and evaluating for Stock ID: 21\n",
      "Training Set Date Range: 0 -- 477\n",
      "Testing Set Date Range: 478 -- 480\n",
      "Order (0, 0, 0): MAE = 3.998242697744026\n",
      "Order (0, 0, 1): MAE = 4.0109344570908245\n",
      "Order (0, 0, 2): MAE = 4.0349098560536\n",
      "Order (0, 0, 3): MAE = 4.044375873607715\n",
      "Order (0, 0, 4): MAE = 4.068985018601605\n",
      "Order (0, 0, 5): MAE = 4.0696486050568215\n",
      "Order (0, 0, 6): MAE = 4.068133117203577\n",
      "Order (0, 1, 0): MAE = 15.41996360829091\n",
      "Order (0, 1, 1): MAE = 15.636826581596935\n",
      "Order (0, 1, 2): MAE = 15.600580305794804\n",
      "Order (0, 1, 3): MAE = 12.631725105351293\n",
      "Order (0, 1, 4): MAE = 3.941397480908724\n",
      "Order (0, 1, 5): MAE = 3.986506390403675\n",
      "Order (0, 1, 6): MAE = 4.069984114957589\n",
      "Order (1, 0, 0): MAE = 4.1706778247006016\n",
      "Order (1, 0, 1): MAE = 4.15807921180304\n",
      "Order (1, 0, 2): MAE = 4.143069384372727\n",
      "Order (1, 0, 3): MAE = 4.134382166648035\n",
      "Order (1, 0, 4): MAE = 4.119845610040687\n",
      "Order (1, 0, 5): MAE = 4.068623788582266\n",
      "Order (1, 0, 6): MAE = 4.061953312687641\n",
      "Order (1, 1, 0): MAE = 15.620563783695852\n",
      "Order (1, 1, 1): MAE = 4.170839816503065\n",
      "Order (1, 1, 2): MAE = 4.1584402152439015\n",
      "Order (1, 1, 3): MAE = 4.143487540092131\n",
      "Order (1, 1, 4): MAE = 3.9133645778848947\n",
      "Order (1, 1, 5): MAE = 4.12025825586057\n",
      "Order (1, 1, 6): MAE = 4.068848052804245\n",
      "Order (2, 0, 0): MAE = 4.155580777999119\n",
      "Order (2, 0, 1): MAE = 4.151514736473625\n",
      "Order (2, 0, 2): MAE = 4.090515603017937\n",
      "Order (2, 0, 3): MAE = 4.062753562555137\n",
      "Order (2, 0, 4): MAE = 4.068523923738619\n",
      "Order (2, 0, 5): MAE = 4.066375894515676\n",
      "Order (2, 0, 6): MAE = 4.056132499955883\n",
      "Order (2, 1, 0): MAE = 15.620391223369401\n",
      "Order (2, 1, 1): MAE = 4.156038811952199\n",
      "Order (2, 1, 2): MAE = 4.148735437596755\n"
     ]
    },
    {
     "name": "stderr",
     "output_type": "stream",
     "text": [
      "/Users/alikhan/anaconda3/lib/python3.10/site-packages/statsmodels/base/model.py:604: ConvergenceWarning: Maximum Likelihood optimization failed to converge. Check mle_retvals\n",
      "  warnings.warn(\"Maximum Likelihood optimization failed to \"\n"
     ]
    },
    {
     "name": "stdout",
     "output_type": "stream",
     "text": [
      "Order (2, 1, 3): MAE = 4.157604590507685\n",
      "Order (2, 1, 4): MAE = 4.131054888710733\n"
     ]
    },
    {
     "name": "stderr",
     "output_type": "stream",
     "text": [
      "/Users/alikhan/anaconda3/lib/python3.10/site-packages/statsmodels/base/model.py:604: ConvergenceWarning: Maximum Likelihood optimization failed to converge. Check mle_retvals\n",
      "  warnings.warn(\"Maximum Likelihood optimization failed to \"\n"
     ]
    },
    {
     "name": "stdout",
     "output_type": "stream",
     "text": [
      "Order (2, 1, 5): MAE = 4.130963327494159\n"
     ]
    },
    {
     "name": "stderr",
     "output_type": "stream",
     "text": [
      "/Users/alikhan/anaconda3/lib/python3.10/site-packages/statsmodels/base/model.py:604: ConvergenceWarning: Maximum Likelihood optimization failed to converge. Check mle_retvals\n",
      "  warnings.warn(\"Maximum Likelihood optimization failed to \"\n"
     ]
    },
    {
     "name": "stdout",
     "output_type": "stream",
     "text": [
      "Order (2, 1, 6): MAE = 4.066507184585787\n",
      "Best Order for Stock ID 21: (1, 1, 4)\n",
      "Best MAE for Stock ID 21: 3.9133645778848947\n",
      "\n",
      "Training and evaluating for Stock ID: 22\n",
      "Training Set Date Range: 0 -- 477\n",
      "Testing Set Date Range: 478 -- 480\n",
      "Order (0, 0, 0): MAE = 4.7273908664148365\n",
      "Order (0, 0, 1): MAE = 4.727109830218605\n",
      "Order (0, 0, 2): MAE = 4.730255789429713\n",
      "Order (0, 0, 3): MAE = 4.727949508510244\n",
      "Order (0, 0, 4): MAE = 4.729170347778564\n",
      "Order (0, 0, 5): MAE = 4.7367132685052065\n",
      "Order (0, 0, 6): MAE = 4.73664434590004\n",
      "Order (0, 1, 0): MAE = 4.932049539890909\n",
      "Order (0, 1, 1): MAE = 4.944135946151388\n",
      "Order (0, 1, 2): MAE = 4.896145239921528\n",
      "Order (0, 1, 3): MAE = 4.794519846595306\n",
      "Order (0, 1, 4): MAE = 4.723905276036252\n",
      "Order (0, 1, 5): MAE = 4.726133840693277\n",
      "Order (0, 1, 6): MAE = 4.736864666364777\n",
      "Order (1, 0, 0): MAE = 4.731020793351241\n",
      "Order (1, 0, 1): MAE = 4.7302289248662115\n",
      "Order (1, 0, 2): MAE = 4.730724991726119\n",
      "Order (1, 0, 3): MAE = 4.730669605255459\n",
      "Order (1, 0, 4): MAE = 4.736374299020308\n",
      "Order (1, 0, 5): MAE = 4.7366602511426965\n",
      "Order (1, 0, 6): MAE = 4.736543339471995\n",
      "Order (1, 1, 0): MAE = 4.945564680087266\n",
      "Order (1, 1, 1): MAE = 4.730770307868207\n",
      "Order (1, 1, 2): MAE = 4.730238671777531\n",
      "Order (1, 1, 3): MAE = 4.730733232880376\n"
     ]
    },
    {
     "name": "stderr",
     "output_type": "stream",
     "text": [
      "/Users/alikhan/anaconda3/lib/python3.10/site-packages/statsmodels/base/model.py:604: ConvergenceWarning: Maximum Likelihood optimization failed to converge. Check mle_retvals\n",
      "  warnings.warn(\"Maximum Likelihood optimization failed to \"\n"
     ]
    },
    {
     "name": "stdout",
     "output_type": "stream",
     "text": [
      "Order (1, 1, 4): MAE = 4.730665331070497\n",
      "Order (1, 1, 5): MAE = 4.736491368872898\n",
      "Order (1, 1, 6): MAE = 4.736792612637684\n",
      "Order (2, 0, 0): MAE = 4.7301423801239055\n",
      "Order (2, 0, 1): MAE = 4.729909379923151\n",
      "Order (2, 0, 2): MAE = 4.732300099067449\n",
      "Order (2, 0, 3): MAE = 4.7337989508029805\n",
      "Order (2, 0, 4): MAE = 4.738094954318735\n",
      "Order (2, 0, 5): MAE = 4.736196081089361\n"
     ]
    },
    {
     "name": "stderr",
     "output_type": "stream",
     "text": [
      "/Users/alikhan/anaconda3/lib/python3.10/site-packages/statsmodels/base/model.py:604: ConvergenceWarning: Maximum Likelihood optimization failed to converge. Check mle_retvals\n",
      "  warnings.warn(\"Maximum Likelihood optimization failed to \"\n"
     ]
    },
    {
     "name": "stdout",
     "output_type": "stream",
     "text": [
      "Order (2, 0, 6): MAE = 4.739657181350095\n",
      "Order (2, 1, 0): MAE = 4.906029827592067\n",
      "Order (2, 1, 1): MAE = 4.7300818084834155\n",
      "Order (2, 1, 2): MAE = 4.72964579144082\n",
      "Order (2, 1, 3): MAE = 4.7294759799568435\n",
      "Order (2, 1, 4): MAE = 4.730002573425136\n"
     ]
    },
    {
     "name": "stderr",
     "output_type": "stream",
     "text": [
      "/Users/alikhan/anaconda3/lib/python3.10/site-packages/statsmodels/base/model.py:604: ConvergenceWarning: Maximum Likelihood optimization failed to converge. Check mle_retvals\n",
      "  warnings.warn(\"Maximum Likelihood optimization failed to \"\n"
     ]
    },
    {
     "name": "stdout",
     "output_type": "stream",
     "text": [
      "Order (2, 1, 5): MAE = 4.7299453476229\n"
     ]
    },
    {
     "name": "stderr",
     "output_type": "stream",
     "text": [
      "/Users/alikhan/anaconda3/lib/python3.10/site-packages/statsmodels/base/model.py:604: ConvergenceWarning: Maximum Likelihood optimization failed to converge. Check mle_retvals\n",
      "  warnings.warn(\"Maximum Likelihood optimization failed to \"\n"
     ]
    },
    {
     "name": "stdout",
     "output_type": "stream",
     "text": [
      "Order (2, 1, 6): MAE = 4.736173399744956\n",
      "Best Order for Stock ID 22: (0, 1, 4)\n",
      "Best MAE for Stock ID 22: 4.723905276036252\n",
      "\n",
      "Training and evaluating for Stock ID: 23\n",
      "Training Set Date Range: 0 -- 477\n",
      "Testing Set Date Range: 478 -- 480\n",
      "Order (0, 0, 0): MAE = 4.966323178428335\n",
      "Order (0, 0, 1): MAE = 4.970819966950857\n",
      "Order (0, 0, 2): MAE = 4.965740379704528\n",
      "Order (0, 0, 3): MAE = 4.9692436470196055\n",
      "Order (0, 0, 4): MAE = 4.973781022915143\n",
      "Order (0, 0, 5): MAE = 4.989045571789541\n",
      "Order (0, 0, 6): MAE = 4.987161420618859\n",
      "Order (0, 1, 0): MAE = 6.970987311818181\n",
      "Order (0, 1, 1): MAE = 6.797368198634006\n",
      "Order (0, 1, 2): MAE = 6.704078083581326\n",
      "Order (0, 1, 3): MAE = 5.278290605967487\n",
      "Order (0, 1, 4): MAE = 4.942974923889572\n",
      "Order (0, 1, 5): MAE = 5.212941819946767\n",
      "Order (0, 1, 6): MAE = 4.9889535405902485\n",
      "Order (1, 0, 0): MAE = 4.973839076355771\n",
      "Order (1, 0, 1): MAE = 4.973923713391935\n",
      "Order (1, 0, 2): MAE = 4.973412226516723\n",
      "Order (1, 0, 3): MAE = 4.982745393105312\n",
      "Order (1, 0, 4): MAE = 4.984249453894324\n",
      "Order (1, 0, 5): MAE = 4.98739384172324\n",
      "Order (1, 0, 6): MAE = 4.986578605475187\n",
      "Order (1, 1, 0): MAE = 6.8261398415341725\n",
      "Order (1, 1, 1): MAE = 4.973318085842906\n",
      "Order (1, 1, 2): MAE = 4.973850784231363\n",
      "Order (1, 1, 3): MAE = 4.973337885339083\n",
      "Order (1, 1, 4): MAE = 4.892942042256684\n",
      "Order (1, 1, 5): MAE = 4.984150799271745\n",
      "Order (1, 1, 6): MAE = 4.987306669601335\n",
      "Order (2, 0, 0): MAE = 4.973938541393866\n",
      "Order (2, 0, 1): MAE = 4.973707350593416\n",
      "Order (2, 0, 2): MAE = 4.979137731906623\n",
      "Order (2, 0, 3): MAE = 4.976108797617705\n",
      "Order (2, 0, 4): MAE = 4.9803190327572535\n",
      "Order (2, 0, 5): MAE = 4.98717828435001\n",
      "Order (2, 0, 6): MAE = 4.987336604548573\n",
      "Order (2, 1, 0): MAE = 6.824385563193898\n",
      "Order (2, 1, 1): MAE = 4.973859244335963\n",
      "Order (2, 1, 2): MAE = 4.975162826299297\n",
      "Order (2, 1, 3): MAE = 4.975947716400225\n"
     ]
    },
    {
     "name": "stderr",
     "output_type": "stream",
     "text": [
      "/Users/alikhan/anaconda3/lib/python3.10/site-packages/statsmodels/base/model.py:604: ConvergenceWarning: Maximum Likelihood optimization failed to converge. Check mle_retvals\n",
      "  warnings.warn(\"Maximum Likelihood optimization failed to \"\n"
     ]
    },
    {
     "name": "stdout",
     "output_type": "stream",
     "text": [
      "Order (2, 1, 4): MAE = 4.9760947851804795\n"
     ]
    },
    {
     "name": "stderr",
     "output_type": "stream",
     "text": [
      "/Users/alikhan/anaconda3/lib/python3.10/site-packages/statsmodels/base/model.py:604: ConvergenceWarning: Maximum Likelihood optimization failed to converge. Check mle_retvals\n",
      "  warnings.warn(\"Maximum Likelihood optimization failed to \"\n"
     ]
    },
    {
     "name": "stdout",
     "output_type": "stream",
     "text": [
      "Order (2, 1, 5): MAE = 4.977107159309329\n"
     ]
    },
    {
     "name": "stderr",
     "output_type": "stream",
     "text": [
      "/Users/alikhan/anaconda3/lib/python3.10/site-packages/statsmodels/base/model.py:604: ConvergenceWarning: Maximum Likelihood optimization failed to converge. Check mle_retvals\n",
      "  warnings.warn(\"Maximum Likelihood optimization failed to \"\n"
     ]
    },
    {
     "name": "stdout",
     "output_type": "stream",
     "text": [
      "Order (2, 1, 6): MAE = 4.987105976181606\n",
      "Best Order for Stock ID 23: (1, 1, 4)\n",
      "Best MAE for Stock ID 23: 4.892942042256684\n",
      "\n",
      "Training and evaluating for Stock ID: 24\n",
      "Training Set Date Range: 0 -- 477\n",
      "Testing Set Date Range: 478 -- 480\n",
      "Order (0, 0, 0): MAE = 3.2758923297030544\n",
      "Order (0, 0, 1): MAE = 3.2758697937408527\n",
      "Order (0, 0, 2): MAE = 3.276952903400761\n",
      "Order (0, 0, 3): MAE = 3.2759969847915635\n",
      "Order (0, 0, 4): MAE = 3.27582417139593\n",
      "Order (0, 0, 5): MAE = 3.2807133138264564\n",
      "Order (0, 0, 6): MAE = 3.2801204114224918\n",
      "Order (0, 1, 0): MAE = 3.2996481211333335\n",
      "Order (0, 1, 1): MAE = 3.317920609466032\n",
      "Order (0, 1, 2): MAE = 3.318508136623224\n",
      "Order (0, 1, 3): MAE = 3.2735943645519248\n",
      "Order (0, 1, 4): MAE = 3.2813558513035535\n",
      "Order (0, 1, 5): MAE = 3.276073981498262\n",
      "Order (0, 1, 6): MAE = 3.2807277970232844\n",
      "Order (1, 0, 0): MAE = 3.2756889356705066\n",
      "Order (1, 0, 1): MAE = 3.2756886336370488\n",
      "Order (1, 0, 2): MAE = 3.275722392545234\n",
      "Order (1, 0, 3): MAE = 3.2757912670523814\n",
      "Order (1, 0, 4): MAE = 3.2763903940255528\n",
      "Order (1, 0, 5): MAE = 3.280168147611612\n",
      "Order (1, 0, 6): MAE = 3.280232736192062\n",
      "Order (1, 1, 0): MAE = 3.31557490909715\n",
      "Order (1, 1, 1): MAE = 3.2765047675786025\n",
      "Order (1, 1, 2): MAE = 3.275665921413704\n",
      "Order (1, 1, 3): MAE = 3.2757645416618355\n",
      "Order (1, 1, 4): MAE = 3.293854165307267\n",
      "Order (1, 1, 5): MAE = 3.2764316454472016\n",
      "Order (1, 1, 6): MAE = 3.2803383180284036\n",
      "Order (2, 0, 0): MAE = 3.275688376782485\n",
      "Order (2, 0, 1): MAE = 3.2756007266228724\n",
      "Order (2, 0, 2): MAE = 3.2760635793641977\n",
      "Order (2, 0, 3): MAE = 3.2769243126115546\n",
      "Order (2, 0, 4): MAE = 3.2782585369849513\n",
      "Order (2, 0, 5): MAE = 3.2801291672246546\n",
      "Order (2, 0, 6): MAE = 3.2802377959678095\n",
      "Order (2, 1, 0): MAE = 3.318524487628471\n",
      "Order (2, 1, 1): MAE = 3.275799074656253\n",
      "Order (2, 1, 2): MAE = 3.2757375439172405\n",
      "Order (2, 1, 3): MAE = 3.275640557935733\n",
      "Order (2, 1, 4): MAE = 3.2757803136513663\n",
      "Order (2, 1, 5): MAE = 3.279397044995064\n",
      "Order (2, 1, 6): MAE = 3.280421332697149\n",
      "Best Order for Stock ID 24: (0, 1, 3)\n",
      "Best MAE for Stock ID 24: 3.2735943645519248\n",
      "\n",
      "Training and evaluating for Stock ID: 25\n",
      "Training Set Date Range: 0 -- 477\n",
      "Testing Set Date Range: 478 -- 480\n",
      "Order (0, 0, 0): MAE = 4.149524710584047\n",
      "Order (0, 0, 1): MAE = 4.153685294579484\n",
      "Order (0, 0, 2): MAE = 4.160102388257917\n",
      "Order (0, 0, 3): MAE = 4.163568868056519\n",
      "Order (0, 0, 4): MAE = 4.169851683975504\n",
      "Order (0, 0, 5): MAE = 4.1874229954746225\n",
      "Order (0, 0, 6): MAE = 4.186151819910316\n",
      "Order (0, 1, 0): MAE = 7.510380403418181\n",
      "Order (0, 1, 1): MAE = 7.5574110974124915\n",
      "Order (0, 1, 2): MAE = 7.400126732208766\n",
      "Order (0, 1, 3): MAE = 5.9438552304493415\n",
      "Order (0, 1, 4): MAE = 4.024898832276175\n",
      "Order (0, 1, 5): MAE = 4.011096378162976\n",
      "Order (0, 1, 6): MAE = 4.1875836086269835\n",
      "Order (1, 0, 0): MAE = 4.198879932011356\n",
      "Order (1, 0, 1): MAE = 4.197710683133901\n",
      "Order (1, 0, 2): MAE = 4.195049429311024\n",
      "Order (1, 0, 3): MAE = 4.19666042192196\n",
      "Order (1, 0, 4): MAE = 4.197871580601963\n",
      "Order (1, 0, 5): MAE = 4.186419326841847\n",
      "Order (1, 0, 6): MAE = 4.185022820865557\n",
      "Order (1, 1, 0): MAE = 7.572899091597154\n",
      "Order (1, 1, 1): MAE = 4.198156938111051\n",
      "Order (1, 1, 2): MAE = 4.197670324951618\n",
      "Order (1, 1, 3): MAE = 4.195064712593447\n",
      "Order (1, 1, 4): MAE = 4.038022573750539\n",
      "Order (1, 1, 5): MAE = 4.198015764904536\n"
     ]
    },
    {
     "name": "stderr",
     "output_type": "stream",
     "text": [
      "/Users/alikhan/anaconda3/lib/python3.10/site-packages/statsmodels/base/model.py:604: ConvergenceWarning: Maximum Likelihood optimization failed to converge. Check mle_retvals\n",
      "  warnings.warn(\"Maximum Likelihood optimization failed to \"\n"
     ]
    },
    {
     "name": "stdout",
     "output_type": "stream",
     "text": [
      "Order (1, 1, 6): MAE = 4.186557208441582\n",
      "Order (2, 0, 0): MAE = 4.197625232567333\n",
      "Order (2, 0, 1): MAE = 4.195067753468214\n",
      "Order (2, 0, 2): MAE = 4.18522130471156\n",
      "Order (2, 0, 3): MAE = 4.194611377700748\n",
      "Order (2, 0, 4): MAE = 4.180506291294527\n",
      "Order (2, 0, 5): MAE = 4.185385551969365\n"
     ]
    },
    {
     "name": "stderr",
     "output_type": "stream",
     "text": [
      "/Users/alikhan/anaconda3/lib/python3.10/site-packages/statsmodels/base/model.py:604: ConvergenceWarning: Maximum Likelihood optimization failed to converge. Check mle_retvals\n",
      "  warnings.warn(\"Maximum Likelihood optimization failed to \"\n"
     ]
    },
    {
     "name": "stdout",
     "output_type": "stream",
     "text": [
      "Order (2, 0, 6): MAE = 4.187239469376126\n",
      "Order (2, 1, 0): MAE = 7.50325748256608\n",
      "Order (2, 1, 1): MAE = 4.196165116229907\n",
      "Order (2, 1, 2): MAE = 4.194555449244212\n",
      "Order (2, 1, 3): MAE = 4.1991608552144974\n"
     ]
    },
    {
     "name": "stderr",
     "output_type": "stream",
     "text": [
      "/Users/alikhan/anaconda3/lib/python3.10/site-packages/statsmodels/base/model.py:604: ConvergenceWarning: Maximum Likelihood optimization failed to converge. Check mle_retvals\n",
      "  warnings.warn(\"Maximum Likelihood optimization failed to \"\n"
     ]
    },
    {
     "name": "stdout",
     "output_type": "stream",
     "text": [
      "Order (2, 1, 4): MAE = 4.193655305611466\n",
      "Order (2, 1, 5): MAE = 4.0162344545905135\n"
     ]
    },
    {
     "name": "stderr",
     "output_type": "stream",
     "text": [
      "/Users/alikhan/anaconda3/lib/python3.10/site-packages/statsmodels/base/model.py:604: ConvergenceWarning: Maximum Likelihood optimization failed to converge. Check mle_retvals\n",
      "  warnings.warn(\"Maximum Likelihood optimization failed to \"\n"
     ]
    },
    {
     "name": "stdout",
     "output_type": "stream",
     "text": [
      "Order (2, 1, 6): MAE = 4.184908614632089\n",
      "Best Order for Stock ID 25: (0, 1, 5)\n",
      "Best MAE for Stock ID 25: 4.011096378162976\n",
      "\n",
      "Training and evaluating for Stock ID: 26\n",
      "Training Set Date Range: 0 -- 477\n",
      "Testing Set Date Range: 478 -- 480\n",
      "Order (0, 0, 0): MAE = 5.736741733901473\n",
      "Order (0, 0, 1): MAE = 5.779523038457642\n",
      "Order (0, 0, 2): MAE = 5.818338780369676\n",
      "Order (0, 0, 3): MAE = 5.838370297253767\n",
      "Order (0, 0, 4): MAE = 5.833035235029756\n",
      "Order (0, 0, 5): MAE = 5.961328494335261\n",
      "Order (0, 0, 6): MAE = 5.95614406672748\n",
      "Order (0, 1, 0): MAE = 18.015163952521217\n",
      "Order (0, 1, 1): MAE = 16.82528091085468\n",
      "Order (0, 1, 2): MAE = 15.896401166416913\n",
      "Order (0, 1, 3): MAE = 12.754127326939143\n",
      "Order (0, 1, 4): MAE = 5.815795759962813\n",
      "Order (0, 1, 5): MAE = 5.811150140500635\n",
      "Order (0, 1, 6): MAE = 5.928218299679289\n",
      "Order (1, 0, 0): MAE = 5.906456437845391\n",
      "Order (1, 0, 1): MAE = 5.902269724051803\n",
      "Order (1, 0, 2): MAE = 5.9013048561172505\n",
      "Order (1, 0, 3): MAE = 5.908752814276349\n",
      "Order (1, 0, 4): MAE = 5.920741133131685\n",
      "Order (1, 0, 5): MAE = 5.956613942071606\n",
      "Order (1, 0, 6): MAE = 5.946058489428929\n",
      "Order (1, 1, 0): MAE = 17.01063162185246\n",
      "Order (1, 1, 1): MAE = 5.8699929020170964\n",
      "Order (1, 1, 2): MAE = 5.8653303994613495\n",
      "Order (1, 1, 3): MAE = 5.8645336123840215\n",
      "Order (1, 1, 4): MAE = 5.87217213742225\n",
      "Order (1, 1, 5): MAE = 5.884573932723457\n",
      "Order (1, 1, 6): MAE = 5.923900024167883\n",
      "Order (2, 0, 0): MAE = 5.901464848189656\n",
      "Order (2, 0, 1): MAE = 5.908866171967963\n",
      "Order (2, 0, 2): MAE = 5.892852847985368\n",
      "Order (2, 0, 3): MAE = 5.909868092994668\n",
      "Order (2, 0, 4): MAE = 5.914840758058185\n",
      "Order (2, 0, 5): MAE = 5.95230304071616\n",
      "Order (2, 0, 6): MAE = 5.945869228923017\n",
      "Order (2, 1, 0): MAE = 16.22215626676079\n",
      "Order (2, 1, 1): MAE = 5.864540365346663\n",
      "Order (2, 1, 2): MAE = 5.870568306476048\n",
      "Order (2, 1, 3): MAE = 5.870595920272517\n",
      "Order (2, 1, 4): MAE = 5.871149137345198\n",
      "Order (2, 1, 5): MAE = 5.872716407284127\n",
      "Order (2, 1, 6): MAE = 5.920315145129328\n",
      "Best Order for Stock ID 26: (0, 0, 0)\n",
      "Best MAE for Stock ID 26: 5.736741733901473\n",
      "\n",
      "Training and evaluating for Stock ID: 27\n",
      "Training Set Date Range: 0 -- 477\n",
      "Testing Set Date Range: 478 -- 480\n",
      "Order (0, 0, 0): MAE = 4.331846350778064\n",
      "Order (0, 0, 1): MAE = 4.33201099806514\n",
      "Order (0, 0, 2): MAE = 4.3359604082931895\n",
      "Order (0, 0, 3): MAE = 4.332650355473982\n",
      "Order (0, 0, 4): MAE = 4.333120388816353\n",
      "Order (0, 0, 5): MAE = 4.339100160815213\n",
      "Order (0, 0, 6): MAE = 4.338407947615326\n",
      "Order (0, 1, 0): MAE = 4.367846418884848\n",
      "Order (0, 1, 1): MAE = 4.470979095905528\n",
      "Order (0, 1, 2): MAE = 4.522179468858684\n",
      "Order (0, 1, 3): MAE = 4.4692984761075\n",
      "Order (0, 1, 4): MAE = 4.341335761026406\n",
      "Order (0, 1, 5): MAE = 4.333086953393081\n",
      "Order (0, 1, 6): MAE = 4.339144210669568\n",
      "Order (1, 0, 0): MAE = 4.330601264211561\n",
      "Order (1, 0, 1): MAE = 4.3305180202786175\n",
      "Order (1, 0, 2): MAE = 4.330791529374128\n",
      "Order (1, 0, 3): MAE = 4.3321658149358235\n",
      "Order (1, 0, 4): MAE = 4.335645791995426\n",
      "Order (1, 0, 5): MAE = 4.338594446204349\n",
      "Order (1, 0, 6): MAE = 4.33839581675755\n",
      "Order (1, 1, 0): MAE = 4.427349403526047\n",
      "Order (1, 1, 1): MAE = 4.327762998747607\n",
      "Order (1, 1, 2): MAE = 4.551493765154389\n",
      "Order (1, 1, 3): MAE = 4.330739793065418\n",
      "Order (1, 1, 4): MAE = 4.3286495067912965\n"
     ]
    },
    {
     "name": "stderr",
     "output_type": "stream",
     "text": [
      "/Users/alikhan/anaconda3/lib/python3.10/site-packages/statsmodels/base/model.py:604: ConvergenceWarning: Maximum Likelihood optimization failed to converge. Check mle_retvals\n",
      "  warnings.warn(\"Maximum Likelihood optimization failed to \"\n"
     ]
    },
    {
     "name": "stdout",
     "output_type": "stream",
     "text": [
      "Order (1, 1, 5): MAE = 4.3356714111342685\n",
      "Order (1, 1, 6): MAE = 4.338631994428394\n",
      "Order (2, 0, 0): MAE = 4.330508493354961\n",
      "Order (2, 0, 1): MAE = 4.330491715791651\n",
      "Order (2, 0, 2): MAE = 4.336246820169454\n",
      "Order (2, 0, 3): MAE = 4.331150434743327\n",
      "Order (2, 0, 4): MAE = 4.338839271783574\n",
      "Order (2, 0, 5): MAE = 4.338314883557026\n",
      "Order (2, 0, 6): MAE = 4.33943608878762\n",
      "Order (2, 1, 0): MAE = 4.488172289233446\n",
      "Order (2, 1, 1): MAE = 4.330352918667667\n",
      "Order (2, 1, 2): MAE = 4.3307852712237285\n"
     ]
    },
    {
     "name": "stderr",
     "output_type": "stream",
     "text": [
      "/Users/alikhan/anaconda3/lib/python3.10/site-packages/statsmodels/base/model.py:604: ConvergenceWarning: Maximum Likelihood optimization failed to converge. Check mle_retvals\n",
      "  warnings.warn(\"Maximum Likelihood optimization failed to \"\n"
     ]
    },
    {
     "name": "stdout",
     "output_type": "stream",
     "text": [
      "Order (2, 1, 3): MAE = 4.330758961165126\n"
     ]
    },
    {
     "name": "stderr",
     "output_type": "stream",
     "text": [
      "/Users/alikhan/anaconda3/lib/python3.10/site-packages/statsmodels/base/model.py:604: ConvergenceWarning: Maximum Likelihood optimization failed to converge. Check mle_retvals\n",
      "  warnings.warn(\"Maximum Likelihood optimization failed to \"\n"
     ]
    },
    {
     "name": "stdout",
     "output_type": "stream",
     "text": [
      "Order (2, 1, 4): MAE = 4.331115849758272\n"
     ]
    },
    {
     "name": "stderr",
     "output_type": "stream",
     "text": [
      "/Users/alikhan/anaconda3/lib/python3.10/site-packages/statsmodels/base/model.py:604: ConvergenceWarning: Maximum Likelihood optimization failed to converge. Check mle_retvals\n",
      "  warnings.warn(\"Maximum Likelihood optimization failed to \"\n"
     ]
    },
    {
     "name": "stdout",
     "output_type": "stream",
     "text": [
      "Order (2, 1, 5): MAE = 4.331355468765825\n"
     ]
    },
    {
     "name": "stderr",
     "output_type": "stream",
     "text": [
      "/Users/alikhan/anaconda3/lib/python3.10/site-packages/statsmodels/base/model.py:604: ConvergenceWarning: Maximum Likelihood optimization failed to converge. Check mle_retvals\n",
      "  warnings.warn(\"Maximum Likelihood optimization failed to \"\n"
     ]
    },
    {
     "name": "stdout",
     "output_type": "stream",
     "text": [
      "Order (2, 1, 6): MAE = 4.3381906663772964\n",
      "Best Order for Stock ID 27: (1, 1, 1)\n",
      "Best MAE for Stock ID 27: 4.327762998747607\n",
      "\n",
      "Training and evaluating for Stock ID: 28\n",
      "Training Set Date Range: 0 -- 477\n",
      "Testing Set Date Range: 478 -- 480\n",
      "Order (0, 0, 0): MAE = 4.2186585206202185\n",
      "Order (0, 0, 1): MAE = 4.218539068422602\n",
      "Order (0, 0, 2): MAE = 4.217902542427544\n",
      "Order (0, 0, 3): MAE = 4.217982708816919\n",
      "Order (0, 0, 4): MAE = 4.217878700568751\n",
      "Order (0, 0, 5): MAE = 4.21784409357467\n",
      "Order (0, 0, 6): MAE = 4.218026869860886\n",
      "Order (0, 1, 0): MAE = 4.1684309448787875\n",
      "Order (0, 1, 1): MAE = 4.1791410378837295\n",
      "Order (0, 1, 2): MAE = 4.187216299271258\n",
      "Order (0, 1, 3): MAE = 4.198496666960575\n",
      "Order (0, 1, 4): MAE = 4.1671060215243\n",
      "Order (0, 1, 5): MAE = 4.175384793137879\n",
      "Order (0, 1, 6): MAE = 4.200029305829847\n",
      "Order (1, 0, 0): MAE = 4.21746376796683\n",
      "Order (1, 0, 1): MAE = 4.21746612226441\n",
      "Order (1, 0, 2): MAE = 4.217387289590973\n",
      "Order (1, 0, 3): MAE = 4.2173225078114465\n",
      "Order (1, 0, 4): MAE = 4.216973241237969\n",
      "Order (1, 0, 5): MAE = 4.218005945974191\n",
      "Order (1, 0, 6): MAE = 4.217945196842133\n",
      "Order (1, 1, 0): MAE = 4.1767109081327165\n",
      "Order (1, 1, 1): MAE = 4.209470121479615\n",
      "Order (1, 1, 2): MAE = 4.20839207819244\n",
      "Order (1, 1, 3): MAE = 4.206080940189231\n",
      "Order (1, 1, 4): MAE = 4.151277005870803\n",
      "Order (1, 1, 5): MAE = 4.203092116623859\n",
      "Order (1, 1, 6): MAE = 4.196976581002395\n",
      "Order (2, 0, 0): MAE = 4.21746512540252\n",
      "Order (2, 0, 1): MAE = 4.217836249384316\n",
      "Order (2, 0, 2): MAE = 4.217078516034127\n",
      "Order (2, 0, 3): MAE = 4.2176253874626575\n",
      "Order (2, 0, 4): MAE = 4.217574115713718\n",
      "Order (2, 0, 5): MAE = 4.218059713706606\n",
      "Order (2, 0, 6): MAE = 4.218425698300792\n",
      "Order (2, 1, 0): MAE = 4.183929928345305\n",
      "Order (2, 1, 1): MAE = 4.208270259783099\n"
     ]
    },
    {
     "name": "stderr",
     "output_type": "stream",
     "text": [
      "/Users/alikhan/anaconda3/lib/python3.10/site-packages/statsmodels/base/model.py:604: ConvergenceWarning: Maximum Likelihood optimization failed to converge. Check mle_retvals\n",
      "  warnings.warn(\"Maximum Likelihood optimization failed to \"\n"
     ]
    },
    {
     "name": "stdout",
     "output_type": "stream",
     "text": [
      "Order (2, 1, 2): MAE = 4.208164978357665\n",
      "Order (2, 1, 3): MAE = 4.210163000305761\n",
      "Order (2, 1, 4): MAE = 4.205741660141774\n"
     ]
    },
    {
     "name": "stderr",
     "output_type": "stream",
     "text": [
      "/Users/alikhan/anaconda3/lib/python3.10/site-packages/statsmodels/base/model.py:604: ConvergenceWarning: Maximum Likelihood optimization failed to converge. Check mle_retvals\n",
      "  warnings.warn(\"Maximum Likelihood optimization failed to \"\n"
     ]
    },
    {
     "name": "stdout",
     "output_type": "stream",
     "text": [
      "Order (2, 1, 5): MAE = 4.188536419831485\n",
      "Order (2, 1, 6): MAE = 4.195348914483459\n",
      "Best Order for Stock ID 28: (1, 1, 4)\n",
      "Best MAE for Stock ID 28: 4.151277005870803\n",
      "\n",
      "Training and evaluating for Stock ID: 29\n",
      "Training Set Date Range: 0 -- 477\n",
      "Testing Set Date Range: 478 -- 480\n",
      "Order (0, 0, 0): MAE = 5.473844656306816\n",
      "Order (0, 0, 1): MAE = 5.474377381157821\n",
      "Order (0, 0, 2): MAE = 5.474025966252347\n",
      "Order (0, 0, 3): MAE = 5.473773549436072\n",
      "Order (0, 0, 4): MAE = 5.474117454480241\n",
      "Order (0, 0, 5): MAE = 5.478068323852103\n",
      "Order (0, 0, 6): MAE = 5.4779392944258225\n",
      "Order (0, 1, 0): MAE = 5.557916404933334\n",
      "Order (0, 1, 1): MAE = 5.498985866174284\n",
      "Order (0, 1, 2): MAE = 5.4808356489025645\n",
      "Order (0, 1, 3): MAE = 5.446607149265821\n",
      "Order (0, 1, 4): MAE = 5.447715413961856\n",
      "Order (0, 1, 5): MAE = 5.457326609233119\n",
      "Order (0, 1, 6): MAE = 5.474062905459312\n",
      "Order (1, 0, 0): MAE = 5.472972706861179\n",
      "Order (1, 0, 1): MAE = 5.472758681172594\n",
      "Order (1, 0, 2): MAE = 5.472845853624572\n",
      "Order (1, 0, 3): MAE = 5.474834539795957\n",
      "Order (1, 0, 4): MAE = 5.474668478411148\n",
      "Order (1, 0, 5): MAE = 5.47803658286715\n",
      "Order (1, 0, 6): MAE = 5.477959178936927\n",
      "Order (1, 1, 0): MAE = 5.511414955640987\n",
      "Order (1, 1, 1): MAE = 5.4616485442199645\n",
      "Order (1, 1, 2): MAE = 5.4661693358235475\n",
      "Order (1, 1, 3): MAE = 5.46597074138056\n",
      "Order (1, 1, 4): MAE = 5.44815058836812\n",
      "Order (1, 1, 5): MAE = 5.468298222061469\n",
      "Order (1, 1, 6): MAE = 5.470416863851313\n",
      "Order (2, 0, 0): MAE = 5.47275393026796\n",
      "Order (2, 0, 1): MAE = 5.472744718604964\n",
      "Order (2, 0, 2): MAE = 5.474125237488118\n",
      "Order (2, 0, 3): MAE = 5.47432630433431\n",
      "Order (2, 0, 4): MAE = 5.475349014959099\n",
      "Order (2, 0, 5): MAE = 5.477824029980072\n",
      "Order (2, 0, 6): MAE = 5.477977076344911\n",
      "Order (2, 1, 0): MAE = 5.513638849027325\n",
      "Order (2, 1, 1): MAE = 5.46659514345561\n",
      "Order (2, 1, 2): MAE = 5.465187495289519\n",
      "Order (2, 1, 3): MAE = 5.468052015640105\n",
      "Order (2, 1, 4): MAE = 5.467163292162049\n"
     ]
    },
    {
     "name": "stderr",
     "output_type": "stream",
     "text": [
      "/Users/alikhan/anaconda3/lib/python3.10/site-packages/statsmodels/base/model.py:604: ConvergenceWarning: Maximum Likelihood optimization failed to converge. Check mle_retvals\n",
      "  warnings.warn(\"Maximum Likelihood optimization failed to \"\n"
     ]
    },
    {
     "name": "stdout",
     "output_type": "stream",
     "text": [
      "Order (2, 1, 5): MAE = 5.4566714757773145\n",
      "Order (2, 1, 6): MAE = 5.468726847270894\n",
      "Best Order for Stock ID 29: (0, 1, 3)\n",
      "Best MAE for Stock ID 29: 5.446607149265821\n",
      "\n",
      "Training and evaluating for Stock ID: 30\n",
      "Training Set Date Range: 0 -- 477\n",
      "Testing Set Date Range: 478 -- 480\n",
      "Order (0, 0, 0): MAE = 3.55187325650773\n",
      "Order (0, 0, 1): MAE = 3.5506019323446116\n",
      "Order (0, 0, 2): MAE = 3.5523111929907243\n",
      "Order (0, 0, 3): MAE = 3.549804367761795\n",
      "Order (0, 0, 4): MAE = 3.555737176676086\n",
      "Order (0, 0, 5): MAE = 3.5530835042425246\n",
      "Order (0, 0, 6): MAE = 3.553001282671932\n",
      "Order (0, 1, 0): MAE = 4.435257464303031\n",
      "Order (0, 1, 1): MAE = 4.483290081764797\n",
      "Order (0, 1, 2): MAE = 4.57001854353339\n",
      "Order (0, 1, 3): MAE = 4.8469009463253006\n",
      "Order (0, 1, 4): MAE = 3.946119407681434\n",
      "Order (0, 1, 5): MAE = 3.438556813782971\n",
      "Order (0, 1, 6): MAE = 3.5529555304815204\n",
      "Order (1, 0, 0): MAE = 3.5693363774964886\n",
      "Order (1, 0, 1): MAE = 3.563096533665168\n",
      "Order (1, 0, 2): MAE = 3.561477523607262\n",
      "Order (1, 0, 3): MAE = 3.5586265985288352\n",
      "Order (1, 0, 4): MAE = 3.5612374621268112\n",
      "Order (1, 0, 5): MAE = 3.5530066315467126\n",
      "Order (1, 0, 6): MAE = 3.5529701233229556\n",
      "Order (1, 1, 0): MAE = 4.47726307111862\n",
      "Order (1, 1, 1): MAE = 3.5692971235519253\n",
      "Order (1, 1, 2): MAE = 3.5628391509292703\n",
      "Order (1, 1, 3): MAE = 3.561374619214338\n",
      "Order (1, 1, 4): MAE = 3.5584453755013645\n",
      "Order (1, 1, 5): MAE = 3.5611378270864877\n"
     ]
    },
    {
     "name": "stderr",
     "output_type": "stream",
     "text": [
      "/Users/alikhan/anaconda3/lib/python3.10/site-packages/statsmodels/base/model.py:604: ConvergenceWarning: Maximum Likelihood optimization failed to converge. Check mle_retvals\n",
      "  warnings.warn(\"Maximum Likelihood optimization failed to \"\n"
     ]
    },
    {
     "name": "stdout",
     "output_type": "stream",
     "text": [
      "Order (1, 1, 6): MAE = 3.552868285168198\n",
      "Order (2, 0, 0): MAE = 3.5619756948849144\n",
      "Order (2, 0, 1): MAE = 3.551548747047639\n",
      "Order (2, 0, 2): MAE = 3.5506091608311294\n",
      "Order (2, 0, 3): MAE = 3.552517643058207\n",
      "Order (2, 0, 4): MAE = 3.5562194020686633\n",
      "Order (2, 0, 5): MAE = 3.552947035538342\n",
      "Order (2, 0, 6): MAE = 3.552584885677095\n",
      "Order (2, 1, 0): MAE = 4.5506355834515455\n",
      "Order (2, 1, 1): MAE = 3.561865209118709\n",
      "Order (2, 1, 2): MAE = 3.562358539252614\n",
      "Order (2, 1, 3): MAE = 3.5608624763902257\n",
      "Order (2, 1, 4): MAE = 3.55725101807625\n"
     ]
    },
    {
     "name": "stderr",
     "output_type": "stream",
     "text": [
      "/Users/alikhan/anaconda3/lib/python3.10/site-packages/statsmodels/base/model.py:604: ConvergenceWarning: Maximum Likelihood optimization failed to converge. Check mle_retvals\n",
      "  warnings.warn(\"Maximum Likelihood optimization failed to \"\n"
     ]
    },
    {
     "name": "stdout",
     "output_type": "stream",
     "text": [
      "Order (2, 1, 5): MAE = 3.5560773272032744\n"
     ]
    },
    {
     "name": "stderr",
     "output_type": "stream",
     "text": [
      "/Users/alikhan/anaconda3/lib/python3.10/site-packages/statsmodels/base/model.py:604: ConvergenceWarning: Maximum Likelihood optimization failed to converge. Check mle_retvals\n",
      "  warnings.warn(\"Maximum Likelihood optimization failed to \"\n"
     ]
    },
    {
     "name": "stdout",
     "output_type": "stream",
     "text": [
      "Order (2, 1, 6): MAE = 3.552803441158851\n",
      "Best Order for Stock ID 30: (0, 1, 5)\n",
      "Best MAE for Stock ID 30: 3.438556813782971\n",
      "\n",
      "Training and evaluating for Stock ID: 31\n",
      "Training Set Date Range: 0 -- 477\n",
      "Testing Set Date Range: 478 -- 480\n",
      "Order (0, 0, 0): MAE = 16.61378419829855\n",
      "Order (0, 0, 1): MAE = 16.702966435625196\n",
      "Order (0, 0, 2): MAE = 16.81454180265983\n",
      "Order (0, 0, 3): MAE = 16.86769457305986\n",
      "Order (0, 0, 4): MAE = 16.9059640825935\n",
      "Order (0, 0, 5): MAE = 17.14171569532337\n",
      "Order (0, 0, 6): MAE = 17.14816175145448\n",
      "Order (0, 1, 0): MAE = 57.726117146181814\n",
      "Order (0, 1, 1): MAE = 54.05788529211569\n",
      "Order (0, 1, 2): MAE = 51.772367020136095\n",
      "Order (0, 1, 3): MAE = 39.410382809221296\n",
      "Order (0, 1, 4): MAE = 18.050289862820776\n",
      "Order (0, 1, 5): MAE = 16.752443449589148\n",
      "Order (0, 1, 6): MAE = 17.14070129103442\n",
      "Order (1, 0, 0): MAE = 17.12346811987584\n",
      "Order (1, 0, 1): MAE = 17.111485802796974\n",
      "Order (1, 0, 2): MAE = 17.09785709526831\n",
      "Order (1, 0, 3): MAE = 17.098383932453686\n",
      "Order (1, 0, 4): MAE = 17.13013462847567\n",
      "Order (1, 0, 5): MAE = 17.147399137530584\n",
      "Order (1, 0, 6): MAE = 17.140858269305973\n",
      "Order (1, 1, 0): MAE = 54.756359740472824\n",
      "Order (1, 1, 1): MAE = 17.11981211854863\n",
      "Order (1, 1, 2): MAE = 17.110140394959267\n",
      "Order (1, 1, 3): MAE = 17.095788813552314\n",
      "Order (1, 1, 4): MAE = 17.096688015451498\n"
     ]
    },
    {
     "name": "stderr",
     "output_type": "stream",
     "text": [
      "/Users/alikhan/anaconda3/lib/python3.10/site-packages/statsmodels/base/model.py:604: ConvergenceWarning: Maximum Likelihood optimization failed to converge. Check mle_retvals\n",
      "  warnings.warn(\"Maximum Likelihood optimization failed to \"\n"
     ]
    },
    {
     "name": "stdout",
     "output_type": "stream",
     "text": [
      "Order (1, 1, 5): MAE = 17.128861708937364\n",
      "Order (1, 1, 6): MAE = 17.146268500022245\n",
      "Order (2, 0, 0): MAE = 17.10918585448947\n",
      "Order (2, 0, 1): MAE = 17.108662343611165\n",
      "Order (2, 0, 2): MAE = 17.07226220603449\n",
      "Order (2, 0, 3): MAE = 17.088271970464618\n",
      "Order (2, 0, 4): MAE = 17.096979548623853\n",
      "Order (2, 0, 5): MAE = 17.135416495004108\n",
      "Order (2, 0, 6): MAE = 17.125230275617866\n",
      "Order (2, 1, 0): MAE = 53.08420902710857\n",
      "Order (2, 1, 1): MAE = 17.106646817769416\n",
      "Order (2, 1, 2): MAE = 17.11136336636865\n",
      "Order (2, 1, 3): MAE = 17.11568300979505\n"
     ]
    },
    {
     "name": "stderr",
     "output_type": "stream",
     "text": [
      "/Users/alikhan/anaconda3/lib/python3.10/site-packages/statsmodels/base/model.py:604: ConvergenceWarning: Maximum Likelihood optimization failed to converge. Check mle_retvals\n",
      "  warnings.warn(\"Maximum Likelihood optimization failed to \"\n"
     ]
    },
    {
     "name": "stdout",
     "output_type": "stream",
     "text": [
      "Order (2, 1, 4): MAE = 17.095007886252095\n"
     ]
    },
    {
     "name": "stderr",
     "output_type": "stream",
     "text": [
      "/Users/alikhan/anaconda3/lib/python3.10/site-packages/statsmodels/base/model.py:604: ConvergenceWarning: Maximum Likelihood optimization failed to converge. Check mle_retvals\n",
      "  warnings.warn(\"Maximum Likelihood optimization failed to \"\n"
     ]
    },
    {
     "name": "stdout",
     "output_type": "stream",
     "text": [
      "Order (2, 1, 5): MAE = 17.093721891770713\n"
     ]
    },
    {
     "name": "stderr",
     "output_type": "stream",
     "text": [
      "/Users/alikhan/anaconda3/lib/python3.10/site-packages/statsmodels/base/model.py:604: ConvergenceWarning: Maximum Likelihood optimization failed to converge. Check mle_retvals\n",
      "  warnings.warn(\"Maximum Likelihood optimization failed to \"\n"
     ]
    },
    {
     "name": "stdout",
     "output_type": "stream",
     "text": [
      "Order (2, 1, 6): MAE = 17.13328849753329\n",
      "Best Order for Stock ID 31: (0, 0, 0)\n",
      "Best MAE for Stock ID 31: 16.61378419829855\n",
      "\n",
      "Training and evaluating for Stock ID: 32\n",
      "Training Set Date Range: 0 -- 477\n",
      "Testing Set Date Range: 478 -- 480\n",
      "Order (0, 0, 0): MAE = 3.44289080321961\n",
      "Order (0, 0, 1): MAE = 3.453414193950694\n",
      "Order (0, 0, 2): MAE = 3.4565877072172593\n",
      "Order (0, 0, 3): MAE = 3.4655920777919302\n",
      "Order (0, 0, 4): MAE = 3.464621252988043\n",
      "Order (0, 0, 5): MAE = 3.4773930139798215\n",
      "Order (0, 0, 6): MAE = 3.4765838030569687\n",
      "Order (0, 1, 0): MAE = 7.032983371066667\n",
      "Order (0, 1, 1): MAE = 6.8595147809031145\n",
      "Order (0, 1, 2): MAE = 6.727777717387267\n",
      "Order (0, 1, 3): MAE = 6.166166864763293\n",
      "Order (0, 1, 4): MAE = 3.664289538295657\n",
      "Order (0, 1, 5): MAE = 3.571074923662881\n",
      "Order (0, 1, 6): MAE = 3.477345235252094\n",
      "Order (1, 0, 0): MAE = 3.4970492108324565\n",
      "Order (1, 0, 1): MAE = 3.493912186282693\n",
      "Order (1, 0, 2): MAE = 3.491415784386469\n",
      "Order (1, 0, 3): MAE = 3.491873689668459\n",
      "Order (1, 0, 4): MAE = 3.483735983925244\n",
      "Order (1, 0, 5): MAE = 3.4766587773760844\n",
      "Order (1, 0, 6): MAE = 3.4745660937062923\n",
      "Order (1, 1, 0): MAE = 6.885043483073046\n",
      "Order (1, 1, 1): MAE = 3.4970279862439284\n",
      "Order (1, 1, 2): MAE = 3.4938888619384607\n",
      "Order (1, 1, 3): MAE = 3.4913829808623755\n"
     ]
    },
    {
     "name": "stderr",
     "output_type": "stream",
     "text": [
      "/Users/alikhan/anaconda3/lib/python3.10/site-packages/statsmodels/base/model.py:604: ConvergenceWarning: Maximum Likelihood optimization failed to converge. Check mle_retvals\n",
      "  warnings.warn(\"Maximum Likelihood optimization failed to \"\n"
     ]
    },
    {
     "name": "stdout",
     "output_type": "stream",
     "text": [
      "Order (1, 1, 4): MAE = 3.491815504438868\n",
      "Order (1, 1, 5): MAE = 3.4836725900114223\n"
     ]
    },
    {
     "name": "stderr",
     "output_type": "stream",
     "text": [
      "/Users/alikhan/anaconda3/lib/python3.10/site-packages/statsmodels/base/model.py:604: ConvergenceWarning: Maximum Likelihood optimization failed to converge. Check mle_retvals\n",
      "  warnings.warn(\"Maximum Likelihood optimization failed to \"\n"
     ]
    },
    {
     "name": "stdout",
     "output_type": "stream",
     "text": [
      "Order (1, 1, 6): MAE = 3.4766067205432414\n",
      "Order (2, 0, 0): MAE = 3.4933195397741685\n",
      "Order (2, 0, 1): MAE = 3.495392237190487\n",
      "Order (2, 0, 2): MAE = 3.4823712487253933\n",
      "Order (2, 0, 3): MAE = 3.47279457456747\n",
      "Order (2, 0, 4): MAE = 3.4703317986944446\n",
      "Order (2, 0, 5): MAE = 3.475908427075074\n",
      "Order (2, 0, 6): MAE = 3.4745873882256118\n",
      "Order (2, 1, 0): MAE = 6.783140143004386\n",
      "Order (2, 1, 1): MAE = 3.4932787190649863\n"
     ]
    },
    {
     "name": "stderr",
     "output_type": "stream",
     "text": [
      "/Users/alikhan/anaconda3/lib/python3.10/site-packages/statsmodels/base/model.py:604: ConvergenceWarning: Maximum Likelihood optimization failed to converge. Check mle_retvals\n",
      "  warnings.warn(\"Maximum Likelihood optimization failed to \"\n"
     ]
    },
    {
     "name": "stdout",
     "output_type": "stream",
     "text": [
      "Order (2, 1, 2): MAE = 3.4955368988382274\n"
     ]
    },
    {
     "name": "stderr",
     "output_type": "stream",
     "text": [
      "/Users/alikhan/anaconda3/lib/python3.10/site-packages/statsmodels/base/model.py:604: ConvergenceWarning: Maximum Likelihood optimization failed to converge. Check mle_retvals\n",
      "  warnings.warn(\"Maximum Likelihood optimization failed to \"\n"
     ]
    },
    {
     "name": "stdout",
     "output_type": "stream",
     "text": [
      "Order (2, 1, 3): MAE = 3.4958959941525727\n"
     ]
    },
    {
     "name": "stderr",
     "output_type": "stream",
     "text": [
      "/Users/alikhan/anaconda3/lib/python3.10/site-packages/statsmodels/base/model.py:604: ConvergenceWarning: Maximum Likelihood optimization failed to converge. Check mle_retvals\n",
      "  warnings.warn(\"Maximum Likelihood optimization failed to \"\n"
     ]
    },
    {
     "name": "stdout",
     "output_type": "stream",
     "text": [
      "Order (2, 1, 4): MAE = 3.491722845469657\n",
      "Order (2, 1, 5): MAE = 3.4797911979891594\n"
     ]
    },
    {
     "name": "stderr",
     "output_type": "stream",
     "text": [
      "/Users/alikhan/anaconda3/lib/python3.10/site-packages/statsmodels/base/model.py:604: ConvergenceWarning: Maximum Likelihood optimization failed to converge. Check mle_retvals\n",
      "  warnings.warn(\"Maximum Likelihood optimization failed to \"\n"
     ]
    },
    {
     "name": "stdout",
     "output_type": "stream",
     "text": [
      "Order (2, 1, 6): MAE = 3.475787309948471\n",
      "Best Order for Stock ID 32: (0, 0, 0)\n",
      "Best MAE for Stock ID 32: 3.44289080321961\n",
      "\n",
      "Training and evaluating for Stock ID: 33\n",
      "Training Set Date Range: 0 -- 477\n",
      "Testing Set Date Range: 478 -- 480\n",
      "Order (0, 0, 0): MAE = 8.179533748526337\n",
      "Order (0, 0, 1): MAE = 8.179230508905649\n",
      "Order (0, 0, 2): MAE = 8.194863673506706\n",
      "Order (0, 0, 3): MAE = 8.187515975044068\n",
      "Order (0, 0, 4): MAE = 8.202869612373096\n",
      "Order (0, 0, 5): MAE = 8.223464069149609\n",
      "Order (0, 0, 6): MAE = 8.220414715160372\n",
      "Order (0, 1, 0): MAE = 17.93735277460606\n",
      "Order (0, 1, 1): MAE = 18.992196980309984\n",
      "Order (0, 1, 2): MAE = 19.31306539139785\n",
      "Order (0, 1, 3): MAE = 8.08805573267897\n",
      "Order (0, 1, 4): MAE = 8.108075270623308\n",
      "Order (0, 1, 5): MAE = 8.219926042299383\n",
      "Order (0, 1, 6): MAE = 8.223935430495503\n",
      "Order (1, 0, 0): MAE = 8.228016289337859\n",
      "Order (1, 0, 1): MAE = 8.229177006564393\n",
      "Order (1, 0, 2): MAE = 8.222279269680655\n",
      "Order (1, 0, 3): MAE = 8.215987654337884\n",
      "Order (1, 0, 4): MAE = 8.23050559720822\n",
      "Order (1, 0, 5): MAE = 8.221445367020241\n",
      "Order (1, 0, 6): MAE = 8.217948802150502\n",
      "Order (1, 1, 0): MAE = 18.772856579901116\n",
      "Order (1, 1, 1): MAE = 8.236613752669683\n",
      "Order (1, 1, 2): MAE = 8.229394497062623\n",
      "Order (1, 1, 3): MAE = 8.223113615067051\n",
      "Order (1, 1, 4): MAE = 8.096430215632378\n",
      "Order (1, 1, 5): MAE = 8.231540466363287\n",
      "Order (1, 1, 6): MAE = 8.225303621065967\n",
      "Order (2, 0, 0): MAE = 8.22940868931916\n",
      "Order (2, 0, 1): MAE = 8.231266984937376\n",
      "Order (2, 0, 2): MAE = 8.226924442366743\n",
      "Order (2, 0, 3): MAE = 8.216395753902372\n",
      "Order (2, 0, 4): MAE = 8.221368934848675\n",
      "Order (2, 0, 5): MAE = 8.219782026630408\n",
      "Order (2, 0, 6): MAE = 8.221161323366344\n",
      "Order (2, 1, 0): MAE = 19.073153039172176\n",
      "Order (2, 1, 1): MAE = 8.22963665188227\n",
      "Order (2, 1, 2): MAE = 8.218386600638512\n",
      "Order (2, 1, 3): MAE = 8.226469932738604\n",
      "Order (2, 1, 4): MAE = 8.215984970009263\n",
      "Order (2, 1, 5): MAE = 8.213586751311052\n"
     ]
    },
    {
     "name": "stderr",
     "output_type": "stream",
     "text": [
      "/Users/alikhan/anaconda3/lib/python3.10/site-packages/statsmodels/base/model.py:604: ConvergenceWarning: Maximum Likelihood optimization failed to converge. Check mle_retvals\n",
      "  warnings.warn(\"Maximum Likelihood optimization failed to \"\n"
     ]
    },
    {
     "name": "stdout",
     "output_type": "stream",
     "text": [
      "Order (2, 1, 6): MAE = 8.225168182053737\n",
      "Best Order for Stock ID 33: (0, 1, 3)\n",
      "Best MAE for Stock ID 33: 8.08805573267897\n",
      "\n",
      "Training and evaluating for Stock ID: 34\n",
      "Training Set Date Range: 0 -- 477\n",
      "Testing Set Date Range: 478 -- 480\n",
      "Order (0, 0, 0): MAE = 5.0799793156943895\n",
      "Order (0, 0, 1): MAE = 5.08694293982525\n",
      "Order (0, 0, 2): MAE = 5.087023399913667\n",
      "Order (0, 0, 3): MAE = 5.087136493687321\n",
      "Order (0, 0, 4): MAE = 5.0894045641888574\n",
      "Order (0, 0, 5): MAE = 5.112327755453427\n",
      "Order (0, 0, 6): MAE = 5.103886530648261\n",
      "Order (0, 1, 0): MAE = 7.55678164269091\n",
      "Order (0, 1, 1): MAE = 7.361302596976502\n",
      "Order (0, 1, 2): MAE = 7.595218646726879\n",
      "Order (0, 1, 3): MAE = 5.090553500206317\n",
      "Order (0, 1, 4): MAE = 5.062635316331971\n",
      "Order (0, 1, 5): MAE = 5.0419700281966815\n"
     ]
    },
    {
     "name": "stderr",
     "output_type": "stream",
     "text": [
      "/Users/alikhan/anaconda3/lib/python3.10/site-packages/statsmodels/base/model.py:604: ConvergenceWarning: Maximum Likelihood optimization failed to converge. Check mle_retvals\n",
      "  warnings.warn(\"Maximum Likelihood optimization failed to \"\n"
     ]
    },
    {
     "name": "stdout",
     "output_type": "stream",
     "text": [
      "Order (0, 1, 6): MAE = 5.11246675559875\n",
      "Order (1, 0, 0): MAE = 5.09965099592161\n",
      "Order (1, 0, 1): MAE = 5.102844411013848\n",
      "Order (1, 0, 2): MAE = 5.098251862647733\n",
      "Order (1, 0, 3): MAE = 5.096221022523713\n",
      "Order (1, 0, 4): MAE = 5.0940790524710104\n",
      "Order (1, 0, 5): MAE = 5.105273855391568\n",
      "Order (1, 0, 6): MAE = 5.103477385968367\n",
      "Order (1, 1, 0): MAE = 7.165732235222596\n",
      "Order (1, 1, 1): MAE = 5.098608194952269\n",
      "Order (1, 1, 2): MAE = 5.102311192944519\n",
      "Order (1, 1, 3): MAE = 5.098112025714521\n",
      "Order (1, 1, 4): MAE = 5.0723598613592475\n",
      "Order (1, 1, 5): MAE = 5.073288593114054\n"
     ]
    },
    {
     "name": "stderr",
     "output_type": "stream",
     "text": [
      "/Users/alikhan/anaconda3/lib/python3.10/site-packages/statsmodels/base/model.py:604: ConvergenceWarning: Maximum Likelihood optimization failed to converge. Check mle_retvals\n",
      "  warnings.warn(\"Maximum Likelihood optimization failed to \"\n"
     ]
    },
    {
     "name": "stdout",
     "output_type": "stream",
     "text": [
      "Order (1, 1, 6): MAE = 5.105325645128289\n",
      "Order (2, 0, 0): MAE = 5.102548927163602\n",
      "Order (2, 0, 1): MAE = 5.101265436671854\n",
      "Order (2, 0, 2): MAE = 5.0821067972031155\n",
      "Order (2, 0, 3): MAE = 5.098500832287429\n",
      "Order (2, 0, 4): MAE = 5.100664865495161\n",
      "Order (2, 0, 5): MAE = 5.104224786144878\n",
      "Order (2, 0, 6): MAE = 5.102516184804099\n",
      "Order (2, 1, 0): MAE = 7.353742633696104\n",
      "Order (2, 1, 1): MAE = 5.096822270651256\n",
      "Order (2, 1, 2): MAE = 5.100868167160453\n",
      "Order (2, 1, 3): MAE = 5.091127679918565\n"
     ]
    },
    {
     "name": "stderr",
     "output_type": "stream",
     "text": [
      "/Users/alikhan/anaconda3/lib/python3.10/site-packages/statsmodels/base/model.py:604: ConvergenceWarning: Maximum Likelihood optimization failed to converge. Check mle_retvals\n",
      "  warnings.warn(\"Maximum Likelihood optimization failed to \"\n"
     ]
    },
    {
     "name": "stdout",
     "output_type": "stream",
     "text": [
      "Order (2, 1, 4): MAE = 5.0978609528074434\n"
     ]
    },
    {
     "name": "stderr",
     "output_type": "stream",
     "text": [
      "/Users/alikhan/anaconda3/lib/python3.10/site-packages/statsmodels/base/model.py:604: ConvergenceWarning: Maximum Likelihood optimization failed to converge. Check mle_retvals\n",
      "  warnings.warn(\"Maximum Likelihood optimization failed to \"\n"
     ]
    },
    {
     "name": "stdout",
     "output_type": "stream",
     "text": [
      "Order (2, 1, 5): MAE = 5.094869114324156\n"
     ]
    },
    {
     "name": "stderr",
     "output_type": "stream",
     "text": [
      "/Users/alikhan/anaconda3/lib/python3.10/site-packages/statsmodels/base/model.py:604: ConvergenceWarning: Maximum Likelihood optimization failed to converge. Check mle_retvals\n",
      "  warnings.warn(\"Maximum Likelihood optimization failed to \"\n"
     ]
    },
    {
     "name": "stdout",
     "output_type": "stream",
     "text": [
      "Order (2, 1, 6): MAE = 5.103163099343508\n",
      "Best Order for Stock ID 34: (0, 1, 5)\n",
      "Best MAE for Stock ID 34: 5.0419700281966815\n",
      "\n",
      "Training and evaluating for Stock ID: 35\n",
      "Training Set Date Range: 0 -- 477\n",
      "Testing Set Date Range: 478 -- 480\n",
      "Order (0, 0, 0): MAE = 3.5143791189045768\n",
      "Order (0, 0, 1): MAE = 3.514059616195585\n",
      "Order (0, 0, 2): MAE = 3.5147970855004256\n",
      "Order (0, 0, 3): MAE = 3.5147019380966897\n",
      "Order (0, 0, 4): MAE = 3.514270286604008\n",
      "Order (0, 0, 5): MAE = 3.515000433886415\n",
      "Order (0, 0, 6): MAE = 3.51487432056001\n",
      "Order (0, 1, 0): MAE = 3.8730556442909094\n",
      "Order (0, 1, 1): MAE = 3.842492150304479\n",
      "Order (0, 1, 2): MAE = 3.805604607367466\n",
      "Order (0, 1, 3): MAE = 3.647225374166992\n",
      "Order (0, 1, 4): MAE = 3.466582249811517\n",
      "Order (0, 1, 5): MAE = 3.4823937051524227\n",
      "Order (0, 1, 6): MAE = 3.4864421844617137\n",
      "Order (1, 0, 0): MAE = 3.512757568740432\n",
      "Order (1, 0, 1): MAE = 3.5128883177281023\n",
      "Order (1, 0, 2): MAE = 3.513488053620177\n",
      "Order (1, 0, 3): MAE = 3.5141897568980296\n",
      "Order (1, 0, 4): MAE = 3.5152999710341284\n",
      "Order (1, 0, 5): MAE = 3.5148865990240075\n",
      "Order (1, 0, 6): MAE = 3.5143890703216316\n",
      "Order (1, 1, 0): MAE = 3.8520995357548222\n",
      "Order (1, 1, 1): MAE = 3.48636599953544\n",
      "Order (1, 1, 2): MAE = 3.48862371421426\n",
      "Order (1, 1, 3): MAE = 3.4882469164332006\n",
      "Order (1, 1, 4): MAE = 3.4886845502647206\n",
      "Order (1, 1, 5): MAE = 3.489071807544229\n",
      "Order (1, 1, 6): MAE = 3.4858794626779064\n",
      "Order (2, 0, 0): MAE = 3.5129248173174767\n",
      "Order (2, 0, 1): MAE = 3.5123853597845476\n",
      "Order (2, 0, 2): MAE = 3.516106487988851\n",
      "Order (2, 0, 3): MAE = 3.5158908895350285\n",
      "Order (2, 0, 4): MAE = 3.515291175585854\n",
      "Order (2, 0, 5): MAE = 3.514821155727425\n",
      "Order (2, 0, 6): MAE = 3.5150147117832753\n",
      "Order (2, 1, 0): MAE = 3.8182981727565486\n",
      "Order (2, 1, 1): MAE = 3.488063313722959\n",
      "Order (2, 1, 2): MAE = 3.488552367293658\n",
      "Order (2, 1, 3): MAE = 3.4888344874422237\n",
      "Order (2, 1, 4): MAE = 3.488363977871432\n",
      "Order (2, 1, 5): MAE = 3.488387685190285\n",
      "Order (2, 1, 6): MAE = 3.4856511936834873\n",
      "Best Order for Stock ID 35: (0, 1, 4)\n",
      "Best MAE for Stock ID 35: 3.466582249811517\n",
      "\n",
      "Training and evaluating for Stock ID: 36\n",
      "Training Set Date Range: 0 -- 477\n",
      "Testing Set Date Range: 478 -- 480\n",
      "Order (0, 0, 0): MAE = 5.448677944631885\n",
      "Order (0, 0, 1): MAE = 5.449337666162649\n",
      "Order (0, 0, 2): MAE = 5.448850547517185\n",
      "Order (0, 0, 3): MAE = 5.450479114571741\n",
      "Order (0, 0, 4): MAE = 5.44990558425835\n",
      "Order (0, 0, 5): MAE = 5.44985680099207\n",
      "Order (0, 0, 6): MAE = 5.449814616147256\n",
      "Order (0, 1, 0): MAE = 5.470933331975758\n",
      "Order (0, 1, 1): MAE = 5.445745151577992\n",
      "Order (0, 1, 2): MAE = 5.432355000710513\n",
      "Order (0, 1, 3): MAE = 5.432704808712429\n",
      "Order (0, 1, 4): MAE = 5.6519337991013225\n",
      "Order (0, 1, 5): MAE = 5.468390834217618\n",
      "Order (0, 1, 6): MAE = 5.450075502703659\n",
      "Order (1, 0, 0): MAE = 5.44914773956137\n",
      "Order (1, 0, 1): MAE = 5.449236840369652\n",
      "Order (1, 0, 2): MAE = 5.449594752117677\n",
      "Order (1, 0, 3): MAE = 5.450585594178119\n",
      "Order (1, 0, 4): MAE = 5.450197894472026\n",
      "Order (1, 0, 5): MAE = 5.449827686024415\n",
      "Order (1, 0, 6): MAE = 5.450040181806785\n",
      "Order (1, 1, 0): MAE = 5.4509157794821785\n",
      "Order (1, 1, 1): MAE = 5.454116518305165\n",
      "Order (1, 1, 2): MAE = 5.449383735687706\n",
      "Order (1, 1, 3): MAE = 5.449700304417403\n",
      "Order (1, 1, 4): MAE = 5.450920490108765\n",
      "Order (1, 1, 5): MAE = 5.450277696705433\n",
      "Order (1, 1, 6): MAE = 5.450427261301275\n",
      "Order (2, 0, 0): MAE = 5.449251697975254\n",
      "Order (2, 0, 1): MAE = 5.450058786129815\n",
      "Order (2, 0, 2): MAE = 5.452938570207179\n",
      "Order (2, 0, 3): MAE = 5.451079752337699\n",
      "Order (2, 0, 4): MAE = 5.449265469973838\n",
      "Order (2, 0, 5): MAE = 5.449779364213412\n",
      "Order (2, 0, 6): MAE = 5.44996530310464\n",
      "Order (2, 1, 0): MAE = 5.436599576841149\n",
      "Order (2, 1, 1): MAE = 5.4495089203947185\n",
      "Order (2, 1, 2): MAE = 5.45005832904336\n",
      "Order (2, 1, 3): MAE = 5.449708643253317\n"
     ]
    },
    {
     "name": "stderr",
     "output_type": "stream",
     "text": [
      "/Users/alikhan/anaconda3/lib/python3.10/site-packages/statsmodels/base/model.py:604: ConvergenceWarning: Maximum Likelihood optimization failed to converge. Check mle_retvals\n",
      "  warnings.warn(\"Maximum Likelihood optimization failed to \"\n"
     ]
    },
    {
     "name": "stdout",
     "output_type": "stream",
     "text": [
      "Order (2, 1, 4): MAE = 5.450721407738209\n"
     ]
    },
    {
     "name": "stderr",
     "output_type": "stream",
     "text": [
      "/Users/alikhan/anaconda3/lib/python3.10/site-packages/statsmodels/base/model.py:604: ConvergenceWarning: Maximum Likelihood optimization failed to converge. Check mle_retvals\n",
      "  warnings.warn(\"Maximum Likelihood optimization failed to \"\n"
     ]
    },
    {
     "name": "stdout",
     "output_type": "stream",
     "text": [
      "Order (2, 1, 5): MAE = 5.451045594274693\n"
     ]
    },
    {
     "name": "stderr",
     "output_type": "stream",
     "text": [
      "/Users/alikhan/anaconda3/lib/python3.10/site-packages/statsmodels/base/model.py:604: ConvergenceWarning: Maximum Likelihood optimization failed to converge. Check mle_retvals\n",
      "  warnings.warn(\"Maximum Likelihood optimization failed to \"\n"
     ]
    },
    {
     "name": "stdout",
     "output_type": "stream",
     "text": [
      "Order (2, 1, 6): MAE = 5.451091728584615\n",
      "Best Order for Stock ID 36: (0, 1, 2)\n",
      "Best MAE for Stock ID 36: 5.432355000710513\n",
      "\n",
      "Training and evaluating for Stock ID: 37\n",
      "Training Set Date Range: 0 -- 477\n",
      "Testing Set Date Range: 478 -- 480\n",
      "Order (0, 0, 0): MAE = 3.2499924189815155\n",
      "Order (0, 0, 1): MAE = 3.2476718186421483\n",
      "Order (0, 0, 2): MAE = 3.2460304166670615\n",
      "Order (0, 0, 3): MAE = 3.244582714692832\n",
      "Order (0, 0, 4): MAE = 3.2414846239016377\n",
      "Order (0, 0, 5): MAE = 3.2391448531282014\n",
      "Order (0, 0, 6): MAE = 3.239843212045449\n",
      "Order (0, 1, 0): MAE = 3.2688849068060604\n",
      "Order (0, 1, 1): MAE = 3.0426551795686145\n",
      "Order (0, 1, 2): MAE = 3.0253860779415795\n",
      "Order (0, 1, 3): MAE = 3.172267494499156\n",
      "Order (0, 1, 4): MAE = 3.1235789795513127\n",
      "Order (0, 1, 5): MAE = 3.1408651096628284\n",
      "Order (0, 1, 6): MAE = 3.23909904011935\n",
      "Order (1, 0, 0): MAE = 3.235264492043118\n",
      "Order (1, 0, 1): MAE = 3.233473446978322\n",
      "Order (1, 0, 2): MAE = 3.2345831898672777\n",
      "Order (1, 0, 3): MAE = 3.2354114720055023\n",
      "Order (1, 0, 4): MAE = 3.2368115760381424\n",
      "Order (1, 0, 5): MAE = 3.2395732370608568\n",
      "Order (1, 0, 6): MAE = 3.2403357715912966\n",
      "Order (1, 1, 0): MAE = 3.0902112698581985\n",
      "Order (1, 1, 1): MAE = 3.164519387085643\n",
      "Order (1, 1, 2): MAE = 3.062978618481247\n",
      "Order (1, 1, 3): MAE = 3.234377727935706\n",
      "Order (1, 1, 4): MAE = 3.115647633076424\n",
      "Order (1, 1, 5): MAE = 3.2367114276551026\n",
      "Order (1, 1, 6): MAE = 3.239524233470022\n",
      "Order (2, 0, 0): MAE = 3.2333400355656763\n",
      "Order (2, 0, 1): MAE = 3.235840305494431\n",
      "Order (2, 0, 2): MAE = 3.243063739987124\n",
      "Order (2, 0, 3): MAE = 3.2347689143235816\n",
      "Order (2, 0, 4): MAE = 3.2407849185458604\n",
      "Order (2, 0, 5): MAE = 3.2400071538435284\n"
     ]
    },
    {
     "name": "stderr",
     "output_type": "stream",
     "text": [
      "/Users/alikhan/anaconda3/lib/python3.10/site-packages/statsmodels/base/model.py:604: ConvergenceWarning: Maximum Likelihood optimization failed to converge. Check mle_retvals\n",
      "  warnings.warn(\"Maximum Likelihood optimization failed to \"\n"
     ]
    },
    {
     "name": "stdout",
     "output_type": "stream",
     "text": [
      "Order (2, 0, 6): MAE = 3.2402684874247436\n",
      "Order (2, 1, 0): MAE = 3.0296637120005747\n",
      "Order (2, 1, 1): MAE = 3.231721670574155\n"
     ]
    },
    {
     "name": "stderr",
     "output_type": "stream",
     "text": [
      "/Users/alikhan/anaconda3/lib/python3.10/site-packages/statsmodels/base/model.py:604: ConvergenceWarning: Maximum Likelihood optimization failed to converge. Check mle_retvals\n",
      "  warnings.warn(\"Maximum Likelihood optimization failed to \"\n"
     ]
    },
    {
     "name": "stdout",
     "output_type": "stream",
     "text": [
      "Order (2, 1, 2): MAE = 3.235837667174224\n",
      "Order (2, 1, 3): MAE = 3.232805923769695\n"
     ]
    },
    {
     "name": "stderr",
     "output_type": "stream",
     "text": [
      "/Users/alikhan/anaconda3/lib/python3.10/site-packages/statsmodels/base/model.py:604: ConvergenceWarning: Maximum Likelihood optimization failed to converge. Check mle_retvals\n",
      "  warnings.warn(\"Maximum Likelihood optimization failed to \"\n"
     ]
    },
    {
     "name": "stdout",
     "output_type": "stream",
     "text": [
      "Order (2, 1, 4): MAE = 3.2348085939454667\n"
     ]
    },
    {
     "name": "stderr",
     "output_type": "stream",
     "text": [
      "/Users/alikhan/anaconda3/lib/python3.10/site-packages/statsmodels/base/model.py:604: ConvergenceWarning: Maximum Likelihood optimization failed to converge. Check mle_retvals\n",
      "  warnings.warn(\"Maximum Likelihood optimization failed to \"\n"
     ]
    },
    {
     "name": "stdout",
     "output_type": "stream",
     "text": [
      "Order (2, 1, 5): MAE = 3.234939189072483\n"
     ]
    },
    {
     "name": "stderr",
     "output_type": "stream",
     "text": [
      "/Users/alikhan/anaconda3/lib/python3.10/site-packages/statsmodels/base/model.py:604: ConvergenceWarning: Maximum Likelihood optimization failed to converge. Check mle_retvals\n",
      "  warnings.warn(\"Maximum Likelihood optimization failed to \"\n"
     ]
    },
    {
     "name": "stdout",
     "output_type": "stream",
     "text": [
      "Order (2, 1, 6): MAE = 3.2398921899876663\n",
      "Best Order for Stock ID 37: (0, 1, 2)\n",
      "Best MAE for Stock ID 37: 3.0253860779415795\n",
      "\n",
      "Training and evaluating for Stock ID: 38\n",
      "Training Set Date Range: 0 -- 477\n",
      "Testing Set Date Range: 478 -- 480\n",
      "Order (0, 0, 0): MAE = 4.48228516945449\n",
      "Order (0, 0, 1): MAE = 4.487819456145977\n",
      "Order (0, 0, 2): MAE = 4.48943283435548\n",
      "Order (0, 0, 3): MAE = 4.491062067961149\n",
      "Order (0, 0, 4): MAE = 4.485700119740347\n",
      "Order (0, 0, 5): MAE = 4.506563420350858\n",
      "Order (0, 0, 6): MAE = 4.507853046752983\n",
      "Order (0, 1, 0): MAE = 4.632924530218182\n",
      "Order (0, 1, 1): MAE = 4.601749494621268\n",
      "Order (0, 1, 2): MAE = 4.572192100151589\n",
      "Order (0, 1, 3): MAE = 4.482429031781754\n",
      "Order (0, 1, 4): MAE = 4.427197791972455\n",
      "Order (0, 1, 5): MAE = 4.478346795521806\n",
      "Order (0, 1, 6): MAE = 4.506508179657285\n",
      "Order (1, 0, 0): MAE = 4.485872547070441\n",
      "Order (1, 0, 1): MAE = 4.487202752141213\n",
      "Order (1, 0, 2): MAE = 4.48775868499679\n",
      "Order (1, 0, 3): MAE = 4.489338683104741\n",
      "Order (1, 0, 4): MAE = 4.493431532380057\n",
      "Order (1, 0, 5): MAE = 4.507867486330586\n",
      "Order (1, 0, 6): MAE = 4.506193252133621\n",
      "Order (1, 1, 0): MAE = 4.604405377449581\n",
      "Order (1, 1, 1): MAE = 4.4859217969098655\n",
      "Order (1, 1, 2): MAE = 4.488860208352355\n"
     ]
    },
    {
     "name": "stderr",
     "output_type": "stream",
     "text": [
      "/Users/alikhan/anaconda3/lib/python3.10/site-packages/statsmodels/base/model.py:604: ConvergenceWarning: Maximum Likelihood optimization failed to converge. Check mle_retvals\n",
      "  warnings.warn(\"Maximum Likelihood optimization failed to \"\n"
     ]
    },
    {
     "name": "stdout",
     "output_type": "stream",
     "text": [
      "Order (1, 1, 3): MAE = 4.487657172623577\n"
     ]
    },
    {
     "name": "stderr",
     "output_type": "stream",
     "text": [
      "/Users/alikhan/anaconda3/lib/python3.10/site-packages/statsmodels/base/model.py:604: ConvergenceWarning: Maximum Likelihood optimization failed to converge. Check mle_retvals\n",
      "  warnings.warn(\"Maximum Likelihood optimization failed to \"\n"
     ]
    },
    {
     "name": "stdout",
     "output_type": "stream",
     "text": [
      "Order (1, 1, 4): MAE = 4.4892989746635035\n",
      "Order (1, 1, 5): MAE = 4.493398404877867\n"
     ]
    },
    {
     "name": "stderr",
     "output_type": "stream",
     "text": [
      "/Users/alikhan/anaconda3/lib/python3.10/site-packages/statsmodels/base/model.py:604: ConvergenceWarning: Maximum Likelihood optimization failed to converge. Check mle_retvals\n",
      "  warnings.warn(\"Maximum Likelihood optimization failed to \"\n"
     ]
    },
    {
     "name": "stdout",
     "output_type": "stream",
     "text": [
      "Order (1, 1, 6): MAE = 4.507827579126864\n",
      "Order (2, 0, 0): MAE = 4.487487886805644\n",
      "Order (2, 0, 1): MAE = 4.49115521904552\n",
      "Order (2, 0, 2): MAE = 4.492143032629647\n",
      "Order (2, 0, 3): MAE = 4.497966763310122\n",
      "Order (2, 0, 4): MAE = 4.497448757171224\n",
      "Order (2, 0, 5): MAE = 4.507813907652334\n",
      "Order (2, 0, 6): MAE = 4.505122117504863\n",
      "Order (2, 1, 0): MAE = 4.578710298660861\n",
      "Order (2, 1, 1): MAE = 4.4888145535320945\n",
      "Order (2, 1, 2): MAE = 4.4883274028814775\n",
      "Order (2, 1, 3): MAE = 4.488428847040509\n",
      "Order (2, 1, 4): MAE = 4.489849626928194\n"
     ]
    },
    {
     "name": "stderr",
     "output_type": "stream",
     "text": [
      "/Users/alikhan/anaconda3/lib/python3.10/site-packages/statsmodels/base/model.py:604: ConvergenceWarning: Maximum Likelihood optimization failed to converge. Check mle_retvals\n",
      "  warnings.warn(\"Maximum Likelihood optimization failed to \"\n"
     ]
    },
    {
     "name": "stdout",
     "output_type": "stream",
     "text": [
      "Order (2, 1, 5): MAE = 4.49853999387838\n"
     ]
    },
    {
     "name": "stderr",
     "output_type": "stream",
     "text": [
      "/Users/alikhan/anaconda3/lib/python3.10/site-packages/statsmodels/base/model.py:604: ConvergenceWarning: Maximum Likelihood optimization failed to converge. Check mle_retvals\n",
      "  warnings.warn(\"Maximum Likelihood optimization failed to \"\n"
     ]
    },
    {
     "name": "stdout",
     "output_type": "stream",
     "text": [
      "Order (2, 1, 6): MAE = 4.507804667873596\n",
      "Best Order for Stock ID 38: (0, 1, 4)\n",
      "Best MAE for Stock ID 38: 4.427197791972455\n",
      "\n",
      "Training and evaluating for Stock ID: 39\n",
      "Training Set Date Range: 0 -- 477\n",
      "Testing Set Date Range: 478 -- 480\n",
      "Order (0, 0, 0): MAE = 3.707800176405602\n",
      "Order (0, 0, 1): MAE = 3.7065700522617617\n",
      "Order (0, 0, 2): MAE = 3.7061255740115318\n",
      "Order (0, 0, 3): MAE = 3.7050950344085694\n",
      "Order (0, 0, 4): MAE = 3.70394796597414\n",
      "Order (0, 0, 5): MAE = 3.7027003208051115\n",
      "Order (0, 0, 6): MAE = 3.703698864744341\n",
      "Order (0, 1, 0): MAE = 3.5352851446060605\n",
      "Order (0, 1, 1): MAE = 3.5082383299102364\n",
      "Order (0, 1, 2): MAE = 3.506382418009527\n",
      "Order (0, 1, 3): MAE = 3.6528140909786\n",
      "Order (0, 1, 4): MAE = 3.6565217842072295\n",
      "Order (0, 1, 5): MAE = 3.6519817016834937\n",
      "Order (0, 1, 6): MAE = 3.6490886745883326\n",
      "Order (1, 0, 0): MAE = 3.7026624672971185\n",
      "Order (1, 0, 1): MAE = 3.701772411554933\n",
      "Order (1, 0, 2): MAE = 3.7021498839520546\n",
      "Order (1, 0, 3): MAE = 3.7017715129119946\n",
      "Order (1, 0, 4): MAE = 3.7028245968698186\n",
      "Order (1, 0, 5): MAE = 3.703359565047579\n",
      "Order (1, 0, 6): MAE = 3.704447929046981\n",
      "Order (1, 1, 0): MAE = 3.512277933989359\n",
      "Order (1, 1, 1): MAE = 3.6475562657677902\n",
      "Order (1, 1, 2): MAE = 3.6466339082950583\n",
      "Order (1, 1, 3): MAE = 3.646892114399202\n",
      "Order (1, 1, 4): MAE = 3.657831924030293\n",
      "Order (1, 1, 5): MAE = 3.6578998918272947\n",
      "Order (1, 1, 6): MAE = 3.6480786400184004\n",
      "Order (2, 0, 0): MAE = 3.7017791767420425\n",
      "Order (2, 0, 1): MAE = 3.701941654877655\n",
      "Order (2, 0, 2): MAE = 3.7056287122026554\n",
      "Order (2, 0, 3): MAE = 3.702121041261768\n",
      "Order (2, 0, 4): MAE = 3.705345950810742\n",
      "Order (2, 0, 5): MAE = 3.7034773311423614\n",
      "Order (2, 0, 6): MAE = 3.704656376683576\n",
      "Order (2, 1, 0): MAE = 3.510977888122117\n",
      "Order (2, 1, 1): MAE = 3.6466306853159516\n",
      "Order (2, 1, 2): MAE = 3.6477880112124783\n",
      "Order (2, 1, 3): MAE = 3.646339653078937\n",
      "Order (2, 1, 4): MAE = 3.6328482092937917\n",
      "Order (2, 1, 5): MAE = 3.646770323544105\n",
      "Order (2, 1, 6): MAE = 3.648236987131279\n",
      "Best Order for Stock ID 39: (0, 1, 2)\n",
      "Best MAE for Stock ID 39: 3.506382418009527\n",
      "\n",
      "Training and evaluating for Stock ID: 40\n",
      "Training Set Date Range: 0 -- 477\n",
      "Testing Set Date Range: 478 -- 480\n",
      "Order (0, 0, 0): MAE = 4.97067834831244\n",
      "Order (0, 0, 1): MAE = 4.971540459295458\n",
      "Order (0, 0, 2): MAE = 4.971196789355623\n",
      "Order (0, 0, 3): MAE = 4.968677221656477\n",
      "Order (0, 0, 4): MAE = 4.96938953572645\n",
      "Order (0, 0, 5): MAE = 4.9715375823706625\n",
      "Order (0, 0, 6): MAE = 4.971804816033879\n",
      "Order (0, 1, 0): MAE = 5.036122873381819\n",
      "Order (0, 1, 1): MAE = 5.130022471746697\n",
      "Order (0, 1, 2): MAE = 5.181110087362469\n",
      "Order (0, 1, 3): MAE = 4.922484379430058\n",
      "Order (0, 1, 4): MAE = 5.05079221531721\n",
      "Order (0, 1, 5): MAE = 4.868278862897213\n",
      "Order (0, 1, 6): MAE = 4.900377770138667\n",
      "Order (1, 0, 0): MAE = 4.9720853753405\n",
      "Order (1, 0, 1): MAE = 4.971313949844449\n",
      "Order (1, 0, 2): MAE = 4.969958285780782\n",
      "Order (1, 0, 3): MAE = 4.97502202583909\n",
      "Order (1, 0, 4): MAE = 4.970298907320349\n",
      "Order (1, 0, 5): MAE = 4.971781412655997\n",
      "Order (1, 0, 6): MAE = 4.9717080887548235\n",
      "Order (1, 1, 0): MAE = 5.112579818961243\n",
      "Order (1, 1, 1): MAE = 4.91604623902021\n",
      "Order (1, 1, 2): MAE = 4.912744055489808\n",
      "Order (1, 1, 3): MAE = 4.909162663879299\n",
      "Order (1, 1, 4): MAE = 4.876174457722387\n",
      "Order (1, 1, 5): MAE = 4.907647696297782\n",
      "Order (1, 1, 6): MAE = 4.898372908681666\n",
      "Order (2, 0, 0): MAE = 4.971170098782749\n",
      "Order (2, 0, 1): MAE = 4.973107883568958\n",
      "Order (2, 0, 2): MAE = 4.96995999977773\n",
      "Order (2, 0, 3): MAE = 4.9723233359229715\n",
      "Order (2, 0, 4): MAE = 4.9685703263235945\n",
      "Order (2, 0, 5): MAE = 4.971915501669249\n",
      "Order (2, 0, 6): MAE = 4.971723952023094\n",
      "Order (2, 1, 0): MAE = 5.180369087245325\n",
      "Order (2, 1, 1): MAE = 4.9130175508110625\n",
      "Order (2, 1, 2): MAE = 4.91566456578919\n",
      "Order (2, 1, 3): MAE = 4.917282362380147\n",
      "Order (2, 1, 4): MAE = 4.909585973913868\n",
      "Order (2, 1, 5): MAE = 4.9095442709957196\n",
      "Order (2, 1, 6): MAE = 4.896542805065304\n",
      "Best Order for Stock ID 40: (0, 1, 5)\n",
      "Best MAE for Stock ID 40: 4.868278862897213\n",
      "\n",
      "Training and evaluating for Stock ID: 41\n",
      "Training Set Date Range: 0 -- 477\n",
      "Testing Set Date Range: 478 -- 480\n",
      "Order (0, 0, 0): MAE = 5.558638824164442\n",
      "Order (0, 0, 1): MAE = 5.558798426853232\n",
      "Order (0, 0, 2): MAE = 5.557827856535685\n",
      "Order (0, 0, 3): MAE = 5.556574079742381\n",
      "Order (0, 0, 4): MAE = 5.5555401387067755\n",
      "Order (0, 0, 5): MAE = 5.553140024048909\n",
      "Order (0, 0, 6): MAE = 5.553302826765499\n",
      "Order (0, 1, 0): MAE = 5.520390725987879\n",
      "Order (0, 1, 1): MAE = 5.557910088088972\n",
      "Order (0, 1, 2): MAE = 5.606990770780027\n",
      "Order (0, 1, 3): MAE = 5.809414495420099\n",
      "Order (0, 1, 4): MAE = 5.493681603614867\n",
      "Order (0, 1, 5): MAE = 5.493818811239872\n",
      "Order (0, 1, 6): MAE = 5.502298611491047\n",
      "Order (1, 0, 0): MAE = 5.557783136460194\n",
      "Order (1, 0, 1): MAE = 5.557637032361684\n",
      "Order (1, 0, 2): MAE = 5.555961249672032\n",
      "Order (1, 0, 3): MAE = 5.55222838669825\n",
      "Order (1, 0, 4): MAE = 5.551519149528252\n",
      "Order (1, 0, 5): MAE = 5.553286629357458\n",
      "Order (1, 0, 6): MAE = 5.55452159798123\n",
      "Order (1, 1, 0): MAE = 5.5453380562049555\n",
      "Order (1, 1, 1): MAE = 5.50726279396897\n",
      "Order (1, 1, 2): MAE = 5.514727126553749\n",
      "Order (1, 1, 3): MAE = 5.5108809217161605\n",
      "Order (1, 1, 4): MAE = 5.506878452497076\n",
      "Order (1, 1, 5): MAE = 5.505312899218097\n",
      "Order (1, 1, 6): MAE = 5.501413064706969\n",
      "Order (2, 0, 0): MAE = 5.5575664215102325\n",
      "Order (2, 0, 1): MAE = 5.558795975508109\n",
      "Order (2, 0, 2): MAE = 5.550886804421321\n",
      "Order (2, 0, 3): MAE = 5.55478490302615\n",
      "Order (2, 0, 4): MAE = 5.553740766863318\n",
      "Order (2, 0, 5): MAE = 5.553437036098053\n",
      "Order (2, 0, 6): MAE = 5.555524127882881\n",
      "Order (2, 1, 0): MAE = 5.592385488314069\n",
      "Order (2, 1, 1): MAE = 5.514031535038831\n",
      "Order (2, 1, 2): MAE = 5.515163822831336\n",
      "Order (2, 1, 3): MAE = 5.515953905135287\n",
      "Order (2, 1, 4): MAE = 5.50899997997121\n",
      "Order (2, 1, 5): MAE = 5.498071148723235\n",
      "Order (2, 1, 6): MAE = 5.500868547128769\n",
      "Best Order for Stock ID 41: (0, 1, 4)\n",
      "Best MAE for Stock ID 41: 5.493681603614867\n",
      "\n",
      "Training and evaluating for Stock ID: 42\n",
      "Training Set Date Range: 0 -- 477\n",
      "Testing Set Date Range: 478 -- 480\n",
      "Order (0, 0, 0): MAE = 7.310337743475422\n",
      "Order (0, 0, 1): MAE = 7.315445051095725\n",
      "Order (0, 0, 2): MAE = 7.312656261350406\n",
      "Order (0, 0, 3): MAE = 7.314171645254319\n",
      "Order (0, 0, 4): MAE = 7.3111703223149425\n",
      "Order (0, 0, 5): MAE = 7.312749855545505\n",
      "Order (0, 0, 6): MAE = 7.3132847954407\n",
      "Order (0, 1, 0): MAE = 8.265907132121212\n",
      "Order (0, 1, 1): MAE = 8.06195837271024\n",
      "Order (0, 1, 2): MAE = 8.386566030124097\n",
      "Order (0, 1, 3): MAE = 7.336461672486557\n",
      "Order (0, 1, 4): MAE = 7.3304839103071915\n",
      "Order (0, 1, 5): MAE = 7.319769416231768\n",
      "Order (0, 1, 6): MAE = 7.312980340064011\n",
      "Order (1, 0, 0): MAE = 7.316934370906145\n",
      "Order (1, 0, 1): MAE = 7.317089628691274\n",
      "Order (1, 0, 2): MAE = 7.315849520299932\n",
      "Order (1, 0, 3): MAE = 7.31344284187377\n",
      "Order (1, 0, 4): MAE = 7.311000175947014\n",
      "Order (1, 0, 5): MAE = 7.313073452252591\n",
      "Order (1, 0, 6): MAE = 7.313309001753098\n",
      "Order (1, 1, 0): MAE = 7.965449739094826\n",
      "Order (1, 1, 1): MAE = 7.318442962687054\n",
      "Order (1, 1, 2): MAE = 8.261201284766067\n",
      "Order (1, 1, 3): MAE = 7.316510276579531\n",
      "Order (1, 1, 4): MAE = 7.332231271753987\n",
      "Order (1, 1, 5): MAE = 7.349833771026607\n",
      "Order (1, 1, 6): MAE = 7.313168274526704\n",
      "Order (2, 0, 0): MAE = 7.317001720614176\n",
      "Order (2, 0, 1): MAE = 7.318505938229412\n",
      "Order (2, 0, 2): MAE = 7.310649847517192\n",
      "Order (2, 0, 3): MAE = 7.316868875604396\n",
      "Order (2, 0, 4): MAE = 7.3119316027173245\n",
      "Order (2, 0, 5): MAE = 7.313336504918835\n",
      "Order (2, 0, 6): MAE = 7.313263751938205\n",
      "Order (2, 1, 0): MAE = 8.146356812318276\n",
      "Order (2, 1, 1): MAE = 7.317457024628363\n",
      "Order (2, 1, 2): MAE = 7.319793618688319\n"
     ]
    },
    {
     "name": "stderr",
     "output_type": "stream",
     "text": [
      "/Users/alikhan/anaconda3/lib/python3.10/site-packages/statsmodels/base/model.py:604: ConvergenceWarning: Maximum Likelihood optimization failed to converge. Check mle_retvals\n",
      "  warnings.warn(\"Maximum Likelihood optimization failed to \"\n"
     ]
    },
    {
     "name": "stdout",
     "output_type": "stream",
     "text": [
      "Order (2, 1, 3): MAE = 7.319638252518897\n",
      "Order (2, 1, 4): MAE = 7.3674593847604175\n"
     ]
    },
    {
     "name": "stderr",
     "output_type": "stream",
     "text": [
      "/Users/alikhan/anaconda3/lib/python3.10/site-packages/statsmodels/base/model.py:604: ConvergenceWarning: Maximum Likelihood optimization failed to converge. Check mle_retvals\n",
      "  warnings.warn(\"Maximum Likelihood optimization failed to \"\n"
     ]
    },
    {
     "name": "stdout",
     "output_type": "stream",
     "text": [
      "Order (2, 1, 5): MAE = 7.323274836286535\n"
     ]
    },
    {
     "name": "stderr",
     "output_type": "stream",
     "text": [
      "/Users/alikhan/anaconda3/lib/python3.10/site-packages/statsmodels/base/model.py:604: ConvergenceWarning: Maximum Likelihood optimization failed to converge. Check mle_retvals\n",
      "  warnings.warn(\"Maximum Likelihood optimization failed to \"\n"
     ]
    },
    {
     "name": "stdout",
     "output_type": "stream",
     "text": [
      "Order (2, 1, 6): MAE = 7.313611987629447\n",
      "Best Order for Stock ID 42: (0, 0, 0)\n",
      "Best MAE for Stock ID 42: 7.310337743475422\n",
      "\n",
      "Training and evaluating for Stock ID: 43\n",
      "Training Set Date Range: 0 -- 477\n",
      "Testing Set Date Range: 478 -- 480\n",
      "Order (0, 0, 0): MAE = 3.9149949788304172\n",
      "Order (0, 0, 1): MAE = 3.9147577378664153\n",
      "Order (0, 0, 2): MAE = 3.9144519735647485\n",
      "Order (0, 0, 3): MAE = 3.9145087453163407\n",
      "Order (0, 0, 4): MAE = 3.9146917133065777\n",
      "Order (0, 0, 5): MAE = 3.915423563889036\n",
      "Order (0, 0, 6): MAE = 3.9155078770951617\n",
      "Order (0, 1, 0): MAE = 3.963972583381818\n",
      "Order (0, 1, 1): MAE = 3.9825169836532734\n",
      "Order (0, 1, 2): MAE = 3.985316004669195\n",
      "Order (0, 1, 3): MAE = 3.8699329833800307\n",
      "Order (0, 1, 4): MAE = 3.904783792797068\n",
      "Order (0, 1, 5): MAE = 3.903519851034959\n",
      "Order (0, 1, 6): MAE = 3.9096779071304817\n",
      "Order (1, 0, 0): MAE = 3.913052205080037\n",
      "Order (1, 0, 1): MAE = 3.913041949243272\n",
      "Order (1, 0, 2): MAE = 3.913266318704553\n",
      "Order (1, 0, 3): MAE = 3.9136918739702047\n",
      "Order (1, 0, 4): MAE = 3.9149171470802595\n",
      "Order (1, 0, 5): MAE = 3.915476706601552\n",
      "Order (1, 0, 6): MAE = 3.9155896608844163\n",
      "Order (1, 1, 0): MAE = 3.9777420969759096\n",
      "Order (1, 1, 1): MAE = 3.9042986040588272\n",
      "Order (1, 1, 2): MAE = 3.907921398923032\n",
      "Order (1, 1, 3): MAE = 3.9071192929291674\n",
      "Order (1, 1, 4): MAE = 3.9063791049123084\n",
      "Order (1, 1, 5): MAE = 3.9090846523089957\n",
      "Order (1, 1, 6): MAE = 3.9078514859619737\n",
      "Order (2, 0, 0): MAE = 3.9130404249466446\n",
      "Order (2, 0, 1): MAE = 3.912883772349571\n",
      "Order (2, 0, 2): MAE = 3.914925772758\n",
      "Order (2, 0, 3): MAE = 3.9146324882403176\n",
      "Order (2, 0, 4): MAE = 3.9152224212519684\n",
      "Order (2, 0, 5): MAE = 3.915565044038358\n",
      "Order (2, 0, 6): MAE = 3.9152041294933047\n",
      "Order (2, 1, 0): MAE = 3.9884644362975172\n",
      "Order (2, 1, 1): MAE = 3.9078047385052206\n",
      "Order (2, 1, 2): MAE = 3.9072242974421285\n",
      "Order (2, 1, 3): MAE = 3.908059459871038\n",
      "Order (2, 1, 4): MAE = 3.907022237223169\n"
     ]
    },
    {
     "name": "stderr",
     "output_type": "stream",
     "text": [
      "/Users/alikhan/anaconda3/lib/python3.10/site-packages/statsmodels/base/model.py:604: ConvergenceWarning: Maximum Likelihood optimization failed to converge. Check mle_retvals\n",
      "  warnings.warn(\"Maximum Likelihood optimization failed to \"\n"
     ]
    },
    {
     "name": "stdout",
     "output_type": "stream",
     "text": [
      "Order (2, 1, 5): MAE = 3.904602925929985\n",
      "Order (2, 1, 6): MAE = 3.907125047272348\n",
      "Best Order for Stock ID 43: (0, 1, 3)\n",
      "Best MAE for Stock ID 43: 3.8699329833800307\n",
      "\n",
      "Training and evaluating for Stock ID: 44\n",
      "Training Set Date Range: 0 -- 477\n",
      "Testing Set Date Range: 478 -- 480\n",
      "Order (0, 0, 0): MAE = 3.65354187495932\n",
      "Order (0, 0, 1): MAE = 3.6537683765057962\n",
      "Order (0, 0, 2): MAE = 3.653898094629244\n",
      "Order (0, 0, 3): MAE = 3.653951721530638\n",
      "Order (0, 0, 4): MAE = 3.654082823378402\n",
      "Order (0, 0, 5): MAE = 3.6550541251779674\n",
      "Order (0, 0, 6): MAE = 3.65506513872291\n",
      "Order (0, 1, 0): MAE = 3.8361766341818186\n",
      "Order (0, 1, 1): MAE = 3.8317149542215594\n",
      "Order (0, 1, 2): MAE = 3.8480474657872503\n",
      "Order (0, 1, 3): MAE = 4.124377262724496\n",
      "Order (0, 1, 4): MAE = 3.8348420968828827\n",
      "Order (0, 1, 5): MAE = 3.6732260914223516\n",
      "Order (0, 1, 6): MAE = 3.6562480971299722\n",
      "Order (1, 0, 0): MAE = 3.654992224883736\n",
      "Order (1, 0, 1): MAE = 3.654940843284857\n",
      "Order (1, 0, 2): MAE = 3.6547162242059894\n",
      "Order (1, 0, 3): MAE = 3.6543871019652787\n",
      "Order (1, 0, 4): MAE = 3.6544432560839857\n",
      "Order (1, 0, 5): MAE = 3.6550574083236094\n",
      "Order (1, 0, 6): MAE = 3.6548061376002843\n",
      "Order (1, 1, 0): MAE = 3.829152984275761\n",
      "Order (1, 1, 1): MAE = 3.658952597617816\n",
      "Order (1, 1, 2): MAE = 3.6551569582336123\n",
      "Order (1, 1, 3): MAE = 3.6549063714157706\n",
      "Order (1, 1, 4): MAE = 3.795265847261245\n",
      "Order (1, 1, 5): MAE = 3.6546462220136884\n",
      "Order (1, 1, 6): MAE = 3.6578917009779377\n",
      "Order (2, 0, 0): MAE = 3.654928219619557\n",
      "Order (2, 0, 1): MAE = 3.65452277702081\n",
      "Order (2, 0, 2): MAE = 3.653951721215898\n",
      "Order (2, 0, 3): MAE = 3.6545115243897572\n",
      "Order (2, 0, 4): MAE = 3.654684107456219\n",
      "Order (2, 0, 5): MAE = 3.655115366693772\n",
      "Order (2, 0, 6): MAE = 3.654712334970699\n",
      "Order (2, 1, 0): MAE = 3.839798931760361\n",
      "Order (2, 1, 1): MAE = 3.6549440068341053\n",
      "Order (2, 1, 2): MAE = 3.654706419477836\n",
      "Order (2, 1, 3): MAE = 3.654553438167317\n",
      "Order (2, 1, 4): MAE = 3.6544125593198524\n",
      "Order (2, 1, 5): MAE = 3.661668559988952\n",
      "Order (2, 1, 6): MAE = 3.658699915242869\n",
      "Best Order for Stock ID 44: (0, 0, 0)\n",
      "Best MAE for Stock ID 44: 3.65354187495932\n",
      "\n",
      "Training and evaluating for Stock ID: 45\n",
      "Training Set Date Range: 0 -- 477\n",
      "Testing Set Date Range: 478 -- 480\n",
      "Order (0, 0, 0): MAE = 2.9636323033797694\n",
      "Order (0, 0, 1): MAE = 2.988921996263707\n",
      "Order (0, 0, 2): MAE = 3.011709004053499\n",
      "Order (0, 0, 3): MAE = 3.0230536250445614\n",
      "Order (0, 0, 4): MAE = 3.026250966226503\n",
      "Order (0, 0, 5): MAE = 3.0882400116076685\n",
      "Order (0, 0, 6): MAE = 3.0840222667035295\n",
      "Order (0, 1, 0): MAE = 12.713244070351514\n",
      "Order (0, 1, 1): MAE = 11.835280522088535\n",
      "Order (0, 1, 2): MAE = 11.76958819435247\n",
      "Order (0, 1, 3): MAE = 9.03426818236929\n",
      "Order (0, 1, 4): MAE = 3.032649345247951\n",
      "Order (0, 1, 5): MAE = 3.0711026980185996\n",
      "Order (0, 1, 6): MAE = 3.088164456447211\n",
      "Order (1, 0, 0): MAE = 3.0820646246898153\n",
      "Order (1, 0, 1): MAE = 3.081568318214904\n",
      "Order (1, 0, 2): MAE = 3.0748550760895332\n",
      "Order (1, 0, 3): MAE = 3.075799437988824\n",
      "Order (1, 0, 4): MAE = 3.0799765247743007\n",
      "Order (1, 0, 5): MAE = 3.0841514855656684\n",
      "Order (1, 0, 6): MAE = 3.081877366861144\n",
      "Order (1, 1, 0): MAE = 11.932577339862776\n",
      "Order (1, 1, 1): MAE = 3.083035062947382\n"
     ]
    },
    {
     "name": "stderr",
     "output_type": "stream",
     "text": [
      "/Users/alikhan/anaconda3/lib/python3.10/site-packages/statsmodels/base/model.py:604: ConvergenceWarning: Maximum Likelihood optimization failed to converge. Check mle_retvals\n",
      "  warnings.warn(\"Maximum Likelihood optimization failed to \"\n"
     ]
    },
    {
     "name": "stdout",
     "output_type": "stream",
     "text": [
      "Order (1, 1, 2): MAE = 3.081933380952278\n",
      "Order (1, 1, 3): MAE = 3.074844340636601\n"
     ]
    },
    {
     "name": "stderr",
     "output_type": "stream",
     "text": [
      "/Users/alikhan/anaconda3/lib/python3.10/site-packages/statsmodels/base/model.py:604: ConvergenceWarning: Maximum Likelihood optimization failed to converge. Check mle_retvals\n",
      "  warnings.warn(\"Maximum Likelihood optimization failed to \"\n"
     ]
    },
    {
     "name": "stdout",
     "output_type": "stream",
     "text": [
      "Order (1, 1, 4): MAE = 3.0758564493610865\n",
      "Order (1, 1, 5): MAE = 3.079942967387183\n",
      "Order (1, 1, 6): MAE = 3.0840995899436616\n",
      "Order (2, 0, 0): MAE = 3.0815282484278894\n",
      "Order (2, 0, 1): MAE = 3.0840231570530516\n",
      "Order (2, 0, 2): MAE = 3.063993789018461\n",
      "Order (2, 0, 3): MAE = 3.0638591732253677\n",
      "Order (2, 0, 4): MAE = 3.0675436171491177\n",
      "Order (2, 0, 5): MAE = 3.0844627568318974\n",
      "Order (2, 0, 6): MAE = 3.0825414931925694\n",
      "Order (2, 1, 0): MAE = 11.870696345793595\n",
      "Order (2, 1, 1): MAE = 3.0816141140336337\n",
      "Order (2, 1, 2): MAE = 3.0807785672085477\n",
      "Order (2, 1, 3): MAE = 3.084028499202124\n"
     ]
    },
    {
     "name": "stderr",
     "output_type": "stream",
     "text": [
      "/Users/alikhan/anaconda3/lib/python3.10/site-packages/statsmodels/base/model.py:604: ConvergenceWarning: Maximum Likelihood optimization failed to converge. Check mle_retvals\n",
      "  warnings.warn(\"Maximum Likelihood optimization failed to \"\n"
     ]
    },
    {
     "name": "stdout",
     "output_type": "stream",
     "text": [
      "Order (2, 1, 4): MAE = 3.0758121588975396\n"
     ]
    },
    {
     "name": "stderr",
     "output_type": "stream",
     "text": [
      "/Users/alikhan/anaconda3/lib/python3.10/site-packages/statsmodels/base/model.py:604: ConvergenceWarning: Maximum Likelihood optimization failed to converge. Check mle_retvals\n",
      "  warnings.warn(\"Maximum Likelihood optimization failed to \"\n"
     ]
    },
    {
     "name": "stdout",
     "output_type": "stream",
     "text": [
      "Order (2, 1, 5): MAE = 3.075798612272448\n"
     ]
    },
    {
     "name": "stderr",
     "output_type": "stream",
     "text": [
      "/Users/alikhan/anaconda3/lib/python3.10/site-packages/statsmodels/base/model.py:604: ConvergenceWarning: Maximum Likelihood optimization failed to converge. Check mle_retvals\n",
      "  warnings.warn(\"Maximum Likelihood optimization failed to \"\n"
     ]
    },
    {
     "name": "stdout",
     "output_type": "stream",
     "text": [
      "Order (2, 1, 6): MAE = 3.0844535163073554\n",
      "Best Order for Stock ID 45: (0, 0, 0)\n",
      "Best MAE for Stock ID 45: 2.9636323033797694\n",
      "\n",
      "Training and evaluating for Stock ID: 46\n",
      "Training Set Date Range: 0 -- 477\n",
      "Testing Set Date Range: 478 -- 480\n",
      "Order (0, 0, 0): MAE = 4.814670339178647\n",
      "Order (0, 0, 1): MAE = 4.814025580713431\n",
      "Order (0, 0, 2): MAE = 4.8134014012453745\n",
      "Order (0, 0, 3): MAE = 4.813185880138995\n",
      "Order (0, 0, 4): MAE = 4.815150715638661\n",
      "Order (0, 0, 5): MAE = 4.818361386614661\n",
      "Order (0, 0, 6): MAE = 4.818277487541469\n",
      "Order (0, 1, 0): MAE = 4.823280103333333\n",
      "Order (0, 1, 1): MAE = 4.809492115993547\n",
      "Order (0, 1, 2): MAE = 4.883358788239504\n",
      "Order (0, 1, 3): MAE = 4.726464826759535\n",
      "Order (0, 1, 4): MAE = 4.750803516390558\n",
      "Order (0, 1, 5): MAE = 4.766514700528454\n",
      "Order (0, 1, 6): MAE = 4.7857695657518455\n",
      "Order (1, 0, 0): MAE = 4.811774500752085\n",
      "Order (1, 0, 1): MAE = 4.8112862494295285\n",
      "Order (1, 0, 2): MAE = 4.811583560293034\n",
      "Order (1, 0, 3): MAE = 4.814115484674154\n",
      "Order (1, 0, 4): MAE = 4.816198095227773\n",
      "Order (1, 0, 5): MAE = 4.818300779607021\n",
      "Order (1, 0, 6): MAE = 4.819406603498667\n",
      "Order (1, 1, 0): MAE = 4.7754995748141384\n",
      "Order (1, 1, 1): MAE = 4.770691775638543\n",
      "Order (1, 1, 2): MAE = 4.77246216760206\n",
      "Order (1, 1, 3): MAE = 4.771981344708454\n",
      "Order (1, 1, 4): MAE = 4.74115989579898\n",
      "Order (1, 1, 5): MAE = 4.778884950104714\n",
      "Order (1, 1, 6): MAE = 4.780179465268866\n",
      "Order (2, 0, 0): MAE = 4.811282001526011\n",
      "Order (2, 0, 1): MAE = 4.811462138453082\n",
      "Order (2, 0, 2): MAE = 4.818301540172357\n",
      "Order (2, 0, 3): MAE = 4.8190804234424895\n",
      "Order (2, 0, 4): MAE = 4.817370104731593\n",
      "Order (2, 0, 5): MAE = 4.818372823996946\n",
      "Order (2, 0, 6): MAE = 4.819965301230234\n",
      "Order (2, 1, 0): MAE = 4.808847388977835\n",
      "Order (2, 1, 1): MAE = 4.770893290175109\n",
      "Order (2, 1, 2): MAE = 4.769975332461018\n",
      "Order (2, 1, 3): MAE = 4.772925171266931\n",
      "Order (2, 1, 4): MAE = 4.720263559610476\n",
      "Order (2, 1, 5): MAE = 4.7713472088263424\n",
      "Order (2, 1, 6): MAE = 4.777778481966226\n",
      "Best Order for Stock ID 46: (2, 1, 4)\n",
      "Best MAE for Stock ID 46: 4.720263559610476\n",
      "\n",
      "Training and evaluating for Stock ID: 47\n",
      "Training Set Date Range: 0 -- 477\n",
      "Testing Set Date Range: 478 -- 480\n",
      "Order (0, 0, 0): MAE = 4.489242448770173\n",
      "Order (0, 0, 1): MAE = 4.490297915199339\n",
      "Order (0, 0, 2): MAE = 4.489507348110084\n",
      "Order (0, 0, 3): MAE = 4.490273383357195\n",
      "Order (0, 0, 4): MAE = 4.491771261330375\n",
      "Order (0, 0, 5): MAE = 4.495843854330053\n",
      "Order (0, 0, 6): MAE = 4.495333149203024\n",
      "Order (0, 1, 0): MAE = 5.14894904090909\n",
      "Order (0, 1, 1): MAE = 5.176477219771649\n",
      "Order (0, 1, 2): MAE = 5.22704065255775\n",
      "Order (0, 1, 3): MAE = 4.532909461297394\n",
      "Order (0, 1, 4): MAE = 4.483600109038309\n",
      "Order (0, 1, 5): MAE = 4.486598040494828\n",
      "Order (0, 1, 6): MAE = 4.495779706787507\n",
      "Order (1, 0, 0): MAE = 4.493334287501993\n",
      "Order (1, 0, 1): MAE = 4.493438724196749\n",
      "Order (1, 0, 2): MAE = 4.492889903963419\n",
      "Order (1, 0, 3): MAE = 4.4942297670776705\n",
      "Order (1, 0, 4): MAE = 4.49560156967368\n",
      "Order (1, 0, 5): MAE = 4.495360629313336\n",
      "Order (1, 0, 6): MAE = 4.495488749111028\n",
      "Order (1, 1, 0): MAE = 5.152702468281393\n",
      "Order (1, 1, 1): MAE = 4.493020456289793\n",
      "Order (1, 1, 2): MAE = 4.493347458151084\n",
      "Order (1, 1, 3): MAE = 4.492822380385577\n",
      "Order (1, 1, 4): MAE = 4.485287795940912\n",
      "Order (1, 1, 5): MAE = 4.495539267132289\n"
     ]
    },
    {
     "name": "stderr",
     "output_type": "stream",
     "text": [
      "/Users/alikhan/anaconda3/lib/python3.10/site-packages/statsmodels/base/model.py:604: ConvergenceWarning: Maximum Likelihood optimization failed to converge. Check mle_retvals\n",
      "  warnings.warn(\"Maximum Likelihood optimization failed to \"\n"
     ]
    },
    {
     "name": "stdout",
     "output_type": "stream",
     "text": [
      "Order (1, 1, 6): MAE = 4.495302356280325\n",
      "Order (2, 0, 0): MAE = 4.49344450972677\n",
      "Order (2, 0, 1): MAE = 4.493179342644213\n",
      "Order (2, 0, 2): MAE = 4.492671078157003\n",
      "Order (2, 0, 3): MAE = 4.496680582172631\n",
      "Order (2, 0, 4): MAE = 4.4949888190482215\n",
      "Order (2, 0, 5): MAE = 4.495553437500457\n",
      "Order (2, 0, 6): MAE = 4.4953936013454365\n",
      "Order (2, 1, 0): MAE = 5.225854871087246\n",
      "Order (2, 1, 1): MAE = 4.49336267981955\n",
      "Order (2, 1, 2): MAE = 4.492833167556838\n"
     ]
    },
    {
     "name": "stderr",
     "output_type": "stream",
     "text": [
      "/Users/alikhan/anaconda3/lib/python3.10/site-packages/statsmodels/base/model.py:604: ConvergenceWarning: Maximum Likelihood optimization failed to converge. Check mle_retvals\n",
      "  warnings.warn(\"Maximum Likelihood optimization failed to \"\n"
     ]
    },
    {
     "name": "stdout",
     "output_type": "stream",
     "text": [
      "Order (2, 1, 3): MAE = 4.4934290468035405\n",
      "Order (2, 1, 4): MAE = 4.492257939828052\n"
     ]
    },
    {
     "name": "stderr",
     "output_type": "stream",
     "text": [
      "/Users/alikhan/anaconda3/lib/python3.10/site-packages/statsmodels/base/model.py:604: ConvergenceWarning: Maximum Likelihood optimization failed to converge. Check mle_retvals\n",
      "  warnings.warn(\"Maximum Likelihood optimization failed to \"\n"
     ]
    },
    {
     "name": "stdout",
     "output_type": "stream",
     "text": [
      "Order (2, 1, 5): MAE = 4.492673630820749\n"
     ]
    },
    {
     "name": "stderr",
     "output_type": "stream",
     "text": [
      "/Users/alikhan/anaconda3/lib/python3.10/site-packages/statsmodels/base/model.py:604: ConvergenceWarning: Maximum Likelihood optimization failed to converge. Check mle_retvals\n",
      "  warnings.warn(\"Maximum Likelihood optimization failed to \"\n"
     ]
    },
    {
     "name": "stdout",
     "output_type": "stream",
     "text": [
      "Order (2, 1, 6): MAE = 4.495492475308116\n",
      "Best Order for Stock ID 47: (0, 1, 4)\n",
      "Best MAE for Stock ID 47: 4.483600109038309\n",
      "\n",
      "Training and evaluating for Stock ID: 48\n",
      "Training Set Date Range: 0 -- 477\n",
      "Testing Set Date Range: 478 -- 480\n",
      "Order (0, 0, 0): MAE = 4.56964913880616\n",
      "Order (0, 0, 1): MAE = 4.572766608217786\n",
      "Order (0, 0, 2): MAE = 4.581106233433664\n",
      "Order (0, 0, 3): MAE = 4.580506998971114\n",
      "Order (0, 0, 4): MAE = 4.580608293544336\n",
      "Order (0, 0, 5): MAE = 4.597964318615939\n",
      "Order (0, 0, 6): MAE = 4.591791699412504\n",
      "Order (0, 1, 0): MAE = 7.054892442945454\n",
      "Order (0, 1, 1): MAE = 6.308384577470006\n",
      "Order (0, 1, 2): MAE = 6.069007892059534\n",
      "Order (0, 1, 3): MAE = 5.423398990310987\n",
      "Order (0, 1, 4): MAE = 4.934769522181029\n"
     ]
    },
    {
     "name": "stderr",
     "output_type": "stream",
     "text": [
      "/Users/alikhan/anaconda3/lib/python3.10/site-packages/statsmodels/base/model.py:604: ConvergenceWarning: Maximum Likelihood optimization failed to converge. Check mle_retvals\n",
      "  warnings.warn(\"Maximum Likelihood optimization failed to \"\n"
     ]
    },
    {
     "name": "stdout",
     "output_type": "stream",
     "text": [
      "Order (0, 1, 5): MAE = 4.580608558068023\n",
      "Order (0, 1, 6): MAE = 4.597962216727798\n",
      "Order (1, 0, 0): MAE = 4.584551649248494\n",
      "Order (1, 0, 1): MAE = 4.584385777418986\n",
      "Order (1, 0, 2): MAE = 4.585911837841139\n",
      "Order (1, 0, 3): MAE = 4.588127761775146\n",
      "Order (1, 0, 4): MAE = 4.5942611157994255\n",
      "Order (1, 0, 5): MAE = 4.593079695700064\n",
      "Order (1, 0, 6): MAE = 4.590708731759567\n",
      "Order (1, 1, 0): MAE = 6.5147653411625415\n",
      "Order (1, 1, 1): MAE = 4.584648878413638\n",
      "Order (1, 1, 2): MAE = 4.586509108396633\n",
      "Order (1, 1, 3): MAE = 4.585965994373318\n",
      "Order (1, 1, 4): MAE = 5.0598162969885605\n",
      "Order (1, 1, 5): MAE = 4.594295829186524\n"
     ]
    },
    {
     "name": "stderr",
     "output_type": "stream",
     "text": [
      "/Users/alikhan/anaconda3/lib/python3.10/site-packages/statsmodels/base/model.py:604: ConvergenceWarning: Maximum Likelihood optimization failed to converge. Check mle_retvals\n",
      "  warnings.warn(\"Maximum Likelihood optimization failed to \"\n"
     ]
    },
    {
     "name": "stdout",
     "output_type": "stream",
     "text": [
      "Order (1, 1, 6): MAE = 4.593084626472427\n",
      "Order (2, 0, 0): MAE = 4.584402969834236\n",
      "Order (2, 0, 1): MAE = 4.584695788374636\n",
      "Order (2, 0, 2): MAE = 4.598105654927079\n",
      "Order (2, 0, 3): MAE = 4.58481370575158\n",
      "Order (2, 0, 4): MAE = 4.590984053193097\n",
      "Order (2, 0, 5): MAE = 4.5913015650033495\n",
      "Order (2, 0, 6): MAE = 4.590971257604029\n",
      "Order (2, 1, 0): MAE = 6.27517483008437\n",
      "Order (2, 1, 1): MAE = 4.58459500059445\n",
      "Order (2, 1, 2): MAE = 4.58311178340192\n",
      "Order (2, 1, 3): MAE = 4.582506985148211\n"
     ]
    },
    {
     "name": "stderr",
     "output_type": "stream",
     "text": [
      "/Users/alikhan/anaconda3/lib/python3.10/site-packages/statsmodels/base/model.py:604: ConvergenceWarning: Maximum Likelihood optimization failed to converge. Check mle_retvals\n",
      "  warnings.warn(\"Maximum Likelihood optimization failed to \"\n"
     ]
    },
    {
     "name": "stdout",
     "output_type": "stream",
     "text": [
      "Order (2, 1, 4): MAE = 4.584974956205585\n",
      "Order (2, 1, 5): MAE = 4.58612868400881\n"
     ]
    },
    {
     "name": "stderr",
     "output_type": "stream",
     "text": [
      "/Users/alikhan/anaconda3/lib/python3.10/site-packages/statsmodels/base/model.py:604: ConvergenceWarning: Maximum Likelihood optimization failed to converge. Check mle_retvals\n",
      "  warnings.warn(\"Maximum Likelihood optimization failed to \"\n"
     ]
    },
    {
     "name": "stdout",
     "output_type": "stream",
     "text": [
      "Order (2, 1, 6): MAE = 4.591317658374367\n",
      "Best Order for Stock ID 48: (0, 0, 0)\n",
      "Best MAE for Stock ID 48: 4.56964913880616\n",
      "\n",
      "Training and evaluating for Stock ID: 49\n",
      "Training Set Date Range: 0 -- 477\n",
      "Testing Set Date Range: 478 -- 480\n",
      "Order (0, 0, 0): MAE = 4.30202334058229\n",
      "Order (0, 0, 1): MAE = 4.301699011574344\n",
      "Order (0, 0, 2): MAE = 4.3021422422005084\n",
      "Order (0, 0, 3): MAE = 4.301935756673936\n",
      "Order (0, 0, 4): MAE = 4.300824137848659\n",
      "Order (0, 0, 5): MAE = 4.300784221198548\n",
      "Order (0, 0, 6): MAE = 4.300776514190058\n",
      "Order (0, 1, 0): MAE = 4.673007771236364\n",
      "Order (0, 1, 1): MAE = 4.661874901907705\n",
      "Order (0, 1, 2): MAE = 4.629861908221633\n",
      "Order (0, 1, 3): MAE = 4.4768359610232915\n",
      "Order (0, 1, 4): MAE = 4.390638269533187\n",
      "Order (0, 1, 5): MAE = 4.320642218204652\n",
      "Order (0, 1, 6): MAE = 4.325235733503152\n",
      "Order (1, 0, 0): MAE = 4.298530560163785\n",
      "Order (1, 0, 1): MAE = 4.299293028423114\n",
      "Order (1, 0, 2): MAE = 4.299771267829768\n",
      "Order (1, 0, 3): MAE = 4.299839775183979\n",
      "Order (1, 0, 4): MAE = 4.300022752243055\n",
      "Order (1, 0, 5): MAE = 4.300779457484655\n",
      "Order (1, 0, 6): MAE = 4.30099820714102\n",
      "Order (1, 1, 0): MAE = 4.663157346230021\n",
      "Order (1, 1, 1): MAE = 4.308155892585805\n",
      "Order (1, 1, 2): MAE = 4.311008839903822\n",
      "Order (1, 1, 3): MAE = 4.31648418967317\n",
      "Order (1, 1, 4): MAE = 4.3145912098391115\n",
      "Order (1, 1, 5): MAE = 4.315710934182638\n",
      "Order (1, 1, 6): MAE = 4.324665805535075\n",
      "Order (2, 0, 0): MAE = 4.299507199299772\n",
      "Order (2, 0, 1): MAE = 4.302743630923257\n",
      "Order (2, 0, 2): MAE = 4.302887459692047\n",
      "Order (2, 0, 3): MAE = 4.3007219047843686\n",
      "Order (2, 0, 4): MAE = 4.300407350366933\n",
      "Order (2, 0, 5): MAE = 4.300796777124608\n",
      "Order (2, 0, 6): MAE = 4.302215476450804\n",
      "Order (2, 1, 0): MAE = 4.636105763486218\n",
      "Order (2, 1, 1): MAE = 4.3157161400388615\n",
      "Order (2, 1, 2): MAE = 4.307601358290876\n",
      "Order (2, 1, 3): MAE = 4.309631046361004\n",
      "Order (2, 1, 4): MAE = 4.31529230427932\n",
      "Order (2, 1, 5): MAE = 4.334382775683957\n",
      "Order (2, 1, 6): MAE = 4.326669207836612\n",
      "Best Order for Stock ID 49: (1, 0, 0)\n",
      "Best MAE for Stock ID 49: 4.298530560163785\n",
      "\n",
      "Training and evaluating for Stock ID: 50\n",
      "Training Set Date Range: 0 -- 477\n",
      "Testing Set Date Range: 478 -- 480\n",
      "Order (0, 0, 0): MAE = 5.789619800356187\n",
      "Order (0, 0, 1): MAE = 5.789654066874091\n",
      "Order (0, 0, 2): MAE = 5.790406099662986\n",
      "Order (0, 0, 3): MAE = 5.789853556606021\n",
      "Order (0, 0, 4): MAE = 5.796796248768214\n",
      "Order (0, 0, 5): MAE = 5.806708483708534\n",
      "Order (0, 0, 6): MAE = 5.805316692598324\n",
      "Order (0, 1, 0): MAE = 5.978158026351515\n",
      "Order (0, 1, 1): MAE = 6.084164563367676\n",
      "Order (0, 1, 2): MAE = 5.998985843772177\n",
      "Order (0, 1, 3): MAE = 5.819836275016934\n",
      "Order (0, 1, 4): MAE = 5.775703977055047\n",
      "Order (0, 1, 5): MAE = 5.781271323863555\n",
      "Order (0, 1, 6): MAE = 5.794720731329667\n",
      "Order (1, 0, 0): MAE = 5.792279028346421\n",
      "Order (1, 0, 1): MAE = 5.792761658519591\n",
      "Order (1, 0, 2): MAE = 5.793111195085085\n",
      "Order (1, 0, 3): MAE = 5.798914276714636\n",
      "Order (1, 0, 4): MAE = 5.8064841799726405\n",
      "Order (1, 0, 5): MAE = 5.805826041338931\n",
      "Order (1, 0, 6): MAE = 5.804465474118307\n",
      "Order (1, 1, 0): MAE = 6.1042871215073555\n",
      "Order (1, 1, 1): MAE = 5.78128130092888\n",
      "Order (1, 1, 2): MAE = 5.782427518179236\n",
      "Order (1, 1, 3): MAE = 5.7821605002616225\n",
      "Order (1, 1, 4): MAE = 5.776269304212162\n",
      "Order (1, 1, 5): MAE = 5.794615939357222\n",
      "Order (1, 1, 6): MAE = 5.792544619672313\n",
      "Order (2, 0, 0): MAE = 5.792834248153918\n",
      "Order (2, 0, 1): MAE = 5.792999188011502\n",
      "Order (2, 0, 2): MAE = 5.796352209159619\n",
      "Order (2, 0, 3): MAE = 5.7942423157661604\n",
      "Order (2, 0, 4): MAE = 5.804890536041672\n",
      "Order (2, 0, 5): MAE = 5.804443852151579\n"
     ]
    },
    {
     "name": "stderr",
     "output_type": "stream",
     "text": [
      "/Users/alikhan/anaconda3/lib/python3.10/site-packages/statsmodels/base/model.py:604: ConvergenceWarning: Maximum Likelihood optimization failed to converge. Check mle_retvals\n",
      "  warnings.warn(\"Maximum Likelihood optimization failed to \"\n"
     ]
    },
    {
     "name": "stdout",
     "output_type": "stream",
     "text": [
      "Order (2, 0, 6): MAE = 5.804834528225782\n",
      "Order (2, 1, 0): MAE = 6.055051244306721\n",
      "Order (2, 1, 1): MAE = 5.782598446160986\n",
      "Order (2, 1, 2): MAE = 5.780715124980864\n",
      "Order (2, 1, 3): MAE = 5.783133558235141\n",
      "Order (2, 1, 4): MAE = 5.783285741221595\n"
     ]
    },
    {
     "name": "stderr",
     "output_type": "stream",
     "text": [
      "/Users/alikhan/anaconda3/lib/python3.10/site-packages/statsmodels/base/model.py:604: ConvergenceWarning: Maximum Likelihood optimization failed to converge. Check mle_retvals\n",
      "  warnings.warn(\"Maximum Likelihood optimization failed to \"\n"
     ]
    },
    {
     "name": "stdout",
     "output_type": "stream",
     "text": [
      "Order (2, 1, 5): MAE = 5.790636329986345\n"
     ]
    },
    {
     "name": "stderr",
     "output_type": "stream",
     "text": [
      "/Users/alikhan/anaconda3/lib/python3.10/site-packages/statsmodels/base/model.py:604: ConvergenceWarning: Maximum Likelihood optimization failed to converge. Check mle_retvals\n",
      "  warnings.warn(\"Maximum Likelihood optimization failed to \"\n"
     ]
    },
    {
     "name": "stdout",
     "output_type": "stream",
     "text": [
      "Order (2, 1, 6): MAE = 5.7907666013009775\n",
      "Best Order for Stock ID 50: (0, 1, 4)\n",
      "Best MAE for Stock ID 50: 5.775703977055047\n",
      "\n",
      "Training and evaluating for Stock ID: 51\n",
      "Training Set Date Range: 0 -- 477\n",
      "Testing Set Date Range: 478 -- 480\n",
      "Order (0, 0, 0): MAE = 7.167909325922529\n",
      "Order (0, 0, 1): MAE = 7.168204451825162\n",
      "Order (0, 0, 2): MAE = 7.167648155472048\n",
      "Order (0, 0, 3): MAE = 7.167511809918654\n",
      "Order (0, 0, 4): MAE = 7.167582716325008\n",
      "Order (0, 0, 5): MAE = 7.167780561074925\n",
      "Order (0, 0, 6): MAE = 7.167940725890356\n",
      "Order (0, 1, 0): MAE = 7.167711401678788\n",
      "Order (0, 1, 1): MAE = 7.188602886095288\n",
      "Order (0, 1, 2): MAE = 7.193403110618085\n",
      "Order (0, 1, 3): MAE = 7.1811237530910095\n",
      "Order (0, 1, 4): MAE = 7.209389241834416\n",
      "Order (0, 1, 5): MAE = 7.149334632684442\n",
      "Order (0, 1, 6): MAE = 7.1677074136546395\n",
      "Order (1, 0, 0): MAE = 7.1679060551811915\n",
      "Order (1, 0, 1): MAE = 7.1677435988015805\n",
      "Order (1, 0, 2): MAE = 7.167044784100124\n",
      "Order (1, 0, 3): MAE = 7.167722091339143\n",
      "Order (1, 0, 4): MAE = 7.167465087167661\n",
      "Order (1, 0, 5): MAE = 7.167938225786486\n"
     ]
    },
    {
     "name": "stderr",
     "output_type": "stream",
     "text": [
      "/Users/alikhan/anaconda3/lib/python3.10/site-packages/statsmodels/base/model.py:604: ConvergenceWarning: Maximum Likelihood optimization failed to converge. Check mle_retvals\n",
      "  warnings.warn(\"Maximum Likelihood optimization failed to \"\n"
     ]
    },
    {
     "name": "stdout",
     "output_type": "stream",
     "text": [
      "Order (1, 0, 6): MAE = 7.168804376079919\n",
      "Order (1, 1, 0): MAE = 7.185454835901771\n",
      "Order (1, 1, 1): MAE = 7.16640164222352\n"
     ]
    },
    {
     "name": "stderr",
     "output_type": "stream",
     "text": [
      "/Users/alikhan/anaconda3/lib/python3.10/site-packages/statsmodels/base/model.py:604: ConvergenceWarning: Maximum Likelihood optimization failed to converge. Check mle_retvals\n",
      "  warnings.warn(\"Maximum Likelihood optimization failed to \"\n"
     ]
    },
    {
     "name": "stdout",
     "output_type": "stream",
     "text": [
      "Order (1, 1, 2): MAE = 7.16667991515199\n",
      "Order (1, 1, 3): MAE = 7.166554738392332\n"
     ]
    },
    {
     "name": "stderr",
     "output_type": "stream",
     "text": [
      "/Users/alikhan/anaconda3/lib/python3.10/site-packages/statsmodels/base/model.py:604: ConvergenceWarning: Maximum Likelihood optimization failed to converge. Check mle_retvals\n",
      "  warnings.warn(\"Maximum Likelihood optimization failed to \"\n"
     ]
    },
    {
     "name": "stdout",
     "output_type": "stream",
     "text": [
      "Order (1, 1, 4): MAE = 7.167712394237565\n",
      "Order (1, 1, 5): MAE = 7.167191754988311\n"
     ]
    },
    {
     "name": "stderr",
     "output_type": "stream",
     "text": [
      "/Users/alikhan/anaconda3/lib/python3.10/site-packages/statsmodels/base/model.py:604: ConvergenceWarning: Maximum Likelihood optimization failed to converge. Check mle_retvals\n",
      "  warnings.warn(\"Maximum Likelihood optimization failed to \"\n"
     ]
    },
    {
     "name": "stdout",
     "output_type": "stream",
     "text": [
      "Order (1, 1, 6): MAE = 7.167261105024111\n",
      "Order (2, 0, 0): MAE = 7.1676924389613985\n",
      "Order (2, 0, 1): MAE = 7.168384487758268\n",
      "Order (2, 0, 2): MAE = 7.167168755948715\n",
      "Order (2, 0, 3): MAE = 7.167988689446014\n",
      "Order (2, 0, 4): MAE = 7.167451148473873\n",
      "Order (2, 0, 5): MAE = 7.167914583914053\n",
      "Order (2, 0, 6): MAE = 7.167845227237456\n",
      "Order (2, 1, 0): MAE = 7.191821262099321\n",
      "Order (2, 1, 1): MAE = 7.167243280378979\n",
      "Order (2, 1, 2): MAE = 7.167769583098759\n",
      "Order (2, 1, 3): MAE = 7.167791402902339\n"
     ]
    },
    {
     "name": "stderr",
     "output_type": "stream",
     "text": [
      "/Users/alikhan/anaconda3/lib/python3.10/site-packages/statsmodels/base/model.py:604: ConvergenceWarning: Maximum Likelihood optimization failed to converge. Check mle_retvals\n",
      "  warnings.warn(\"Maximum Likelihood optimization failed to \"\n"
     ]
    },
    {
     "name": "stdout",
     "output_type": "stream",
     "text": [
      "Order (2, 1, 4): MAE = 7.1666913391849025\n"
     ]
    },
    {
     "name": "stderr",
     "output_type": "stream",
     "text": [
      "/Users/alikhan/anaconda3/lib/python3.10/site-packages/statsmodels/base/model.py:604: ConvergenceWarning: Maximum Likelihood optimization failed to converge. Check mle_retvals\n",
      "  warnings.warn(\"Maximum Likelihood optimization failed to \"\n"
     ]
    },
    {
     "name": "stdout",
     "output_type": "stream",
     "text": [
      "Order (2, 1, 5): MAE = 7.166728719649803\n"
     ]
    },
    {
     "name": "stderr",
     "output_type": "stream",
     "text": [
      "/Users/alikhan/anaconda3/lib/python3.10/site-packages/statsmodels/base/model.py:604: ConvergenceWarning: Maximum Likelihood optimization failed to converge. Check mle_retvals\n",
      "  warnings.warn(\"Maximum Likelihood optimization failed to \"\n"
     ]
    },
    {
     "name": "stdout",
     "output_type": "stream",
     "text": [
      "Order (2, 1, 6): MAE = 7.166313686331913\n",
      "Best Order for Stock ID 51: (0, 1, 5)\n",
      "Best MAE for Stock ID 51: 7.149334632684442\n",
      "\n",
      "Training and evaluating for Stock ID: 52\n",
      "Training Set Date Range: 0 -- 477\n",
      "Testing Set Date Range: 478 -- 480\n",
      "Order (0, 0, 0): MAE = 4.216675060901895\n",
      "Order (0, 0, 1): MAE = 4.216700627856369\n",
      "Order (0, 0, 2): MAE = 4.216909283440587\n",
      "Order (0, 0, 3): MAE = 4.217007734137683\n",
      "Order (0, 0, 4): MAE = 4.217410984187522\n",
      "Order (0, 0, 5): MAE = 4.217420503799699\n",
      "Order (0, 0, 6): MAE = 4.217566618970069\n",
      "Order (0, 1, 0): MAE = 4.216331436630303\n",
      "Order (0, 1, 1): MAE = 4.218816772850737\n",
      "Order (0, 1, 2): MAE = 4.228138732686678\n",
      "Order (0, 1, 3): MAE = 4.289717884520172\n",
      "Order (0, 1, 4): MAE = 4.216655027010744\n",
      "Order (0, 1, 5): MAE = 4.26498106116473\n",
      "Order (0, 1, 6): MAE = 4.228449212166136\n",
      "Order (1, 0, 0): MAE = 4.2166685040801966\n",
      "Order (1, 0, 1): MAE = 4.21666690458782\n",
      "Order (1, 0, 2): MAE = 4.21674951899973\n",
      "Order (1, 0, 3): MAE = 4.2171310462124705\n",
      "Order (1, 0, 4): MAE = 4.217344210235682\n",
      "Order (1, 0, 5): MAE = 4.217533395969784\n",
      "Order (1, 0, 6): MAE = 4.217620856382107\n",
      "Order (1, 1, 0): MAE = 4.216566123210294\n",
      "Order (1, 1, 1): MAE = 4.226198549168062\n",
      "Order (1, 1, 2): MAE = 4.226034196078136\n",
      "Order (1, 1, 3): MAE = 4.22698038358317\n",
      "Order (1, 1, 4): MAE = 4.29746937544026\n",
      "Order (1, 1, 5): MAE = 4.228255136429374\n",
      "Order (1, 1, 6): MAE = 4.229989417172789\n",
      "Order (2, 0, 0): MAE = 4.216666772198206\n",
      "Order (2, 0, 1): MAE = 4.2166702204383295\n",
      "Order (2, 0, 2): MAE = 4.217939971083442\n",
      "Order (2, 0, 3): MAE = 4.21697587085108\n",
      "Order (2, 0, 4): MAE = 4.217239143014145\n",
      "Order (2, 0, 5): MAE = 4.217595054439342\n",
      "Order (2, 0, 6): MAE = 4.217634298193948\n",
      "Order (2, 1, 0): MAE = 4.222662681669291\n",
      "Order (2, 1, 1): MAE = 4.225882411569516\n",
      "Order (2, 1, 2): MAE = 4.226890010824435\n",
      "Order (2, 1, 3): MAE = 4.225600285257942\n",
      "Order (2, 1, 4): MAE = 4.227536804034617\n",
      "Order (2, 1, 5): MAE = 4.227516397176121\n",
      "Order (2, 1, 6): MAE = 4.230489110373375\n",
      "Best Order for Stock ID 52: (0, 1, 0)\n",
      "Best MAE for Stock ID 52: 4.216331436630303\n",
      "\n",
      "Training and evaluating for Stock ID: 53\n",
      "Training Set Date Range: 0 -- 477\n",
      "Testing Set Date Range: 478 -- 480\n",
      "Order (0, 0, 0): MAE = 3.2809441949144182\n",
      "Order (0, 0, 1): MAE = 3.2824799322021367\n",
      "Order (0, 0, 2): MAE = 3.2824151905528978\n",
      "Order (0, 0, 3): MAE = 3.283123515543752\n",
      "Order (0, 0, 4): MAE = 3.2830351865661274\n",
      "Order (0, 0, 5): MAE = 3.285608670994677\n",
      "Order (0, 0, 6): MAE = 3.2852573686916546\n",
      "Order (0, 1, 0): MAE = 3.299528899442424\n",
      "Order (0, 1, 1): MAE = 3.2477471480806956\n",
      "Order (0, 1, 2): MAE = 3.2358026146105003\n",
      "Order (0, 1, 3): MAE = 3.2277256870287325\n",
      "Order (0, 1, 4): MAE = 3.137430490753771\n",
      "Order (0, 1, 5): MAE = 3.152948999526853\n",
      "Order (0, 1, 6): MAE = 3.1869749972538877\n",
      "Order (1, 0, 0): MAE = 3.2813307766226796\n",
      "Order (1, 0, 1): MAE = 3.2816254904347804\n",
      "Order (1, 0, 2): MAE = 3.2817632278753113\n",
      "Order (1, 0, 3): MAE = 3.2830080446673255\n",
      "Order (1, 0, 4): MAE = 3.2846379928801244\n",
      "Order (1, 0, 5): MAE = 3.2852965367968503\n",
      "Order (1, 0, 6): MAE = 3.2868730142405114\n",
      "Order (1, 1, 0): MAE = 3.255274995081652\n",
      "Order (1, 1, 1): MAE = 3.1901714920650064\n",
      "Order (1, 1, 2): MAE = 3.189107729909012\n",
      "Order (1, 1, 3): MAE = 3.1877908286099506\n",
      "Order (1, 1, 4): MAE = 3.126860198726702\n",
      "Order (1, 1, 5): MAE = 3.189349221965462\n",
      "Order (1, 1, 6): MAE = 3.1839931740780165\n",
      "Order (2, 0, 0): MAE = 3.281646288877767\n",
      "Order (2, 0, 1): MAE = 3.283126675698155\n",
      "Order (2, 0, 2): MAE = 3.2833445246544493\n",
      "Order (2, 0, 3): MAE = 3.2854452465581785\n",
      "Order (2, 0, 4): MAE = 3.2854493752769445\n",
      "Order (2, 0, 5): MAE = 3.2853184084841525\n"
     ]
    },
    {
     "name": "stderr",
     "output_type": "stream",
     "text": [
      "/Users/alikhan/anaconda3/lib/python3.10/site-packages/statsmodels/base/model.py:604: ConvergenceWarning: Maximum Likelihood optimization failed to converge. Check mle_retvals\n",
      "  warnings.warn(\"Maximum Likelihood optimization failed to \"\n"
     ]
    },
    {
     "name": "stdout",
     "output_type": "stream",
     "text": [
      "Order (2, 0, 6): MAE = 3.289829117721772\n",
      "Order (2, 1, 0): MAE = 3.2442288698016215\n",
      "Order (2, 1, 1): MAE = 3.189016368446147\n",
      "Order (2, 1, 2): MAE = 3.1887936018764407\n",
      "Order (2, 1, 3): MAE = 3.190080746096997\n",
      "Order (2, 1, 4): MAE = 3.1872046330641375\n",
      "Order (2, 1, 5): MAE = 3.173768570974242\n",
      "Order (2, 1, 6): MAE = 3.181930040140264\n",
      "Best Order for Stock ID 53: (1, 1, 4)\n",
      "Best MAE for Stock ID 53: 3.126860198726702\n",
      "\n",
      "Training and evaluating for Stock ID: 54\n",
      "Training Set Date Range: 0 -- 477\n",
      "Testing Set Date Range: 478 -- 480\n",
      "Order (0, 0, 0): MAE = 4.211768637677155\n",
      "Order (0, 0, 1): MAE = 4.214001651123998\n",
      "Order (0, 0, 2): MAE = 4.220640088563019\n",
      "Order (0, 0, 3): MAE = 4.217519654098554\n",
      "Order (0, 0, 4): MAE = 4.216246230533192\n",
      "Order (0, 0, 5): MAE = 4.228746489558492\n",
      "Order (0, 0, 6): MAE = 4.22407296597531\n",
      "Order (0, 1, 0): MAE = 7.254130864545452\n",
      "Order (0, 1, 1): MAE = 6.141910960479292\n",
      "Order (0, 1, 2): MAE = 5.907259017540592\n",
      "Order (0, 1, 3): MAE = 4.220658555424729\n",
      "Order (0, 1, 4): MAE = 4.217518874118735\n",
      "Order (0, 1, 5): MAE = 4.216273046468898\n",
      "Order (0, 1, 6): MAE = 4.228740622622982\n",
      "Order (1, 0, 0): MAE = 4.22062012456176\n",
      "Order (1, 0, 1): MAE = 4.22026131172867\n",
      "Order (1, 0, 2): MAE = 4.220716611700453\n",
      "Order (1, 0, 3): MAE = 4.219423739508093\n",
      "Order (1, 0, 4): MAE = 4.224175357240308\n",
      "Order (1, 0, 5): MAE = 4.225733648647387\n",
      "Order (1, 0, 6): MAE = 4.223614215957769\n",
      "Order (1, 1, 0): MAE = 6.493570119642536\n",
      "Order (1, 1, 1): MAE = 4.22074226148236\n"
     ]
    },
    {
     "name": "stderr",
     "output_type": "stream",
     "text": [
      "/Users/alikhan/anaconda3/lib/python3.10/site-packages/statsmodels/base/model.py:604: ConvergenceWarning: Maximum Likelihood optimization failed to converge. Check mle_retvals\n",
      "  warnings.warn(\"Maximum Likelihood optimization failed to \"\n"
     ]
    },
    {
     "name": "stdout",
     "output_type": "stream",
     "text": [
      "Order (1, 1, 2): MAE = 4.220495334900155\n",
      "Order (1, 1, 3): MAE = 4.220752915538847\n",
      "Order (1, 1, 4): MAE = 4.222680351623405\n"
     ]
    },
    {
     "name": "stderr",
     "output_type": "stream",
     "text": [
      "/Users/alikhan/anaconda3/lib/python3.10/site-packages/statsmodels/base/model.py:604: ConvergenceWarning: Maximum Likelihood optimization failed to converge. Check mle_retvals\n",
      "  warnings.warn(\"Maximum Likelihood optimization failed to \"\n"
     ]
    },
    {
     "name": "stdout",
     "output_type": "stream",
     "text": [
      "Order (1, 1, 5): MAE = 4.222710626932681\n",
      "Order (1, 1, 6): MAE = 4.225719503102701\n",
      "Order (2, 0, 0): MAE = 4.2204029495944635\n",
      "Order (2, 0, 1): MAE = 4.220542818035786\n",
      "Order (2, 0, 2): MAE = 4.223875568584083\n",
      "Order (2, 0, 3): MAE = 4.2220570860537165\n",
      "Order (2, 0, 4): MAE = 4.22218974899063\n",
      "Order (2, 0, 5): MAE = 4.2240162810947455\n",
      "Order (2, 0, 6): MAE = 4.223536385613176\n",
      "Order (2, 1, 0): MAE = 6.207807138111311\n",
      "Order (2, 1, 1): MAE = 4.221830338362854\n",
      "Order (2, 1, 2): MAE = 4.221944600038943\n"
     ]
    },
    {
     "name": "stderr",
     "output_type": "stream",
     "text": [
      "/Users/alikhan/anaconda3/lib/python3.10/site-packages/statsmodels/base/model.py:604: ConvergenceWarning: Maximum Likelihood optimization failed to converge. Check mle_retvals\n",
      "  warnings.warn(\"Maximum Likelihood optimization failed to \"\n"
     ]
    },
    {
     "name": "stdout",
     "output_type": "stream",
     "text": [
      "Order (2, 1, 3): MAE = 4.22143825932629\n"
     ]
    },
    {
     "name": "stderr",
     "output_type": "stream",
     "text": [
      "/Users/alikhan/anaconda3/lib/python3.10/site-packages/statsmodels/base/model.py:604: ConvergenceWarning: Maximum Likelihood optimization failed to converge. Check mle_retvals\n",
      "  warnings.warn(\"Maximum Likelihood optimization failed to \"\n"
     ]
    },
    {
     "name": "stdout",
     "output_type": "stream",
     "text": [
      "Order (2, 1, 4): MAE = 4.224547452059198\n"
     ]
    },
    {
     "name": "stderr",
     "output_type": "stream",
     "text": [
      "/Users/alikhan/anaconda3/lib/python3.10/site-packages/statsmodels/base/model.py:604: ConvergenceWarning: Maximum Likelihood optimization failed to converge. Check mle_retvals\n",
      "  warnings.warn(\"Maximum Likelihood optimization failed to \"\n"
     ]
    },
    {
     "name": "stdout",
     "output_type": "stream",
     "text": [
      "Order (2, 1, 5): MAE = 4.228659101542061\n"
     ]
    },
    {
     "name": "stderr",
     "output_type": "stream",
     "text": [
      "/Users/alikhan/anaconda3/lib/python3.10/site-packages/statsmodels/base/model.py:604: ConvergenceWarning: Maximum Likelihood optimization failed to converge. Check mle_retvals\n",
      "  warnings.warn(\"Maximum Likelihood optimization failed to \"\n"
     ]
    },
    {
     "name": "stdout",
     "output_type": "stream",
     "text": [
      "Order (2, 1, 6): MAE = 4.22408478585431\n",
      "Best Order for Stock ID 54: (0, 0, 0)\n",
      "Best MAE for Stock ID 54: 4.211768637677155\n",
      "\n",
      "Training and evaluating for Stock ID: 55\n",
      "Training Set Date Range: 0 -- 477\n",
      "Testing Set Date Range: 478 -- 480\n",
      "Order (0, 0, 0): MAE = 3.0640664245317426\n",
      "Order (0, 0, 1): MAE = 3.0642921671768084\n",
      "Order (0, 0, 2): MAE = 3.065011962303526\n",
      "Order (0, 0, 3): MAE = 3.0649634462261535\n",
      "Order (0, 0, 4): MAE = 3.06473366188527\n",
      "Order (0, 0, 5): MAE = 3.068082970072034\n",
      "Order (0, 0, 6): MAE = 3.067935860707973\n",
      "Order (0, 1, 0): MAE = 3.07415831409697\n",
      "Order (0, 1, 1): MAE = 3.088563651279256\n",
      "Order (0, 1, 2): MAE = 3.0958556105693913\n",
      "Order (0, 1, 3): MAE = 3.074753742063871\n",
      "Order (0, 1, 4): MAE = 3.0676397801339848\n",
      "Order (0, 1, 5): MAE = 3.064946732825206\n",
      "Order (0, 1, 6): MAE = 3.0680776595707915\n",
      "Order (1, 0, 0): MAE = 3.0639998949655007\n",
      "Order (1, 0, 1): MAE = 3.063977116652288\n",
      "Order (1, 0, 2): MAE = 3.0639858547017944\n",
      "Order (1, 0, 3): MAE = 3.0644684684514854\n",
      "Order (1, 0, 4): MAE = 3.0665560406612773\n",
      "Order (1, 0, 5): MAE = 3.0679422324794117\n",
      "Order (1, 0, 6): MAE = 3.068126093604816\n",
      "Order (1, 1, 0): MAE = 3.0862406068852266\n",
      "Order (1, 1, 1): MAE = 3.064031980102778\n",
      "Order (1, 1, 2): MAE = 3.064060658487491\n",
      "Order (1, 1, 3): MAE = 3.0640007943748815\n",
      "Order (1, 1, 4): MAE = 3.068663362268454\n",
      "Order (1, 1, 5): MAE = 3.066557266271153\n"
     ]
    },
    {
     "name": "stderr",
     "output_type": "stream",
     "text": [
      "/Users/alikhan/anaconda3/lib/python3.10/site-packages/statsmodels/base/model.py:604: ConvergenceWarning: Maximum Likelihood optimization failed to converge. Check mle_retvals\n",
      "  warnings.warn(\"Maximum Likelihood optimization failed to \"\n"
     ]
    },
    {
     "name": "stdout",
     "output_type": "stream",
     "text": [
      "Order (1, 1, 6): MAE = 3.067943305017651\n",
      "Order (2, 0, 0): MAE = 3.063976302808598\n",
      "Order (2, 0, 1): MAE = 3.063942923379266\n",
      "Order (2, 0, 2): MAE = 3.064713590444942\n",
      "Order (2, 0, 3): MAE = 3.0686891173471578\n",
      "Order (2, 0, 4): MAE = 3.0683844586101263\n",
      "Order (2, 0, 5): MAE = 3.0679887009458606\n",
      "Order (2, 0, 6): MAE = 3.0680346837596173\n",
      "Order (2, 1, 0): MAE = 3.094993904169331\n",
      "Order (2, 1, 1): MAE = 3.0640700326514145\n",
      "Order (2, 1, 2): MAE = 3.0639832383768018\n",
      "Order (2, 1, 3): MAE = 3.063983814961477\n",
      "Order (2, 1, 4): MAE = 3.064045290981082\n"
     ]
    },
    {
     "name": "stderr",
     "output_type": "stream",
     "text": [
      "/Users/alikhan/anaconda3/lib/python3.10/site-packages/statsmodels/base/model.py:604: ConvergenceWarning: Maximum Likelihood optimization failed to converge. Check mle_retvals\n",
      "  warnings.warn(\"Maximum Likelihood optimization failed to \"\n"
     ]
    },
    {
     "name": "stdout",
     "output_type": "stream",
     "text": [
      "Order (2, 1, 5): MAE = 3.0686706551623364\n"
     ]
    },
    {
     "name": "stderr",
     "output_type": "stream",
     "text": [
      "/Users/alikhan/anaconda3/lib/python3.10/site-packages/statsmodels/base/model.py:604: ConvergenceWarning: Maximum Likelihood optimization failed to converge. Check mle_retvals\n",
      "  warnings.warn(\"Maximum Likelihood optimization failed to \"\n"
     ]
    },
    {
     "name": "stdout",
     "output_type": "stream",
     "text": [
      "Order (2, 1, 6): MAE = 3.0679996296825274\n",
      "Best Order for Stock ID 55: (2, 0, 1)\n",
      "Best MAE for Stock ID 55: 3.063942923379266\n",
      "\n",
      "Training and evaluating for Stock ID: 56\n",
      "Training Set Date Range: 0 -- 477\n",
      "Testing Set Date Range: 478 -- 480\n",
      "Order (0, 0, 0): MAE = 5.857737231513335\n",
      "Order (0, 0, 1): MAE = 5.872368650984227\n",
      "Order (0, 0, 2): MAE = 5.864208790561996\n",
      "Order (0, 0, 3): MAE = 5.884481968942537\n",
      "Order (0, 0, 4): MAE = 5.896148397564795\n",
      "Order (0, 0, 5): MAE = 5.9388016716636125\n",
      "Order (0, 0, 6): MAE = 5.933948215647845\n",
      "Order (0, 1, 0): MAE = 15.938166417369697\n",
      "Order (0, 1, 1): MAE = 15.812023099002996\n",
      "Order (0, 1, 2): MAE = 15.690269794796167\n",
      "Order (0, 1, 3): MAE = 12.955447506481528\n",
      "Order (0, 1, 4): MAE = 5.716278492265993\n",
      "Order (0, 1, 5): MAE = 5.892783900920884\n",
      "Order (0, 1, 6): MAE = 5.901061850392412\n",
      "Order (1, 0, 0): MAE = 5.918567344405625\n",
      "Order (1, 0, 1): MAE = 5.915328420800047\n",
      "Order (1, 0, 2): MAE = 5.911844314478578\n",
      "Order (1, 0, 3): MAE = 5.941746936978873\n",
      "Order (1, 0, 4): MAE = 5.938248590421137\n",
      "Order (1, 0, 5): MAE = 5.934525332958166\n",
      "Order (1, 0, 6): MAE = 5.9308003649973084\n",
      "Order (1, 1, 0): MAE = 15.834971983452196\n",
      "Order (1, 1, 1): MAE = 5.89934657032581\n",
      "Order (1, 1, 2): MAE = 5.894324158840484\n",
      "Order (1, 1, 3): MAE = 5.882486919366921\n"
     ]
    },
    {
     "name": "stderr",
     "output_type": "stream",
     "text": [
      "/Users/alikhan/anaconda3/lib/python3.10/site-packages/statsmodels/base/model.py:604: ConvergenceWarning: Maximum Likelihood optimization failed to converge. Check mle_retvals\n",
      "  warnings.warn(\"Maximum Likelihood optimization failed to \"\n"
     ]
    },
    {
     "name": "stdout",
     "output_type": "stream",
     "text": [
      "Order (1, 1, 4): MAE = 7.7725850598702255\n",
      "Order (1, 1, 5): MAE = 5.904601108394923\n",
      "Order (1, 1, 6): MAE = 5.8952558330641915\n",
      "Order (2, 0, 0): MAE = 5.914654152120818\n",
      "Order (2, 0, 1): MAE = 5.917016511590849\n"
     ]
    },
    {
     "name": "stderr",
     "output_type": "stream",
     "text": [
      "/Users/alikhan/anaconda3/lib/python3.10/site-packages/statsmodels/base/model.py:604: ConvergenceWarning: Maximum Likelihood optimization failed to converge. Check mle_retvals\n",
      "  warnings.warn(\"Maximum Likelihood optimization failed to \"\n"
     ]
    },
    {
     "name": "stdout",
     "output_type": "stream",
     "text": [
      "Order (2, 0, 2): MAE = 5.938380116331525\n",
      "Order (2, 0, 3): MAE = 5.919449061440766\n",
      "Order (2, 0, 4): MAE = 5.923327554155629\n",
      "Order (2, 0, 5): MAE = 5.933033811202056\n",
      "Order (2, 0, 6): MAE = 5.936028016729984\n",
      "Order (2, 1, 0): MAE = 15.77801177317013\n",
      "Order (2, 1, 1): MAE = 5.889329328720945\n",
      "Order (2, 1, 2): MAE = 5.900466915512856\n"
     ]
    },
    {
     "name": "stderr",
     "output_type": "stream",
     "text": [
      "/Users/alikhan/anaconda3/lib/python3.10/site-packages/statsmodels/base/model.py:604: ConvergenceWarning: Maximum Likelihood optimization failed to converge. Check mle_retvals\n",
      "  warnings.warn(\"Maximum Likelihood optimization failed to \"\n"
     ]
    },
    {
     "name": "stdout",
     "output_type": "stream",
     "text": [
      "Order (2, 1, 3): MAE = 5.914471946909798\n",
      "Order (2, 1, 4): MAE = 5.889409877995769\n",
      "Order (2, 1, 5): MAE = 5.894192927837103\n",
      "Order (2, 1, 6): MAE = 5.893579617437187\n",
      "Best Order for Stock ID 56: (0, 1, 4)\n",
      "Best MAE for Stock ID 56: 5.716278492265993\n",
      "\n",
      "Training and evaluating for Stock ID: 57\n",
      "Training Set Date Range: 0 -- 477\n",
      "Testing Set Date Range: 478 -- 480\n",
      "Order (0, 0, 0): MAE = 5.592918583909478\n",
      "Order (0, 0, 1): MAE = 5.593091590189667\n",
      "Order (0, 0, 2): MAE = 5.593671076399591\n",
      "Order (0, 0, 3): MAE = 5.593446684360695\n",
      "Order (0, 0, 4): MAE = 5.593859433219517\n",
      "Order (0, 0, 5): MAE = 5.594344782791242\n",
      "Order (0, 0, 6): MAE = 5.594300998273601\n",
      "Order (0, 1, 0): MAE = 5.6552020056\n",
      "Order (0, 1, 1): MAE = 5.828931750247339\n",
      "Order (0, 1, 2): MAE = 5.872621100447001\n",
      "Order (0, 1, 3): MAE = 5.597487997918687\n",
      "Order (0, 1, 4): MAE = 5.59482640538228\n",
      "Order (0, 1, 5): MAE = 5.593851436333882\n"
     ]
    },
    {
     "name": "stderr",
     "output_type": "stream",
     "text": [
      "/Users/alikhan/anaconda3/lib/python3.10/site-packages/statsmodels/base/model.py:604: ConvergenceWarning: Maximum Likelihood optimization failed to converge. Check mle_retvals\n",
      "  warnings.warn(\"Maximum Likelihood optimization failed to \"\n"
     ]
    },
    {
     "name": "stdout",
     "output_type": "stream",
     "text": [
      "Order (0, 1, 6): MAE = 5.594329043943113\n",
      "Order (1, 0, 0): MAE = 5.593191021978965\n",
      "Order (1, 0, 1): MAE = 5.593586921851523\n",
      "Order (1, 0, 2): MAE = 5.593596750488432\n",
      "Order (1, 0, 3): MAE = 5.594031445464435\n",
      "Order (1, 0, 4): MAE = 5.593557476691562\n",
      "Order (1, 0, 5): MAE = 5.59436435529723\n",
      "Order (1, 0, 6): MAE = 5.594202932348828\n",
      "Order (1, 1, 0): MAE = 5.789821568100816\n",
      "Order (1, 1, 1): MAE = 5.593164370522874\n",
      "Order (1, 1, 2): MAE = 5.593575530135884\n",
      "Order (1, 1, 3): MAE = 5.593585227457186\n",
      "Order (1, 1, 4): MAE = 5.595652464472042\n",
      "Order (1, 1, 5): MAE = 5.593627206127977\n"
     ]
    },
    {
     "name": "stderr",
     "output_type": "stream",
     "text": [
      "/Users/alikhan/anaconda3/lib/python3.10/site-packages/statsmodels/base/model.py:604: ConvergenceWarning: Maximum Likelihood optimization failed to converge. Check mle_retvals\n",
      "  warnings.warn(\"Maximum Likelihood optimization failed to \"\n"
     ]
    },
    {
     "name": "stdout",
     "output_type": "stream",
     "text": [
      "Order (1, 1, 6): MAE = 5.594351435822336\n",
      "Order (2, 0, 0): MAE = 5.593633472637049\n",
      "Order (2, 0, 1): MAE = 5.593602183926545\n",
      "Order (2, 0, 2): MAE = 5.593890780081779\n",
      "Order (2, 0, 3): MAE = 5.594133966091158\n",
      "Order (2, 0, 4): MAE = 5.593984901953611\n",
      "Order (2, 0, 5): MAE = 5.594262643806725\n",
      "Order (2, 0, 6): MAE = 5.594204334540796\n",
      "Order (2, 1, 0): MAE = 5.808144714095384\n",
      "Order (2, 1, 1): MAE = 5.59362154872533\n",
      "Order (2, 1, 2): MAE = 5.593244947246966\n",
      "Order (2, 1, 3): MAE = 5.593846459189172\n",
      "Order (2, 1, 4): MAE = 5.59981388675264\n"
     ]
    },
    {
     "name": "stderr",
     "output_type": "stream",
     "text": [
      "/Users/alikhan/anaconda3/lib/python3.10/site-packages/statsmodels/base/model.py:604: ConvergenceWarning: Maximum Likelihood optimization failed to converge. Check mle_retvals\n",
      "  warnings.warn(\"Maximum Likelihood optimization failed to \"\n"
     ]
    },
    {
     "name": "stdout",
     "output_type": "stream",
     "text": [
      "Order (2, 1, 5): MAE = 5.5942500058039455\n"
     ]
    },
    {
     "name": "stderr",
     "output_type": "stream",
     "text": [
      "/Users/alikhan/anaconda3/lib/python3.10/site-packages/statsmodels/base/model.py:604: ConvergenceWarning: Maximum Likelihood optimization failed to converge. Check mle_retvals\n",
      "  warnings.warn(\"Maximum Likelihood optimization failed to \"\n"
     ]
    },
    {
     "name": "stdout",
     "output_type": "stream",
     "text": [
      "Order (2, 1, 6): MAE = 5.594250547626065\n",
      "Best Order for Stock ID 57: (0, 0, 0)\n",
      "Best MAE for Stock ID 57: 5.592918583909478\n",
      "\n",
      "Training and evaluating for Stock ID: 58\n",
      "Training Set Date Range: 0 -- 477\n",
      "Testing Set Date Range: 478 -- 480\n",
      "Order (0, 0, 0): MAE = 4.001098282436957\n",
      "Order (0, 0, 1): MAE = 4.001247094671078\n",
      "Order (0, 0, 2): MAE = 4.003755920942275\n",
      "Order (0, 0, 3): MAE = 4.003121764120413\n",
      "Order (0, 0, 4): MAE = 4.0081877416458775\n",
      "Order (0, 0, 5): MAE = 4.0190468125127765\n",
      "Order (0, 0, 6): MAE = 4.015030298872414\n",
      "Order (0, 1, 0): MAE = 5.418524627575758\n",
      "Order (0, 1, 1): MAE = 5.54270201541342\n",
      "Order (0, 1, 2): MAE = 5.458512074201193\n",
      "Order (0, 1, 3): MAE = 4.0142651925387804\n",
      "Order (0, 1, 4): MAE = 3.9935438753289176\n",
      "Order (0, 1, 5): MAE = 4.008178433470591\n",
      "Order (0, 1, 6): MAE = 4.019019598885876\n",
      "Order (1, 0, 0): MAE = 4.006743249976798\n",
      "Order (1, 0, 1): MAE = 4.008617269220191\n",
      "Order (1, 0, 2): MAE = 4.008574587317364\n",
      "Order (1, 0, 3): MAE = 4.0122041865242055\n",
      "Order (1, 0, 4): MAE = 4.016940156139634\n",
      "Order (1, 0, 5): MAE = 4.016054946036077\n",
      "Order (1, 0, 6): MAE = 4.014549650680604\n",
      "Order (1, 1, 0): MAE = 5.569415221749252\n",
      "Order (1, 1, 1): MAE = 4.005949805941156\n",
      "Order (1, 1, 2): MAE = 4.008557793475806\n",
      "Order (1, 1, 3): MAE = 4.008545291618331\n",
      "Order (1, 1, 4): MAE = 3.997739242057124\n",
      "Order (1, 1, 5): MAE = 4.016915945338765\n",
      "Order (1, 1, 6): MAE = 4.016033066559592\n",
      "Order (2, 0, 0): MAE = 4.008693366568474\n",
      "Order (2, 0, 1): MAE = 4.008616855553327\n",
      "Order (2, 0, 2): MAE = 4.008285942137609\n",
      "Order (2, 0, 3): MAE = 4.008386909087166\n",
      "Order (2, 0, 4): MAE = 4.013064215114029\n",
      "Order (2, 0, 5): MAE = 4.015154148498929\n",
      "Order (2, 0, 6): MAE = 4.014505233881101\n",
      "Order (2, 1, 0): MAE = 5.5256889257516875\n",
      "Order (2, 1, 1): MAE = 4.008671881563717\n",
      "Order (2, 1, 2): MAE = 4.005785378053201\n"
     ]
    },
    {
     "name": "stderr",
     "output_type": "stream",
     "text": [
      "/Users/alikhan/anaconda3/lib/python3.10/site-packages/statsmodels/base/model.py:604: ConvergenceWarning: Maximum Likelihood optimization failed to converge. Check mle_retvals\n",
      "  warnings.warn(\"Maximum Likelihood optimization failed to \"\n"
     ]
    },
    {
     "name": "stdout",
     "output_type": "stream",
     "text": [
      "Order (2, 1, 3): MAE = 4.008226950587558\n"
     ]
    },
    {
     "name": "stderr",
     "output_type": "stream",
     "text": [
      "/Users/alikhan/anaconda3/lib/python3.10/site-packages/statsmodels/base/model.py:604: ConvergenceWarning: Maximum Likelihood optimization failed to converge. Check mle_retvals\n",
      "  warnings.warn(\"Maximum Likelihood optimization failed to \"\n"
     ]
    },
    {
     "name": "stdout",
     "output_type": "stream",
     "text": [
      "Order (2, 1, 4): MAE = 4.008319537483957\n"
     ]
    },
    {
     "name": "stderr",
     "output_type": "stream",
     "text": [
      "/Users/alikhan/anaconda3/lib/python3.10/site-packages/statsmodels/base/model.py:604: ConvergenceWarning: Maximum Likelihood optimization failed to converge. Check mle_retvals\n",
      "  warnings.warn(\"Maximum Likelihood optimization failed to \"\n"
     ]
    },
    {
     "name": "stdout",
     "output_type": "stream",
     "text": [
      "Order (2, 1, 5): MAE = 4.011878149112865\n"
     ]
    },
    {
     "name": "stderr",
     "output_type": "stream",
     "text": [
      "/Users/alikhan/anaconda3/lib/python3.10/site-packages/statsmodels/base/model.py:604: ConvergenceWarning: Maximum Likelihood optimization failed to converge. Check mle_retvals\n",
      "  warnings.warn(\"Maximum Likelihood optimization failed to \"\n"
     ]
    },
    {
     "name": "stdout",
     "output_type": "stream",
     "text": [
      "Order (2, 1, 6): MAE = 4.015126647859945\n",
      "Best Order for Stock ID 58: (0, 1, 4)\n",
      "Best MAE for Stock ID 58: 3.9935438753289176\n",
      "\n",
      "Training and evaluating for Stock ID: 59\n",
      "Training Set Date Range: 0 -- 477\n",
      "Testing Set Date Range: 478 -- 480\n",
      "Order (0, 0, 0): MAE = 5.966546924831217\n",
      "Order (0, 0, 1): MAE = 5.967312214255918\n",
      "Order (0, 0, 2): MAE = 5.966887042643364\n",
      "Order (0, 0, 3): MAE = 5.9660103972485885\n",
      "Order (0, 0, 4): MAE = 5.965929543827969\n",
      "Order (0, 0, 5): MAE = 5.9702725298686525\n",
      "Order (0, 0, 6): MAE = 5.97013380083854\n",
      "Order (0, 1, 0): MAE = 5.944761356781817\n",
      "Order (0, 1, 1): MAE = 5.960983821833511\n",
      "Order (0, 1, 2): MAE = 5.967018464205607\n",
      "Order (0, 1, 3): MAE = 6.1138256135091265\n",
      "Order (0, 1, 4): MAE = 6.111892102391842\n",
      "Order (0, 1, 5): MAE = 6.109987772884359\n",
      "Order (0, 1, 6): MAE = 5.970292676607722\n",
      "Order (1, 0, 0): MAE = 5.9659908304266285\n",
      "Order (1, 0, 1): MAE = 5.96581468851555\n",
      "Order (1, 0, 2): MAE = 5.9657294128554526\n",
      "Order (1, 0, 3): MAE = 5.965105659131572\n",
      "Order (1, 0, 4): MAE = 5.966554536108829\n",
      "Order (1, 0, 5): MAE = 5.970133834497644\n",
      "Order (1, 0, 6): MAE = 5.9697539280584815\n",
      "Order (1, 1, 0): MAE = 5.959132640173054\n",
      "Order (1, 1, 1): MAE = 5.966721329561123\n",
      "Order (1, 1, 2): MAE = 5.966388858580606\n",
      "Order (1, 1, 3): MAE = 5.965872936705738\n",
      "Order (1, 1, 4): MAE = 5.980219004139986\n"
     ]
    },
    {
     "name": "stderr",
     "output_type": "stream",
     "text": [
      "/Users/alikhan/anaconda3/lib/python3.10/site-packages/statsmodels/base/model.py:604: ConvergenceWarning: Maximum Likelihood optimization failed to converge. Check mle_retvals\n",
      "  warnings.warn(\"Maximum Likelihood optimization failed to \"\n"
     ]
    },
    {
     "name": "stdout",
     "output_type": "stream",
     "text": [
      "Order (1, 1, 5): MAE = 5.966598239555562\n"
     ]
    },
    {
     "name": "stderr",
     "output_type": "stream",
     "text": [
      "/Users/alikhan/anaconda3/lib/python3.10/site-packages/statsmodels/base/model.py:604: ConvergenceWarning: Maximum Likelihood optimization failed to converge. Check mle_retvals\n",
      "  warnings.warn(\"Maximum Likelihood optimization failed to \"\n"
     ]
    },
    {
     "name": "stdout",
     "output_type": "stream",
     "text": [
      "Order (1, 1, 6): MAE = 5.970179702177458\n",
      "Order (2, 0, 0): MAE = 5.965782018594821\n",
      "Order (2, 0, 1): MAE = 5.965507994959586\n",
      "Order (2, 0, 2): MAE = 5.9651897655438155\n",
      "Order (2, 0, 3): MAE = 5.968260324641563\n",
      "Order (2, 0, 4): MAE = 5.970478046963288\n",
      "Order (2, 0, 5): MAE = 5.9701545099207305\n",
      "Order (2, 0, 6): MAE = 5.9701671609885185\n",
      "Order (2, 1, 0): MAE = 5.963377226212464\n",
      "Order (2, 1, 1): MAE = 5.9663880803264195\n",
      "Order (2, 1, 2): MAE = 5.965689448531708\n"
     ]
    },
    {
     "name": "stderr",
     "output_type": "stream",
     "text": [
      "/Users/alikhan/anaconda3/lib/python3.10/site-packages/statsmodels/base/model.py:604: ConvergenceWarning: Maximum Likelihood optimization failed to converge. Check mle_retvals\n",
      "  warnings.warn(\"Maximum Likelihood optimization failed to \"\n"
     ]
    },
    {
     "name": "stdout",
     "output_type": "stream",
     "text": [
      "Order (2, 1, 3): MAE = 5.9656611135596656\n"
     ]
    },
    {
     "name": "stderr",
     "output_type": "stream",
     "text": [
      "/Users/alikhan/anaconda3/lib/python3.10/site-packages/statsmodels/base/model.py:604: ConvergenceWarning: Maximum Likelihood optimization failed to converge. Check mle_retvals\n",
      "  warnings.warn(\"Maximum Likelihood optimization failed to \"\n"
     ]
    },
    {
     "name": "stdout",
     "output_type": "stream",
     "text": [
      "Order (2, 1, 4): MAE = 5.965589519913358\n"
     ]
    },
    {
     "name": "stderr",
     "output_type": "stream",
     "text": [
      "/Users/alikhan/anaconda3/lib/python3.10/site-packages/statsmodels/base/model.py:604: ConvergenceWarning: Maximum Likelihood optimization failed to converge. Check mle_retvals\n",
      "  warnings.warn(\"Maximum Likelihood optimization failed to \"\n"
     ]
    },
    {
     "name": "stdout",
     "output_type": "stream",
     "text": [
      "Order (2, 1, 5): MAE = 5.965568984156321\n"
     ]
    },
    {
     "name": "stderr",
     "output_type": "stream",
     "text": [
      "/Users/alikhan/anaconda3/lib/python3.10/site-packages/statsmodels/base/model.py:604: ConvergenceWarning: Maximum Likelihood optimization failed to converge. Check mle_retvals\n",
      "  warnings.warn(\"Maximum Likelihood optimization failed to \"\n"
     ]
    },
    {
     "name": "stdout",
     "output_type": "stream",
     "text": [
      "Order (2, 1, 6): MAE = 5.97032946368943\n",
      "Best Order for Stock ID 59: (0, 1, 0)\n",
      "Best MAE for Stock ID 59: 5.944761356781817\n",
      "\n",
      "Training and evaluating for Stock ID: 60\n",
      "Training Set Date Range: 0 -- 477\n",
      "Testing Set Date Range: 478 -- 480\n",
      "Order (0, 0, 0): MAE = 5.939387144653288\n",
      "Order (0, 0, 1): MAE = 5.940268716297433\n",
      "Order (0, 0, 2): MAE = 5.939419060683749\n",
      "Order (0, 0, 3): MAE = 5.942683112122469\n",
      "Order (0, 0, 4): MAE = 5.946315425902305\n",
      "Order (0, 0, 5): MAE = 5.950968075180294\n",
      "Order (0, 0, 6): MAE = 5.949695321883706\n",
      "Order (0, 1, 0): MAE = 6.232518132072728\n",
      "Order (0, 1, 1): MAE = 6.186420507156787\n",
      "Order (0, 1, 2): MAE = 6.16021180775477\n",
      "Order (0, 1, 3): MAE = 5.917579455331631\n",
      "Order (0, 1, 4): MAE = 5.898152338166025\n",
      "Order (0, 1, 5): MAE = 5.8775278008827545\n",
      "Order (0, 1, 6): MAE = 5.922840094656228\n",
      "Order (1, 0, 0): MAE = 5.944291019642805\n",
      "Order (1, 0, 1): MAE = 5.944448874847248\n",
      "Order (1, 0, 2): MAE = 5.945224535808535\n",
      "Order (1, 0, 3): MAE = 5.9523152262352355\n",
      "Order (1, 0, 4): MAE = 5.951536334419166\n",
      "Order (1, 0, 5): MAE = 5.9498578801411925\n",
      "Order (1, 0, 6): MAE = 5.949574844234224\n",
      "Order (1, 1, 0): MAE = 6.211229848414578\n",
      "Order (1, 1, 1): MAE = 5.9204166860168845\n",
      "Order (1, 1, 2): MAE = 5.919630741281018\n",
      "Order (1, 1, 3): MAE = 5.920586087643675\n",
      "Order (1, 1, 4): MAE = 5.90698700810567\n",
      "Order (1, 1, 5): MAE = 5.925575355776191\n",
      "Order (1, 1, 6): MAE = 5.919179923366545\n",
      "Order (2, 0, 0): MAE = 5.944486166760275\n",
      "Order (2, 0, 1): MAE = 5.944600709800351\n",
      "Order (2, 0, 2): MAE = 5.975395372539463\n",
      "Order (2, 0, 3): MAE = 5.95442239201756\n",
      "Order (2, 0, 4): MAE = 5.9500102240133685\n",
      "Order (2, 0, 5): MAE = 5.949656640723621\n",
      "Order (2, 0, 6): MAE = 5.950827248449447\n",
      "Order (2, 1, 0): MAE = 6.179353889588283\n",
      "Order (2, 1, 1): MAE = 5.92192911386059\n",
      "Order (2, 1, 2): MAE = 5.918551513901205\n",
      "Order (2, 1, 3): MAE = 5.922019585348628\n",
      "Order (2, 1, 4): MAE = 5.920934851887027\n",
      "Order (2, 1, 5): MAE = 5.924096417523951\n",
      "Order (2, 1, 6): MAE = 5.918368385627581\n",
      "Best Order for Stock ID 60: (0, 1, 5)\n",
      "Best MAE for Stock ID 60: 5.8775278008827545\n",
      "\n",
      "Training and evaluating for Stock ID: 61\n",
      "Training Set Date Range: 0 -- 477\n",
      "Testing Set Date Range: 478 -- 480\n",
      "Order (0, 0, 0): MAE = 7.579113728368221\n",
      "Order (0, 0, 1): MAE = 7.586554428640278\n",
      "Order (0, 0, 2): MAE = 7.588064082041683\n",
      "Order (0, 0, 3): MAE = 7.585316481081974\n",
      "Order (0, 0, 4): MAE = 7.579089128024442\n",
      "Order (0, 0, 5): MAE = 7.584715659192108\n",
      "Order (0, 0, 6): MAE = 7.5847570659856505\n",
      "Order (0, 1, 0): MAE = 8.126685127406061\n",
      "Order (0, 1, 1): MAE = 8.047678200660394\n",
      "Order (0, 1, 2): MAE = 8.059374037023094\n",
      "Order (0, 1, 3): MAE = 8.238038023200973\n",
      "Order (0, 1, 4): MAE = 7.871570056134926\n",
      "Order (0, 1, 5): MAE = 7.727766858051429\n",
      "Order (0, 1, 6): MAE = 7.584794061329026\n",
      "Order (1, 0, 0): MAE = 7.578747295035883\n",
      "Order (1, 0, 1): MAE = 7.580691888319558\n",
      "Order (1, 0, 2): MAE = 7.5798772852571155\n",
      "Order (1, 0, 3): MAE = 7.578410298269992\n",
      "Order (1, 0, 4): MAE = 7.578450967350606\n",
      "Order (1, 0, 5): MAE = 7.584750501193463\n",
      "Order (1, 0, 6): MAE = 7.585649835203344\n",
      "Order (1, 1, 0): MAE = 8.04862467771539\n",
      "Order (1, 1, 1): MAE = 7.578765628594587\n",
      "Order (1, 1, 2): MAE = 7.58070783063285\n",
      "Order (1, 1, 3): MAE = 7.579904662070026\n"
     ]
    },
    {
     "name": "stderr",
     "output_type": "stream",
     "text": [
      "/Users/alikhan/anaconda3/lib/python3.10/site-packages/statsmodels/base/model.py:604: ConvergenceWarning: Maximum Likelihood optimization failed to converge. Check mle_retvals\n",
      "  warnings.warn(\"Maximum Likelihood optimization failed to \"\n"
     ]
    },
    {
     "name": "stdout",
     "output_type": "stream",
     "text": [
      "Order (1, 1, 4): MAE = 7.578434394076776\n"
     ]
    },
    {
     "name": "stderr",
     "output_type": "stream",
     "text": [
      "/Users/alikhan/anaconda3/lib/python3.10/site-packages/statsmodels/base/model.py:604: ConvergenceWarning: Maximum Likelihood optimization failed to converge. Check mle_retvals\n",
      "  warnings.warn(\"Maximum Likelihood optimization failed to \"\n"
     ]
    },
    {
     "name": "stdout",
     "output_type": "stream",
     "text": [
      "Order (1, 1, 5): MAE = 7.57853678068205\n",
      "Order (1, 1, 6): MAE = 7.5848271039177835\n",
      "Order (2, 0, 0): MAE = 7.581132753716367\n",
      "Order (2, 0, 1): MAE = 7.581403974690488\n",
      "Order (2, 0, 2): MAE = 7.579651203990835\n",
      "Order (2, 0, 3): MAE = 7.579676354206398\n",
      "Order (2, 0, 4): MAE = 7.580667292785793\n",
      "Order (2, 0, 5): MAE = 7.5848132800778165\n",
      "Order (2, 0, 6): MAE = 7.585684082089742\n",
      "Order (2, 1, 0): MAE = 8.05744730620339\n",
      "Order (2, 1, 1): MAE = 7.58117047300624\n",
      "Order (2, 1, 2): MAE = 7.58148870904745\n",
      "Order (2, 1, 3): MAE = 7.582018736767044\n"
     ]
    },
    {
     "name": "stderr",
     "output_type": "stream",
     "text": [
      "/Users/alikhan/anaconda3/lib/python3.10/site-packages/statsmodels/base/model.py:604: ConvergenceWarning: Maximum Likelihood optimization failed to converge. Check mle_retvals\n",
      "  warnings.warn(\"Maximum Likelihood optimization failed to \"\n"
     ]
    },
    {
     "name": "stdout",
     "output_type": "stream",
     "text": [
      "Order (2, 1, 4): MAE = 7.580858024570003\n"
     ]
    },
    {
     "name": "stderr",
     "output_type": "stream",
     "text": [
      "/Users/alikhan/anaconda3/lib/python3.10/site-packages/statsmodels/base/model.py:604: ConvergenceWarning: Maximum Likelihood optimization failed to converge. Check mle_retvals\n",
      "  warnings.warn(\"Maximum Likelihood optimization failed to \"\n"
     ]
    },
    {
     "name": "stdout",
     "output_type": "stream",
     "text": [
      "Order (2, 1, 5): MAE = 7.581481361354965\n"
     ]
    },
    {
     "name": "stderr",
     "output_type": "stream",
     "text": [
      "/Users/alikhan/anaconda3/lib/python3.10/site-packages/statsmodels/base/model.py:604: ConvergenceWarning: Maximum Likelihood optimization failed to converge. Check mle_retvals\n",
      "  warnings.warn(\"Maximum Likelihood optimization failed to \"\n"
     ]
    },
    {
     "name": "stdout",
     "output_type": "stream",
     "text": [
      "Order (2, 1, 6): MAE = 7.584892196859857\n",
      "Best Order for Stock ID 61: (1, 0, 3)\n",
      "Best MAE for Stock ID 61: 7.578410298269992\n",
      "\n",
      "Training and evaluating for Stock ID: 62\n",
      "Training Set Date Range: 0 -- 477\n",
      "Testing Set Date Range: 478 -- 480\n",
      "Order (0, 0, 0): MAE = 6.961873644319893\n",
      "Order (0, 0, 1): MAE = 6.96409792555899\n",
      "Order (0, 0, 2): MAE = 6.969894849503469\n",
      "Order (0, 0, 3): MAE = 6.977713557427825\n",
      "Order (0, 0, 4): MAE = 6.990065594880877\n",
      "Order (0, 0, 5): MAE = 7.000599206770604\n",
      "Order (0, 0, 6): MAE = 7.002491652743603\n",
      "Order (0, 1, 0): MAE = 13.134750543563635\n",
      "Order (0, 1, 1): MAE = 15.143471929442997\n",
      "Order (0, 1, 2): MAE = 15.36911725248924\n",
      "Order (0, 1, 3): MAE = 7.141019108846377\n",
      "Order (0, 1, 4): MAE = 7.149489791967793\n",
      "Order (0, 1, 5): MAE = 7.159395254588585\n",
      "Order (0, 1, 6): MAE = 7.134360057199147\n",
      "Order (1, 0, 0): MAE = 7.0099670620100945\n",
      "Order (1, 0, 1): MAE = 7.019618234086893\n",
      "Order (1, 0, 2): MAE = 7.014811678035527\n",
      "Order (1, 0, 3): MAE = 7.02051644856163\n",
      "Order (1, 0, 4): MAE = 7.00601274639138\n",
      "Order (1, 0, 5): MAE = 7.003588229241346\n",
      "Order (1, 0, 6): MAE = 6.994943134908867\n",
      "Order (1, 1, 0): MAE = 14.73420837003828\n",
      "Order (1, 1, 1): MAE = 7.1743734851565835\n",
      "Order (1, 1, 2): MAE = 15.53743652470734\n",
      "Order (1, 1, 3): MAE = 7.165850625237204\n",
      "Order (1, 1, 4): MAE = 7.1439052973453405\n",
      "Order (1, 1, 5): MAE = 7.14950000123529\n",
      "Order (1, 1, 6): MAE = 7.149758761073881\n",
      "Order (2, 0, 0): MAE = 7.020517454242479\n",
      "Order (2, 0, 1): MAE = 7.0067198842332505\n",
      "Order (2, 0, 2): MAE = 6.994252354062542\n",
      "Order (2, 0, 3): MAE = 7.019467535596815\n",
      "Order (2, 0, 4): MAE = 6.99039835627533\n",
      "Order (2, 0, 5): MAE = 7.001326334359566\n",
      "Order (2, 0, 6): MAE = 6.993910140035802\n",
      "Order (2, 1, 0): MAE = 15.155313304524586\n",
      "Order (2, 1, 1): MAE = 7.170088644781348\n",
      "Order (2, 1, 2): MAE = 7.161309136482625\n",
      "Order (2, 1, 3): MAE = 7.175430642765658\n",
      "Order (2, 1, 4): MAE = 7.17105442519922\n",
      "Order (2, 1, 5): MAE = 7.171865287113053\n",
      "Order (2, 1, 6): MAE = 7.153066652196263\n",
      "Best Order for Stock ID 62: (0, 0, 0)\n",
      "Best MAE for Stock ID 62: 6.961873644319893\n",
      "\n",
      "Training and evaluating for Stock ID: 63\n",
      "Training Set Date Range: 0 -- 477\n",
      "Testing Set Date Range: 478 -- 480\n",
      "Order (0, 0, 0): MAE = 4.330218064781866\n",
      "Order (0, 0, 1): MAE = 4.363354436681252\n",
      "Order (0, 0, 2): MAE = 4.36374592691916\n",
      "Order (0, 0, 3): MAE = 4.375361817980436\n",
      "Order (0, 0, 4): MAE = 4.375637400373641\n",
      "Order (0, 0, 5): MAE = 4.434703217694101\n",
      "Order (0, 0, 6): MAE = 4.432182899445345\n",
      "Order (0, 1, 0): MAE = 12.142994396539393\n",
      "Order (0, 1, 1): MAE = 11.910705378440968\n",
      "Order (0, 1, 2): MAE = 11.944020155747332\n",
      "Order (0, 1, 3): MAE = 9.684098816809009\n",
      "Order (0, 1, 4): MAE = 4.254681535367942\n",
      "Order (0, 1, 5): MAE = 4.259721933494174\n",
      "Order (0, 1, 6): MAE = 4.335993428879007\n",
      "Order (1, 0, 0): MAE = 4.45697360403753\n",
      "Order (1, 0, 1): MAE = 4.447546648647785\n",
      "Order (1, 0, 2): MAE = 4.435436672285042\n",
      "Order (1, 0, 3): MAE = 4.4405126454951445\n",
      "Order (1, 0, 4): MAE = 4.419906861034938\n",
      "Order (1, 0, 5): MAE = 4.432462459998066\n",
      "Order (1, 0, 6): MAE = 4.426319069187344\n",
      "Order (1, 1, 0): MAE = 11.927778870038745\n",
      "Order (1, 1, 1): MAE = 4.365103018085262\n",
      "Order (1, 1, 2): MAE = 4.352442334684573\n",
      "Order (1, 1, 3): MAE = 4.338310743101237\n",
      "Order (1, 1, 4): MAE = 4.255650197610305\n",
      "Order (1, 1, 5): MAE = 4.32399636158557\n",
      "Order (1, 1, 6): MAE = 4.332984335188573\n",
      "Order (2, 0, 0): MAE = 4.444986734737932\n",
      "Order (2, 0, 1): MAE = 4.458692965760444\n",
      "Order (2, 0, 2): MAE = 4.403212028006707\n",
      "Order (2, 0, 3): MAE = 4.402432072573768\n",
      "Order (2, 0, 4): MAE = 4.39169798052234\n",
      "Order (2, 0, 5): MAE = 4.430644853355206\n",
      "Order (2, 0, 6): MAE = 4.432579993595244\n",
      "Order (2, 1, 0): MAE = 12.000213891809945\n",
      "Order (2, 1, 1): MAE = 4.349180148014346\n",
      "Order (2, 1, 2): MAE = 4.3633482352545325\n",
      "Order (2, 1, 3): MAE = 4.362424889345031\n",
      "Order (2, 1, 4): MAE = 4.339793452007975\n",
      "Order (2, 1, 5): MAE = 4.288575398312036\n",
      "Order (2, 1, 6): MAE = 4.33025285692857\n",
      "Best Order for Stock ID 63: (0, 1, 4)\n",
      "Best MAE for Stock ID 63: 4.254681535367942\n",
      "\n",
      "Training and evaluating for Stock ID: 64\n",
      "Training Set Date Range: 0 -- 477\n",
      "Testing Set Date Range: 478 -- 480\n",
      "Order (0, 0, 0): MAE = 6.5383077839984605\n",
      "Order (0, 0, 1): MAE = 6.546073896788099\n",
      "Order (0, 0, 2): MAE = 6.545733180791774\n",
      "Order (0, 0, 3): MAE = 6.552537025190777\n",
      "Order (0, 0, 4): MAE = 6.549335700652758\n",
      "Order (0, 0, 5): MAE = 6.5663877002369055\n",
      "Order (0, 0, 6): MAE = 6.5601506287516935\n",
      "Order (0, 1, 0): MAE = 8.107355165272727\n",
      "Order (0, 1, 1): MAE = 7.150157006481069\n",
      "Order (0, 1, 2): MAE = 6.910107957727699\n",
      "Order (0, 1, 3): MAE = 6.545985978417949\n",
      "Order (0, 1, 4): MAE = 6.552550587064558\n",
      "Order (0, 1, 5): MAE = 6.549205126524799\n"
     ]
    },
    {
     "name": "stderr",
     "output_type": "stream",
     "text": [
      "/Users/alikhan/anaconda3/lib/python3.10/site-packages/statsmodels/base/model.py:604: ConvergenceWarning: Maximum Likelihood optimization failed to converge. Check mle_retvals\n",
      "  warnings.warn(\"Maximum Likelihood optimization failed to \"\n"
     ]
    },
    {
     "name": "stdout",
     "output_type": "stream",
     "text": [
      "Order (0, 1, 6): MAE = 6.566368809542499\n",
      "Order (1, 0, 0): MAE = 6.5498269325531435\n",
      "Order (1, 0, 1): MAE = 6.5489203359423955\n",
      "Order (1, 0, 2): MAE = 6.550101285430828\n",
      "Order (1, 0, 3): MAE = 6.555064953607851\n",
      "Order (1, 0, 4): MAE = 6.557053982010868\n",
      "Order (1, 0, 5): MAE = 6.561412825771576\n",
      "Order (1, 0, 6): MAE = 6.561117408598814\n",
      "Order (1, 1, 0): MAE = 7.391229587896096\n",
      "Order (1, 1, 1): MAE = 6.549655042329559\n",
      "Order (1, 1, 2): MAE = 6.548881722966333\n",
      "Order (1, 1, 3): MAE = 6.550064076962237\n",
      "Order (1, 1, 4): MAE = 6.549148961014169\n",
      "Order (1, 1, 5): MAE = 6.548715846594683\n",
      "Order (1, 1, 6): MAE = 6.561396778842947\n",
      "Order (2, 0, 0): MAE = 6.548846526818687\n",
      "Order (2, 0, 1): MAE = 6.548959803030722\n",
      "Order (2, 0, 2): MAE = 6.556501011315766\n",
      "Order (2, 0, 3): MAE = 6.551636485736093\n",
      "Order (2, 0, 4): MAE = 6.559077846943659\n",
      "Order (2, 0, 5): MAE = 6.5603632572356805\n",
      "Order (2, 0, 6): MAE = 6.561188855768164\n",
      "Order (2, 1, 0): MAE = 7.127325162127173\n",
      "Order (2, 1, 1): MAE = 6.54880678028281\n",
      "Order (2, 1, 2): MAE = 6.550387900196331\n"
     ]
    },
    {
     "name": "stderr",
     "output_type": "stream",
     "text": [
      "/Users/alikhan/anaconda3/lib/python3.10/site-packages/statsmodels/base/model.py:604: ConvergenceWarning: Maximum Likelihood optimization failed to converge. Check mle_retvals\n",
      "  warnings.warn(\"Maximum Likelihood optimization failed to \"\n"
     ]
    },
    {
     "name": "stdout",
     "output_type": "stream",
     "text": [
      "Order (2, 1, 3): MAE = 6.5487223650377855\n",
      "Order (2, 1, 4): MAE = 6.5967428931298375\n"
     ]
    },
    {
     "name": "stderr",
     "output_type": "stream",
     "text": [
      "/Users/alikhan/anaconda3/lib/python3.10/site-packages/statsmodels/base/model.py:604: ConvergenceWarning: Maximum Likelihood optimization failed to converge. Check mle_retvals\n",
      "  warnings.warn(\"Maximum Likelihood optimization failed to \"\n"
     ]
    },
    {
     "name": "stdout",
     "output_type": "stream",
     "text": [
      "Order (2, 1, 5): MAE = 6.5521233664649845\n"
     ]
    },
    {
     "name": "stderr",
     "output_type": "stream",
     "text": [
      "/Users/alikhan/anaconda3/lib/python3.10/site-packages/statsmodels/base/model.py:604: ConvergenceWarning: Maximum Likelihood optimization failed to converge. Check mle_retvals\n",
      "  warnings.warn(\"Maximum Likelihood optimization failed to \"\n"
     ]
    },
    {
     "name": "stdout",
     "output_type": "stream",
     "text": [
      "Order (2, 1, 6): MAE = 6.56031373181535\n",
      "Best Order for Stock ID 64: (0, 0, 0)\n",
      "Best MAE for Stock ID 64: 6.5383077839984605\n",
      "\n",
      "Training and evaluating for Stock ID: 65\n",
      "Training Set Date Range: 0 -- 477\n",
      "Testing Set Date Range: 478 -- 480\n",
      "Order (0, 0, 0): MAE = 4.010544329102644\n",
      "Order (0, 0, 1): MAE = 4.0203524666843515\n",
      "Order (0, 0, 2): MAE = 4.032076950620694\n",
      "Order (0, 0, 3): MAE = 4.033592189812515\n",
      "Order (0, 0, 4): MAE = 4.02763070617771\n",
      "Order (0, 0, 5): MAE = 4.0520083979294625\n",
      "Order (0, 0, 6): MAE = 4.050623597096209\n",
      "Order (0, 1, 0): MAE = 5.987965704593939\n",
      "Order (0, 1, 1): MAE = 5.701619011261713\n",
      "Order (0, 1, 2): MAE = 5.513190557481732\n",
      "Order (0, 1, 3): MAE = 4.7820442472878675\n",
      "Order (0, 1, 4): MAE = 3.993870709479203\n",
      "Order (0, 1, 5): MAE = 4.011706749384063\n",
      "Order (0, 1, 6): MAE = 4.038535411502918\n",
      "Order (1, 0, 0): MAE = 4.041466683359633\n",
      "Order (1, 0, 1): MAE = 4.042064886950583\n",
      "Order (1, 0, 2): MAE = 4.041758931516926\n",
      "Order (1, 0, 3): MAE = 4.03960435756469\n",
      "Order (1, 0, 4): MAE = 4.0446917511137\n",
      "Order (1, 0, 5): MAE = 4.050769587516509\n",
      "Order (1, 0, 6): MAE = 4.051680341253342\n",
      "Order (1, 1, 0): MAE = 5.742278988943851\n",
      "Order (1, 1, 1): MAE = 4.030882072616506\n",
      "Order (1, 1, 2): MAE = 4.028613193384662\n",
      "Order (1, 1, 3): MAE = 4.030759900182375\n",
      "Order (1, 1, 4): MAE = 4.028365780206714\n",
      "Order (1, 1, 5): MAE = 4.032943420198671\n",
      "Order (1, 1, 6): MAE = 4.036975182635822\n",
      "Order (2, 0, 0): MAE = 4.042100543843665\n",
      "Order (2, 0, 1): MAE = 4.0390806976524365\n",
      "Order (2, 0, 2): MAE = 4.038924250796671\n",
      "Order (2, 0, 3): MAE = 4.040123452202347\n",
      "Order (2, 0, 4): MAE = 4.044733018960273\n",
      "Order (2, 0, 5): MAE = 4.049680206875293\n",
      "Order (2, 0, 6): MAE = 4.0508010615918\n",
      "Order (2, 1, 0): MAE = 5.588342515647195\n",
      "Order (2, 1, 1): MAE = 4.031204251810871\n",
      "Order (2, 1, 2): MAE = 4.031500142155983\n",
      "Order (2, 1, 3): MAE = 4.031392550046787\n",
      "Order (2, 1, 4): MAE = 4.028879918858217\n",
      "Order (2, 1, 5): MAE = 4.0292740845982244\n",
      "Order (2, 1, 6): MAE = 4.035506234899361\n",
      "Best Order for Stock ID 65: (0, 1, 4)\n",
      "Best MAE for Stock ID 65: 3.993870709479203\n",
      "\n",
      "Training and evaluating for Stock ID: 66\n",
      "Training Set Date Range: 0 -- 477\n",
      "Testing Set Date Range: 478 -- 480\n",
      "Order (0, 0, 0): MAE = 4.748280359084941\n",
      "Order (0, 0, 1): MAE = 4.752072572330482\n",
      "Order (0, 0, 2): MAE = 4.766125246437453\n",
      "Order (0, 0, 3): MAE = 4.765404281719934\n",
      "Order (0, 0, 4): MAE = 4.780252573338741\n",
      "Order (0, 0, 5): MAE = 4.803383065712648\n",
      "Order (0, 0, 6): MAE = 4.80060783022128\n",
      "Order (0, 1, 0): MAE = 10.371978001454545\n",
      "Order (0, 1, 1): MAE = 10.379234707826532\n",
      "Order (0, 1, 2): MAE = 10.26399317456767\n",
      "Order (0, 1, 3): MAE = 9.786781669854557\n",
      "Order (0, 1, 4): MAE = 4.7650504569164225\n",
      "Order (0, 1, 5): MAE = 4.787443820964177\n",
      "Order (0, 1, 6): MAE = 4.818475699518388\n",
      "Order (1, 0, 0): MAE = 4.799540643693844\n",
      "Order (1, 0, 1): MAE = 4.802990989864629\n",
      "Order (1, 0, 2): MAE = 4.800696075046274\n",
      "Order (1, 0, 3): MAE = 4.801380899691458\n",
      "Order (1, 0, 4): MAE = 4.811279377421644\n",
      "Order (1, 0, 5): MAE = 4.801595940430247\n",
      "Order (1, 0, 6): MAE = 4.797319852743342\n",
      "Order (1, 1, 0): MAE = 10.426746442511647\n",
      "Order (1, 1, 1): MAE = 4.8117062316874035\n",
      "Order (1, 1, 2): MAE = 4.815691979241513\n",
      "Order (1, 1, 3): MAE = 4.812769902583627\n",
      "Order (1, 1, 4): MAE = 4.760233160738987\n",
      "Order (1, 1, 5): MAE = 4.824955754635419\n",
      "Order (1, 1, 6): MAE = 4.818897979795574\n",
      "Order (2, 0, 0): MAE = 4.803304420605364\n",
      "Order (2, 0, 1): MAE = 4.803134862592664\n",
      "Order (2, 0, 2): MAE = 4.787476552178847\n",
      "Order (2, 0, 3): MAE = 4.790371274168388\n",
      "Order (2, 0, 4): MAE = 4.79566846076847\n",
      "Order (2, 0, 5): MAE = 4.799130655566959\n",
      "Order (2, 0, 6): MAE = 4.797042246522173\n",
      "Order (2, 1, 0): MAE = 10.303372972185807\n",
      "Order (2, 1, 1): MAE = 4.81439655413682\n",
      "Order (2, 1, 2): MAE = 4.807294627519133\n",
      "Order (2, 1, 3): MAE = 4.813134927499517\n",
      "Order (2, 1, 4): MAE = 4.809925933921254\n",
      "Order (2, 1, 5): MAE = 4.8186948265169285\n",
      "Order (2, 1, 6): MAE = 4.817780153681405\n",
      "Best Order for Stock ID 66: (0, 0, 0)\n",
      "Best MAE for Stock ID 66: 4.748280359084941\n",
      "\n",
      "Training and evaluating for Stock ID: 67\n",
      "Training Set Date Range: 0 -- 477\n",
      "Testing Set Date Range: 478 -- 480\n",
      "Order (0, 0, 0): MAE = 4.856743483907171\n",
      "Order (0, 0, 1): MAE = 4.853000907264807\n",
      "Order (0, 0, 2): MAE = 4.857784079257024\n",
      "Order (0, 0, 3): MAE = 4.850673597796424\n",
      "Order (0, 0, 4): MAE = 4.847410253356996\n",
      "Order (0, 0, 5): MAE = 4.854598663464843\n",
      "Order (0, 0, 6): MAE = 4.854046568046346\n",
      "Order (0, 1, 0): MAE = 6.9895116166242435\n",
      "Order (0, 1, 1): MAE = 7.09169483773739\n",
      "Order (0, 1, 2): MAE = 7.086135084485259\n",
      "Order (0, 1, 3): MAE = 6.375430951204514\n",
      "Order (0, 1, 4): MAE = 4.410941888178045\n",
      "Order (0, 1, 5): MAE = 4.955826194268127\n",
      "Order (0, 1, 6): MAE = 4.604679741893225\n",
      "Order (1, 0, 0): MAE = 4.823063298344005\n",
      "Order (1, 0, 1): MAE = 4.821224886934297\n",
      "Order (1, 0, 2): MAE = 4.829196154060358\n",
      "Order (1, 0, 3): MAE = 4.836047033483821\n",
      "Order (1, 0, 4): MAE = 4.850479240106911\n",
      "Order (1, 0, 5): MAE = 4.85411861463773\n",
      "Order (1, 0, 6): MAE = 4.850233356134514\n",
      "Order (1, 1, 0): MAE = 7.171316704738934\n",
      "Order (1, 1, 1): MAE = 7.082160472694243\n",
      "Order (1, 1, 2): MAE = 7.092496681932002\n",
      "Order (1, 1, 3): MAE = 4.59350156867397\n",
      "Order (1, 1, 4): MAE = 5.0334941025575635\n",
      "Order (1, 1, 5): MAE = 4.607134851121277\n",
      "Order (1, 1, 6): MAE = 4.599980750637691\n",
      "Order (2, 0, 0): MAE = 4.8209429736873926\n",
      "Order (2, 0, 1): MAE = 4.820979119686525\n",
      "Order (2, 0, 2): MAE = 4.86192576572099\n",
      "Order (2, 0, 3): MAE = 4.828793508246777\n",
      "Order (2, 0, 4): MAE = 4.860790473675193\n",
      "Order (2, 0, 5): MAE = 4.854107712324445\n",
      "Order (2, 0, 6): MAE = 4.850480933447386\n",
      "Order (2, 1, 0): MAE = 7.11449898847849\n",
      "Order (2, 1, 1): MAE = 4.591503352737262\n",
      "Order (2, 1, 2): MAE = 4.586588154184264\n",
      "Order (2, 1, 3): MAE = 4.604751117329506\n",
      "Order (2, 1, 4): MAE = 4.59190685189991\n",
      "Order (2, 1, 5): MAE = 4.593993224093541\n",
      "Order (2, 1, 6): MAE = 4.600004606209565\n",
      "Best Order for Stock ID 67: (0, 1, 4)\n",
      "Best MAE for Stock ID 67: 4.410941888178045\n",
      "\n",
      "Training and evaluating for Stock ID: 68\n",
      "Training Set Date Range: 0 -- 477\n",
      "Testing Set Date Range: 478 -- 480\n",
      "Order (0, 0, 0): MAE = 3.9511969168281014\n",
      "Order (0, 0, 1): MAE = 3.9547751862712976\n",
      "Order (0, 0, 2): MAE = 3.959577064694789\n",
      "Order (0, 0, 3): MAE = 3.959981266580495\n",
      "Order (0, 0, 4): MAE = 3.9613158870140013\n",
      "Order (0, 0, 5): MAE = 3.9814765039419\n",
      "Order (0, 0, 6): MAE = 3.976805444070587\n",
      "Order (0, 1, 0): MAE = 4.3404102233212125\n",
      "Order (0, 1, 1): MAE = 3.9845844329834312\n",
      "Order (0, 1, 2): MAE = 3.943774741783836\n",
      "Order (0, 1, 3): MAE = 4.477884693281086\n",
      "Order (0, 1, 4): MAE = 3.957521427882107\n",
      "Order (0, 1, 5): MAE = 3.9583676781977575\n",
      "Order (0, 1, 6): MAE = 3.9814863162864658\n",
      "Order (1, 0, 0): MAE = 3.95598708833049\n",
      "Order (1, 0, 1): MAE = 3.9552675091696763\n",
      "Order (1, 0, 2): MAE = 3.957345555379224\n",
      "Order (1, 0, 3): MAE = 3.9615569307982073\n",
      "Order (1, 0, 4): MAE = 3.9727174830238896\n",
      "Order (1, 0, 5): MAE = 3.9773902089446387\n",
      "Order (1, 0, 6): MAE = 3.976900328873016\n",
      "Order (1, 1, 0): MAE = 4.040422603628067\n",
      "Order (1, 1, 1): MAE = 3.955114433972775\n",
      "Order (1, 1, 2): MAE = 3.9502175158645145\n",
      "Order (1, 1, 3): MAE = 3.9572547139351344\n",
      "Order (1, 1, 4): MAE = 3.9592665203741966\n",
      "Order (1, 1, 5): MAE = 3.9727093631963895\n"
     ]
    },
    {
     "name": "stderr",
     "output_type": "stream",
     "text": [
      "/Users/alikhan/anaconda3/lib/python3.10/site-packages/statsmodels/base/model.py:604: ConvergenceWarning: Maximum Likelihood optimization failed to converge. Check mle_retvals\n",
      "  warnings.warn(\"Maximum Likelihood optimization failed to \"\n"
     ]
    },
    {
     "name": "stdout",
     "output_type": "stream",
     "text": [
      "Order (1, 1, 6): MAE = 3.977364140080123\n",
      "Order (2, 0, 0): MAE = 3.9551713322185993\n",
      "Order (2, 0, 1): MAE = 3.9552229244559816\n",
      "Order (2, 0, 2): MAE = 3.9720323374900217\n",
      "Order (2, 0, 3): MAE = 3.9577761701880556\n",
      "Order (2, 0, 4): MAE = 3.9766796696667814\n",
      "Order (2, 0, 5): MAE = 3.976690361823762\n",
      "Order (2, 0, 6): MAE = 3.9777900918767926\n",
      "Order (2, 1, 0): MAE = 3.97569408993321\n",
      "Order (2, 1, 1): MAE = 3.9549051017991594\n",
      "Order (2, 1, 2): MAE = 3.9563297745286237\n"
     ]
    },
    {
     "name": "stderr",
     "output_type": "stream",
     "text": [
      "/Users/alikhan/anaconda3/lib/python3.10/site-packages/statsmodels/base/model.py:604: ConvergenceWarning: Maximum Likelihood optimization failed to converge. Check mle_retvals\n",
      "  warnings.warn(\"Maximum Likelihood optimization failed to \"\n"
     ]
    },
    {
     "name": "stdout",
     "output_type": "stream",
     "text": [
      "Order (2, 1, 3): MAE = 3.9544356081528043\n"
     ]
    },
    {
     "name": "stderr",
     "output_type": "stream",
     "text": [
      "/Users/alikhan/anaconda3/lib/python3.10/site-packages/statsmodels/base/model.py:604: ConvergenceWarning: Maximum Likelihood optimization failed to converge. Check mle_retvals\n",
      "  warnings.warn(\"Maximum Likelihood optimization failed to \"\n"
     ]
    },
    {
     "name": "stdout",
     "output_type": "stream",
     "text": [
      "Order (2, 1, 4): MAE = 3.9577435493458335\n"
     ]
    },
    {
     "name": "stderr",
     "output_type": "stream",
     "text": [
      "/Users/alikhan/anaconda3/lib/python3.10/site-packages/statsmodels/base/model.py:604: ConvergenceWarning: Maximum Likelihood optimization failed to converge. Check mle_retvals\n",
      "  warnings.warn(\"Maximum Likelihood optimization failed to \"\n"
     ]
    },
    {
     "name": "stdout",
     "output_type": "stream",
     "text": [
      "Order (2, 1, 5): MAE = 3.9583560465734964\n"
     ]
    },
    {
     "name": "stderr",
     "output_type": "stream",
     "text": [
      "/Users/alikhan/anaconda3/lib/python3.10/site-packages/statsmodels/base/model.py:604: ConvergenceWarning: Maximum Likelihood optimization failed to converge. Check mle_retvals\n",
      "  warnings.warn(\"Maximum Likelihood optimization failed to \"\n"
     ]
    },
    {
     "name": "stdout",
     "output_type": "stream",
     "text": [
      "Order (2, 1, 6): MAE = 3.97662198079659\n",
      "Best Order for Stock ID 68: (0, 1, 2)\n",
      "Best MAE for Stock ID 68: 3.943774741783836\n",
      "\n",
      "Training and evaluating for Stock ID: 70\n",
      "Training Set Date Range: 0 -- 477\n",
      "Testing Set Date Range: 478 -- 480\n",
      "Order (0, 0, 0): MAE = 9.209301854131876\n",
      "Order (0, 0, 1): MAE = 9.21583512115281\n",
      "Order (0, 0, 2): MAE = 9.21403881224501\n",
      "Order (0, 0, 3): MAE = 9.211699629798149\n",
      "Order (0, 0, 4): MAE = 9.208910503105248\n",
      "Order (0, 0, 5): MAE = 9.215092452124347\n",
      "Order (0, 0, 6): MAE = 9.215075286636349\n",
      "Order (0, 1, 0): MAE = 9.400331620333333\n",
      "Order (0, 1, 1): MAE = 9.475458084805123\n",
      "Order (0, 1, 2): MAE = 9.474990068153783\n",
      "Order (0, 1, 3): MAE = 9.530829239148376\n",
      "Order (0, 1, 4): MAE = 9.132277557172864\n",
      "Order (0, 1, 5): MAE = 9.138155362818068\n",
      "Order (0, 1, 6): MAE = 9.211590911216057\n",
      "Order (1, 0, 0): MAE = 9.199892342865915\n",
      "Order (1, 0, 1): MAE = 9.200842886897878\n",
      "Order (1, 0, 2): MAE = 9.202695525670215\n",
      "Order (1, 0, 3): MAE = 9.205389579932895\n",
      "Order (1, 0, 4): MAE = 9.20876761570925\n",
      "Order (1, 0, 5): MAE = 9.215072785549491\n",
      "Order (1, 0, 6): MAE = 9.221039010365612\n",
      "Order (1, 1, 0): MAE = 9.472556488390076\n",
      "Order (1, 1, 1): MAE = 9.180545459679594\n",
      "Order (1, 1, 2): MAE = 9.200392101242246\n",
      "Order (1, 1, 3): MAE = 9.201371776347576\n",
      "Order (1, 1, 4): MAE = 9.203575596164706\n"
     ]
    },
    {
     "name": "stderr",
     "output_type": "stream",
     "text": [
      "/Users/alikhan/anaconda3/lib/python3.10/site-packages/statsmodels/base/model.py:604: ConvergenceWarning: Maximum Likelihood optimization failed to converge. Check mle_retvals\n",
      "  warnings.warn(\"Maximum Likelihood optimization failed to \"\n"
     ]
    },
    {
     "name": "stdout",
     "output_type": "stream",
     "text": [
      "Order (1, 1, 5): MAE = 9.207895110276196\n",
      "Order (1, 1, 6): MAE = 9.20651266338688\n",
      "Order (2, 0, 0): MAE = 9.201274259702778\n",
      "Order (2, 0, 1): MAE = 9.200675620096952\n",
      "Order (2, 0, 2): MAE = 9.221403961032259\n",
      "Order (2, 0, 3): MAE = 9.216381689544894\n",
      "Order (2, 0, 4): MAE = 9.213887824336524\n",
      "Order (2, 0, 5): MAE = 9.215199581121585\n",
      "Order (2, 0, 6): MAE = 9.22070144243982\n",
      "Order (2, 1, 0): MAE = 9.47295770721511\n",
      "Order (2, 1, 1): MAE = 9.189978908163354\n",
      "Order (2, 1, 2): MAE = 9.199054839616828\n"
     ]
    },
    {
     "name": "stderr",
     "output_type": "stream",
     "text": [
      "/Users/alikhan/anaconda3/lib/python3.10/site-packages/statsmodels/base/model.py:604: ConvergenceWarning: Maximum Likelihood optimization failed to converge. Check mle_retvals\n",
      "  warnings.warn(\"Maximum Likelihood optimization failed to \"\n"
     ]
    },
    {
     "name": "stdout",
     "output_type": "stream",
     "text": [
      "Order (2, 1, 3): MAE = 9.200145015966944\n"
     ]
    },
    {
     "name": "stderr",
     "output_type": "stream",
     "text": [
      "/Users/alikhan/anaconda3/lib/python3.10/site-packages/statsmodels/base/model.py:604: ConvergenceWarning: Maximum Likelihood optimization failed to converge. Check mle_retvals\n",
      "  warnings.warn(\"Maximum Likelihood optimization failed to \"\n"
     ]
    },
    {
     "name": "stdout",
     "output_type": "stream",
     "text": [
      "Order (2, 1, 4): MAE = 9.202396226007908\n"
     ]
    },
    {
     "name": "stderr",
     "output_type": "stream",
     "text": [
      "/Users/alikhan/anaconda3/lib/python3.10/site-packages/statsmodels/base/model.py:604: ConvergenceWarning: Maximum Likelihood optimization failed to converge. Check mle_retvals\n",
      "  warnings.warn(\"Maximum Likelihood optimization failed to \"\n"
     ]
    },
    {
     "name": "stdout",
     "output_type": "stream",
     "text": [
      "Order (2, 1, 5): MAE = 9.19945687796976\n",
      "Order (2, 1, 6): MAE = 9.20464629298002\n",
      "Best Order for Stock ID 70: (0, 1, 4)\n",
      "Best MAE for Stock ID 70: 9.132277557172864\n",
      "\n",
      "Training and evaluating for Stock ID: 71\n",
      "Training Set Date Range: 0 -- 477\n",
      "Testing Set Date Range: 478 -- 480\n",
      "Order (0, 0, 0): MAE = 7.281283133034577\n",
      "Order (0, 0, 1): MAE = 7.27997564004501\n",
      "Order (0, 0, 2): MAE = 7.280389648959584\n",
      "Order (0, 0, 3): MAE = 7.281033529558591\n",
      "Order (0, 0, 4): MAE = 7.284094576446409\n",
      "Order (0, 0, 5): MAE = 7.3021948008075785\n",
      "Order (0, 0, 6): MAE = 7.29928567411895\n",
      "Order (0, 1, 0): MAE = 9.569146267878786\n",
      "Order (0, 1, 1): MAE = 9.725273806236777\n",
      "Order (0, 1, 2): MAE = 9.422581702412023\n",
      "Order (0, 1, 3): MAE = 7.209204658406349\n",
      "Order (0, 1, 4): MAE = 7.210782621833633\n",
      "Order (0, 1, 5): MAE = 7.217453729794809\n",
      "Order (0, 1, 6): MAE = 7.257104022535378\n",
      "Order (1, 0, 0): MAE = 7.276833870400383\n",
      "Order (1, 0, 1): MAE = 7.2764533468993555\n",
      "Order (1, 0, 2): MAE = 7.277981577553601\n",
      "Order (1, 0, 3): MAE = 7.287968037061794\n",
      "Order (1, 0, 4): MAE = 7.293771005192221\n",
      "Order (1, 0, 5): MAE = 7.300618321907553\n",
      "Order (1, 0, 6): MAE = 7.299916228451558\n",
      "Order (1, 1, 0): MAE = 9.837862469985065\n",
      "Order (1, 1, 1): MAE = 7.219790437157908\n",
      "Order (1, 1, 2): MAE = 7.222725150264422\n",
      "Order (1, 1, 3): MAE = 7.223390034456017\n",
      "Order (1, 1, 4): MAE = 7.21172337356236\n",
      "Order (1, 1, 5): MAE = 7.21180072392156\n",
      "Order (1, 1, 6): MAE = 7.247295251768842\n",
      "Order (2, 0, 0): MAE = 7.276630130185961\n",
      "Order (2, 0, 1): MAE = 7.277004278070097\n",
      "Order (2, 0, 2): MAE = 7.299252343277261\n",
      "Order (2, 0, 3): MAE = 7.281194038825481\n",
      "Order (2, 0, 4): MAE = 7.291236268466281\n",
      "Order (2, 0, 5): MAE = 7.2995548618082795\n",
      "Order (2, 0, 6): MAE = 7.302476610889582\n",
      "Order (2, 1, 0): MAE = 9.798348791723662\n",
      "Order (2, 1, 1): MAE = 7.22356852429901\n",
      "Order (2, 1, 2): MAE = 7.220213904299965\n",
      "Order (2, 1, 3): MAE = 7.225852830510735\n"
     ]
    },
    {
     "name": "stderr",
     "output_type": "stream",
     "text": [
      "/Users/alikhan/anaconda3/lib/python3.10/site-packages/statsmodels/base/model.py:604: ConvergenceWarning: Maximum Likelihood optimization failed to converge. Check mle_retvals\n",
      "  warnings.warn(\"Maximum Likelihood optimization failed to \"\n"
     ]
    },
    {
     "name": "stdout",
     "output_type": "stream",
     "text": [
      "Order (2, 1, 4): MAE = 7.216646229127517\n",
      "Order (2, 1, 5): MAE = 7.214330780721856\n",
      "Order (2, 1, 6): MAE = 7.242478081409309\n",
      "Best Order for Stock ID 71: (0, 1, 3)\n",
      "Best MAE for Stock ID 71: 7.209204658406349\n",
      "\n",
      "Training and evaluating for Stock ID: 72\n",
      "Training Set Date Range: 0 -- 477\n",
      "Testing Set Date Range: 478 -- 480\n",
      "Order (0, 0, 0): MAE = 3.2545197835538167\n",
      "Order (0, 0, 1): MAE = 3.2546253867037227\n",
      "Order (0, 0, 2): MAE = 3.2594203554446533\n",
      "Order (0, 0, 3): MAE = 3.2563073857282308\n",
      "Order (0, 0, 4): MAE = 3.2588725694451757\n",
      "Order (0, 0, 5): MAE = 3.267575002350553\n",
      "Order (0, 0, 6): MAE = 3.2672117072656786\n",
      "Order (0, 1, 0): MAE = 4.201784294381818\n",
      "Order (0, 1, 1): MAE = 4.20265552318077\n",
      "Order (0, 1, 2): MAE = 4.173100530500995\n",
      "Order (0, 1, 3): MAE = 3.8084005924238986\n",
      "Order (0, 1, 4): MAE = 3.2430010748012355\n",
      "Order (0, 1, 5): MAE = 3.2458324589647574\n",
      "Order (0, 1, 6): MAE = 3.2675427596612097\n",
      "Order (1, 0, 0): MAE = 3.2662561747119865\n",
      "Order (1, 0, 1): MAE = 3.2659644285972735\n",
      "Order (1, 0, 2): MAE = 3.2652180198984553\n",
      "Order (1, 0, 3): MAE = 3.2646427709129733\n",
      "Order (1, 0, 4): MAE = 3.270366595679679\n",
      "Order (1, 0, 5): MAE = 3.267255154867208\n",
      "Order (1, 0, 6): MAE = 3.266299573835938\n",
      "Order (1, 1, 0): MAE = 4.211796134494622\n",
      "Order (1, 1, 1): MAE = 3.2639845455145284\n",
      "Order (1, 1, 2): MAE = 4.077280969538684\n",
      "Order (1, 1, 3): MAE = 3.265102531719447\n",
      "Order (1, 1, 4): MAE = 3.2530993149081846\n",
      "Order (1, 1, 5): MAE = 3.2703163436005522\n"
     ]
    },
    {
     "name": "stderr",
     "output_type": "stream",
     "text": [
      "/Users/alikhan/anaconda3/lib/python3.10/site-packages/statsmodels/base/model.py:604: ConvergenceWarning: Maximum Likelihood optimization failed to converge. Check mle_retvals\n",
      "  warnings.warn(\"Maximum Likelihood optimization failed to \"\n"
     ]
    },
    {
     "name": "stdout",
     "output_type": "stream",
     "text": [
      "Order (1, 1, 6): MAE = 3.2672220829028573\n",
      "Order (2, 0, 0): MAE = 3.2659084992625362\n",
      "Order (2, 0, 1): MAE = 3.264067074809805\n",
      "Order (2, 0, 2): MAE = 3.2672156634982583\n",
      "Order (2, 0, 3): MAE = 3.2628197600956175\n",
      "Order (2, 0, 4): MAE = 3.2676843963744107\n",
      "Order (2, 0, 5): MAE = 3.2670290784912694\n",
      "Order (2, 0, 6): MAE = 3.2672131007742853\n",
      "Order (2, 1, 0): MAE = 4.1915658340891415\n",
      "Order (2, 1, 1): MAE = 3.260903953593498\n",
      "Order (2, 1, 2): MAE = 3.261652708178281\n",
      "Order (2, 1, 3): MAE = 3.264716605099806\n",
      "Order (2, 1, 4): MAE = 3.2628057105487587\n"
     ]
    },
    {
     "name": "stderr",
     "output_type": "stream",
     "text": [
      "/Users/alikhan/anaconda3/lib/python3.10/site-packages/statsmodels/base/model.py:604: ConvergenceWarning: Maximum Likelihood optimization failed to converge. Check mle_retvals\n",
      "  warnings.warn(\"Maximum Likelihood optimization failed to \"\n"
     ]
    },
    {
     "name": "stdout",
     "output_type": "stream",
     "text": [
      "Order (2, 1, 5): MAE = 3.263053936264165\n"
     ]
    },
    {
     "name": "stderr",
     "output_type": "stream",
     "text": [
      "/Users/alikhan/anaconda3/lib/python3.10/site-packages/statsmodels/base/model.py:604: ConvergenceWarning: Maximum Likelihood optimization failed to converge. Check mle_retvals\n",
      "  warnings.warn(\"Maximum Likelihood optimization failed to \"\n"
     ]
    },
    {
     "name": "stdout",
     "output_type": "stream",
     "text": [
      "Order (2, 1, 6): MAE = 3.2669410185971444\n",
      "Best Order for Stock ID 72: (0, 1, 4)\n",
      "Best MAE for Stock ID 72: 3.2430010748012355\n",
      "\n",
      "Training and evaluating for Stock ID: 73\n",
      "Training Set Date Range: 0 -- 477\n",
      "Testing Set Date Range: 478 -- 480\n",
      "Order (0, 0, 0): MAE = 5.326290486497604\n",
      "Order (0, 0, 1): MAE = 5.327241075915886\n",
      "Order (0, 0, 2): MAE = 5.3270858354458595\n",
      "Order (0, 0, 3): MAE = 5.325083786921201\n",
      "Order (0, 0, 4): MAE = 5.323043529452773\n",
      "Order (0, 0, 5): MAE = 5.326928355078101\n",
      "Order (0, 0, 6): MAE = 5.32693215109766\n",
      "Order (0, 1, 0): MAE = 5.606658513757576\n",
      "Order (0, 1, 1): MAE = 5.672182021200345\n",
      "Order (0, 1, 2): MAE = 5.576831172505637\n",
      "Order (0, 1, 3): MAE = 5.091393808502747\n",
      "Order (0, 1, 4): MAE = 5.527541342487618\n",
      "Order (0, 1, 5): MAE = 5.554207371433951\n",
      "Order (0, 1, 6): MAE = 5.397304951266406\n",
      "Order (1, 0, 0): MAE = 5.311541057649003\n",
      "Order (1, 0, 1): MAE = 5.313124039657958\n",
      "Order (1, 0, 2): MAE = 5.314925933433638\n",
      "Order (1, 0, 3): MAE = 5.317343537254398\n",
      "Order (1, 0, 4): MAE = 5.32338508905076\n",
      "Order (1, 0, 5): MAE = 5.326930268786508\n",
      "Order (1, 0, 6): MAE = 5.327501136332054\n",
      "Order (1, 1, 0): MAE = 5.671287531311209\n",
      "Order (1, 1, 1): MAE = 5.3428367035435445\n",
      "Order (1, 1, 2): MAE = 5.351799451029292\n",
      "Order (1, 1, 3): MAE = 5.362914667292759\n",
      "Order (1, 1, 4): MAE = 5.437485584086594\n",
      "Order (1, 1, 5): MAE = 5.376334569553039\n",
      "Order (1, 1, 6): MAE = 5.405076832033456\n",
      "Order (2, 0, 0): MAE = 5.313537903957598\n",
      "Order (2, 0, 1): MAE = 5.311925246634771\n",
      "Order (2, 0, 2): MAE = 5.325071284727572\n",
      "Order (2, 0, 3): MAE = 5.330647677078929\n",
      "Order (2, 0, 4): MAE = 5.329441842022643\n",
      "Order (2, 0, 5): MAE = 5.32688934384515\n"
     ]
    },
    {
     "name": "stderr",
     "output_type": "stream",
     "text": [
      "/Users/alikhan/anaconda3/lib/python3.10/site-packages/statsmodels/base/model.py:604: ConvergenceWarning: Maximum Likelihood optimization failed to converge. Check mle_retvals\n",
      "  warnings.warn(\"Maximum Likelihood optimization failed to \"\n"
     ]
    },
    {
     "name": "stdout",
     "output_type": "stream",
     "text": [
      "Order (2, 0, 6): MAE = 5.326568473682799\n",
      "Order (2, 1, 0): MAE = 5.607390048871188\n",
      "Order (2, 1, 1): MAE = 5.356371408672311\n",
      "Order (2, 1, 2): MAE = 5.345959771675306\n",
      "Order (2, 1, 3): MAE = 5.3471567619330385\n",
      "Order (2, 1, 4): MAE = 5.366687596909488\n",
      "Order (2, 1, 5): MAE = 5.367127995169487\n",
      "Order (2, 1, 6): MAE = 5.423134113977318\n",
      "Best Order for Stock ID 73: (0, 1, 3)\n",
      "Best MAE for Stock ID 73: 5.091393808502747\n",
      "\n",
      "Training and evaluating for Stock ID: 74\n",
      "Training Set Date Range: 0 -- 477\n",
      "Testing Set Date Range: 478 -- 480\n",
      "Order (0, 0, 0): MAE = 6.079895237971496\n",
      "Order (0, 0, 1): MAE = 6.082794766863872\n",
      "Order (0, 0, 2): MAE = 6.086222868587681\n",
      "Order (0, 0, 3): MAE = 6.091227759026712\n",
      "Order (0, 0, 4): MAE = 6.101716617628721\n",
      "Order (0, 0, 5): MAE = 6.112325141956173\n",
      "Order (0, 0, 6): MAE = 6.105530959175574\n",
      "Order (0, 1, 0): MAE = 9.526863285939394\n",
      "Order (0, 1, 1): MAE = 9.19524396582556\n",
      "Order (0, 1, 2): MAE = 8.800604384061089\n",
      "Order (0, 1, 3): MAE = 6.102704370448045\n",
      "Order (0, 1, 4): MAE = 6.106028810208619\n",
      "Order (0, 1, 5): MAE = 6.11406775191665\n",
      "Order (0, 1, 6): MAE = 6.115732783883329\n",
      "Order (1, 0, 0): MAE = 6.101595982291544\n",
      "Order (1, 0, 1): MAE = 6.106809041702147\n",
      "Order (1, 0, 2): MAE = 6.106610118126102\n",
      "Order (1, 0, 3): MAE = 6.116469580816887\n",
      "Order (1, 0, 4): MAE = 6.118414955542162\n",
      "Order (1, 0, 5): MAE = 6.108584155918892\n",
      "Order (1, 0, 6): MAE = 6.102737393729426\n",
      "Order (1, 1, 0): MAE = 9.50476233957763\n",
      "Order (1, 1, 1): MAE = 6.108724447470761\n",
      "Order (1, 1, 2): MAE = 6.114077743279538\n",
      "Order (1, 1, 3): MAE = 6.112524885357552\n",
      "Order (1, 1, 4): MAE = 6.101515025983332\n",
      "Order (1, 1, 5): MAE = 6.099502931983416\n",
      "Order (1, 1, 6): MAE = 6.114645719132284\n",
      "Order (2, 0, 0): MAE = 6.107383884087133\n",
      "Order (2, 0, 1): MAE = 6.106890836313853\n",
      "Order (2, 0, 2): MAE = 6.110857738021427\n",
      "Order (2, 0, 3): MAE = 6.107021041203933\n",
      "Order (2, 0, 4): MAE = 6.100102107558573\n",
      "Order (2, 0, 5): MAE = 6.106471996666951\n",
      "Order (2, 0, 6): MAE = 6.102635747775699\n",
      "Order (2, 1, 0): MAE = 9.286262506417865\n",
      "Order (2, 1, 1): MAE = 6.112996548799984\n",
      "Order (2, 1, 2): MAE = 6.1078136615052765\n",
      "Order (2, 1, 3): MAE = 6.111627528304709\n",
      "Order (2, 1, 4): MAE = 6.101316421302131\n",
      "Order (2, 1, 5): MAE = 6.11765250992902\n",
      "Order (2, 1, 6): MAE = 6.113675759886357\n",
      "Best Order for Stock ID 74: (0, 0, 0)\n",
      "Best MAE for Stock ID 74: 6.079895237971496\n",
      "\n",
      "Training and evaluating for Stock ID: 75\n",
      "Training Set Date Range: 0 -- 477\n",
      "Testing Set Date Range: 478 -- 480\n",
      "Order (0, 0, 0): MAE = 4.052230529052386\n",
      "Order (0, 0, 1): MAE = 4.050703300818263\n",
      "Order (0, 0, 2): MAE = 4.0508675075634635\n",
      "Order (0, 0, 3): MAE = 4.04985018435705\n",
      "Order (0, 0, 4): MAE = 4.049251338902226\n",
      "Order (0, 0, 5): MAE = 4.051300238462306\n",
      "Order (0, 0, 6): MAE = 4.050984843141379\n",
      "Order (0, 1, 0): MAE = 4.984093445393939\n",
      "Order (0, 1, 1): MAE = 4.891490280122034\n",
      "Order (0, 1, 2): MAE = 4.8302081725748875\n",
      "Order (0, 1, 3): MAE = 3.980421386239948\n",
      "Order (0, 1, 4): MAE = 4.018485362651329\n",
      "Order (0, 1, 5): MAE = 4.051879330956422\n",
      "Order (0, 1, 6): MAE = 4.079762807690852\n",
      "Order (1, 0, 0): MAE = 4.043746711203342\n",
      "Order (1, 0, 1): MAE = 4.0425814756654885\n",
      "Order (1, 0, 2): MAE = 4.044081482665876\n",
      "Order (1, 0, 3): MAE = 4.04617465035305\n",
      "Order (1, 0, 4): MAE = 4.050548305629382\n",
      "Order (1, 0, 5): MAE = 4.051047636557722\n",
      "Order (1, 0, 6): MAE = 4.051096679651475\n",
      "Order (1, 1, 0): MAE = 4.9451806018418605\n",
      "Order (1, 1, 1): MAE = 4.072370767039802\n",
      "Order (1, 1, 2): MAE = 4.066126064779689\n",
      "Order (1, 1, 3): MAE = 4.0697927830769265\n",
      "Order (1, 1, 4): MAE = 4.0060398597198565\n",
      "Order (1, 1, 5): MAE = 4.077676170981768\n",
      "Order (1, 1, 6): MAE = 4.081695633136542\n",
      "Order (2, 0, 0): MAE = 4.042495253244698\n",
      "Order (2, 0, 1): MAE = 4.042822854633714\n",
      "Order (2, 0, 2): MAE = 4.054311578105443\n",
      "Order (2, 0, 3): MAE = 4.043812006498385\n",
      "Order (2, 0, 4): MAE = 4.052542333287204\n",
      "Order (2, 0, 5): MAE = 4.050958936098106\n",
      "Order (2, 0, 6): MAE = 4.052308293613529\n",
      "Order (2, 1, 0): MAE = 4.884617673436148\n",
      "Order (2, 1, 1): MAE = 4.065162186399246\n",
      "Order (2, 1, 2): MAE = 4.071520042255258\n",
      "Order (2, 1, 3): MAE = 4.063749847724538\n",
      "Order (2, 1, 4): MAE = 4.069935196736367\n",
      "Order (2, 1, 5): MAE = 4.0704087809494744\n",
      "Order (2, 1, 6): MAE = 4.081525615247229\n",
      "Best Order for Stock ID 75: (0, 1, 3)\n",
      "Best MAE for Stock ID 75: 3.980421386239948\n",
      "\n",
      "Training and evaluating for Stock ID: 76\n",
      "Training Set Date Range: 0 -- 477\n",
      "Testing Set Date Range: 478 -- 480\n",
      "Order (0, 0, 0): MAE = 5.609139726214454\n",
      "Order (0, 0, 1): MAE = 5.608893653789429\n",
      "Order (0, 0, 2): MAE = 5.608967958522824\n",
      "Order (0, 0, 3): MAE = 5.608611075481476\n",
      "Order (0, 0, 4): MAE = 5.608264522113296\n",
      "Order (0, 0, 5): MAE = 5.608131528672165\n",
      "Order (0, 0, 6): MAE = 5.608171798295742\n",
      "Order (0, 1, 0): MAE = 5.567330278315153\n",
      "Order (0, 1, 1): MAE = 5.565633037300071\n",
      "Order (0, 1, 2): MAE = 5.564285035470951\n",
      "Order (0, 1, 3): MAE = 5.711196414246649\n",
      "Order (0, 1, 4): MAE = 5.604040487801393\n",
      "Order (0, 1, 5): MAE = 5.67249257357536\n",
      "Order (0, 1, 6): MAE = 5.599037730073749\n",
      "Order (1, 0, 0): MAE = 5.607394377161721\n",
      "Order (1, 0, 1): MAE = 5.607514609763718\n",
      "Order (1, 0, 2): MAE = 5.6075990628350185\n",
      "Order (1, 0, 3): MAE = 5.607458251561702\n",
      "Order (1, 0, 4): MAE = 5.607694849191563\n",
      "Order (1, 0, 5): MAE = 5.608157133794364\n",
      "Order (1, 0, 6): MAE = 5.608311359013276\n",
      "Order (1, 1, 0): MAE = 5.566131168720164\n",
      "Order (1, 1, 1): MAE = 5.5991137716610755\n",
      "Order (1, 1, 2): MAE = 5.599610836251797\n",
      "Order (1, 1, 3): MAE = 5.598808122886689\n",
      "Order (1, 1, 4): MAE = 5.576886414683771\n",
      "Order (1, 1, 5): MAE = 5.598894764568553\n",
      "Order (1, 1, 6): MAE = 5.599649102188317\n",
      "Order (2, 0, 0): MAE = 5.607540778015192\n",
      "Order (2, 0, 1): MAE = 5.607487809400049\n",
      "Order (2, 0, 2): MAE = 5.608180816840732\n",
      "Order (2, 0, 3): MAE = 5.6087421251165805\n",
      "Order (2, 0, 4): MAE = 5.6084404604697875\n",
      "Order (2, 0, 5): MAE = 5.608235480938402\n",
      "Order (2, 0, 6): MAE = 5.608302398082973\n",
      "Order (2, 1, 0): MAE = 5.564805311405926\n",
      "Order (2, 1, 1): MAE = 5.59932533521441\n",
      "Order (2, 1, 2): MAE = 5.600032775282139\n",
      "Order (2, 1, 3): MAE = 5.600164975942368\n",
      "Order (2, 1, 4): MAE = 5.598647128776619\n",
      "Order (2, 1, 5): MAE = 5.598625360760074\n",
      "Order (2, 1, 6): MAE = 5.600910747833124\n",
      "Best Order for Stock ID 76: (0, 1, 2)\n",
      "Best MAE for Stock ID 76: 5.564285035470951\n",
      "\n",
      "Training and evaluating for Stock ID: 77\n",
      "Training Set Date Range: 0 -- 477\n",
      "Testing Set Date Range: 478 -- 480\n",
      "Order (0, 0, 0): MAE = 3.949196493306147\n",
      "Order (0, 0, 1): MAE = 3.9496005720221765\n",
      "Order (0, 0, 2): MAE = 3.9550513746976743\n",
      "Order (0, 0, 3): MAE = 3.9537302703577244\n",
      "Order (0, 0, 4): MAE = 3.9619585862811526\n",
      "Order (0, 0, 5): MAE = 3.975700752786915\n",
      "Order (0, 0, 6): MAE = 3.9752036844695344\n",
      "Order (0, 1, 0): MAE = 5.8480356826909095\n",
      "Order (0, 1, 1): MAE = 6.047866647984054\n",
      "Order (0, 1, 2): MAE = 5.923787335165983\n",
      "Order (0, 1, 3): MAE = 5.546427835579299\n",
      "Order (0, 1, 4): MAE = 3.9458958552667953\n",
      "Order (0, 1, 5): MAE = 3.948174173756269\n",
      "Order (0, 1, 6): MAE = 3.9757887800892675\n",
      "Order (1, 0, 0): MAE = 3.967117868063648\n",
      "Order (1, 0, 1): MAE = 3.9694317670014905\n",
      "Order (1, 0, 2): MAE = 3.9688666151710756\n",
      "Order (1, 0, 3): MAE = 3.970270014347547\n",
      "Order (1, 0, 4): MAE = 3.9737942880266486\n",
      "Order (1, 0, 5): MAE = 3.975671061599506\n",
      "Order (1, 0, 6): MAE = 3.9747983816029655\n",
      "Order (1, 1, 0): MAE = 6.0663930542445605\n",
      "Order (1, 1, 1): MAE = 3.967960130542066\n",
      "Order (1, 1, 2): MAE = 3.9695266460711194\n",
      "Order (1, 1, 3): MAE = 3.9690176829031785\n",
      "Order (1, 1, 4): MAE = 3.956138595735044\n"
     ]
    },
    {
     "name": "stderr",
     "output_type": "stream",
     "text": [
      "/Users/alikhan/anaconda3/lib/python3.10/site-packages/statsmodels/base/model.py:604: ConvergenceWarning: Maximum Likelihood optimization failed to converge. Check mle_retvals\n",
      "  warnings.warn(\"Maximum Likelihood optimization failed to \"\n"
     ]
    },
    {
     "name": "stdout",
     "output_type": "stream",
     "text": [
      "Order (1, 1, 5): MAE = 3.9739485886883728\n",
      "Order (1, 1, 6): MAE = 3.975779808872124\n",
      "Order (2, 0, 0): MAE = 3.969591197148472\n",
      "Order (2, 0, 1): MAE = 3.9653311596318996\n",
      "Order (2, 0, 2): MAE = 3.9704631221489644\n",
      "Order (2, 0, 3): MAE = 3.96882653917275\n",
      "Order (2, 0, 4): MAE = 3.9709004564593378\n",
      "Order (2, 0, 5): MAE = 3.974706943685114\n",
      "Order (2, 0, 6): MAE = 3.974495377444159\n",
      "Order (2, 1, 0): MAE = 5.986379128664014\n",
      "Order (2, 1, 1): MAE = 3.9696807628517767\n",
      "Order (2, 1, 2): MAE = 3.965347581684564\n"
     ]
    },
    {
     "name": "stderr",
     "output_type": "stream",
     "text": [
      "/Users/alikhan/anaconda3/lib/python3.10/site-packages/statsmodels/base/model.py:604: ConvergenceWarning: Maximum Likelihood optimization failed to converge. Check mle_retvals\n",
      "  warnings.warn(\"Maximum Likelihood optimization failed to \"\n"
     ]
    },
    {
     "name": "stdout",
     "output_type": "stream",
     "text": [
      "Order (2, 1, 3): MAE = 3.970074044445066\n"
     ]
    },
    {
     "name": "stderr",
     "output_type": "stream",
     "text": [
      "/Users/alikhan/anaconda3/lib/python3.10/site-packages/statsmodels/base/model.py:604: ConvergenceWarning: Maximum Likelihood optimization failed to converge. Check mle_retvals\n",
      "  warnings.warn(\"Maximum Likelihood optimization failed to \"\n"
     ]
    },
    {
     "name": "stdout",
     "output_type": "stream",
     "text": [
      "Order (2, 1, 4): MAE = 3.9689003751198952\n"
     ]
    },
    {
     "name": "stderr",
     "output_type": "stream",
     "text": [
      "/Users/alikhan/anaconda3/lib/python3.10/site-packages/statsmodels/base/model.py:604: ConvergenceWarning: Maximum Likelihood optimization failed to converge. Check mle_retvals\n",
      "  warnings.warn(\"Maximum Likelihood optimization failed to \"\n"
     ]
    },
    {
     "name": "stdout",
     "output_type": "stream",
     "text": [
      "Order (2, 1, 5): MAE = 3.9698037691616896\n"
     ]
    },
    {
     "name": "stderr",
     "output_type": "stream",
     "text": [
      "/Users/alikhan/anaconda3/lib/python3.10/site-packages/statsmodels/base/model.py:604: ConvergenceWarning: Maximum Likelihood optimization failed to converge. Check mle_retvals\n",
      "  warnings.warn(\"Maximum Likelihood optimization failed to \"\n"
     ]
    },
    {
     "name": "stdout",
     "output_type": "stream",
     "text": [
      "Order (2, 1, 6): MAE = 3.974855326943678\n",
      "Best Order for Stock ID 77: (0, 1, 4)\n",
      "Best MAE for Stock ID 77: 3.9458958552667953\n",
      "\n",
      "Training and evaluating for Stock ID: 80\n",
      "Training Set Date Range: 0 -- 477\n",
      "Testing Set Date Range: 478 -- 480\n",
      "Order (0, 0, 0): MAE = 6.5780257340428125\n",
      "Order (0, 0, 1): MAE = 6.592012106534609\n",
      "Order (0, 0, 2): MAE = 6.5854832468116165\n",
      "Order (0, 0, 3): MAE = 6.591909947440811\n",
      "Order (0, 0, 4): MAE = 6.5954357977679425\n",
      "Order (0, 0, 5): MAE = 6.6204584152451975\n",
      "Order (0, 0, 6): MAE = 6.614571950162697\n",
      "Order (0, 1, 0): MAE = 12.548782870727273\n",
      "Order (0, 1, 1): MAE = 11.673795654346613\n",
      "Order (0, 1, 2): MAE = 11.443164494694305\n",
      "Order (0, 1, 3): MAE = 7.316500876216584\n",
      "Order (0, 1, 4): MAE = 6.4661367280940425\n",
      "Order (0, 1, 5): MAE = 6.482662792065563\n",
      "Order (0, 1, 6): MAE = 6.61571115839644\n",
      "Order (1, 0, 0): MAE = 6.600224200323259\n",
      "Order (1, 0, 1): MAE = 6.60028803827054\n",
      "Order (1, 0, 2): MAE = 6.599141379658638\n",
      "Order (1, 0, 3): MAE = 6.609713782179479\n",
      "Order (1, 0, 4): MAE = 6.610522933632545\n",
      "Order (1, 0, 5): MAE = 6.61572789735062\n",
      "Order (1, 0, 6): MAE = 6.611713162482118\n",
      "Order (1, 1, 0): MAE = 11.804273122093456\n",
      "Order (1, 1, 1): MAE = 6.498187880096831\n",
      "Order (1, 1, 2): MAE = 6.594607324549804\n",
      "Order (1, 1, 3): MAE = 6.596043152231294\n",
      "Order (1, 1, 4): MAE = 6.43244032314484\n",
      "Order (1, 1, 5): MAE = 6.60833491315772\n",
      "Order (1, 1, 6): MAE = 6.594259038226817\n",
      "Order (2, 0, 0): MAE = 6.6003072238084926\n",
      "Order (2, 0, 1): MAE = 6.600199391631101\n",
      "Order (2, 0, 2): MAE = 6.607170029916267\n",
      "Order (2, 0, 3): MAE = 6.602108505869117\n",
      "Order (2, 0, 4): MAE = 6.599751428952125\n",
      "Order (2, 0, 5): MAE = 6.613637032101036\n",
      "Order (2, 0, 6): MAE = 6.611055310419595\n",
      "Order (2, 1, 0): MAE = 11.702619515605223\n",
      "Order (2, 1, 1): MAE = 6.59749569698289\n",
      "Order (2, 1, 2): MAE = 6.595593622313742\n"
     ]
    },
    {
     "name": "stderr",
     "output_type": "stream",
     "text": [
      "/Users/alikhan/anaconda3/lib/python3.10/site-packages/statsmodels/base/model.py:604: ConvergenceWarning: Maximum Likelihood optimization failed to converge. Check mle_retvals\n",
      "  warnings.warn(\"Maximum Likelihood optimization failed to \"\n"
     ]
    },
    {
     "name": "stdout",
     "output_type": "stream",
     "text": [
      "Order (2, 1, 3): MAE = 6.600715015002298\n",
      "Order (2, 1, 4): MAE = 6.5971661092817735\n"
     ]
    },
    {
     "name": "stderr",
     "output_type": "stream",
     "text": [
      "/Users/alikhan/anaconda3/lib/python3.10/site-packages/statsmodels/base/model.py:604: ConvergenceWarning: Maximum Likelihood optimization failed to converge. Check mle_retvals\n",
      "  warnings.warn(\"Maximum Likelihood optimization failed to \"\n"
     ]
    },
    {
     "name": "stdout",
     "output_type": "stream",
     "text": [
      "Order (2, 1, 5): MAE = 6.522256401850864\n"
     ]
    },
    {
     "name": "stderr",
     "output_type": "stream",
     "text": [
      "/Users/alikhan/anaconda3/lib/python3.10/site-packages/statsmodels/base/model.py:604: ConvergenceWarning: Maximum Likelihood optimization failed to converge. Check mle_retvals\n",
      "  warnings.warn(\"Maximum Likelihood optimization failed to \"\n"
     ]
    },
    {
     "name": "stdout",
     "output_type": "stream",
     "text": [
      "Order (2, 1, 6): MAE = 6.579238364839447\n",
      "Best Order for Stock ID 80: (1, 1, 4)\n",
      "Best MAE for Stock ID 80: 6.43244032314484\n",
      "\n",
      "Training and evaluating for Stock ID: 81\n",
      "Training Set Date Range: 0 -- 477\n",
      "Testing Set Date Range: 478 -- 480\n",
      "Order (0, 0, 0): MAE = 5.9709008711519695\n",
      "Order (0, 0, 1): MAE = 5.9733998874058845\n",
      "Order (0, 0, 2): MAE = 5.98123438044381\n",
      "Order (0, 0, 3): MAE = 5.977526854727948\n",
      "Order (0, 0, 4): MAE = 5.981391777411567\n",
      "Order (0, 0, 5): MAE = 6.026226818838526\n",
      "Order (0, 0, 6): MAE = 6.017878156541102\n",
      "Order (0, 1, 0): MAE = 6.724390103127273\n",
      "Order (0, 1, 1): MAE = 8.275382029472505\n",
      "Order (0, 1, 2): MAE = 9.216881474758104\n",
      "Order (0, 1, 3): MAE = 5.966773308942769\n",
      "Order (0, 1, 4): MAE = 5.960116175818222\n",
      "Order (0, 1, 5): MAE = 5.981368988058803\n",
      "Order (0, 1, 6): MAE = 6.026372276995452\n",
      "Order (1, 0, 0): MAE = 5.973380920793556\n",
      "Order (1, 0, 1): MAE = 5.974329076255626\n",
      "Order (1, 0, 2): MAE = 5.973328262247261\n",
      "Order (1, 0, 3): MAE = 5.979667312085722\n",
      "Order (1, 0, 4): MAE = 5.999223834507706\n",
      "Order (1, 0, 5): MAE = 6.01956399070157\n",
      "Order (1, 0, 6): MAE = 6.021239024524988\n",
      "Order (1, 1, 0): MAE = 7.7798090165972855\n",
      "Order (1, 1, 1): MAE = 5.973304155051885\n",
      "Order (1, 1, 2): MAE = 5.974366100557691\n",
      "Order (1, 1, 3): MAE = 5.973401730209112\n",
      "Order (1, 1, 4): MAE = 5.965594959032897\n",
      "Order (1, 1, 5): MAE = 5.9993363166992815\n"
     ]
    },
    {
     "name": "stderr",
     "output_type": "stream",
     "text": [
      "/Users/alikhan/anaconda3/lib/python3.10/site-packages/statsmodels/base/model.py:604: ConvergenceWarning: Maximum Likelihood optimization failed to converge. Check mle_retvals\n",
      "  warnings.warn(\"Maximum Likelihood optimization failed to \"\n"
     ]
    },
    {
     "name": "stdout",
     "output_type": "stream",
     "text": [
      "Order (1, 1, 6): MAE = 6.019695694600328\n",
      "Order (2, 0, 0): MAE = 5.974373457094977\n",
      "Order (2, 0, 1): MAE = 5.974430549917129\n",
      "Order (2, 0, 2): MAE = 5.97710473023461\n",
      "Order (2, 0, 3): MAE = 5.973742628845574\n",
      "Order (2, 0, 4): MAE = 6.016041474799936\n",
      "Order (2, 0, 5): MAE = 6.0170595251133125\n"
     ]
    },
    {
     "name": "stderr",
     "output_type": "stream",
     "text": [
      "/Users/alikhan/anaconda3/lib/python3.10/site-packages/statsmodels/base/model.py:604: ConvergenceWarning: Maximum Likelihood optimization failed to converge. Check mle_retvals\n",
      "  warnings.warn(\"Maximum Likelihood optimization failed to \"\n"
     ]
    },
    {
     "name": "stdout",
     "output_type": "stream",
     "text": [
      "Order (2, 0, 6): MAE = 6.0202880810330415\n",
      "Order (2, 1, 0): MAE = 8.611490423628831\n",
      "Order (2, 1, 1): MAE = 5.974366325264517\n",
      "Order (2, 1, 2): MAE = 5.972280670757868\n"
     ]
    },
    {
     "name": "stderr",
     "output_type": "stream",
     "text": [
      "/Users/alikhan/anaconda3/lib/python3.10/site-packages/statsmodels/base/model.py:604: ConvergenceWarning: Maximum Likelihood optimization failed to converge. Check mle_retvals\n",
      "  warnings.warn(\"Maximum Likelihood optimization failed to \"\n"
     ]
    },
    {
     "name": "stdout",
     "output_type": "stream",
     "text": [
      "Order (2, 1, 3): MAE = 5.9764723401369775\n",
      "Order (2, 1, 4): MAE = 5.970392606256406\n"
     ]
    },
    {
     "name": "stderr",
     "output_type": "stream",
     "text": [
      "/Users/alikhan/anaconda3/lib/python3.10/site-packages/statsmodels/base/model.py:604: ConvergenceWarning: Maximum Likelihood optimization failed to converge. Check mle_retvals\n",
      "  warnings.warn(\"Maximum Likelihood optimization failed to \"\n"
     ]
    },
    {
     "name": "stdout",
     "output_type": "stream",
     "text": [
      "Order (2, 1, 5): MAE = 6.015185098033994\n"
     ]
    },
    {
     "name": "stderr",
     "output_type": "stream",
     "text": [
      "/Users/alikhan/anaconda3/lib/python3.10/site-packages/statsmodels/base/model.py:604: ConvergenceWarning: Maximum Likelihood optimization failed to converge. Check mle_retvals\n",
      "  warnings.warn(\"Maximum Likelihood optimization failed to \"\n"
     ]
    },
    {
     "name": "stdout",
     "output_type": "stream",
     "text": [
      "Order (2, 1, 6): MAE = 6.017025772171009\n",
      "Best Order for Stock ID 81: (0, 1, 4)\n",
      "Best MAE for Stock ID 81: 5.960116175818222\n",
      "\n",
      "Training and evaluating for Stock ID: 82\n",
      "Training Set Date Range: 0 -- 477\n",
      "Testing Set Date Range: 478 -- 480\n",
      "Order (0, 0, 0): MAE = 14.988019996251953\n",
      "Order (0, 0, 1): MAE = 15.01896410061695\n",
      "Order (0, 0, 2): MAE = 15.03892041815499\n",
      "Order (0, 0, 3): MAE = 15.049098720036344\n",
      "Order (0, 0, 4): MAE = 15.035267046770429\n",
      "Order (0, 0, 5): MAE = 15.081076380875244\n",
      "Order (0, 0, 6): MAE = 15.082560165599586\n",
      "Order (0, 1, 0): MAE = 23.0889827959394\n",
      "Order (0, 1, 1): MAE = 22.55546407330012\n",
      "Order (0, 1, 2): MAE = 22.289841704036412\n",
      "Order (0, 1, 3): MAE = 20.756791110086148\n",
      "Order (0, 1, 4): MAE = 15.048999040500414\n",
      "Order (0, 1, 5): MAE = 15.035212266797762\n",
      "Order (0, 1, 6): MAE = 15.080912195890654\n",
      "Order (1, 0, 0): MAE = 15.068582436342473\n",
      "Order (1, 0, 1): MAE = 15.07014500981417\n",
      "Order (1, 0, 2): MAE = 15.067854590431091\n",
      "Order (1, 0, 3): MAE = 15.065723384131115\n",
      "Order (1, 0, 4): MAE = 15.06137381829187\n",
      "Order (1, 0, 5): MAE = 15.082442344022104\n",
      "Order (1, 0, 6): MAE = 15.094348035470139\n",
      "Order (1, 1, 0): MAE = 22.60057744609098\n",
      "Order (1, 1, 1): MAE = 15.068505553787313\n",
      "Order (1, 1, 2): MAE = 15.070047471905053\n",
      "Order (1, 1, 3): MAE = 15.067755735878286\n",
      "Order (1, 1, 4): MAE = 15.065612683383211\n"
     ]
    },
    {
     "name": "stderr",
     "output_type": "stream",
     "text": [
      "/Users/alikhan/anaconda3/lib/python3.10/site-packages/statsmodels/base/model.py:604: ConvergenceWarning: Maximum Likelihood optimization failed to converge. Check mle_retvals\n",
      "  warnings.warn(\"Maximum Likelihood optimization failed to \"\n"
     ]
    },
    {
     "name": "stdout",
     "output_type": "stream",
     "text": [
      "Order (1, 1, 5): MAE = 15.061283780175732\n",
      "Order (1, 1, 6): MAE = 15.082286021783581\n",
      "Order (2, 0, 0): MAE = 15.070097864699946\n",
      "Order (2, 0, 1): MAE = 15.071291482139378\n",
      "Order (2, 0, 2): MAE = 15.070967797982407\n",
      "Order (2, 0, 3): MAE = 15.058162422978638\n",
      "Order (2, 0, 4): MAE = 15.063072288883475\n",
      "Order (2, 0, 5): MAE = 15.08136773849993\n",
      "Order (2, 0, 6): MAE = 15.087588664288214\n",
      "Order (2, 1, 0): MAE = 22.374642732238488\n",
      "Order (2, 1, 1): MAE = 15.069885938098167\n",
      "Order (2, 1, 2): MAE = 15.071316553519422\n",
      "Order (2, 1, 3): MAE = 15.071705479229042\n"
     ]
    },
    {
     "name": "stderr",
     "output_type": "stream",
     "text": [
      "/Users/alikhan/anaconda3/lib/python3.10/site-packages/statsmodels/base/model.py:604: ConvergenceWarning: Maximum Likelihood optimization failed to converge. Check mle_retvals\n",
      "  warnings.warn(\"Maximum Likelihood optimization failed to \"\n"
     ]
    },
    {
     "name": "stdout",
     "output_type": "stream",
     "text": [
      "Order (2, 1, 4): MAE = 15.068653114445839\n"
     ]
    },
    {
     "name": "stderr",
     "output_type": "stream",
     "text": [
      "/Users/alikhan/anaconda3/lib/python3.10/site-packages/statsmodels/base/model.py:604: ConvergenceWarning: Maximum Likelihood optimization failed to converge. Check mle_retvals\n",
      "  warnings.warn(\"Maximum Likelihood optimization failed to \"\n"
     ]
    },
    {
     "name": "stdout",
     "output_type": "stream",
     "text": [
      "Order (2, 1, 5): MAE = 15.063470564025051\n"
     ]
    },
    {
     "name": "stderr",
     "output_type": "stream",
     "text": [
      "/Users/alikhan/anaconda3/lib/python3.10/site-packages/statsmodels/base/model.py:604: ConvergenceWarning: Maximum Likelihood optimization failed to converge. Check mle_retvals\n",
      "  warnings.warn(\"Maximum Likelihood optimization failed to \"\n"
     ]
    },
    {
     "name": "stdout",
     "output_type": "stream",
     "text": [
      "Order (2, 1, 6): MAE = 15.081286072457841\n",
      "Best Order for Stock ID 82: (0, 0, 0)\n",
      "Best MAE for Stock ID 82: 14.988019996251953\n",
      "\n",
      "Training and evaluating for Stock ID: 83\n",
      "Training Set Date Range: 0 -- 477\n",
      "Testing Set Date Range: 478 -- 480\n",
      "Order (0, 0, 0): MAE = 4.555419493323093\n",
      "Order (0, 0, 1): MAE = 4.556334245665475\n",
      "Order (0, 0, 2): MAE = 4.561917956581131\n",
      "Order (0, 0, 3): MAE = 4.562298519442422\n",
      "Order (0, 0, 4): MAE = 4.561447203601519\n",
      "Order (0, 0, 5): MAE = 4.561851310210664\n",
      "Order (0, 0, 6): MAE = 4.561733974816128\n",
      "Order (0, 1, 0): MAE = 6.052515728818182\n",
      "Order (0, 1, 1): MAE = 5.9712644829122485\n",
      "Order (0, 1, 2): MAE = 5.837159369359529\n",
      "Order (0, 1, 3): MAE = 5.3696342789032485\n",
      "Order (0, 1, 4): MAE = 4.551523429561346\n",
      "Order (0, 1, 5): MAE = 4.551061757001006\n",
      "Order (0, 1, 6): MAE = 4.561829646919273\n",
      "Order (1, 0, 0): MAE = 4.567818453066049\n",
      "Order (1, 0, 1): MAE = 4.567047225293697\n",
      "Order (1, 0, 2): MAE = 4.567260523669022\n",
      "Order (1, 0, 3): MAE = 4.565645288830922\n",
      "Order (1, 0, 4): MAE = 4.564679515590779\n",
      "Order (1, 0, 5): MAE = 4.561759658534018\n",
      "Order (1, 0, 6): MAE = 4.560972456000407\n",
      "Order (1, 1, 0): MAE = 5.990989534011735\n",
      "Order (1, 1, 1): MAE = 4.567506992951463\n",
      "Order (1, 1, 2): MAE = 4.566986621661474\n",
      "Order (1, 1, 3): MAE = 4.56722630836509\n",
      "Order (1, 1, 4): MAE = 4.551291105335896\n",
      "Order (1, 1, 5): MAE = 4.564654700632768\n"
     ]
    },
    {
     "name": "stderr",
     "output_type": "stream",
     "text": [
      "/Users/alikhan/anaconda3/lib/python3.10/site-packages/statsmodels/base/model.py:604: ConvergenceWarning: Maximum Likelihood optimization failed to converge. Check mle_retvals\n",
      "  warnings.warn(\"Maximum Likelihood optimization failed to \"\n"
     ]
    },
    {
     "name": "stdout",
     "output_type": "stream",
     "text": [
      "Order (1, 1, 6): MAE = 4.561739148121328\n",
      "Order (2, 0, 0): MAE = 4.5669544197810135\n",
      "Order (2, 0, 1): MAE = 4.566161376646246\n",
      "Order (2, 0, 2): MAE = 4.567273920879454\n",
      "Order (2, 0, 3): MAE = 4.559921503424654\n",
      "Order (2, 0, 4): MAE = 4.559594582453212\n",
      "Order (2, 0, 5): MAE = 4.561506979546066\n"
     ]
    },
    {
     "name": "stderr",
     "output_type": "stream",
     "text": [
      "/Users/alikhan/anaconda3/lib/python3.10/site-packages/statsmodels/base/model.py:604: ConvergenceWarning: Maximum Likelihood optimization failed to converge. Check mle_retvals\n",
      "  warnings.warn(\"Maximum Likelihood optimization failed to \"\n"
     ]
    },
    {
     "name": "stdout",
     "output_type": "stream",
     "text": [
      "Order (2, 0, 6): MAE = 4.561382252448816\n",
      "Order (2, 1, 0): MAE = 5.873143586079291\n",
      "Order (2, 1, 1): MAE = 4.566918162918332\n",
      "Order (2, 1, 2): MAE = 4.566239964370617\n"
     ]
    },
    {
     "name": "stderr",
     "output_type": "stream",
     "text": [
      "/Users/alikhan/anaconda3/lib/python3.10/site-packages/statsmodels/base/model.py:604: ConvergenceWarning: Maximum Likelihood optimization failed to converge. Check mle_retvals\n",
      "  warnings.warn(\"Maximum Likelihood optimization failed to \"\n"
     ]
    },
    {
     "name": "stdout",
     "output_type": "stream",
     "text": [
      "Order (2, 1, 3): MAE = 4.566296433891577\n"
     ]
    },
    {
     "name": "stderr",
     "output_type": "stream",
     "text": [
      "/Users/alikhan/anaconda3/lib/python3.10/site-packages/statsmodels/base/model.py:604: ConvergenceWarning: Maximum Likelihood optimization failed to converge. Check mle_retvals\n",
      "  warnings.warn(\"Maximum Likelihood optimization failed to \"\n"
     ]
    },
    {
     "name": "stdout",
     "output_type": "stream",
     "text": [
      "Order (2, 1, 4): MAE = 4.566488915577001\n"
     ]
    },
    {
     "name": "stderr",
     "output_type": "stream",
     "text": [
      "/Users/alikhan/anaconda3/lib/python3.10/site-packages/statsmodels/base/model.py:604: ConvergenceWarning: Maximum Likelihood optimization failed to converge. Check mle_retvals\n",
      "  warnings.warn(\"Maximum Likelihood optimization failed to \"\n"
     ]
    },
    {
     "name": "stdout",
     "output_type": "stream",
     "text": [
      "Order (2, 1, 5): MAE = 4.550688516276453\n"
     ]
    },
    {
     "name": "stderr",
     "output_type": "stream",
     "text": [
      "/Users/alikhan/anaconda3/lib/python3.10/site-packages/statsmodels/base/model.py:604: ConvergenceWarning: Maximum Likelihood optimization failed to converge. Check mle_retvals\n",
      "  warnings.warn(\"Maximum Likelihood optimization failed to \"\n"
     ]
    },
    {
     "name": "stdout",
     "output_type": "stream",
     "text": [
      "Order (2, 1, 6): MAE = 4.56140325899358\n",
      "Best Order for Stock ID 83: (2, 1, 5)\n",
      "Best MAE for Stock ID 83: 4.550688516276453\n",
      "\n",
      "Training and evaluating for Stock ID: 84\n",
      "Training Set Date Range: 0 -- 477\n",
      "Testing Set Date Range: 478 -- 480\n",
      "Order (0, 0, 0): MAE = 2.2976112256906664\n",
      "Order (0, 0, 1): MAE = 2.2989065333960186\n",
      "Order (0, 0, 2): MAE = 2.300323538315288\n",
      "Order (0, 0, 3): MAE = 2.3008936068176333\n",
      "Order (0, 0, 4): MAE = 2.2989787644966087\n",
      "Order (0, 0, 5): MAE = 2.305862097313361\n",
      "Order (0, 0, 6): MAE = 2.304923846892863\n",
      "Order (0, 1, 0): MAE = 3.2477125775878792\n",
      "Order (0, 1, 1): MAE = 3.0806691895828404\n",
      "Order (0, 1, 2): MAE = 3.028115964184043\n",
      "Order (0, 1, 3): MAE = 2.673428687370375\n",
      "Order (0, 1, 4): MAE = 2.299416857581367\n"
     ]
    },
    {
     "name": "stderr",
     "output_type": "stream",
     "text": [
      "/Users/alikhan/anaconda3/lib/python3.10/site-packages/statsmodels/base/model.py:604: ConvergenceWarning: Maximum Likelihood optimization failed to converge. Check mle_retvals\n",
      "  warnings.warn(\"Maximum Likelihood optimization failed to \"\n"
     ]
    },
    {
     "name": "stdout",
     "output_type": "stream",
     "text": [
      "Order (0, 1, 5): MAE = 2.298790993814486\n"
     ]
    },
    {
     "name": "stderr",
     "output_type": "stream",
     "text": [
      "/Users/alikhan/anaconda3/lib/python3.10/site-packages/statsmodels/base/model.py:604: ConvergenceWarning: Maximum Likelihood optimization failed to converge. Check mle_retvals\n",
      "  warnings.warn(\"Maximum Likelihood optimization failed to \"\n"
     ]
    },
    {
     "name": "stdout",
     "output_type": "stream",
     "text": [
      "Order (0, 1, 6): MAE = 2.305790547862073\n",
      "Order (1, 0, 0): MAE = 2.3025509265684914\n",
      "Order (1, 0, 1): MAE = 2.3030185623494677\n",
      "Order (1, 0, 2): MAE = 2.302963803722666\n",
      "Order (1, 0, 3): MAE = 2.303214957483016\n",
      "Order (1, 0, 4): MAE = 2.3011937721887277\n",
      "Order (1, 0, 5): MAE = 2.305176409765806\n",
      "Order (1, 0, 6): MAE = 2.30461876263076\n",
      "Order (1, 1, 0): MAE = 3.1309973243895244\n",
      "Order (1, 1, 1): MAE = 2.3023919542794324\n",
      "Order (1, 1, 2): MAE = 2.302604026602743\n",
      "Order (1, 1, 3): MAE = 2.3028065968143214\n",
      "Order (1, 1, 4): MAE = 2.306537187881721\n",
      "Order (1, 1, 5): MAE = 2.3011017667754223\n"
     ]
    },
    {
     "name": "stderr",
     "output_type": "stream",
     "text": [
      "/Users/alikhan/anaconda3/lib/python3.10/site-packages/statsmodels/base/model.py:604: ConvergenceWarning: Maximum Likelihood optimization failed to converge. Check mle_retvals\n",
      "  warnings.warn(\"Maximum Likelihood optimization failed to \"\n"
     ]
    },
    {
     "name": "stdout",
     "output_type": "stream",
     "text": [
      "Order (1, 1, 6): MAE = 2.305120049033833\n",
      "Order (2, 0, 0): MAE = 2.303064212678273\n",
      "Order (2, 0, 1): MAE = 2.3029342067350043\n",
      "Order (2, 0, 2): MAE = 2.3038003497260413\n",
      "Order (2, 0, 3): MAE = 2.3048356486325696\n",
      "Order (2, 0, 4): MAE = 2.3006106907440427\n",
      "Order (2, 0, 5): MAE = 2.3048226283651205\n",
      "Order (2, 0, 6): MAE = 2.3056173306125634\n",
      "Order (2, 1, 0): MAE = 3.0825419903899673\n",
      "Order (2, 1, 1): MAE = 2.302891370684906\n",
      "Order (2, 1, 2): MAE = 2.3015467308103226\n"
     ]
    },
    {
     "name": "stderr",
     "output_type": "stream",
     "text": [
      "/Users/alikhan/anaconda3/lib/python3.10/site-packages/statsmodels/base/model.py:604: ConvergenceWarning: Maximum Likelihood optimization failed to converge. Check mle_retvals\n",
      "  warnings.warn(\"Maximum Likelihood optimization failed to \"\n"
     ]
    },
    {
     "name": "stdout",
     "output_type": "stream",
     "text": [
      "Order (2, 1, 3): MAE = 2.304612922075645\n"
     ]
    },
    {
     "name": "stderr",
     "output_type": "stream",
     "text": [
      "/Users/alikhan/anaconda3/lib/python3.10/site-packages/statsmodels/base/model.py:604: ConvergenceWarning: Maximum Likelihood optimization failed to converge. Check mle_retvals\n",
      "  warnings.warn(\"Maximum Likelihood optimization failed to \"\n"
     ]
    },
    {
     "name": "stdout",
     "output_type": "stream",
     "text": [
      "Order (2, 1, 4): MAE = 2.304824089257925\n"
     ]
    },
    {
     "name": "stderr",
     "output_type": "stream",
     "text": [
      "/Users/alikhan/anaconda3/lib/python3.10/site-packages/statsmodels/base/model.py:604: ConvergenceWarning: Maximum Likelihood optimization failed to converge. Check mle_retvals\n",
      "  warnings.warn(\"Maximum Likelihood optimization failed to \"\n"
     ]
    },
    {
     "name": "stdout",
     "output_type": "stream",
     "text": [
      "Order (2, 1, 5): MAE = 2.30024673759297\n"
     ]
    },
    {
     "name": "stderr",
     "output_type": "stream",
     "text": [
      "/Users/alikhan/anaconda3/lib/python3.10/site-packages/statsmodels/base/model.py:604: ConvergenceWarning: Maximum Likelihood optimization failed to converge. Check mle_retvals\n",
      "  warnings.warn(\"Maximum Likelihood optimization failed to \"\n"
     ]
    },
    {
     "name": "stdout",
     "output_type": "stream",
     "text": [
      "Order (2, 1, 6): MAE = 2.304738296491113\n",
      "Best Order for Stock ID 84: (0, 0, 0)\n",
      "Best MAE for Stock ID 84: 2.2976112256906664\n",
      "\n",
      "Training and evaluating for Stock ID: 85\n",
      "Training Set Date Range: 0 -- 477\n",
      "Testing Set Date Range: 478 -- 480\n",
      "Order (0, 0, 0): MAE = 10.10911541110723\n",
      "Order (0, 0, 1): MAE = 10.108972668807509\n",
      "Order (0, 0, 2): MAE = 10.114992103585148\n",
      "Order (0, 0, 3): MAE = 10.11532188728471\n",
      "Order (0, 0, 4): MAE = 10.114042162714817\n",
      "Order (0, 0, 5): MAE = 10.118387105823976\n",
      "Order (0, 0, 6): MAE = 10.116364182616053\n",
      "Order (0, 1, 0): MAE = 10.252230155054548\n",
      "Order (0, 1, 1): MAE = 10.053094214205858\n",
      "Order (0, 1, 2): MAE = 9.974017092565612\n",
      "Order (0, 1, 3): MAE = 9.977427576405047\n",
      "Order (0, 1, 4): MAE = 10.0308836704266\n",
      "Order (0, 1, 5): MAE = 10.109281531557485\n",
      "Order (0, 1, 6): MAE = 10.118756588122658\n",
      "Order (1, 0, 0): MAE = 10.111357842922802\n",
      "Order (1, 0, 1): MAE = 10.110914932992554\n",
      "Order (1, 0, 2): MAE = 10.113209682233801\n",
      "Order (1, 0, 3): MAE = 10.114732030916896\n",
      "Order (1, 0, 4): MAE = 10.118315278001987\n",
      "Order (1, 0, 5): MAE = 10.11698673237655\n",
      "Order (1, 0, 6): MAE = 10.116264556147314\n",
      "Order (1, 1, 0): MAE = 10.133597202467074\n",
      "Order (1, 1, 1): MAE = 10.111685971606384\n",
      "Order (1, 1, 2): MAE = 9.982778395564766\n",
      "Order (1, 1, 3): MAE = 10.113495385956917\n",
      "Order (1, 1, 4): MAE = 10.00997610824659\n"
     ]
    },
    {
     "name": "stderr",
     "output_type": "stream",
     "text": [
      "/Users/alikhan/anaconda3/lib/python3.10/site-packages/statsmodels/base/model.py:604: ConvergenceWarning: Maximum Likelihood optimization failed to converge. Check mle_retvals\n",
      "  warnings.warn(\"Maximum Likelihood optimization failed to \"\n"
     ]
    },
    {
     "name": "stdout",
     "output_type": "stream",
     "text": [
      "Order (1, 1, 5): MAE = 10.11857934361233\n"
     ]
    },
    {
     "name": "stderr",
     "output_type": "stream",
     "text": [
      "/Users/alikhan/anaconda3/lib/python3.10/site-packages/statsmodels/base/model.py:604: ConvergenceWarning: Maximum Likelihood optimization failed to converge. Check mle_retvals\n",
      "  warnings.warn(\"Maximum Likelihood optimization failed to \"\n"
     ]
    },
    {
     "name": "stdout",
     "output_type": "stream",
     "text": [
      "Order (1, 1, 6): MAE = 10.117316511223606\n",
      "Order (2, 0, 0): MAE = 10.110923355639004\n",
      "Order (2, 0, 1): MAE = 10.111414726466128\n",
      "Order (2, 0, 2): MAE = 10.12677448770215\n",
      "Order (2, 0, 3): MAE = 10.113584057653991\n",
      "Order (2, 0, 4): MAE = 10.117959816502104\n",
      "Order (2, 0, 5): MAE = 10.116047950846639\n",
      "Order (2, 0, 6): MAE = 10.117958353987168\n",
      "Order (2, 1, 0): MAE = 10.021061680160145\n",
      "Order (2, 1, 1): MAE = 10.111325260612453\n",
      "Order (2, 1, 2): MAE = 10.11104212376181\n"
     ]
    },
    {
     "name": "stderr",
     "output_type": "stream",
     "text": [
      "/Users/alikhan/anaconda3/lib/python3.10/site-packages/statsmodels/base/model.py:604: ConvergenceWarning: Maximum Likelihood optimization failed to converge. Check mle_retvals\n",
      "  warnings.warn(\"Maximum Likelihood optimization failed to \"\n"
     ]
    },
    {
     "name": "stdout",
     "output_type": "stream",
     "text": [
      "Order (2, 1, 3): MAE = 10.109516149021491\n"
     ]
    },
    {
     "name": "stderr",
     "output_type": "stream",
     "text": [
      "/Users/alikhan/anaconda3/lib/python3.10/site-packages/statsmodels/base/model.py:604: ConvergenceWarning: Maximum Likelihood optimization failed to converge. Check mle_retvals\n",
      "  warnings.warn(\"Maximum Likelihood optimization failed to \"\n"
     ]
    },
    {
     "name": "stdout",
     "output_type": "stream",
     "text": [
      "Order (2, 1, 4): MAE = 10.113292210834734\n"
     ]
    },
    {
     "name": "stderr",
     "output_type": "stream",
     "text": [
      "/Users/alikhan/anaconda3/lib/python3.10/site-packages/statsmodels/base/model.py:604: ConvergenceWarning: Maximum Likelihood optimization failed to converge. Check mle_retvals\n",
      "  warnings.warn(\"Maximum Likelihood optimization failed to \"\n"
     ]
    },
    {
     "name": "stdout",
     "output_type": "stream",
     "text": [
      "Order (2, 1, 5): MAE = 10.113002489842794\n"
     ]
    },
    {
     "name": "stderr",
     "output_type": "stream",
     "text": [
      "/Users/alikhan/anaconda3/lib/python3.10/site-packages/statsmodels/base/model.py:604: ConvergenceWarning: Maximum Likelihood optimization failed to converge. Check mle_retvals\n",
      "  warnings.warn(\"Maximum Likelihood optimization failed to \"\n"
     ]
    },
    {
     "name": "stdout",
     "output_type": "stream",
     "text": [
      "Order (2, 1, 6): MAE = 10.116233410442963\n",
      "Best Order for Stock ID 85: (0, 1, 2)\n",
      "Best MAE for Stock ID 85: 9.974017092565612\n",
      "\n",
      "Training and evaluating for Stock ID: 86\n",
      "Training Set Date Range: 0 -- 477\n",
      "Testing Set Date Range: 478 -- 480\n",
      "Order (0, 0, 0): MAE = 10.682375247613416\n",
      "Order (0, 0, 1): MAE = 10.68480799682106\n",
      "Order (0, 0, 2): MAE = 10.690087826349743\n",
      "Order (0, 0, 3): MAE = 10.69457371767155\n",
      "Order (0, 0, 4): MAE = 10.688973892596449\n",
      "Order (0, 0, 5): MAE = 10.69533553950987\n",
      "Order (0, 0, 6): MAE = 10.692392497260052\n",
      "Order (0, 1, 0): MAE = 15.991261277757577\n",
      "Order (0, 1, 1): MAE = 15.496824299831838\n",
      "Order (0, 1, 2): MAE = 15.18807922009743\n",
      "Order (0, 1, 3): MAE = 13.543280023416955\n",
      "Order (0, 1, 4): MAE = 10.794075741153854\n",
      "Order (0, 1, 5): MAE = 10.801878289971176\n",
      "Order (0, 1, 6): MAE = 10.756989960749543\n",
      "Order (1, 0, 0): MAE = 10.692488063370678\n",
      "Order (1, 0, 1): MAE = 10.69287471401503\n",
      "Order (1, 0, 2): MAE = 10.694564424744026\n",
      "Order (1, 0, 3): MAE = 10.69652457305169\n",
      "Order (1, 0, 4): MAE = 10.69369698543173\n",
      "Order (1, 0, 5): MAE = 10.692680549452502\n",
      "Order (1, 0, 6): MAE = 10.691917053760626\n",
      "Order (1, 1, 0): MAE = 15.597199658414745\n",
      "Order (1, 1, 1): MAE = 10.737025434569237\n",
      "Order (1, 1, 2): MAE = 10.724081472828958\n",
      "Order (1, 1, 3): MAE = 10.733524596257485\n",
      "Order (1, 1, 4): MAE = 10.738612114073302\n",
      "Order (1, 1, 5): MAE = 10.740941295552847\n",
      "Order (1, 1, 6): MAE = 10.76237070331011\n",
      "Order (2, 0, 0): MAE = 10.69295461109407\n",
      "Order (2, 0, 1): MAE = 10.688172686324394\n",
      "Order (2, 0, 2): MAE = 10.706100945535475\n",
      "Order (2, 0, 3): MAE = 10.697175945993648\n",
      "Order (2, 0, 4): MAE = 10.699941341100882\n",
      "Order (2, 0, 5): MAE = 10.69189632597817\n",
      "Order (2, 0, 6): MAE = 10.695280988838933\n",
      "Order (2, 1, 0): MAE = 15.314090707772184\n",
      "Order (2, 1, 1): MAE = 10.72477606598188\n",
      "Order (2, 1, 2): MAE = 10.723430275358282\n",
      "Order (2, 1, 3): MAE = 10.715559760002423\n",
      "Order (2, 1, 4): MAE = 10.734049332732475\n"
     ]
    },
    {
     "name": "stderr",
     "output_type": "stream",
     "text": [
      "/Users/alikhan/anaconda3/lib/python3.10/site-packages/statsmodels/base/model.py:604: ConvergenceWarning: Maximum Likelihood optimization failed to converge. Check mle_retvals\n",
      "  warnings.warn(\"Maximum Likelihood optimization failed to \"\n"
     ]
    },
    {
     "name": "stdout",
     "output_type": "stream",
     "text": [
      "Order (2, 1, 5): MAE = 10.791818272742157\n",
      "Order (2, 1, 6): MAE = 10.765305284406633\n",
      "Best Order for Stock ID 86: (0, 0, 0)\n",
      "Best MAE for Stock ID 86: 10.682375247613416\n",
      "\n",
      "Training and evaluating for Stock ID: 87\n",
      "Training Set Date Range: 0 -- 477\n",
      "Testing Set Date Range: 478 -- 480\n",
      "Order (0, 0, 0): MAE = 7.076194426178549\n",
      "Order (0, 0, 1): MAE = 7.085403264430401\n",
      "Order (0, 0, 2): MAE = 7.091030358717787\n",
      "Order (0, 0, 3): MAE = 7.099272022969709\n",
      "Order (0, 0, 4): MAE = 7.090878073702297\n",
      "Order (0, 0, 5): MAE = 7.093854309715866\n",
      "Order (0, 0, 6): MAE = 7.092973876017165\n",
      "Order (0, 1, 0): MAE = 9.910214960412123\n",
      "Order (0, 1, 1): MAE = 9.491387347828786\n",
      "Order (0, 1, 2): MAE = 9.367176292056783\n",
      "Order (0, 1, 3): MAE = 8.905626481167442\n",
      "Order (0, 1, 4): MAE = 7.087967597111703\n",
      "Order (0, 1, 5): MAE = 7.090839756903903\n",
      "Order (0, 1, 6): MAE = 7.093728178180829\n",
      "Order (1, 0, 0): MAE = 7.113316818729669\n",
      "Order (1, 0, 1): MAE = 7.1128764331510865\n",
      "Order (1, 0, 2): MAE = 7.111632981192791\n",
      "Order (1, 0, 3): MAE = 7.104993593193419\n",
      "Order (1, 0, 4): MAE = 7.095550217016942\n",
      "Order (1, 0, 5): MAE = 7.0930255721592115\n",
      "Order (1, 0, 6): MAE = 7.091095458088091\n",
      "Order (1, 1, 0): MAE = 9.551952880108203\n",
      "Order (1, 1, 1): MAE = 7.109419468551614\n",
      "Order (1, 1, 2): MAE = 9.413197359206272\n",
      "Order (1, 1, 3): MAE = 7.111481315841962\n",
      "Order (1, 1, 4): MAE = 7.071291658376007\n",
      "Order (1, 1, 5): MAE = 7.095425633627378\n"
     ]
    },
    {
     "name": "stderr",
     "output_type": "stream",
     "text": [
      "/Users/alikhan/anaconda3/lib/python3.10/site-packages/statsmodels/base/model.py:604: ConvergenceWarning: Maximum Likelihood optimization failed to converge. Check mle_retvals\n",
      "  warnings.warn(\"Maximum Likelihood optimization failed to \"\n"
     ]
    },
    {
     "name": "stdout",
     "output_type": "stream",
     "text": [
      "Order (1, 1, 6): MAE = 7.092902951548487\n",
      "Order (2, 0, 0): MAE = 7.112797340605798\n",
      "Order (2, 0, 1): MAE = 7.112820530642637\n",
      "Order (2, 0, 2): MAE = 7.101269890096357\n",
      "Order (2, 0, 3): MAE = 7.089154840365319\n",
      "Order (2, 0, 4): MAE = 7.088625983612846\n",
      "Order (2, 0, 5): MAE = 7.092946658740264\n",
      "Order (2, 0, 6): MAE = 7.092285269197629\n",
      "Order (2, 1, 0): MAE = 9.418348768497692\n",
      "Order (2, 1, 1): MAE = 7.112696798374119\n",
      "Order (2, 1, 2): MAE = 7.112744974890365\n",
      "Order (2, 1, 3): MAE = 7.113656912036146\n"
     ]
    },
    {
     "name": "stderr",
     "output_type": "stream",
     "text": [
      "/Users/alikhan/anaconda3/lib/python3.10/site-packages/statsmodels/base/model.py:604: ConvergenceWarning: Maximum Likelihood optimization failed to converge. Check mle_retvals\n",
      "  warnings.warn(\"Maximum Likelihood optimization failed to \"\n"
     ]
    },
    {
     "name": "stdout",
     "output_type": "stream",
     "text": [
      "Order (2, 1, 4): MAE = 7.111428954914511\n"
     ]
    },
    {
     "name": "stderr",
     "output_type": "stream",
     "text": [
      "/Users/alikhan/anaconda3/lib/python3.10/site-packages/statsmodels/base/model.py:604: ConvergenceWarning: Maximum Likelihood optimization failed to converge. Check mle_retvals\n",
      "  warnings.warn(\"Maximum Likelihood optimization failed to \"\n"
     ]
    },
    {
     "name": "stdout",
     "output_type": "stream",
     "text": [
      "Order (2, 1, 5): MAE = 7.108462804767877\n"
     ]
    },
    {
     "name": "stderr",
     "output_type": "stream",
     "text": [
      "/Users/alikhan/anaconda3/lib/python3.10/site-packages/statsmodels/base/model.py:604: ConvergenceWarning: Maximum Likelihood optimization failed to converge. Check mle_retvals\n",
      "  warnings.warn(\"Maximum Likelihood optimization failed to \"\n"
     ]
    },
    {
     "name": "stdout",
     "output_type": "stream",
     "text": [
      "Order (2, 1, 6): MAE = 7.0926346264471745\n",
      "Best Order for Stock ID 87: (1, 1, 4)\n",
      "Best MAE for Stock ID 87: 7.071291658376007\n",
      "\n",
      "Training and evaluating for Stock ID: 88\n",
      "Training Set Date Range: 0 -- 477\n",
      "Testing Set Date Range: 478 -- 480\n",
      "Order (0, 0, 0): MAE = 3.7878611004242284\n",
      "Order (0, 0, 1): MAE = 3.7878996883766822\n",
      "Order (0, 0, 2): MAE = 3.7876247307604998\n",
      "Order (0, 0, 3): MAE = 3.7876136092586683\n",
      "Order (0, 0, 4): MAE = 3.7880470129274797\n",
      "Order (0, 0, 5): MAE = 3.790565597541159\n",
      "Order (0, 0, 6): MAE = 3.7907902654022387\n",
      "Order (0, 1, 0): MAE = 3.7525820066666666\n",
      "Order (0, 1, 1): MAE = 3.7857793343278776\n",
      "Order (0, 1, 2): MAE = 3.8065729732693945\n",
      "Order (0, 1, 3): MAE = 3.8566387685356665\n",
      "Order (0, 1, 4): MAE = 3.8132402345744127\n",
      "Order (0, 1, 5): MAE = 3.7771887618603164\n",
      "Order (0, 1, 6): MAE = 3.7978670937242627\n",
      "Order (1, 0, 0): MAE = 3.7867516388629032\n",
      "Order (1, 0, 1): MAE = 3.786797224076794\n",
      "Order (1, 0, 2): MAE = 3.786488775783851\n",
      "Order (1, 0, 3): MAE = 3.7864897679159077\n",
      "Order (1, 0, 4): MAE = 3.7885317191458805\n",
      "Order (1, 0, 5): MAE = 3.790777410713706\n",
      "Order (1, 0, 6): MAE = 3.7908872827163025\n",
      "Order (1, 1, 0): MAE = 3.774521450752907\n",
      "Order (1, 1, 1): MAE = 3.7885760997600775\n",
      "Order (1, 1, 2): MAE = 3.7876680785933736\n"
     ]
    },
    {
     "name": "stderr",
     "output_type": "stream",
     "text": [
      "/Users/alikhan/anaconda3/lib/python3.10/site-packages/statsmodels/base/model.py:604: ConvergenceWarning: Maximum Likelihood optimization failed to converge. Check mle_retvals\n",
      "  warnings.warn(\"Maximum Likelihood optimization failed to \"\n"
     ]
    },
    {
     "name": "stdout",
     "output_type": "stream",
     "text": [
      "Order (1, 1, 3): MAE = 3.786851385960248\n",
      "Order (1, 1, 4): MAE = 3.7876506605068205\n",
      "Order (1, 1, 5): MAE = 3.7916976290238926\n",
      "Order (1, 1, 6): MAE = 3.798685877016843\n",
      "Order (2, 0, 0): MAE = 3.7867997377043485\n",
      "Order (2, 0, 1): MAE = 3.7870345387946243\n",
      "Order (2, 0, 2): MAE = 3.7873940871869904\n",
      "Order (2, 0, 3): MAE = 3.7911240319543595\n",
      "Order (2, 0, 4): MAE = 3.7901907769592733\n",
      "Order (2, 0, 5): MAE = 3.790792803255138\n"
     ]
    },
    {
     "name": "stderr",
     "output_type": "stream",
     "text": [
      "/Users/alikhan/anaconda3/lib/python3.10/site-packages/statsmodels/base/model.py:604: ConvergenceWarning: Maximum Likelihood optimization failed to converge. Check mle_retvals\n",
      "  warnings.warn(\"Maximum Likelihood optimization failed to \"\n"
     ]
    },
    {
     "name": "stdout",
     "output_type": "stream",
     "text": [
      "Order (2, 0, 6): MAE = 3.7853786807482126\n",
      "Order (2, 1, 0): MAE = 3.7979536122261783\n",
      "Order (2, 1, 1): MAE = 3.7902269057304667\n",
      "Order (2, 1, 2): MAE = 3.7897178353083536\n"
     ]
    },
    {
     "name": "stderr",
     "output_type": "stream",
     "text": [
      "/Users/alikhan/anaconda3/lib/python3.10/site-packages/statsmodels/base/model.py:604: ConvergenceWarning: Maximum Likelihood optimization failed to converge. Check mle_retvals\n",
      "  warnings.warn(\"Maximum Likelihood optimization failed to \"\n"
     ]
    },
    {
     "name": "stdout",
     "output_type": "stream",
     "text": [
      "Order (2, 1, 3): MAE = 3.787656979606076\n",
      "Order (2, 1, 4): MAE = 3.787124625606926\n"
     ]
    },
    {
     "name": "stderr",
     "output_type": "stream",
     "text": [
      "/Users/alikhan/anaconda3/lib/python3.10/site-packages/statsmodels/base/model.py:604: ConvergenceWarning: Maximum Likelihood optimization failed to converge. Check mle_retvals\n",
      "  warnings.warn(\"Maximum Likelihood optimization failed to \"\n"
     ]
    },
    {
     "name": "stdout",
     "output_type": "stream",
     "text": [
      "Order (2, 1, 5): MAE = 3.7881066847137257\n",
      "Order (2, 1, 6): MAE = 3.7986791825648996\n",
      "Best Order for Stock ID 88: (0, 1, 0)\n",
      "Best MAE for Stock ID 88: 3.7525820066666666\n",
      "\n",
      "Training and evaluating for Stock ID: 89\n",
      "Training Set Date Range: 0 -- 477\n",
      "Testing Set Date Range: 478 -- 480\n",
      "Order (0, 0, 0): MAE = 5.02118482013688\n",
      "Order (0, 0, 1): MAE = 5.030069348501363\n",
      "Order (0, 0, 2): MAE = 5.039508652572952\n",
      "Order (0, 0, 3): MAE = 5.038928434419864\n",
      "Order (0, 0, 4): MAE = 5.03579193578397\n",
      "Order (0, 0, 5): MAE = 5.075857307356841\n",
      "Order (0, 0, 6): MAE = 5.0713073222274785\n",
      "Order (0, 1, 0): MAE = 6.688504472957577\n",
      "Order (0, 1, 1): MAE = 6.026938969751679\n",
      "Order (0, 1, 2): MAE = 5.812486142974894\n",
      "Order (0, 1, 3): MAE = 5.009344684495432\n",
      "Order (0, 1, 4): MAE = 5.261744586608484\n",
      "Order (0, 1, 5): MAE = 5.0358033290160105\n",
      "Order (0, 1, 6): MAE = 5.075926075524486\n",
      "Order (1, 0, 0): MAE = 5.041810365112364\n",
      "Order (1, 0, 1): MAE = 5.041497367230734\n",
      "Order (1, 0, 2): MAE = 5.042364407388891\n",
      "Order (1, 0, 3): MAE = 5.044985551817791\n",
      "Order (1, 0, 4): MAE = 5.050981613716859\n",
      "Order (1, 0, 5): MAE = 5.0717907537208315\n",
      "Order (1, 0, 6): MAE = 5.071204385988902\n",
      "Order (1, 1, 0): MAE = 6.162297656782096\n",
      "Order (1, 1, 1): MAE = 5.041549639884511\n",
      "Order (1, 1, 2): MAE = 5.041317069482238\n",
      "Order (1, 1, 3): MAE = 5.042331311077369\n",
      "Order (1, 1, 4): MAE = 5.023795006109063\n",
      "Order (1, 1, 5): MAE = 5.05098952389625\n"
     ]
    },
    {
     "name": "stderr",
     "output_type": "stream",
     "text": [
      "/Users/alikhan/anaconda3/lib/python3.10/site-packages/statsmodels/base/model.py:604: ConvergenceWarning: Maximum Likelihood optimization failed to converge. Check mle_retvals\n",
      "  warnings.warn(\"Maximum Likelihood optimization failed to \"\n"
     ]
    },
    {
     "name": "stdout",
     "output_type": "stream",
     "text": [
      "Order (1, 1, 6): MAE = 5.071863749177423\n",
      "Order (2, 0, 0): MAE = 5.0414580940702685\n",
      "Order (2, 0, 1): MAE = 5.04142282972597\n",
      "Order (2, 0, 2): MAE = 5.048689148127694\n",
      "Order (2, 0, 3): MAE = 5.0431215016099795\n",
      "Order (2, 0, 4): MAE = 5.05688705581752\n",
      "Order (2, 0, 5): MAE = 5.071210718711836\n"
     ]
    },
    {
     "name": "stderr",
     "output_type": "stream",
     "text": [
      "/Users/alikhan/anaconda3/lib/python3.10/site-packages/statsmodels/base/model.py:604: ConvergenceWarning: Maximum Likelihood optimization failed to converge. Check mle_retvals\n",
      "  warnings.warn(\"Maximum Likelihood optimization failed to \"\n"
     ]
    },
    {
     "name": "stdout",
     "output_type": "stream",
     "text": [
      "Order (2, 0, 6): MAE = 5.072192731431699\n",
      "Order (2, 1, 0): MAE = 5.958724185324653\n",
      "Order (2, 1, 1): MAE = 5.041277150470419\n",
      "Order (2, 1, 2): MAE = 5.042312660798558\n"
     ]
    },
    {
     "name": "stderr",
     "output_type": "stream",
     "text": [
      "/Users/alikhan/anaconda3/lib/python3.10/site-packages/statsmodels/base/model.py:604: ConvergenceWarning: Maximum Likelihood optimization failed to converge. Check mle_retvals\n",
      "  warnings.warn(\"Maximum Likelihood optimization failed to \"\n"
     ]
    },
    {
     "name": "stdout",
     "output_type": "stream",
     "text": [
      "Order (2, 1, 3): MAE = 5.041292940356452\n"
     ]
    },
    {
     "name": "stderr",
     "output_type": "stream",
     "text": [
      "/Users/alikhan/anaconda3/lib/python3.10/site-packages/statsmodels/base/model.py:604: ConvergenceWarning: Maximum Likelihood optimization failed to converge. Check mle_retvals\n",
      "  warnings.warn(\"Maximum Likelihood optimization failed to \"\n"
     ]
    },
    {
     "name": "stdout",
     "output_type": "stream",
     "text": [
      "Order (2, 1, 4): MAE = 5.043114834247439\n"
     ]
    },
    {
     "name": "stderr",
     "output_type": "stream",
     "text": [
      "/Users/alikhan/anaconda3/lib/python3.10/site-packages/statsmodels/base/model.py:604: ConvergenceWarning: Maximum Likelihood optimization failed to converge. Check mle_retvals\n",
      "  warnings.warn(\"Maximum Likelihood optimization failed to \"\n"
     ]
    },
    {
     "name": "stdout",
     "output_type": "stream",
     "text": [
      "Order (2, 1, 5): MAE = 5.056670398305778\n"
     ]
    },
    {
     "name": "stderr",
     "output_type": "stream",
     "text": [
      "/Users/alikhan/anaconda3/lib/python3.10/site-packages/statsmodels/base/model.py:604: ConvergenceWarning: Maximum Likelihood optimization failed to converge. Check mle_retvals\n",
      "  warnings.warn(\"Maximum Likelihood optimization failed to \"\n"
     ]
    },
    {
     "name": "stdout",
     "output_type": "stream",
     "text": [
      "Order (2, 1, 6): MAE = 5.071097280243337\n",
      "Best Order for Stock ID 89: (0, 1, 3)\n",
      "Best MAE for Stock ID 89: 5.009344684495432\n",
      "\n",
      "Training and evaluating for Stock ID: 90\n",
      "Training Set Date Range: 0 -- 477\n",
      "Testing Set Date Range: 478 -- 480\n",
      "Order (0, 0, 0): MAE = 4.00221904081472\n",
      "Order (0, 0, 1): MAE = 4.008428209578092\n",
      "Order (0, 0, 2): MAE = 4.051425313912219\n",
      "Order (0, 0, 3): MAE = 4.058895047852026\n",
      "Order (0, 0, 4): MAE = 4.119389986633703\n",
      "Order (0, 0, 5): MAE = 4.2420053850816775\n",
      "Order (0, 0, 6): MAE = 4.214761027915212\n",
      "Order (0, 1, 0): MAE = 16.655506597606056\n",
      "Order (0, 1, 1): MAE = 16.642875351416052\n",
      "Order (0, 1, 2): MAE = 15.068486438523783\n",
      "Order (0, 1, 3): MAE = 4.051640667788695\n",
      "Order (0, 1, 4): MAE = 4.059045952640491\n",
      "Order (0, 1, 5): MAE = 4.119641036229269\n",
      "Order (0, 1, 6): MAE = 4.242457350050598\n",
      "Order (1, 0, 0): MAE = 4.136768910612809\n",
      "Order (1, 0, 1): MAE = 4.154459543968783\n",
      "Order (1, 0, 2): MAE = 4.153257549012465\n",
      "Order (1, 0, 3): MAE = 4.1844179975622\n",
      "Order (1, 0, 4): MAE = 4.230201239392878\n",
      "Order (1, 0, 5): MAE = 4.225834728007946\n",
      "Order (1, 0, 6): MAE = 4.198170563606532\n",
      "Order (1, 1, 0): MAE = 17.302329877564702\n",
      "Order (1, 1, 1): MAE = 4.145399865624345\n",
      "Order (1, 1, 2): MAE = 15.697597689991115\n",
      "Order (1, 1, 3): MAE = 4.154010301951742\n",
      "Order (1, 1, 4): MAE = 4.048703642989036\n",
      "Order (1, 1, 5): MAE = 4.078238862448718\n"
     ]
    },
    {
     "name": "stderr",
     "output_type": "stream",
     "text": [
      "/Users/alikhan/anaconda3/lib/python3.10/site-packages/statsmodels/base/model.py:604: ConvergenceWarning: Maximum Likelihood optimization failed to converge. Check mle_retvals\n",
      "  warnings.warn(\"Maximum Likelihood optimization failed to \"\n"
     ]
    },
    {
     "name": "stdout",
     "output_type": "stream",
     "text": [
      "Order (1, 1, 6): MAE = 4.226219000346156\n",
      "Order (2, 0, 0): MAE = 4.156338694609606\n",
      "Order (2, 0, 1): MAE = 4.120896405176862\n",
      "Order (2, 0, 2): MAE = 4.147697384780512\n",
      "Order (2, 0, 3): MAE = 4.151463917964896\n",
      "Order (2, 0, 4): MAE = 4.194793460492787\n",
      "Order (2, 0, 5): MAE = 4.211827547611299\n",
      "Order (2, 0, 6): MAE = 4.198429167258223\n",
      "Order (2, 1, 0): MAE = 16.26483996009211\n",
      "Order (2, 1, 1): MAE = 4.157215100687752\n",
      "Order (2, 1, 2): MAE = 4.121099709370534\n",
      "Order (2, 1, 3): MAE = 4.152048748253141\n",
      "Order (2, 1, 4): MAE = 4.151617206595673\n"
     ]
    },
    {
     "name": "stderr",
     "output_type": "stream",
     "text": [
      "/Users/alikhan/anaconda3/lib/python3.10/site-packages/statsmodels/base/model.py:604: ConvergenceWarning: Maximum Likelihood optimization failed to converge. Check mle_retvals\n",
      "  warnings.warn(\"Maximum Likelihood optimization failed to \"\n"
     ]
    },
    {
     "name": "stdout",
     "output_type": "stream",
     "text": [
      "Order (2, 1, 5): MAE = 4.1640274410196\n"
     ]
    },
    {
     "name": "stderr",
     "output_type": "stream",
     "text": [
      "/Users/alikhan/anaconda3/lib/python3.10/site-packages/statsmodels/base/model.py:604: ConvergenceWarning: Maximum Likelihood optimization failed to converge. Check mle_retvals\n",
      "  warnings.warn(\"Maximum Likelihood optimization failed to \"\n"
     ]
    },
    {
     "name": "stdout",
     "output_type": "stream",
     "text": [
      "Order (2, 1, 6): MAE = 4.212331097304752\n",
      "Best Order for Stock ID 90: (0, 0, 0)\n",
      "Best MAE for Stock ID 90: 4.00221904081472\n",
      "\n",
      "Training and evaluating for Stock ID: 91\n",
      "Training Set Date Range: 0 -- 477\n",
      "Testing Set Date Range: 478 -- 480\n",
      "Order (0, 0, 0): MAE = 4.925161159637553\n",
      "Order (0, 0, 1): MAE = 4.923880749755283\n",
      "Order (0, 0, 2): MAE = 4.923436901576396\n",
      "Order (0, 0, 3): MAE = 4.922328413665416\n",
      "Order (0, 0, 4): MAE = 4.92271786353829\n",
      "Order (0, 0, 5): MAE = 4.924806545381436\n",
      "Order (0, 0, 6): MAE = 4.924975908371872\n",
      "Order (0, 1, 0): MAE = 4.934585440333333\n",
      "Order (0, 1, 1): MAE = 5.003733694196563\n",
      "Order (0, 1, 2): MAE = 5.031003289742988\n",
      "Order (0, 1, 3): MAE = 5.2186874159908605\n",
      "Order (0, 1, 4): MAE = 5.0074715190544845\n",
      "Order (0, 1, 5): MAE = 4.922488695983679\n",
      "Order (0, 1, 6): MAE = 4.9247068953723945\n",
      "Order (1, 0, 0): MAE = 4.925373286246623\n",
      "Order (1, 0, 1): MAE = 4.924287995867897\n",
      "Order (1, 0, 2): MAE = 4.923413957378084\n",
      "Order (1, 0, 3): MAE = 4.922277799349414\n",
      "Order (1, 0, 4): MAE = 4.925225211907671\n",
      "Order (1, 0, 5): MAE = 4.924955142674738\n",
      "Order (1, 0, 6): MAE = 4.923869694698682\n",
      "Order (1, 1, 0): MAE = 4.99629308774154\n",
      "Order (1, 1, 1): MAE = 4.92386428121955\n",
      "Order (1, 1, 2): MAE = 4.923938899345023\n",
      "Order (1, 1, 3): MAE = 4.9229898721999685\n",
      "Order (1, 1, 4): MAE = 4.92195710659842\n",
      "Order (1, 1, 5): MAE = 4.925064428311351\n"
     ]
    },
    {
     "name": "stderr",
     "output_type": "stream",
     "text": [
      "/Users/alikhan/anaconda3/lib/python3.10/site-packages/statsmodels/base/model.py:604: ConvergenceWarning: Maximum Likelihood optimization failed to converge. Check mle_retvals\n",
      "  warnings.warn(\"Maximum Likelihood optimization failed to \"\n"
     ]
    },
    {
     "name": "stdout",
     "output_type": "stream",
     "text": [
      "Order (1, 1, 6): MAE = 4.924836248342543\n",
      "Order (2, 0, 0): MAE = 4.924066346016731\n",
      "Order (2, 0, 1): MAE = 4.924299958473526\n",
      "Order (2, 0, 2): MAE = 4.9204816595842304\n",
      "Order (2, 0, 3): MAE = 4.923815130849947\n",
      "Order (2, 0, 4): MAE = 4.926342180074228\n",
      "Order (2, 0, 5): MAE = 4.92504748302234\n",
      "Order (2, 0, 6): MAE = 4.922295859024801\n",
      "Order (2, 1, 0): MAE = 5.021224779780618\n",
      "Order (2, 1, 1): MAE = 4.923688927633919\n",
      "Order (2, 1, 2): MAE = 4.923998168267429\n",
      "Order (2, 1, 3): MAE = 4.924496158100666\n"
     ]
    },
    {
     "name": "stderr",
     "output_type": "stream",
     "text": [
      "/Users/alikhan/anaconda3/lib/python3.10/site-packages/statsmodels/base/model.py:604: ConvergenceWarning: Maximum Likelihood optimization failed to converge. Check mle_retvals\n",
      "  warnings.warn(\"Maximum Likelihood optimization failed to \"\n"
     ]
    },
    {
     "name": "stdout",
     "output_type": "stream",
     "text": [
      "Order (2, 1, 4): MAE = 4.9226696902656135\n"
     ]
    },
    {
     "name": "stderr",
     "output_type": "stream",
     "text": [
      "/Users/alikhan/anaconda3/lib/python3.10/site-packages/statsmodels/base/model.py:604: ConvergenceWarning: Maximum Likelihood optimization failed to converge. Check mle_retvals\n",
      "  warnings.warn(\"Maximum Likelihood optimization failed to \"\n"
     ]
    },
    {
     "name": "stdout",
     "output_type": "stream",
     "text": [
      "Order (2, 1, 5): MAE = 4.922380263674597\n"
     ]
    },
    {
     "name": "stderr",
     "output_type": "stream",
     "text": [
      "/Users/alikhan/anaconda3/lib/python3.10/site-packages/statsmodels/base/model.py:604: ConvergenceWarning: Maximum Likelihood optimization failed to converge. Check mle_retvals\n",
      "  warnings.warn(\"Maximum Likelihood optimization failed to \"\n"
     ]
    },
    {
     "name": "stdout",
     "output_type": "stream",
     "text": [
      "Order (2, 1, 6): MAE = 4.924673656740269\n",
      "Best Order for Stock ID 91: (2, 0, 2)\n",
      "Best MAE for Stock ID 91: 4.9204816595842304\n",
      "\n",
      "Training and evaluating for Stock ID: 92\n",
      "Training Set Date Range: 0 -- 477\n",
      "Testing Set Date Range: 478 -- 480\n",
      "Order (0, 0, 0): MAE = 7.974881872321375\n",
      "Order (0, 0, 1): MAE = 7.974672192270534\n",
      "Order (0, 0, 2): MAE = 7.972914073673803\n",
      "Order (0, 0, 3): MAE = 7.972785600087782\n",
      "Order (0, 0, 4): MAE = 7.974806142836236\n",
      "Order (0, 0, 5): MAE = 7.984247464385396\n",
      "Order (0, 0, 6): MAE = 7.9838656490732\n",
      "Order (0, 1, 0): MAE = 8.2801291468\n",
      "Order (0, 1, 1): MAE = 8.36884846585591\n",
      "Order (0, 1, 2): MAE = 8.688528263967006\n",
      "Order (0, 1, 3): MAE = 7.834873972668701\n",
      "Order (0, 1, 4): MAE = 7.847675752446001\n",
      "Order (0, 1, 5): MAE = 7.862649205164306\n"
     ]
    },
    {
     "name": "stderr",
     "output_type": "stream",
     "text": [
      "/Users/alikhan/anaconda3/lib/python3.10/site-packages/statsmodels/base/model.py:604: ConvergenceWarning: Maximum Likelihood optimization failed to converge. Check mle_retvals\n",
      "  warnings.warn(\"Maximum Likelihood optimization failed to \"\n"
     ]
    },
    {
     "name": "stdout",
     "output_type": "stream",
     "text": [
      "Order (0, 1, 6): MAE = 7.983447361122386\n",
      "Order (1, 0, 0): MAE = 7.970244663378691\n",
      "Order (1, 0, 1): MAE = 7.9690841057101105\n",
      "Order (1, 0, 2): MAE = 7.969615285395601\n",
      "Order (1, 0, 3): MAE = 7.972751643231329\n",
      "Order (1, 0, 4): MAE = 7.977968294566899\n",
      "Order (1, 0, 5): MAE = 7.983453662599285\n",
      "Order (1, 0, 6): MAE = 7.985677688745825\n",
      "Order (1, 1, 0): MAE = 8.197583306630753\n",
      "Order (1, 1, 1): MAE = 7.892411198361029\n",
      "Order (1, 1, 2): MAE = 7.924929707470011\n",
      "Order (1, 1, 3): MAE = 7.914010757270643\n",
      "Order (1, 1, 4): MAE = 7.846521467438925\n",
      "Order (1, 1, 5): MAE = 7.846114344657109\n",
      "Order (1, 1, 6): MAE = 7.935918844241695\n",
      "Order (2, 0, 0): MAE = 7.969046024164763\n",
      "Order (2, 0, 1): MAE = 7.969078139561721\n",
      "Order (2, 0, 2): MAE = 7.982342173562781\n",
      "Order (2, 0, 3): MAE = 7.97155373024166\n",
      "Order (2, 0, 4): MAE = 7.982411781355797\n",
      "Order (2, 0, 5): MAE = 7.983917790175853\n",
      "Order (2, 0, 6): MAE = 7.986226384878565\n",
      "Order (2, 1, 0): MAE = 8.347275979584465\n",
      "Order (2, 1, 1): MAE = 7.926259813699784\n",
      "Order (2, 1, 2): MAE = 7.894071815343691\n",
      "Order (2, 1, 3): MAE = 7.9089015659082\n"
     ]
    },
    {
     "name": "stderr",
     "output_type": "stream",
     "text": [
      "/Users/alikhan/anaconda3/lib/python3.10/site-packages/statsmodels/base/model.py:604: ConvergenceWarning: Maximum Likelihood optimization failed to converge. Check mle_retvals\n",
      "  warnings.warn(\"Maximum Likelihood optimization failed to \"\n"
     ]
    },
    {
     "name": "stdout",
     "output_type": "stream",
     "text": [
      "Order (2, 1, 4): MAE = 7.835648541571836\n",
      "Order (2, 1, 5): MAE = 7.845080757880005\n",
      "Order (2, 1, 6): MAE = 7.913697267535635\n",
      "Best Order for Stock ID 92: (0, 1, 3)\n",
      "Best MAE for Stock ID 92: 7.834873972668701\n",
      "\n",
      "Training and evaluating for Stock ID: 93\n",
      "Training Set Date Range: 0 -- 477\n",
      "Testing Set Date Range: 478 -- 480\n",
      "Order (0, 0, 0): MAE = 8.95234450173169\n",
      "Order (0, 0, 1): MAE = 8.955573117149598\n",
      "Order (0, 0, 2): MAE = 8.974293186653616\n",
      "Order (0, 0, 3): MAE = 8.97278495080203\n",
      "Order (0, 0, 4): MAE = 8.966877010195448\n",
      "Order (0, 0, 5): MAE = 9.016113268378838\n",
      "Order (0, 0, 6): MAE = 9.016152371543125\n",
      "Order (0, 1, 0): MAE = 8.777520875199999\n",
      "Order (0, 1, 1): MAE = 8.778168854956487\n",
      "Order (0, 1, 2): MAE = 8.865448601277082\n",
      "Order (0, 1, 3): MAE = 9.403345017860373\n",
      "Order (0, 1, 4): MAE = 9.354916661197182\n",
      "Order (0, 1, 5): MAE = 8.915768837932008\n",
      "Order (0, 1, 6): MAE = 9.001408196206599\n",
      "Order (1, 0, 0): MAE = 8.945177386128915\n",
      "Order (1, 0, 1): MAE = 8.947435518790607\n",
      "Order (1, 0, 2): MAE = 8.952734303362314\n",
      "Order (1, 0, 3): MAE = 8.961753961740047\n",
      "Order (1, 0, 4): MAE = 8.9837689249892\n",
      "Order (1, 0, 5): MAE = 9.016167742824774\n",
      "Order (1, 0, 6): MAE = 9.00074218079141\n",
      "Order (1, 1, 0): MAE = 8.775632762196402\n",
      "Order (1, 1, 1): MAE = 9.128895490955133\n",
      "Order (1, 1, 2): MAE = 9.126358658198825\n",
      "Order (1, 1, 3): MAE = 9.141296665385847\n",
      "Order (1, 1, 4): MAE = 9.327152585512234\n",
      "Order (1, 1, 5): MAE = 9.138847336151617\n",
      "Order (1, 1, 6): MAE = 9.001191611251251\n",
      "Order (2, 0, 0): MAE = 8.947956871804324\n",
      "Order (2, 0, 1): MAE = 8.95006880009427\n",
      "Order (2, 0, 2): MAE = 8.975183315569344\n",
      "Order (2, 0, 3): MAE = 8.96190613649541\n",
      "Order (2, 0, 4): MAE = 9.00367131655698\n",
      "Order (2, 0, 5): MAE = 9.018237884854068\n",
      "Order (2, 0, 6): MAE = 8.997369809673717\n",
      "Order (2, 1, 0): MAE = 8.826317580405593\n",
      "Order (2, 1, 1): MAE = 9.128534922321446\n",
      "Order (2, 1, 2): MAE = 9.127678100155356\n",
      "Order (2, 1, 3): MAE = 9.123953427145418\n",
      "Order (2, 1, 4): MAE = 9.154090085349475\n",
      "Order (2, 1, 5): MAE = 9.149866767656052\n",
      "Order (2, 1, 6): MAE = 9.00195354745683\n",
      "Best Order for Stock ID 93: (1, 1, 0)\n",
      "Best MAE for Stock ID 93: 8.775632762196402\n",
      "\n",
      "Training and evaluating for Stock ID: 94\n",
      "Training Set Date Range: 0 -- 477\n",
      "Testing Set Date Range: 478 -- 480\n",
      "Order (0, 0, 0): MAE = 4.865730641864881\n",
      "Order (0, 0, 1): MAE = 4.866011121580412\n",
      "Order (0, 0, 2): MAE = 4.865722908147375\n",
      "Order (0, 0, 3): MAE = 4.866146382948757\n",
      "Order (0, 0, 4): MAE = 4.868157634252091\n",
      "Order (0, 0, 5): MAE = 4.871418987920812\n",
      "Order (0, 0, 6): MAE = 4.8703781261236605\n",
      "Order (0, 1, 0): MAE = 4.938078644848484\n",
      "Order (0, 1, 1): MAE = 5.156985157832567\n",
      "Order (0, 1, 2): MAE = 5.22182671205298\n",
      "Order (0, 1, 3): MAE = 4.8682729456159555\n",
      "Order (0, 1, 4): MAE = 4.86535991804854\n",
      "Order (0, 1, 5): MAE = 4.8680853102354735\n"
     ]
    },
    {
     "name": "stderr",
     "output_type": "stream",
     "text": [
      "/Users/alikhan/anaconda3/lib/python3.10/site-packages/statsmodels/base/model.py:604: ConvergenceWarning: Maximum Likelihood optimization failed to converge. Check mle_retvals\n",
      "  warnings.warn(\"Maximum Likelihood optimization failed to \"\n"
     ]
    },
    {
     "name": "stdout",
     "output_type": "stream",
     "text": [
      "Order (0, 1, 6): MAE = 4.871390568174187\n",
      "Order (1, 0, 0): MAE = 4.866054264733463\n",
      "Order (1, 0, 1): MAE = 4.866610994766622\n",
      "Order (1, 0, 2): MAE = 4.866249113857463\n",
      "Order (1, 0, 3): MAE = 4.866945124583664\n",
      "Order (1, 0, 4): MAE = 4.869023500550308\n",
      "Order (1, 0, 5): MAE = 4.870518990403588\n",
      "Order (1, 0, 6): MAE = 4.870429237915985\n",
      "Order (1, 1, 0): MAE = 5.068663303161014\n",
      "Order (1, 1, 1): MAE = 4.865864085840571\n",
      "Order (1, 1, 2): MAE = 4.8665504505280985\n",
      "Order (1, 1, 3): MAE = 4.866069109655018\n",
      "Order (1, 1, 4): MAE = 4.868859519392163\n",
      "Order (1, 1, 5): MAE = 4.865543367647574\n"
     ]
    },
    {
     "name": "stderr",
     "output_type": "stream",
     "text": [
      "/Users/alikhan/anaconda3/lib/python3.10/site-packages/statsmodels/base/model.py:604: ConvergenceWarning: Maximum Likelihood optimization failed to converge. Check mle_retvals\n",
      "  warnings.warn(\"Maximum Likelihood optimization failed to \"\n"
     ]
    },
    {
     "name": "stdout",
     "output_type": "stream",
     "text": [
      "Order (1, 1, 6): MAE = 4.870470737194732\n",
      "Order (2, 0, 0): MAE = 4.86664345307443\n",
      "Order (2, 0, 1): MAE = 4.866522585337229\n",
      "Order (2, 0, 2): MAE = 4.867773963378237\n",
      "Order (2, 0, 3): MAE = 4.866175089852377\n",
      "Order (2, 0, 4): MAE = 4.86827536039392\n",
      "Order (2, 0, 5): MAE = 4.8705083981211885\n",
      "Order (2, 0, 6): MAE = 4.870627927137996\n",
      "Order (2, 1, 0): MAE = 5.1443190500756835\n",
      "Order (2, 1, 1): MAE = 4.866594510968926\n",
      "Order (2, 1, 2): MAE = 4.865931451779596\n",
      "Order (2, 1, 3): MAE = 4.865943078716324\n"
     ]
    },
    {
     "name": "stderr",
     "output_type": "stream",
     "text": [
      "/Users/alikhan/anaconda3/lib/python3.10/site-packages/statsmodels/base/model.py:604: ConvergenceWarning: Maximum Likelihood optimization failed to converge. Check mle_retvals\n",
      "  warnings.warn(\"Maximum Likelihood optimization failed to \"\n"
     ]
    },
    {
     "name": "stdout",
     "output_type": "stream",
     "text": [
      "Order (2, 1, 4): MAE = 4.866015087324282\n"
     ]
    },
    {
     "name": "stderr",
     "output_type": "stream",
     "text": [
      "/Users/alikhan/anaconda3/lib/python3.10/site-packages/statsmodels/base/model.py:604: ConvergenceWarning: Maximum Likelihood optimization failed to converge. Check mle_retvals\n",
      "  warnings.warn(\"Maximum Likelihood optimization failed to \"\n"
     ]
    },
    {
     "name": "stdout",
     "output_type": "stream",
     "text": [
      "Order (2, 1, 5): MAE = 4.866295379387184\n"
     ]
    },
    {
     "name": "stderr",
     "output_type": "stream",
     "text": [
      "/Users/alikhan/anaconda3/lib/python3.10/site-packages/statsmodels/base/model.py:604: ConvergenceWarning: Maximum Likelihood optimization failed to converge. Check mle_retvals\n",
      "  warnings.warn(\"Maximum Likelihood optimization failed to \"\n"
     ]
    },
    {
     "name": "stdout",
     "output_type": "stream",
     "text": [
      "Order (2, 1, 6): MAE = 4.870443712388394\n",
      "Best Order for Stock ID 94: (0, 1, 4)\n",
      "Best MAE for Stock ID 94: 4.86535991804854\n",
      "\n",
      "Training and evaluating for Stock ID: 95\n",
      "Training Set Date Range: 0 -- 477\n",
      "Testing Set Date Range: 478 -- 480\n",
      "Order (0, 0, 0): MAE = 4.452610931220111\n",
      "Order (0, 0, 1): MAE = 4.452944160480702\n",
      "Order (0, 0, 2): MAE = 4.4533093324107895\n",
      "Order (0, 0, 3): MAE = 4.452843077579318\n",
      "Order (0, 0, 4): MAE = 4.45283300434138\n",
      "Order (0, 0, 5): MAE = 4.454391354408847\n",
      "Order (0, 0, 6): MAE = 4.4543391178034675\n",
      "Order (0, 1, 0): MAE = 4.618995143696969\n",
      "Order (0, 1, 1): MAE = 4.654752604261937\n",
      "Order (0, 1, 2): MAE = 4.665715242662165\n",
      "Order (0, 1, 3): MAE = 4.553723957983391\n",
      "Order (0, 1, 4): MAE = 4.445315616991561\n",
      "Order (0, 1, 5): MAE = 4.4460886490709814\n",
      "Order (0, 1, 6): MAE = 4.453883505769426\n",
      "Order (1, 0, 0): MAE = 4.45269424176344\n",
      "Order (1, 0, 1): MAE = 4.452629251891014\n",
      "Order (1, 0, 2): MAE = 4.4525911688080475\n",
      "Order (1, 0, 3): MAE = 4.453922913824494\n",
      "Order (1, 0, 4): MAE = 4.452812372006734\n",
      "Order (1, 0, 5): MAE = 4.454346661798176\n",
      "Order (1, 0, 6): MAE = 4.45430593726492\n",
      "Order (1, 1, 0): MAE = 4.648483635166491\n",
      "Order (1, 1, 1): MAE = 4.448449608800483\n",
      "Order (1, 1, 2): MAE = 4.452018457378334\n",
      "Order (1, 1, 3): MAE = 4.451933671333046\n"
     ]
    },
    {
     "name": "stderr",
     "output_type": "stream",
     "text": [
      "/Users/alikhan/anaconda3/lib/python3.10/site-packages/statsmodels/base/model.py:604: ConvergenceWarning: Maximum Likelihood optimization failed to converge. Check mle_retvals\n",
      "  warnings.warn(\"Maximum Likelihood optimization failed to \"\n"
     ]
    },
    {
     "name": "stdout",
     "output_type": "stream",
     "text": [
      "Order (1, 1, 4): MAE = 4.453527595887698\n",
      "Order (1, 1, 5): MAE = 4.452650144673127\n",
      "Order (1, 1, 6): MAE = 4.453183007770504\n",
      "Order (2, 0, 0): MAE = 4.452627535876134\n",
      "Order (2, 0, 1): MAE = 4.4524825032460145\n",
      "Order (2, 0, 2): MAE = 4.453831183655612\n",
      "Order (2, 0, 3): MAE = 4.453930686766459\n",
      "Order (2, 0, 4): MAE = 4.454378798433711\n",
      "Order (2, 0, 5): MAE = 4.454290508009526\n"
     ]
    },
    {
     "name": "stderr",
     "output_type": "stream",
     "text": [
      "/Users/alikhan/anaconda3/lib/python3.10/site-packages/statsmodels/base/model.py:604: ConvergenceWarning: Maximum Likelihood optimization failed to converge. Check mle_retvals\n",
      "  warnings.warn(\"Maximum Likelihood optimization failed to \"\n"
     ]
    },
    {
     "name": "stdout",
     "output_type": "stream",
     "text": [
      "Order (2, 0, 6): MAE = 4.454197371888016\n",
      "Order (2, 1, 0): MAE = 4.666980710618444\n",
      "Order (2, 1, 1): MAE = 4.452356357677012\n"
     ]
    },
    {
     "name": "stderr",
     "output_type": "stream",
     "text": [
      "/Users/alikhan/anaconda3/lib/python3.10/site-packages/statsmodels/base/model.py:604: ConvergenceWarning: Maximum Likelihood optimization failed to converge. Check mle_retvals\n",
      "  warnings.warn(\"Maximum Likelihood optimization failed to \"\n"
     ]
    },
    {
     "name": "stdout",
     "output_type": "stream",
     "text": [
      "Order (2, 1, 2): MAE = 4.45299516044868\n",
      "Order (2, 1, 3): MAE = 4.452656317186453\n",
      "Order (2, 1, 4): MAE = 4.453229988469597\n"
     ]
    },
    {
     "name": "stderr",
     "output_type": "stream",
     "text": [
      "/Users/alikhan/anaconda3/lib/python3.10/site-packages/statsmodels/base/model.py:604: ConvergenceWarning: Maximum Likelihood optimization failed to converge. Check mle_retvals\n",
      "  warnings.warn(\"Maximum Likelihood optimization failed to \"\n"
     ]
    },
    {
     "name": "stdout",
     "output_type": "stream",
     "text": [
      "Order (2, 1, 5): MAE = 4.450395751573714\n",
      "Order (2, 1, 6): MAE = 4.452682326237593\n",
      "Best Order for Stock ID 95: (0, 1, 4)\n",
      "Best MAE for Stock ID 95: 4.445315616991561\n",
      "\n",
      "Training and evaluating for Stock ID: 96\n",
      "Training Set Date Range: 0 -- 477\n",
      "Testing Set Date Range: 478 -- 480\n",
      "Order (0, 0, 0): MAE = 5.908598309578611\n",
      "Order (0, 0, 1): MAE = 5.919781547507236\n",
      "Order (0, 0, 2): MAE = 5.908510352653308\n",
      "Order (0, 0, 3): MAE = 5.912517876800304\n",
      "Order (0, 0, 4): MAE = 5.9037608574364695\n",
      "Order (0, 0, 5): MAE = 5.9070982805535985\n",
      "Order (0, 0, 6): MAE = 5.907235792680955\n",
      "Order (0, 1, 0): MAE = 6.89169489409697\n",
      "Order (0, 1, 1): MAE = 6.637672253236141\n",
      "Order (0, 1, 2): MAE = 6.614374769930024\n",
      "Order (0, 1, 3): MAE = 5.80373227875447\n",
      "Order (0, 1, 4): MAE = 5.972810160166272\n",
      "Order (0, 1, 5): MAE = 5.953845649196652\n",
      "Order (0, 1, 6): MAE = 5.907883824708577\n",
      "Order (1, 0, 0): MAE = 5.896914686962906\n",
      "Order (1, 0, 1): MAE = 5.899807485318416\n",
      "Order (1, 0, 2): MAE = 5.900325155949195\n",
      "Order (1, 0, 3): MAE = 5.902436360961991\n",
      "Order (1, 0, 4): MAE = 5.899880421615121\n",
      "Order (1, 0, 5): MAE = 5.907207536929755\n",
      "Order (1, 0, 6): MAE = 5.907882944154783\n",
      "Order (1, 1, 0): MAE = 6.665600734433213\n",
      "Order (1, 1, 1): MAE = 5.921357779896562\n",
      "Order (1, 1, 2): MAE = 5.9053553951616395\n",
      "Order (1, 1, 3): MAE = 5.900621973096921\n",
      "Order (1, 1, 4): MAE = 5.987356993012792\n",
      "Order (1, 1, 5): MAE = 5.899938381037998\n",
      "Order (1, 1, 6): MAE = 5.908353421541059\n",
      "Order (2, 0, 0): MAE = 5.900278087554845\n",
      "Order (2, 0, 1): MAE = 5.911880465024978\n",
      "Order (2, 0, 2): MAE = 5.908027001933049\n",
      "Order (2, 0, 3): MAE = 5.907056668815993\n",
      "Order (2, 0, 4): MAE = 5.903891055356686\n",
      "Order (2, 0, 5): MAE = 5.907684654597327\n",
      "Order (2, 0, 6): MAE = 5.907255657404366\n",
      "Order (2, 1, 0): MAE = 6.6573031923538535\n",
      "Order (2, 1, 1): MAE = 5.9010567887075585\n",
      "Order (2, 1, 2): MAE = 5.901054053337576\n",
      "Order (2, 1, 3): MAE = 5.901383265476899\n"
     ]
    },
    {
     "name": "stderr",
     "output_type": "stream",
     "text": [
      "/Users/alikhan/anaconda3/lib/python3.10/site-packages/statsmodels/base/model.py:604: ConvergenceWarning: Maximum Likelihood optimization failed to converge. Check mle_retvals\n",
      "  warnings.warn(\"Maximum Likelihood optimization failed to \"\n"
     ]
    },
    {
     "name": "stdout",
     "output_type": "stream",
     "text": [
      "Order (2, 1, 4): MAE = 5.903851790780132\n",
      "Order (2, 1, 5): MAE = 5.92453652565168\n"
     ]
    },
    {
     "name": "stderr",
     "output_type": "stream",
     "text": [
      "/Users/alikhan/anaconda3/lib/python3.10/site-packages/statsmodels/base/model.py:604: ConvergenceWarning: Maximum Likelihood optimization failed to converge. Check mle_retvals\n",
      "  warnings.warn(\"Maximum Likelihood optimization failed to \"\n"
     ]
    },
    {
     "name": "stdout",
     "output_type": "stream",
     "text": [
      "Order (2, 1, 6): MAE = 5.913756503912848\n",
      "Best Order for Stock ID 96: (0, 1, 3)\n",
      "Best MAE for Stock ID 96: 5.80373227875447\n",
      "\n",
      "Training and evaluating for Stock ID: 97\n",
      "Training Set Date Range: 0 -- 477\n",
      "Testing Set Date Range: 478 -- 480\n",
      "Order (0, 0, 0): MAE = 4.952823092673074\n",
      "Order (0, 0, 1): MAE = 4.953504838116949\n",
      "Order (0, 0, 2): MAE = 4.952702530709427\n",
      "Order (0, 0, 3): MAE = 4.9533799444288\n",
      "Order (0, 0, 4): MAE = 4.953105096051546\n",
      "Order (0, 0, 5): MAE = 4.957446733081382\n",
      "Order (0, 0, 6): MAE = 4.956694693752129\n",
      "Order (0, 1, 0): MAE = 5.794257834606061\n",
      "Order (0, 1, 1): MAE = 5.613033422762768\n",
      "Order (0, 1, 2): MAE = 5.547711275901444\n",
      "Order (0, 1, 3): MAE = 4.910392130134785\n",
      "Order (0, 1, 4): MAE = 4.930749491036175\n",
      "Order (0, 1, 5): MAE = 4.9462594894599325\n",
      "Order (0, 1, 6): MAE = 4.957530654660321\n",
      "Order (1, 0, 0): MAE = 4.951674242010599\n",
      "Order (1, 0, 1): MAE = 4.951676446596861\n",
      "Order (1, 0, 2): MAE = 4.9520176417906745\n",
      "Order (1, 0, 3): MAE = 4.953783231160004\n",
      "Order (1, 0, 4): MAE = 4.954580446310261\n",
      "Order (1, 0, 5): MAE = 4.956840709193764\n",
      "Order (1, 0, 6): MAE = 4.956845926990154\n",
      "Order (1, 1, 0): MAE = 5.647416500663576\n",
      "Order (1, 1, 1): MAE = 4.951776952992318\n",
      "Order (1, 1, 2): MAE = 4.943885779182339\n",
      "Order (1, 1, 3): MAE = 4.9521157319522064\n",
      "Order (1, 1, 4): MAE = 4.927047100735665\n"
     ]
    },
    {
     "name": "stderr",
     "output_type": "stream",
     "text": [
      "/Users/alikhan/anaconda3/lib/python3.10/site-packages/statsmodels/base/model.py:604: ConvergenceWarning: Maximum Likelihood optimization failed to converge. Check mle_retvals\n",
      "  warnings.warn(\"Maximum Likelihood optimization failed to \"\n"
     ]
    },
    {
     "name": "stdout",
     "output_type": "stream",
     "text": [
      "Order (1, 1, 5): MAE = 4.954701825291848\n"
     ]
    },
    {
     "name": "stderr",
     "output_type": "stream",
     "text": [
      "/Users/alikhan/anaconda3/lib/python3.10/site-packages/statsmodels/base/model.py:604: ConvergenceWarning: Maximum Likelihood optimization failed to converge. Check mle_retvals\n",
      "  warnings.warn(\"Maximum Likelihood optimization failed to \"\n"
     ]
    },
    {
     "name": "stdout",
     "output_type": "stream",
     "text": [
      "Order (1, 1, 6): MAE = 4.956914652971165\n",
      "Order (2, 0, 0): MAE = 4.951677446882188\n",
      "Order (2, 0, 1): MAE = 4.951797677715102\n",
      "Order (2, 0, 2): MAE = 4.955437948336314\n",
      "Order (2, 0, 3): MAE = 4.955509201397143\n",
      "Order (2, 0, 4): MAE = 4.955391475261076\n",
      "Order (2, 0, 5): MAE = 4.95667416835416\n",
      "Order (2, 0, 6): MAE = 4.956948771648888\n",
      "Order (2, 1, 0): MAE = 5.600236772596682\n",
      "Order (2, 1, 1): MAE = 4.951408500604484\n",
      "Order (2, 1, 2): MAE = 4.952201460724242\n"
     ]
    },
    {
     "name": "stderr",
     "output_type": "stream",
     "text": [
      "/Users/alikhan/anaconda3/lib/python3.10/site-packages/statsmodels/base/model.py:604: ConvergenceWarning: Maximum Likelihood optimization failed to converge. Check mle_retvals\n",
      "  warnings.warn(\"Maximum Likelihood optimization failed to \"\n"
     ]
    },
    {
     "name": "stdout",
     "output_type": "stream",
     "text": [
      "Order (2, 1, 3): MAE = 4.951886973300823\n"
     ]
    },
    {
     "name": "stderr",
     "output_type": "stream",
     "text": [
      "/Users/alikhan/anaconda3/lib/python3.10/site-packages/statsmodels/base/model.py:604: ConvergenceWarning: Maximum Likelihood optimization failed to converge. Check mle_retvals\n",
      "  warnings.warn(\"Maximum Likelihood optimization failed to \"\n"
     ]
    },
    {
     "name": "stdout",
     "output_type": "stream",
     "text": [
      "Order (2, 1, 4): MAE = 4.952801102136103\n",
      "Order (2, 1, 5): MAE = 4.946500294057739\n"
     ]
    },
    {
     "name": "stderr",
     "output_type": "stream",
     "text": [
      "/Users/alikhan/anaconda3/lib/python3.10/site-packages/statsmodels/base/model.py:604: ConvergenceWarning: Maximum Likelihood optimization failed to converge. Check mle_retvals\n",
      "  warnings.warn(\"Maximum Likelihood optimization failed to \"\n"
     ]
    },
    {
     "name": "stdout",
     "output_type": "stream",
     "text": [
      "Order (2, 1, 6): MAE = 4.956739765569814\n",
      "Best Order for Stock ID 97: (0, 1, 3)\n",
      "Best MAE for Stock ID 97: 4.910392130134785\n",
      "\n",
      "Training and evaluating for Stock ID: 98\n",
      "Training Set Date Range: 0 -- 477\n",
      "Testing Set Date Range: 478 -- 480\n",
      "Order (0, 0, 0): MAE = 5.90839030107709\n",
      "Order (0, 0, 1): MAE = 5.940396208773497\n",
      "Order (0, 0, 2): MAE = 5.983454950282321\n",
      "Order (0, 0, 3): MAE = 5.998597654313039\n",
      "Order (0, 0, 4): MAE = 6.004515081558259\n",
      "Order (0, 0, 5): MAE = 6.089423813174172\n",
      "Order (0, 0, 6): MAE = 6.081254137961671\n",
      "Order (0, 1, 0): MAE = 22.522206456066666\n",
      "Order (0, 1, 1): MAE = 21.105679011019355\n",
      "Order (0, 1, 2): MAE = 19.405723307321427\n",
      "Order (0, 1, 3): MAE = 15.126592645692375\n",
      "Order (0, 1, 4): MAE = 5.997231832936\n",
      "Order (0, 1, 5): MAE = 6.003967903000466\n",
      "Order (0, 1, 6): MAE = 6.0884783396408215\n",
      "Order (1, 0, 0): MAE = 6.042572648640764\n",
      "Order (1, 0, 1): MAE = 6.040799696250828\n",
      "Order (1, 0, 2): MAE = 6.044129074078671\n",
      "Order (1, 0, 3): MAE = 6.061156921430397\n",
      "Order (1, 0, 4): MAE = 6.083051314671114\n",
      "Order (1, 0, 5): MAE = 6.082636948212253\n",
      "Order (1, 0, 6): MAE = 6.077184999842766\n",
      "Order (1, 1, 0): MAE = 21.398370866983008\n",
      "Order (1, 1, 1): MAE = 6.041237079744358\n",
      "Order (1, 1, 2): MAE = 6.036602159323193\n",
      "Order (1, 1, 3): MAE = 6.043017824209342\n",
      "Order (1, 1, 4): MAE = 6.060037818053402\n",
      "Order (1, 1, 5): MAE = 6.081945663047759\n",
      "Order (1, 1, 6): MAE = 6.08172896799134\n",
      "Order (2, 0, 0): MAE = 6.0409323166539854\n",
      "Order (2, 0, 1): MAE = 6.0907246068122305\n",
      "Order (2, 0, 2): MAE = 6.102678027705472\n",
      "Order (2, 0, 3): MAE = 6.069692542539053\n",
      "Order (2, 0, 4): MAE = 6.069621232469272\n",
      "Order (2, 0, 5): MAE = 6.073152947073861\n",
      "Order (2, 0, 6): MAE = 6.074002531306781\n",
      "Order (2, 1, 0): MAE = 19.958878523942857\n",
      "Order (2, 1, 1): MAE = 6.038153879348893\n",
      "Order (2, 1, 2): MAE = 22.059788115875072\n",
      "Order (2, 1, 3): MAE = 6.0391327103997545\n",
      "Order (2, 1, 4): MAE = 6.047224532591697\n"
     ]
    },
    {
     "name": "stderr",
     "output_type": "stream",
     "text": [
      "/Users/alikhan/anaconda3/lib/python3.10/site-packages/statsmodels/base/model.py:604: ConvergenceWarning: Maximum Likelihood optimization failed to converge. Check mle_retvals\n",
      "  warnings.warn(\"Maximum Likelihood optimization failed to \"\n"
     ]
    },
    {
     "name": "stdout",
     "output_type": "stream",
     "text": [
      "Order (2, 1, 5): MAE = 6.068539935029022\n"
     ]
    },
    {
     "name": "stderr",
     "output_type": "stream",
     "text": [
      "/Users/alikhan/anaconda3/lib/python3.10/site-packages/statsmodels/base/model.py:604: ConvergenceWarning: Maximum Likelihood optimization failed to converge. Check mle_retvals\n",
      "  warnings.warn(\"Maximum Likelihood optimization failed to \"\n"
     ]
    },
    {
     "name": "stdout",
     "output_type": "stream",
     "text": [
      "Order (2, 1, 6): MAE = 6.072256742622597\n",
      "Best Order for Stock ID 98: (0, 0, 0)\n",
      "Best MAE for Stock ID 98: 5.90839030107709\n",
      "\n",
      "Training and evaluating for Stock ID: 99\n",
      "Training Set Date Range: 0 -- 477\n",
      "Testing Set Date Range: 478 -- 480\n",
      "Order (0, 0, 0): MAE = 6.637673137332477\n",
      "Order (0, 0, 1): MAE = 6.642771215032343\n",
      "Order (0, 0, 2): MAE = 6.648030455843267\n",
      "Order (0, 0, 3): MAE = 6.6495581488691995\n",
      "Order (0, 0, 4): MAE = 6.647771723681751\n",
      "Order (0, 0, 5): MAE = 6.657399862917448\n",
      "Order (0, 0, 6): MAE = 6.656151843150458\n",
      "Order (0, 1, 0): MAE = 9.242343190545455\n",
      "Order (0, 1, 1): MAE = 9.085057832265575\n",
      "Order (0, 1, 2): MAE = 8.99052912583721\n",
      "Order (0, 1, 3): MAE = 7.685966203310784\n",
      "Order (0, 1, 4): MAE = 6.654745236820816\n",
      "Order (0, 1, 5): MAE = 6.665443983178766\n",
      "Order (0, 1, 6): MAE = 6.65738030792316\n",
      "Order (1, 0, 0): MAE = 6.664235933733173\n",
      "Order (1, 0, 1): MAE = 6.662706637859468\n",
      "Order (1, 0, 2): MAE = 6.6612374333834365\n",
      "Order (1, 0, 3): MAE = 6.659762925861432\n",
      "Order (1, 0, 4): MAE = 6.656207737052248\n",
      "Order (1, 0, 5): MAE = 6.6563359839003775\n",
      "Order (1, 0, 6): MAE = 6.654431985687474\n",
      "Order (1, 1, 0): MAE = 9.107818213360998\n",
      "Order (1, 1, 1): MAE = 6.664306254150059\n",
      "Order (1, 1, 2): MAE = 6.663077524246573\n",
      "Order (1, 1, 3): MAE = 6.6613340824908285\n",
      "Order (1, 1, 4): MAE = 6.64423709067549\n",
      "Order (1, 1, 5): MAE = 6.656187484253047\n"
     ]
    },
    {
     "name": "stderr",
     "output_type": "stream",
     "text": [
      "/Users/alikhan/anaconda3/lib/python3.10/site-packages/statsmodels/base/model.py:604: ConvergenceWarning: Maximum Likelihood optimization failed to converge. Check mle_retvals\n",
      "  warnings.warn(\"Maximum Likelihood optimization failed to \"\n"
     ]
    },
    {
     "name": "stdout",
     "output_type": "stream",
     "text": [
      "Order (1, 1, 6): MAE = 6.656310503585793\n",
      "Order (2, 0, 0): MAE = 6.662362624239949\n",
      "Order (2, 0, 1): MAE = 6.6631352129367185\n",
      "Order (2, 0, 2): MAE = 6.654437925135463\n",
      "Order (2, 0, 3): MAE = 6.650276056992538\n",
      "Order (2, 0, 4): MAE = 6.65044119181354\n",
      "Order (2, 0, 5): MAE = 6.655713559017774\n",
      "Order (2, 0, 6): MAE = 6.654153027263578\n",
      "Order (2, 1, 0): MAE = 9.035849569767636\n",
      "Order (2, 1, 1): MAE = 6.662507377155536\n",
      "Order (2, 1, 2): MAE = 6.663324313203088\n",
      "Order (2, 1, 3): MAE = 6.663425586855393\n",
      "Order (2, 1, 4): MAE = 6.660822223379656\n",
      "Order (2, 1, 5): MAE = 6.669479065623808\n"
     ]
    },
    {
     "name": "stderr",
     "output_type": "stream",
     "text": [
      "/Users/alikhan/anaconda3/lib/python3.10/site-packages/statsmodels/base/model.py:604: ConvergenceWarning: Maximum Likelihood optimization failed to converge. Check mle_retvals\n",
      "  warnings.warn(\"Maximum Likelihood optimization failed to \"\n"
     ]
    },
    {
     "name": "stdout",
     "output_type": "stream",
     "text": [
      "Order (2, 1, 6): MAE = 6.655957318080288\n",
      "Best Order for Stock ID 99: (0, 0, 0)\n",
      "Best MAE for Stock ID 99: 6.637673137332477\n",
      "\n",
      "Training and evaluating for Stock ID: 100\n",
      "Training Set Date Range: 0 -- 477\n",
      "Testing Set Date Range: 478 -- 480\n",
      "Order (0, 0, 0): MAE = 8.935463716579713\n",
      "Order (0, 0, 1): MAE = 8.96015197386197\n",
      "Order (0, 0, 2): MAE = 8.97930666298883\n",
      "Order (0, 0, 3): MAE = 8.99545275695725\n",
      "Order (0, 0, 4): MAE = 8.984325547725302\n",
      "Order (0, 0, 5): MAE = 9.033568687501882\n",
      "Order (0, 0, 6): MAE = 9.031929702783689\n",
      "Order (0, 1, 0): MAE = 11.946338564\n",
      "Order (0, 1, 1): MAE = 11.527378255438824\n",
      "Order (0, 1, 2): MAE = 11.107154192687974\n",
      "Order (0, 1, 3): MAE = 9.197401303673706\n",
      "Order (0, 1, 4): MAE = 9.023188120923331\n",
      "Order (0, 1, 5): MAE = 9.005236466149283\n",
      "Order (0, 1, 6): MAE = 9.037457425293494\n",
      "Order (1, 0, 0): MAE = 8.969051770200133\n",
      "Order (1, 0, 1): MAE = 8.978858617758297\n",
      "Order (1, 0, 2): MAE = 8.987848232449716\n",
      "Order (1, 0, 3): MAE = 8.993471656415975\n",
      "Order (1, 0, 4): MAE = 9.00486114514196\n",
      "Order (1, 0, 5): MAE = 9.031958559060788\n",
      "Order (1, 0, 6): MAE = 9.034950361163487\n",
      "Order (1, 1, 0): MAE = 11.561775806849674\n",
      "Order (1, 1, 1): MAE = 8.972236382669116\n",
      "Order (1, 1, 2): MAE = 8.980213121325304\n",
      "Order (1, 1, 3): MAE = 8.989363452126828\n",
      "Order (1, 1, 4): MAE = 8.994663303740722\n",
      "Order (1, 1, 5): MAE = 9.00570326946036\n",
      "Order (1, 1, 6): MAE = 9.036214209022525\n",
      "Order (2, 0, 0): MAE = 8.981920496758308\n",
      "Order (2, 0, 1): MAE = 8.973456510282128\n",
      "Order (2, 0, 2): MAE = 9.019534814725377\n",
      "Order (2, 0, 3): MAE = 9.029279243094262\n",
      "Order (2, 0, 4): MAE = 9.021518368581255\n",
      "Order (2, 0, 5): MAE = 9.031904187077071\n",
      "Order (2, 0, 6): MAE = 9.035320782828842\n",
      "Order (2, 1, 0): MAE = 11.211623187194034\n",
      "Order (2, 1, 1): MAE = 8.98345557634126\n",
      "Order (2, 1, 2): MAE = 8.974720817688246\n",
      "Order (2, 1, 3): MAE = 8.977759131979752\n"
     ]
    },
    {
     "name": "stderr",
     "output_type": "stream",
     "text": [
      "/Users/alikhan/anaconda3/lib/python3.10/site-packages/statsmodels/base/model.py:604: ConvergenceWarning: Maximum Likelihood optimization failed to converge. Check mle_retvals\n",
      "  warnings.warn(\"Maximum Likelihood optimization failed to \"\n"
     ]
    },
    {
     "name": "stdout",
     "output_type": "stream",
     "text": [
      "Order (2, 1, 4): MAE = 8.992820199813114\n",
      "Order (2, 1, 5): MAE = 8.992941672384164\n",
      "Order (2, 1, 6): MAE = 9.03610152728279\n",
      "Best Order for Stock ID 100: (0, 0, 0)\n",
      "Best MAE for Stock ID 100: 8.935463716579713\n",
      "\n",
      "Training and evaluating for Stock ID: 101\n",
      "Training Set Date Range: 0 -- 477\n",
      "Testing Set Date Range: 478 -- 480\n",
      "Order (0, 0, 0): MAE = 9.553122424359541\n",
      "Order (0, 0, 1): MAE = 9.553277975916458\n",
      "Order (0, 0, 2): MAE = 9.553093545520595\n",
      "Order (0, 0, 3): MAE = 9.552708435707185\n",
      "Order (0, 0, 4): MAE = 9.55132660560996\n",
      "Order (0, 0, 5): MAE = 9.55158015297445\n",
      "Order (0, 0, 6): MAE = 9.552374208942053\n",
      "Order (0, 1, 0): MAE = 9.440129470727273\n",
      "Order (0, 1, 1): MAE = 9.43094987940443\n",
      "Order (0, 1, 2): MAE = 9.431235599720628\n",
      "Order (0, 1, 3): MAE = 9.553145846246835\n",
      "Order (0, 1, 4): MAE = 9.552717435087903\n",
      "Order (0, 1, 5): MAE = 9.551370464209192\n"
     ]
    },
    {
     "name": "stderr",
     "output_type": "stream",
     "text": [
      "/Users/alikhan/anaconda3/lib/python3.10/site-packages/statsmodels/base/model.py:604: ConvergenceWarning: Maximum Likelihood optimization failed to converge. Check mle_retvals\n",
      "  warnings.warn(\"Maximum Likelihood optimization failed to \"\n"
     ]
    },
    {
     "name": "stdout",
     "output_type": "stream",
     "text": [
      "Order (0, 1, 6): MAE = 9.551707387217919\n",
      "Order (1, 0, 0): MAE = 9.551533879144081\n",
      "Order (1, 0, 1): MAE = 9.550970115038561\n",
      "Order (1, 0, 2): MAE = 9.551211212874378\n",
      "Order (1, 0, 3): MAE = 9.55095552544135\n",
      "Order (1, 0, 4): MAE = 9.550431109142723\n",
      "Order (1, 0, 5): MAE = 9.551692085495816\n",
      "Order (1, 0, 6): MAE = 9.554435070760459\n",
      "Order (1, 1, 0): MAE = 9.430964243527539\n",
      "Order (1, 1, 1): MAE = 9.549900162075907\n",
      "Order (1, 1, 2): MAE = 9.4315200730193\n",
      "Order (1, 1, 3): MAE = 9.551014399696376\n"
     ]
    },
    {
     "name": "stderr",
     "output_type": "stream",
     "text": [
      "/Users/alikhan/anaconda3/lib/python3.10/site-packages/statsmodels/base/model.py:604: ConvergenceWarning: Maximum Likelihood optimization failed to converge. Check mle_retvals\n",
      "  warnings.warn(\"Maximum Likelihood optimization failed to \"\n"
     ]
    },
    {
     "name": "stdout",
     "output_type": "stream",
     "text": [
      "Order (1, 1, 4): MAE = 9.553794845606701\n"
     ]
    },
    {
     "name": "stderr",
     "output_type": "stream",
     "text": [
      "/Users/alikhan/anaconda3/lib/python3.10/site-packages/statsmodels/base/model.py:604: ConvergenceWarning: Maximum Likelihood optimization failed to converge. Check mle_retvals\n",
      "  warnings.warn(\"Maximum Likelihood optimization failed to \"\n"
     ]
    },
    {
     "name": "stdout",
     "output_type": "stream",
     "text": [
      "Order (1, 1, 5): MAE = 9.554106162488209\n"
     ]
    },
    {
     "name": "stderr",
     "output_type": "stream",
     "text": [
      "/Users/alikhan/anaconda3/lib/python3.10/site-packages/statsmodels/base/model.py:604: ConvergenceWarning: Maximum Likelihood optimization failed to converge. Check mle_retvals\n",
      "  warnings.warn(\"Maximum Likelihood optimization failed to \"\n"
     ]
    },
    {
     "name": "stdout",
     "output_type": "stream",
     "text": [
      "Order (1, 1, 6): MAE = 9.55169442456215\n",
      "Order (2, 0, 0): MAE = 9.550941306716556\n",
      "Order (2, 0, 1): MAE = 9.551066523401513\n",
      "Order (2, 0, 2): MAE = 9.553963533460093\n",
      "Order (2, 0, 3): MAE = 9.552025874149116\n",
      "Order (2, 0, 4): MAE = 9.551990183846968\n",
      "Order (2, 0, 5): MAE = 9.552231788676355\n",
      "Order (2, 0, 6): MAE = 9.555412598733762\n",
      "Order (2, 1, 0): MAE = 9.430731654606735\n",
      "Order (2, 1, 1): MAE = 9.547738318993215\n",
      "Order (2, 1, 2): MAE = 9.551775835514688\n"
     ]
    },
    {
     "name": "stderr",
     "output_type": "stream",
     "text": [
      "/Users/alikhan/anaconda3/lib/python3.10/site-packages/statsmodels/base/model.py:604: ConvergenceWarning: Maximum Likelihood optimization failed to converge. Check mle_retvals\n",
      "  warnings.warn(\"Maximum Likelihood optimization failed to \"\n"
     ]
    },
    {
     "name": "stdout",
     "output_type": "stream",
     "text": [
      "Order (2, 1, 3): MAE = 9.55107253592069\n"
     ]
    },
    {
     "name": "stderr",
     "output_type": "stream",
     "text": [
      "/Users/alikhan/anaconda3/lib/python3.10/site-packages/statsmodels/base/model.py:604: ConvergenceWarning: Maximum Likelihood optimization failed to converge. Check mle_retvals\n",
      "  warnings.warn(\"Maximum Likelihood optimization failed to \"\n"
     ]
    },
    {
     "name": "stdout",
     "output_type": "stream",
     "text": [
      "Order (2, 1, 4): MAE = 9.553903962204501\n",
      "Order (2, 1, 5): MAE = 9.535875556354018\n",
      "Order (2, 1, 6): MAE = 9.545102349192787\n",
      "Best Order for Stock ID 101: (2, 1, 0)\n",
      "Best MAE for Stock ID 101: 9.430731654606735\n",
      "\n",
      "Training and evaluating for Stock ID: 103\n",
      "Training Set Date Range: 0 -- 477\n",
      "Testing Set Date Range: 478 -- 480\n",
      "Order (0, 0, 0): MAE = 5.213441122791671\n",
      "Order (0, 0, 1): MAE = 5.212888558920091\n",
      "Order (0, 0, 2): MAE = 5.212152516892754\n",
      "Order (0, 0, 3): MAE = 5.211554112919833\n",
      "Order (0, 0, 4): MAE = 5.213154479805603\n",
      "Order (0, 0, 5): MAE = 5.217478958239619\n",
      "Order (0, 0, 6): MAE = 5.217315684420014\n",
      "Order (0, 1, 0): MAE = 5.230788014751515\n",
      "Order (0, 1, 1): MAE = 5.17861316325233\n",
      "Order (0, 1, 2): MAE = 5.183885201841834\n",
      "Order (0, 1, 3): MAE = 5.105912039484005\n",
      "Order (0, 1, 4): MAE = 5.204568408010682\n",
      "Order (0, 1, 5): MAE = 5.210433742067846\n",
      "Order (0, 1, 6): MAE = 5.217426348827627\n",
      "Order (1, 0, 0): MAE = 5.209103471284295\n",
      "Order (1, 0, 1): MAE = 5.209063007936442\n",
      "Order (1, 0, 2): MAE = 5.209317769976172\n",
      "Order (1, 0, 3): MAE = 5.211605237704897\n",
      "Order (1, 0, 4): MAE = 5.214277085181916\n",
      "Order (1, 0, 5): MAE = 5.217269595909754\n",
      "Order (1, 0, 6): MAE = 5.217799580612716\n",
      "Order (1, 1, 0): MAE = 5.180631875522763\n",
      "Order (1, 1, 1): MAE = 5.20821798373202\n",
      "Order (1, 1, 2): MAE = 5.206325018738308\n",
      "Order (1, 1, 3): MAE = 5.208824072151061\n",
      "Order (1, 1, 4): MAE = 5.204089884167874\n",
      "Order (1, 1, 5): MAE = 5.214064950771695\n"
     ]
    },
    {
     "name": "stderr",
     "output_type": "stream",
     "text": [
      "/Users/alikhan/anaconda3/lib/python3.10/site-packages/statsmodels/base/model.py:604: ConvergenceWarning: Maximum Likelihood optimization failed to converge. Check mle_retvals\n",
      "  warnings.warn(\"Maximum Likelihood optimization failed to \"\n"
     ]
    },
    {
     "name": "stdout",
     "output_type": "stream",
     "text": [
      "Order (1, 1, 6): MAE = 5.216998169767151\n",
      "Order (2, 0, 0): MAE = 5.2090604620846515\n",
      "Order (2, 0, 1): MAE = 5.208774339846759\n",
      "Order (2, 0, 2): MAE = 5.2117597466406815\n",
      "Order (2, 0, 3): MAE = 5.219088837374176\n",
      "Order (2, 0, 4): MAE = 5.217108718376397\n",
      "Order (2, 0, 5): MAE = 5.21740039936121\n",
      "Order (2, 0, 6): MAE = 5.218027302628634\n",
      "Order (2, 1, 0): MAE = 5.189768843647155\n",
      "Order (2, 1, 1): MAE = 5.208935255926501\n",
      "Order (2, 1, 2): MAE = 5.20931146901695\n",
      "Order (2, 1, 3): MAE = 5.2087124501422\n"
     ]
    },
    {
     "name": "stderr",
     "output_type": "stream",
     "text": [
      "/Users/alikhan/anaconda3/lib/python3.10/site-packages/statsmodels/base/model.py:604: ConvergenceWarning: Maximum Likelihood optimization failed to converge. Check mle_retvals\n",
      "  warnings.warn(\"Maximum Likelihood optimization failed to \"\n"
     ]
    },
    {
     "name": "stdout",
     "output_type": "stream",
     "text": [
      "Order (2, 1, 4): MAE = 5.208794698418226\n"
     ]
    },
    {
     "name": "stderr",
     "output_type": "stream",
     "text": [
      "/Users/alikhan/anaconda3/lib/python3.10/site-packages/statsmodels/base/model.py:604: ConvergenceWarning: Maximum Likelihood optimization failed to converge. Check mle_retvals\n",
      "  warnings.warn(\"Maximum Likelihood optimization failed to \"\n"
     ]
    },
    {
     "name": "stdout",
     "output_type": "stream",
     "text": [
      "Order (2, 1, 5): MAE = 5.212087362892522\n"
     ]
    },
    {
     "name": "stderr",
     "output_type": "stream",
     "text": [
      "/Users/alikhan/anaconda3/lib/python3.10/site-packages/statsmodels/base/model.py:604: ConvergenceWarning: Maximum Likelihood optimization failed to converge. Check mle_retvals\n",
      "  warnings.warn(\"Maximum Likelihood optimization failed to \"\n"
     ]
    },
    {
     "name": "stdout",
     "output_type": "stream",
     "text": [
      "Order (2, 1, 6): MAE = 5.217163521621609\n",
      "Best Order for Stock ID 103: (0, 1, 3)\n",
      "Best MAE for Stock ID 103: 5.105912039484005\n",
      "\n",
      "Training and evaluating for Stock ID: 104\n",
      "Training Set Date Range: 0 -- 477\n",
      "Testing Set Date Range: 478 -- 480\n",
      "Order (0, 0, 0): MAE = 6.008399883853097\n",
      "Order (0, 0, 1): MAE = 6.022513347344511\n",
      "Order (0, 0, 2): MAE = 6.0283717251594675\n",
      "Order (0, 0, 3): MAE = 6.037025881807791\n",
      "Order (0, 0, 4): MAE = 6.034352654086889\n",
      "Order (0, 0, 5): MAE = 6.048135748587993\n",
      "Order (0, 0, 6): MAE = 6.046292165812134\n",
      "Order (0, 1, 0): MAE = 10.643984623575754\n",
      "Order (0, 1, 1): MAE = 10.321776783022088\n",
      "Order (0, 1, 2): MAE = 10.232976929212004\n",
      "Order (0, 1, 3): MAE = 8.983643209076364\n",
      "Order (0, 1, 4): MAE = 6.294675743414512\n",
      "Order (0, 1, 5): MAE = 6.161350886152405\n",
      "Order (0, 1, 6): MAE = 6.063214275143987\n",
      "Order (1, 0, 0): MAE = 6.070660949890064\n",
      "Order (1, 0, 1): MAE = 6.067913915950416\n",
      "Order (1, 0, 2): MAE = 6.064526378538476\n",
      "Order (1, 0, 3): MAE = 6.060086467704326\n",
      "Order (1, 0, 4): MAE = 6.048536543058995\n",
      "Order (1, 0, 5): MAE = 6.046483042773991\n",
      "Order (1, 0, 6): MAE = 6.045389625951688\n",
      "Order (1, 1, 0): MAE = 10.363974534925608\n",
      "Order (1, 1, 1): MAE = 6.096750065180791\n",
      "Order (1, 1, 2): MAE = 6.090613064482355\n",
      "Order (1, 1, 3): MAE = 6.075203582193328\n",
      "Order (1, 1, 4): MAE = 6.896885751541186\n",
      "Order (1, 1, 5): MAE = 6.060284399057667\n",
      "Order (1, 1, 6): MAE = 6.062953663098988\n",
      "Order (2, 0, 0): MAE = 6.067326598673837\n",
      "Order (2, 0, 1): MAE = 6.070482354249315\n",
      "Order (2, 0, 2): MAE = 6.048201864221565\n",
      "Order (2, 0, 3): MAE = 6.036486802843986\n",
      "Order (2, 0, 4): MAE = 6.037438157278164\n",
      "Order (2, 0, 5): MAE = 6.046101610093639\n"
     ]
    },
    {
     "name": "stderr",
     "output_type": "stream",
     "text": [
      "/Users/alikhan/anaconda3/lib/python3.10/site-packages/statsmodels/base/model.py:604: ConvergenceWarning: Maximum Likelihood optimization failed to converge. Check mle_retvals\n",
      "  warnings.warn(\"Maximum Likelihood optimization failed to \"\n"
     ]
    },
    {
     "name": "stdout",
     "output_type": "stream",
     "text": [
      "Order (2, 0, 6): MAE = 6.045926157594171\n",
      "Order (2, 1, 0): MAE = 10.29047060097618\n",
      "Order (2, 1, 1): MAE = 6.077061491962435\n",
      "Order (2, 1, 2): MAE = 10.29758371334204\n",
      "Order (2, 1, 3): MAE = 6.079462672327652\n",
      "Order (2, 1, 4): MAE = 6.0751078262708\n",
      "Order (2, 1, 5): MAE = 6.060474910690931\n",
      "Order (2, 1, 6): MAE = 6.063874690745569\n",
      "Best Order for Stock ID 104: (0, 0, 0)\n",
      "Best MAE for Stock ID 104: 6.008399883853097\n",
      "\n",
      "Training and evaluating for Stock ID: 105\n",
      "Training Set Date Range: 0 -- 477\n",
      "Testing Set Date Range: 478 -- 480\n",
      "Order (0, 0, 0): MAE = 2.5520552533751664\n",
      "Order (0, 0, 1): MAE = 2.553886029072656\n",
      "Order (0, 0, 2): MAE = 2.5564011129301867\n",
      "Order (0, 0, 3): MAE = 2.5563245372854415\n",
      "Order (0, 0, 4): MAE = 2.558524380411583\n",
      "Order (0, 0, 5): MAE = 2.556950085159346\n",
      "Order (0, 0, 6): MAE = 2.5569713093994895\n",
      "Order (0, 1, 0): MAE = 3.1304648215333333\n",
      "Order (0, 1, 1): MAE = 3.0276027587887078\n",
      "Order (0, 1, 2): MAE = 2.985394711169466\n",
      "Order (0, 1, 3): MAE = 2.833760763220683\n",
      "Order (0, 1, 4): MAE = 2.5453595265044338\n",
      "Order (0, 1, 5): MAE = 2.589511510535846\n",
      "Order (0, 1, 6): MAE = 2.5512604074085266\n",
      "Order (1, 0, 0): MAE = 2.5600951351344325\n",
      "Order (1, 0, 1): MAE = 2.560326715720841\n",
      "Order (1, 0, 2): MAE = 2.5600529117204696\n",
      "Order (1, 0, 3): MAE = 2.5600175021133404\n",
      "Order (1, 0, 4): MAE = 2.561057048397836\n",
      "Order (1, 0, 5): MAE = 2.5569716135905756\n",
      "Order (1, 0, 6): MAE = 2.557004482917389\n",
      "Order (1, 1, 0): MAE = 3.0390137552103997\n",
      "Order (1, 1, 1): MAE = 2.557436236023121\n",
      "Order (1, 1, 2): MAE = 2.5579367925287353\n",
      "Order (1, 1, 3): MAE = 2.5569743426394695\n",
      "Order (1, 1, 4): MAE = 2.556662917222324\n",
      "Order (1, 1, 5): MAE = 2.557169454123017\n",
      "Order (1, 1, 6): MAE = 2.551347574466165\n",
      "Order (2, 0, 0): MAE = 2.5603368434173865\n",
      "Order (2, 0, 1): MAE = 2.5584015072639397\n",
      "Order (2, 0, 2): MAE = 2.559904269558164\n",
      "Order (2, 0, 3): MAE = 2.5582281386168897\n",
      "Order (2, 0, 4): MAE = 2.55781756712659\n",
      "Order (2, 0, 5): MAE = 2.5569768086547784\n",
      "Order (2, 0, 6): MAE = 2.55699955466437\n",
      "Order (2, 1, 0): MAE = 3.0039500637392336\n",
      "Order (2, 1, 1): MAE = 2.5577716934737915\n",
      "Order (2, 1, 2): MAE = 2.5558373007017376\n",
      "Order (2, 1, 3): MAE = 2.5558347978224027\n",
      "Order (2, 1, 4): MAE = 2.553944802196416\n",
      "Order (2, 1, 5): MAE = 2.5513752199499966\n",
      "Order (2, 1, 6): MAE = 2.551212983034368\n",
      "Best Order for Stock ID 105: (0, 1, 4)\n",
      "Best MAE for Stock ID 105: 2.5453595265044338\n",
      "\n",
      "Training and evaluating for Stock ID: 106\n",
      "Training Set Date Range: 0 -- 477\n",
      "Testing Set Date Range: 478 -- 480\n",
      "Order (0, 0, 0): MAE = 3.311263545670661\n",
      "Order (0, 0, 1): MAE = 3.312735342147375\n",
      "Order (0, 0, 2): MAE = 3.31217210801952\n",
      "Order (0, 0, 3): MAE = 3.3124206528397893\n",
      "Order (0, 0, 4): MAE = 3.3087991262604355\n",
      "Order (0, 0, 5): MAE = 3.3195618223155168\n",
      "Order (0, 0, 6): MAE = 3.318189558251902\n",
      "Order (0, 1, 0): MAE = 4.282954958939394\n",
      "Order (0, 1, 1): MAE = 3.902522323516532\n",
      "Order (0, 1, 2): MAE = 3.797630802774503\n",
      "Order (0, 1, 3): MAE = 3.3503270888866936\n",
      "Order (0, 1, 4): MAE = 3.3121372506336746\n",
      "Order (0, 1, 5): MAE = 3.308511858653063\n",
      "Order (0, 1, 6): MAE = 3.319183298383686\n",
      "Order (1, 0, 0): MAE = 3.306485309935095\n",
      "Order (1, 0, 1): MAE = 3.3060930817624863\n",
      "Order (1, 0, 2): MAE = 3.3067951290511455\n",
      "Order (1, 0, 3): MAE = 3.3085671160211287\n",
      "Order (1, 0, 4): MAE = 3.309251595382766\n",
      "Order (1, 0, 5): MAE = 3.3183548938957634\n",
      "Order (1, 0, 6): MAE = 3.316853354203552\n",
      "Order (1, 1, 0): MAE = 3.9798033844102996\n",
      "Order (1, 1, 1): MAE = 3.2918933635959635\n",
      "Order (1, 1, 2): MAE = 3.304928042928123\n",
      "Order (1, 1, 3): MAE = 3.305282572841596\n",
      "Order (1, 1, 4): MAE = 3.315452043138572\n",
      "Order (1, 1, 5): MAE = 3.30882254189336\n"
     ]
    },
    {
     "name": "stderr",
     "output_type": "stream",
     "text": [
      "/Users/alikhan/anaconda3/lib/python3.10/site-packages/statsmodels/base/model.py:604: ConvergenceWarning: Maximum Likelihood optimization failed to converge. Check mle_retvals\n",
      "  warnings.warn(\"Maximum Likelihood optimization failed to \"\n"
     ]
    },
    {
     "name": "stdout",
     "output_type": "stream",
     "text": [
      "Order (1, 1, 6): MAE = 3.3180140802670737\n",
      "Order (2, 0, 0): MAE = 3.30607577718022\n",
      "Order (2, 0, 1): MAE = 3.305194240297171\n",
      "Order (2, 0, 2): MAE = 3.312246188678492\n",
      "Order (2, 0, 3): MAE = 3.3128895070919415\n",
      "Order (2, 0, 4): MAE = 3.31165203332156\n",
      "Order (2, 0, 5): MAE = 3.3181051616834902\n"
     ]
    },
    {
     "name": "stderr",
     "output_type": "stream",
     "text": [
      "/Users/alikhan/anaconda3/lib/python3.10/site-packages/statsmodels/base/model.py:604: ConvergenceWarning: Maximum Likelihood optimization failed to converge. Check mle_retvals\n",
      "  warnings.warn(\"Maximum Likelihood optimization failed to \"\n"
     ]
    },
    {
     "name": "stdout",
     "output_type": "stream",
     "text": [
      "Order (2, 0, 6): MAE = 3.3125119482524745\n",
      "Order (2, 1, 0): MAE = 3.8654779836788884\n",
      "Order (2, 1, 1): MAE = 3.3045963080175333\n",
      "Order (2, 1, 2): MAE = 3.30827940428708\n"
     ]
    },
    {
     "name": "stderr",
     "output_type": "stream",
     "text": [
      "/Users/alikhan/anaconda3/lib/python3.10/site-packages/statsmodels/base/model.py:604: ConvergenceWarning: Maximum Likelihood optimization failed to converge. Check mle_retvals\n",
      "  warnings.warn(\"Maximum Likelihood optimization failed to \"\n"
     ]
    },
    {
     "name": "stdout",
     "output_type": "stream",
     "text": [
      "Order (2, 1, 3): MAE = 3.3069808169396797\n",
      "Order (2, 1, 4): MAE = 3.30884265158593\n"
     ]
    },
    {
     "name": "stderr",
     "output_type": "stream",
     "text": [
      "/Users/alikhan/anaconda3/lib/python3.10/site-packages/statsmodels/base/model.py:604: ConvergenceWarning: Maximum Likelihood optimization failed to converge. Check mle_retvals\n",
      "  warnings.warn(\"Maximum Likelihood optimization failed to \"\n"
     ]
    },
    {
     "name": "stdout",
     "output_type": "stream",
     "text": [
      "Order (2, 1, 5): MAE = 3.310662313865139\n"
     ]
    },
    {
     "name": "stderr",
     "output_type": "stream",
     "text": [
      "/Users/alikhan/anaconda3/lib/python3.10/site-packages/statsmodels/base/model.py:604: ConvergenceWarning: Maximum Likelihood optimization failed to converge. Check mle_retvals\n",
      "  warnings.warn(\"Maximum Likelihood optimization failed to \"\n"
     ]
    },
    {
     "name": "stdout",
     "output_type": "stream",
     "text": [
      "Order (2, 1, 6): MAE = 3.317536191455559\n",
      "Best Order for Stock ID 106: (1, 1, 1)\n",
      "Best MAE for Stock ID 106: 3.2918933635959635\n",
      "\n",
      "Training and evaluating for Stock ID: 107\n",
      "Training Set Date Range: 0 -- 477\n",
      "Testing Set Date Range: 478 -- 480\n",
      "Order (0, 0, 0): MAE = 6.5624435917686466\n",
      "Order (0, 0, 1): MAE = 6.560507541175378\n",
      "Order (0, 0, 2): MAE = 6.5592911840482735\n",
      "Order (0, 0, 3): MAE = 6.557999942385921\n",
      "Order (0, 0, 4): MAE = 6.555117856456021\n",
      "Order (0, 0, 5): MAE = 6.55385157078494\n",
      "Order (0, 0, 6): MAE = 6.554485641696863\n",
      "Order (0, 1, 0): MAE = 6.573832385672727\n",
      "Order (0, 1, 1): MAE = 6.4401579853434985\n",
      "Order (0, 1, 2): MAE = 6.406989473145524\n",
      "Order (0, 1, 3): MAE = 6.509242536966578\n",
      "Order (0, 1, 4): MAE = 6.546723536131178\n",
      "Order (0, 1, 5): MAE = 6.56916981069279\n",
      "Order (0, 1, 6): MAE = 6.553624333757231\n",
      "Order (1, 0, 0): MAE = 6.550590986970779\n",
      "Order (1, 0, 1): MAE = 6.549187822198601\n",
      "Order (1, 0, 2): MAE = 6.550400180033478\n",
      "Order (1, 0, 3): MAE = 6.550983859669165\n",
      "Order (1, 0, 4): MAE = 6.551866974564338\n",
      "Order (1, 0, 5): MAE = 6.554060376126962\n",
      "Order (1, 0, 6): MAE = 6.555461475761945\n",
      "Order (1, 1, 0): MAE = 6.482745565510983\n",
      "Order (1, 1, 1): MAE = 6.5507595932488645\n",
      "Order (1, 1, 2): MAE = 6.4264097621497145\n",
      "Order (1, 1, 3): MAE = 6.5503917590560174\n",
      "Order (1, 1, 4): MAE = 6.537618792996692\n",
      "Order (1, 1, 5): MAE = 6.490713694871965\n"
     ]
    },
    {
     "name": "stderr",
     "output_type": "stream",
     "text": [
      "/Users/alikhan/anaconda3/lib/python3.10/site-packages/statsmodels/base/model.py:604: ConvergenceWarning: Maximum Likelihood optimization failed to converge. Check mle_retvals\n",
      "  warnings.warn(\"Maximum Likelihood optimization failed to \"\n"
     ]
    },
    {
     "name": "stdout",
     "output_type": "stream",
     "text": [
      "Order (1, 1, 6): MAE = 6.553981202532974\n",
      "Order (2, 0, 0): MAE = 6.549024293024685\n",
      "Order (2, 0, 1): MAE = 6.549181469006576\n",
      "Order (2, 0, 2): MAE = 6.557379069630879\n",
      "Order (2, 0, 3): MAE = 6.550656309467255\n",
      "Order (2, 0, 4): MAE = 6.556278791805252\n",
      "Order (2, 0, 5): MAE = 6.554386668841197\n",
      "Order (2, 0, 6): MAE = 6.555433961378085\n",
      "Order (2, 1, 0): MAE = 6.43015464581347\n",
      "Order (2, 1, 1): MAE = 6.549169827922346\n",
      "Order (2, 1, 2): MAE = 6.551287019411121\n",
      "Order (2, 1, 3): MAE = 6.555273401353295\n"
     ]
    },
    {
     "name": "stderr",
     "output_type": "stream",
     "text": [
      "/Users/alikhan/anaconda3/lib/python3.10/site-packages/statsmodels/base/model.py:604: ConvergenceWarning: Maximum Likelihood optimization failed to converge. Check mle_retvals\n",
      "  warnings.warn(\"Maximum Likelihood optimization failed to \"\n"
     ]
    },
    {
     "name": "stdout",
     "output_type": "stream",
     "text": [
      "Order (2, 1, 4): MAE = 6.551033556035342\n"
     ]
    },
    {
     "name": "stderr",
     "output_type": "stream",
     "text": [
      "/Users/alikhan/anaconda3/lib/python3.10/site-packages/statsmodels/base/model.py:604: ConvergenceWarning: Maximum Likelihood optimization failed to converge. Check mle_retvals\n",
      "  warnings.warn(\"Maximum Likelihood optimization failed to \"\n"
     ]
    },
    {
     "name": "stdout",
     "output_type": "stream",
     "text": [
      "Order (2, 1, 5): MAE = 6.551036844793159\n"
     ]
    },
    {
     "name": "stderr",
     "output_type": "stream",
     "text": [
      "/Users/alikhan/anaconda3/lib/python3.10/site-packages/statsmodels/base/model.py:604: ConvergenceWarning: Maximum Likelihood optimization failed to converge. Check mle_retvals\n",
      "  warnings.warn(\"Maximum Likelihood optimization failed to \"\n"
     ]
    },
    {
     "name": "stdout",
     "output_type": "stream",
     "text": [
      "Order (2, 1, 6): MAE = 6.554325596927566\n",
      "Best Order for Stock ID 107: (0, 1, 2)\n",
      "Best MAE for Stock ID 107: 6.406989473145524\n",
      "\n",
      "Training and evaluating for Stock ID: 108\n",
      "Training Set Date Range: 0 -- 477\n",
      "Testing Set Date Range: 478 -- 480\n",
      "Order (0, 0, 0): MAE = 6.621788382971388\n",
      "Order (0, 0, 1): MAE = 6.6241571963253945\n",
      "Order (0, 0, 2): MAE = 6.620517884552583\n",
      "Order (0, 0, 3): MAE = 6.628398525980102\n",
      "Order (0, 0, 4): MAE = 6.6377558328466\n",
      "Order (0, 0, 5): MAE = 6.660947300934827\n",
      "Order (0, 0, 6): MAE = 6.656550777013073\n",
      "Order (0, 1, 0): MAE = 11.155901336630304\n",
      "Order (0, 1, 1): MAE = 10.815983191879315\n",
      "Order (0, 1, 2): MAE = 10.496533297369346\n",
      "Order (0, 1, 3): MAE = 6.634609962456639\n",
      "Order (0, 1, 4): MAE = 6.642508955182859\n",
      "Order (0, 1, 5): MAE = 6.654364036533954\n",
      "Order (0, 1, 6): MAE = 6.665016640996421\n",
      "Order (1, 0, 0): MAE = 6.628548352748625\n",
      "Order (1, 0, 1): MAE = 6.629003330333159\n",
      "Order (1, 0, 2): MAE = 6.630294864948349\n",
      "Order (1, 0, 3): MAE = 6.655590467603961\n",
      "Order (1, 0, 4): MAE = 6.657952968549918\n",
      "Order (1, 0, 5): MAE = 6.65826440761651\n",
      "Order (1, 0, 6): MAE = 6.655146131417011\n",
      "Order (1, 1, 0): MAE = 10.999808273780529\n",
      "Order (1, 1, 1): MAE = 6.644036156241142\n",
      "Order (1, 1, 2): MAE = 6.636833922953086\n",
      "Order (1, 1, 3): MAE = 6.641044086721874\n",
      "Order (1, 1, 4): MAE = 6.63756853115013\n",
      "Order (1, 1, 5): MAE = 6.639548472829085\n",
      "Order (1, 1, 6): MAE = 6.6712805190167295\n",
      "Order (2, 0, 0): MAE = 6.6291631145791285\n",
      "Order (2, 0, 1): MAE = 6.629109832523568\n",
      "Order (2, 0, 2): MAE = 6.6586014371136715\n",
      "Order (2, 0, 3): MAE = 6.63607536868828\n",
      "Order (2, 0, 4): MAE = 6.646010356081959\n",
      "Order (2, 0, 5): MAE = 6.656385102389857\n",
      "Order (2, 0, 6): MAE = 6.656811376700522\n",
      "Order (2, 1, 0): MAE = 10.885097038801998\n",
      "Order (2, 1, 1): MAE = 6.636613122580755\n",
      "Order (2, 1, 2): MAE = 6.643376365626584\n",
      "Order (2, 1, 3): MAE = 6.638306771913978\n",
      "Order (2, 1, 4): MAE = 6.646610766245616\n",
      "Order (2, 1, 5): MAE = 6.6554494240245825\n",
      "Order (2, 1, 6): MAE = 6.67245439386865\n",
      "Best Order for Stock ID 108: (0, 0, 2)\n",
      "Best MAE for Stock ID 108: 6.620517884552583\n",
      "\n",
      "Training and evaluating for Stock ID: 109\n",
      "Training Set Date Range: 0 -- 477\n",
      "Testing Set Date Range: 478 -- 480\n",
      "Order (0, 0, 0): MAE = 2.873784268307457\n",
      "Order (0, 0, 1): MAE = 2.917721345457265\n",
      "Order (0, 0, 2): MAE = 2.965488234306629\n",
      "Order (0, 0, 3): MAE = 2.989442878561329\n",
      "Order (0, 0, 4): MAE = 2.9908190040884826\n",
      "Order (0, 0, 5): MAE = 3.068897086344433\n",
      "Order (0, 0, 6): MAE = 3.0654595442608903\n",
      "Order (0, 1, 0): MAE = 15.041904072896969\n",
      "Order (0, 1, 1): MAE = 14.37800782483758\n",
      "Order (0, 1, 2): MAE = 13.806102097741716\n",
      "Order (0, 1, 3): MAE = 11.771155883942946\n",
      "Order (0, 1, 4): MAE = 2.9896814813209542\n",
      "Order (0, 1, 5): MAE = 2.9910033763558816\n",
      "Order (0, 1, 6): MAE = 3.0694272497669277\n",
      "Order (1, 0, 0): MAE = 3.0990981775333406\n",
      "Order (1, 0, 1): MAE = 3.088776601326409\n",
      "Order (1, 0, 2): MAE = 3.082965785938183\n",
      "Order (1, 0, 3): MAE = 3.077126693552283\n",
      "Order (1, 0, 4): MAE = 3.081480148210456\n",
      "Order (1, 0, 5): MAE = 3.0658526891110833\n",
      "Order (1, 0, 6): MAE = 3.050077550919369\n",
      "Order (1, 1, 0): MAE = 14.458188627490912\n",
      "Order (1, 1, 1): MAE = 3.099810118309092\n",
      "Order (1, 1, 2): MAE = 3.089356364389678\n",
      "Order (1, 1, 3): MAE = 3.0834262967661386\n",
      "Order (1, 1, 4): MAE = 3.0774962617191193\n",
      "Order (1, 1, 5): MAE = 3.0819969928735946\n",
      "Order (1, 1, 6): MAE = 3.0663707887650524\n",
      "Order (2, 0, 0): MAE = 3.086240176767591\n",
      "Order (2, 0, 1): MAE = 3.092353022790484\n",
      "Order (2, 0, 2): MAE = 3.0580725974191427\n",
      "Order (2, 0, 3): MAE = 3.0405422118029404\n",
      "Order (2, 0, 4): MAE = 3.0477397008634024\n",
      "Order (2, 0, 5): MAE = 3.0597317252774014\n",
      "Order (2, 0, 6): MAE = 3.051271663918205\n",
      "Order (2, 1, 0): MAE = 13.970121630895147\n",
      "Order (2, 1, 1): MAE = 3.0864533161208954\n"
     ]
    },
    {
     "name": "stderr",
     "output_type": "stream",
     "text": [
      "/Users/alikhan/anaconda3/lib/python3.10/site-packages/statsmodels/base/model.py:604: ConvergenceWarning: Maximum Likelihood optimization failed to converge. Check mle_retvals\n",
      "  warnings.warn(\"Maximum Likelihood optimization failed to \"\n"
     ]
    },
    {
     "name": "stdout",
     "output_type": "stream",
     "text": [
      "Order (2, 1, 2): MAE = 3.0904046384976347\n"
     ]
    },
    {
     "name": "stderr",
     "output_type": "stream",
     "text": [
      "/Users/alikhan/anaconda3/lib/python3.10/site-packages/statsmodels/base/model.py:604: ConvergenceWarning: Maximum Likelihood optimization failed to converge. Check mle_retvals\n",
      "  warnings.warn(\"Maximum Likelihood optimization failed to \"\n"
     ]
    },
    {
     "name": "stdout",
     "output_type": "stream",
     "text": [
      "Order (2, 1, 3): MAE = 3.0886806718970115\n",
      "Order (2, 1, 4): MAE = 3.078117050095254\n"
     ]
    },
    {
     "name": "stderr",
     "output_type": "stream",
     "text": [
      "/Users/alikhan/anaconda3/lib/python3.10/site-packages/statsmodels/base/model.py:604: ConvergenceWarning: Maximum Likelihood optimization failed to converge. Check mle_retvals\n",
      "  warnings.warn(\"Maximum Likelihood optimization failed to \"\n"
     ]
    },
    {
     "name": "stdout",
     "output_type": "stream",
     "text": [
      "Order (2, 1, 5): MAE = 3.077917730983004\n"
     ]
    },
    {
     "name": "stderr",
     "output_type": "stream",
     "text": [
      "/Users/alikhan/anaconda3/lib/python3.10/site-packages/statsmodels/base/model.py:604: ConvergenceWarning: Maximum Likelihood optimization failed to converge. Check mle_retvals\n",
      "  warnings.warn(\"Maximum Likelihood optimization failed to \"\n"
     ]
    },
    {
     "name": "stdout",
     "output_type": "stream",
     "text": [
      "Order (2, 1, 6): MAE = 3.0602066205519947\n",
      "Best Order for Stock ID 109: (0, 0, 0)\n",
      "Best MAE for Stock ID 109: 2.873784268307457\n",
      "\n",
      "Training and evaluating for Stock ID: 110\n",
      "Training Set Date Range: 0 -- 477\n",
      "Testing Set Date Range: 478 -- 480\n",
      "Order (0, 0, 0): MAE = 3.764790690247496\n",
      "Order (0, 0, 1): MAE = 3.76844452085395\n",
      "Order (0, 0, 2): MAE = 3.773263152880531\n",
      "Order (0, 0, 3): MAE = 3.7764155411662035\n",
      "Order (0, 0, 4): MAE = 3.776906842336213\n",
      "Order (0, 0, 5): MAE = 3.7871805889124874\n",
      "Order (0, 0, 6): MAE = 3.787360170106547\n",
      "Order (0, 1, 0): MAE = 5.243355557599999\n",
      "Order (0, 1, 1): MAE = 5.176412811372205\n",
      "Order (0, 1, 2): MAE = 5.133596414563\n",
      "Order (0, 1, 3): MAE = 5.045278827367179\n",
      "Order (0, 1, 4): MAE = 4.674956053915872\n",
      "Order (0, 1, 5): MAE = 3.713728170971589\n",
      "Order (0, 1, 6): MAE = 3.7871835576854154\n",
      "Order (1, 0, 0): MAE = 3.7932196941606384\n",
      "Order (1, 0, 1): MAE = 3.791599599306064\n",
      "Order (1, 0, 2): MAE = 3.790478820421564\n",
      "Order (1, 0, 3): MAE = 3.790074169718932\n",
      "Order (1, 0, 4): MAE = 3.79065620984941\n",
      "Order (1, 0, 5): MAE = 3.7873761050875836\n",
      "Order (1, 0, 6): MAE = 3.7889636624769203\n",
      "Order (1, 1, 0): MAE = 5.184222775917022\n",
      "Order (1, 1, 1): MAE = 3.7930713081440297\n",
      "Order (1, 1, 2): MAE = 3.7908474350975774\n",
      "Order (1, 1, 3): MAE = 3.7899307970705025\n",
      "Order (1, 1, 4): MAE = 3.7900541263651664\n"
     ]
    },
    {
     "name": "stderr",
     "output_type": "stream",
     "text": [
      "/Users/alikhan/anaconda3/lib/python3.10/site-packages/statsmodels/base/model.py:604: ConvergenceWarning: Maximum Likelihood optimization failed to converge. Check mle_retvals\n",
      "  warnings.warn(\"Maximum Likelihood optimization failed to \"\n"
     ]
    },
    {
     "name": "stdout",
     "output_type": "stream",
     "text": [
      "Order (1, 1, 5): MAE = 3.790525623635351\n"
     ]
    },
    {
     "name": "stderr",
     "output_type": "stream",
     "text": [
      "/Users/alikhan/anaconda3/lib/python3.10/site-packages/statsmodels/base/model.py:604: ConvergenceWarning: Maximum Likelihood optimization failed to converge. Check mle_retvals\n",
      "  warnings.warn(\"Maximum Likelihood optimization failed to \"\n"
     ]
    },
    {
     "name": "stdout",
     "output_type": "stream",
     "text": [
      "Order (1, 1, 6): MAE = 3.7873857417737216\n",
      "Order (2, 0, 0): MAE = 3.7912316273396898\n",
      "Order (2, 0, 1): MAE = 3.7928260046904665\n",
      "Order (2, 0, 2): MAE = 3.7819786901248142\n",
      "Order (2, 0, 3): MAE = 3.7860931433540412\n",
      "Order (2, 0, 4): MAE = 3.785227427908421\n",
      "Order (2, 0, 5): MAE = 3.787555908695888\n",
      "Order (2, 0, 6): MAE = 3.7887960726779473\n",
      "Order (2, 1, 0): MAE = 5.144300469624865\n",
      "Order (2, 1, 1): MAE = 3.7909617543169367\n"
     ]
    },
    {
     "name": "stderr",
     "output_type": "stream",
     "text": [
      "/Users/alikhan/anaconda3/lib/python3.10/site-packages/statsmodels/base/model.py:604: ConvergenceWarning: Maximum Likelihood optimization failed to converge. Check mle_retvals\n",
      "  warnings.warn(\"Maximum Likelihood optimization failed to \"\n"
     ]
    },
    {
     "name": "stdout",
     "output_type": "stream",
     "text": [
      "Order (2, 1, 2): MAE = 3.792116410694451\n"
     ]
    },
    {
     "name": "stderr",
     "output_type": "stream",
     "text": [
      "/Users/alikhan/anaconda3/lib/python3.10/site-packages/statsmodels/base/model.py:604: ConvergenceWarning: Maximum Likelihood optimization failed to converge. Check mle_retvals\n",
      "  warnings.warn(\"Maximum Likelihood optimization failed to \"\n"
     ]
    },
    {
     "name": "stdout",
     "output_type": "stream",
     "text": [
      "Order (2, 1, 3): MAE = 3.7921015544708063\n",
      "Order (2, 1, 4): MAE = 3.790297327304265\n"
     ]
    },
    {
     "name": "stderr",
     "output_type": "stream",
     "text": [
      "/Users/alikhan/anaconda3/lib/python3.10/site-packages/statsmodels/base/model.py:604: ConvergenceWarning: Maximum Likelihood optimization failed to converge. Check mle_retvals\n",
      "  warnings.warn(\"Maximum Likelihood optimization failed to \"\n"
     ]
    },
    {
     "name": "stdout",
     "output_type": "stream",
     "text": [
      "Order (2, 1, 5): MAE = 3.790227076137647\n"
     ]
    },
    {
     "name": "stderr",
     "output_type": "stream",
     "text": [
      "/Users/alikhan/anaconda3/lib/python3.10/site-packages/statsmodels/base/model.py:604: ConvergenceWarning: Maximum Likelihood optimization failed to converge. Check mle_retvals\n",
      "  warnings.warn(\"Maximum Likelihood optimization failed to \"\n"
     ]
    },
    {
     "name": "stdout",
     "output_type": "stream",
     "text": [
      "Order (2, 1, 6): MAE = 3.78721701825923\n",
      "Best Order for Stock ID 110: (0, 1, 5)\n",
      "Best MAE for Stock ID 110: 3.713728170971589\n",
      "\n",
      "Training and evaluating for Stock ID: 111\n",
      "Training Set Date Range: 0 -- 477\n",
      "Testing Set Date Range: 478 -- 480\n",
      "Order (0, 0, 0): MAE = 6.380476060103394\n",
      "Order (0, 0, 1): MAE = 6.411922809341917\n",
      "Order (0, 0, 2): MAE = 6.433804214783562\n",
      "Order (0, 0, 3): MAE = 6.447017358817612\n",
      "Order (0, 0, 4): MAE = 6.449313651953584\n",
      "Order (0, 0, 5): MAE = 6.536841656698394\n",
      "Order (0, 0, 6): MAE = 6.524286271934866\n",
      "Order (0, 1, 0): MAE = 15.547636454581816\n",
      "Order (0, 1, 1): MAE = 14.337995028801833\n",
      "Order (0, 1, 2): MAE = 13.32491536445889\n",
      "Order (0, 1, 3): MAE = 6.670979648315641\n",
      "Order (0, 1, 4): MAE = 6.5375716593280035\n",
      "Order (0, 1, 5): MAE = 6.530152943961704\n",
      "Order (0, 1, 6): MAE = 6.574608268956309\n",
      "Order (1, 0, 0): MAE = 6.48492571908827\n",
      "Order (1, 0, 1): MAE = 6.4827096367946995\n",
      "Order (1, 0, 2): MAE = 6.4824907677457615\n",
      "Order (1, 0, 3): MAE = 6.495328017031281\n",
      "Order (1, 0, 4): MAE = 6.497733992132623\n",
      "Order (1, 0, 5): MAE = 6.5272195867186005\n",
      "Order (1, 0, 6): MAE = 6.513106306580076\n",
      "Order (1, 1, 0): MAE = 14.579353401892623\n",
      "Order (1, 1, 1): MAE = 6.516417569765533\n",
      "Order (1, 1, 2): MAE = 6.518398608686347\n",
      "Order (1, 1, 3): MAE = 6.521976841843883\n",
      "Order (1, 1, 4): MAE = 6.549207867807275\n",
      "Order (1, 1, 5): MAE = 6.535371448895606\n",
      "Order (1, 1, 6): MAE = 6.572411607387661\n",
      "Order (2, 0, 0): MAE = 6.482337042923987\n",
      "Order (2, 0, 1): MAE = 6.490094567485968\n",
      "Order (2, 0, 2): MAE = 6.480020493566075\n",
      "Order (2, 0, 3): MAE = 6.487411330911932\n",
      "Order (2, 0, 4): MAE = 6.4792024387557206\n",
      "Order (2, 0, 5): MAE = 6.519823563574306\n",
      "Order (2, 0, 6): MAE = 6.51283131809014\n",
      "Order (2, 1, 0): MAE = 13.783448957526717\n",
      "Order (2, 1, 1): MAE = 6.518716593835803\n",
      "Order (2, 1, 2): MAE = 6.524098053271431\n",
      "Order (2, 1, 3): MAE = 6.523185315112118\n",
      "Order (2, 1, 4): MAE = 6.532917062056867\n",
      "Order (2, 1, 5): MAE = 6.534751670722878\n",
      "Order (2, 1, 6): MAE = 6.570932220295454\n",
      "Best Order for Stock ID 111: (0, 0, 0)\n",
      "Best MAE for Stock ID 111: 6.380476060103394\n",
      "\n",
      "Training and evaluating for Stock ID: 112\n",
      "Training Set Date Range: 0 -- 477\n",
      "Testing Set Date Range: 478 -- 480\n",
      "Order (0, 0, 0): MAE = 2.47704332672799\n",
      "Order (0, 0, 1): MAE = 2.480231972435433\n",
      "Order (0, 0, 2): MAE = 2.481104140821698\n",
      "Order (0, 0, 3): MAE = 2.4794782433197775\n",
      "Order (0, 0, 4): MAE = 2.4762608065781078\n",
      "Order (0, 0, 5): MAE = 2.4782480538859155\n",
      "Order (0, 0, 6): MAE = 2.478155437613109\n",
      "Order (0, 1, 0): MAE = 3.2685020147030306\n",
      "Order (0, 1, 1): MAE = 2.927104711550473\n",
      "Order (0, 1, 2): MAE = 2.9328447285118724\n",
      "Order (0, 1, 3): MAE = 2.8566175185089615\n",
      "Order (0, 1, 4): MAE = 2.610416623819481\n",
      "Order (0, 1, 5): MAE = 2.449487899209279\n",
      "Order (0, 1, 6): MAE = 2.457775736701841\n",
      "Order (1, 0, 0): MAE = 2.476559717722873\n",
      "Order (1, 0, 1): MAE = 2.476332483817184\n",
      "Order (1, 0, 2): MAE = 2.476297327726377\n",
      "Order (1, 0, 3): MAE = 2.4755300914258704\n",
      "Order (1, 0, 4): MAE = 2.4753933042601255\n",
      "Order (1, 0, 5): MAE = 2.4781330522325042\n"
     ]
    },
    {
     "name": "stderr",
     "output_type": "stream",
     "text": [
      "/Users/alikhan/anaconda3/lib/python3.10/site-packages/statsmodels/base/model.py:604: ConvergenceWarning: Maximum Likelihood optimization failed to converge. Check mle_retvals\n",
      "  warnings.warn(\"Maximum Likelihood optimization failed to \"\n"
     ]
    },
    {
     "name": "stdout",
     "output_type": "stream",
     "text": [
      "Order (1, 0, 6): MAE = 2.4777427740864755\n",
      "Order (1, 1, 0): MAE = 2.9559730783655067\n",
      "Order (1, 1, 1): MAE = 2.4604587987454507\n",
      "Order (1, 1, 2): MAE = 2.460023927117555\n",
      "Order (1, 1, 3): MAE = 2.4597557528848406\n",
      "Order (1, 1, 4): MAE = 2.4582633227712614\n",
      "Order (1, 1, 5): MAE = 2.4570547018529414\n",
      "Order (1, 1, 6): MAE = 2.4568304190021166\n",
      "Order (2, 0, 0): MAE = 2.476306259036793\n",
      "Order (2, 0, 1): MAE = 2.4760133915638916\n",
      "Order (2, 0, 2): MAE = 2.477083105369007\n",
      "Order (2, 0, 3): MAE = 2.476142346331435\n",
      "Order (2, 0, 4): MAE = 2.4762947156706248\n",
      "Order (2, 0, 5): MAE = 2.4781496971526185\n",
      "Order (2, 0, 6): MAE = 2.4774928272653276\n",
      "Order (2, 1, 0): MAE = 2.9392838156910632\n",
      "Order (2, 1, 1): MAE = 2.4609226143461913\n",
      "Order (2, 1, 2): MAE = 2.460779493345969\n",
      "Order (2, 1, 3): MAE = 2.461120753186294\n",
      "Order (2, 1, 4): MAE = 2.4592738681907953\n",
      "Order (2, 1, 5): MAE = 2.458814823935341\n",
      "Order (2, 1, 6): MAE = 2.4568778417598294\n",
      "Best Order for Stock ID 112: (0, 1, 5)\n",
      "Best MAE for Stock ID 112: 2.449487899209279\n",
      "\n",
      "Training and evaluating for Stock ID: 113\n",
      "Training Set Date Range: 0 -- 477\n",
      "Testing Set Date Range: 478 -- 480\n",
      "Order (0, 0, 0): MAE = 4.728988585606341\n",
      "Order (0, 0, 1): MAE = 4.728868082317713\n",
      "Order (0, 0, 2): MAE = 4.729015004880148\n",
      "Order (0, 0, 3): MAE = 4.7291992962138\n",
      "Order (0, 0, 4): MAE = 4.729257760481321\n",
      "Order (0, 0, 5): MAE = 4.729971885301759\n",
      "Order (0, 0, 6): MAE = 4.729840055353027\n",
      "Order (0, 1, 0): MAE = 4.963773667648485\n",
      "Order (0, 1, 1): MAE = 4.971917398562925\n",
      "Order (0, 1, 2): MAE = 4.931383872154122\n",
      "Order (0, 1, 3): MAE = 4.729826789957989\n",
      "Order (0, 1, 4): MAE = 4.730998440975725\n",
      "Order (0, 1, 5): MAE = 4.73106379421463\n",
      "Order (0, 1, 6): MAE = 4.729927845554396\n",
      "Order (1, 0, 0): MAE = 4.728633813008741\n",
      "Order (1, 0, 1): MAE = 4.728613999196927\n",
      "Order (1, 0, 2): MAE = 4.728703478629583\n",
      "Order (1, 0, 3): MAE = 4.729515802064113\n",
      "Order (1, 0, 4): MAE = 4.729630604180599\n",
      "Order (1, 0, 5): MAE = 4.729884694242954\n",
      "Order (1, 0, 6): MAE = 4.729842792726673\n",
      "Order (1, 1, 0): MAE = 4.987162990522093\n",
      "Order (1, 1, 1): MAE = 4.730409616165255\n",
      "Order (1, 1, 2): MAE = 4.729156760769975\n",
      "Order (1, 1, 3): MAE = 4.728764551794922\n",
      "Order (1, 1, 4): MAE = 4.7307799242240405\n",
      "Order (1, 1, 5): MAE = 4.730777725151153\n"
     ]
    },
    {
     "name": "stderr",
     "output_type": "stream",
     "text": [
      "/Users/alikhan/anaconda3/lib/python3.10/site-packages/statsmodels/base/model.py:604: ConvergenceWarning: Maximum Likelihood optimization failed to converge. Check mle_retvals\n",
      "  warnings.warn(\"Maximum Likelihood optimization failed to \"\n"
     ]
    },
    {
     "name": "stdout",
     "output_type": "stream",
     "text": [
      "Order (1, 1, 6): MAE = 4.729863828920704\n",
      "Order (2, 0, 0): MAE = 4.728626098321811\n",
      "Order (2, 0, 1): MAE = 4.728573474171924\n",
      "Order (2, 0, 2): MAE = 4.728512338645741\n",
      "Order (2, 0, 3): MAE = 4.7290870301079\n",
      "Order (2, 0, 4): MAE = 4.729621768057832\n",
      "Order (2, 0, 5): MAE = 4.7298425957524435\n",
      "Order (2, 0, 6): MAE = 4.729679975855516\n",
      "Order (2, 1, 0): MAE = 4.961946557519184\n",
      "Order (2, 1, 1): MAE = 4.728656822433996\n",
      "Order (2, 1, 2): MAE = 4.728710708103475\n"
     ]
    },
    {
     "name": "stderr",
     "output_type": "stream",
     "text": [
      "/Users/alikhan/anaconda3/lib/python3.10/site-packages/statsmodels/base/model.py:604: ConvergenceWarning: Maximum Likelihood optimization failed to converge. Check mle_retvals\n",
      "  warnings.warn(\"Maximum Likelihood optimization failed to \"\n"
     ]
    },
    {
     "name": "stdout",
     "output_type": "stream",
     "text": [
      "Order (2, 1, 3): MAE = 4.728811228149545\n"
     ]
    },
    {
     "name": "stderr",
     "output_type": "stream",
     "text": [
      "/Users/alikhan/anaconda3/lib/python3.10/site-packages/statsmodels/base/model.py:604: ConvergenceWarning: Maximum Likelihood optimization failed to converge. Check mle_retvals\n",
      "  warnings.warn(\"Maximum Likelihood optimization failed to \"\n"
     ]
    },
    {
     "name": "stdout",
     "output_type": "stream",
     "text": [
      "Order (2, 1, 4): MAE = 4.72973290473487\n"
     ]
    },
    {
     "name": "stderr",
     "output_type": "stream",
     "text": [
      "/Users/alikhan/anaconda3/lib/python3.10/site-packages/statsmodels/base/model.py:604: ConvergenceWarning: Maximum Likelihood optimization failed to converge. Check mle_retvals\n",
      "  warnings.warn(\"Maximum Likelihood optimization failed to \"\n"
     ]
    },
    {
     "name": "stdout",
     "output_type": "stream",
     "text": [
      "Order (2, 1, 5): MAE = 4.729956842682684\n"
     ]
    },
    {
     "name": "stderr",
     "output_type": "stream",
     "text": [
      "/Users/alikhan/anaconda3/lib/python3.10/site-packages/statsmodels/base/model.py:604: ConvergenceWarning: Maximum Likelihood optimization failed to converge. Check mle_retvals\n",
      "  warnings.warn(\"Maximum Likelihood optimization failed to \"\n"
     ]
    },
    {
     "name": "stdout",
     "output_type": "stream",
     "text": [
      "Order (2, 1, 6): MAE = 4.729840095997605\n",
      "Best Order for Stock ID 113: (2, 0, 2)\n",
      "Best MAE for Stock ID 113: 4.728512338645741\n",
      "\n",
      "Training and evaluating for Stock ID: 114\n",
      "Training Set Date Range: 0 -- 477\n",
      "Testing Set Date Range: 478 -- 480\n",
      "Order (0, 0, 0): MAE = 6.0933525867600355\n",
      "Order (0, 0, 1): MAE = 6.093144238921258\n",
      "Order (0, 0, 2): MAE = 6.094609324560868\n",
      "Order (0, 0, 3): MAE = 6.0937872589863975\n",
      "Order (0, 0, 4): MAE = 6.101382914947196\n",
      "Order (0, 0, 5): MAE = 6.114464000820324\n",
      "Order (0, 0, 6): MAE = 6.113299642710798\n",
      "Order (0, 1, 0): MAE = 7.388537617339393\n",
      "Order (0, 1, 1): MAE = 7.679977358169067\n",
      "Order (0, 1, 2): MAE = 7.673083646020252\n",
      "Order (0, 1, 3): MAE = 6.081234238785779\n",
      "Order (0, 1, 4): MAE = 6.058327414778807\n",
      "Order (0, 1, 5): MAE = 6.081793530239541\n",
      "Order (0, 1, 6): MAE = 6.105831427625187\n",
      "Order (1, 0, 0): MAE = 6.0970163961367545\n",
      "Order (1, 0, 1): MAE = 6.098155682904734\n",
      "Order (1, 0, 2): MAE = 6.097998591659781\n",
      "Order (1, 0, 3): MAE = 6.103005260874821\n",
      "Order (1, 0, 4): MAE = 6.111907368133861\n",
      "Order (1, 0, 5): MAE = 6.113706067205195\n",
      "Order (1, 0, 6): MAE = 6.112745777837168\n",
      "Order (1, 1, 0): MAE = 7.643499259900689\n",
      "Order (1, 1, 1): MAE = 6.086665025384496\n",
      "Order (1, 1, 2): MAE = 6.089397098717747\n",
      "Order (1, 1, 3): MAE = 6.088428101381959\n",
      "Order (1, 1, 4): MAE = 6.059582771756557\n"
     ]
    },
    {
     "name": "stderr",
     "output_type": "stream",
     "text": [
      "/Users/alikhan/anaconda3/lib/python3.10/site-packages/statsmodels/base/model.py:604: ConvergenceWarning: Maximum Likelihood optimization failed to converge. Check mle_retvals\n",
      "  warnings.warn(\"Maximum Likelihood optimization failed to \"\n"
     ]
    },
    {
     "name": "stdout",
     "output_type": "stream",
     "text": [
      "Order (1, 1, 5): MAE = 6.059509031539062\n",
      "Order (1, 1, 6): MAE = 6.102333796997969\n",
      "Order (2, 0, 0): MAE = 6.098324888716773\n",
      "Order (2, 0, 1): MAE = 6.096031262284131\n",
      "Order (2, 0, 2): MAE = 6.102733980097499\n",
      "Order (2, 0, 3): MAE = 6.097520859712809\n",
      "Order (2, 0, 4): MAE = 6.11222507814762\n",
      "Order (2, 0, 5): MAE = 6.1132780448860595\n",
      "Order (2, 0, 6): MAE = 6.113579674811746\n",
      "Order (2, 1, 0): MAE = 7.677509883200317\n",
      "Order (2, 1, 1): MAE = 6.089491440839637\n",
      "Order (2, 1, 2): MAE = 6.085134051858229\n",
      "Order (2, 1, 3): MAE = 6.085819514231514\n",
      "Order (2, 1, 4): MAE = 6.087883635156989\n",
      "Order (2, 1, 5): MAE = 6.090290849348752\n",
      "Order (2, 1, 6): MAE = 6.100915064811675\n",
      "Best Order for Stock ID 114: (0, 1, 4)\n",
      "Best MAE for Stock ID 114: 6.058327414778807\n",
      "\n",
      "Training and evaluating for Stock ID: 115\n",
      "Training Set Date Range: 0 -- 477\n",
      "Testing Set Date Range: 478 -- 480\n",
      "Order (0, 0, 0): MAE = 6.033381383794859\n",
      "Order (0, 0, 1): MAE = 6.035421341375085\n",
      "Order (0, 0, 2): MAE = 6.042801608714839\n",
      "Order (0, 0, 3): MAE = 6.04466754603854\n",
      "Order (0, 0, 4): MAE = 6.0651638033637125\n",
      "Order (0, 0, 5): MAE = 6.073913411081005\n",
      "Order (0, 0, 6): MAE = 6.0701653289588995\n",
      "Order (0, 1, 0): MAE = 9.650118458242424\n",
      "Order (0, 1, 1): MAE = 9.975452566149201\n",
      "Order (0, 1, 2): MAE = 9.902199056142171\n",
      "Order (0, 1, 3): MAE = 6.048676726578776\n",
      "Order (0, 1, 4): MAE = 6.0449873650705985\n",
      "Order (0, 1, 5): MAE = 6.065431861705003\n",
      "Order (0, 1, 6): MAE = 6.07430268625849\n",
      "Order (1, 0, 0): MAE = 6.073574130993213\n",
      "Order (1, 0, 1): MAE = 6.076683316089378\n",
      "Order (1, 0, 2): MAE = 6.073438805872653\n",
      "Order (1, 0, 3): MAE = 6.075575918870656\n",
      "Order (1, 0, 4): MAE = 6.084769107444079\n",
      "Order (1, 0, 5): MAE = 6.071799238913623\n",
      "Order (1, 0, 6): MAE = 6.064852764590743\n",
      "Order (1, 1, 0): MAE = 9.963728998595546\n",
      "Order (1, 1, 1): MAE = 6.078591667284195\n",
      "Order (1, 1, 2): MAE = 6.077076664987479\n",
      "Order (1, 1, 3): MAE = 6.075456321508735\n",
      "Order (1, 1, 4): MAE = 6.03998646940718\n"
     ]
    },
    {
     "name": "stderr",
     "output_type": "stream",
     "text": [
      "/Users/alikhan/anaconda3/lib/python3.10/site-packages/statsmodels/base/model.py:604: ConvergenceWarning: Maximum Likelihood optimization failed to converge. Check mle_retvals\n",
      "  warnings.warn(\"Maximum Likelihood optimization failed to \"\n"
     ]
    },
    {
     "name": "stdout",
     "output_type": "stream",
     "text": [
      "Order (1, 1, 5): MAE = 6.085472435037898\n",
      "Order (1, 1, 6): MAE = 6.072305418159698\n",
      "Order (2, 0, 0): MAE = 6.077086475413038\n",
      "Order (2, 0, 1): MAE = 6.0775935270179104\n",
      "Order (2, 0, 2): MAE = 6.054972648199261\n",
      "Order (2, 0, 3): MAE = 6.06900365204386\n",
      "Order (2, 0, 4): MAE = 6.070264632060622\n",
      "Order (2, 0, 5): MAE = 6.069958395342609\n",
      "Order (2, 0, 6): MAE = 6.065172299611504\n",
      "Order (2, 1, 0): MAE = 9.933713105457533\n",
      "Order (2, 1, 1): MAE = 6.077717665588908\n",
      "Order (2, 1, 2): MAE = 6.067127489328908\n"
     ]
    },
    {
     "name": "stderr",
     "output_type": "stream",
     "text": [
      "/Users/alikhan/anaconda3/lib/python3.10/site-packages/statsmodels/base/model.py:604: ConvergenceWarning: Maximum Likelihood optimization failed to converge. Check mle_retvals\n",
      "  warnings.warn(\"Maximum Likelihood optimization failed to \"\n"
     ]
    },
    {
     "name": "stdout",
     "output_type": "stream",
     "text": [
      "Order (2, 1, 3): MAE = 6.074672253906433\n"
     ]
    },
    {
     "name": "stderr",
     "output_type": "stream",
     "text": [
      "/Users/alikhan/anaconda3/lib/python3.10/site-packages/statsmodels/base/model.py:604: ConvergenceWarning: Maximum Likelihood optimization failed to converge. Check mle_retvals\n",
      "  warnings.warn(\"Maximum Likelihood optimization failed to \"\n"
     ]
    },
    {
     "name": "stdout",
     "output_type": "stream",
     "text": [
      "Order (2, 1, 4): MAE = 6.069282907647238\n"
     ]
    },
    {
     "name": "stderr",
     "output_type": "stream",
     "text": [
      "/Users/alikhan/anaconda3/lib/python3.10/site-packages/statsmodels/base/model.py:604: ConvergenceWarning: Maximum Likelihood optimization failed to converge. Check mle_retvals\n",
      "  warnings.warn(\"Maximum Likelihood optimization failed to \"\n"
     ]
    },
    {
     "name": "stdout",
     "output_type": "stream",
     "text": [
      "Order (2, 1, 5): MAE = 6.077191138515661\n"
     ]
    },
    {
     "name": "stderr",
     "output_type": "stream",
     "text": [
      "/Users/alikhan/anaconda3/lib/python3.10/site-packages/statsmodels/base/model.py:604: ConvergenceWarning: Maximum Likelihood optimization failed to converge. Check mle_retvals\n",
      "  warnings.warn(\"Maximum Likelihood optimization failed to \"\n"
     ]
    },
    {
     "name": "stdout",
     "output_type": "stream",
     "text": [
      "Order (2, 1, 6): MAE = 6.073118445928689\n",
      "Best Order for Stock ID 115: (0, 0, 0)\n",
      "Best MAE for Stock ID 115: 6.033381383794859\n",
      "\n",
      "Training and evaluating for Stock ID: 116\n",
      "Training Set Date Range: 0 -- 477\n",
      "Testing Set Date Range: 478 -- 480\n",
      "Order (0, 0, 0): MAE = 2.8817466303085113\n",
      "Order (0, 0, 1): MAE = 2.88469440556391\n",
      "Order (0, 0, 2): MAE = 2.887520661303029\n",
      "Order (0, 0, 3): MAE = 2.8891101740502494\n",
      "Order (0, 0, 4): MAE = 2.8885288024859723\n",
      "Order (0, 0, 5): MAE = 2.8934188381931043\n",
      "Order (0, 0, 6): MAE = 2.890750706685686\n",
      "Order (0, 1, 0): MAE = 3.98596130089091\n",
      "Order (0, 1, 1): MAE = 3.6540253580959003\n",
      "Order (0, 1, 2): MAE = 3.587082401297766\n",
      "Order (0, 1, 3): MAE = 2.9473766267765025\n",
      "Order (0, 1, 4): MAE = 2.9218101701038046\n",
      "Order (0, 1, 5): MAE = 2.88714121409382\n",
      "Order (0, 1, 6): MAE = 2.8775173829910097\n",
      "Order (1, 0, 0): MAE = 2.893270997191437\n",
      "Order (1, 0, 1): MAE = 2.8937816958670455\n",
      "Order (1, 0, 2): MAE = 2.893780086656651\n",
      "Order (1, 0, 3): MAE = 2.8936107831660673\n",
      "Order (1, 0, 4): MAE = 2.8932207225800077\n",
      "Order (1, 0, 5): MAE = 2.8913971478693927\n",
      "Order (1, 0, 6): MAE = 2.8900793671607934\n",
      "Order (1, 1, 0): MAE = 3.7372070350843556\n",
      "Order (1, 1, 1): MAE = 2.8748213898017796\n",
      "Order (1, 1, 2): MAE = 2.8767293373511436\n",
      "Order (1, 1, 3): MAE = 2.8757593601182183\n",
      "Order (1, 1, 4): MAE = 2.933420864574417\n",
      "Order (1, 1, 5): MAE = 2.9135520358388947\n",
      "Order (1, 1, 6): MAE = 2.872143336161546\n",
      "Order (2, 0, 0): MAE = 2.893872570030773\n",
      "Order (2, 0, 1): MAE = 2.8938784187302637\n",
      "Order (2, 0, 2): MAE = 2.893571916031953\n",
      "Order (2, 0, 3): MAE = 2.893752720498196\n",
      "Order (2, 0, 4): MAE = 2.890048790261976\n",
      "Order (2, 0, 5): MAE = 2.8908414365162214\n",
      "Order (2, 0, 6): MAE = 2.8901617481487496\n",
      "Order (2, 1, 0): MAE = 3.659134759891276\n",
      "Order (2, 1, 1): MAE = 2.8772468537382907\n",
      "Order (2, 1, 2): MAE = 2.8736767236882357\n",
      "Order (2, 1, 3): MAE = 2.875995577586579\n",
      "Order (2, 1, 4): MAE = 2.8755894161646633\n",
      "Order (2, 1, 5): MAE = 2.875689341092104\n",
      "Order (2, 1, 6): MAE = 2.870849765035901\n",
      "Best Order for Stock ID 116: (2, 1, 6)\n",
      "Best MAE for Stock ID 116: 2.870849765035901\n",
      "\n",
      "Training and evaluating for Stock ID: 117\n",
      "Training Set Date Range: 0 -- 477\n",
      "Testing Set Date Range: 478 -- 480\n",
      "Order (0, 0, 0): MAE = 4.1545543002739045\n",
      "Order (0, 0, 1): MAE = 4.155744473554875\n",
      "Order (0, 0, 2): MAE = 4.157746859014825\n",
      "Order (0, 0, 3): MAE = 4.158802568863215\n",
      "Order (0, 0, 4): MAE = 4.1648971496611615\n",
      "Order (0, 0, 5): MAE = 4.172633105747042\n",
      "Order (0, 0, 6): MAE = 4.172684597937605\n",
      "Order (0, 1, 0): MAE = 7.042996819357575\n",
      "Order (0, 1, 1): MAE = 7.153875856255577\n",
      "Order (0, 1, 2): MAE = 7.243580688529318\n",
      "Order (0, 1, 3): MAE = 6.820611476037123\n",
      "Order (0, 1, 4): MAE = 4.120979987327582\n",
      "Order (0, 1, 5): MAE = 4.126688049504226\n",
      "Order (0, 1, 6): MAE = 4.161712110891613\n",
      "Order (1, 0, 0): MAE = 4.194211784339092\n",
      "Order (1, 0, 1): MAE = 4.184209837937617\n",
      "Order (1, 0, 2): MAE = 4.177943295429478\n",
      "Order (1, 0, 3): MAE = 4.179022169800081\n",
      "Order (1, 0, 4): MAE = 4.1798541036704595\n",
      "Order (1, 0, 5): MAE = 4.17268608234598\n",
      "Order (1, 0, 6): MAE = 4.168877143873249\n",
      "Order (1, 1, 0): MAE = 7.144659318738682\n",
      "Order (1, 1, 1): MAE = 4.169931655181211\n",
      "Order (1, 1, 2): MAE = 4.178953000163855\n",
      "Order (1, 1, 3): MAE = 4.171047940970993\n",
      "Order (1, 1, 4): MAE = 4.171764453079381\n",
      "Order (1, 1, 5): MAE = 4.173935227078892\n",
      "Order (1, 1, 6): MAE = 4.160581530764371\n",
      "Order (2, 0, 0): MAE = 4.1812243334330415\n",
      "Order (2, 0, 1): MAE = 4.166562726629471\n",
      "Order (2, 0, 2): MAE = 4.167745888294572\n",
      "Order (2, 0, 3): MAE = 4.170522908827042\n",
      "Order (2, 0, 4): MAE = 4.168134858182775\n",
      "Order (2, 0, 5): MAE = 4.171733878867901\n",
      "Order (2, 0, 6): MAE = 4.168506742136734\n",
      "Order (2, 1, 0): MAE = 7.213985343302421\n",
      "Order (2, 1, 1): MAE = 4.176966956381685\n",
      "Order (2, 1, 2): MAE = 4.1896142371079454\n",
      "Order (2, 1, 3): MAE = 4.18445451654322\n",
      "Order (2, 1, 4): MAE = 4.168603998072433\n",
      "Order (2, 1, 5): MAE = 4.139325306681278\n",
      "Order (2, 1, 6): MAE = 4.155906386981844\n",
      "Best Order for Stock ID 117: (0, 1, 4)\n",
      "Best MAE for Stock ID 117: 4.120979987327582\n",
      "\n",
      "Training and evaluating for Stock ID: 118\n",
      "Training Set Date Range: 0 -- 477\n",
      "Testing Set Date Range: 478 -- 480\n",
      "Order (0, 0, 0): MAE = 6.102462468216851\n",
      "Order (0, 0, 1): MAE = 6.105478766332447\n",
      "Order (0, 0, 2): MAE = 6.14225869149797\n",
      "Order (0, 0, 3): MAE = 6.138997889468636\n",
      "Order (0, 0, 4): MAE = 6.216354474500547\n",
      "Order (0, 0, 5): MAE = 6.302625365659176\n",
      "Order (0, 0, 6): MAE = 6.279805198231141\n",
      "Order (0, 1, 0): MAE = 24.223855421624247\n",
      "Order (0, 1, 1): MAE = 26.057991171552008\n",
      "Order (0, 1, 2): MAE = 25.490667084456366\n",
      "Order (0, 1, 3): MAE = 6.142309048146428\n",
      "Order (0, 1, 4): MAE = 6.138974191248248\n",
      "Order (0, 1, 5): MAE = 6.2163354063452445\n"
     ]
    },
    {
     "name": "stderr",
     "output_type": "stream",
     "text": [
      "/Users/alikhan/anaconda3/lib/python3.10/site-packages/statsmodels/base/model.py:604: ConvergenceWarning: Maximum Likelihood optimization failed to converge. Check mle_retvals\n",
      "  warnings.warn(\"Maximum Likelihood optimization failed to \"\n"
     ]
    },
    {
     "name": "stdout",
     "output_type": "stream",
     "text": [
      "Order (0, 1, 6): MAE = 6.302521334993263\n",
      "Order (1, 0, 0): MAE = 6.203502540858452\n",
      "Order (1, 0, 1): MAE = 6.232297692894133\n",
      "Order (1, 0, 2): MAE = 6.225122806222277\n",
      "Order (1, 0, 3): MAE = 6.261788321839364\n",
      "Order (1, 0, 4): MAE = 6.3052908219635775\n",
      "Order (1, 0, 5): MAE = 6.2916433264633245\n",
      "Order (1, 0, 6): MAE = 6.267792668375222\n",
      "Order (1, 1, 0): MAE = 26.12733368251905\n",
      "Order (1, 1, 1): MAE = 6.203691375207709\n",
      "Order (1, 1, 2): MAE = 6.232166788641345\n",
      "Order (1, 1, 3): MAE = 6.225462204349487\n",
      "Order (1, 1, 4): MAE = 6.134392129506134\n",
      "Order (1, 1, 5): MAE = 6.148441533691163\n"
     ]
    },
    {
     "name": "stderr",
     "output_type": "stream",
     "text": [
      "/Users/alikhan/anaconda3/lib/python3.10/site-packages/statsmodels/base/model.py:604: ConvergenceWarning: Maximum Likelihood optimization failed to converge. Check mle_retvals\n",
      "  warnings.warn(\"Maximum Likelihood optimization failed to \"\n"
     ]
    },
    {
     "name": "stdout",
     "output_type": "stream",
     "text": [
      "Order (1, 1, 6): MAE = 6.291533351105191\n",
      "Order (2, 0, 0): MAE = 6.236330502282793\n",
      "Order (2, 0, 1): MAE = 6.1870453993690635\n"
     ]
    },
    {
     "name": "stderr",
     "output_type": "stream",
     "text": [
      "/Users/alikhan/anaconda3/lib/python3.10/site-packages/statsmodels/base/model.py:604: ConvergenceWarning: Maximum Likelihood optimization failed to converge. Check mle_retvals\n",
      "  warnings.warn(\"Maximum Likelihood optimization failed to \"\n"
     ]
    },
    {
     "name": "stdout",
     "output_type": "stream",
     "text": [
      "Order (2, 0, 2): MAE = 6.290364272646816\n",
      "Order (2, 0, 3): MAE = 6.216638929822539\n",
      "Order (2, 0, 4): MAE = 6.262587475412061\n",
      "Order (2, 0, 5): MAE = 6.281704184786119\n",
      "Order (2, 0, 6): MAE = 6.283647871301448\n",
      "Order (2, 1, 0): MAE = 26.11448476237391\n",
      "Order (2, 1, 1): MAE = 6.23655647395826\n",
      "Order (2, 1, 2): MAE = 6.187379004099502\n",
      "Order (2, 1, 3): MAE = 6.228905428569934\n"
     ]
    },
    {
     "name": "stderr",
     "output_type": "stream",
     "text": [
      "/Users/alikhan/anaconda3/lib/python3.10/site-packages/statsmodels/base/model.py:604: ConvergenceWarning: Maximum Likelihood optimization failed to converge. Check mle_retvals\n",
      "  warnings.warn(\"Maximum Likelihood optimization failed to \"\n"
     ]
    },
    {
     "name": "stdout",
     "output_type": "stream",
     "text": [
      "Order (2, 1, 4): MAE = 6.138311877947099\n"
     ]
    },
    {
     "name": "stderr",
     "output_type": "stream",
     "text": [
      "/Users/alikhan/anaconda3/lib/python3.10/site-packages/statsmodels/base/model.py:604: ConvergenceWarning: Maximum Likelihood optimization failed to converge. Check mle_retvals\n",
      "  warnings.warn(\"Maximum Likelihood optimization failed to \"\n"
     ]
    },
    {
     "name": "stdout",
     "output_type": "stream",
     "text": [
      "Order (2, 1, 5): MAE = 6.238129633664019\n"
     ]
    },
    {
     "name": "stderr",
     "output_type": "stream",
     "text": [
      "/Users/alikhan/anaconda3/lib/python3.10/site-packages/statsmodels/base/model.py:604: ConvergenceWarning: Maximum Likelihood optimization failed to converge. Check mle_retvals\n",
      "  warnings.warn(\"Maximum Likelihood optimization failed to \"\n"
     ]
    },
    {
     "name": "stdout",
     "output_type": "stream",
     "text": [
      "Order (2, 1, 6): MAE = 6.281696348581884\n",
      "Best Order for Stock ID 118: (0, 0, 0)\n",
      "Best MAE for Stock ID 118: 6.102462468216851\n",
      "\n",
      "Training and evaluating for Stock ID: 119\n",
      "Training Set Date Range: 0 -- 477\n",
      "Testing Set Date Range: 478 -- 480\n",
      "Order (0, 0, 0): MAE = 5.532000739920563\n",
      "Order (0, 0, 1): MAE = 5.531331412262738\n",
      "Order (0, 0, 2): MAE = 5.533652536823252\n",
      "Order (0, 0, 3): MAE = 5.532899987385687\n",
      "Order (0, 0, 4): MAE = 5.533966248228346\n",
      "Order (0, 0, 5): MAE = 5.535293411835622\n",
      "Order (0, 0, 6): MAE = 5.535147497257093\n",
      "Order (0, 1, 0): MAE = 6.650852443496969\n",
      "Order (0, 1, 1): MAE = 7.418909875641874\n",
      "Order (0, 1, 2): MAE = 7.704096361714832\n",
      "Order (0, 1, 3): MAE = 5.533644593577515\n",
      "Order (0, 1, 4): MAE = 5.532875843193984\n",
      "Order (0, 1, 5): MAE = 5.533926684570014\n"
     ]
    },
    {
     "name": "stderr",
     "output_type": "stream",
     "text": [
      "/Users/alikhan/anaconda3/lib/python3.10/site-packages/statsmodels/base/model.py:604: ConvergenceWarning: Maximum Likelihood optimization failed to converge. Check mle_retvals\n",
      "  warnings.warn(\"Maximum Likelihood optimization failed to \"\n"
     ]
    },
    {
     "name": "stdout",
     "output_type": "stream",
     "text": [
      "Order (0, 1, 6): MAE = 5.535184193689386\n",
      "Order (1, 0, 0): MAE = 5.544477498267964\n",
      "Order (1, 0, 1): MAE = 5.546767245740462\n",
      "Order (1, 0, 2): MAE = 5.54505490915256\n",
      "Order (1, 0, 3): MAE = 5.537619262535783\n",
      "Order (1, 0, 4): MAE = 5.535608375176215\n",
      "Order (1, 0, 5): MAE = 5.5352641324948735\n",
      "Order (1, 0, 6): MAE = 5.535248258237955\n",
      "Order (1, 1, 0): MAE = 7.218421537239406\n",
      "Order (1, 1, 1): MAE = 5.544826889527065\n",
      "Order (1, 1, 2): MAE = 5.550861211688944\n",
      "Order (1, 1, 3): MAE = 5.545000409399179\n"
     ]
    },
    {
     "name": "stderr",
     "output_type": "stream",
     "text": [
      "/Users/alikhan/anaconda3/lib/python3.10/site-packages/statsmodels/base/model.py:604: ConvergenceWarning: Maximum Likelihood optimization failed to converge. Check mle_retvals\n",
      "  warnings.warn(\"Maximum Likelihood optimization failed to \"\n"
     ]
    },
    {
     "name": "stdout",
     "output_type": "stream",
     "text": [
      "Order (1, 1, 4): MAE = 5.533121454870838\n",
      "Order (1, 1, 5): MAE = 5.535555757815835\n"
     ]
    },
    {
     "name": "stderr",
     "output_type": "stream",
     "text": [
      "/Users/alikhan/anaconda3/lib/python3.10/site-packages/statsmodels/base/model.py:604: ConvergenceWarning: Maximum Likelihood optimization failed to converge. Check mle_retvals\n",
      "  warnings.warn(\"Maximum Likelihood optimization failed to \"\n"
     ]
    },
    {
     "name": "stdout",
     "output_type": "stream",
     "text": [
      "Order (1, 1, 6): MAE = 5.535175060513261\n",
      "Order (2, 0, 0): MAE = 5.54694124070221\n",
      "Order (2, 0, 1): MAE = 5.546754103068369\n",
      "Order (2, 0, 2): MAE = 5.548441718929133\n",
      "Order (2, 0, 3): MAE = 5.535530564567212\n",
      "Order (2, 0, 4): MAE = 5.536046444440948\n",
      "Order (2, 0, 5): MAE = 5.534863466356748\n",
      "Order (2, 0, 6): MAE = 5.535158293437021\n",
      "Order (2, 1, 0): MAE = 7.4341477070095126\n",
      "Order (2, 1, 1): MAE = 5.5469292499660945\n",
      "Order (2, 1, 2): MAE = 5.542417816109223\n"
     ]
    },
    {
     "name": "stderr",
     "output_type": "stream",
     "text": [
      "/Users/alikhan/anaconda3/lib/python3.10/site-packages/statsmodels/base/model.py:604: ConvergenceWarning: Maximum Likelihood optimization failed to converge. Check mle_retvals\n",
      "  warnings.warn(\"Maximum Likelihood optimization failed to \"\n"
     ]
    },
    {
     "name": "stdout",
     "output_type": "stream",
     "text": [
      "Order (2, 1, 3): MAE = 5.548545039280992\n"
     ]
    },
    {
     "name": "stderr",
     "output_type": "stream",
     "text": [
      "/Users/alikhan/anaconda3/lib/python3.10/site-packages/statsmodels/base/model.py:604: ConvergenceWarning: Maximum Likelihood optimization failed to converge. Check mle_retvals\n",
      "  warnings.warn(\"Maximum Likelihood optimization failed to \"\n"
     ]
    },
    {
     "name": "stdout",
     "output_type": "stream",
     "text": [
      "Order (2, 1, 4): MAE = 5.5444860322287095\n"
     ]
    },
    {
     "name": "stderr",
     "output_type": "stream",
     "text": [
      "/Users/alikhan/anaconda3/lib/python3.10/site-packages/statsmodels/base/model.py:604: ConvergenceWarning: Maximum Likelihood optimization failed to converge. Check mle_retvals\n",
      "  warnings.warn(\"Maximum Likelihood optimization failed to \"\n"
     ]
    },
    {
     "name": "stdout",
     "output_type": "stream",
     "text": [
      "Order (2, 1, 5): MAE = 5.541768915413197\n"
     ]
    },
    {
     "name": "stderr",
     "output_type": "stream",
     "text": [
      "/Users/alikhan/anaconda3/lib/python3.10/site-packages/statsmodels/base/model.py:604: ConvergenceWarning: Maximum Likelihood optimization failed to converge. Check mle_retvals\n",
      "  warnings.warn(\"Maximum Likelihood optimization failed to \"\n"
     ]
    },
    {
     "name": "stdout",
     "output_type": "stream",
     "text": [
      "Order (2, 1, 6): MAE = 5.534870755181986\n",
      "Best Order for Stock ID 119: (0, 0, 1)\n",
      "Best MAE for Stock ID 119: 5.531331412262738\n",
      "\n",
      "Training and evaluating for Stock ID: 120\n",
      "Training Set Date Range: 0 -- 477\n",
      "Testing Set Date Range: 478 -- 480\n",
      "Order (0, 0, 0): MAE = 3.2863170613679813\n",
      "Order (0, 0, 1): MAE = 3.3016807959660865\n",
      "Order (0, 0, 2): MAE = 3.320941449123\n",
      "Order (0, 0, 3): MAE = 3.324057760505698\n",
      "Order (0, 0, 4): MAE = 3.3233462399279516\n",
      "Order (0, 0, 5): MAE = 3.354686972675586\n",
      "Order (0, 0, 6): MAE = 3.3535495889859224\n",
      "Order (0, 1, 0): MAE = 10.307818093757577\n",
      "Order (0, 1, 1): MAE = 10.104242895349742\n",
      "Order (0, 1, 2): MAE = 9.842962587236942\n",
      "Order (0, 1, 3): MAE = 8.076198666566116\n",
      "Order (0, 1, 4): MAE = 3.295553533128765\n",
      "Order (0, 1, 5): MAE = 3.3002404343435523\n",
      "Order (0, 1, 6): MAE = 3.354595432675945\n",
      "Order (1, 0, 0): MAE = 3.3716222991576763\n",
      "Order (1, 0, 1): MAE = 3.364963774034089\n",
      "Order (1, 0, 2): MAE = 3.361796676675373\n",
      "Order (1, 0, 3): MAE = 3.357650801493484\n",
      "Order (1, 0, 4): MAE = 3.3590363770152525\n",
      "Order (1, 0, 5): MAE = 3.353719789046907\n",
      "Order (1, 0, 6): MAE = 3.3494154005121786\n",
      "Order (1, 1, 0): MAE = 10.134511224756096\n",
      "Order (1, 1, 1): MAE = 3.371510326317949\n",
      "Order (1, 1, 2): MAE = 3.364896687751195\n",
      "Order (1, 1, 3): MAE = 3.361767081006534\n",
      "Order (1, 1, 4): MAE = 3.298080663217247\n",
      "Order (1, 1, 5): MAE = 3.3589334465784133\n"
     ]
    },
    {
     "name": "stderr",
     "output_type": "stream",
     "text": [
      "/Users/alikhan/anaconda3/lib/python3.10/site-packages/statsmodels/base/model.py:604: ConvergenceWarning: Maximum Likelihood optimization failed to converge. Check mle_retvals\n",
      "  warnings.warn(\"Maximum Likelihood optimization failed to \"\n"
     ]
    },
    {
     "name": "stdout",
     "output_type": "stream",
     "text": [
      "Order (1, 1, 6): MAE = 3.3536332056206066\n",
      "Order (2, 0, 0): MAE = 3.3636276638933786\n",
      "Order (2, 0, 1): MAE = 3.3586803291103506\n",
      "Order (2, 0, 2): MAE = 3.3564309420398972\n",
      "Order (2, 0, 3): MAE = 3.3353331765608285\n",
      "Order (2, 0, 4): MAE = 3.3396355512017677\n",
      "Order (2, 0, 5): MAE = 3.3514291684576163\n"
     ]
    },
    {
     "name": "stderr",
     "output_type": "stream",
     "text": [
      "/Users/alikhan/anaconda3/lib/python3.10/site-packages/statsmodels/base/model.py:604: ConvergenceWarning: Maximum Likelihood optimization failed to converge. Check mle_retvals\n",
      "  warnings.warn(\"Maximum Likelihood optimization failed to \"\n"
     ]
    },
    {
     "name": "stdout",
     "output_type": "stream",
     "text": [
      "Order (2, 0, 6): MAE = 3.3490238809211412\n",
      "Order (2, 1, 0): MAE = 9.9444276124775\n",
      "Order (2, 1, 1): MAE = 3.363563596973043\n",
      "Order (2, 1, 2): MAE = 3.3706332069021117\n",
      "Order (2, 1, 3): MAE = 3.3694875186288753\n"
     ]
    },
    {
     "name": "stderr",
     "output_type": "stream",
     "text": [
      "/Users/alikhan/anaconda3/lib/python3.10/site-packages/statsmodels/base/model.py:604: ConvergenceWarning: Maximum Likelihood optimization failed to converge. Check mle_retvals\n",
      "  warnings.warn(\"Maximum Likelihood optimization failed to \"\n"
     ]
    },
    {
     "name": "stdout",
     "output_type": "stream",
     "text": [
      "Order (2, 1, 4): MAE = 3.362582034914638\n"
     ]
    },
    {
     "name": "stderr",
     "output_type": "stream",
     "text": [
      "/Users/alikhan/anaconda3/lib/python3.10/site-packages/statsmodels/base/model.py:604: ConvergenceWarning: Maximum Likelihood optimization failed to converge. Check mle_retvals\n",
      "  warnings.warn(\"Maximum Likelihood optimization failed to \"\n"
     ]
    },
    {
     "name": "stdout",
     "output_type": "stream",
     "text": [
      "Order (2, 1, 5): MAE = 3.3221982657902354\n"
     ]
    },
    {
     "name": "stderr",
     "output_type": "stream",
     "text": [
      "/Users/alikhan/anaconda3/lib/python3.10/site-packages/statsmodels/base/model.py:604: ConvergenceWarning: Maximum Likelihood optimization failed to converge. Check mle_retvals\n",
      "  warnings.warn(\"Maximum Likelihood optimization failed to \"\n"
     ]
    },
    {
     "name": "stdout",
     "output_type": "stream",
     "text": [
      "Order (2, 1, 6): MAE = 3.351456072621989\n",
      "Best Order for Stock ID 120: (0, 0, 0)\n",
      "Best MAE for Stock ID 120: 3.2863170613679813\n",
      "\n",
      "Training and evaluating for Stock ID: 121\n",
      "Training Set Date Range: 0 -- 477\n",
      "Testing Set Date Range: 478 -- 480\n",
      "Order (0, 0, 0): MAE = 3.6374017346925323\n",
      "Order (0, 0, 1): MAE = 3.635168218187884\n",
      "Order (0, 0, 2): MAE = 3.63468079150924\n",
      "Order (0, 0, 3): MAE = 3.6334023137273412\n",
      "Order (0, 0, 4): MAE = 3.6332893662999735\n",
      "Order (0, 0, 5): MAE = 3.641170306397017\n",
      "Order (0, 0, 6): MAE = 3.6408272300950886\n",
      "Order (0, 1, 0): MAE = 4.378604155521213\n",
      "Order (0, 1, 1): MAE = 4.293805817566835\n",
      "Order (0, 1, 2): MAE = 4.185227481100986\n",
      "Order (0, 1, 3): MAE = 3.494561780164007\n",
      "Order (0, 1, 4): MAE = 3.6333416184480427\n",
      "Order (0, 1, 5): MAE = 3.6332402737648537\n",
      "Order (0, 1, 6): MAE = 3.6410373329287666\n",
      "Order (1, 0, 0): MAE = 3.6210076988513364\n",
      "Order (1, 0, 1): MAE = 3.621391046246565\n",
      "Order (1, 0, 2): MAE = 3.6236952218207454\n",
      "Order (1, 0, 3): MAE = 3.626724772307717\n",
      "Order (1, 0, 4): MAE = 3.6361859117508484\n",
      "Order (1, 0, 5): MAE = 3.640847117642518\n",
      "Order (1, 0, 6): MAE = 3.63952841083929\n",
      "Order (1, 1, 0): MAE = 4.32473059921233\n",
      "Order (1, 1, 1): MAE = 3.620239477091062\n",
      "Order (1, 1, 2): MAE = 3.620787467034493\n",
      "Order (1, 1, 3): MAE = 3.623177696704188\n",
      "Order (1, 1, 4): MAE = 3.626558310856269\n",
      "Order (1, 1, 5): MAE = 3.636033386903508\n"
     ]
    },
    {
     "name": "stderr",
     "output_type": "stream",
     "text": [
      "/Users/alikhan/anaconda3/lib/python3.10/site-packages/statsmodels/base/model.py:604: ConvergenceWarning: Maximum Likelihood optimization failed to converge. Check mle_retvals\n",
      "  warnings.warn(\"Maximum Likelihood optimization failed to \"\n"
     ]
    },
    {
     "name": "stdout",
     "output_type": "stream",
     "text": [
      "Order (1, 1, 6): MAE = 3.6407310411360494\n",
      "Order (2, 0, 0): MAE = 3.6214712674606493\n",
      "Order (2, 0, 1): MAE = 3.6210029744471703\n",
      "Order (2, 0, 2): MAE = 3.6386728525863394\n",
      "Order (2, 0, 3): MAE = 3.646271120571157\n",
      "Order (2, 0, 4): MAE = 3.645625904226668\n",
      "Order (2, 0, 5): MAE = 3.6407869079422777\n",
      "Order (2, 0, 6): MAE = 3.6391159921217864\n",
      "Order (2, 1, 0): MAE = 4.251190237505967\n",
      "Order (2, 1, 1): MAE = 3.6208712608929634\n",
      "Order (2, 1, 2): MAE = 3.621111887591809\n",
      "Order (2, 1, 3): MAE = 3.620224233916711\n",
      "Order (2, 1, 4): MAE = 3.623754850012703\n"
     ]
    },
    {
     "name": "stderr",
     "output_type": "stream",
     "text": [
      "/Users/alikhan/anaconda3/lib/python3.10/site-packages/statsmodels/base/model.py:604: ConvergenceWarning: Maximum Likelihood optimization failed to converge. Check mle_retvals\n",
      "  warnings.warn(\"Maximum Likelihood optimization failed to \"\n"
     ]
    },
    {
     "name": "stdout",
     "output_type": "stream",
     "text": [
      "Order (2, 1, 5): MAE = 3.64514882331063\n"
     ]
    },
    {
     "name": "stderr",
     "output_type": "stream",
     "text": [
      "/Users/alikhan/anaconda3/lib/python3.10/site-packages/statsmodels/base/model.py:604: ConvergenceWarning: Maximum Likelihood optimization failed to converge. Check mle_retvals\n",
      "  warnings.warn(\"Maximum Likelihood optimization failed to \"\n"
     ]
    },
    {
     "name": "stdout",
     "output_type": "stream",
     "text": [
      "Order (2, 1, 6): MAE = 3.6406704939702035\n",
      "Best Order for Stock ID 121: (0, 1, 3)\n",
      "Best MAE for Stock ID 121: 3.494561780164007\n",
      "\n",
      "Training and evaluating for Stock ID: 122\n",
      "Training Set Date Range: 0 -- 477\n",
      "Testing Set Date Range: 478 -- 480\n",
      "Order (0, 0, 0): MAE = 4.355608055483388\n",
      "Order (0, 0, 1): MAE = 4.37002638562325\n",
      "Order (0, 0, 2): MAE = 4.391691142292504\n",
      "Order (0, 0, 3): MAE = 4.394900986349336\n",
      "Order (0, 0, 4): MAE = 4.392626178431205\n",
      "Order (0, 0, 5): MAE = 4.46918461562978\n",
      "Order (0, 0, 6): MAE = 4.469717356981729\n",
      "Order (0, 1, 0): MAE = 9.389263228351513\n",
      "Order (0, 1, 1): MAE = 9.214195783716391\n",
      "Order (0, 1, 2): MAE = 8.68134343010765\n",
      "Order (0, 1, 3): MAE = 6.4295163539390545\n",
      "Order (0, 1, 4): MAE = 4.5277194781387715\n",
      "Order (0, 1, 5): MAE = 4.481970038060058\n",
      "Order (0, 1, 6): MAE = 4.468205499086618\n",
      "Order (1, 0, 0): MAE = 4.4132297592330785\n",
      "Order (1, 0, 1): MAE = 4.411873260522441\n",
      "Order (1, 0, 2): MAE = 4.413706764204219\n",
      "Order (1, 0, 3): MAE = 4.41840077922763\n",
      "Order (1, 0, 4): MAE = 4.43328417467205\n",
      "Order (1, 0, 5): MAE = 4.469656027491121\n",
      "Order (1, 0, 6): MAE = 4.464562117523253\n",
      "Order (1, 1, 0): MAE = 9.23592348935085\n",
      "Order (1, 1, 1): MAE = 4.412704451431358\n",
      "Order (1, 1, 2): MAE = 4.411097228660151\n",
      "Order (1, 1, 3): MAE = 4.412775000853307\n",
      "Order (1, 1, 4): MAE = 4.54888288268123\n",
      "Order (1, 1, 5): MAE = 4.432487548730509\n",
      "Order (1, 1, 6): MAE = 4.468637294179318\n",
      "Order (2, 0, 0): MAE = 4.411964971843838\n",
      "Order (2, 0, 1): MAE = 4.419552797438644\n",
      "Order (2, 0, 2): MAE = 4.422167897545734\n",
      "Order (2, 0, 3): MAE = 4.435835769715934\n",
      "Order (2, 0, 4): MAE = 4.439783236748848\n",
      "Order (2, 0, 5): MAE = 4.465305410193975\n",
      "Order (2, 0, 6): MAE = 4.464141567761589\n",
      "Order (2, 1, 0): MAE = 8.808294018601766\n",
      "Order (2, 1, 1): MAE = 4.411092171349657\n",
      "Order (2, 1, 2): MAE = 4.414863409650155\n",
      "Order (2, 1, 3): MAE = 4.4140725499909195\n",
      "Order (2, 1, 4): MAE = 4.418063201541309\n",
      "Order (2, 1, 5): MAE = 4.417718173462825\n",
      "Order (2, 1, 6): MAE = 4.4641959911592455\n",
      "Best Order for Stock ID 122: (0, 0, 0)\n",
      "Best MAE for Stock ID 122: 4.355608055483388\n",
      "\n",
      "Training and evaluating for Stock ID: 123\n",
      "Training Set Date Range: 0 -- 477\n",
      "Testing Set Date Range: 478 -- 480\n",
      "Order (0, 0, 0): MAE = 3.7938080421781204\n",
      "Order (0, 0, 1): MAE = 3.7974569865100496\n",
      "Order (0, 0, 2): MAE = 3.8061898654871245\n",
      "Order (0, 0, 3): MAE = 3.8063764011806644\n",
      "Order (0, 0, 4): MAE = 3.8080336857846806\n",
      "Order (0, 0, 5): MAE = 3.8270484500850164\n",
      "Order (0, 0, 6): MAE = 3.827036814555861\n",
      "Order (0, 1, 0): MAE = 6.534291011624242\n",
      "Order (0, 1, 1): MAE = 6.360071764642608\n",
      "Order (0, 1, 2): MAE = 6.238957238777398\n",
      "Order (0, 1, 3): MAE = 5.691393627515573\n",
      "Order (0, 1, 4): MAE = 4.106432381889748\n",
      "Order (0, 1, 5): MAE = 3.8151125685887615\n",
      "Order (0, 1, 6): MAE = 3.827262057630918\n",
      "Order (1, 0, 0): MAE = 3.8224606503265797\n",
      "Order (1, 0, 1): MAE = 3.821439951342742\n",
      "Order (1, 0, 2): MAE = 3.8211475535975468\n",
      "Order (1, 0, 3): MAE = 3.8230666365968577\n",
      "Order (1, 0, 4): MAE = 3.82841243087555\n",
      "Order (1, 0, 5): MAE = 3.8270397865990593\n",
      "Order (1, 0, 6): MAE = 3.8273470760491803\n",
      "Order (1, 1, 0): MAE = 6.386639932311544\n",
      "Order (1, 1, 1): MAE = 3.82257415804549\n",
      "Order (1, 1, 2): MAE = 3.8215031834920965\n"
     ]
    },
    {
     "name": "stderr",
     "output_type": "stream",
     "text": [
      "/Users/alikhan/anaconda3/lib/python3.10/site-packages/statsmodels/base/model.py:604: ConvergenceWarning: Maximum Likelihood optimization failed to converge. Check mle_retvals\n",
      "  warnings.warn(\"Maximum Likelihood optimization failed to \"\n"
     ]
    },
    {
     "name": "stdout",
     "output_type": "stream",
     "text": [
      "Order (1, 1, 3): MAE = 3.8212003209359735\n",
      "Order (1, 1, 4): MAE = 3.8231095591778965\n",
      "Order (1, 1, 5): MAE = 3.828415992375002\n",
      "Order (1, 1, 6): MAE = 3.8272142965800025\n",
      "Order (2, 0, 0): MAE = 3.8212582095973047\n",
      "Order (2, 0, 1): MAE = 3.8215920322768397\n",
      "Order (2, 0, 2): MAE = 3.8223911652804667\n",
      "Order (2, 0, 3): MAE = 3.8224512608223775\n",
      "Order (2, 0, 4): MAE = 3.8221874229652877\n",
      "Order (2, 0, 5): MAE = 3.827197388057844\n",
      "Order (2, 0, 6): MAE = 3.8273104987099016\n",
      "Order (2, 1, 0): MAE = 6.278649638995357\n",
      "Order (2, 1, 1): MAE = 3.821275865212156\n",
      "Order (2, 1, 2): MAE = 3.821721572023989\n",
      "Order (2, 1, 3): MAE = 3.8218719901271854\n",
      "Order (2, 1, 4): MAE = 3.8215376355661146\n"
     ]
    },
    {
     "name": "stderr",
     "output_type": "stream",
     "text": [
      "/Users/alikhan/anaconda3/lib/python3.10/site-packages/statsmodels/base/model.py:604: ConvergenceWarning: Maximum Likelihood optimization failed to converge. Check mle_retvals\n",
      "  warnings.warn(\"Maximum Likelihood optimization failed to \"\n"
     ]
    },
    {
     "name": "stdout",
     "output_type": "stream",
     "text": [
      "Order (2, 1, 5): MAE = 3.8229265564368378\n"
     ]
    },
    {
     "name": "stderr",
     "output_type": "stream",
     "text": [
      "/Users/alikhan/anaconda3/lib/python3.10/site-packages/statsmodels/base/model.py:604: ConvergenceWarning: Maximum Likelihood optimization failed to converge. Check mle_retvals\n",
      "  warnings.warn(\"Maximum Likelihood optimization failed to \"\n"
     ]
    },
    {
     "name": "stdout",
     "output_type": "stream",
     "text": [
      "Order (2, 1, 6): MAE = 3.8272986758218295\n",
      "Best Order for Stock ID 123: (0, 0, 0)\n",
      "Best MAE for Stock ID 123: 3.7938080421781204\n",
      "\n",
      "Training and evaluating for Stock ID: 124\n",
      "Training Set Date Range: 0 -- 477\n",
      "Testing Set Date Range: 478 -- 480\n",
      "Order (0, 0, 0): MAE = 4.705664183798441\n",
      "Order (0, 0, 1): MAE = 4.705649562431288\n",
      "Order (0, 0, 2): MAE = 4.706698943901441\n",
      "Order (0, 0, 3): MAE = 4.706394815687169\n",
      "Order (0, 0, 4): MAE = 4.707814084009314\n",
      "Order (0, 0, 5): MAE = 4.708901947244114\n",
      "Order (0, 0, 6): MAE = 4.708890373870919\n",
      "Order (0, 1, 0): MAE = 5.468000079636363\n",
      "Order (0, 1, 1): MAE = 5.599512945969142\n",
      "Order (0, 1, 2): MAE = 5.63855630809375\n",
      "Order (0, 1, 3): MAE = 5.756060720532718\n",
      "Order (0, 1, 4): MAE = 4.713195753808768\n",
      "Order (0, 1, 5): MAE = 4.708109956285673\n",
      "Order (0, 1, 6): MAE = 4.708904475272215\n",
      "Order (1, 0, 0): MAE = 4.714980740787437\n",
      "Order (1, 0, 1): MAE = 4.71374846828577\n",
      "Order (1, 0, 2): MAE = 4.712394284477794\n",
      "Order (1, 0, 3): MAE = 4.711288701919772\n",
      "Order (1, 0, 4): MAE = 4.7107391133707095\n",
      "Order (1, 0, 5): MAE = 4.708892332667071\n"
     ]
    },
    {
     "name": "stderr",
     "output_type": "stream",
     "text": [
      "/Users/alikhan/anaconda3/lib/python3.10/site-packages/statsmodels/base/model.py:604: ConvergenceWarning: Maximum Likelihood optimization failed to converge. Check mle_retvals\n",
      "  warnings.warn(\"Maximum Likelihood optimization failed to \"\n"
     ]
    },
    {
     "name": "stdout",
     "output_type": "stream",
     "text": [
      "Order (1, 0, 6): MAE = 4.7087624189108315\n",
      "Order (1, 1, 0): MAE = 5.584488333126906\n",
      "Order (1, 1, 1): MAE = 4.714764519788881\n",
      "Order (1, 1, 2): MAE = 4.7137754786822414\n",
      "Order (1, 1, 3): MAE = 4.712431774642884\n",
      "Order (1, 1, 4): MAE = 4.711313295302205\n",
      "Order (1, 1, 5): MAE = 4.710764587549513\n"
     ]
    },
    {
     "name": "stderr",
     "output_type": "stream",
     "text": [
      "/Users/alikhan/anaconda3/lib/python3.10/site-packages/statsmodels/base/model.py:604: ConvergenceWarning: Maximum Likelihood optimization failed to converge. Check mle_retvals\n",
      "  warnings.warn(\"Maximum Likelihood optimization failed to \"\n"
     ]
    },
    {
     "name": "stdout",
     "output_type": "stream",
     "text": [
      "Order (1, 1, 6): MAE = 4.70889602294756\n",
      "Order (2, 0, 0): MAE = 4.713490034927636\n",
      "Order (2, 0, 1): MAE = 4.713176520743735\n",
      "Order (2, 0, 2): MAE = 4.7091691403860745\n",
      "Order (2, 0, 3): MAE = 4.708895150039728\n",
      "Order (2, 0, 4): MAE = 4.708909291323825\n",
      "Order (2, 0, 5): MAE = 4.708871488298627\n",
      "Order (2, 0, 6): MAE = 4.70866268547096\n",
      "Order (2, 1, 0): MAE = 5.623314039490362\n",
      "Order (2, 1, 1): MAE = 4.713518321584457\n"
     ]
    },
    {
     "name": "stderr",
     "output_type": "stream",
     "text": [
      "/Users/alikhan/anaconda3/lib/python3.10/site-packages/statsmodels/base/model.py:604: ConvergenceWarning: Maximum Likelihood optimization failed to converge. Check mle_retvals\n",
      "  warnings.warn(\"Maximum Likelihood optimization failed to \"\n"
     ]
    },
    {
     "name": "stdout",
     "output_type": "stream",
     "text": [
      "Order (2, 1, 2): MAE = 4.713024215797244\n",
      "Order (2, 1, 3): MAE = 4.713471564283419\n"
     ]
    },
    {
     "name": "stderr",
     "output_type": "stream",
     "text": [
      "/Users/alikhan/anaconda3/lib/python3.10/site-packages/statsmodels/base/model.py:604: ConvergenceWarning: Maximum Likelihood optimization failed to converge. Check mle_retvals\n",
      "  warnings.warn(\"Maximum Likelihood optimization failed to \"\n"
     ]
    },
    {
     "name": "stdout",
     "output_type": "stream",
     "text": [
      "Order (2, 1, 4): MAE = 4.711135728085842\n"
     ]
    },
    {
     "name": "stderr",
     "output_type": "stream",
     "text": [
      "/Users/alikhan/anaconda3/lib/python3.10/site-packages/statsmodels/base/model.py:604: ConvergenceWarning: Maximum Likelihood optimization failed to converge. Check mle_retvals\n",
      "  warnings.warn(\"Maximum Likelihood optimization failed to \"\n"
     ]
    },
    {
     "name": "stdout",
     "output_type": "stream",
     "text": [
      "Order (2, 1, 5): MAE = 4.710999284380441\n"
     ]
    },
    {
     "name": "stderr",
     "output_type": "stream",
     "text": [
      "/Users/alikhan/anaconda3/lib/python3.10/site-packages/statsmodels/base/model.py:604: ConvergenceWarning: Maximum Likelihood optimization failed to converge. Check mle_retvals\n",
      "  warnings.warn(\"Maximum Likelihood optimization failed to \"\n"
     ]
    },
    {
     "name": "stdout",
     "output_type": "stream",
     "text": [
      "Order (2, 1, 6): MAE = 4.708811024742338\n",
      "Best Order for Stock ID 124: (0, 0, 1)\n",
      "Best MAE for Stock ID 124: 4.705649562431288\n",
      "\n",
      "Training and evaluating for Stock ID: 125\n",
      "Training Set Date Range: 0 -- 477\n",
      "Testing Set Date Range: 478 -- 480\n",
      "Order (0, 0, 0): MAE = 6.5361259491783334\n",
      "Order (0, 0, 1): MAE = 6.5367261803328915\n",
      "Order (0, 0, 2): MAE = 6.536545606883051\n",
      "Order (0, 0, 3): MAE = 6.53911616696338\n",
      "Order (0, 0, 4): MAE = 6.54137808288127\n",
      "Order (0, 0, 5): MAE = 6.545866193435223\n",
      "Order (0, 0, 6): MAE = 6.544092079177062\n",
      "Order (0, 1, 0): MAE = 10.170282470745455\n",
      "Order (0, 1, 1): MAE = 10.198006027177108\n",
      "Order (0, 1, 2): MAE = 10.102006910334115\n",
      "Order (0, 1, 3): MAE = 6.446087696658558\n",
      "Order (0, 1, 4): MAE = 6.565934768218181\n",
      "Order (0, 1, 5): MAE = 6.560048062364072\n",
      "Order (0, 1, 6): MAE = 6.545996290557548\n",
      "Order (1, 0, 0): MAE = 6.541793793166993\n",
      "Order (1, 0, 1): MAE = 6.54227790821881\n",
      "Order (1, 0, 2): MAE = 6.542128121622181\n",
      "Order (1, 0, 3): MAE = 6.5476611568074885\n",
      "Order (1, 0, 4): MAE = 6.545411475437964\n",
      "Order (1, 0, 5): MAE = 6.544406648659825\n",
      "Order (1, 0, 6): MAE = 6.545524862444644\n",
      "Order (1, 1, 0): MAE = 10.1917204649141\n",
      "Order (1, 1, 1): MAE = 6.543156451259764\n",
      "Order (1, 1, 2): MAE = 6.544573776498117\n"
     ]
    },
    {
     "name": "stderr",
     "output_type": "stream",
     "text": [
      "/Users/alikhan/anaconda3/lib/python3.10/site-packages/statsmodels/base/model.py:604: ConvergenceWarning: Maximum Likelihood optimization failed to converge. Check mle_retvals\n",
      "  warnings.warn(\"Maximum Likelihood optimization failed to \"\n"
     ]
    },
    {
     "name": "stdout",
     "output_type": "stream",
     "text": [
      "Order (1, 1, 3): MAE = 6.5427565432171075\n",
      "Order (1, 1, 4): MAE = 6.5661218667645285\n",
      "Order (1, 1, 5): MAE = 6.554894450517151\n",
      "Order (1, 1, 6): MAE = 6.545838170875654\n",
      "Order (2, 0, 0): MAE = 6.542336825100505\n",
      "Order (2, 0, 1): MAE = 6.542272271542415\n",
      "Order (2, 0, 2): MAE = 6.556463643181913\n",
      "Order (2, 0, 3): MAE = 6.542134770429703\n",
      "Order (2, 0, 4): MAE = 6.5416159774823655\n",
      "Order (2, 0, 5): MAE = 6.54469353629312\n",
      "Order (2, 0, 6): MAE = 6.546532110680475\n",
      "Order (2, 1, 0): MAE = 10.243297032242253\n",
      "Order (2, 1, 1): MAE = 6.552062109900826\n",
      "Order (2, 1, 2): MAE = 6.54186981521412\n"
     ]
    },
    {
     "name": "stderr",
     "output_type": "stream",
     "text": [
      "/Users/alikhan/anaconda3/lib/python3.10/site-packages/statsmodels/base/model.py:604: ConvergenceWarning: Maximum Likelihood optimization failed to converge. Check mle_retvals\n",
      "  warnings.warn(\"Maximum Likelihood optimization failed to \"\n"
     ]
    },
    {
     "name": "stdout",
     "output_type": "stream",
     "text": [
      "Order (2, 1, 3): MAE = 6.5420109639709745\n"
     ]
    },
    {
     "name": "stderr",
     "output_type": "stream",
     "text": [
      "/Users/alikhan/anaconda3/lib/python3.10/site-packages/statsmodels/base/model.py:604: ConvergenceWarning: Maximum Likelihood optimization failed to converge. Check mle_retvals\n",
      "  warnings.warn(\"Maximum Likelihood optimization failed to \"\n"
     ]
    },
    {
     "name": "stdout",
     "output_type": "stream",
     "text": [
      "Order (2, 1, 4): MAE = 6.549848039186804\n"
     ]
    },
    {
     "name": "stderr",
     "output_type": "stream",
     "text": [
      "/Users/alikhan/anaconda3/lib/python3.10/site-packages/statsmodels/base/model.py:604: ConvergenceWarning: Maximum Likelihood optimization failed to converge. Check mle_retvals\n",
      "  warnings.warn(\"Maximum Likelihood optimization failed to \"\n"
     ]
    },
    {
     "name": "stdout",
     "output_type": "stream",
     "text": [
      "Order (2, 1, 5): MAE = 6.549706422612489\n"
     ]
    },
    {
     "name": "stderr",
     "output_type": "stream",
     "text": [
      "/Users/alikhan/anaconda3/lib/python3.10/site-packages/statsmodels/base/model.py:604: ConvergenceWarning: Maximum Likelihood optimization failed to converge. Check mle_retvals\n",
      "  warnings.warn(\"Maximum Likelihood optimization failed to \"\n"
     ]
    },
    {
     "name": "stdout",
     "output_type": "stream",
     "text": [
      "Order (2, 1, 6): MAE = 6.545395062420289\n",
      "Best Order for Stock ID 125: (0, 1, 3)\n",
      "Best MAE for Stock ID 125: 6.446087696658558\n",
      "\n",
      "Training and evaluating for Stock ID: 126\n",
      "Training Set Date Range: 0 -- 477\n",
      "Testing Set Date Range: 478 -- 480\n",
      "Order (0, 0, 0): MAE = 5.35522573627073\n",
      "Order (0, 0, 1): MAE = 5.363673305590725\n",
      "Order (0, 0, 2): MAE = 5.363194940768665\n",
      "Order (0, 0, 3): MAE = 5.366830130458568\n",
      "Order (0, 0, 4): MAE = 5.356817576354282\n",
      "Order (0, 0, 5): MAE = 5.395954737055894\n",
      "Order (0, 0, 6): MAE = 5.393413930870459\n",
      "Order (0, 1, 0): MAE = 6.623744942\n",
      "Order (0, 1, 1): MAE = 5.913557323341673\n",
      "Order (0, 1, 2): MAE = 5.618640925303231\n",
      "Order (0, 1, 3): MAE = 5.038493890338334\n",
      "Order (0, 1, 4): MAE = 5.436618459893959\n",
      "Order (0, 1, 5): MAE = 5.402332563620391\n",
      "Order (0, 1, 6): MAE = 5.395343410674469\n",
      "Order (1, 0, 0): MAE = 5.340114849382374\n",
      "Order (1, 0, 1): MAE = 5.34230875767977\n",
      "Order (1, 0, 2): MAE = 5.345430876144837\n",
      "Order (1, 0, 3): MAE = 5.349456932984856\n",
      "Order (1, 0, 4): MAE = 5.359570392030692\n",
      "Order (1, 0, 5): MAE = 5.393547497761563\n"
     ]
    },
    {
     "name": "stderr",
     "output_type": "stream",
     "text": [
      "/Users/alikhan/anaconda3/lib/python3.10/site-packages/statsmodels/base/model.py:604: ConvergenceWarning: Maximum Likelihood optimization failed to converge. Check mle_retvals\n",
      "  warnings.warn(\"Maximum Likelihood optimization failed to \"\n"
     ]
    },
    {
     "name": "stdout",
     "output_type": "stream",
     "text": [
      "Order (1, 0, 6): MAE = 5.394359616356104\n",
      "Order (1, 1, 0): MAE = 6.014039754022837\n",
      "Order (1, 1, 1): MAE = 5.339566435731987\n",
      "Order (1, 1, 2): MAE = 5.342300077987549\n",
      "Order (1, 1, 3): MAE = 5.344837695701688\n",
      "Order (1, 1, 4): MAE = 5.469765173762803\n",
      "Order (1, 1, 5): MAE = 5.359014913200157\n"
     ]
    },
    {
     "name": "stderr",
     "output_type": "stream",
     "text": [
      "/Users/alikhan/anaconda3/lib/python3.10/site-packages/statsmodels/base/model.py:604: ConvergenceWarning: Maximum Likelihood optimization failed to converge. Check mle_retvals\n",
      "  warnings.warn(\"Maximum Likelihood optimization failed to \"\n"
     ]
    },
    {
     "name": "stdout",
     "output_type": "stream",
     "text": [
      "Order (1, 1, 6): MAE = 5.393001597781918\n",
      "Order (2, 0, 0): MAE = 5.342769337424219\n",
      "Order (2, 0, 1): MAE = 5.34354956220982\n",
      "Order (2, 0, 2): MAE = 5.360187605313127\n",
      "Order (2, 0, 3): MAE = 5.347051692222261\n",
      "Order (2, 0, 4): MAE = 5.382371544460386\n",
      "Order (2, 0, 5): MAE = 5.393774265434799\n",
      "Order (2, 0, 6): MAE = 5.39496664090737\n",
      "Order (2, 1, 0): MAE = 5.747149077782374\n",
      "Order (2, 1, 1): MAE = 5.342117852633551\n",
      "Order (2, 1, 2): MAE = 5.343565456945144\n"
     ]
    },
    {
     "name": "stderr",
     "output_type": "stream",
     "text": [
      "/Users/alikhan/anaconda3/lib/python3.10/site-packages/statsmodels/base/model.py:604: ConvergenceWarning: Maximum Likelihood optimization failed to converge. Check mle_retvals\n",
      "  warnings.warn(\"Maximum Likelihood optimization failed to \"\n"
     ]
    },
    {
     "name": "stdout",
     "output_type": "stream",
     "text": [
      "Order (2, 1, 3): MAE = 5.342281287162632\n"
     ]
    },
    {
     "name": "stderr",
     "output_type": "stream",
     "text": [
      "/Users/alikhan/anaconda3/lib/python3.10/site-packages/statsmodels/base/model.py:604: ConvergenceWarning: Maximum Likelihood optimization failed to converge. Check mle_retvals\n",
      "  warnings.warn(\"Maximum Likelihood optimization failed to \"\n"
     ]
    },
    {
     "name": "stdout",
     "output_type": "stream",
     "text": [
      "Order (2, 1, 4): MAE = 5.348235745259431\n"
     ]
    },
    {
     "name": "stderr",
     "output_type": "stream",
     "text": [
      "/Users/alikhan/anaconda3/lib/python3.10/site-packages/statsmodels/base/model.py:604: ConvergenceWarning: Maximum Likelihood optimization failed to converge. Check mle_retvals\n",
      "  warnings.warn(\"Maximum Likelihood optimization failed to \"\n"
     ]
    },
    {
     "name": "stdout",
     "output_type": "stream",
     "text": [
      "Order (2, 1, 5): MAE = 5.348265165191016\n"
     ]
    },
    {
     "name": "stderr",
     "output_type": "stream",
     "text": [
      "/Users/alikhan/anaconda3/lib/python3.10/site-packages/statsmodels/base/model.py:604: ConvergenceWarning: Maximum Likelihood optimization failed to converge. Check mle_retvals\n",
      "  warnings.warn(\"Maximum Likelihood optimization failed to \"\n"
     ]
    },
    {
     "name": "stdout",
     "output_type": "stream",
     "text": [
      "Order (2, 1, 6): MAE = 5.393255487392068\n",
      "Best Order for Stock ID 126: (0, 1, 3)\n",
      "Best MAE for Stock ID 126: 5.038493890338334\n",
      "\n",
      "Training and evaluating for Stock ID: 127\n",
      "Training Set Date Range: 0 -- 477\n",
      "Testing Set Date Range: 478 -- 480\n",
      "Order (0, 0, 0): MAE = 7.573196143169693\n",
      "Order (0, 0, 1): MAE = 7.5768793768403935\n",
      "Order (0, 0, 2): MAE = 7.5966893809584555\n",
      "Order (0, 0, 3): MAE = 7.595058371556946\n",
      "Order (0, 0, 4): MAE = 7.596725571667357\n",
      "Order (0, 0, 5): MAE = 7.612360350893433\n",
      "Order (0, 0, 6): MAE = 7.611009460766426\n",
      "Order (0, 1, 0): MAE = 14.39244781939394\n",
      "Order (0, 1, 1): MAE = 14.810915332829872\n",
      "Order (0, 1, 2): MAE = 14.778447706149283\n",
      "Order (0, 1, 3): MAE = 10.802245547218645\n",
      "Order (0, 1, 4): MAE = 7.59504706386104\n",
      "Order (0, 1, 5): MAE = 7.596731438336569\n",
      "Order (0, 1, 6): MAE = 7.612361802018018\n",
      "Order (1, 0, 0): MAE = 7.639799213098347\n",
      "Order (1, 0, 1): MAE = 7.643015087167872\n",
      "Order (1, 0, 2): MAE = 7.6371716649824535\n",
      "Order (1, 0, 3): MAE = 7.623149279872692\n",
      "Order (1, 0, 4): MAE = 7.619091042161289\n",
      "Order (1, 0, 5): MAE = 7.612173253352743\n",
      "Order (1, 0, 6): MAE = 7.6074286868955765\n",
      "Order (1, 1, 0): MAE = 14.78137826609602\n",
      "Order (1, 1, 1): MAE = 7.6396042929317645\n",
      "Order (1, 1, 2): MAE = 15.011335237941164\n",
      "Order (1, 1, 3): MAE = 7.637074990651547\n",
      "Order (1, 1, 4): MAE = 7.600344733454228\n"
     ]
    },
    {
     "name": "stderr",
     "output_type": "stream",
     "text": [
      "/Users/alikhan/anaconda3/lib/python3.10/site-packages/statsmodels/base/model.py:604: ConvergenceWarning: Maximum Likelihood optimization failed to converge. Check mle_retvals\n",
      "  warnings.warn(\"Maximum Likelihood optimization failed to \"\n"
     ]
    },
    {
     "name": "stdout",
     "output_type": "stream",
     "text": [
      "Order (1, 1, 5): MAE = 7.619035700217469\n"
     ]
    },
    {
     "name": "stderr",
     "output_type": "stream",
     "text": [
      "/Users/alikhan/anaconda3/lib/python3.10/site-packages/statsmodels/base/model.py:604: ConvergenceWarning: Maximum Likelihood optimization failed to converge. Check mle_retvals\n",
      "  warnings.warn(\"Maximum Likelihood optimization failed to \"\n"
     ]
    },
    {
     "name": "stdout",
     "output_type": "stream",
     "text": [
      "Order (1, 1, 6): MAE = 7.612154104393169\n",
      "Order (2, 0, 0): MAE = 7.643545556586559\n",
      "Order (2, 0, 1): MAE = 7.644687453362075\n",
      "Order (2, 0, 2): MAE = 7.611814066719971\n",
      "Order (2, 0, 3): MAE = 7.638578892253661\n",
      "Order (2, 0, 4): MAE = 7.601672706447812\n",
      "Order (2, 0, 5): MAE = 7.6106162658580825\n",
      "Order (2, 0, 6): MAE = 7.606550079204128\n",
      "Order (2, 1, 0): MAE = 14.76676248676818\n",
      "Order (2, 1, 1): MAE = 7.643442994323922\n",
      "Order (2, 1, 2): MAE = 7.638907002743884\n"
     ]
    },
    {
     "name": "stderr",
     "output_type": "stream",
     "text": [
      "/Users/alikhan/anaconda3/lib/python3.10/site-packages/statsmodels/base/model.py:604: ConvergenceWarning: Maximum Likelihood optimization failed to converge. Check mle_retvals\n",
      "  warnings.warn(\"Maximum Likelihood optimization failed to \"\n"
     ]
    },
    {
     "name": "stdout",
     "output_type": "stream",
     "text": [
      "Order (2, 1, 3): MAE = 7.650074522298601\n"
     ]
    },
    {
     "name": "stderr",
     "output_type": "stream",
     "text": [
      "/Users/alikhan/anaconda3/lib/python3.10/site-packages/statsmodels/base/model.py:604: ConvergenceWarning: Maximum Likelihood optimization failed to converge. Check mle_retvals\n",
      "  warnings.warn(\"Maximum Likelihood optimization failed to \"\n"
     ]
    },
    {
     "name": "stdout",
     "output_type": "stream",
     "text": [
      "Order (2, 1, 4): MAE = 7.6386529246719075\n"
     ]
    },
    {
     "name": "stderr",
     "output_type": "stream",
     "text": [
      "/Users/alikhan/anaconda3/lib/python3.10/site-packages/statsmodels/base/model.py:604: ConvergenceWarning: Maximum Likelihood optimization failed to converge. Check mle_retvals\n",
      "  warnings.warn(\"Maximum Likelihood optimization failed to \"\n"
     ]
    },
    {
     "name": "stdout",
     "output_type": "stream",
     "text": [
      "Order (2, 1, 5): MAE = 7.6354891066072605\n"
     ]
    },
    {
     "name": "stderr",
     "output_type": "stream",
     "text": [
      "/Users/alikhan/anaconda3/lib/python3.10/site-packages/statsmodels/base/model.py:604: ConvergenceWarning: Maximum Likelihood optimization failed to converge. Check mle_retvals\n",
      "  warnings.warn(\"Maximum Likelihood optimization failed to \"\n"
     ]
    },
    {
     "name": "stdout",
     "output_type": "stream",
     "text": [
      "Order (2, 1, 6): MAE = 7.610608435401332\n",
      "Best Order for Stock ID 127: (0, 0, 0)\n",
      "Best MAE for Stock ID 127: 7.573196143169693\n",
      "\n",
      "Training and evaluating for Stock ID: 128\n",
      "Training Set Date Range: 0 -- 477\n",
      "Testing Set Date Range: 478 -- 480\n",
      "Order (0, 0, 0): MAE = 4.033646596279893\n",
      "Order (0, 0, 1): MAE = 4.044690927200159\n",
      "Order (0, 0, 2): MAE = 4.044978043773383\n",
      "Order (0, 0, 3): MAE = 4.054208252574569\n",
      "Order (0, 0, 4): MAE = 4.05065798711732\n",
      "Order (0, 0, 5): MAE = 4.059344884847828\n",
      "Order (0, 0, 6): MAE = 4.058707989022989\n",
      "Order (0, 1, 0): MAE = 8.26651751821212\n",
      "Order (0, 1, 1): MAE = 8.147310712182032\n",
      "Order (0, 1, 2): MAE = 8.041132121244601\n",
      "Order (0, 1, 3): MAE = 5.730628751896761\n",
      "Order (0, 1, 4): MAE = 4.069604437635692\n",
      "Order (0, 1, 5): MAE = 4.05620291916572\n",
      "Order (0, 1, 6): MAE = 4.059342964027761\n",
      "Order (1, 0, 0): MAE = 4.074734587726748\n",
      "Order (1, 0, 1): MAE = 4.071413128329733\n",
      "Order (1, 0, 2): MAE = 4.06914532631001\n",
      "Order (1, 0, 3): MAE = 4.070959460092683\n",
      "Order (1, 0, 4): MAE = 4.054847482363538\n",
      "Order (1, 0, 5): MAE = 4.058831681640805\n",
      "Order (1, 0, 6): MAE = 4.056462862514897\n",
      "Order (1, 1, 0): MAE = 8.164466946822373\n",
      "Order (1, 1, 1): MAE = 4.076173327818032\n",
      "Order (1, 1, 2): MAE = 4.071500579589974\n",
      "Order (1, 1, 3): MAE = 4.069160827789021\n",
      "Order (1, 1, 4): MAE = 4.320950618587965\n",
      "Order (1, 1, 5): MAE = 4.054862288404092\n",
      "Order (1, 1, 6): MAE = 4.058864196285324\n",
      "Order (2, 0, 0): MAE = 4.070673022916144\n",
      "Order (2, 0, 1): MAE = 4.0799023745082446\n",
      "Order (2, 0, 2): MAE = 4.062820906079766\n",
      "Order (2, 0, 3): MAE = 4.045305287964946\n",
      "Order (2, 0, 4): MAE = 4.042839298386822\n",
      "Order (2, 0, 5): MAE = 4.057918409559454\n",
      "Order (2, 0, 6): MAE = 4.056293111543402\n",
      "Order (2, 1, 0): MAE = 8.09059378142673\n",
      "Order (2, 1, 1): MAE = 4.0707415277849135\n",
      "Order (2, 1, 2): MAE = 4.079964083974313\n",
      "Order (2, 1, 3): MAE = 4.079792290957308\n",
      "Order (2, 1, 4): MAE = 4.07769087714121\n",
      "Order (2, 1, 5): MAE = 4.077782017796513\n"
     ]
    },
    {
     "name": "stderr",
     "output_type": "stream",
     "text": [
      "/Users/alikhan/anaconda3/lib/python3.10/site-packages/statsmodels/base/model.py:604: ConvergenceWarning: Maximum Likelihood optimization failed to converge. Check mle_retvals\n",
      "  warnings.warn(\"Maximum Likelihood optimization failed to \"\n"
     ]
    },
    {
     "name": "stdout",
     "output_type": "stream",
     "text": [
      "Order (2, 1, 6): MAE = 4.058086427434653\n",
      "Best Order for Stock ID 128: (0, 0, 0)\n",
      "Best MAE for Stock ID 128: 4.033646596279893\n",
      "\n",
      "Training and evaluating for Stock ID: 129\n",
      "Training Set Date Range: 0 -- 477\n",
      "Testing Set Date Range: 478 -- 480\n",
      "Order (0, 0, 0): MAE = 8.058589466157429\n",
      "Order (0, 0, 1): MAE = 8.059457304032525\n",
      "Order (0, 0, 2): MAE = 8.064086624301796\n",
      "Order (0, 0, 3): MAE = 8.059094094032586\n",
      "Order (0, 0, 4): MAE = 8.059043123539395\n",
      "Order (0, 0, 5): MAE = 8.07145309916641\n",
      "Order (0, 0, 6): MAE = 8.071376222232136\n",
      "Order (0, 1, 0): MAE = 9.147037179606059\n",
      "Order (0, 1, 1): MAE = 9.417153038930831\n",
      "Order (0, 1, 2): MAE = 9.648017008838295\n",
      "Order (0, 1, 3): MAE = 11.040172287536185\n",
      "Order (0, 1, 4): MAE = 8.063572115898719\n",
      "Order (0, 1, 5): MAE = 8.059348056734512\n",
      "Order (0, 1, 6): MAE = 8.071491594773065\n",
      "Order (1, 0, 0): MAE = 8.07173065202782\n",
      "Order (1, 0, 1): MAE = 8.067222862915933\n",
      "Order (1, 0, 2): MAE = 8.06549462312665\n",
      "Order (1, 0, 3): MAE = 8.06113410336949\n",
      "Order (1, 0, 4): MAE = 8.064991977424988\n",
      "Order (1, 0, 5): MAE = 8.071395976583572\n",
      "Order (1, 0, 6): MAE = 8.071874628372667\n",
      "Order (1, 1, 0): MAE = 9.381928363745374\n",
      "Order (1, 1, 1): MAE = 8.073771442916208\n",
      "Order (1, 1, 2): MAE = 8.067415520324664\n",
      "Order (1, 1, 3): MAE = 8.0659770352339\n",
      "Order (1, 1, 4): MAE = 8.065692515894343\n"
     ]
    },
    {
     "name": "stderr",
     "output_type": "stream",
     "text": [
      "/Users/alikhan/anaconda3/lib/python3.10/site-packages/statsmodels/base/model.py:604: ConvergenceWarning: Maximum Likelihood optimization failed to converge. Check mle_retvals\n",
      "  warnings.warn(\"Maximum Likelihood optimization failed to \"\n"
     ]
    },
    {
     "name": "stdout",
     "output_type": "stream",
     "text": [
      "Order (1, 1, 5): MAE = 8.065117709595967\n",
      "Order (1, 1, 6): MAE = 8.071430632030381\n",
      "Order (2, 0, 0): MAE = 8.066358079590183\n",
      "Order (2, 0, 1): MAE = 8.06852850006478\n",
      "Order (2, 0, 2): MAE = 8.064300732126679\n",
      "Order (2, 0, 3): MAE = 8.077335917178562\n",
      "Order (2, 0, 4): MAE = 8.069689241150625\n",
      "Order (2, 0, 5): MAE = 8.071116180659018\n",
      "Order (2, 0, 6): MAE = 8.071671719042977\n",
      "Order (2, 1, 0): MAE = 9.551972118472376\n",
      "Order (2, 1, 1): MAE = 8.068343340400958\n",
      "Order (2, 1, 2): MAE = 8.068578487269386\n"
     ]
    },
    {
     "name": "stderr",
     "output_type": "stream",
     "text": [
      "/Users/alikhan/anaconda3/lib/python3.10/site-packages/statsmodels/base/model.py:604: ConvergenceWarning: Maximum Likelihood optimization failed to converge. Check mle_retvals\n",
      "  warnings.warn(\"Maximum Likelihood optimization failed to \"\n"
     ]
    },
    {
     "name": "stdout",
     "output_type": "stream",
     "text": [
      "Order (2, 1, 3): MAE = 8.068429940812875\n"
     ]
    },
    {
     "name": "stderr",
     "output_type": "stream",
     "text": [
      "/Users/alikhan/anaconda3/lib/python3.10/site-packages/statsmodels/base/model.py:604: ConvergenceWarning: Maximum Likelihood optimization failed to converge. Check mle_retvals\n",
      "  warnings.warn(\"Maximum Likelihood optimization failed to \"\n"
     ]
    },
    {
     "name": "stdout",
     "output_type": "stream",
     "text": [
      "Order (2, 1, 4): MAE = 8.064616206407143\n"
     ]
    },
    {
     "name": "stderr",
     "output_type": "stream",
     "text": [
      "/Users/alikhan/anaconda3/lib/python3.10/site-packages/statsmodels/base/model.py:604: ConvergenceWarning: Maximum Likelihood optimization failed to converge. Check mle_retvals\n",
      "  warnings.warn(\"Maximum Likelihood optimization failed to \"\n"
     ]
    },
    {
     "name": "stdout",
     "output_type": "stream",
     "text": [
      "Order (2, 1, 5): MAE = 8.0651132766794\n"
     ]
    },
    {
     "name": "stderr",
     "output_type": "stream",
     "text": [
      "/Users/alikhan/anaconda3/lib/python3.10/site-packages/statsmodels/base/model.py:604: ConvergenceWarning: Maximum Likelihood optimization failed to converge. Check mle_retvals\n",
      "  warnings.warn(\"Maximum Likelihood optimization failed to \"\n"
     ]
    },
    {
     "name": "stdout",
     "output_type": "stream",
     "text": [
      "Order (2, 1, 6): MAE = 8.071295835002449\n",
      "Best Order for Stock ID 129: (0, 0, 0)\n",
      "Best MAE for Stock ID 129: 8.058589466157429\n",
      "\n",
      "Training and evaluating for Stock ID: 130\n",
      "Training Set Date Range: 0 -- 477\n",
      "Testing Set Date Range: 478 -- 480\n",
      "Order (0, 0, 0): MAE = 3.10706440716915\n",
      "Order (0, 0, 1): MAE = 3.108430843469282\n",
      "Order (0, 0, 2): MAE = 3.112184594542736\n",
      "Order (0, 0, 3): MAE = 3.111613928009551\n",
      "Order (0, 0, 4): MAE = 3.109610404595329\n",
      "Order (0, 0, 5): MAE = 3.1224310731353744\n",
      "Order (0, 0, 6): MAE = 3.1216615900048508\n",
      "Order (0, 1, 0): MAE = 3.756125799527273\n",
      "Order (0, 1, 1): MAE = 3.63106464797985\n",
      "Order (0, 1, 2): MAE = 3.571792631170719\n",
      "Order (0, 1, 3): MAE = 3.4490656192158564\n",
      "Order (0, 1, 4): MAE = 3.109301285932035\n",
      "Order (0, 1, 5): MAE = 3.1097953659306947\n",
      "Order (0, 1, 6): MAE = 3.1224235359309085\n",
      "Order (1, 0, 0): MAE = 3.1128604074717874\n",
      "Order (1, 0, 1): MAE = 3.1129047638458673\n",
      "Order (1, 0, 2): MAE = 3.1130813412247913\n",
      "Order (1, 0, 3): MAE = 3.112785438478425\n",
      "Order (1, 0, 4): MAE = 3.1166003809807425\n",
      "Order (1, 0, 5): MAE = 3.12173466284111\n",
      "Order (1, 0, 6): MAE = 3.121507416447234\n",
      "Order (1, 1, 0): MAE = 3.6505002602121204\n",
      "Order (1, 1, 1): MAE = 3.1127513053167717\n",
      "Order (1, 1, 2): MAE = 3.1128100846782294\n",
      "Order (1, 1, 3): MAE = 3.113080787435252\n",
      "Order (1, 1, 4): MAE = 3.1127783745088182\n",
      "Order (1, 1, 5): MAE = 3.1166015606845\n"
     ]
    },
    {
     "name": "stderr",
     "output_type": "stream",
     "text": [
      "/Users/alikhan/anaconda3/lib/python3.10/site-packages/statsmodels/base/model.py:604: ConvergenceWarning: Maximum Likelihood optimization failed to converge. Check mle_retvals\n",
      "  warnings.warn(\"Maximum Likelihood optimization failed to \"\n"
     ]
    },
    {
     "name": "stdout",
     "output_type": "stream",
     "text": [
      "Order (1, 1, 6): MAE = 3.1217282156938024\n",
      "Order (2, 0, 0): MAE = 3.112913127621527\n",
      "Order (2, 0, 1): MAE = 3.113320667129636\n",
      "Order (2, 0, 2): MAE = 3.1135539817680997\n",
      "Order (2, 0, 3): MAE = 3.116574466892914\n",
      "Order (2, 0, 4): MAE = 3.119212138871082\n",
      "Order (2, 0, 5): MAE = 3.121374856356122\n",
      "Order (2, 0, 6): MAE = 3.121744382054106\n",
      "Order (2, 1, 0): MAE = 3.590699302140547\n",
      "Order (2, 1, 1): MAE = 3.1125187233503158\n",
      "Order (2, 1, 2): MAE = 3.1130553395326133\n",
      "Order (2, 1, 3): MAE = 3.1131784345385145\n"
     ]
    },
    {
     "name": "stderr",
     "output_type": "stream",
     "text": [
      "/Users/alikhan/anaconda3/lib/python3.10/site-packages/statsmodels/base/model.py:604: ConvergenceWarning: Maximum Likelihood optimization failed to converge. Check mle_retvals\n",
      "  warnings.warn(\"Maximum Likelihood optimization failed to \"\n"
     ]
    },
    {
     "name": "stdout",
     "output_type": "stream",
     "text": [
      "Order (2, 1, 4): MAE = 3.1133517743097237\n"
     ]
    },
    {
     "name": "stderr",
     "output_type": "stream",
     "text": [
      "/Users/alikhan/anaconda3/lib/python3.10/site-packages/statsmodels/base/model.py:604: ConvergenceWarning: Maximum Likelihood optimization failed to converge. Check mle_retvals\n",
      "  warnings.warn(\"Maximum Likelihood optimization failed to \"\n"
     ]
    },
    {
     "name": "stdout",
     "output_type": "stream",
     "text": [
      "Order (2, 1, 5): MAE = 3.113151333229595\n"
     ]
    },
    {
     "name": "stderr",
     "output_type": "stream",
     "text": [
      "/Users/alikhan/anaconda3/lib/python3.10/site-packages/statsmodels/base/model.py:604: ConvergenceWarning: Maximum Likelihood optimization failed to converge. Check mle_retvals\n",
      "  warnings.warn(\"Maximum Likelihood optimization failed to \"\n"
     ]
    },
    {
     "name": "stdout",
     "output_type": "stream",
     "text": [
      "Order (2, 1, 6): MAE = 3.121331851324534\n",
      "Best Order for Stock ID 130: (0, 0, 0)\n",
      "Best MAE for Stock ID 130: 3.10706440716915\n",
      "\n",
      "Training and evaluating for Stock ID: 131\n",
      "Training Set Date Range: 0 -- 477\n",
      "Testing Set Date Range: 478 -- 480\n",
      "Order (0, 0, 0): MAE = 4.041801067196956\n",
      "Order (0, 0, 1): MAE = 4.041308494861973\n",
      "Order (0, 0, 2): MAE = 4.043310933742425\n",
      "Order (0, 0, 3): MAE = 4.044109290089801\n",
      "Order (0, 0, 4): MAE = 4.0493696328997535\n",
      "Order (0, 0, 5): MAE = 4.052882650561946\n",
      "Order (0, 0, 6): MAE = 4.052437195411087\n",
      "Order (0, 1, 0): MAE = 4.936593949454545\n",
      "Order (0, 1, 1): MAE = 5.014125188065773\n",
      "Order (0, 1, 2): MAE = 4.950205167909546\n",
      "Order (0, 1, 3): MAE = 4.872110890182808\n",
      "Order (0, 1, 4): MAE = 4.050758285014008\n",
      "Order (0, 1, 5): MAE = 4.0507690456899645\n",
      "Order (0, 1, 6): MAE = 4.050750478547179\n",
      "Order (1, 0, 0): MAE = 4.054363757616645\n",
      "Order (1, 0, 1): MAE = 4.055644612256743\n",
      "Order (1, 0, 2): MAE = 4.055085672743795\n",
      "Order (1, 0, 3): MAE = 4.05648947675889\n",
      "Order (1, 0, 4): MAE = 4.060286096334135\n",
      "Order (1, 0, 5): MAE = 4.0525021732679205\n",
      "Order (1, 0, 6): MAE = 4.0499634867200545\n",
      "Order (1, 1, 0): MAE = 5.015338202801373\n",
      "Order (1, 1, 1): MAE = 4.054911986913957\n",
      "Order (1, 1, 2): MAE = 4.057926266687347\n",
      "Order (1, 1, 3): MAE = 4.0536716281954375\n"
     ]
    },
    {
     "name": "stderr",
     "output_type": "stream",
     "text": [
      "/Users/alikhan/anaconda3/lib/python3.10/site-packages/statsmodels/base/model.py:604: ConvergenceWarning: Maximum Likelihood optimization failed to converge. Check mle_retvals\n",
      "  warnings.warn(\"Maximum Likelihood optimization failed to \"\n"
     ]
    },
    {
     "name": "stdout",
     "output_type": "stream",
     "text": [
      "Order (1, 1, 4): MAE = 4.054912959976258\n",
      "Order (1, 1, 5): MAE = 4.058286058766301\n"
     ]
    },
    {
     "name": "stderr",
     "output_type": "stream",
     "text": [
      "/Users/alikhan/anaconda3/lib/python3.10/site-packages/statsmodels/base/model.py:604: ConvergenceWarning: Maximum Likelihood optimization failed to converge. Check mle_retvals\n",
      "  warnings.warn(\"Maximum Likelihood optimization failed to \"\n"
     ]
    },
    {
     "name": "stdout",
     "output_type": "stream",
     "text": [
      "Order (1, 1, 6): MAE = 4.0505542922030715\n",
      "Order (2, 0, 0): MAE = 4.053329094620614\n",
      "Order (2, 0, 1): MAE = 4.050875920761649\n",
      "Order (2, 0, 2): MAE = 4.048299615309868\n",
      "Order (2, 0, 3): MAE = 4.053960338318534\n",
      "Order (2, 0, 4): MAE = 4.055134563882909\n",
      "Order (2, 0, 5): MAE = 4.05174409122981\n"
     ]
    },
    {
     "name": "stderr",
     "output_type": "stream",
     "text": [
      "/Users/alikhan/anaconda3/lib/python3.10/site-packages/statsmodels/base/model.py:604: ConvergenceWarning: Maximum Likelihood optimization failed to converge. Check mle_retvals\n",
      "  warnings.warn(\"Maximum Likelihood optimization failed to \"\n"
     ]
    },
    {
     "name": "stdout",
     "output_type": "stream",
     "text": [
      "Order (2, 0, 6): MAE = 4.035801595377779\n",
      "Order (2, 1, 0): MAE = 4.964470771389291\n",
      "Order (2, 1, 1): MAE = 4.0537564421829355\n",
      "Order (2, 1, 2): MAE = 4.051180576452748\n",
      "Order (2, 1, 3): MAE = 4.051847226280554\n"
     ]
    },
    {
     "name": "stderr",
     "output_type": "stream",
     "text": [
      "/Users/alikhan/anaconda3/lib/python3.10/site-packages/statsmodels/base/model.py:604: ConvergenceWarning: Maximum Likelihood optimization failed to converge. Check mle_retvals\n",
      "  warnings.warn(\"Maximum Likelihood optimization failed to \"\n"
     ]
    },
    {
     "name": "stdout",
     "output_type": "stream",
     "text": [
      "Order (2, 1, 4): MAE = 4.053031236752326\n"
     ]
    },
    {
     "name": "stderr",
     "output_type": "stream",
     "text": [
      "/Users/alikhan/anaconda3/lib/python3.10/site-packages/statsmodels/base/model.py:604: ConvergenceWarning: Maximum Likelihood optimization failed to converge. Check mle_retvals\n",
      "  warnings.warn(\"Maximum Likelihood optimization failed to \"\n"
     ]
    },
    {
     "name": "stdout",
     "output_type": "stream",
     "text": [
      "Order (2, 1, 5): MAE = 4.0546132784301285\n"
     ]
    },
    {
     "name": "stderr",
     "output_type": "stream",
     "text": [
      "/Users/alikhan/anaconda3/lib/python3.10/site-packages/statsmodels/base/model.py:604: ConvergenceWarning: Maximum Likelihood optimization failed to converge. Check mle_retvals\n",
      "  warnings.warn(\"Maximum Likelihood optimization failed to \"\n"
     ]
    },
    {
     "name": "stdout",
     "output_type": "stream",
     "text": [
      "Order (2, 1, 6): MAE = 4.0511038642975485\n",
      "Best Order for Stock ID 131: (2, 0, 6)\n",
      "Best MAE for Stock ID 131: 4.035801595377779\n",
      "\n",
      "Training and evaluating for Stock ID: 132\n",
      "Training Set Date Range: 0 -- 477\n",
      "Testing Set Date Range: 478 -- 480\n",
      "Order (0, 0, 0): MAE = 4.986732753286231\n",
      "Order (0, 0, 1): MAE = 5.006417012930366\n",
      "Order (0, 0, 2): MAE = 5.008247934219754\n",
      "Order (0, 0, 3): MAE = 5.019823687024498\n",
      "Order (0, 0, 4): MAE = 5.021869055142852\n",
      "Order (0, 0, 5): MAE = 5.070205020655689\n",
      "Order (0, 0, 6): MAE = 5.0546870125951475\n",
      "Order (0, 1, 0): MAE = 10.759877436715152\n",
      "Order (0, 1, 1): MAE = 9.711011832729556\n",
      "Order (0, 1, 2): MAE = 9.264946324147667\n",
      "Order (0, 1, 3): MAE = 4.841170259325346\n",
      "Order (0, 1, 4): MAE = 4.990254357443404\n",
      "Order (0, 1, 5): MAE = 4.997548503821555\n",
      "Order (0, 1, 6): MAE = 5.070564612595297\n",
      "Order (1, 0, 0): MAE = 5.051951608414225\n",
      "Order (1, 0, 1): MAE = 5.053728234178533\n",
      "Order (1, 0, 2): MAE = 5.050955229029519\n",
      "Order (1, 0, 3): MAE = 5.062517557892816\n",
      "Order (1, 0, 4): MAE = 5.054029924066494\n",
      "Order (1, 0, 5): MAE = 5.058638509924631\n",
      "Order (1, 0, 6): MAE = 5.050322726666153\n",
      "Order (1, 1, 0): MAE = 9.959153696727373\n",
      "Order (1, 1, 1): MAE = 5.039979111658949\n",
      "Order (1, 1, 2): MAE = 5.053046498695767\n",
      "Order (1, 1, 3): MAE = 5.050502783593465\n",
      "Order (1, 1, 4): MAE = 4.986425095354164\n"
     ]
    },
    {
     "name": "stderr",
     "output_type": "stream",
     "text": [
      "/Users/alikhan/anaconda3/lib/python3.10/site-packages/statsmodels/base/model.py:604: ConvergenceWarning: Maximum Likelihood optimization failed to converge. Check mle_retvals\n",
      "  warnings.warn(\"Maximum Likelihood optimization failed to \"\n"
     ]
    },
    {
     "name": "stdout",
     "output_type": "stream",
     "text": [
      "Order (1, 1, 5): MAE = 5.053940003245181\n",
      "Order (1, 1, 6): MAE = 5.054152154787334\n",
      "Order (2, 0, 0): MAE = 5.05386437966459\n",
      "Order (2, 0, 1): MAE = 5.054717664747106\n",
      "Order (2, 0, 2): MAE = 5.041217194633162\n",
      "Order (2, 0, 3): MAE = 5.0562462287680745\n",
      "Order (2, 0, 4): MAE = 5.032095653499874\n",
      "Order (2, 0, 5): MAE = 5.054362122537062\n",
      "Order (2, 0, 6): MAE = 5.053727188623903\n",
      "Order (2, 1, 0): MAE = 9.696063267252622\n",
      "Order (2, 1, 1): MAE = 5.034545854083342\n",
      "Order (2, 1, 2): MAE = 5.050326567758164\n",
      "Order (2, 1, 3): MAE = 5.059695788840446\n",
      "Order (2, 1, 4): MAE = 4.8527138131751055\n"
     ]
    },
    {
     "name": "stderr",
     "output_type": "stream",
     "text": [
      "/Users/alikhan/anaconda3/lib/python3.10/site-packages/statsmodels/base/model.py:604: ConvergenceWarning: Maximum Likelihood optimization failed to converge. Check mle_retvals\n",
      "  warnings.warn(\"Maximum Likelihood optimization failed to \"\n"
     ]
    },
    {
     "name": "stdout",
     "output_type": "stream",
     "text": [
      "Order (2, 1, 5): MAE = 5.054580698906203\n",
      "Order (2, 1, 6): MAE = 5.046470744090992\n",
      "Best Order for Stock ID 132: (0, 1, 3)\n",
      "Best MAE for Stock ID 132: 4.841170259325346\n",
      "\n",
      "Training and evaluating for Stock ID: 133\n",
      "Training Set Date Range: 0 -- 477\n",
      "Testing Set Date Range: 478 -- 480\n",
      "Order (0, 0, 0): MAE = 3.761344368798576\n",
      "Order (0, 0, 1): MAE = 3.7626790932861933\n",
      "Order (0, 0, 2): MAE = 3.7634442397695254\n",
      "Order (0, 0, 3): MAE = 3.7620194407364465\n",
      "Order (0, 0, 4): MAE = 3.766275873330803\n",
      "Order (0, 0, 5): MAE = 3.7702994887509726\n",
      "Order (0, 0, 6): MAE = 3.769622057927724\n",
      "Order (0, 1, 0): MAE = 4.273429048096969\n",
      "Order (0, 1, 1): MAE = 4.838134561654218\n",
      "Order (0, 1, 2): MAE = 4.845787962074798\n",
      "Order (0, 1, 3): MAE = 3.7550617692743384\n",
      "Order (0, 1, 4): MAE = 3.7660858669196915\n",
      "Order (0, 1, 5): MAE = 3.7662985092898986\n"
     ]
    },
    {
     "name": "stderr",
     "output_type": "stream",
     "text": [
      "/Users/alikhan/anaconda3/lib/python3.10/site-packages/statsmodels/base/model.py:604: ConvergenceWarning: Maximum Likelihood optimization failed to converge. Check mle_retvals\n",
      "  warnings.warn(\"Maximum Likelihood optimization failed to \"\n"
     ]
    },
    {
     "name": "stdout",
     "output_type": "stream",
     "text": [
      "Order (0, 1, 6): MAE = 3.770318563502942\n",
      "Order (1, 0, 0): MAE = 3.763836104021632\n",
      "Order (1, 0, 1): MAE = 3.765718872913954\n",
      "Order (1, 0, 2): MAE = 3.7655416149139276\n",
      "Order (1, 0, 3): MAE = 3.766448671168698\n",
      "Order (1, 0, 4): MAE = 3.7719314062133575\n",
      "Order (1, 0, 5): MAE = 3.770115934089843\n",
      "Order (1, 0, 6): MAE = 3.7694557252864223\n",
      "Order (1, 1, 0): MAE = 4.766967898180166\n",
      "Order (1, 1, 1): MAE = 3.7654259161218544\n",
      "Order (1, 1, 2): MAE = 3.76592687755967\n",
      "Order (1, 1, 3): MAE = 3.7657633385235227\n",
      "Order (1, 1, 4): MAE = 3.761761127452328\n",
      "Order (1, 1, 5): MAE = 3.7719620028000116\n",
      "Order (1, 1, 6): MAE = 3.770125684217602\n",
      "Order (2, 0, 0): MAE = 3.766016589784772\n",
      "Order (2, 0, 1): MAE = 3.7630758054079987\n",
      "Order (2, 0, 2): MAE = 3.7680303078933477\n",
      "Order (2, 0, 3): MAE = 3.7652133407869064\n",
      "Order (2, 0, 4): MAE = 3.7711044194771985\n",
      "Order (2, 0, 5): MAE = 3.769343009103113\n",
      "Order (2, 0, 6): MAE = 3.7697417096047046\n",
      "Order (2, 1, 0): MAE = 4.805918130490879\n",
      "Order (2, 1, 1): MAE = 3.7660561226744025\n",
      "Order (2, 1, 2): MAE = 3.76320174093404\n",
      "Order (2, 1, 3): MAE = 3.765523396360034\n"
     ]
    },
    {
     "name": "stderr",
     "output_type": "stream",
     "text": [
      "/Users/alikhan/anaconda3/lib/python3.10/site-packages/statsmodels/base/model.py:604: ConvergenceWarning: Maximum Likelihood optimization failed to converge. Check mle_retvals\n",
      "  warnings.warn(\"Maximum Likelihood optimization failed to \"\n"
     ]
    },
    {
     "name": "stdout",
     "output_type": "stream",
     "text": [
      "Order (2, 1, 4): MAE = 3.765241953812938\n"
     ]
    },
    {
     "name": "stderr",
     "output_type": "stream",
     "text": [
      "/Users/alikhan/anaconda3/lib/python3.10/site-packages/statsmodels/base/model.py:604: ConvergenceWarning: Maximum Likelihood optimization failed to converge. Check mle_retvals\n",
      "  warnings.warn(\"Maximum Likelihood optimization failed to \"\n"
     ]
    },
    {
     "name": "stdout",
     "output_type": "stream",
     "text": [
      "Order (2, 1, 5): MAE = 3.7660920171120176\n"
     ]
    },
    {
     "name": "stderr",
     "output_type": "stream",
     "text": [
      "/Users/alikhan/anaconda3/lib/python3.10/site-packages/statsmodels/base/model.py:604: ConvergenceWarning: Maximum Likelihood optimization failed to converge. Check mle_retvals\n",
      "  warnings.warn(\"Maximum Likelihood optimization failed to \"\n"
     ]
    },
    {
     "name": "stdout",
     "output_type": "stream",
     "text": [
      "Order (2, 1, 6): MAE = 3.769483254386233\n",
      "Best Order for Stock ID 133: (0, 1, 3)\n",
      "Best MAE for Stock ID 133: 3.7550617692743384\n",
      "\n",
      "Training and evaluating for Stock ID: 134\n",
      "Training Set Date Range: 0 -- 477\n",
      "Testing Set Date Range: 478 -- 480\n",
      "Order (0, 0, 0): MAE = 5.5200949500504715\n",
      "Order (0, 0, 1): MAE = 5.521587026346484\n",
      "Order (0, 0, 2): MAE = 5.531367538680795\n",
      "Order (0, 0, 3): MAE = 5.531859371904176\n",
      "Order (0, 0, 4): MAE = 5.540837003291531\n",
      "Order (0, 0, 5): MAE = 5.530936530894649\n",
      "Order (0, 0, 6): MAE = 5.530966370639186\n",
      "Order (0, 1, 0): MAE = 8.973038391272727\n",
      "Order (0, 1, 1): MAE = 9.066001395106902\n",
      "Order (0, 1, 2): MAE = 9.110681025476596\n",
      "Order (0, 1, 3): MAE = 9.259417377242185\n",
      "Order (0, 1, 4): MAE = 5.199383728745367\n",
      "Order (0, 1, 5): MAE = 5.212236605442279\n"
     ]
    },
    {
     "name": "stderr",
     "output_type": "stream",
     "text": [
      "/Users/alikhan/anaconda3/lib/python3.10/site-packages/statsmodels/base/model.py:604: ConvergenceWarning: Maximum Likelihood optimization failed to converge. Check mle_retvals\n",
      "  warnings.warn(\"Maximum Likelihood optimization failed to \"\n"
     ]
    },
    {
     "name": "stdout",
     "output_type": "stream",
     "text": [
      "Order (0, 1, 6): MAE = 5.530926201833918\n",
      "Order (1, 0, 0): MAE = 5.580303316889855\n",
      "Order (1, 0, 1): MAE = 5.5707003627530005\n",
      "Order (1, 0, 2): MAE = 5.565018251382063\n",
      "Order (1, 0, 3): MAE = 5.557927617856908\n",
      "Order (1, 0, 4): MAE = 5.553177284409502\n",
      "Order (1, 0, 5): MAE = 5.530991492449497\n",
      "Order (1, 0, 6): MAE = 5.5264407205687744\n",
      "Order (1, 1, 0): MAE = 9.056894030389\n",
      "Order (1, 1, 1): MAE = 5.5803482965715805\n",
      "Order (1, 1, 2): MAE = 5.570751762331957\n",
      "Order (1, 1, 3): MAE = 5.565045838862429\n",
      "Order (1, 1, 4): MAE = 5.557983328569556\n",
      "Order (1, 1, 5): MAE = 5.55330143354879\n"
     ]
    },
    {
     "name": "stderr",
     "output_type": "stream",
     "text": [
      "/Users/alikhan/anaconda3/lib/python3.10/site-packages/statsmodels/base/model.py:604: ConvergenceWarning: Maximum Likelihood optimization failed to converge. Check mle_retvals\n",
      "  warnings.warn(\"Maximum Likelihood optimization failed to \"\n"
     ]
    },
    {
     "name": "stdout",
     "output_type": "stream",
     "text": [
      "Order (1, 1, 6): MAE = 5.530984272207589\n",
      "Order (2, 0, 0): MAE = 5.56832772611101\n",
      "Order (2, 0, 1): MAE = 5.569958653538516\n",
      "Order (2, 0, 2): MAE = 5.534822337123094\n",
      "Order (2, 0, 3): MAE = 5.529994490793161\n",
      "Order (2, 0, 4): MAE = 5.536730135396911\n",
      "Order (2, 0, 5): MAE = 5.530225298732045\n",
      "Order (2, 0, 6): MAE = 5.526931254048603\n",
      "Order (2, 1, 0): MAE = 9.088363665741154\n",
      "Order (2, 1, 1): MAE = 5.568373506341082\n",
      "Order (2, 1, 2): MAE = 5.569885330772245\n",
      "Order (2, 1, 3): MAE = 5.568040518226582\n",
      "Order (2, 1, 4): MAE = 5.557767910710348\n",
      "Order (2, 1, 5): MAE = 5.298220474957134\n",
      "Order (2, 1, 6): MAE = 5.406704772941907\n",
      "Best Order for Stock ID 134: (0, 1, 4)\n",
      "Best MAE for Stock ID 134: 5.199383728745367\n",
      "\n",
      "Training and evaluating for Stock ID: 136\n",
      "Training Set Date Range: 0 -- 477\n",
      "Testing Set Date Range: 478 -- 480\n",
      "Order (0, 0, 0): MAE = 6.125252791789341\n",
      "Order (0, 0, 1): MAE = 6.1270950289117625\n",
      "Order (0, 0, 2): MAE = 6.128632150363951\n",
      "Order (0, 0, 3): MAE = 6.129821482766354\n",
      "Order (0, 0, 4): MAE = 6.130438840565266\n",
      "Order (0, 0, 5): MAE = 6.144307305595862\n",
      "Order (0, 0, 6): MAE = 6.140633347884096\n",
      "Order (0, 1, 0): MAE = 6.723234164024243\n",
      "Order (0, 1, 1): MAE = 6.484944771370246\n",
      "Order (0, 1, 2): MAE = 6.353949237126942\n",
      "Order (0, 1, 3): MAE = 6.132617467645975\n",
      "Order (0, 1, 4): MAE = 6.129822126643455\n",
      "Order (0, 1, 5): MAE = 6.130440020619461\n",
      "Order (0, 1, 6): MAE = 6.144309599208521\n",
      "Order (1, 0, 0): MAE = 6.129930453822793\n",
      "Order (1, 0, 1): MAE = 6.1299406419366855\n",
      "Order (1, 0, 2): MAE = 6.130317286108358\n",
      "Order (1, 0, 3): MAE = 6.133209680417996\n",
      "Order (1, 0, 4): MAE = 6.1387639894214345\n",
      "Order (1, 0, 5): MAE = 6.141269790981693\n",
      "Order (1, 0, 6): MAE = 6.141077766517034\n",
      "Order (1, 1, 0): MAE = 6.547161336653021\n",
      "Order (1, 1, 1): MAE = 6.129932773898865\n",
      "Order (1, 1, 2): MAE = 6.129943950907621\n",
      "Order (1, 1, 3): MAE = 6.1303192749453945\n"
     ]
    },
    {
     "name": "stderr",
     "output_type": "stream",
     "text": [
      "/Users/alikhan/anaconda3/lib/python3.10/site-packages/statsmodels/base/model.py:604: ConvergenceWarning: Maximum Likelihood optimization failed to converge. Check mle_retvals\n",
      "  warnings.warn(\"Maximum Likelihood optimization failed to \"\n"
     ]
    },
    {
     "name": "stdout",
     "output_type": "stream",
     "text": [
      "Order (1, 1, 4): MAE = 6.128572803664524\n"
     ]
    },
    {
     "name": "stderr",
     "output_type": "stream",
     "text": [
      "/Users/alikhan/anaconda3/lib/python3.10/site-packages/statsmodels/base/model.py:604: ConvergenceWarning: Maximum Likelihood optimization failed to converge. Check mle_retvals\n",
      "  warnings.warn(\"Maximum Likelihood optimization failed to \"\n"
     ]
    },
    {
     "name": "stdout",
     "output_type": "stream",
     "text": [
      "Order (1, 1, 5): MAE = 6.138768579208224\n",
      "Order (1, 1, 6): MAE = 6.141269758707241\n",
      "Order (2, 0, 0): MAE = 6.129942186097062\n",
      "Order (2, 0, 1): MAE = 6.129168079566762\n",
      "Order (2, 0, 2): MAE = 6.133956082187209\n",
      "Order (2, 0, 3): MAE = 6.143108762125708\n",
      "Order (2, 0, 4): MAE = 6.140855805472151\n",
      "Order (2, 0, 5): MAE = 6.140933032320163\n",
      "Order (2, 0, 6): MAE = 6.1411165647777235\n",
      "Order (2, 1, 0): MAE = 6.4313502511835585\n",
      "Order (2, 1, 1): MAE = 6.12994412469723\n",
      "Order (2, 1, 2): MAE = 6.129172485989049\n",
      "Order (2, 1, 3): MAE = 6.128788607727727\n"
     ]
    },
    {
     "name": "stderr",
     "output_type": "stream",
     "text": [
      "/Users/alikhan/anaconda3/lib/python3.10/site-packages/statsmodels/base/model.py:604: ConvergenceWarning: Maximum Likelihood optimization failed to converge. Check mle_retvals\n",
      "  warnings.warn(\"Maximum Likelihood optimization failed to \"\n"
     ]
    },
    {
     "name": "stdout",
     "output_type": "stream",
     "text": [
      "Order (2, 1, 4): MAE = 6.129486611466191\n"
     ]
    },
    {
     "name": "stderr",
     "output_type": "stream",
     "text": [
      "/Users/alikhan/anaconda3/lib/python3.10/site-packages/statsmodels/base/model.py:604: ConvergenceWarning: Maximum Likelihood optimization failed to converge. Check mle_retvals\n",
      "  warnings.warn(\"Maximum Likelihood optimization failed to \"\n"
     ]
    },
    {
     "name": "stdout",
     "output_type": "stream",
     "text": [
      "Order (2, 1, 5): MAE = 6.130344420806524\n"
     ]
    },
    {
     "name": "stderr",
     "output_type": "stream",
     "text": [
      "/Users/alikhan/anaconda3/lib/python3.10/site-packages/statsmodels/base/model.py:604: ConvergenceWarning: Maximum Likelihood optimization failed to converge. Check mle_retvals\n",
      "  warnings.warn(\"Maximum Likelihood optimization failed to \"\n"
     ]
    },
    {
     "name": "stdout",
     "output_type": "stream",
     "text": [
      "Order (2, 1, 6): MAE = 6.140936953674675\n",
      "Best Order for Stock ID 136: (0, 0, 0)\n",
      "Best MAE for Stock ID 136: 6.125252791789341\n",
      "\n",
      "Training and evaluating for Stock ID: 137\n",
      "Training Set Date Range: 0 -- 477\n",
      "Testing Set Date Range: 478 -- 480\n",
      "Order (0, 0, 0): MAE = 3.7452945842514658\n",
      "Order (0, 0, 1): MAE = 3.745655731771467\n",
      "Order (0, 0, 2): MAE = 3.745846392462845\n",
      "Order (0, 0, 3): MAE = 3.746298343114903\n",
      "Order (0, 0, 4): MAE = 3.7462512875203116\n",
      "Order (0, 0, 5): MAE = 3.747737466054032\n",
      "Order (0, 0, 6): MAE = 3.747546191083343\n",
      "Order (0, 1, 0): MAE = 4.6805215514909095\n",
      "Order (0, 1, 1): MAE = 4.775057208679941\n",
      "Order (0, 1, 2): MAE = 4.842445931498917\n",
      "Order (0, 1, 3): MAE = 4.028846018795613\n",
      "Order (0, 1, 4): MAE = 3.746314859854954\n",
      "Order (0, 1, 5): MAE = 3.746267727733338\n",
      "Order (0, 1, 6): MAE = 3.747774093977914\n",
      "Order (1, 0, 0): MAE = 3.750198157242773\n",
      "Order (1, 0, 1): MAE = 3.7500549782837074\n",
      "Order (1, 0, 2): MAE = 3.7487165304866696\n",
      "Order (1, 0, 3): MAE = 3.7483567576204013\n",
      "Order (1, 0, 4): MAE = 3.747779336273038\n",
      "Order (1, 0, 5): MAE = 3.747564822105589\n",
      "Order (1, 0, 6): MAE = 3.748261617749625\n",
      "Order (1, 1, 0): MAE = 4.744432415253539\n",
      "Order (1, 1, 1): MAE = 3.750409147924664\n",
      "Order (1, 1, 2): MAE = 3.7500682365239\n",
      "Order (1, 1, 3): MAE = 3.748783328428372\n",
      "Order (1, 1, 4): MAE = 3.7458881850427095\n",
      "Order (1, 1, 5): MAE = 3.747812694579212\n"
     ]
    },
    {
     "name": "stderr",
     "output_type": "stream",
     "text": [
      "/Users/alikhan/anaconda3/lib/python3.10/site-packages/statsmodels/base/model.py:604: ConvergenceWarning: Maximum Likelihood optimization failed to converge. Check mle_retvals\n",
      "  warnings.warn(\"Maximum Likelihood optimization failed to \"\n"
     ]
    },
    {
     "name": "stdout",
     "output_type": "stream",
     "text": [
      "Order (1, 1, 6): MAE = 3.7475964363376835\n",
      "Order (2, 0, 0): MAE = 3.7500171330908\n",
      "Order (2, 0, 1): MAE = 3.7503420326416\n",
      "Order (2, 0, 2): MAE = 3.7492791736837874\n",
      "Order (2, 0, 3): MAE = 3.7495337008693217\n",
      "Order (2, 0, 4): MAE = 3.7477236036468855\n",
      "Order (2, 0, 5): MAE = 3.747552517202505\n",
      "Order (2, 0, 6): MAE = 3.748354653983148\n",
      "Order (2, 1, 0): MAE = 4.789919453762942\n",
      "Order (2, 1, 1): MAE = 3.750085614815755\n",
      "Order (2, 1, 2): MAE = 3.749785548776512\n",
      "Order (2, 1, 3): MAE = 3.7501400663004176\n"
     ]
    },
    {
     "name": "stderr",
     "output_type": "stream",
     "text": [
      "/Users/alikhan/anaconda3/lib/python3.10/site-packages/statsmodels/base/model.py:604: ConvergenceWarning: Maximum Likelihood optimization failed to converge. Check mle_retvals\n",
      "  warnings.warn(\"Maximum Likelihood optimization failed to \"\n"
     ]
    },
    {
     "name": "stdout",
     "output_type": "stream",
     "text": [
      "Order (2, 1, 4): MAE = 3.748274352420205\n"
     ]
    },
    {
     "name": "stderr",
     "output_type": "stream",
     "text": [
      "/Users/alikhan/anaconda3/lib/python3.10/site-packages/statsmodels/base/model.py:604: ConvergenceWarning: Maximum Likelihood optimization failed to converge. Check mle_retvals\n",
      "  warnings.warn(\"Maximum Likelihood optimization failed to \"\n"
     ]
    },
    {
     "name": "stdout",
     "output_type": "stream",
     "text": [
      "Order (2, 1, 5): MAE = 3.7484789226755035\n"
     ]
    },
    {
     "name": "stderr",
     "output_type": "stream",
     "text": [
      "/Users/alikhan/anaconda3/lib/python3.10/site-packages/statsmodels/base/model.py:604: ConvergenceWarning: Maximum Likelihood optimization failed to converge. Check mle_retvals\n",
      "  warnings.warn(\"Maximum Likelihood optimization failed to \"\n"
     ]
    },
    {
     "name": "stdout",
     "output_type": "stream",
     "text": [
      "Order (2, 1, 6): MAE = 3.7475852311840456\n",
      "Best Order for Stock ID 137: (0, 0, 0)\n",
      "Best MAE for Stock ID 137: 3.7452945842514658\n",
      "\n",
      "Training and evaluating for Stock ID: 138\n",
      "Training Set Date Range: 0 -- 477\n",
      "Testing Set Date Range: 478 -- 480\n",
      "Order (0, 0, 0): MAE = 9.267709561555051\n",
      "Order (0, 0, 1): MAE = 9.279171364863398\n",
      "Order (0, 0, 2): MAE = 9.286774466582973\n",
      "Order (0, 0, 3): MAE = 9.2965379013403\n",
      "Order (0, 0, 4): MAE = 9.316205140977798\n",
      "Order (0, 0, 5): MAE = 9.333710531634633\n",
      "Order (0, 0, 6): MAE = 9.329801500513913\n",
      "Order (0, 1, 0): MAE = 18.170400131030302\n",
      "Order (0, 1, 1): MAE = 18.681869781069896\n",
      "Order (0, 1, 2): MAE = 18.643090607052333\n",
      "Order (0, 1, 3): MAE = 9.34074930908513\n",
      "Order (0, 1, 4): MAE = 9.298569507417634\n",
      "Order (0, 1, 5): MAE = 9.316368374427812\n"
     ]
    },
    {
     "name": "stderr",
     "output_type": "stream",
     "text": [
      "/Users/alikhan/anaconda3/lib/python3.10/site-packages/statsmodels/base/model.py:604: ConvergenceWarning: Maximum Likelihood optimization failed to converge. Check mle_retvals\n",
      "  warnings.warn(\"Maximum Likelihood optimization failed to \"\n"
     ]
    },
    {
     "name": "stdout",
     "output_type": "stream",
     "text": [
      "Order (0, 1, 6): MAE = 9.334060294450024\n",
      "Order (1, 0, 0): MAE = 9.35414538016503\n",
      "Order (1, 0, 1): MAE = 9.361208401246808\n",
      "Order (1, 0, 2): MAE = 9.353169767569685\n",
      "Order (1, 0, 3): MAE = 9.355781909248153\n",
      "Order (1, 0, 4): MAE = 9.34785880264266\n",
      "Order (1, 0, 5): MAE = 9.332062064761852\n",
      "Order (1, 0, 6): MAE = 9.317078093589428\n",
      "Order (1, 1, 0): MAE = 18.553136130397593\n",
      "Order (1, 1, 1): MAE = 9.35450961579784\n",
      "Order (1, 1, 2): MAE = 18.79031278168845\n",
      "Order (1, 1, 3): MAE = 9.353185926231324\n",
      "Order (1, 1, 4): MAE = 9.316916849843327\n",
      "Order (1, 1, 5): MAE = 9.279796477522593\n"
     ]
    },
    {
     "name": "stderr",
     "output_type": "stream",
     "text": [
      "/Users/alikhan/anaconda3/lib/python3.10/site-packages/statsmodels/base/model.py:604: ConvergenceWarning: Maximum Likelihood optimization failed to converge. Check mle_retvals\n",
      "  warnings.warn(\"Maximum Likelihood optimization failed to \"\n"
     ]
    },
    {
     "name": "stdout",
     "output_type": "stream",
     "text": [
      "Order (1, 1, 6): MAE = 9.332381496854993\n",
      "Order (2, 0, 0): MAE = 9.361881859589914\n",
      "Order (2, 0, 1): MAE = 9.361455411998739\n",
      "Order (2, 0, 2): MAE = 9.317016486835698\n",
      "Order (2, 0, 3): MAE = 9.309738799750663\n",
      "Order (2, 0, 4): MAE = 9.317264759321894\n",
      "Order (2, 0, 5): MAE = 9.32972412476344\n",
      "Order (2, 0, 6): MAE = 9.313992497608142\n",
      "Order (2, 1, 0): MAE = 18.784066742354025\n",
      "Order (2, 1, 1): MAE = 9.362322411591597\n",
      "Order (2, 1, 2): MAE = 9.349170640275126\n",
      "Order (2, 1, 3): MAE = 9.36860410559653\n"
     ]
    },
    {
     "name": "stderr",
     "output_type": "stream",
     "text": [
      "/Users/alikhan/anaconda3/lib/python3.10/site-packages/statsmodels/base/model.py:604: ConvergenceWarning: Maximum Likelihood optimization failed to converge. Check mle_retvals\n",
      "  warnings.warn(\"Maximum Likelihood optimization failed to \"\n"
     ]
    },
    {
     "name": "stdout",
     "output_type": "stream",
     "text": [
      "Order (2, 1, 4): MAE = 9.35260338203052\n"
     ]
    },
    {
     "name": "stderr",
     "output_type": "stream",
     "text": [
      "/Users/alikhan/anaconda3/lib/python3.10/site-packages/statsmodels/base/model.py:604: ConvergenceWarning: Maximum Likelihood optimization failed to converge. Check mle_retvals\n",
      "  warnings.warn(\"Maximum Likelihood optimization failed to \"\n"
     ]
    },
    {
     "name": "stdout",
     "output_type": "stream",
     "text": [
      "Order (2, 1, 5): MAE = 9.354706945736677\n"
     ]
    },
    {
     "name": "stderr",
     "output_type": "stream",
     "text": [
      "/Users/alikhan/anaconda3/lib/python3.10/site-packages/statsmodels/base/model.py:604: ConvergenceWarning: Maximum Likelihood optimization failed to converge. Check mle_retvals\n",
      "  warnings.warn(\"Maximum Likelihood optimization failed to \"\n"
     ]
    },
    {
     "name": "stdout",
     "output_type": "stream",
     "text": [
      "Order (2, 1, 6): MAE = 9.330012043381021\n",
      "Best Order for Stock ID 138: (0, 0, 0)\n",
      "Best MAE for Stock ID 138: 9.267709561555051\n",
      "\n",
      "Training and evaluating for Stock ID: 139\n",
      "Training Set Date Range: 0 -- 477\n",
      "Testing Set Date Range: 478 -- 480\n",
      "Order (0, 0, 0): MAE = 7.510492997655971\n",
      "Order (0, 0, 1): MAE = 7.51025680726963\n",
      "Order (0, 0, 2): MAE = 7.511494118493938\n",
      "Order (0, 0, 3): MAE = 7.510455872285399\n",
      "Order (0, 0, 4): MAE = 7.511498799247624\n",
      "Order (0, 0, 5): MAE = 7.5170827430410885\n",
      "Order (0, 0, 6): MAE = 7.516616288199963\n",
      "Order (0, 1, 0): MAE = 7.516492501212122\n",
      "Order (0, 1, 1): MAE = 7.515685906295929\n",
      "Order (0, 1, 2): MAE = 7.50722263878926\n",
      "Order (0, 1, 3): MAE = 7.532265540182484\n",
      "Order (0, 1, 4): MAE = 7.992750522670253\n",
      "Order (0, 1, 5): MAE = 7.836826994119741\n",
      "Order (0, 1, 6): MAE = 7.523480218604822\n",
      "Order (1, 0, 0): MAE = 7.510622609542939\n",
      "Order (1, 0, 1): MAE = 7.510599924870961\n",
      "Order (1, 0, 2): MAE = 7.510727793020232\n",
      "Order (1, 0, 3): MAE = 7.510916279873423\n",
      "Order (1, 0, 4): MAE = 7.51475805606568\n",
      "Order (1, 0, 5): MAE = 7.516688044257565\n",
      "Order (1, 0, 6): MAE = 7.516214999164214\n",
      "Order (1, 1, 0): MAE = 7.516732886349882\n",
      "Order (1, 1, 1): MAE = 7.526944383278187\n",
      "Order (1, 1, 2): MAE = 7.510714775366479\n",
      "Order (1, 1, 3): MAE = 7.513010477625572\n",
      "Order (1, 1, 4): MAE = 8.093797237168861\n",
      "Order (1, 1, 5): MAE = 7.516342689548119\n",
      "Order (1, 1, 6): MAE = 7.527657503985052\n",
      "Order (2, 0, 0): MAE = 7.510606512938791\n",
      "Order (2, 0, 1): MAE = 7.5102327642067594\n",
      "Order (2, 0, 2): MAE = 7.510389623495545\n",
      "Order (2, 0, 3): MAE = 7.514899919299037\n",
      "Order (2, 0, 4): MAE = 7.51683291772076\n",
      "Order (2, 0, 5): MAE = 7.5163761285661455\n"
     ]
    },
    {
     "name": "stderr",
     "output_type": "stream",
     "text": [
      "/Users/alikhan/anaconda3/lib/python3.10/site-packages/statsmodels/base/model.py:604: ConvergenceWarning: Maximum Likelihood optimization failed to converge. Check mle_retvals\n",
      "  warnings.warn(\"Maximum Likelihood optimization failed to \"\n"
     ]
    },
    {
     "name": "stdout",
     "output_type": "stream",
     "text": [
      "Order (2, 0, 6): MAE = 7.5160808236836365\n",
      "Order (2, 1, 0): MAE = 7.507509504525894\n",
      "Order (2, 1, 1): MAE = 7.513117211431024\n",
      "Order (2, 1, 2): MAE = 7.510672402087533\n"
     ]
    },
    {
     "name": "stderr",
     "output_type": "stream",
     "text": [
      "/Users/alikhan/anaconda3/lib/python3.10/site-packages/statsmodels/base/model.py:604: ConvergenceWarning: Maximum Likelihood optimization failed to converge. Check mle_retvals\n",
      "  warnings.warn(\"Maximum Likelihood optimization failed to \"\n"
     ]
    },
    {
     "name": "stdout",
     "output_type": "stream",
     "text": [
      "Order (2, 1, 3): MAE = 7.510747359136231\n",
      "Order (2, 1, 4): MAE = 7.511400148888437\n",
      "Order (2, 1, 5): MAE = 7.587516173832064\n"
     ]
    },
    {
     "name": "stderr",
     "output_type": "stream",
     "text": [
      "/Users/alikhan/anaconda3/lib/python3.10/site-packages/statsmodels/base/model.py:604: ConvergenceWarning: Maximum Likelihood optimization failed to converge. Check mle_retvals\n",
      "  warnings.warn(\"Maximum Likelihood optimization failed to \"\n"
     ]
    },
    {
     "name": "stdout",
     "output_type": "stream",
     "text": [
      "Order (2, 1, 6): MAE = 7.535019708442935\n",
      "Best Order for Stock ID 139: (0, 1, 2)\n",
      "Best MAE for Stock ID 139: 7.50722263878926\n",
      "\n",
      "Training and evaluating for Stock ID: 140\n",
      "Training Set Date Range: 0 -- 477\n",
      "Testing Set Date Range: 478 -- 480\n",
      "Order (0, 0, 0): MAE = 4.010156193854567\n",
      "Order (0, 0, 1): MAE = 4.01160218251799\n",
      "Order (0, 0, 2): MAE = 4.010349041798544\n",
      "Order (0, 0, 3): MAE = 4.011720199914422\n",
      "Order (0, 0, 4): MAE = 4.011387482791327\n",
      "Order (0, 0, 5): MAE = 4.012230970642246\n",
      "Order (0, 0, 6): MAE = 4.012116761663775\n",
      "Order (0, 1, 0): MAE = 4.0759895719393935\n",
      "Order (0, 1, 1): MAE = 4.043609842990485\n",
      "Order (0, 1, 2): MAE = 4.036692517430345\n",
      "Order (0, 1, 3): MAE = 4.01252964704951\n",
      "Order (0, 1, 4): MAE = 4.024026514580349\n",
      "Order (0, 1, 5): MAE = 4.023052171405433\n",
      "Order (0, 1, 6): MAE = 4.016774994951481\n",
      "Order (1, 0, 0): MAE = 4.011334835879879\n",
      "Order (1, 0, 1): MAE = 4.011320352725861\n",
      "Order (1, 0, 2): MAE = 4.011427223360992\n",
      "Order (1, 0, 3): MAE = 4.012459742428158\n",
      "Order (1, 0, 4): MAE = 4.011758575050876\n",
      "Order (1, 0, 5): MAE = 4.012124875083743\n",
      "Order (1, 0, 6): MAE = 4.01216979044602\n",
      "Order (1, 1, 0): MAE = 4.0483706501874295\n",
      "Order (1, 1, 1): MAE = 4.018793948657932\n",
      "Order (1, 1, 2): MAE = 4.011872651610852\n",
      "Order (1, 1, 3): MAE = 4.012746149564162\n",
      "Order (1, 1, 4): MAE = 4.0141171762258\n",
      "Order (1, 1, 5): MAE = 4.014247531135274\n",
      "Order (1, 1, 6): MAE = 4.017250382448392\n",
      "Order (2, 0, 0): MAE = 4.011317261432604\n",
      "Order (2, 0, 1): MAE = 4.011342795515052\n",
      "Order (2, 0, 2): MAE = 4.012034104549958\n",
      "Order (2, 0, 3): MAE = 4.012281243988951\n",
      "Order (2, 0, 4): MAE = 4.01134959530943\n",
      "Order (2, 0, 5): MAE = 4.0121319059026535\n",
      "Order (2, 0, 6): MAE = 4.013033401231516\n",
      "Order (2, 1, 0): MAE = 4.040967443948803\n",
      "Order (2, 1, 1): MAE = 4.01190835232842\n",
      "Order (2, 1, 2): MAE = 4.013093125604462\n"
     ]
    },
    {
     "name": "stderr",
     "output_type": "stream",
     "text": [
      "/Users/alikhan/anaconda3/lib/python3.10/site-packages/statsmodels/base/model.py:604: ConvergenceWarning: Maximum Likelihood optimization failed to converge. Check mle_retvals\n",
      "  warnings.warn(\"Maximum Likelihood optimization failed to \"\n"
     ]
    },
    {
     "name": "stdout",
     "output_type": "stream",
     "text": [
      "Order (2, 1, 3): MAE = 4.012068547478216\n"
     ]
    },
    {
     "name": "stderr",
     "output_type": "stream",
     "text": [
      "/Users/alikhan/anaconda3/lib/python3.10/site-packages/statsmodels/base/model.py:604: ConvergenceWarning: Maximum Likelihood optimization failed to converge. Check mle_retvals\n",
      "  warnings.warn(\"Maximum Likelihood optimization failed to \"\n"
     ]
    },
    {
     "name": "stdout",
     "output_type": "stream",
     "text": [
      "Order (2, 1, 4): MAE = 4.013776725089224\n",
      "Order (2, 1, 5): MAE = 4.01385583365872\n",
      "Order (2, 1, 6): MAE = 4.017199397865406\n",
      "Best Order for Stock ID 140: (0, 0, 0)\n",
      "Best MAE for Stock ID 140: 4.010156193854567\n",
      "\n",
      "Training and evaluating for Stock ID: 141\n",
      "Training Set Date Range: 0 -- 477\n",
      "Testing Set Date Range: 478 -- 480\n",
      "Order (0, 0, 0): MAE = 3.8734769899006603\n",
      "Order (0, 0, 1): MAE = 3.8769198168906533\n",
      "Order (0, 0, 2): MAE = 3.8835166948674025\n",
      "Order (0, 0, 3): MAE = 3.8850894405393808\n",
      "Order (0, 0, 4): MAE = 3.8862013458670224\n",
      "Order (0, 0, 5): MAE = 3.898840926883723\n",
      "Order (0, 0, 6): MAE = 3.8968790679247935\n",
      "Order (0, 1, 0): MAE = 5.216602155999999\n",
      "Order (0, 1, 1): MAE = 4.986201061043503\n",
      "Order (0, 1, 2): MAE = 4.909199674116046\n",
      "Order (0, 1, 3): MAE = 4.335023691527614\n",
      "Order (0, 1, 4): MAE = 3.8850874270251152\n",
      "Order (0, 1, 5): MAE = 3.886163957255354\n",
      "Order (0, 1, 6): MAE = 3.8988011719676945\n",
      "Order (1, 0, 0): MAE = 3.8934693589872933\n",
      "Order (1, 0, 1): MAE = 3.893311047212024\n",
      "Order (1, 0, 2): MAE = 3.893822595801428\n",
      "Order (1, 0, 3): MAE = 3.8947673542649373\n",
      "Order (1, 0, 4): MAE = 3.8976942690510876\n",
      "Order (1, 0, 5): MAE = 3.89712754408597\n",
      "Order (1, 0, 6): MAE = 3.8959919406994072\n",
      "Order (1, 1, 0): MAE = 5.030126076823274\n",
      "Order (1, 1, 1): MAE = 3.893654302916486\n",
      "Order (1, 1, 2): MAE = 3.893180417988978\n",
      "Order (1, 1, 3): MAE = 3.8937208165346755\n"
     ]
    },
    {
     "name": "stderr",
     "output_type": "stream",
     "text": [
      "/Users/alikhan/anaconda3/lib/python3.10/site-packages/statsmodels/base/model.py:604: ConvergenceWarning: Maximum Likelihood optimization failed to converge. Check mle_retvals\n",
      "  warnings.warn(\"Maximum Likelihood optimization failed to \"\n"
     ]
    },
    {
     "name": "stdout",
     "output_type": "stream",
     "text": [
      "Order (1, 1, 4): MAE = 3.8854342928490273\n",
      "Order (1, 1, 5): MAE = 3.8976050670051876\n"
     ]
    },
    {
     "name": "stderr",
     "output_type": "stream",
     "text": [
      "/Users/alikhan/anaconda3/lib/python3.10/site-packages/statsmodels/base/model.py:604: ConvergenceWarning: Maximum Likelihood optimization failed to converge. Check mle_retvals\n",
      "  warnings.warn(\"Maximum Likelihood optimization failed to \"\n"
     ]
    },
    {
     "name": "stdout",
     "output_type": "stream",
     "text": [
      "Order (1, 1, 6): MAE = 3.8970847036694085\n",
      "Order (2, 0, 0): MAE = 3.8932891349582466\n",
      "Order (2, 0, 1): MAE = 3.8930806738317627\n",
      "Order (2, 0, 2): MAE = 3.8930067683805314\n",
      "Order (2, 0, 3): MAE = 3.893304192297634\n",
      "Order (2, 0, 4): MAE = 3.894933300841827\n",
      "Order (2, 0, 5): MAE = 3.896514060989689\n",
      "Order (2, 0, 6): MAE = 3.8960320535681157\n",
      "Order (2, 1, 0): MAE = 4.951247615425965\n",
      "Order (2, 1, 1): MAE = 3.893137887826066\n",
      "Order (2, 1, 2): MAE = 3.8930582571153978\n",
      "Order (2, 1, 3): MAE = 3.893533122763786\n"
     ]
    },
    {
     "name": "stderr",
     "output_type": "stream",
     "text": [
      "/Users/alikhan/anaconda3/lib/python3.10/site-packages/statsmodels/base/model.py:604: ConvergenceWarning: Maximum Likelihood optimization failed to converge. Check mle_retvals\n",
      "  warnings.warn(\"Maximum Likelihood optimization failed to \"\n"
     ]
    },
    {
     "name": "stdout",
     "output_type": "stream",
     "text": [
      "Order (2, 1, 4): MAE = 3.8946829348472805\n"
     ]
    },
    {
     "name": "stderr",
     "output_type": "stream",
     "text": [
      "/Users/alikhan/anaconda3/lib/python3.10/site-packages/statsmodels/base/model.py:604: ConvergenceWarning: Maximum Likelihood optimization failed to converge. Check mle_retvals\n",
      "  warnings.warn(\"Maximum Likelihood optimization failed to \"\n"
     ]
    },
    {
     "name": "stdout",
     "output_type": "stream",
     "text": [
      "Order (2, 1, 5): MAE = 3.89480628084595\n"
     ]
    },
    {
     "name": "stderr",
     "output_type": "stream",
     "text": [
      "/Users/alikhan/anaconda3/lib/python3.10/site-packages/statsmodels/base/model.py:604: ConvergenceWarning: Maximum Likelihood optimization failed to converge. Check mle_retvals\n",
      "  warnings.warn(\"Maximum Likelihood optimization failed to \"\n"
     ]
    },
    {
     "name": "stdout",
     "output_type": "stream",
     "text": [
      "Order (2, 1, 6): MAE = 3.8964691948911527\n",
      "Best Order for Stock ID 141: (0, 0, 0)\n",
      "Best MAE for Stock ID 141: 3.8734769899006603\n",
      "\n",
      "Training and evaluating for Stock ID: 142\n",
      "Training Set Date Range: 0 -- 477\n",
      "Testing Set Date Range: 478 -- 480\n",
      "Order (0, 0, 0): MAE = 4.092796266801325\n",
      "Order (0, 0, 1): MAE = 4.096410252860548\n",
      "Order (0, 0, 2): MAE = 4.101066747488639\n",
      "Order (0, 0, 3): MAE = 4.099087468075216\n",
      "Order (0, 0, 4): MAE = 4.098469942702916\n",
      "Order (0, 0, 5): MAE = 4.128213910129697\n",
      "Order (0, 0, 6): MAE = 4.124020431072134\n",
      "Order (0, 1, 0): MAE = 4.399317676921212\n",
      "Order (0, 1, 1): MAE = 4.049152578328486\n",
      "Order (0, 1, 2): MAE = 4.140727481814377\n"
     ]
    },
    {
     "name": "stderr",
     "output_type": "stream",
     "text": [
      "/Users/alikhan/anaconda3/lib/python3.10/site-packages/statsmodels/base/model.py:604: ConvergenceWarning: Maximum Likelihood optimization failed to converge. Check mle_retvals\n",
      "  warnings.warn(\"Maximum Likelihood optimization failed to \"\n"
     ]
    },
    {
     "name": "stdout",
     "output_type": "stream",
     "text": [
      "Order (0, 1, 3): MAE = 4.101077194936062\n",
      "Order (0, 1, 4): MAE = 4.01544358030919\n",
      "Order (0, 1, 5): MAE = 4.09849037444032\n"
     ]
    },
    {
     "name": "stderr",
     "output_type": "stream",
     "text": [
      "/Users/alikhan/anaconda3/lib/python3.10/site-packages/statsmodels/base/model.py:604: ConvergenceWarning: Maximum Likelihood optimization failed to converge. Check mle_retvals\n",
      "  warnings.warn(\"Maximum Likelihood optimization failed to \"\n"
     ]
    },
    {
     "name": "stdout",
     "output_type": "stream",
     "text": [
      "Order (0, 1, 6): MAE = 4.128372942976396\n",
      "Order (1, 0, 0): MAE = 4.097180583640443\n",
      "Order (1, 0, 1): MAE = 4.094446673111699\n",
      "Order (1, 0, 2): MAE = 4.096083861302649\n",
      "Order (1, 0, 3): MAE = 4.1006108199502345\n",
      "Order (1, 0, 4): MAE = 4.1098737470748254\n",
      "Order (1, 0, 5): MAE = 4.123542916524671\n",
      "Order (1, 0, 6): MAE = 4.124815641231354\n",
      "Order (1, 1, 0): MAE = 4.071914963998649\n",
      "Order (1, 1, 1): MAE = 4.092813552125464\n",
      "Order (1, 1, 2): MAE = 4.103122626119449\n",
      "Order (1, 1, 3): MAE = 4.092131180864949\n",
      "Order (1, 1, 4): MAE = 3.9884926162359364\n",
      "Order (1, 1, 5): MAE = 4.584937771552369\n"
     ]
    },
    {
     "name": "stderr",
     "output_type": "stream",
     "text": [
      "/Users/alikhan/anaconda3/lib/python3.10/site-packages/statsmodels/base/model.py:604: ConvergenceWarning: Maximum Likelihood optimization failed to converge. Check mle_retvals\n",
      "  warnings.warn(\"Maximum Likelihood optimization failed to \"\n"
     ]
    },
    {
     "name": "stdout",
     "output_type": "stream",
     "text": [
      "Order (1, 1, 6): MAE = 4.123614381614927\n",
      "Order (2, 0, 0): MAE = 4.093692769986407\n",
      "Order (2, 0, 1): MAE = 4.094160770427629\n",
      "Order (2, 0, 2): MAE = 4.110099437722172\n",
      "Order (2, 0, 3): MAE = 4.100747851974612\n",
      "Order (2, 0, 4): MAE = 4.109223704729915\n",
      "Order (2, 0, 5): MAE = 4.124517847851661\n"
     ]
    },
    {
     "name": "stderr",
     "output_type": "stream",
     "text": [
      "/Users/alikhan/anaconda3/lib/python3.10/site-packages/statsmodels/base/model.py:604: ConvergenceWarning: Maximum Likelihood optimization failed to converge. Check mle_retvals\n",
      "  warnings.warn(\"Maximum Likelihood optimization failed to \"\n"
     ]
    },
    {
     "name": "stdout",
     "output_type": "stream",
     "text": [
      "Order (2, 0, 6): MAE = 4.134602864813271\n",
      "Order (2, 1, 0): MAE = 4.1027805680883525\n",
      "Order (2, 1, 1): MAE = 4.099533726818421\n",
      "Order (2, 1, 2): MAE = 4.239905576807484\n",
      "Order (2, 1, 3): MAE = 4.173345204791789\n"
     ]
    },
    {
     "name": "stderr",
     "output_type": "stream",
     "text": [
      "/Users/alikhan/anaconda3/lib/python3.10/site-packages/statsmodels/base/model.py:604: ConvergenceWarning: Maximum Likelihood optimization failed to converge. Check mle_retvals\n",
      "  warnings.warn(\"Maximum Likelihood optimization failed to \"\n"
     ]
    },
    {
     "name": "stdout",
     "output_type": "stream",
     "text": [
      "Order (2, 1, 4): MAE = 4.103753255317446\n"
     ]
    },
    {
     "name": "stderr",
     "output_type": "stream",
     "text": [
      "/Users/alikhan/anaconda3/lib/python3.10/site-packages/statsmodels/base/model.py:604: ConvergenceWarning: Maximum Likelihood optimization failed to converge. Check mle_retvals\n",
      "  warnings.warn(\"Maximum Likelihood optimization failed to \"\n"
     ]
    },
    {
     "name": "stdout",
     "output_type": "stream",
     "text": [
      "Order (2, 1, 5): MAE = 4.087277396779647\n"
     ]
    },
    {
     "name": "stderr",
     "output_type": "stream",
     "text": [
      "/Users/alikhan/anaconda3/lib/python3.10/site-packages/statsmodels/base/model.py:604: ConvergenceWarning: Maximum Likelihood optimization failed to converge. Check mle_retvals\n",
      "  warnings.warn(\"Maximum Likelihood optimization failed to \"\n"
     ]
    },
    {
     "name": "stdout",
     "output_type": "stream",
     "text": [
      "Order (2, 1, 6): MAE = 4.124284417886816\n",
      "Best Order for Stock ID 142: (1, 1, 4)\n",
      "Best MAE for Stock ID 142: 3.9884926162359364\n",
      "\n",
      "Training and evaluating for Stock ID: 143\n",
      "Training Set Date Range: 0 -- 477\n",
      "Testing Set Date Range: 478 -- 480\n",
      "Order (0, 0, 0): MAE = 4.607911314575927\n",
      "Order (0, 0, 1): MAE = 4.721677317292503\n",
      "Order (0, 0, 2): MAE = 4.822863455799886\n",
      "Order (0, 0, 3): MAE = 4.862207235387543\n",
      "Order (0, 0, 4): MAE = 4.879154963917898\n",
      "Order (0, 0, 5): MAE = 5.1146678993534715\n",
      "Order (0, 0, 6): MAE = 5.092203712150244\n",
      "Order (0, 1, 0): MAE = 33.92428853401211\n",
      "Order (0, 1, 1): MAE = 28.279285739684433\n",
      "Order (0, 1, 2): MAE = 26.698928562515736\n",
      "Order (0, 1, 3): MAE = 15.16968465458473\n",
      "Order (0, 1, 4): MAE = 4.862032152418277\n",
      "Order (0, 1, 5): MAE = 4.878949982121261\n",
      "Order (0, 1, 6): MAE = 5.114366529278723\n",
      "Order (1, 0, 0): MAE = 4.993328865032176\n",
      "Order (1, 0, 1): MAE = 4.993089356716848\n",
      "Order (1, 0, 2): MAE = 4.992565122750549\n",
      "Order (1, 0, 3): MAE = 5.0050321155511055\n",
      "Order (1, 0, 4): MAE = 5.044170400936589\n",
      "Order (1, 0, 5): MAE = 5.095018733526094\n",
      "Order (1, 0, 6): MAE = 5.103984202662102\n",
      "Order (1, 1, 0): MAE = 29.251662235784046\n",
      "Order (1, 1, 1): MAE = 4.993132006459362\n",
      "Order (1, 1, 2): MAE = 4.9931169500530075\n",
      "Order (1, 1, 3): MAE = 4.992361081146735\n",
      "Order (1, 1, 4): MAE = 5.004756940507899\n",
      "Order (1, 1, 5): MAE = 5.0437679346103685\n"
     ]
    },
    {
     "name": "stderr",
     "output_type": "stream",
     "text": [
      "/Users/alikhan/anaconda3/lib/python3.10/site-packages/statsmodels/base/model.py:604: ConvergenceWarning: Maximum Likelihood optimization failed to converge. Check mle_retvals\n",
      "  warnings.warn(\"Maximum Likelihood optimization failed to \"\n"
     ]
    },
    {
     "name": "stdout",
     "output_type": "stream",
     "text": [
      "Order (1, 1, 6): MAE = 5.094676041147449\n",
      "Order (2, 0, 0): MAE = 4.993126755002477\n",
      "Order (2, 0, 1): MAE = 4.99466136387799\n",
      "Order (2, 0, 2): MAE = 5.036254060085937\n",
      "Order (2, 0, 3): MAE = 5.050767825610293\n",
      "Order (2, 0, 4): MAE = 5.048166456334404\n",
      "Order (2, 0, 5): MAE = 5.089438748457908\n",
      "Order (2, 0, 6): MAE = 5.103424426105649\n",
      "Order (2, 1, 0): MAE = 27.843213884252766\n",
      "Order (2, 1, 1): MAE = 4.992961438082793\n",
      "Order (2, 1, 2): MAE = 4.992122483151164\n"
     ]
    },
    {
     "name": "stderr",
     "output_type": "stream",
     "text": [
      "/Users/alikhan/anaconda3/lib/python3.10/site-packages/statsmodels/base/model.py:604: ConvergenceWarning: Maximum Likelihood optimization failed to converge. Check mle_retvals\n",
      "  warnings.warn(\"Maximum Likelihood optimization failed to \"\n"
     ]
    },
    {
     "name": "stdout",
     "output_type": "stream",
     "text": [
      "Order (2, 1, 3): MAE = 4.995433686950182\n",
      "Order (2, 1, 4): MAE = 4.996922325123231\n"
     ]
    },
    {
     "name": "stderr",
     "output_type": "stream",
     "text": [
      "/Users/alikhan/anaconda3/lib/python3.10/site-packages/statsmodels/base/model.py:604: ConvergenceWarning: Maximum Likelihood optimization failed to converge. Check mle_retvals\n",
      "  warnings.warn(\"Maximum Likelihood optimization failed to \"\n"
     ]
    },
    {
     "name": "stdout",
     "output_type": "stream",
     "text": [
      "Order (2, 1, 5): MAE = 5.002464605783737\n"
     ]
    },
    {
     "name": "stderr",
     "output_type": "stream",
     "text": [
      "/Users/alikhan/anaconda3/lib/python3.10/site-packages/statsmodels/base/model.py:604: ConvergenceWarning: Maximum Likelihood optimization failed to converge. Check mle_retvals\n",
      "  warnings.warn(\"Maximum Likelihood optimization failed to \"\n"
     ]
    },
    {
     "name": "stdout",
     "output_type": "stream",
     "text": [
      "Order (2, 1, 6): MAE = 5.08910845702875\n",
      "Best Order for Stock ID 143: (0, 0, 0)\n",
      "Best MAE for Stock ID 143: 4.607911314575927\n",
      "\n",
      "Training and evaluating for Stock ID: 144\n",
      "Training Set Date Range: 0 -- 477\n",
      "Testing Set Date Range: 478 -- 480\n",
      "Order (0, 0, 0): MAE = 3.4439751120043876\n",
      "Order (0, 0, 1): MAE = 3.450768158452612\n",
      "Order (0, 0, 2): MAE = 3.4519916946216997\n",
      "Order (0, 0, 3): MAE = 3.455447515934969\n",
      "Order (0, 0, 4): MAE = 3.458466948724936\n",
      "Order (0, 0, 5): MAE = 3.4712833453769645\n",
      "Order (0, 0, 6): MAE = 3.4700216589585513\n",
      "Order (0, 1, 0): MAE = 5.6919617951393935\n",
      "Order (0, 1, 1): MAE = 5.4795988433138385\n",
      "Order (0, 1, 2): MAE = 5.3835988211908266\n",
      "Order (0, 1, 3): MAE = 4.509292347953556\n",
      "Order (0, 1, 4): MAE = 3.4540805299010024\n",
      "Order (0, 1, 5): MAE = 3.46044337897286\n",
      "Order (0, 1, 6): MAE = 3.4678119827829517\n",
      "Order (1, 0, 0): MAE = 3.4707172656806606\n",
      "Order (1, 0, 1): MAE = 3.4700696666532163\n",
      "Order (1, 0, 2): MAE = 3.4687078702193435\n",
      "Order (1, 0, 3): MAE = 3.4721952142187913\n",
      "Order (1, 0, 4): MAE = 3.46891775565756\n",
      "Order (1, 0, 5): MAE = 3.470202328206543\n",
      "Order (1, 0, 6): MAE = 3.4695458024667993\n",
      "Order (1, 1, 0): MAE = 5.510689006239756\n",
      "Order (1, 1, 1): MAE = 3.461701848422976\n",
      "Order (1, 1, 2): MAE = 3.4618734119669985\n",
      "Order (1, 1, 3): MAE = 3.461701810107412\n",
      "Order (1, 1, 4): MAE = 3.4655964831892634\n",
      "Order (1, 1, 5): MAE = 3.463607037806996\n",
      "Order (1, 1, 6): MAE = 3.467476807298149\n",
      "Order (2, 0, 0): MAE = 3.469948041077234\n",
      "Order (2, 0, 1): MAE = 3.471071214974402\n",
      "Order (2, 0, 2): MAE = 3.4663696555749435\n",
      "Order (2, 0, 3): MAE = 3.464445204178105\n",
      "Order (2, 0, 4): MAE = 3.460622883337088\n",
      "Order (2, 0, 5): MAE = 3.469583250172646\n"
     ]
    },
    {
     "name": "stderr",
     "output_type": "stream",
     "text": [
      "/Users/alikhan/anaconda3/lib/python3.10/site-packages/statsmodels/base/model.py:604: ConvergenceWarning: Maximum Likelihood optimization failed to converge. Check mle_retvals\n",
      "  warnings.warn(\"Maximum Likelihood optimization failed to \"\n"
     ]
    },
    {
     "name": "stdout",
     "output_type": "stream",
     "text": [
      "Order (2, 0, 6): MAE = 3.4702986944466745\n",
      "Order (2, 1, 0): MAE = 5.445222847136437\n",
      "Order (2, 1, 1): MAE = 3.4618383711866785\n",
      "Order (2, 1, 2): MAE = 3.4627982722131385\n",
      "Order (2, 1, 3): MAE = 3.4627094199585744\n",
      "Order (2, 1, 4): MAE = 3.462951183555064\n",
      "Order (2, 1, 5): MAE = 3.4609293224709385\n",
      "Order (2, 1, 6): MAE = 3.4673948518479945\n",
      "Best Order for Stock ID 144: (0, 0, 0)\n",
      "Best MAE for Stock ID 144: 3.4439751120043876\n",
      "\n",
      "Training and evaluating for Stock ID: 145\n",
      "Training Set Date Range: 0 -- 477\n",
      "Testing Set Date Range: 478 -- 480\n",
      "Order (0, 0, 0): MAE = 4.979962669695711\n",
      "Order (0, 0, 1): MAE = 4.982396066847167\n",
      "Order (0, 0, 2): MAE = 4.9843326348413415\n",
      "Order (0, 0, 3): MAE = 4.985014276979481\n",
      "Order (0, 0, 4): MAE = 4.984359854402374\n",
      "Order (0, 0, 5): MAE = 4.983241275021498\n",
      "Order (0, 0, 6): MAE = 4.98305233235554\n",
      "Order (0, 1, 0): MAE = 5.600409095430304\n",
      "Order (0, 1, 1): MAE = 5.567088361785959\n",
      "Order (0, 1, 2): MAE = 5.583178211405305\n",
      "Order (0, 1, 3): MAE = 5.788958577738587\n",
      "Order (0, 1, 4): MAE = 4.961461419302619\n",
      "Order (0, 1, 5): MAE = 4.961430850147815\n",
      "Order (0, 1, 6): MAE = 4.970650361664853\n",
      "Order (1, 0, 0): MAE = 4.9906401958635325\n",
      "Order (1, 0, 1): MAE = 4.99004994867475\n",
      "Order (1, 0, 2): MAE = 4.988922290938689\n",
      "Order (1, 0, 3): MAE = 4.986670649524344\n",
      "Order (1, 0, 4): MAE = 4.982694639500257\n",
      "Order (1, 0, 5): MAE = 4.983066555643574\n",
      "Order (1, 0, 6): MAE = 4.980619486820436\n",
      "Order (1, 1, 0): MAE = 5.567868143728664\n",
      "Order (1, 1, 1): MAE = 4.984305938479492\n",
      "Order (1, 1, 2): MAE = 4.984152029606615\n",
      "Order (1, 1, 3): MAE = 4.97938888269138\n",
      "Order (1, 1, 4): MAE = 4.978341194614348\n",
      "Order (1, 1, 5): MAE = 4.9739899129683005\n",
      "Order (1, 1, 6): MAE = 4.969379477650288\n",
      "Order (2, 0, 0): MAE = 4.989831941033651\n",
      "Order (2, 0, 1): MAE = 4.989616091814659\n",
      "Order (2, 0, 2): MAE = 4.9805253607999935\n",
      "Order (2, 0, 3): MAE = 4.981320271074197\n",
      "Order (2, 0, 4): MAE = 4.98310837106668\n",
      "Order (2, 0, 5): MAE = 4.982961608657479\n",
      "Order (2, 0, 6): MAE = 4.980702697038831\n",
      "Order (2, 1, 0): MAE = 5.575778355265393\n",
      "Order (2, 1, 1): MAE = 4.98158149921771\n",
      "Order (2, 1, 2): MAE = 4.985353834639193\n",
      "Order (2, 1, 3): MAE = 4.985045771947741\n",
      "Order (2, 1, 4): MAE = 4.978785731212081\n",
      "Order (2, 1, 5): MAE = 4.964523530266021\n",
      "Order (2, 1, 6): MAE = 4.968225401088827\n",
      "Best Order for Stock ID 145: (0, 1, 5)\n",
      "Best MAE for Stock ID 145: 4.961430850147815\n",
      "\n",
      "Training and evaluating for Stock ID: 146\n",
      "Training Set Date Range: 0 -- 477\n",
      "Testing Set Date Range: 478 -- 480\n",
      "Order (0, 0, 0): MAE = 5.705567515661884\n",
      "Order (0, 0, 1): MAE = 5.706782136657959\n",
      "Order (0, 0, 2): MAE = 5.708799464470313\n",
      "Order (0, 0, 3): MAE = 5.70959394976757\n",
      "Order (0, 0, 4): MAE = 5.71092958060387\n",
      "Order (0, 0, 5): MAE = 5.714753105680185\n",
      "Order (0, 0, 6): MAE = 5.712315579915264\n",
      "Order (0, 1, 0): MAE = 6.852890466145454\n",
      "Order (0, 1, 1): MAE = 6.48902380391489\n",
      "Order (0, 1, 2): MAE = 6.281262058918548\n",
      "Order (0, 1, 3): MAE = 5.726292351020077\n",
      "Order (0, 1, 4): MAE = 5.711304298010093\n",
      "Order (0, 1, 5): MAE = 5.709231447013392\n",
      "Order (0, 1, 6): MAE = 5.713711846114132\n",
      "Order (1, 0, 0): MAE = 5.710982257661373\n",
      "Order (1, 0, 1): MAE = 5.7110311525870205\n",
      "Order (1, 0, 2): MAE = 5.71138685777265\n",
      "Order (1, 0, 3): MAE = 5.7127789000578\n",
      "Order (1, 0, 4): MAE = 5.7157062056517525\n",
      "Order (1, 0, 5): MAE = 5.712859447307428\n",
      "Order (1, 0, 6): MAE = 5.712134141353516\n",
      "Order (1, 1, 0): MAE = 6.617639808051534\n",
      "Order (1, 1, 1): MAE = 5.710316518604791\n",
      "Order (1, 1, 2): MAE = 5.710968105998269\n",
      "Order (1, 1, 3): MAE = 5.711349758831386\n",
      "Order (1, 1, 4): MAE = 5.712092083721223\n",
      "Order (1, 1, 5): MAE = 5.715698118438695\n"
     ]
    },
    {
     "name": "stderr",
     "output_type": "stream",
     "text": [
      "/Users/alikhan/anaconda3/lib/python3.10/site-packages/statsmodels/base/model.py:604: ConvergenceWarning: Maximum Likelihood optimization failed to converge. Check mle_retvals\n",
      "  warnings.warn(\"Maximum Likelihood optimization failed to \"\n"
     ]
    },
    {
     "name": "stdout",
     "output_type": "stream",
     "text": [
      "Order (1, 1, 6): MAE = 5.712839346377507\n",
      "Order (2, 0, 0): MAE = 5.7110513668855\n",
      "Order (2, 0, 1): MAE = 5.711123496499992\n",
      "Order (2, 0, 2): MAE = 5.715313388443293\n",
      "Order (2, 0, 3): MAE = 5.7115762403392365\n",
      "Order (2, 0, 4): MAE = 5.713944409446294\n",
      "Order (2, 0, 5): MAE = 5.7123362061298755\n",
      "Order (2, 0, 6): MAE = 5.712243567019912\n",
      "Order (2, 1, 0): MAE = 6.45458328326306\n",
      "Order (2, 1, 1): MAE = 5.710985388644884\n",
      "Order (2, 1, 2): MAE = 5.710792678331444\n"
     ]
    },
    {
     "name": "stderr",
     "output_type": "stream",
     "text": [
      "/Users/alikhan/anaconda3/lib/python3.10/site-packages/statsmodels/base/model.py:604: ConvergenceWarning: Maximum Likelihood optimization failed to converge. Check mle_retvals\n",
      "  warnings.warn(\"Maximum Likelihood optimization failed to \"\n"
     ]
    },
    {
     "name": "stdout",
     "output_type": "stream",
     "text": [
      "Order (2, 1, 3): MAE = 5.710780746347335\n"
     ]
    },
    {
     "name": "stderr",
     "output_type": "stream",
     "text": [
      "/Users/alikhan/anaconda3/lib/python3.10/site-packages/statsmodels/base/model.py:604: ConvergenceWarning: Maximum Likelihood optimization failed to converge. Check mle_retvals\n",
      "  warnings.warn(\"Maximum Likelihood optimization failed to \"\n"
     ]
    },
    {
     "name": "stdout",
     "output_type": "stream",
     "text": [
      "Order (2, 1, 4): MAE = 5.711503583717701\n"
     ]
    },
    {
     "name": "stderr",
     "output_type": "stream",
     "text": [
      "/Users/alikhan/anaconda3/lib/python3.10/site-packages/statsmodels/base/model.py:604: ConvergenceWarning: Maximum Likelihood optimization failed to converge. Check mle_retvals\n",
      "  warnings.warn(\"Maximum Likelihood optimization failed to \"\n"
     ]
    },
    {
     "name": "stdout",
     "output_type": "stream",
     "text": [
      "Order (2, 1, 5): MAE = 5.71288020238539\n"
     ]
    },
    {
     "name": "stderr",
     "output_type": "stream",
     "text": [
      "/Users/alikhan/anaconda3/lib/python3.10/site-packages/statsmodels/base/model.py:604: ConvergenceWarning: Maximum Likelihood optimization failed to converge. Check mle_retvals\n",
      "  warnings.warn(\"Maximum Likelihood optimization failed to \"\n"
     ]
    },
    {
     "name": "stdout",
     "output_type": "stream",
     "text": [
      "Order (2, 1, 6): MAE = 5.712319307250787\n",
      "Best Order for Stock ID 146: (0, 0, 0)\n",
      "Best MAE for Stock ID 146: 5.705567515661884\n",
      "\n",
      "Training and evaluating for Stock ID: 147\n",
      "Training Set Date Range: 0 -- 477\n",
      "Testing Set Date Range: 478 -- 480\n",
      "Order (0, 0, 0): MAE = 5.7570108074325\n",
      "Order (0, 0, 1): MAE = 5.756758197224393\n",
      "Order (0, 0, 2): MAE = 5.759510526199201\n",
      "Order (0, 0, 3): MAE = 5.756361677656436\n",
      "Order (0, 0, 4): MAE = 5.755580125218046\n",
      "Order (0, 0, 5): MAE = 5.763418348076182\n",
      "Order (0, 0, 6): MAE = 5.762780156746334\n",
      "Order (0, 1, 0): MAE = 5.681586985690909\n",
      "Order (0, 1, 1): MAE = 5.6714248386254\n",
      "Order (0, 1, 2): MAE = 5.693088459389462\n",
      "Order (0, 1, 3): MAE = 5.914024581009199\n",
      "Order (0, 1, 4): MAE = 5.756381337686752\n",
      "Order (0, 1, 5): MAE = 5.798871397178551\n",
      "Order (0, 1, 6): MAE = 5.695323417046662\n",
      "Order (1, 0, 0): MAE = 5.75313656105591\n",
      "Order (1, 0, 1): MAE = 5.753062854460252\n",
      "Order (1, 0, 2): MAE = 5.7530467221167285\n",
      "Order (1, 0, 3): MAE = 5.753107612400483\n",
      "Order (1, 0, 4): MAE = 5.757033958935154\n",
      "Order (1, 0, 5): MAE = 5.762846109558065\n",
      "Order (1, 0, 6): MAE = 5.762592808820709\n",
      "Order (1, 1, 0): MAE = 5.671446585414094\n",
      "Order (1, 1, 1): MAE = 5.692905920052723\n",
      "Order (1, 1, 2): MAE = 5.689392386814452\n",
      "Order (1, 1, 3): MAE = 5.6875040510670045\n",
      "Order (1, 1, 4): MAE = 5.69521328295858\n",
      "Order (1, 1, 5): MAE = 5.691776016932413\n",
      "Order (1, 1, 6): MAE = 5.694029378890971\n",
      "Order (2, 0, 0): MAE = 5.753066721611194\n",
      "Order (2, 0, 1): MAE = 5.753422117173532\n",
      "Order (2, 0, 2): MAE = 5.754647649326846\n",
      "Order (2, 0, 3): MAE = 5.76346272334886\n",
      "Order (2, 0, 4): MAE = 5.7646757293490944\n",
      "Order (2, 0, 5): MAE = 5.762525166656771\n",
      "Order (2, 0, 6): MAE = 5.761736484660119\n",
      "Order (2, 1, 0): MAE = 5.681756312055008\n",
      "Order (2, 1, 1): MAE = 5.687925776892649\n",
      "Order (2, 1, 2): MAE = 5.690840413536158\n",
      "Order (2, 1, 3): MAE = 5.690822366819251\n",
      "Order (2, 1, 4): MAE = 5.6867634772621996\n",
      "Order (2, 1, 5): MAE = 5.686793662804949\n",
      "Order (2, 1, 6): MAE = 5.693151402080433\n",
      "Best Order for Stock ID 147: (0, 1, 1)\n",
      "Best MAE for Stock ID 147: 5.6714248386254\n",
      "\n",
      "Training and evaluating for Stock ID: 148\n",
      "Training Set Date Range: 0 -- 477\n",
      "Testing Set Date Range: 478 -- 480\n",
      "Order (0, 0, 0): MAE = 4.056575845723679\n",
      "Order (0, 0, 1): MAE = 4.070498991087321\n",
      "Order (0, 0, 2): MAE = 4.088649575378718\n",
      "Order (0, 0, 3): MAE = 4.09568469408583\n",
      "Order (0, 0, 4): MAE = 4.106082792909401\n",
      "Order (0, 0, 5): MAE = 4.1370808960236625\n",
      "Order (0, 0, 6): MAE = 4.137144582420621\n",
      "Order (0, 1, 0): MAE = 9.55570107030303\n",
      "Order (0, 1, 1): MAE = 9.400240971058933\n",
      "Order (0, 1, 2): MAE = 9.11080047350165\n",
      "Order (0, 1, 3): MAE = 8.259618005111115\n",
      "Order (0, 1, 4): MAE = 4.037760316462172\n",
      "Order (0, 1, 5): MAE = 3.85958456790447\n",
      "Order (0, 1, 6): MAE = 4.082988029892987\n",
      "Order (1, 0, 0): MAE = 4.162624083493019\n",
      "Order (1, 0, 1): MAE = 4.153324149936035\n",
      "Order (1, 0, 2): MAE = 4.149615540469336\n",
      "Order (1, 0, 3): MAE = 4.14850412690574\n",
      "Order (1, 0, 4): MAE = 4.151879020269279\n",
      "Order (1, 0, 5): MAE = 4.137127433135285\n",
      "Order (1, 0, 6): MAE = 4.135681139070582\n",
      "Order (1, 1, 0): MAE = 9.422700748596228\n",
      "Order (1, 1, 1): MAE = 4.134880170480076\n",
      "Order (1, 1, 2): MAE = 4.118612806867684\n",
      "Order (1, 1, 3): MAE = 4.111715880055254\n",
      "Order (1, 1, 4): MAE = 4.108994201077115\n",
      "Order (1, 1, 5): MAE = 4.109129146624268\n",
      "Order (1, 1, 6): MAE = 4.083131860479634\n",
      "Order (2, 0, 0): MAE = 4.151480935506365\n",
      "Order (2, 0, 1): MAE = 4.12714393881369\n",
      "Order (2, 0, 2): MAE = 4.125442288163546\n",
      "Order (2, 0, 3): MAE = 4.126957624438123\n",
      "Order (2, 0, 4): MAE = 4.131407044064991\n",
      "Order (2, 0, 5): MAE = 4.1343369618398995\n",
      "Order (2, 0, 6): MAE = 4.135444371565916\n",
      "Order (2, 1, 0): MAE = 9.18590458614051\n",
      "Order (2, 1, 1): MAE = 4.115108345840919\n",
      "Order (2, 1, 2): MAE = 4.125381582394858\n",
      "Order (2, 1, 3): MAE = 4.121548083809397\n",
      "Order (2, 1, 4): MAE = 4.10722783555534\n",
      "Order (2, 1, 5): MAE = 4.0654998571778656\n",
      "Order (2, 1, 6): MAE = 4.077808119965501\n",
      "Best Order for Stock ID 148: (0, 1, 5)\n",
      "Best MAE for Stock ID 148: 3.85958456790447\n",
      "\n",
      "Training and evaluating for Stock ID: 149\n",
      "Training Set Date Range: 0 -- 477\n",
      "Testing Set Date Range: 478 -- 480\n",
      "Order (0, 0, 0): MAE = 3.2895092654855658\n",
      "Order (0, 0, 1): MAE = 3.2895414164880727\n",
      "Order (0, 0, 2): MAE = 3.2907874801489063\n",
      "Order (0, 0, 3): MAE = 3.2906015716791006\n",
      "Order (0, 0, 4): MAE = 3.29054621414045\n",
      "Order (0, 0, 5): MAE = 3.290396507206891\n",
      "Order (0, 0, 6): MAE = 3.2899837048798455\n",
      "Order (0, 1, 0): MAE = 3.704490067963636\n",
      "Order (0, 1, 1): MAE = 3.6180222555130013\n",
      "Order (0, 1, 2): MAE = 3.562230748156027\n",
      "Order (0, 1, 3): MAE = 3.550104872381292\n",
      "Order (0, 1, 4): MAE = 3.292185386381511\n",
      "Order (0, 1, 5): MAE = 3.280114162702698\n",
      "Order (0, 1, 6): MAE = 3.289500053139171\n",
      "Order (1, 0, 0): MAE = 3.2907316299605633\n",
      "Order (1, 0, 1): MAE = 3.2907633281972255\n",
      "Order (1, 0, 2): MAE = 3.2909801038624047\n",
      "Order (1, 0, 3): MAE = 3.2908297548784873\n",
      "Order (1, 0, 4): MAE = 3.291243153438606\n",
      "Order (1, 0, 5): MAE = 3.2900423529235328\n",
      "Order (1, 0, 6): MAE = 3.2900811691698277\n",
      "Order (1, 1, 0): MAE = 3.657730357764183\n",
      "Order (1, 1, 1): MAE = 3.285283759148727\n",
      "Order (1, 1, 2): MAE = 3.2890110505008523\n",
      "Order (1, 1, 3): MAE = 3.2888388038528187\n",
      "Order (1, 1, 4): MAE = 3.3074069060246263\n",
      "Order (1, 1, 5): MAE = 3.289425446580665\n",
      "Order (1, 1, 6): MAE = 3.285026780846549\n",
      "Order (2, 0, 0): MAE = 3.290781791520242\n",
      "Order (2, 0, 1): MAE = 3.290848244061539\n",
      "Order (2, 0, 2): MAE = 3.2923955682356785\n",
      "Order (2, 0, 3): MAE = 3.290833148564595\n",
      "Order (2, 0, 4): MAE = 3.290239844862799\n",
      "Order (2, 0, 5): MAE = 3.289998366145638\n",
      "Order (2, 0, 6): MAE = 3.2902080300472085\n",
      "Order (2, 1, 0): MAE = 3.6054220949511513\n",
      "Order (2, 1, 1): MAE = 3.2887726615967443\n",
      "Order (2, 1, 2): MAE = 3.2871247406724335\n",
      "Order (2, 1, 3): MAE = 3.290145961445828\n",
      "Order (2, 1, 4): MAE = 3.2883442978677424\n",
      "Order (2, 1, 5): MAE = 3.2880787258538824\n",
      "Order (2, 1, 6): MAE = 3.2831814456457438\n",
      "Best Order for Stock ID 149: (0, 1, 5)\n",
      "Best MAE for Stock ID 149: 3.280114162702698\n",
      "\n",
      "Training and evaluating for Stock ID: 151\n",
      "Training Set Date Range: 0 -- 477\n",
      "Testing Set Date Range: 478 -- 480\n",
      "Order (0, 0, 0): MAE = 2.594055171307299\n",
      "Order (0, 0, 1): MAE = 2.596443578548851\n",
      "Order (0, 0, 2): MAE = 2.6053422933386297\n",
      "Order (0, 0, 3): MAE = 2.602265688282943\n",
      "Order (0, 0, 4): MAE = 2.6047160378540215\n",
      "Order (0, 0, 5): MAE = 2.6125621002585717\n",
      "Order (0, 0, 6): MAE = 2.6114580165334833\n",
      "Order (0, 1, 0): MAE = 3.728747380963637\n",
      "Order (0, 1, 1): MAE = 3.560303031850689\n",
      "Order (0, 1, 2): MAE = 3.448087391155382\n",
      "Order (0, 1, 3): MAE = 3.1171177127588603\n",
      "Order (0, 1, 4): MAE = 2.5739673817823414\n",
      "Order (0, 1, 5): MAE = 2.5785603501348207\n",
      "Order (0, 1, 6): MAE = 2.579888364612159\n",
      "Order (1, 0, 0): MAE = 2.6118742561379724\n",
      "Order (1, 0, 1): MAE = 2.61151699237855\n",
      "Order (1, 0, 2): MAE = 2.611311950010216\n",
      "Order (1, 0, 3): MAE = 2.607732415668666\n",
      "Order (1, 0, 4): MAE = 2.6142530254224146\n",
      "Order (1, 0, 5): MAE = 2.611633560393146\n",
      "Order (1, 0, 6): MAE = 2.610820448029838\n",
      "Order (1, 1, 0): MAE = 3.5960071595437224\n",
      "Order (1, 1, 1): MAE = 2.5886116549943496\n",
      "Order (1, 1, 2): MAE = 2.5858851432039187\n",
      "Order (1, 1, 3): MAE = 2.584385509832185\n",
      "Order (1, 1, 4): MAE = 2.5743233557812784\n",
      "Order (1, 1, 5): MAE = 2.585833817434376\n",
      "Order (1, 1, 6): MAE = 2.576433463944913\n",
      "Order (2, 0, 0): MAE = 2.611466557044204\n",
      "Order (2, 0, 1): MAE = 2.60859887398752\n",
      "Order (2, 0, 2): MAE = 2.610072176993483\n",
      "Order (2, 0, 3): MAE = 2.6044897083295506\n",
      "Order (2, 0, 4): MAE = 2.612314922836303\n",
      "Order (2, 0, 5): MAE = 2.6110807695724216\n"
     ]
    },
    {
     "name": "stderr",
     "output_type": "stream",
     "text": [
      "/Users/alikhan/anaconda3/lib/python3.10/site-packages/statsmodels/base/model.py:604: ConvergenceWarning: Maximum Likelihood optimization failed to converge. Check mle_retvals\n",
      "  warnings.warn(\"Maximum Likelihood optimization failed to \"\n"
     ]
    },
    {
     "name": "stdout",
     "output_type": "stream",
     "text": [
      "Order (2, 0, 6): MAE = 2.613422276295261\n",
      "Order (2, 1, 0): MAE = 3.49660811099386\n",
      "Order (2, 1, 1): MAE = 2.585495608505475\n",
      "Order (2, 1, 2): MAE = 2.5832681938437294\n",
      "Order (2, 1, 3): MAE = 2.5856833908712766\n",
      "Order (2, 1, 4): MAE = 2.580899829301222\n",
      "Order (2, 1, 5): MAE = 2.57975301029381\n",
      "Order (2, 1, 6): MAE = 2.5743157654797426\n",
      "Best Order for Stock ID 151: (0, 1, 4)\n",
      "Best MAE for Stock ID 151: 2.5739673817823414\n",
      "\n",
      "Training and evaluating for Stock ID: 152\n",
      "Training Set Date Range: 0 -- 477\n",
      "Testing Set Date Range: 478 -- 480\n",
      "Order (0, 0, 0): MAE = 5.3978171466188485\n",
      "Order (0, 0, 1): MAE = 5.396877474679586\n",
      "Order (0, 0, 2): MAE = 5.3974053574938345\n",
      "Order (0, 0, 3): MAE = 5.398271718299595\n",
      "Order (0, 0, 4): MAE = 5.39640677417171\n",
      "Order (0, 0, 5): MAE = 5.4107504644002296\n",
      "Order (0, 0, 6): MAE = 5.4074347149775\n",
      "Order (0, 1, 0): MAE = 8.92012762940606\n",
      "Order (0, 1, 1): MAE = 8.457700625774622\n",
      "Order (0, 1, 2): MAE = 8.093767604756632\n",
      "Order (0, 1, 3): MAE = 5.337135619015113\n",
      "Order (0, 1, 4): MAE = 5.341912715397859\n",
      "Order (0, 1, 5): MAE = 5.345761607240956\n",
      "Order (0, 1, 6): MAE = 5.356006039035319\n",
      "Order (1, 0, 0): MAE = 5.393433374233999\n",
      "Order (1, 0, 1): MAE = 5.392763130312411\n",
      "Order (1, 0, 2): MAE = 5.394250860214155\n",
      "Order (1, 0, 3): MAE = 5.400382098987523\n",
      "Order (1, 0, 4): MAE = 5.405673094214252\n",
      "Order (1, 0, 5): MAE = 5.408300367788338\n",
      "Order (1, 0, 6): MAE = 5.408591067049745\n",
      "Order (1, 1, 0): MAE = 8.624754928466723\n",
      "Order (1, 1, 1): MAE = 5.367072688222708\n",
      "Order (1, 1, 2): MAE = 5.3637624136837605\n",
      "Order (1, 1, 3): MAE = 5.368717513984562\n",
      "Order (1, 1, 4): MAE = 5.34339190756479\n",
      "Order (1, 1, 5): MAE = 5.382184457092192\n",
      "Order (1, 1, 6): MAE = 5.380267546860158\n",
      "Order (2, 0, 0): MAE = 5.392702357945175\n",
      "Order (2, 0, 1): MAE = 5.393085248244003\n",
      "Order (2, 0, 2): MAE = 5.414034670221947\n",
      "Order (2, 0, 3): MAE = 5.411415113603402\n",
      "Order (2, 0, 4): MAE = 5.40409319739338\n",
      "Order (2, 0, 5): MAE = 5.4073396954214505\n",
      "Order (2, 0, 6): MAE = 5.411288804970049\n",
      "Order (2, 1, 0): MAE = 8.430691039897223\n",
      "Order (2, 1, 1): MAE = 5.370705825945793\n",
      "Order (2, 1, 2): MAE = 5.368385680492023\n",
      "Order (2, 1, 3): MAE = 5.372499776464536\n",
      "Order (2, 1, 4): MAE = 5.339699426808265\n"
     ]
    },
    {
     "name": "stderr",
     "output_type": "stream",
     "text": [
      "/Users/alikhan/anaconda3/lib/python3.10/site-packages/statsmodels/base/model.py:604: ConvergenceWarning: Maximum Likelihood optimization failed to converge. Check mle_retvals\n",
      "  warnings.warn(\"Maximum Likelihood optimization failed to \"\n"
     ]
    },
    {
     "name": "stdout",
     "output_type": "stream",
     "text": [
      "Order (2, 1, 5): MAE = 5.358616031202374\n",
      "Order (2, 1, 6): MAE = 5.3756742776485895\n",
      "Best Order for Stock ID 152: (0, 1, 3)\n",
      "Best MAE for Stock ID 152: 5.337135619015113\n",
      "\n",
      "Training and evaluating for Stock ID: 154\n",
      "Training Set Date Range: 0 -- 477\n",
      "Testing Set Date Range: 478 -- 480\n",
      "Order (0, 0, 0): MAE = 3.620881462708744\n",
      "Order (0, 0, 1): MAE = 3.621949501645304\n",
      "Order (0, 0, 2): MAE = 3.622696848307488\n",
      "Order (0, 0, 3): MAE = 3.621945237704617\n",
      "Order (0, 0, 4): MAE = 3.62094954542\n",
      "Order (0, 0, 5): MAE = 3.624262950867605\n",
      "Order (0, 0, 6): MAE = 3.6242377933017695\n",
      "Order (0, 1, 0): MAE = 3.6988149861272723\n",
      "Order (0, 1, 1): MAE = 3.6877390978891764\n",
      "Order (0, 1, 2): MAE = 3.7058663625479373\n",
      "Order (0, 1, 3): MAE = 4.3566151790350425\n",
      "Order (0, 1, 4): MAE = 3.6217162854047116\n",
      "Order (0, 1, 5): MAE = 3.620813888852279\n",
      "Order (0, 1, 6): MAE = 3.6242674945494846\n",
      "Order (1, 0, 0): MAE = 3.62175924448789\n",
      "Order (1, 0, 1): MAE = 3.6217963268284064\n",
      "Order (1, 0, 2): MAE = 3.621618863306744\n",
      "Order (1, 0, 3): MAE = 3.621293988142562\n",
      "Order (1, 0, 4): MAE = 3.621312006277455\n",
      "Order (1, 0, 5): MAE = 3.6242411494141025\n",
      "Order (1, 0, 6): MAE = 3.623939994525862\n",
      "Order (1, 1, 0): MAE = 3.6874688488628284\n",
      "Order (1, 1, 1): MAE = 3.621749573694008\n",
      "Order (1, 1, 2): MAE = 3.62177800164048\n",
      "Order (1, 1, 3): MAE = 3.62162163766841\n",
      "Order (1, 1, 4): MAE = 3.6294027763533854\n",
      "Order (1, 1, 5): MAE = 3.621315669743968\n",
      "Order (1, 1, 6): MAE = 3.624245969354074\n",
      "Order (2, 0, 0): MAE = 3.6217881594161057\n",
      "Order (2, 0, 1): MAE = 3.6223165410374216\n",
      "Order (2, 0, 2): MAE = 3.6211533154322475\n",
      "Order (2, 0, 3): MAE = 3.621275812967858\n",
      "Order (2, 0, 4): MAE = 3.621476693006705\n",
      "Order (2, 0, 5): MAE = 3.6242627352531858\n",
      "Order (2, 0, 6): MAE = 3.6240764362095357\n",
      "Order (2, 1, 0): MAE = 3.696846491090416\n",
      "Order (2, 1, 1): MAE = 3.6216959789096808\n",
      "Order (2, 1, 2): MAE = 3.6222911046895336\n",
      "Order (2, 1, 3): MAE = 3.6222917762261266\n"
     ]
    },
    {
     "name": "stderr",
     "output_type": "stream",
     "text": [
      "/Users/alikhan/anaconda3/lib/python3.10/site-packages/statsmodels/base/model.py:604: ConvergenceWarning: Maximum Likelihood optimization failed to converge. Check mle_retvals\n",
      "  warnings.warn(\"Maximum Likelihood optimization failed to \"\n"
     ]
    },
    {
     "name": "stdout",
     "output_type": "stream",
     "text": [
      "Order (2, 1, 4): MAE = 3.6220448106659795\n"
     ]
    },
    {
     "name": "stderr",
     "output_type": "stream",
     "text": [
      "/Users/alikhan/anaconda3/lib/python3.10/site-packages/statsmodels/base/model.py:604: ConvergenceWarning: Maximum Likelihood optimization failed to converge. Check mle_retvals\n",
      "  warnings.warn(\"Maximum Likelihood optimization failed to \"\n"
     ]
    },
    {
     "name": "stdout",
     "output_type": "stream",
     "text": [
      "Order (2, 1, 5): MAE = 3.6221886681955224\n"
     ]
    },
    {
     "name": "stderr",
     "output_type": "stream",
     "text": [
      "/Users/alikhan/anaconda3/lib/python3.10/site-packages/statsmodels/base/model.py:604: ConvergenceWarning: Maximum Likelihood optimization failed to converge. Check mle_retvals\n",
      "  warnings.warn(\"Maximum Likelihood optimization failed to \"\n"
     ]
    },
    {
     "name": "stdout",
     "output_type": "stream",
     "text": [
      "Order (2, 1, 6): MAE = 3.6242650009654422\n",
      "Best Order for Stock ID 154: (0, 1, 5)\n",
      "Best MAE for Stock ID 154: 3.620813888852279\n",
      "\n",
      "Training and evaluating for Stock ID: 155\n",
      "Training Set Date Range: 0 -- 477\n",
      "Testing Set Date Range: 478 -- 480\n",
      "Order (0, 0, 0): MAE = 4.854209932088034\n",
      "Order (0, 0, 1): MAE = 4.855909882976314\n",
      "Order (0, 0, 2): MAE = 4.860029957704265\n",
      "Order (0, 0, 3): MAE = 4.860386581525132\n",
      "Order (0, 0, 4): MAE = 4.875771411956629\n",
      "Order (0, 0, 5): MAE = 4.901457523141033\n",
      "Order (0, 0, 6): MAE = 4.89979744142715\n",
      "Order (0, 1, 0): MAE = 7.54694504339394\n",
      "Order (0, 1, 1): MAE = 7.564349809870837\n",
      "Order (0, 1, 2): MAE = 7.431802532036215\n",
      "Order (0, 1, 3): MAE = 6.260065659803182\n",
      "Order (0, 1, 4): MAE = 4.860246205084412\n",
      "Order (0, 1, 5): MAE = 4.875302954607348\n",
      "Order (0, 1, 6): MAE = 4.901448402609922\n",
      "Order (1, 0, 0): MAE = 4.886273110388312\n",
      "Order (1, 0, 1): MAE = 4.881867242702604\n",
      "Order (1, 0, 2): MAE = 4.880049885225912\n",
      "Order (1, 0, 3): MAE = 4.889755562925089\n",
      "Order (1, 0, 4): MAE = 4.907809483953082\n",
      "Order (1, 0, 5): MAE = 4.9001172655107545\n",
      "Order (1, 0, 6): MAE = 4.896361715913191\n",
      "Order (1, 1, 0): MAE = 7.567224448764141\n",
      "Order (1, 1, 1): MAE = 4.886114152902172\n",
      "Order (1, 1, 2): MAE = 4.881780264113679\n",
      "Order (1, 1, 3): MAE = 4.8798847399789045\n",
      "Order (1, 1, 4): MAE = 4.889703107256909\n",
      "Order (1, 1, 5): MAE = 4.907739658301301\n"
     ]
    },
    {
     "name": "stderr",
     "output_type": "stream",
     "text": [
      "/Users/alikhan/anaconda3/lib/python3.10/site-packages/statsmodels/base/model.py:604: ConvergenceWarning: Maximum Likelihood optimization failed to converge. Check mle_retvals\n",
      "  warnings.warn(\"Maximum Likelihood optimization failed to \"\n"
     ]
    },
    {
     "name": "stdout",
     "output_type": "stream",
     "text": [
      "Order (1, 1, 6): MAE = 4.900101852280872\n",
      "Order (2, 0, 0): MAE = 4.881041505054175\n",
      "Order (2, 0, 1): MAE = 4.876822452092072\n",
      "Order (2, 0, 2): MAE = 4.879442823783124\n",
      "Order (2, 0, 3): MAE = 4.898801787501862\n",
      "Order (2, 0, 4): MAE = 4.893652447065087\n",
      "Order (2, 0, 5): MAE = 4.897679222247251\n",
      "Order (2, 0, 6): MAE = 4.895810502796078\n",
      "Order (2, 1, 0): MAE = 7.495731296071171\n",
      "Order (2, 1, 1): MAE = 4.88081188962862\n",
      "Order (2, 1, 2): MAE = 4.881189064193948\n"
     ]
    },
    {
     "name": "stderr",
     "output_type": "stream",
     "text": [
      "/Users/alikhan/anaconda3/lib/python3.10/site-packages/statsmodels/base/model.py:604: ConvergenceWarning: Maximum Likelihood optimization failed to converge. Check mle_retvals\n",
      "  warnings.warn(\"Maximum Likelihood optimization failed to \"\n"
     ]
    },
    {
     "name": "stdout",
     "output_type": "stream",
     "text": [
      "Order (2, 1, 3): MAE = 4.880812809597568\n"
     ]
    },
    {
     "name": "stderr",
     "output_type": "stream",
     "text": [
      "/Users/alikhan/anaconda3/lib/python3.10/site-packages/statsmodels/base/model.py:604: ConvergenceWarning: Maximum Likelihood optimization failed to converge. Check mle_retvals\n",
      "  warnings.warn(\"Maximum Likelihood optimization failed to \"\n"
     ]
    },
    {
     "name": "stdout",
     "output_type": "stream",
     "text": [
      "Order (2, 1, 4): MAE = 4.877573404626474\n"
     ]
    },
    {
     "name": "stderr",
     "output_type": "stream",
     "text": [
      "/Users/alikhan/anaconda3/lib/python3.10/site-packages/statsmodels/base/model.py:604: ConvergenceWarning: Maximum Likelihood optimization failed to converge. Check mle_retvals\n",
      "  warnings.warn(\"Maximum Likelihood optimization failed to \"\n"
     ]
    },
    {
     "name": "stdout",
     "output_type": "stream",
     "text": [
      "Order (2, 1, 5): MAE = 4.8933537682458494\n"
     ]
    },
    {
     "name": "stderr",
     "output_type": "stream",
     "text": [
      "/Users/alikhan/anaconda3/lib/python3.10/site-packages/statsmodels/base/model.py:604: ConvergenceWarning: Maximum Likelihood optimization failed to converge. Check mle_retvals\n",
      "  warnings.warn(\"Maximum Likelihood optimization failed to \"\n"
     ]
    },
    {
     "name": "stdout",
     "output_type": "stream",
     "text": [
      "Order (2, 1, 6): MAE = 4.89757027724566\n",
      "Best Order for Stock ID 155: (0, 0, 0)\n",
      "Best MAE for Stock ID 155: 4.854209932088034\n",
      "\n",
      "Training and evaluating for Stock ID: 157\n",
      "Training Set Date Range: 0 -- 477\n",
      "Testing Set Date Range: 478 -- 480\n",
      "Order (0, 0, 0): MAE = 4.682382982198194\n",
      "Order (0, 0, 1): MAE = 4.681596801066375\n",
      "Order (0, 0, 2): MAE = 4.681359076467462\n",
      "Order (0, 0, 3): MAE = 4.680764798507564\n",
      "Order (0, 0, 4): MAE = 4.679509500231523\n",
      "Order (0, 0, 5): MAE = 4.679916686939497\n",
      "Order (0, 0, 6): MAE = 4.679745994630857\n",
      "Order (0, 1, 0): MAE = 5.239822677042424\n",
      "Order (0, 1, 1): MAE = 5.03885347816459\n",
      "Order (0, 1, 2): MAE = 5.018778639937429\n",
      "Order (0, 1, 3): MAE = 4.5974087828886026\n",
      "Order (0, 1, 4): MAE = 4.65145733759269\n",
      "Order (0, 1, 5): MAE = 4.661906270199445\n",
      "Order (0, 1, 6): MAE = 4.676000347808124\n",
      "Order (1, 0, 0): MAE = 4.677821437150182\n",
      "Order (1, 0, 1): MAE = 4.676392106128894\n",
      "Order (1, 0, 2): MAE = 4.677196718220088\n",
      "Order (1, 0, 3): MAE = 4.6779905420811465\n",
      "Order (1, 0, 4): MAE = 4.679051298179923\n",
      "Order (1, 0, 5): MAE = 4.6797046961078985\n",
      "Order (1, 0, 6): MAE = 4.679798167908754\n",
      "Order (1, 1, 0): MAE = 5.088237139581609\n",
      "Order (1, 1, 1): MAE = 4.670707009777673\n",
      "Order (1, 1, 2): MAE = 4.671115034927748\n",
      "Order (1, 1, 3): MAE = 4.672991579239892\n",
      "Order (1, 1, 4): MAE = 4.647803060459899\n",
      "Order (1, 1, 5): MAE = 4.645637641887008\n",
      "Order (1, 1, 6): MAE = 4.6707827209652795\n",
      "Order (2, 0, 0): MAE = 4.676328599779858\n",
      "Order (2, 0, 1): MAE = 4.676536432087378\n",
      "Order (2, 0, 2): MAE = 4.6818737724592765\n",
      "Order (2, 0, 3): MAE = 4.677328330999849\n",
      "Order (2, 0, 4): MAE = 4.680495024229523\n",
      "Order (2, 0, 5): MAE = 4.679695234102712\n",
      "Order (2, 0, 6): MAE = 4.679880217481646\n",
      "Order (2, 1, 0): MAE = 5.046929168943981\n",
      "Order (2, 1, 1): MAE = 4.668452022786194\n",
      "Order (2, 1, 2): MAE = 4.670346476734097\n",
      "Order (2, 1, 3): MAE = 4.6758761453122855\n",
      "Order (2, 1, 4): MAE = 4.672424621065167\n",
      "Order (2, 1, 5): MAE = 4.673148265081348\n",
      "Order (2, 1, 6): MAE = 4.670049600545939\n",
      "Best Order for Stock ID 157: (0, 1, 3)\n",
      "Best MAE for Stock ID 157: 4.5974087828886026\n",
      "\n",
      "Training and evaluating for Stock ID: 158\n",
      "Training Set Date Range: 0 -- 477\n",
      "Testing Set Date Range: 478 -- 480\n",
      "Order (0, 0, 0): MAE = 8.038370364700198\n",
      "Order (0, 0, 1): MAE = 8.038463672489938\n",
      "Order (0, 0, 2): MAE = 8.039041373275785\n",
      "Order (0, 0, 3): MAE = 8.03854578936216\n",
      "Order (0, 0, 4): MAE = 8.040540395004193\n",
      "Order (0, 0, 5): MAE = 8.044908394200222\n",
      "Order (0, 0, 6): MAE = 8.044947318479306\n",
      "Order (0, 1, 0): MAE = 8.038542438284848\n",
      "Order (0, 1, 1): MAE = 8.03823434364638\n",
      "Order (0, 1, 2): MAE = 8.09891613672464\n",
      "Order (0, 1, 3): MAE = 9.758670941315298\n",
      "Order (0, 1, 4): MAE = 8.089670565513922\n",
      "Order (0, 1, 5): MAE = 8.083433110927043\n",
      "Order (0, 1, 6): MAE = 8.045387081411777\n",
      "Order (1, 0, 0): MAE = 8.037698055671097\n",
      "Order (1, 0, 1): MAE = 8.037719671405071\n",
      "Order (1, 0, 2): MAE = 8.037747213085058\n",
      "Order (1, 0, 3): MAE = 8.041604444752945\n",
      "Order (1, 0, 4): MAE = 8.04370237567606\n",
      "Order (1, 0, 5): MAE = 8.044922860947835\n",
      "Order (1, 0, 6): MAE = 8.045056455628657\n",
      "Order (1, 1, 0): MAE = 8.035574446500796\n",
      "Order (1, 1, 1): MAE = 8.052790681943444\n",
      "Order (1, 1, 2): MAE = 8.041207455467188\n"
     ]
    },
    {
     "name": "stderr",
     "output_type": "stream",
     "text": [
      "/Users/alikhan/anaconda3/lib/python3.10/site-packages/statsmodels/base/model.py:604: ConvergenceWarning: Maximum Likelihood optimization failed to converge. Check mle_retvals\n",
      "  warnings.warn(\"Maximum Likelihood optimization failed to \"\n"
     ]
    },
    {
     "name": "stdout",
     "output_type": "stream",
     "text": [
      "Order (1, 1, 3): MAE = 8.038708599472054\n",
      "Order (1, 1, 4): MAE = 8.0926079132692\n"
     ]
    },
    {
     "name": "stderr",
     "output_type": "stream",
     "text": [
      "/Users/alikhan/anaconda3/lib/python3.10/site-packages/statsmodels/base/model.py:604: ConvergenceWarning: Maximum Likelihood optimization failed to converge. Check mle_retvals\n",
      "  warnings.warn(\"Maximum Likelihood optimization failed to \"\n"
     ]
    },
    {
     "name": "stdout",
     "output_type": "stream",
     "text": [
      "Order (1, 1, 5): MAE = 8.04453462731382\n"
     ]
    },
    {
     "name": "stderr",
     "output_type": "stream",
     "text": [
      "/Users/alikhan/anaconda3/lib/python3.10/site-packages/statsmodels/base/model.py:604: ConvergenceWarning: Maximum Likelihood optimization failed to converge. Check mle_retvals\n",
      "  warnings.warn(\"Maximum Likelihood optimization failed to \"\n"
     ]
    },
    {
     "name": "stdout",
     "output_type": "stream",
     "text": [
      "Order (1, 1, 6): MAE = 8.046638608527754\n",
      "Order (2, 0, 0): MAE = 8.037718153802986\n",
      "Order (2, 0, 1): MAE = 8.038407370799586\n",
      "Order (2, 0, 2): MAE = 8.03835245032913\n",
      "Order (2, 0, 3): MAE = 8.045595780317248\n",
      "Order (2, 0, 4): MAE = 8.04233457087524\n",
      "Order (2, 0, 5): MAE = 8.045224484561125\n"
     ]
    },
    {
     "name": "stderr",
     "output_type": "stream",
     "text": [
      "/Users/alikhan/anaconda3/lib/python3.10/site-packages/statsmodels/base/model.py:604: ConvergenceWarning: Maximum Likelihood optimization failed to converge. Check mle_retvals\n",
      "  warnings.warn(\"Maximum Likelihood optimization failed to \"\n"
     ]
    },
    {
     "name": "stdout",
     "output_type": "stream",
     "text": [
      "Order (2, 0, 6): MAE = 8.046356248678311\n",
      "Order (2, 1, 0): MAE = 8.04002038149556\n",
      "Order (2, 1, 1): MAE = 8.038281664391496\n",
      "Order (2, 1, 2): MAE = 8.038551742953626\n",
      "Order (2, 1, 3): MAE = 8.039608081881337\n"
     ]
    },
    {
     "name": "stderr",
     "output_type": "stream",
     "text": [
      "/Users/alikhan/anaconda3/lib/python3.10/site-packages/statsmodels/base/model.py:604: ConvergenceWarning: Maximum Likelihood optimization failed to converge. Check mle_retvals\n",
      "  warnings.warn(\"Maximum Likelihood optimization failed to \"\n"
     ]
    },
    {
     "name": "stdout",
     "output_type": "stream",
     "text": [
      "Order (2, 1, 4): MAE = 8.039302529057753\n"
     ]
    },
    {
     "name": "stderr",
     "output_type": "stream",
     "text": [
      "/Users/alikhan/anaconda3/lib/python3.10/site-packages/statsmodels/base/model.py:604: ConvergenceWarning: Maximum Likelihood optimization failed to converge. Check mle_retvals\n",
      "  warnings.warn(\"Maximum Likelihood optimization failed to \"\n"
     ]
    },
    {
     "name": "stdout",
     "output_type": "stream",
     "text": [
      "Order (2, 1, 5): MAE = 8.061148832445031\n",
      "Order (2, 1, 6): MAE = 8.047726622439207\n",
      "Best Order for Stock ID 158: (1, 1, 0)\n",
      "Best MAE for Stock ID 158: 8.035574446500796\n",
      "\n",
      "Training and evaluating for Stock ID: 159\n",
      "Training Set Date Range: 0 -- 477\n",
      "Testing Set Date Range: 478 -- 480\n",
      "Order (0, 0, 0): MAE = 4.551585453361974\n",
      "Order (0, 0, 1): MAE = 4.553341555373242\n",
      "Order (0, 0, 2): MAE = 4.565352387927827\n",
      "Order (0, 0, 3): MAE = 4.567559908286066\n",
      "Order (0, 0, 4): MAE = 4.579804162489261\n",
      "Order (0, 0, 5): MAE = 4.5725473468240745\n",
      "Order (0, 0, 6): MAE = 4.5720109374362154\n",
      "Order (0, 1, 0): MAE = 10.56125318048485\n",
      "Order (0, 1, 1): MAE = 10.696521223016429\n",
      "Order (0, 1, 2): MAE = 10.679843198060912\n",
      "Order (0, 1, 3): MAE = 9.515766768498873\n",
      "Order (0, 1, 4): MAE = 4.648482832286263\n",
      "Order (0, 1, 5): MAE = 4.594110438830862\n",
      "Order (0, 1, 6): MAE = 4.57254776570509\n",
      "Order (1, 0, 0): MAE = 4.617669131340273\n",
      "Order (1, 0, 1): MAE = 4.612077551978191\n",
      "Order (1, 0, 2): MAE = 4.6062966092120075\n",
      "Order (1, 0, 3): MAE = 4.600080296366219\n",
      "Order (1, 0, 4): MAE = 4.597095463341756\n",
      "Order (1, 0, 5): MAE = 4.572138781244628\n",
      "Order (1, 0, 6): MAE = 4.570546352061922\n",
      "Order (1, 1, 0): MAE = 10.695366120214238\n",
      "Order (1, 1, 1): MAE = 4.620285431202112\n",
      "Order (1, 1, 2): MAE = 4.612231139756821\n"
     ]
    },
    {
     "name": "stderr",
     "output_type": "stream",
     "text": [
      "/Users/alikhan/anaconda3/lib/python3.10/site-packages/statsmodels/base/model.py:604: ConvergenceWarning: Maximum Likelihood optimization failed to converge. Check mle_retvals\n",
      "  warnings.warn(\"Maximum Likelihood optimization failed to \"\n"
     ]
    },
    {
     "name": "stdout",
     "output_type": "stream",
     "text": [
      "Order (1, 1, 3): MAE = 4.606358706047581\n",
      "Order (1, 1, 4): MAE = 4.864203734428129\n",
      "Order (1, 1, 5): MAE = 4.5971103566696225\n"
     ]
    },
    {
     "name": "stderr",
     "output_type": "stream",
     "text": [
      "/Users/alikhan/anaconda3/lib/python3.10/site-packages/statsmodels/base/model.py:604: ConvergenceWarning: Maximum Likelihood optimization failed to converge. Check mle_retvals\n",
      "  warnings.warn(\"Maximum Likelihood optimization failed to \"\n"
     ]
    },
    {
     "name": "stdout",
     "output_type": "stream",
     "text": [
      "Order (1, 1, 6): MAE = 4.572147207258339\n",
      "Order (2, 0, 0): MAE = 4.61069097191264\n",
      "Order (2, 0, 1): MAE = 4.6045632279225\n",
      "Order (2, 0, 2): MAE = 4.591112692178768\n",
      "Order (2, 0, 3): MAE = 4.574361501764472\n",
      "Order (2, 0, 4): MAE = 4.578532544772437\n",
      "Order (2, 0, 5): MAE = 4.5719441473957385\n",
      "Order (2, 0, 6): MAE = 4.570520324939177\n",
      "Order (2, 1, 0): MAE = 10.682596039364075\n",
      "Order (2, 1, 1): MAE = 4.610772803058275\n",
      "Order (2, 1, 2): MAE = 4.604554654586394\n",
      "Order (2, 1, 3): MAE = 4.6065630762437575\n",
      "Order (2, 1, 4): MAE = 4.59677053053005\n"
     ]
    },
    {
     "name": "stderr",
     "output_type": "stream",
     "text": [
      "/Users/alikhan/anaconda3/lib/python3.10/site-packages/statsmodels/base/model.py:604: ConvergenceWarning: Maximum Likelihood optimization failed to converge. Check mle_retvals\n",
      "  warnings.warn(\"Maximum Likelihood optimization failed to \"\n"
     ]
    },
    {
     "name": "stdout",
     "output_type": "stream",
     "text": [
      "Order (2, 1, 5): MAE = 4.596884552567331\n"
     ]
    },
    {
     "name": "stderr",
     "output_type": "stream",
     "text": [
      "/Users/alikhan/anaconda3/lib/python3.10/site-packages/statsmodels/base/model.py:604: ConvergenceWarning: Maximum Likelihood optimization failed to converge. Check mle_retvals\n",
      "  warnings.warn(\"Maximum Likelihood optimization failed to \"\n"
     ]
    },
    {
     "name": "stdout",
     "output_type": "stream",
     "text": [
      "Order (2, 1, 6): MAE = 4.571964311844437\n",
      "Best Order for Stock ID 159: (0, 0, 0)\n",
      "Best MAE for Stock ID 159: 4.551585453361974\n",
      "\n",
      "Training and evaluating for Stock ID: 160\n",
      "Training Set Date Range: 0 -- 477\n",
      "Testing Set Date Range: 478 -- 480\n",
      "Order (0, 0, 0): MAE = 3.5575268770581205\n",
      "Order (0, 0, 1): MAE = 3.566887213168599\n",
      "Order (0, 0, 2): MAE = 3.5811026178015886\n",
      "Order (0, 0, 3): MAE = 3.584340629996078\n",
      "Order (0, 0, 4): MAE = 3.5857857055068854\n",
      "Order (0, 0, 5): MAE = 3.6156751136400715\n",
      "Order (0, 0, 6): MAE = 3.617954545816115\n",
      "Order (0, 1, 0): MAE = 6.704084760351514\n",
      "Order (0, 1, 1): MAE = 6.583803265814087\n",
      "Order (0, 1, 2): MAE = 6.50902384399655\n",
      "Order (0, 1, 3): MAE = 6.017622117842323\n",
      "Order (0, 1, 4): MAE = 4.460411983462174\n",
      "Order (0, 1, 5): MAE = 3.467841309132236\n",
      "Order (0, 1, 6): MAE = 3.6159307790518556\n",
      "Order (1, 0, 0): MAE = 3.6194901242220143\n",
      "Order (1, 0, 1): MAE = 3.6161102245209604\n",
      "Order (1, 0, 2): MAE = 3.613209176965352\n",
      "Order (1, 0, 3): MAE = 3.6122186694418734\n",
      "Order (1, 0, 4): MAE = 3.6192589069095633\n",
      "Order (1, 0, 5): MAE = 3.6181375968283485\n"
     ]
    },
    {
     "name": "stderr",
     "output_type": "stream",
     "text": [
      "/Users/alikhan/anaconda3/lib/python3.10/site-packages/statsmodels/base/model.py:604: ConvergenceWarning: Maximum Likelihood optimization failed to converge. Check mle_retvals\n",
      "  warnings.warn(\"Maximum Likelihood optimization failed to \"\n"
     ]
    },
    {
     "name": "stdout",
     "output_type": "stream",
     "text": [
      "Order (1, 0, 6): MAE = 3.6158918818652785\n",
      "Order (1, 1, 0): MAE = 6.592586967057409\n",
      "Order (1, 1, 1): MAE = 3.620095627756655\n",
      "Order (1, 1, 2): MAE = 3.616464755569499\n",
      "Order (1, 1, 3): MAE = 3.613481932169366\n",
      "Order (1, 1, 4): MAE = 3.6125457949077497\n",
      "Order (1, 1, 5): MAE = 3.6195994617588436\n",
      "Order (1, 1, 6): MAE = 3.618384810960767\n",
      "Order (2, 0, 0): MAE = 3.6151483398495428\n",
      "Order (2, 0, 1): MAE = 3.6164984204674653\n",
      "Order (2, 0, 2): MAE = 3.6031116117692292\n",
      "Order (2, 0, 3): MAE = 3.6065711658720225\n",
      "Order (2, 0, 4): MAE = 3.6101977609288967\n",
      "Order (2, 0, 5): MAE = 3.6180739060260554\n",
      "Order (2, 0, 6): MAE = 3.618243227184573\n",
      "Order (2, 1, 0): MAE = 6.530611982001599\n",
      "Order (2, 1, 1): MAE = 3.615491157569387\n"
     ]
    },
    {
     "name": "stderr",
     "output_type": "stream",
     "text": [
      "/Users/alikhan/anaconda3/lib/python3.10/site-packages/statsmodels/base/model.py:604: ConvergenceWarning: Maximum Likelihood optimization failed to converge. Check mle_retvals\n",
      "  warnings.warn(\"Maximum Likelihood optimization failed to \"\n"
     ]
    },
    {
     "name": "stdout",
     "output_type": "stream",
     "text": [
      "Order (2, 1, 2): MAE = 3.616656885777241\n",
      "Order (2, 1, 3): MAE = 3.6155932154216197\n",
      "Order (2, 1, 4): MAE = 3.61107186813945\n"
     ]
    },
    {
     "name": "stderr",
     "output_type": "stream",
     "text": [
      "/Users/alikhan/anaconda3/lib/python3.10/site-packages/statsmodels/base/model.py:604: ConvergenceWarning: Maximum Likelihood optimization failed to converge. Check mle_retvals\n",
      "  warnings.warn(\"Maximum Likelihood optimization failed to \"\n"
     ]
    },
    {
     "name": "stdout",
     "output_type": "stream",
     "text": [
      "Order (2, 1, 5): MAE = 3.6103672471827557\n"
     ]
    },
    {
     "name": "stderr",
     "output_type": "stream",
     "text": [
      "/Users/alikhan/anaconda3/lib/python3.10/site-packages/statsmodels/base/model.py:604: ConvergenceWarning: Maximum Likelihood optimization failed to converge. Check mle_retvals\n",
      "  warnings.warn(\"Maximum Likelihood optimization failed to \"\n"
     ]
    },
    {
     "name": "stdout",
     "output_type": "stream",
     "text": [
      "Order (2, 1, 6): MAE = 3.6183142899308702\n",
      "Best Order for Stock ID 160: (0, 1, 5)\n",
      "Best MAE for Stock ID 160: 3.467841309132236\n",
      "\n",
      "Training and evaluating for Stock ID: 161\n",
      "Training Set Date Range: 0 -- 477\n",
      "Testing Set Date Range: 478 -- 480\n",
      "Order (0, 0, 0): MAE = 9.33305991101121\n",
      "Order (0, 0, 1): MAE = 9.361921493864934\n",
      "Order (0, 0, 2): MAE = 9.364358971879168\n",
      "Order (0, 0, 3): MAE = 9.390785637028802\n",
      "Order (0, 0, 4): MAE = 9.410907224758056\n",
      "Order (0, 0, 5): MAE = 9.5148344760009\n",
      "Order (0, 0, 6): MAE = 9.5132346717815\n",
      "Order (0, 1, 0): MAE = 30.56756476601212\n",
      "Order (0, 1, 1): MAE = 30.24636390098226\n",
      "Order (0, 1, 2): MAE = 29.55392158100071\n",
      "Order (0, 1, 3): MAE = 19.594731429853358\n",
      "Order (0, 1, 4): MAE = 9.389705076698405\n",
      "Order (0, 1, 5): MAE = 9.409669726199523\n",
      "Order (0, 1, 6): MAE = 9.512924977027195\n",
      "Order (1, 0, 0): MAE = 9.466811639181705\n",
      "Order (1, 0, 1): MAE = 9.455847789464658\n",
      "Order (1, 0, 2): MAE = 9.452232801156526\n",
      "Order (1, 0, 3): MAE = 9.487570578379305\n",
      "Order (1, 0, 4): MAE = 9.513740345378343\n",
      "Order (1, 0, 5): MAE = 9.51334152601101\n",
      "Order (1, 0, 6): MAE = 9.525585709917447\n",
      "Order (1, 1, 0): MAE = 30.296850184818666\n",
      "Order (1, 1, 1): MAE = 9.463844291007886\n",
      "Order (1, 1, 2): MAE = 9.452033093557787\n",
      "Order (1, 1, 3): MAE = 9.44989548014043\n"
     ]
    },
    {
     "name": "stderr",
     "output_type": "stream",
     "text": [
      "/Users/alikhan/anaconda3/lib/python3.10/site-packages/statsmodels/base/model.py:604: ConvergenceWarning: Maximum Likelihood optimization failed to converge. Check mle_retvals\n",
      "  warnings.warn(\"Maximum Likelihood optimization failed to \"\n"
     ]
    },
    {
     "name": "stdout",
     "output_type": "stream",
     "text": [
      "Order (1, 1, 4): MAE = 9.484759918959709\n",
      "Order (1, 1, 5): MAE = 9.511296296796594\n"
     ]
    },
    {
     "name": "stderr",
     "output_type": "stream",
     "text": [
      "/Users/alikhan/anaconda3/lib/python3.10/site-packages/statsmodels/base/model.py:604: ConvergenceWarning: Maximum Likelihood optimization failed to converge. Check mle_retvals\n",
      "  warnings.warn(\"Maximum Likelihood optimization failed to \"\n"
     ]
    },
    {
     "name": "stdout",
     "output_type": "stream",
     "text": [
      "Order (1, 1, 6): MAE = 9.511152687978184\n",
      "Order (2, 0, 0): MAE = 9.45408962284248\n",
      "Order (2, 0, 1): MAE = 9.519532176704667\n",
      "Order (2, 0, 2): MAE = 9.52693238740576\n",
      "Order (2, 0, 3): MAE = 9.539816990454854\n",
      "Order (2, 0, 4): MAE = 9.496620341342629\n",
      "Order (2, 0, 5): MAE = 9.509638027516516\n",
      "Order (2, 0, 6): MAE = 9.524142005591903\n",
      "Order (2, 1, 0): MAE = 29.862879871705776\n",
      "Order (2, 1, 1): MAE = 9.450085950560984\n"
     ]
    },
    {
     "name": "stderr",
     "output_type": "stream",
     "text": [
      "/Users/alikhan/anaconda3/lib/python3.10/site-packages/statsmodels/base/model.py:604: ConvergenceWarning: Maximum Likelihood optimization failed to converge. Check mle_retvals\n",
      "  warnings.warn(\"Maximum Likelihood optimization failed to \"\n"
     ]
    },
    {
     "name": "stdout",
     "output_type": "stream",
     "text": [
      "Order (2, 1, 2): MAE = 9.466056701131196\n",
      "Order (2, 1, 3): MAE = 9.46393582918923\n"
     ]
    },
    {
     "name": "stderr",
     "output_type": "stream",
     "text": [
      "/Users/alikhan/anaconda3/lib/python3.10/site-packages/statsmodels/base/model.py:604: ConvergenceWarning: Maximum Likelihood optimization failed to converge. Check mle_retvals\n",
      "  warnings.warn(\"Maximum Likelihood optimization failed to \"\n"
     ]
    },
    {
     "name": "stdout",
     "output_type": "stream",
     "text": [
      "Order (2, 1, 4): MAE = 9.461258962643281\n"
     ]
    },
    {
     "name": "stderr",
     "output_type": "stream",
     "text": [
      "/Users/alikhan/anaconda3/lib/python3.10/site-packages/statsmodels/base/model.py:604: ConvergenceWarning: Maximum Likelihood optimization failed to converge. Check mle_retvals\n",
      "  warnings.warn(\"Maximum Likelihood optimization failed to \"\n"
     ]
    },
    {
     "name": "stdout",
     "output_type": "stream",
     "text": [
      "Order (2, 1, 5): MAE = 9.446500075233086\n"
     ]
    },
    {
     "name": "stderr",
     "output_type": "stream",
     "text": [
      "/Users/alikhan/anaconda3/lib/python3.10/site-packages/statsmodels/base/model.py:604: ConvergenceWarning: Maximum Likelihood optimization failed to converge. Check mle_retvals\n",
      "  warnings.warn(\"Maximum Likelihood optimization failed to \"\n"
     ]
    },
    {
     "name": "stdout",
     "output_type": "stream",
     "text": [
      "Order (2, 1, 6): MAE = 9.506887423644995\n",
      "Best Order for Stock ID 161: (0, 0, 0)\n",
      "Best MAE for Stock ID 161: 9.33305991101121\n",
      "\n",
      "Training and evaluating for Stock ID: 162\n",
      "Training Set Date Range: 0 -- 477\n",
      "Testing Set Date Range: 478 -- 480\n",
      "Order (0, 0, 0): MAE = 6.0418469119888405\n",
      "Order (0, 0, 1): MAE = 6.044824366268148\n",
      "Order (0, 0, 2): MAE = 6.045508475852957\n",
      "Order (0, 0, 3): MAE = 6.047087210517314\n",
      "Order (0, 0, 4): MAE = 6.049272317237452\n",
      "Order (0, 0, 5): MAE = 6.084739840497711\n",
      "Order (0, 0, 6): MAE = 6.078041928405509\n",
      "Order (0, 1, 0): MAE = 6.527882629048485\n",
      "Order (0, 1, 1): MAE = 6.2540525900228205\n",
      "Order (0, 1, 2): MAE = 6.153775958533259\n",
      "Order (0, 1, 3): MAE = 6.021761777711675\n",
      "Order (0, 1, 4): MAE = 6.047043492058234\n",
      "Order (0, 1, 5): MAE = 6.049248785485102\n",
      "Order (0, 1, 6): MAE = 6.084736957521353\n",
      "Order (1, 0, 0): MAE = 6.047399321056789\n",
      "Order (1, 0, 1): MAE = 6.047276329670691\n",
      "Order (1, 0, 2): MAE = 6.048043847280784\n",
      "Order (1, 0, 3): MAE = 6.0567529978554004\n",
      "Order (1, 0, 4): MAE = 6.070358088170049\n",
      "Order (1, 0, 5): MAE = 6.079190997301903\n",
      "Order (1, 0, 6): MAE = 6.077698417261856\n",
      "Order (1, 1, 0): MAE = 6.318699780724239\n",
      "Order (1, 1, 1): MAE = 6.047130853053862\n",
      "Order (1, 1, 2): MAE = 6.047037136906001\n",
      "Order (1, 1, 3): MAE = 6.047709526532418\n",
      "Order (1, 1, 4): MAE = 6.027097211936818\n"
     ]
    },
    {
     "name": "stderr",
     "output_type": "stream",
     "text": [
      "/Users/alikhan/anaconda3/lib/python3.10/site-packages/statsmodels/base/model.py:604: ConvergenceWarning: Maximum Likelihood optimization failed to converge. Check mle_retvals\n",
      "  warnings.warn(\"Maximum Likelihood optimization failed to \"\n"
     ]
    },
    {
     "name": "stdout",
     "output_type": "stream",
     "text": [
      "Order (1, 1, 5): MAE = 6.070373887041245\n"
     ]
    },
    {
     "name": "stderr",
     "output_type": "stream",
     "text": [
      "/Users/alikhan/anaconda3/lib/python3.10/site-packages/statsmodels/base/model.py:604: ConvergenceWarning: Maximum Likelihood optimization failed to converge. Check mle_retvals\n",
      "  warnings.warn(\"Maximum Likelihood optimization failed to \"\n"
     ]
    },
    {
     "name": "stdout",
     "output_type": "stream",
     "text": [
      "Order (1, 1, 6): MAE = 6.079160372198718\n",
      "Order (2, 0, 0): MAE = 6.04726107329713\n",
      "Order (2, 0, 1): MAE = 6.0472052804639205\n",
      "Order (2, 0, 2): MAE = 6.062254917577465\n",
      "Order (2, 0, 3): MAE = 6.074791190825225\n",
      "Order (2, 0, 4): MAE = 6.070830127230096\n",
      "Order (2, 0, 5): MAE = 6.0779797643102995\n",
      "Order (2, 0, 6): MAE = 6.078526672267251\n",
      "Order (2, 1, 0): MAE = 6.2268531972043615\n",
      "Order (2, 1, 1): MAE = 6.046003247822145\n",
      "Order (2, 1, 2): MAE = 6.047506812716284\n",
      "Order (2, 1, 3): MAE = 6.047069991805749\n"
     ]
    },
    {
     "name": "stderr",
     "output_type": "stream",
     "text": [
      "/Users/alikhan/anaconda3/lib/python3.10/site-packages/statsmodels/base/model.py:604: ConvergenceWarning: Maximum Likelihood optimization failed to converge. Check mle_retvals\n",
      "  warnings.warn(\"Maximum Likelihood optimization failed to \"\n"
     ]
    },
    {
     "name": "stdout",
     "output_type": "stream",
     "text": [
      "Order (2, 1, 4): MAE = 6.048841462708803\n"
     ]
    },
    {
     "name": "stderr",
     "output_type": "stream",
     "text": [
      "/Users/alikhan/anaconda3/lib/python3.10/site-packages/statsmodels/base/model.py:604: ConvergenceWarning: Maximum Likelihood optimization failed to converge. Check mle_retvals\n",
      "  warnings.warn(\"Maximum Likelihood optimization failed to \"\n"
     ]
    },
    {
     "name": "stdout",
     "output_type": "stream",
     "text": [
      "Order (2, 1, 5): MAE = 6.066626282414857\n"
     ]
    },
    {
     "name": "stderr",
     "output_type": "stream",
     "text": [
      "/Users/alikhan/anaconda3/lib/python3.10/site-packages/statsmodels/base/model.py:604: ConvergenceWarning: Maximum Likelihood optimization failed to converge. Check mle_retvals\n",
      "  warnings.warn(\"Maximum Likelihood optimization failed to \"\n"
     ]
    },
    {
     "name": "stdout",
     "output_type": "stream",
     "text": [
      "Order (2, 1, 6): MAE = 6.07781659773487\n",
      "Best Order for Stock ID 162: (0, 1, 3)\n",
      "Best MAE for Stock ID 162: 6.021761777711675\n",
      "\n",
      "Training and evaluating for Stock ID: 163\n",
      "Training Set Date Range: 0 -- 477\n",
      "Testing Set Date Range: 478 -- 480\n",
      "Order (0, 0, 0): MAE = 2.6289111876319957\n",
      "Order (0, 0, 1): MAE = 2.6295778896333664\n",
      "Order (0, 0, 2): MAE = 2.62874360966279\n",
      "Order (0, 0, 3): MAE = 2.6286742406454398\n",
      "Order (0, 0, 4): MAE = 2.6280402040712736\n",
      "Order (0, 0, 5): MAE = 2.62889838836369\n",
      "Order (0, 0, 6): MAE = 2.628887333822018\n",
      "Order (0, 1, 0): MAE = 2.5512883159030304\n",
      "Order (0, 1, 1): MAE = 2.542141377939561\n",
      "Order (0, 1, 2): MAE = 2.542153984596889\n",
      "Order (0, 1, 3): MAE = 2.556258780811607\n",
      "Order (0, 1, 4): MAE = 2.5535559624481805\n",
      "Order (0, 1, 5): MAE = 2.557297576445108\n",
      "Order (0, 1, 6): MAE = 2.579909233330638\n",
      "Order (1, 0, 0): MAE = 2.627255932561499\n",
      "Order (1, 0, 1): MAE = 2.626594283727667\n",
      "Order (1, 0, 2): MAE = 2.6268136618897002\n",
      "Order (1, 0, 3): MAE = 2.6276811225251415\n",
      "Order (1, 0, 4): MAE = 2.627974289216031\n",
      "Order (1, 0, 5): MAE = 2.628832579481328\n",
      "Order (1, 0, 6): MAE = 2.629056565695615\n",
      "Order (1, 1, 0): MAE = 2.5421483562243687\n",
      "Order (1, 1, 1): MAE = 2.57822166608576\n",
      "Order (1, 1, 2): MAE = 2.5427928363121777\n",
      "Order (1, 1, 3): MAE = 2.581350661623653\n",
      "Order (1, 1, 4): MAE = 2.5528843658410163\n",
      "Order (1, 1, 5): MAE = 2.580351632359599\n",
      "Order (1, 1, 6): MAE = 2.5732812663824842\n",
      "Order (2, 0, 0): MAE = 2.6264973677946215\n",
      "Order (2, 0, 1): MAE = 2.627616791901658\n",
      "Order (2, 0, 2): MAE = 2.6297702191265877\n",
      "Order (2, 0, 3): MAE = 2.6270957439412363\n",
      "Order (2, 0, 4): MAE = 2.6287238999715563\n",
      "Order (2, 0, 5): MAE = 2.628856788242523\n",
      "Order (2, 0, 6): MAE = 2.6292901176156342\n",
      "Order (2, 1, 0): MAE = 2.5422767754036473\n",
      "Order (2, 1, 1): MAE = 2.5852002310673425\n",
      "Order (2, 1, 2): MAE = 2.5773251418648533\n",
      "Order (2, 1, 3): MAE = 2.586018903631071\n",
      "Order (2, 1, 4): MAE = 2.57943073021781\n",
      "Order (2, 1, 5): MAE = 2.5810724052574976\n",
      "Order (2, 1, 6): MAE = 2.5727906478499287\n",
      "Best Order for Stock ID 163: (0, 1, 1)\n",
      "Best MAE for Stock ID 163: 2.542141377939561\n",
      "\n",
      "Training and evaluating for Stock ID: 164\n",
      "Training Set Date Range: 0 -- 477\n",
      "Testing Set Date Range: 478 -- 480\n",
      "Order (0, 0, 0): MAE = 3.1434933892640737\n",
      "Order (0, 0, 1): MAE = 3.14356986095513\n",
      "Order (0, 0, 2): MAE = 3.1434985919011402\n",
      "Order (0, 0, 3): MAE = 3.1433808924193807\n",
      "Order (0, 0, 4): MAE = 3.144101941477512\n",
      "Order (0, 0, 5): MAE = 3.144905160838046\n",
      "Order (0, 0, 6): MAE = 3.144959774911376\n",
      "Order (0, 1, 0): MAE = 3.1392610512848482\n",
      "Order (0, 1, 1): MAE = 3.1350198530263462\n",
      "Order (0, 1, 2): MAE = 3.136707222857816\n",
      "Order (0, 1, 3): MAE = 3.1445253075657598\n",
      "Order (0, 1, 4): MAE = 3.1353833818193357\n",
      "Order (0, 1, 5): MAE = 3.144699978844437\n",
      "Order (0, 1, 6): MAE = 3.1629311895518053\n",
      "Order (1, 0, 0): MAE = 3.1431539539817326\n",
      "Order (1, 0, 1): MAE = 3.1431404286344753\n",
      "Order (1, 0, 2): MAE = 3.1431839065278684\n",
      "Order (1, 0, 3): MAE = 3.1436327287519186\n",
      "Order (1, 0, 4): MAE = 3.144695996551707\n",
      "Order (1, 0, 5): MAE = 3.1449486394093067\n",
      "Order (1, 0, 6): MAE = 3.145058874003054\n",
      "Order (1, 1, 0): MAE = 3.1349474687433903\n",
      "Order (1, 1, 1): MAE = 3.1616157677782084\n",
      "Order (1, 1, 2): MAE = 3.1362532204786695\n",
      "Order (1, 1, 3): MAE = 3.161467217072687\n",
      "Order (1, 1, 4): MAE = 3.1365581422228357\n",
      "Order (1, 1, 5): MAE = 3.16336448043323\n",
      "Order (1, 1, 6): MAE = 3.1643864494037555\n",
      "Order (2, 0, 0): MAE = 3.143136880368382\n",
      "Order (2, 0, 1): MAE = 3.143181474350703\n",
      "Order (2, 0, 2): MAE = 3.144174658459807\n",
      "Order (2, 0, 3): MAE = 3.143301904903994\n",
      "Order (2, 0, 4): MAE = 3.14516298825929\n",
      "Order (2, 0, 5): MAE = 3.144974370293357\n",
      "Order (2, 0, 6): MAE = 3.1452239620476137\n",
      "Order (2, 1, 0): MAE = 3.1351860020894766\n",
      "Order (2, 1, 1): MAE = 3.1608239748748574\n",
      "Order (2, 1, 2): MAE = 3.161845777187132\n",
      "Order (2, 1, 3): MAE = 3.1604872903195558\n",
      "Order (2, 1, 4): MAE = 3.1616415535530655\n",
      "Order (2, 1, 5): MAE = 3.1617417559268235\n",
      "Order (2, 1, 6): MAE = 3.1648562654635555\n",
      "Best Order for Stock ID 164: (1, 1, 0)\n",
      "Best MAE for Stock ID 164: 3.1349474687433903\n",
      "\n",
      "Training and evaluating for Stock ID: 165\n",
      "Training Set Date Range: 0 -- 477\n",
      "Testing Set Date Range: 478 -- 480\n",
      "Order (0, 0, 0): MAE = 4.216332407130651\n",
      "Order (0, 0, 1): MAE = 4.222099912392797\n",
      "Order (0, 0, 2): MAE = 4.2181204143829705\n",
      "Order (0, 0, 3): MAE = 4.216255525117349\n",
      "Order (0, 0, 4): MAE = 4.217657612183613\n",
      "Order (0, 0, 5): MAE = 4.224597838137641\n",
      "Order (0, 0, 6): MAE = 4.224727671305562\n",
      "Order (0, 1, 0): MAE = 5.361661769151515\n",
      "Order (0, 1, 1): MAE = 5.459615957720834\n",
      "Order (0, 1, 2): MAE = 5.66698063277188\n",
      "Order (0, 1, 3): MAE = 6.536872411445502\n",
      "Order (0, 1, 4): MAE = 4.1766655429880055\n",
      "Order (0, 1, 5): MAE = 4.181554648204201\n",
      "Order (0, 1, 6): MAE = 4.224522319527823\n",
      "Order (1, 0, 0): MAE = 4.222277113632538\n",
      "Order (1, 0, 1): MAE = 4.220571350342904\n",
      "Order (1, 0, 2): MAE = 4.217206892584222\n",
      "Order (1, 0, 3): MAE = 4.2210375819339525\n",
      "Order (1, 0, 4): MAE = 4.222741066107076\n",
      "Order (1, 0, 5): MAE = 4.224715106925658\n",
      "Order (1, 0, 6): MAE = 4.227025998389667\n",
      "Order (1, 1, 0): MAE = 5.441399122325468\n",
      "Order (1, 1, 1): MAE = 4.221826199496229\n",
      "Order (1, 1, 2): MAE = 4.220258923657595\n",
      "Order (1, 1, 3): MAE = 4.217032543460269\n",
      "Order (1, 1, 4): MAE = 4.179585204807064\n",
      "Order (1, 1, 5): MAE = 4.2226553899845545\n",
      "Order (1, 1, 6): MAE = 4.224652108887826\n",
      "Order (2, 0, 0): MAE = 4.219892036140459\n",
      "Order (2, 0, 1): MAE = 4.225806744911368\n",
      "Order (2, 0, 2): MAE = 4.2329321016441375\n",
      "Order (2, 0, 3): MAE = 4.230279363209499\n",
      "Order (2, 0, 4): MAE = 4.224071565021698\n",
      "Order (2, 0, 5): MAE = 4.224532611525524\n",
      "Order (2, 0, 6): MAE = 4.2252577343314\n",
      "Order (2, 1, 0): MAE = 5.611047782429542\n",
      "Order (2, 1, 1): MAE = 4.219638511952695\n",
      "Order (2, 1, 2): MAE = 4.226005070185218\n",
      "Order (2, 1, 3): MAE = 4.225166947273531\n"
     ]
    },
    {
     "name": "stderr",
     "output_type": "stream",
     "text": [
      "/Users/alikhan/anaconda3/lib/python3.10/site-packages/statsmodels/base/model.py:604: ConvergenceWarning: Maximum Likelihood optimization failed to converge. Check mle_retvals\n",
      "  warnings.warn(\"Maximum Likelihood optimization failed to \"\n"
     ]
    },
    {
     "name": "stdout",
     "output_type": "stream",
     "text": [
      "Order (2, 1, 4): MAE = 4.220507272469484\n"
     ]
    },
    {
     "name": "stderr",
     "output_type": "stream",
     "text": [
      "/Users/alikhan/anaconda3/lib/python3.10/site-packages/statsmodels/base/model.py:604: ConvergenceWarning: Maximum Likelihood optimization failed to converge. Check mle_retvals\n",
      "  warnings.warn(\"Maximum Likelihood optimization failed to \"\n"
     ]
    },
    {
     "name": "stdout",
     "output_type": "stream",
     "text": [
      "Order (2, 1, 5): MAE = 4.223649120592608\n",
      "Order (2, 1, 6): MAE = 4.224426328252557\n",
      "Best Order for Stock ID 165: (0, 1, 4)\n",
      "Best MAE for Stock ID 165: 4.1766655429880055\n",
      "\n",
      "Training and evaluating for Stock ID: 166\n",
      "Training Set Date Range: 0 -- 477\n",
      "Testing Set Date Range: 478 -- 480\n",
      "Order (0, 0, 0): MAE = 3.464002908222327\n",
      "Order (0, 0, 1): MAE = 3.469188996724207\n",
      "Order (0, 0, 2): MAE = 3.4759349440843805\n",
      "Order (0, 0, 3): MAE = 3.479230619595376\n",
      "Order (0, 0, 4): MAE = 3.481273058469479\n",
      "Order (0, 0, 5): MAE = 3.4951615839423096\n",
      "Order (0, 0, 6): MAE = 3.495140416569459\n",
      "Order (0, 1, 0): MAE = 6.353920174557576\n",
      "Order (0, 1, 1): MAE = 6.330010553048288\n",
      "Order (0, 1, 2): MAE = 6.201404391296264\n",
      "Order (0, 1, 3): MAE = 5.69408551167026\n",
      "Order (0, 1, 4): MAE = 3.435031721103847\n",
      "Order (0, 1, 5): MAE = 3.478347220115714\n",
      "Order (0, 1, 6): MAE = 3.4951161902716854\n",
      "Order (1, 0, 0): MAE = 3.5082263171492154\n",
      "Order (1, 0, 1): MAE = 3.501778637584711\n",
      "Order (1, 0, 2): MAE = 3.499858680860654\n",
      "Order (1, 0, 3): MAE = 3.499272700906912\n",
      "Order (1, 0, 4): MAE = 3.496665497408215\n",
      "Order (1, 0, 5): MAE = 3.495143869256882\n",
      "Order (1, 0, 6): MAE = 3.4907422340506877\n",
      "Order (1, 1, 0): MAE = 6.334027060362619\n",
      "Order (1, 1, 1): MAE = 3.51347954825676\n",
      "Order (1, 1, 2): MAE = 3.5017247439837305\n",
      "Order (1, 1, 3): MAE = 3.4998260380209754\n",
      "Order (1, 1, 4): MAE = 3.477236439118431\n",
      "Order (1, 1, 5): MAE = 3.4966193325929913\n",
      "Order (1, 1, 6): MAE = 3.4950915573676875\n",
      "Order (2, 0, 0): MAE = 3.5004397773078773\n",
      "Order (2, 0, 1): MAE = 3.4854880762325644\n",
      "Order (2, 0, 2): MAE = 3.485674290013643\n",
      "Order (2, 0, 3): MAE = 3.4848830142444363\n",
      "Order (2, 0, 4): MAE = 3.4885309729688587\n",
      "Order (2, 0, 5): MAE = 3.4934088513474584\n",
      "Order (2, 0, 6): MAE = 3.4917842581581775\n",
      "Order (2, 1, 0): MAE = 6.225371332550618\n",
      "Order (2, 1, 1): MAE = 3.5002543399830093\n",
      "Order (2, 1, 2): MAE = 3.5048708266903126\n",
      "Order (2, 1, 3): MAE = 3.5025327836827524\n"
     ]
    },
    {
     "name": "stderr",
     "output_type": "stream",
     "text": [
      "/Users/alikhan/anaconda3/lib/python3.10/site-packages/statsmodels/base/model.py:604: ConvergenceWarning: Maximum Likelihood optimization failed to converge. Check mle_retvals\n",
      "  warnings.warn(\"Maximum Likelihood optimization failed to \"\n"
     ]
    },
    {
     "name": "stdout",
     "output_type": "stream",
     "text": [
      "Order (2, 1, 4): MAE = 3.499060326177454\n"
     ]
    },
    {
     "name": "stderr",
     "output_type": "stream",
     "text": [
      "/Users/alikhan/anaconda3/lib/python3.10/site-packages/statsmodels/base/model.py:604: ConvergenceWarning: Maximum Likelihood optimization failed to converge. Check mle_retvals\n",
      "  warnings.warn(\"Maximum Likelihood optimization failed to \"\n"
     ]
    },
    {
     "name": "stdout",
     "output_type": "stream",
     "text": [
      "Order (2, 1, 5): MAE = 3.488214054849599\n"
     ]
    },
    {
     "name": "stderr",
     "output_type": "stream",
     "text": [
      "/Users/alikhan/anaconda3/lib/python3.10/site-packages/statsmodels/base/model.py:604: ConvergenceWarning: Maximum Likelihood optimization failed to converge. Check mle_retvals\n",
      "  warnings.warn(\"Maximum Likelihood optimization failed to \"\n"
     ]
    },
    {
     "name": "stdout",
     "output_type": "stream",
     "text": [
      "Order (2, 1, 6): MAE = 3.4931970031161064\n",
      "Best Order for Stock ID 166: (0, 1, 4)\n",
      "Best MAE for Stock ID 166: 3.435031721103847\n",
      "\n",
      "Training and evaluating for Stock ID: 167\n",
      "Training Set Date Range: 0 -- 477\n",
      "Testing Set Date Range: 478 -- 480\n",
      "Order (0, 0, 0): MAE = 4.535721875591713\n",
      "Order (0, 0, 1): MAE = 4.54285070564126\n",
      "Order (0, 0, 2): MAE = 4.548649751056846\n",
      "Order (0, 0, 3): MAE = 4.551674846114799\n",
      "Order (0, 0, 4): MAE = 4.552412962033084\n",
      "Order (0, 0, 5): MAE = 4.557704224194793\n",
      "Order (0, 0, 6): MAE = 4.555494843869955\n",
      "Order (0, 1, 0): MAE = 7.161971248806061\n",
      "Order (0, 1, 1): MAE = 6.813450957104461\n",
      "Order (0, 1, 2): MAE = 6.7173583764761995\n",
      "Order (0, 1, 3): MAE = 5.033203685155687\n",
      "Order (0, 1, 4): MAE = 4.627647181256093\n",
      "Order (0, 1, 5): MAE = 4.613575748468024\n",
      "Order (0, 1, 6): MAE = 4.557781332705036\n",
      "Order (1, 0, 0): MAE = 4.571107392153257\n",
      "Order (1, 0, 1): MAE = 4.570539597612132\n",
      "Order (1, 0, 2): MAE = 4.567954205928398\n",
      "Order (1, 0, 3): MAE = 4.565245955382046\n",
      "Order (1, 0, 4): MAE = 4.566092802385013\n",
      "Order (1, 0, 5): MAE = 4.5557747025296065\n",
      "Order (1, 0, 6): MAE = 4.55466055084283\n",
      "Order (1, 1, 0): MAE = 6.8555880801741615\n",
      "Order (1, 1, 1): MAE = 4.571187013927986\n",
      "Order (1, 1, 2): MAE = 4.570664772792977\n",
      "Order (1, 1, 3): MAE = 4.568095925416203\n",
      "Order (1, 1, 4): MAE = 4.629563008876998\n",
      "Order (1, 1, 5): MAE = 4.566214899145011\n",
      "Order (1, 1, 6): MAE = 4.555853449726655\n",
      "Order (2, 0, 0): MAE = 4.570403398657022\n",
      "Order (2, 0, 1): MAE = 4.5709935057508195\n",
      "Order (2, 0, 2): MAE = 4.56368253855553\n",
      "Order (2, 0, 3): MAE = 4.555123052894417\n",
      "Order (2, 0, 4): MAE = 4.557140669888144\n",
      "Order (2, 0, 5): MAE = 4.555199898377312\n",
      "Order (2, 0, 6): MAE = 4.555599181997165\n",
      "Order (2, 1, 0): MAE = 6.789238210945807\n",
      "Order (2, 1, 1): MAE = 4.570589585222968\n"
     ]
    },
    {
     "name": "stderr",
     "output_type": "stream",
     "text": [
      "/Users/alikhan/anaconda3/lib/python3.10/site-packages/statsmodels/base/model.py:604: ConvergenceWarning: Maximum Likelihood optimization failed to converge. Check mle_retvals\n",
      "  warnings.warn(\"Maximum Likelihood optimization failed to \"\n"
     ]
    },
    {
     "name": "stdout",
     "output_type": "stream",
     "text": [
      "Order (2, 1, 2): MAE = 4.569484318686753\n",
      "Order (2, 1, 3): MAE = 4.570086739563255\n"
     ]
    },
    {
     "name": "stderr",
     "output_type": "stream",
     "text": [
      "/Users/alikhan/anaconda3/lib/python3.10/site-packages/statsmodels/base/model.py:604: ConvergenceWarning: Maximum Likelihood optimization failed to converge. Check mle_retvals\n",
      "  warnings.warn(\"Maximum Likelihood optimization failed to \"\n"
     ]
    },
    {
     "name": "stdout",
     "output_type": "stream",
     "text": [
      "Order (2, 1, 4): MAE = 4.565354697023818\n"
     ]
    },
    {
     "name": "stderr",
     "output_type": "stream",
     "text": [
      "/Users/alikhan/anaconda3/lib/python3.10/site-packages/statsmodels/base/model.py:604: ConvergenceWarning: Maximum Likelihood optimization failed to converge. Check mle_retvals\n",
      "  warnings.warn(\"Maximum Likelihood optimization failed to \"\n"
     ]
    },
    {
     "name": "stdout",
     "output_type": "stream",
     "text": [
      "Order (2, 1, 5): MAE = 4.565272502965542\n"
     ]
    },
    {
     "name": "stderr",
     "output_type": "stream",
     "text": [
      "/Users/alikhan/anaconda3/lib/python3.10/site-packages/statsmodels/base/model.py:604: ConvergenceWarning: Maximum Likelihood optimization failed to converge. Check mle_retvals\n",
      "  warnings.warn(\"Maximum Likelihood optimization failed to \"\n"
     ]
    },
    {
     "name": "stdout",
     "output_type": "stream",
     "text": [
      "Order (2, 1, 6): MAE = 4.555287569344779\n",
      "Best Order for Stock ID 167: (0, 0, 0)\n",
      "Best MAE for Stock ID 167: 4.535721875591713\n",
      "\n",
      "Training and evaluating for Stock ID: 168\n",
      "Training Set Date Range: 0 -- 477\n",
      "Testing Set Date Range: 478 -- 480\n",
      "Order (0, 0, 0): MAE = 3.8995432342245224\n",
      "Order (0, 0, 1): MAE = 3.900149940258143\n",
      "Order (0, 0, 2): MAE = 3.901801718482151\n",
      "Order (0, 0, 3): MAE = 3.901100844757729\n",
      "Order (0, 0, 4): MAE = 3.9012608278328105\n",
      "Order (0, 0, 5): MAE = 3.9035544387587042\n",
      "Order (0, 0, 6): MAE = 3.903248855566657\n",
      "Order (0, 1, 0): MAE = 4.346099787000001\n",
      "Order (0, 1, 1): MAE = 4.308520654732901\n",
      "Order (0, 1, 2): MAE = 4.312972021740564\n",
      "Order (0, 1, 3): MAE = 4.315755483564576\n",
      "Order (0, 1, 4): MAE = 4.066500776533366\n",
      "Order (0, 1, 5): MAE = 3.9018160480800437\n",
      "Order (0, 1, 6): MAE = 3.9073583184340643\n",
      "Order (1, 0, 0): MAE = 3.9042152233359886\n",
      "Order (1, 0, 1): MAE = 3.9045125742712505\n",
      "Order (1, 0, 2): MAE = 3.904305227976643\n",
      "Order (1, 0, 3): MAE = 3.902679450820061\n",
      "Order (1, 0, 4): MAE = 3.9025962044156137\n",
      "Order (1, 0, 5): MAE = 3.9033098486931324\n",
      "Order (1, 0, 6): MAE = 3.90342372575848\n",
      "Order (1, 1, 0): MAE = 4.3125817687176315\n",
      "Order (1, 1, 1): MAE = 3.9128503676047006\n",
      "Order (1, 1, 2): MAE = 3.9060899615627207\n",
      "Order (1, 1, 3): MAE = 3.9061345424737395\n",
      "Order (1, 1, 4): MAE = 4.137251767920786\n",
      "Order (1, 1, 5): MAE = 3.9053862938867336\n",
      "Order (1, 1, 6): MAE = 3.9086179093264057\n",
      "Order (2, 0, 0): MAE = 3.90451551500904\n",
      "Order (2, 0, 1): MAE = 3.90392611640415\n",
      "Order (2, 0, 2): MAE = 3.904584615584542\n",
      "Order (2, 0, 3): MAE = 3.9038250271826946\n",
      "Order (2, 0, 4): MAE = 3.9023743372883613\n",
      "Order (2, 0, 5): MAE = 3.9031230688603675\n"
     ]
    },
    {
     "name": "stderr",
     "output_type": "stream",
     "text": [
      "/Users/alikhan/anaconda3/lib/python3.10/site-packages/statsmodels/base/model.py:604: ConvergenceWarning: Maximum Likelihood optimization failed to converge. Check mle_retvals\n",
      "  warnings.warn(\"Maximum Likelihood optimization failed to \"\n"
     ]
    },
    {
     "name": "stdout",
     "output_type": "stream",
     "text": [
      "Order (2, 0, 6): MAE = 3.903035163397787\n",
      "Order (2, 1, 0): MAE = 4.307422682098812\n",
      "Order (2, 1, 1): MAE = 3.9077230634121363\n",
      "Order (2, 1, 2): MAE = 3.906345831686864\n",
      "Order (2, 1, 3): MAE = 3.905903569543832\n",
      "Order (2, 1, 4): MAE = 3.905744457335713\n",
      "Order (2, 1, 5): MAE = 3.9051623309302417\n",
      "Order (2, 1, 6): MAE = 3.9248984836775223\n",
      "Best Order for Stock ID 168: (0, 0, 0)\n",
      "Best MAE for Stock ID 168: 3.8995432342245224\n",
      "\n",
      "Training and evaluating for Stock ID: 169\n",
      "Training Set Date Range: 0 -- 477\n",
      "Testing Set Date Range: 478 -- 480\n",
      "Order (0, 0, 0): MAE = 3.856734707546825\n",
      "Order (0, 0, 1): MAE = 3.8614771661474516\n",
      "Order (0, 0, 2): MAE = 3.860550822601717\n",
      "Order (0, 0, 3): MAE = 3.8626958901312234\n",
      "Order (0, 0, 4): MAE = 3.8610475943501448\n",
      "Order (0, 0, 5): MAE = 3.8801526170348626\n",
      "Order (0, 0, 6): MAE = 3.8688502724473812\n",
      "Order (0, 1, 0): MAE = 6.154396356606061\n",
      "Order (0, 1, 1): MAE = 4.593210281200666\n",
      "Order (0, 1, 2): MAE = 4.275765501298671\n",
      "Order (0, 1, 3): MAE = 3.860482536193839\n",
      "Order (0, 1, 4): MAE = 3.8626580359369385\n",
      "Order (0, 1, 5): MAE = 3.8610593827866024\n",
      "Order (0, 1, 6): MAE = 3.8801793914801346\n",
      "Order (1, 0, 0): MAE = 3.86061216897566\n",
      "Order (1, 0, 1): MAE = 3.8589177635572067\n",
      "Order (1, 0, 2): MAE = 3.859540966300465\n",
      "Order (1, 0, 3): MAE = 3.8653775320447323\n",
      "Order (1, 0, 4): MAE = 3.8683200495213583\n",
      "Order (1, 0, 5): MAE = 3.871893157989026\n",
      "Order (1, 0, 6): MAE = 3.8690945696945347\n",
      "Order (1, 1, 0): MAE = 5.001198223312709\n",
      "Order (1, 1, 1): MAE = 3.8602736808260536\n",
      "Order (1, 1, 2): MAE = 4.501710438764967\n",
      "Order (1, 1, 3): MAE = 3.859458578001893\n",
      "Order (1, 1, 4): MAE = 3.863043796470974\n"
     ]
    },
    {
     "name": "stderr",
     "output_type": "stream",
     "text": [
      "/Users/alikhan/anaconda3/lib/python3.10/site-packages/statsmodels/base/model.py:604: ConvergenceWarning: Maximum Likelihood optimization failed to converge. Check mle_retvals\n",
      "  warnings.warn(\"Maximum Likelihood optimization failed to \"\n"
     ]
    },
    {
     "name": "stdout",
     "output_type": "stream",
     "text": [
      "Order (1, 1, 5): MAE = 3.862977359766224\n",
      "Order (1, 1, 6): MAE = 3.871909219653686\n",
      "Order (2, 0, 0): MAE = 3.8588610889062513\n",
      "Order (2, 0, 1): MAE = 3.8590839939278934\n",
      "Order (2, 0, 2): MAE = 3.8678475737066944\n",
      "Order (2, 0, 3): MAE = 3.8609494481003446\n",
      "Order (2, 0, 4): MAE = 3.865849033089574\n",
      "Order (2, 0, 5): MAE = 3.8694000635866113\n",
      "Order (2, 0, 6): MAE = 3.8697820704296775\n",
      "Order (2, 1, 0): MAE = 4.665993044921038\n",
      "Order (2, 1, 1): MAE = 3.858859922119001\n",
      "Order (2, 1, 2): MAE = 3.862027121908353\n"
     ]
    },
    {
     "name": "stderr",
     "output_type": "stream",
     "text": [
      "/Users/alikhan/anaconda3/lib/python3.10/site-packages/statsmodels/base/model.py:604: ConvergenceWarning: Maximum Likelihood optimization failed to converge. Check mle_retvals\n",
      "  warnings.warn(\"Maximum Likelihood optimization failed to \"\n"
     ]
    },
    {
     "name": "stdout",
     "output_type": "stream",
     "text": [
      "Order (2, 1, 3): MAE = 3.859319909794909\n"
     ]
    },
    {
     "name": "stderr",
     "output_type": "stream",
     "text": [
      "/Users/alikhan/anaconda3/lib/python3.10/site-packages/statsmodels/base/model.py:604: ConvergenceWarning: Maximum Likelihood optimization failed to converge. Check mle_retvals\n",
      "  warnings.warn(\"Maximum Likelihood optimization failed to \"\n"
     ]
    },
    {
     "name": "stdout",
     "output_type": "stream",
     "text": [
      "Order (2, 1, 4): MAE = 3.860040904262292\n"
     ]
    },
    {
     "name": "stderr",
     "output_type": "stream",
     "text": [
      "/Users/alikhan/anaconda3/lib/python3.10/site-packages/statsmodels/base/model.py:604: ConvergenceWarning: Maximum Likelihood optimization failed to converge. Check mle_retvals\n",
      "  warnings.warn(\"Maximum Likelihood optimization failed to \"\n"
     ]
    },
    {
     "name": "stdout",
     "output_type": "stream",
     "text": [
      "Order (2, 1, 5): MAE = 3.8624734381916404\n"
     ]
    },
    {
     "name": "stderr",
     "output_type": "stream",
     "text": [
      "/Users/alikhan/anaconda3/lib/python3.10/site-packages/statsmodels/base/model.py:604: ConvergenceWarning: Maximum Likelihood optimization failed to converge. Check mle_retvals\n",
      "  warnings.warn(\"Maximum Likelihood optimization failed to \"\n"
     ]
    },
    {
     "name": "stdout",
     "output_type": "stream",
     "text": [
      "Order (2, 1, 6): MAE = 3.8694172888205807\n",
      "Best Order for Stock ID 169: (0, 0, 0)\n",
      "Best MAE for Stock ID 169: 3.856734707546825\n",
      "\n",
      "Training and evaluating for Stock ID: 170\n",
      "Training Set Date Range: 0 -- 477\n",
      "Testing Set Date Range: 478 -- 480\n",
      "Order (0, 0, 0): MAE = 4.010470523071503\n",
      "Order (0, 0, 1): MAE = 4.026782369507863\n",
      "Order (0, 0, 2): MAE = 4.046975252771884\n",
      "Order (0, 0, 3): MAE = 4.058061857315398\n",
      "Order (0, 0, 4): MAE = 4.0623838607274045\n",
      "Order (0, 0, 5): MAE = 4.105839491765363\n",
      "Order (0, 0, 6): MAE = 4.101248057574058\n",
      "Order (0, 1, 0): MAE = 11.537367899236363\n",
      "Order (0, 1, 1): MAE = 10.865793506366742\n",
      "Order (0, 1, 2): MAE = 10.157551440074164\n",
      "Order (0, 1, 3): MAE = 6.851474055461275\n",
      "Order (0, 1, 4): MAE = 4.071810661591606\n",
      "Order (0, 1, 5): MAE = 4.082353746586575\n",
      "Order (0, 1, 6): MAE = 4.105853589092823\n",
      "Order (1, 0, 0): MAE = 4.100354063681838\n",
      "Order (1, 0, 1): MAE = 4.097512843709479\n",
      "Order (1, 0, 2): MAE = 4.097385687118221\n",
      "Order (1, 0, 3): MAE = 4.101240867237393\n",
      "Order (1, 0, 4): MAE = 4.109508734754708\n",
      "Order (1, 0, 5): MAE = 4.101815876101543\n",
      "Order (1, 0, 6): MAE = 4.097792776787494\n",
      "Order (1, 1, 0): MAE = 11.009675772170647\n",
      "Order (1, 1, 1): MAE = 4.100999370269952\n",
      "Order (1, 1, 2): MAE = 4.0976299280086845\n",
      "Order (1, 1, 3): MAE = 4.0974522998181815\n"
     ]
    },
    {
     "name": "stderr",
     "output_type": "stream",
     "text": [
      "/Users/alikhan/anaconda3/lib/python3.10/site-packages/statsmodels/base/model.py:604: ConvergenceWarning: Maximum Likelihood optimization failed to converge. Check mle_retvals\n",
      "  warnings.warn(\"Maximum Likelihood optimization failed to \"\n"
     ]
    },
    {
     "name": "stdout",
     "output_type": "stream",
     "text": [
      "Order (1, 1, 4): MAE = 4.1012749171930905\n",
      "Order (1, 1, 5): MAE = 4.109534419633663\n",
      "Order (1, 1, 6): MAE = 4.101817690615437\n",
      "Order (2, 0, 0): MAE = 4.097145780965194\n",
      "Order (2, 0, 1): MAE = 4.097405343235178\n",
      "Order (2, 0, 2): MAE = 4.095773682694151\n",
      "Order (2, 0, 3): MAE = 4.093607332697594\n",
      "Order (2, 0, 4): MAE = 4.095482585061757\n",
      "Order (2, 0, 5): MAE = 4.098860630708184\n",
      "Order (2, 0, 6): MAE = 4.097473627289409\n",
      "Order (2, 1, 0): MAE = 10.450442066612434\n",
      "Order (2, 1, 1): MAE = 4.097240651678397\n",
      "Order (2, 1, 2): MAE = 4.097392744648597\n",
      "Order (2, 1, 3): MAE = 4.098347341066486\n",
      "Order (2, 1, 4): MAE = 4.099018759506894\n",
      "Order (2, 1, 5): MAE = 4.11122849720492\n"
     ]
    },
    {
     "name": "stderr",
     "output_type": "stream",
     "text": [
      "/Users/alikhan/anaconda3/lib/python3.10/site-packages/statsmodels/base/model.py:604: ConvergenceWarning: Maximum Likelihood optimization failed to converge. Check mle_retvals\n",
      "  warnings.warn(\"Maximum Likelihood optimization failed to \"\n"
     ]
    },
    {
     "name": "stdout",
     "output_type": "stream",
     "text": [
      "Order (2, 1, 6): MAE = 4.098897571405959\n",
      "Best Order for Stock ID 170: (0, 0, 0)\n",
      "Best MAE for Stock ID 170: 4.010470523071503\n",
      "\n",
      "Training and evaluating for Stock ID: 171\n",
      "Training Set Date Range: 0 -- 477\n",
      "Testing Set Date Range: 478 -- 480\n",
      "Order (0, 0, 0): MAE = 3.379639798271175\n",
      "Order (0, 0, 1): MAE = 3.380390700409602\n",
      "Order (0, 0, 2): MAE = 3.379686914074809\n",
      "Order (0, 0, 3): MAE = 3.3804502821379496\n",
      "Order (0, 0, 4): MAE = 3.3823374373303863\n",
      "Order (0, 0, 5): MAE = 3.38487606973776\n",
      "Order (0, 0, 6): MAE = 3.3840205770916123\n",
      "Order (0, 1, 0): MAE = 3.839059269757576\n",
      "Order (0, 1, 1): MAE = 3.7973316716618366\n",
      "Order (0, 1, 2): MAE = 3.712744097381165\n",
      "Order (0, 1, 3): MAE = 3.369566842184132\n",
      "Order (0, 1, 4): MAE = 3.3777213952322254\n",
      "Order (0, 1, 5): MAE = 3.385272800230979\n",
      "Order (0, 1, 6): MAE = 3.404122884238561\n",
      "Order (1, 0, 0): MAE = 3.3810452990439335\n",
      "Order (1, 0, 1): MAE = 3.3811431366358553\n",
      "Order (1, 0, 2): MAE = 3.381163430229145\n",
      "Order (1, 0, 3): MAE = 3.3869797229556973\n",
      "Order (1, 0, 4): MAE = 3.385993679222228\n",
      "Order (1, 0, 5): MAE = 3.384188889176986\n",
      "Order (1, 0, 6): MAE = 3.3838288417483118\n",
      "Order (1, 1, 0): MAE = 3.8260209911642526\n",
      "Order (1, 1, 1): MAE = 3.4001797703200993\n",
      "Order (1, 1, 2): MAE = 3.399583947900526\n",
      "Order (1, 1, 3): MAE = 3.400000321781927\n",
      "Order (1, 1, 4): MAE = 3.3761515931202974\n",
      "Order (1, 1, 5): MAE = 3.4047843441035712\n",
      "Order (1, 1, 6): MAE = 3.404036326627603\n",
      "Order (2, 0, 0): MAE = 3.3811605942450025\n",
      "Order (2, 0, 1): MAE = 3.381093033946142\n",
      "Order (2, 0, 2): MAE = 3.3867890689213973\n",
      "Order (2, 0, 3): MAE = 3.388488735049397\n",
      "Order (2, 0, 4): MAE = 3.3828402560615634\n",
      "Order (2, 0, 5): MAE = 3.3841000162615393\n",
      "Order (2, 0, 6): MAE = 3.3838347701876086\n",
      "Order (2, 1, 0): MAE = 3.812376203863643\n",
      "Order (2, 1, 1): MAE = 3.399551144621719\n",
      "Order (2, 1, 2): MAE = 3.399992301045988\n",
      "Order (2, 1, 3): MAE = 3.3994118639996382\n",
      "Order (2, 1, 4): MAE = 3.400376165331003\n"
     ]
    },
    {
     "name": "stderr",
     "output_type": "stream",
     "text": [
      "/Users/alikhan/anaconda3/lib/python3.10/site-packages/statsmodels/base/model.py:604: ConvergenceWarning: Maximum Likelihood optimization failed to converge. Check mle_retvals\n",
      "  warnings.warn(\"Maximum Likelihood optimization failed to \"\n"
     ]
    },
    {
     "name": "stdout",
     "output_type": "stream",
     "text": [
      "Order (2, 1, 5): MAE = 3.401162288281979\n",
      "Order (2, 1, 6): MAE = 3.403993005586576\n",
      "Best Order for Stock ID 171: (0, 1, 3)\n",
      "Best MAE for Stock ID 171: 3.369566842184132\n",
      "\n",
      "Training and evaluating for Stock ID: 172\n",
      "Training Set Date Range: 0 -- 477\n",
      "Testing Set Date Range: 478 -- 480\n",
      "Order (0, 0, 0): MAE = 6.741786162437588\n",
      "Order (0, 0, 1): MAE = 6.748544294368081\n",
      "Order (0, 0, 2): MAE = 6.751245466506303\n",
      "Order (0, 0, 3): MAE = 6.751694084992717\n",
      "Order (0, 0, 4): MAE = 6.750676155304611\n",
      "Order (0, 0, 5): MAE = 6.746869539610551\n",
      "Order (0, 0, 6): MAE = 6.747244229848408\n",
      "Order (0, 1, 0): MAE = 7.76974003540606\n",
      "Order (0, 1, 1): MAE = 7.410491047841536\n",
      "Order (0, 1, 2): MAE = 7.355725647310398\n",
      "Order (0, 1, 3): MAE = 6.74666938367992\n",
      "Order (0, 1, 4): MAE = 6.768177846654848\n",
      "Order (0, 1, 5): MAE = 6.757163000091376\n",
      "Order (0, 1, 6): MAE = 6.74684122252977\n",
      "Order (1, 0, 0): MAE = 6.752115592819321\n",
      "Order (1, 0, 1): MAE = 6.752807579212808\n",
      "Order (1, 0, 2): MAE = 6.752475948852256\n",
      "Order (1, 0, 3): MAE = 6.75134074156888\n",
      "Order (1, 0, 4): MAE = 6.748950273136614\n",
      "Order (1, 0, 5): MAE = 6.74723017871131\n",
      "Order (1, 0, 6): MAE = 6.747191761591464\n",
      "Order (1, 1, 0): MAE = 7.445475619493624\n",
      "Order (1, 1, 1): MAE = 6.7503659953859785\n",
      "Order (1, 1, 2): MAE = 6.7527139448536415\n",
      "Order (1, 1, 3): MAE = 6.752405489938409\n",
      "Order (1, 1, 4): MAE = 6.792347652295725\n"
     ]
    },
    {
     "name": "stderr",
     "output_type": "stream",
     "text": [
      "/Users/alikhan/anaconda3/lib/python3.10/site-packages/statsmodels/base/model.py:604: ConvergenceWarning: Maximum Likelihood optimization failed to converge. Check mle_retvals\n",
      "  warnings.warn(\"Maximum Likelihood optimization failed to \"\n"
     ]
    },
    {
     "name": "stdout",
     "output_type": "stream",
     "text": [
      "Order (1, 1, 5): MAE = 6.7489097643059734\n"
     ]
    },
    {
     "name": "stderr",
     "output_type": "stream",
     "text": [
      "/Users/alikhan/anaconda3/lib/python3.10/site-packages/statsmodels/base/model.py:604: ConvergenceWarning: Maximum Likelihood optimization failed to converge. Check mle_retvals\n",
      "  warnings.warn(\"Maximum Likelihood optimization failed to \"\n"
     ]
    },
    {
     "name": "stdout",
     "output_type": "stream",
     "text": [
      "Order (1, 1, 6): MAE = 6.7471961031504595\n",
      "Order (2, 0, 0): MAE = 6.752946225249774\n",
      "Order (2, 0, 1): MAE = 6.75113335673801\n",
      "Order (2, 0, 2): MAE = 6.75407493536613\n",
      "Order (2, 0, 3): MAE = 6.746747148098096\n",
      "Order (2, 0, 4): MAE = 6.747240508982105\n",
      "Order (2, 0, 5): MAE = 6.74709119313657\n",
      "Order (2, 0, 6): MAE = 6.7473346311116265\n",
      "Order (2, 1, 0): MAE = 7.397492326168242\n",
      "Order (2, 1, 1): MAE = 6.75287716571942\n",
      "Order (2, 1, 2): MAE = 6.751471236893974\n"
     ]
    },
    {
     "name": "stderr",
     "output_type": "stream",
     "text": [
      "/Users/alikhan/anaconda3/lib/python3.10/site-packages/statsmodels/base/model.py:604: ConvergenceWarning: Maximum Likelihood optimization failed to converge. Check mle_retvals\n",
      "  warnings.warn(\"Maximum Likelihood optimization failed to \"\n"
     ]
    },
    {
     "name": "stdout",
     "output_type": "stream",
     "text": [
      "Order (2, 1, 3): MAE = 6.750986937066653\n"
     ]
    },
    {
     "name": "stderr",
     "output_type": "stream",
     "text": [
      "/Users/alikhan/anaconda3/lib/python3.10/site-packages/statsmodels/base/model.py:604: ConvergenceWarning: Maximum Likelihood optimization failed to converge. Check mle_retvals\n",
      "  warnings.warn(\"Maximum Likelihood optimization failed to \"\n"
     ]
    },
    {
     "name": "stdout",
     "output_type": "stream",
     "text": [
      "Order (2, 1, 4): MAE = 6.750302893282748\n"
     ]
    },
    {
     "name": "stderr",
     "output_type": "stream",
     "text": [
      "/Users/alikhan/anaconda3/lib/python3.10/site-packages/statsmodels/base/model.py:604: ConvergenceWarning: Maximum Likelihood optimization failed to converge. Check mle_retvals\n",
      "  warnings.warn(\"Maximum Likelihood optimization failed to \"\n"
     ]
    },
    {
     "name": "stdout",
     "output_type": "stream",
     "text": [
      "Order (2, 1, 5): MAE = 6.7477163447653234\n"
     ]
    },
    {
     "name": "stderr",
     "output_type": "stream",
     "text": [
      "/Users/alikhan/anaconda3/lib/python3.10/site-packages/statsmodels/base/model.py:604: ConvergenceWarning: Maximum Likelihood optimization failed to converge. Check mle_retvals\n",
      "  warnings.warn(\"Maximum Likelihood optimization failed to \"\n"
     ]
    },
    {
     "name": "stdout",
     "output_type": "stream",
     "text": [
      "Order (2, 1, 6): MAE = 6.747057323200183\n",
      "Best Order for Stock ID 172: (0, 0, 0)\n",
      "Best MAE for Stock ID 172: 6.741786162437588\n",
      "\n",
      "Training and evaluating for Stock ID: 173\n",
      "Training Set Date Range: 0 -- 477\n",
      "Testing Set Date Range: 478 -- 480\n",
      "Order (0, 0, 0): MAE = 6.544184415349163\n",
      "Order (0, 0, 1): MAE = 6.543568812241815\n",
      "Order (0, 0, 2): MAE = 6.54320370738801\n",
      "Order (0, 0, 3): MAE = 6.542211433267386\n",
      "Order (0, 0, 4): MAE = 6.543423601121105\n",
      "Order (0, 0, 5): MAE = 6.544477006299469\n",
      "Order (0, 0, 6): MAE = 6.546568152984585\n",
      "Order (0, 1, 0): MAE = 6.437030699296971\n",
      "Order (0, 1, 1): MAE = 6.455767489388783\n",
      "Order (0, 1, 2): MAE = 6.460929784721052\n",
      "Order (0, 1, 3): MAE = 6.902377363761189\n",
      "Order (0, 1, 4): MAE = 6.848298864008049\n",
      "Order (0, 1, 5): MAE = 6.769870266606413\n",
      "Order (0, 1, 6): MAE = 6.544453077552803\n",
      "Order (1, 0, 0): MAE = 6.540550241701093\n",
      "Order (1, 0, 1): MAE = 6.540588835067071\n",
      "Order (1, 0, 2): MAE = 6.5406105671206705\n",
      "Order (1, 0, 3): MAE = 6.542878978219572\n",
      "Order (1, 0, 4): MAE = 6.542330198241904\n",
      "Order (1, 0, 5): MAE = 6.54633917272288\n",
      "Order (1, 0, 6): MAE = 6.546100229602164\n",
      "Order (1, 1, 0): MAE = 6.448874466893591\n",
      "Order (1, 1, 1): MAE = 6.540230151137944\n",
      "Order (1, 1, 2): MAE = 6.540380424667788\n",
      "Order (1, 1, 3): MAE = 6.540543547985847\n",
      "Order (1, 1, 4): MAE = 6.8692593711958345\n"
     ]
    },
    {
     "name": "stderr",
     "output_type": "stream",
     "text": [
      "/Users/alikhan/anaconda3/lib/python3.10/site-packages/statsmodels/base/model.py:604: ConvergenceWarning: Maximum Likelihood optimization failed to converge. Check mle_retvals\n",
      "  warnings.warn(\"Maximum Likelihood optimization failed to \"\n"
     ]
    },
    {
     "name": "stdout",
     "output_type": "stream",
     "text": [
      "Order (1, 1, 5): MAE = 6.542235753071569\n"
     ]
    },
    {
     "name": "stderr",
     "output_type": "stream",
     "text": [
      "/Users/alikhan/anaconda3/lib/python3.10/site-packages/statsmodels/base/model.py:604: ConvergenceWarning: Maximum Likelihood optimization failed to converge. Check mle_retvals\n",
      "  warnings.warn(\"Maximum Likelihood optimization failed to \"\n"
     ]
    },
    {
     "name": "stdout",
     "output_type": "stream",
     "text": [
      "Order (1, 1, 6): MAE = 6.546301334329935\n",
      "Order (2, 0, 0): MAE = 6.540597129151157\n",
      "Order (2, 0, 1): MAE = 6.540595965068831\n",
      "Order (2, 0, 2): MAE = 6.541232069949166\n",
      "Order (2, 0, 3): MAE = 6.542841698991643\n",
      "Order (2, 0, 4): MAE = 6.543250399775088\n",
      "Order (2, 0, 5): MAE = 6.546441867548872\n",
      "Order (2, 0, 6): MAE = 6.545936634155693\n",
      "Order (2, 1, 0): MAE = 6.457006505294102\n",
      "Order (2, 1, 1): MAE = 6.540111587112092\n",
      "Order (2, 1, 2): MAE = 6.540762742376884\n"
     ]
    },
    {
     "name": "stderr",
     "output_type": "stream",
     "text": [
      "/Users/alikhan/anaconda3/lib/python3.10/site-packages/statsmodels/base/model.py:604: ConvergenceWarning: Maximum Likelihood optimization failed to converge. Check mle_retvals\n",
      "  warnings.warn(\"Maximum Likelihood optimization failed to \"\n"
     ]
    },
    {
     "name": "stdout",
     "output_type": "stream",
     "text": [
      "Order (2, 1, 3): MAE = 6.5410057448447105\n"
     ]
    },
    {
     "name": "stderr",
     "output_type": "stream",
     "text": [
      "/Users/alikhan/anaconda3/lib/python3.10/site-packages/statsmodels/base/model.py:604: ConvergenceWarning: Maximum Likelihood optimization failed to converge. Check mle_retvals\n",
      "  warnings.warn(\"Maximum Likelihood optimization failed to \"\n"
     ]
    },
    {
     "name": "stdout",
     "output_type": "stream",
     "text": [
      "Order (2, 1, 4): MAE = 6.54114410351763\n"
     ]
    },
    {
     "name": "stderr",
     "output_type": "stream",
     "text": [
      "/Users/alikhan/anaconda3/lib/python3.10/site-packages/statsmodels/base/model.py:604: ConvergenceWarning: Maximum Likelihood optimization failed to converge. Check mle_retvals\n",
      "  warnings.warn(\"Maximum Likelihood optimization failed to \"\n"
     ]
    },
    {
     "name": "stdout",
     "output_type": "stream",
     "text": [
      "Order (2, 1, 5): MAE = 6.541477999702764\n"
     ]
    },
    {
     "name": "stderr",
     "output_type": "stream",
     "text": [
      "/Users/alikhan/anaconda3/lib/python3.10/site-packages/statsmodels/base/model.py:604: ConvergenceWarning: Maximum Likelihood optimization failed to converge. Check mle_retvals\n",
      "  warnings.warn(\"Maximum Likelihood optimization failed to \"\n"
     ]
    },
    {
     "name": "stdout",
     "output_type": "stream",
     "text": [
      "Order (2, 1, 6): MAE = 6.546384280418993\n",
      "Best Order for Stock ID 173: (0, 1, 0)\n",
      "Best MAE for Stock ID 173: 6.437030699296971\n",
      "\n",
      "Training and evaluating for Stock ID: 174\n",
      "Training Set Date Range: 0 -- 477\n",
      "Testing Set Date Range: 478 -- 480\n",
      "Order (0, 0, 0): MAE = 8.64439028686777\n",
      "Order (0, 0, 1): MAE = 8.643875003047977\n",
      "Order (0, 0, 2): MAE = 8.64462488015498\n",
      "Order (0, 0, 3): MAE = 8.64298843449492\n",
      "Order (0, 0, 4): MAE = 8.642630929645504\n",
      "Order (0, 0, 5): MAE = 8.651928950467601\n",
      "Order (0, 0, 6): MAE = 8.651560514690788\n",
      "Order (0, 1, 0): MAE = 8.830904973721212\n",
      "Order (0, 1, 1): MAE = 8.994724109006949\n",
      "Order (0, 1, 2): MAE = 9.076426243426551\n",
      "Order (0, 1, 3): MAE = 9.328228485750364\n",
      "Order (0, 1, 4): MAE = 8.754442540566389\n",
      "Order (0, 1, 5): MAE = 8.70001167473858\n",
      "Order (0, 1, 6): MAE = 8.651530673335015\n",
      "Order (1, 0, 0): MAE = 8.648063290389535\n",
      "Order (1, 0, 1): MAE = 8.646873335703443\n",
      "Order (1, 0, 2): MAE = 8.64517716092266\n",
      "Order (1, 0, 3): MAE = 8.643191212762442\n",
      "Order (1, 0, 4): MAE = 8.644779465772322\n",
      "Order (1, 0, 5): MAE = 8.651584175984567\n",
      "Order (1, 0, 6): MAE = 8.652320047565807\n",
      "Order (1, 1, 0): MAE = 8.968257231153354\n",
      "Order (1, 1, 1): MAE = 8.664459451828616\n",
      "Order (1, 1, 2): MAE = 8.64781800461917\n",
      "Order (1, 1, 3): MAE = 8.644998834221708\n",
      "Order (1, 1, 4): MAE = 8.642983556595121\n",
      "Order (1, 1, 5): MAE = 8.644345292266676\n"
     ]
    },
    {
     "name": "stderr",
     "output_type": "stream",
     "text": [
      "/Users/alikhan/anaconda3/lib/python3.10/site-packages/statsmodels/base/model.py:604: ConvergenceWarning: Maximum Likelihood optimization failed to converge. Check mle_retvals\n",
      "  warnings.warn(\"Maximum Likelihood optimization failed to \"\n"
     ]
    },
    {
     "name": "stdout",
     "output_type": "stream",
     "text": [
      "Order (1, 1, 6): MAE = 8.6512096856054\n",
      "Order (2, 0, 0): MAE = 8.646646674802009\n",
      "Order (2, 0, 1): MAE = 8.647705145961254\n",
      "Order (2, 0, 2): MAE = 8.6413888961283\n",
      "Order (2, 0, 3): MAE = 8.65278841312814\n",
      "Order (2, 0, 4): MAE = 8.653259593331907\n",
      "Order (2, 0, 5): MAE = 8.651448184138552\n",
      "Order (2, 0, 6): MAE = 8.65190470733753\n",
      "Order (2, 1, 0): MAE = 9.044731651255882\n",
      "Order (2, 1, 1): MAE = 8.65019648722067\n",
      "Order (2, 1, 2): MAE = 8.648507360008592\n",
      "Order (2, 1, 3): MAE = 8.648633839565226\n"
     ]
    },
    {
     "name": "stderr",
     "output_type": "stream",
     "text": [
      "/Users/alikhan/anaconda3/lib/python3.10/site-packages/statsmodels/base/model.py:604: ConvergenceWarning: Maximum Likelihood optimization failed to converge. Check mle_retvals\n",
      "  warnings.warn(\"Maximum Likelihood optimization failed to \"\n"
     ]
    },
    {
     "name": "stdout",
     "output_type": "stream",
     "text": [
      "Order (2, 1, 4): MAE = 8.645681983600719\n"
     ]
    },
    {
     "name": "stderr",
     "output_type": "stream",
     "text": [
      "/Users/alikhan/anaconda3/lib/python3.10/site-packages/statsmodels/base/model.py:604: ConvergenceWarning: Maximum Likelihood optimization failed to converge. Check mle_retvals\n",
      "  warnings.warn(\"Maximum Likelihood optimization failed to \"\n"
     ]
    },
    {
     "name": "stdout",
     "output_type": "stream",
     "text": [
      "Order (2, 1, 5): MAE = 8.645003363174188\n"
     ]
    },
    {
     "name": "stderr",
     "output_type": "stream",
     "text": [
      "/Users/alikhan/anaconda3/lib/python3.10/site-packages/statsmodels/base/model.py:604: ConvergenceWarning: Maximum Likelihood optimization failed to converge. Check mle_retvals\n",
      "  warnings.warn(\"Maximum Likelihood optimization failed to \"\n"
     ]
    },
    {
     "name": "stdout",
     "output_type": "stream",
     "text": [
      "Order (2, 1, 6): MAE = 8.652956661329013\n",
      "Best Order for Stock ID 174: (2, 0, 2)\n",
      "Best MAE for Stock ID 174: 8.6413888961283\n",
      "\n",
      "Training and evaluating for Stock ID: 175\n",
      "Training Set Date Range: 0 -- 477\n",
      "Testing Set Date Range: 478 -- 480\n",
      "Order (0, 0, 0): MAE = 2.522122604957555\n",
      "Order (0, 0, 1): MAE = 2.5322641631350398\n",
      "Order (0, 0, 2): MAE = 2.5404068053144058\n",
      "Order (0, 0, 3): MAE = 2.5437570161944607\n",
      "Order (0, 0, 4): MAE = 2.5419209103817875\n",
      "Order (0, 0, 5): MAE = 2.5742323798260824\n",
      "Order (0, 0, 6): MAE = 2.566050935272686\n",
      "Order (0, 1, 0): MAE = 6.364941599254546\n",
      "Order (0, 1, 1): MAE = 5.4727492529546815\n",
      "Order (0, 1, 2): MAE = 5.235136425192854\n",
      "Order (0, 1, 3): MAE = 3.7038924634827355\n",
      "Order (0, 1, 4): MAE = 2.543585662288094\n",
      "Order (0, 1, 5): MAE = 2.5414498892796966\n",
      "Order (0, 1, 6): MAE = 2.5742866433047316\n",
      "Order (1, 0, 0): MAE = 2.5593707838195114\n",
      "Order (1, 0, 1): MAE = 2.5617843965202636\n",
      "Order (1, 0, 2): MAE = 2.560964716567788\n",
      "Order (1, 0, 3): MAE = 2.5632775559414727\n",
      "Order (1, 0, 4): MAE = 2.559497077371107\n",
      "Order (1, 0, 5): MAE = 2.5676606468677416\n",
      "Order (1, 0, 6): MAE = 2.5651982098830164\n",
      "Order (1, 1, 0): MAE = 5.709625763656854\n",
      "Order (1, 1, 1): MAE = 2.5591626327256143\n",
      "Order (1, 1, 2): MAE = 2.5618145987724956\n",
      "Order (1, 1, 3): MAE = 2.5610035753658975\n",
      "Order (1, 1, 4): MAE = 2.5492260174285435\n",
      "Order (1, 1, 5): MAE = 2.559547584485346\n"
     ]
    },
    {
     "name": "stderr",
     "output_type": "stream",
     "text": [
      "/Users/alikhan/anaconda3/lib/python3.10/site-packages/statsmodels/base/model.py:604: ConvergenceWarning: Maximum Likelihood optimization failed to converge. Check mle_retvals\n",
      "  warnings.warn(\"Maximum Likelihood optimization failed to \"\n"
     ]
    },
    {
     "name": "stdout",
     "output_type": "stream",
     "text": [
      "Order (1, 1, 6): MAE = 2.567703484103658\n",
      "Order (2, 0, 0): MAE = 2.5619461769919405\n",
      "Order (2, 0, 1): MAE = 2.5616625253877996\n",
      "Order (2, 0, 2): MAE = 2.5601300069690764\n",
      "Order (2, 0, 3): MAE = 2.56569361774964\n",
      "Order (2, 0, 4): MAE = 2.5509659536707447\n",
      "Order (2, 0, 5): MAE = 2.5658978690834546\n",
      "Order (2, 0, 6): MAE = 2.565898712162265\n",
      "Order (2, 1, 0): MAE = 5.469250153659426\n",
      "Order (2, 1, 1): MAE = 2.5620176152350655\n",
      "Order (2, 1, 2): MAE = 2.558887913950423\n"
     ]
    },
    {
     "name": "stderr",
     "output_type": "stream",
     "text": [
      "/Users/alikhan/anaconda3/lib/python3.10/site-packages/statsmodels/base/model.py:604: ConvergenceWarning: Maximum Likelihood optimization failed to converge. Check mle_retvals\n",
      "  warnings.warn(\"Maximum Likelihood optimization failed to \"\n"
     ]
    },
    {
     "name": "stdout",
     "output_type": "stream",
     "text": [
      "Order (2, 1, 3): MAE = 2.566378576073238\n"
     ]
    },
    {
     "name": "stderr",
     "output_type": "stream",
     "text": [
      "/Users/alikhan/anaconda3/lib/python3.10/site-packages/statsmodels/base/model.py:604: ConvergenceWarning: Maximum Likelihood optimization failed to converge. Check mle_retvals\n",
      "  warnings.warn(\"Maximum Likelihood optimization failed to \"\n"
     ]
    },
    {
     "name": "stdout",
     "output_type": "stream",
     "text": [
      "Order (2, 1, 4): MAE = 2.565693704075916\n"
     ]
    },
    {
     "name": "stderr",
     "output_type": "stream",
     "text": [
      "/Users/alikhan/anaconda3/lib/python3.10/site-packages/statsmodels/base/model.py:604: ConvergenceWarning: Maximum Likelihood optimization failed to converge. Check mle_retvals\n",
      "  warnings.warn(\"Maximum Likelihood optimization failed to \"\n"
     ]
    },
    {
     "name": "stdout",
     "output_type": "stream",
     "text": [
      "Order (2, 1, 5): MAE = 2.5662757720767524\n"
     ]
    },
    {
     "name": "stderr",
     "output_type": "stream",
     "text": [
      "/Users/alikhan/anaconda3/lib/python3.10/site-packages/statsmodels/base/model.py:604: ConvergenceWarning: Maximum Likelihood optimization failed to converge. Check mle_retvals\n",
      "  warnings.warn(\"Maximum Likelihood optimization failed to \"\n"
     ]
    },
    {
     "name": "stdout",
     "output_type": "stream",
     "text": [
      "Order (2, 1, 6): MAE = 2.565936324587981\n",
      "Best Order for Stock ID 175: (0, 0, 0)\n",
      "Best MAE for Stock ID 175: 2.522122604957555\n",
      "\n",
      "Training and evaluating for Stock ID: 176\n",
      "Training Set Date Range: 0 -- 477\n",
      "Testing Set Date Range: 478 -- 480\n",
      "Order (0, 0, 0): MAE = 4.601659950076591\n",
      "Order (0, 0, 1): MAE = 4.601614309231486\n",
      "Order (0, 0, 2): MAE = 4.602627478636744\n",
      "Order (0, 0, 3): MAE = 4.6033702233524165\n",
      "Order (0, 0, 4): MAE = 4.611855623010702\n",
      "Order (0, 0, 5): MAE = 4.602006939305229\n",
      "Order (0, 0, 6): MAE = 4.602466255913245\n",
      "Order (0, 1, 0): MAE = 6.147460499212123\n",
      "Order (0, 1, 1): MAE = 6.586786573195807\n",
      "Order (0, 1, 2): MAE = 6.767279076089783\n",
      "Order (0, 1, 3): MAE = 4.636562554855387\n",
      "Order (0, 1, 4): MAE = 4.627765333913564\n",
      "Order (0, 1, 5): MAE = 4.611943011394566\n"
     ]
    },
    {
     "name": "stderr",
     "output_type": "stream",
     "text": [
      "/Users/alikhan/anaconda3/lib/python3.10/site-packages/statsmodels/base/model.py:604: ConvergenceWarning: Maximum Likelihood optimization failed to converge. Check mle_retvals\n",
      "  warnings.warn(\"Maximum Likelihood optimization failed to \"\n"
     ]
    },
    {
     "name": "stdout",
     "output_type": "stream",
     "text": [
      "Order (0, 1, 6): MAE = 4.6021052187110145\n",
      "Order (1, 0, 0): MAE = 4.617984604099713\n",
      "Order (1, 0, 1): MAE = 4.616767933427552\n",
      "Order (1, 0, 2): MAE = 4.614202939630062\n",
      "Order (1, 0, 3): MAE = 4.614674232322835\n",
      "Order (1, 0, 4): MAE = 4.610230815215183\n",
      "Order (1, 0, 5): MAE = 4.602492668365274\n",
      "Order (1, 0, 6): MAE = 4.600913714615754\n",
      "Order (1, 1, 0): MAE = 6.500772572982943\n",
      "Order (1, 1, 1): MAE = 4.617795454312345\n",
      "Order (1, 1, 2): MAE = 4.616940282543481\n",
      "Order (1, 1, 3): MAE = 4.614362858879454\n",
      "Order (1, 1, 4): MAE = 4.639641421213895\n"
     ]
    },
    {
     "name": "stderr",
     "output_type": "stream",
     "text": [
      "/Users/alikhan/anaconda3/lib/python3.10/site-packages/statsmodels/base/model.py:604: ConvergenceWarning: Maximum Likelihood optimization failed to converge. Check mle_retvals\n",
      "  warnings.warn(\"Maximum Likelihood optimization failed to \"\n"
     ]
    },
    {
     "name": "stdout",
     "output_type": "stream",
     "text": [
      "Order (1, 1, 5): MAE = 4.610364541907608\n"
     ]
    },
    {
     "name": "stderr",
     "output_type": "stream",
     "text": [
      "/Users/alikhan/anaconda3/lib/python3.10/site-packages/statsmodels/base/model.py:604: ConvergenceWarning: Maximum Likelihood optimization failed to converge. Check mle_retvals\n",
      "  warnings.warn(\"Maximum Likelihood optimization failed to \"\n"
     ]
    },
    {
     "name": "stdout",
     "output_type": "stream",
     "text": [
      "Order (1, 1, 6): MAE = 4.602585075442074\n",
      "Order (2, 0, 0): MAE = 4.616517385402756\n",
      "Order (2, 0, 1): MAE = 4.615600452793849\n",
      "Order (2, 0, 2): MAE = 4.605490262138535\n",
      "Order (2, 0, 3): MAE = 4.60420632894989\n",
      "Order (2, 0, 4): MAE = 4.604481859585002\n",
      "Order (2, 0, 5): MAE = 4.602151103890509\n",
      "Order (2, 0, 6): MAE = 4.600840757317354\n",
      "Order (2, 1, 0): MAE = 6.642866088390647\n",
      "Order (2, 1, 1): MAE = 4.616651918571917\n",
      "Order (2, 1, 2): MAE = 4.615563120834031\n"
     ]
    },
    {
     "name": "stderr",
     "output_type": "stream",
     "text": [
      "/Users/alikhan/anaconda3/lib/python3.10/site-packages/statsmodels/base/model.py:604: ConvergenceWarning: Maximum Likelihood optimization failed to converge. Check mle_retvals\n",
      "  warnings.warn(\"Maximum Likelihood optimization failed to \"\n"
     ]
    },
    {
     "name": "stdout",
     "output_type": "stream",
     "text": [
      "Order (2, 1, 3): MAE = 4.617940943773836\n",
      "Order (2, 1, 4): MAE = 4.628628537255752\n"
     ]
    },
    {
     "name": "stderr",
     "output_type": "stream",
     "text": [
      "/Users/alikhan/anaconda3/lib/python3.10/site-packages/statsmodels/base/model.py:604: ConvergenceWarning: Maximum Likelihood optimization failed to converge. Check mle_retvals\n",
      "  warnings.warn(\"Maximum Likelihood optimization failed to \"\n"
     ]
    },
    {
     "name": "stdout",
     "output_type": "stream",
     "text": [
      "Order (2, 1, 5): MAE = 4.604452125748758\n"
     ]
    },
    {
     "name": "stderr",
     "output_type": "stream",
     "text": [
      "/Users/alikhan/anaconda3/lib/python3.10/site-packages/statsmodels/base/model.py:604: ConvergenceWarning: Maximum Likelihood optimization failed to converge. Check mle_retvals\n",
      "  warnings.warn(\"Maximum Likelihood optimization failed to \"\n"
     ]
    },
    {
     "name": "stdout",
     "output_type": "stream",
     "text": [
      "Order (2, 1, 6): MAE = 4.602226890264878\n",
      "Best Order for Stock ID 176: (2, 0, 6)\n",
      "Best MAE for Stock ID 176: 4.600840757317354\n",
      "\n",
      "Training and evaluating for Stock ID: 177\n",
      "Training Set Date Range: 0 -- 477\n",
      "Testing Set Date Range: 478 -- 480\n",
      "Order (0, 0, 0): MAE = 6.717585111818722\n",
      "Order (0, 0, 1): MAE = 6.718492618403983\n",
      "Order (0, 0, 2): MAE = 6.717857443826932\n",
      "Order (0, 0, 3): MAE = 6.723276023490044\n",
      "Order (0, 0, 4): MAE = 6.736439809342588\n",
      "Order (0, 0, 5): MAE = 6.772541704139518\n",
      "Order (0, 0, 6): MAE = 6.765096757281976\n",
      "Order (0, 1, 0): MAE = 10.229551140060607\n",
      "Order (0, 1, 1): MAE = 10.176989617068825\n",
      "Order (0, 1, 2): MAE = 9.759805994191762\n",
      "Order (0, 1, 3): MAE = 6.815370153647341\n",
      "Order (0, 1, 4): MAE = 6.812005683095866\n",
      "Order (0, 1, 5): MAE = 6.811505849331086\n",
      "Order (0, 1, 6): MAE = 6.801950346486155\n",
      "Order (1, 0, 0): MAE = 6.724635520216073\n",
      "Order (1, 0, 1): MAE = 6.726474575641652\n",
      "Order (1, 0, 2): MAE = 6.728212018475153\n",
      "Order (1, 0, 3): MAE = 6.750872587404722\n",
      "Order (1, 0, 4): MAE = 6.760225396736092\n",
      "Order (1, 0, 5): MAE = 6.767928633593702\n",
      "Order (1, 0, 6): MAE = 6.762159796430149\n",
      "Order (1, 1, 0): MAE = 10.434759865620443\n",
      "Order (1, 1, 1): MAE = 6.7717894791919235\n",
      "Order (1, 1, 2): MAE = 6.7632266291837375\n",
      "Order (1, 1, 3): MAE = 6.7689896074447535\n",
      "Order (1, 1, 4): MAE = 6.813844731512106\n",
      "Order (1, 1, 5): MAE = 6.797164520969787\n",
      "Order (1, 1, 6): MAE = 6.809590737990726\n",
      "Order (2, 0, 0): MAE = 6.726958063569081\n",
      "Order (2, 0, 1): MAE = 6.726000402471746\n"
     ]
    },
    {
     "name": "stderr",
     "output_type": "stream",
     "text": [
      "/Users/alikhan/anaconda3/lib/python3.10/site-packages/statsmodels/base/model.py:604: ConvergenceWarning: Maximum Likelihood optimization failed to converge. Check mle_retvals\n",
      "  warnings.warn(\"Maximum Likelihood optimization failed to \"\n"
     ]
    },
    {
     "name": "stdout",
     "output_type": "stream",
     "text": [
      "Order (2, 0, 2): MAE = 6.7516726404045615\n",
      "Order (2, 0, 3): MAE = 6.7348275081574185\n",
      "Order (2, 0, 4): MAE = 6.7494533469542555\n",
      "Order (2, 0, 5): MAE = 6.765583537295088\n",
      "Order (2, 0, 6): MAE = 6.763953077000666\n",
      "Order (2, 1, 0): MAE = 10.304127647611569\n",
      "Order (2, 1, 1): MAE = 6.762855301048549\n",
      "Order (2, 1, 2): MAE = 6.77559639834639\n",
      "Order (2, 1, 3): MAE = 6.7645781986490805\n",
      "Order (2, 1, 4): MAE = 6.775566838450355\n"
     ]
    },
    {
     "name": "stderr",
     "output_type": "stream",
     "text": [
      "/Users/alikhan/anaconda3/lib/python3.10/site-packages/statsmodels/base/model.py:604: ConvergenceWarning: Maximum Likelihood optimization failed to converge. Check mle_retvals\n",
      "  warnings.warn(\"Maximum Likelihood optimization failed to \"\n"
     ]
    },
    {
     "name": "stdout",
     "output_type": "stream",
     "text": [
      "Order (2, 1, 5): MAE = 6.820266732817784\n",
      "Order (2, 1, 6): MAE = 6.81396593439492\n",
      "Best Order for Stock ID 177: (0, 0, 0)\n",
      "Best MAE for Stock ID 177: 6.717585111818722\n",
      "\n",
      "Training and evaluating for Stock ID: 178\n",
      "Training Set Date Range: 0 -- 477\n",
      "Testing Set Date Range: 478 -- 480\n",
      "Order (0, 0, 0): MAE = 4.249680267091211\n",
      "Order (0, 0, 1): MAE = 4.262747996359208\n",
      "Order (0, 0, 2): MAE = 4.270626624109807\n",
      "Order (0, 0, 3): MAE = 4.277460904018538\n",
      "Order (0, 0, 4): MAE = 4.312166806260772\n",
      "Order (0, 0, 5): MAE = 4.339008551119357\n",
      "Order (0, 0, 6): MAE = 4.334838496131601\n",
      "Order (0, 1, 0): MAE = 11.209145182424244\n",
      "Order (0, 1, 1): MAE = 11.074471397954577\n",
      "Order (0, 1, 2): MAE = 10.892399276603134\n",
      "Order (0, 1, 3): MAE = 8.291901759704258\n",
      "Order (0, 1, 4): MAE = 5.024285016326455\n",
      "Order (0, 1, 5): MAE = 4.474467343407238\n",
      "Order (0, 1, 6): MAE = 4.371531801427147\n",
      "Order (1, 0, 0): MAE = 4.3614510641286195\n",
      "Order (1, 0, 1): MAE = 4.362862221118068\n",
      "Order (1, 0, 2): MAE = 4.354359097782951\n",
      "Order (1, 0, 3): MAE = 4.36965219216774\n",
      "Order (1, 0, 4): MAE = 4.372565958935\n",
      "Order (1, 0, 5): MAE = 4.335491781802337\n",
      "Order (1, 0, 6): MAE = 4.33568152372952\n",
      "Order (1, 1, 0): MAE = 11.121925637055966\n",
      "Order (1, 1, 1): MAE = 4.381065875006023\n",
      "Order (1, 1, 2): MAE = 4.380535551814562\n",
      "Order (1, 1, 3): MAE = 4.370594348690435\n"
     ]
    },
    {
     "name": "stderr",
     "output_type": "stream",
     "text": [
      "/Users/alikhan/anaconda3/lib/python3.10/site-packages/statsmodels/base/model.py:604: ConvergenceWarning: Maximum Likelihood optimization failed to converge. Check mle_retvals\n",
      "  warnings.warn(\"Maximum Likelihood optimization failed to \"\n"
     ]
    },
    {
     "name": "stdout",
     "output_type": "stream",
     "text": [
      "Order (1, 1, 4): MAE = 4.387307554583811\n",
      "Order (1, 1, 5): MAE = 4.395017858918643\n",
      "Order (1, 1, 6): MAE = 4.376747585489832\n",
      "Order (2, 0, 0): MAE = 4.363022732996527\n",
      "Order (2, 0, 1): MAE = 4.3662312556459035\n",
      "Order (2, 0, 2): MAE = 4.338035578813102\n",
      "Order (2, 0, 3): MAE = 4.347994799056286\n",
      "Order (2, 0, 4): MAE = 4.328682559478998\n",
      "Order (2, 0, 5): MAE = 4.333975169996436\n",
      "Order (2, 0, 6): MAE = 4.336088656168127\n",
      "Order (2, 1, 0): MAE = 11.054641881482235\n",
      "Order (2, 1, 1): MAE = 4.38089858046034\n",
      "Order (2, 1, 2): MAE = 4.368486958753939\n",
      "Order (2, 1, 3): MAE = 4.37399372074004\n",
      "Order (2, 1, 4): MAE = 4.363942364093717\n"
     ]
    },
    {
     "name": "stderr",
     "output_type": "stream",
     "text": [
      "/Users/alikhan/anaconda3/lib/python3.10/site-packages/statsmodels/base/model.py:604: ConvergenceWarning: Maximum Likelihood optimization failed to converge. Check mle_retvals\n",
      "  warnings.warn(\"Maximum Likelihood optimization failed to \"\n"
     ]
    },
    {
     "name": "stdout",
     "output_type": "stream",
     "text": [
      "Order (2, 1, 5): MAE = 4.375803712698277\n",
      "Order (2, 1, 6): MAE = 4.377032832172575\n",
      "Best Order for Stock ID 178: (0, 0, 0)\n",
      "Best MAE for Stock ID 178: 4.249680267091211\n",
      "\n",
      "Training and evaluating for Stock ID: 179\n",
      "Training Set Date Range: 0 -- 477\n",
      "Testing Set Date Range: 478 -- 480\n",
      "Order (0, 0, 0): MAE = 4.829751949671605\n",
      "Order (0, 0, 1): MAE = 4.837251499266592\n",
      "Order (0, 0, 2): MAE = 4.845978561703024\n",
      "Order (0, 0, 3): MAE = 4.8466226566870025\n",
      "Order (0, 0, 4): MAE = 4.840787880889286\n",
      "Order (0, 0, 5): MAE = 4.853982176116052\n",
      "Order (0, 0, 6): MAE = 4.8535511454539115\n",
      "Order (0, 1, 0): MAE = 6.834806827515152\n",
      "Order (0, 1, 1): MAE = 6.470855481143955\n",
      "Order (0, 1, 2): MAE = 6.388701915922902\n",
      "Order (0, 1, 3): MAE = 6.082098527452963\n",
      "Order (0, 1, 4): MAE = 5.599822224028452\n",
      "Order (0, 1, 5): MAE = 4.925540618485541\n",
      "Order (0, 1, 6): MAE = 4.867512015051046\n",
      "Order (1, 0, 0): MAE = 4.857340438923746\n",
      "Order (1, 0, 1): MAE = 4.857396497459428\n",
      "Order (1, 0, 2): MAE = 4.856506580835338\n",
      "Order (1, 0, 3): MAE = 4.8523376578605815\n",
      "Order (1, 0, 4): MAE = 4.848942501799894\n",
      "Order (1, 0, 5): MAE = 4.853555369916124\n",
      "Order (1, 0, 6): MAE = 4.85496224530068\n",
      "Order (1, 1, 0): MAE = 6.5236865520768985\n",
      "Order (1, 1, 1): MAE = 4.8668782979715\n",
      "Order (1, 1, 2): MAE = 4.86492934281244\n",
      "Order (1, 1, 3): MAE = 4.864784660313214\n",
      "Order (1, 1, 4): MAE = 4.860911616383263\n",
      "Order (1, 1, 5): MAE = 4.858188612680977\n",
      "Order (1, 1, 6): MAE = 4.867859437189643\n",
      "Order (2, 0, 0): MAE = 4.8573993864594724\n",
      "Order (2, 0, 1): MAE = 4.857066865138736\n",
      "Order (2, 0, 2): MAE = 4.8520335761407\n",
      "Order (2, 0, 3): MAE = 4.857649676594572\n",
      "Order (2, 0, 4): MAE = 4.844776090976353\n",
      "Order (2, 0, 5): MAE = 4.85358072828852\n",
      "Order (2, 0, 6): MAE = 4.855500364483876\n",
      "Order (2, 1, 0): MAE = 6.433589254398662\n",
      "Order (2, 1, 1): MAE = 4.864884366008347\n",
      "Order (2, 1, 2): MAE = 4.866562607527237\n",
      "Order (2, 1, 3): MAE = 4.8665604302444185\n",
      "Order (2, 1, 4): MAE = 4.86608173565024\n",
      "Order (2, 1, 5): MAE = 4.865529395651762\n",
      "Order (2, 1, 6): MAE = 4.867894680681278\n",
      "Best Order for Stock ID 179: (0, 0, 0)\n",
      "Best MAE for Stock ID 179: 4.829751949671605\n",
      "\n",
      "Training and evaluating for Stock ID: 180\n",
      "Training Set Date Range: 0 -- 477\n",
      "Testing Set Date Range: 478 -- 480\n",
      "Order (0, 0, 0): MAE = 8.497284555018911\n",
      "Order (0, 0, 1): MAE = 8.50319617690737\n",
      "Order (0, 0, 2): MAE = 8.50283463715873\n",
      "Order (0, 0, 3): MAE = 8.51133997485405\n",
      "Order (0, 0, 4): MAE = 8.50994184848576\n",
      "Order (0, 0, 5): MAE = 8.528606354374961\n",
      "Order (0, 0, 6): MAE = 8.526308728708425\n",
      "Order (0, 1, 0): MAE = 10.731852432545454\n",
      "Order (0, 1, 1): MAE = 10.746808368717602\n",
      "Order (0, 1, 2): MAE = 10.656057675244996\n",
      "Order (0, 1, 3): MAE = 10.165365641897667\n",
      "Order (0, 1, 4): MAE = 8.358748623000443\n",
      "Order (0, 1, 5): MAE = 8.313373964204159\n",
      "Order (0, 1, 6): MAE = 8.290500521535819\n",
      "Order (1, 0, 0): MAE = 8.533856840688667\n",
      "Order (1, 0, 1): MAE = 8.532661118893529\n",
      "Order (1, 0, 2): MAE = 8.530941734958136\n",
      "Order (1, 0, 3): MAE = 8.532446089776416\n",
      "Order (1, 0, 4): MAE = 8.521651940016621\n",
      "Order (1, 0, 5): MAE = 8.526921064923718\n",
      "Order (1, 0, 6): MAE = 8.523638042509624\n",
      "Order (1, 1, 0): MAE = 10.757272445245285\n",
      "Order (1, 1, 1): MAE = 8.299729101308627\n",
      "Order (1, 1, 2): MAE = 8.297372703336572\n",
      "Order (1, 1, 3): MAE = 8.293898035220556\n",
      "Order (1, 1, 4): MAE = 8.385843879445092\n",
      "Order (1, 1, 5): MAE = 8.283966565048821\n",
      "Order (1, 1, 6): MAE = 8.286010976398092\n",
      "Order (2, 0, 0): MAE = 8.532529344971845\n",
      "Order (2, 0, 1): MAE = 8.535538536219686\n",
      "Order (2, 0, 2): MAE = 8.532694443953238\n",
      "Order (2, 0, 3): MAE = 8.51768564249761\n",
      "Order (2, 0, 4): MAE = 8.509597219262801\n",
      "Order (2, 0, 5): MAE = 8.52576959343254\n",
      "Order (2, 0, 6): MAE = 8.52483488258594\n",
      "Order (2, 1, 0): MAE = 10.712044883603143\n",
      "Order (2, 1, 1): MAE = 8.296469919782865\n",
      "Order (2, 1, 2): MAE = 8.298123206874179\n",
      "Order (2, 1, 3): MAE = 8.305620685575258\n",
      "Order (2, 1, 4): MAE = 8.298034215378003\n",
      "Order (2, 1, 5): MAE = 8.298359851419898\n",
      "Order (2, 1, 6): MAE = 8.284502426109649\n",
      "Best Order for Stock ID 180: (1, 1, 5)\n",
      "Best MAE for Stock ID 180: 8.283966565048821\n",
      "\n",
      "Training and evaluating for Stock ID: 181\n",
      "Training Set Date Range: 0 -- 477\n",
      "Testing Set Date Range: 478 -- 480\n",
      "Order (0, 0, 0): MAE = 4.67219429686008\n",
      "Order (0, 0, 1): MAE = 4.671613934924049\n",
      "Order (0, 0, 2): MAE = 4.671276771482804\n",
      "Order (0, 0, 3): MAE = 4.671098237970297\n",
      "Order (0, 0, 4): MAE = 4.672312355553492\n",
      "Order (0, 0, 5): MAE = 4.6705973994924115\n",
      "Order (0, 0, 6): MAE = 4.671235913970427\n",
      "Order (0, 1, 0): MAE = 4.640138517939394\n",
      "Order (0, 1, 1): MAE = 4.699879688672151\n",
      "Order (0, 1, 2): MAE = 4.72665755219613\n",
      "Order (0, 1, 3): MAE = 4.606188114816151\n",
      "Order (0, 1, 4): MAE = 4.656297768979934\n",
      "Order (0, 1, 5): MAE = 4.696402850664006\n"
     ]
    },
    {
     "name": "stderr",
     "output_type": "stream",
     "text": [
      "/Users/alikhan/anaconda3/lib/python3.10/site-packages/statsmodels/base/model.py:604: ConvergenceWarning: Maximum Likelihood optimization failed to converge. Check mle_retvals\n",
      "  warnings.warn(\"Maximum Likelihood optimization failed to \"\n"
     ]
    },
    {
     "name": "stdout",
     "output_type": "stream",
     "text": [
      "Order (0, 1, 6): MAE = 4.670587176901026\n",
      "Order (1, 0, 0): MAE = 4.671678281280811\n",
      "Order (1, 0, 1): MAE = 4.671769343865028\n",
      "Order (1, 0, 2): MAE = 4.671613572010343\n",
      "Order (1, 0, 3): MAE = 4.671124356612527\n",
      "Order (1, 0, 4): MAE = 4.6709188868579865\n",
      "Order (1, 0, 5): MAE = 4.671014150847621\n",
      "Order (1, 0, 6): MAE = 4.671470811992222\n",
      "Order (1, 1, 0): MAE = 4.683855072134738\n",
      "Order (1, 1, 1): MAE = 4.671707012446156\n",
      "Order (1, 1, 2): MAE = 4.672229852423569\n",
      "Order (1, 1, 3): MAE = 4.671552628864065\n",
      "Order (1, 1, 4): MAE = 4.641720031055601\n",
      "Order (1, 1, 5): MAE = 4.670900951785465\n"
     ]
    },
    {
     "name": "stderr",
     "output_type": "stream",
     "text": [
      "/Users/alikhan/anaconda3/lib/python3.10/site-packages/statsmodels/base/model.py:604: ConvergenceWarning: Maximum Likelihood optimization failed to converge. Check mle_retvals\n",
      "  warnings.warn(\"Maximum Likelihood optimization failed to \"\n"
     ]
    },
    {
     "name": "stdout",
     "output_type": "stream",
     "text": [
      "Order (1, 1, 6): MAE = 4.671001355841302\n",
      "Order (2, 0, 0): MAE = 4.67177940456781\n",
      "Order (2, 0, 1): MAE = 4.671766544371411\n",
      "Order (2, 0, 2): MAE = 4.670142025249614\n",
      "Order (2, 0, 3): MAE = 4.671570023610905\n",
      "Order (2, 0, 4): MAE = 4.672320690038199\n",
      "Order (2, 0, 5): MAE = 4.67135694493397\n",
      "Order (2, 0, 6): MAE = 4.671464567484644\n",
      "Order (2, 1, 0): MAE = 4.703543167364621\n",
      "Order (2, 1, 1): MAE = 4.671718367299263\n",
      "Order (2, 1, 2): MAE = 4.6715538636953955\n",
      "Order (2, 1, 3): MAE = 4.671905397109535\n",
      "Order (2, 1, 4): MAE = 4.600358540715686\n"
     ]
    },
    {
     "name": "stderr",
     "output_type": "stream",
     "text": [
      "/Users/alikhan/anaconda3/lib/python3.10/site-packages/statsmodels/base/model.py:604: ConvergenceWarning: Maximum Likelihood optimization failed to converge. Check mle_retvals\n",
      "  warnings.warn(\"Maximum Likelihood optimization failed to \"\n"
     ]
    },
    {
     "name": "stdout",
     "output_type": "stream",
     "text": [
      "Order (2, 1, 5): MAE = 4.686805704346017\n"
     ]
    },
    {
     "name": "stderr",
     "output_type": "stream",
     "text": [
      "/Users/alikhan/anaconda3/lib/python3.10/site-packages/statsmodels/base/model.py:604: ConvergenceWarning: Maximum Likelihood optimization failed to converge. Check mle_retvals\n",
      "  warnings.warn(\"Maximum Likelihood optimization failed to \"\n"
     ]
    },
    {
     "name": "stdout",
     "output_type": "stream",
     "text": [
      "Order (2, 1, 6): MAE = 4.671249617987214\n",
      "Best Order for Stock ID 181: (2, 1, 4)\n",
      "Best MAE for Stock ID 181: 4.600358540715686\n",
      "\n",
      "Training and evaluating for Stock ID: 182\n",
      "Training Set Date Range: 0 -- 477\n",
      "Testing Set Date Range: 478 -- 480\n",
      "Order (0, 0, 0): MAE = 5.386882783317632\n",
      "Order (0, 0, 1): MAE = 5.388232361968159\n",
      "Order (0, 0, 2): MAE = 5.395821985242082\n",
      "Order (0, 0, 3): MAE = 5.3949585810290905\n",
      "Order (0, 0, 4): MAE = 5.401625790712528\n",
      "Order (0, 0, 5): MAE = 5.441642521466601\n",
      "Order (0, 0, 6): MAE = 5.4416051242923436\n",
      "Order (0, 1, 0): MAE = 10.637723965151515\n",
      "Order (0, 1, 1): MAE = 10.708984035531104\n",
      "Order (0, 1, 2): MAE = 10.701555228084596\n",
      "Order (0, 1, 3): MAE = 9.228339195927534\n",
      "Order (0, 1, 4): MAE = 5.392944516087617\n",
      "Order (0, 1, 5): MAE = 5.399969982568788\n",
      "Order (0, 1, 6): MAE = 5.441621751845893\n",
      "Order (1, 0, 0): MAE = 5.43877429803518\n",
      "Order (1, 0, 1): MAE = 5.42575869867705\n",
      "Order (1, 0, 2): MAE = 5.421700857105316\n",
      "Order (1, 0, 3): MAE = 5.426612188453997\n",
      "Order (1, 0, 4): MAE = 5.442569447858731\n",
      "Order (1, 0, 5): MAE = 5.441611132446359\n",
      "Order (1, 0, 6): MAE = 5.439714330704469\n",
      "Order (1, 1, 0): MAE = 10.701937419758304\n",
      "Order (1, 1, 1): MAE = 5.437045092345295\n",
      "Order (1, 1, 2): MAE = 5.425806369412524\n",
      "Order (1, 1, 3): MAE = 5.421661343184569\n",
      "Order (1, 1, 4): MAE = 5.392461840216845\n",
      "Order (1, 1, 5): MAE = 5.442597277689828\n",
      "Order (1, 1, 6): MAE = 5.441581149455967\n",
      "Order (2, 0, 0): MAE = 5.423015721458054\n",
      "Order (2, 0, 1): MAE = 5.421077034585614\n",
      "Order (2, 0, 2): MAE = 5.42254839349146\n",
      "Order (2, 0, 3): MAE = 5.432745641118776\n",
      "Order (2, 0, 4): MAE = 5.432173020001006\n",
      "Order (2, 0, 5): MAE = 5.439603731882412\n",
      "Order (2, 0, 6): MAE = 5.4373621160548815\n",
      "Order (2, 1, 0): MAE = 10.718219187042939\n",
      "Order (2, 1, 1): MAE = 5.423031677136205\n",
      "Order (2, 1, 2): MAE = 5.432769369921548\n",
      "Order (2, 1, 3): MAE = 5.428058326973039\n"
     ]
    },
    {
     "name": "stderr",
     "output_type": "stream",
     "text": [
      "/Users/alikhan/anaconda3/lib/python3.10/site-packages/statsmodels/base/model.py:604: ConvergenceWarning: Maximum Likelihood optimization failed to converge. Check mle_retvals\n",
      "  warnings.warn(\"Maximum Likelihood optimization failed to \"\n"
     ]
    },
    {
     "name": "stdout",
     "output_type": "stream",
     "text": [
      "Order (2, 1, 4): MAE = 5.421395234575469\n"
     ]
    },
    {
     "name": "stderr",
     "output_type": "stream",
     "text": [
      "/Users/alikhan/anaconda3/lib/python3.10/site-packages/statsmodels/base/model.py:604: ConvergenceWarning: Maximum Likelihood optimization failed to converge. Check mle_retvals\n",
      "  warnings.warn(\"Maximum Likelihood optimization failed to \"\n"
     ]
    },
    {
     "name": "stdout",
     "output_type": "stream",
     "text": [
      "Order (2, 1, 5): MAE = 5.431433987056618\n"
     ]
    },
    {
     "name": "stderr",
     "output_type": "stream",
     "text": [
      "/Users/alikhan/anaconda3/lib/python3.10/site-packages/statsmodels/base/model.py:604: ConvergenceWarning: Maximum Likelihood optimization failed to converge. Check mle_retvals\n",
      "  warnings.warn(\"Maximum Likelihood optimization failed to \"\n"
     ]
    },
    {
     "name": "stdout",
     "output_type": "stream",
     "text": [
      "Order (2, 1, 6): MAE = 5.439545781363383\n",
      "Best Order for Stock ID 182: (0, 0, 0)\n",
      "Best MAE for Stock ID 182: 5.386882783317632\n",
      "\n",
      "Training and evaluating for Stock ID: 183\n",
      "Training Set Date Range: 0 -- 477\n",
      "Testing Set Date Range: 478 -- 480\n",
      "Order (0, 0, 0): MAE = 5.43582591699066\n",
      "Order (0, 0, 1): MAE = 5.435152865529073\n",
      "Order (0, 0, 2): MAE = 5.435440950299003\n",
      "Order (0, 0, 3): MAE = 5.4348878780379035\n",
      "Order (0, 0, 4): MAE = 5.4360044062204915\n",
      "Order (0, 0, 5): MAE = 5.437026023516496\n",
      "Order (0, 0, 6): MAE = 5.437050825359279\n",
      "Order (0, 1, 0): MAE = 5.49011518969697\n",
      "Order (0, 1, 1): MAE = 5.526220375394134\n",
      "Order (0, 1, 2): MAE = 5.510020200672978\n",
      "Order (0, 1, 3): MAE = 5.44672330295059\n",
      "Order (0, 1, 4): MAE = 5.341437109044879\n",
      "Order (0, 1, 5): MAE = 5.385490143533801\n",
      "Order (0, 1, 6): MAE = 5.436981982856862\n",
      "Order (1, 0, 0): MAE = 5.4369549085781514\n",
      "Order (1, 0, 1): MAE = 5.436680808256385\n",
      "Order (1, 0, 2): MAE = 5.436692874082224\n",
      "Order (1, 0, 3): MAE = 5.43714187104215\n",
      "Order (1, 0, 4): MAE = 5.439399978415362\n",
      "Order (1, 0, 5): MAE = 5.437055101943163\n",
      "Order (1, 0, 6): MAE = 5.436032655457529\n",
      "Order (1, 1, 0): MAE = 5.524015160981069\n",
      "Order (1, 1, 1): MAE = 5.432421846545645\n",
      "Order (1, 1, 2): MAE = 5.436253358801819\n",
      "Order (1, 1, 3): MAE = 5.436342769219769\n"
     ]
    },
    {
     "name": "stderr",
     "output_type": "stream",
     "text": [
      "/Users/alikhan/anaconda3/lib/python3.10/site-packages/statsmodels/base/model.py:604: ConvergenceWarning: Maximum Likelihood optimization failed to converge. Check mle_retvals\n",
      "  warnings.warn(\"Maximum Likelihood optimization failed to \"\n"
     ]
    },
    {
     "name": "stdout",
     "output_type": "stream",
     "text": [
      "Order (1, 1, 4): MAE = 5.376121589557566\n",
      "Order (1, 1, 5): MAE = 5.439314825365433\n"
     ]
    },
    {
     "name": "stderr",
     "output_type": "stream",
     "text": [
      "/Users/alikhan/anaconda3/lib/python3.10/site-packages/statsmodels/base/model.py:604: ConvergenceWarning: Maximum Likelihood optimization failed to converge. Check mle_retvals\n",
      "  warnings.warn(\"Maximum Likelihood optimization failed to \"\n"
     ]
    },
    {
     "name": "stdout",
     "output_type": "stream",
     "text": [
      "Order (1, 1, 6): MAE = 5.437001332929343\n",
      "Order (2, 0, 0): MAE = 5.4366500393885016\n",
      "Order (2, 0, 1): MAE = 5.435702323599025\n",
      "Order (2, 0, 2): MAE = 5.4371594604724125\n",
      "Order (2, 0, 3): MAE = 5.436052016993848\n",
      "Order (2, 0, 4): MAE = 5.438707030883217\n",
      "Order (2, 0, 5): MAE = 5.43697442722198\n",
      "Order (2, 0, 6): MAE = 5.436993951540084\n",
      "Order (2, 1, 0): MAE = 5.515662422584595\n",
      "Order (2, 1, 1): MAE = 5.436368479602829\n",
      "Order (2, 1, 2): MAE = 5.435851147045472\n",
      "Order (2, 1, 3): MAE = 5.436150241484497\n"
     ]
    },
    {
     "name": "stderr",
     "output_type": "stream",
     "text": [
      "/Users/alikhan/anaconda3/lib/python3.10/site-packages/statsmodels/base/model.py:604: ConvergenceWarning: Maximum Likelihood optimization failed to converge. Check mle_retvals\n",
      "  warnings.warn(\"Maximum Likelihood optimization failed to \"\n"
     ]
    },
    {
     "name": "stdout",
     "output_type": "stream",
     "text": [
      "Order (2, 1, 4): MAE = 5.43604958448427\n"
     ]
    },
    {
     "name": "stderr",
     "output_type": "stream",
     "text": [
      "/Users/alikhan/anaconda3/lib/python3.10/site-packages/statsmodels/base/model.py:604: ConvergenceWarning: Maximum Likelihood optimization failed to converge. Check mle_retvals\n",
      "  warnings.warn(\"Maximum Likelihood optimization failed to \"\n"
     ]
    },
    {
     "name": "stdout",
     "output_type": "stream",
     "text": [
      "Order (2, 1, 5): MAE = 5.436092049070945\n"
     ]
    },
    {
     "name": "stderr",
     "output_type": "stream",
     "text": [
      "/Users/alikhan/anaconda3/lib/python3.10/site-packages/statsmodels/base/model.py:604: ConvergenceWarning: Maximum Likelihood optimization failed to converge. Check mle_retvals\n",
      "  warnings.warn(\"Maximum Likelihood optimization failed to \"\n"
     ]
    },
    {
     "name": "stdout",
     "output_type": "stream",
     "text": [
      "Order (2, 1, 6): MAE = 5.436892011075766\n",
      "Best Order for Stock ID 183: (0, 1, 4)\n",
      "Best MAE for Stock ID 183: 5.341437109044879\n",
      "\n",
      "Training and evaluating for Stock ID: 184\n",
      "Training Set Date Range: 0 -- 477\n",
      "Testing Set Date Range: 478 -- 480\n",
      "Order (0, 0, 0): MAE = 5.145302785927015\n",
      "Order (0, 0, 1): MAE = 5.145169912377769\n",
      "Order (0, 0, 2): MAE = 5.146387489664365\n",
      "Order (0, 0, 3): MAE = 5.144297630599476\n",
      "Order (0, 0, 4): MAE = 5.142859509719295\n",
      "Order (0, 0, 5): MAE = 5.144101195289466\n",
      "Order (0, 0, 6): MAE = 5.144194967369567\n",
      "Order (0, 1, 0): MAE = 5.282383969818182\n",
      "Order (0, 1, 1): MAE = 5.386934087040244\n",
      "Order (0, 1, 2): MAE = 5.370618846025387\n",
      "Order (0, 1, 3): MAE = 5.097985757806977\n",
      "Order (0, 1, 4): MAE = 5.096564420424245\n",
      "Order (0, 1, 5): MAE = 5.1028285611781685\n",
      "Order (0, 1, 6): MAE = 5.143821291375647\n",
      "Order (1, 0, 0): MAE = 5.13606305328512\n",
      "Order (1, 0, 1): MAE = 5.136892234876626\n",
      "Order (1, 0, 2): MAE = 5.138061404813457\n",
      "Order (1, 0, 3): MAE = 5.1394716021221285\n",
      "Order (1, 0, 4): MAE = 5.141575496152506\n",
      "Order (1, 0, 5): MAE = 5.144177899703362\n",
      "Order (1, 0, 6): MAE = 5.146520721484346\n",
      "Order (1, 1, 0): MAE = 5.379987850608959\n",
      "Order (1, 1, 1): MAE = 5.135049707517296\n",
      "Order (1, 1, 2): MAE = 5.136410411285263\n",
      "Order (1, 1, 3): MAE = 5.137753136599662\n",
      "Order (1, 1, 4): MAE = 5.093843807775405\n",
      "Order (1, 1, 5): MAE = 5.141292214664649\n",
      "Order (1, 1, 6): MAE = 5.143865151471531\n",
      "Order (2, 0, 0): MAE = 5.137108828335111\n",
      "Order (2, 0, 1): MAE = 5.135880661033539\n",
      "Order (2, 0, 2): MAE = 5.148225713910182\n",
      "Order (2, 0, 3): MAE = 5.145918435338784\n",
      "Order (2, 0, 4): MAE = 5.144738689515052\n",
      "Order (2, 0, 5): MAE = 5.144182926101878\n",
      "Order (2, 0, 6): MAE = 5.146371853434123\n",
      "Order (2, 1, 0): MAE = 5.371612665222587\n",
      "Order (2, 1, 1): MAE = 5.135635055351299\n",
      "Order (2, 1, 2): MAE = 5.123290363621096\n"
     ]
    },
    {
     "name": "stderr",
     "output_type": "stream",
     "text": [
      "/Users/alikhan/anaconda3/lib/python3.10/site-packages/statsmodels/base/model.py:604: ConvergenceWarning: Maximum Likelihood optimization failed to converge. Check mle_retvals\n",
      "  warnings.warn(\"Maximum Likelihood optimization failed to \"\n"
     ]
    },
    {
     "name": "stdout",
     "output_type": "stream",
     "text": [
      "Order (2, 1, 3): MAE = 5.136149545299023\n"
     ]
    },
    {
     "name": "stderr",
     "output_type": "stream",
     "text": [
      "/Users/alikhan/anaconda3/lib/python3.10/site-packages/statsmodels/base/model.py:604: ConvergenceWarning: Maximum Likelihood optimization failed to converge. Check mle_retvals\n",
      "  warnings.warn(\"Maximum Likelihood optimization failed to \"\n"
     ]
    },
    {
     "name": "stdout",
     "output_type": "stream",
     "text": [
      "Order (2, 1, 4): MAE = 5.137808722091258\n"
     ]
    },
    {
     "name": "stderr",
     "output_type": "stream",
     "text": [
      "/Users/alikhan/anaconda3/lib/python3.10/site-packages/statsmodels/base/model.py:604: ConvergenceWarning: Maximum Likelihood optimization failed to converge. Check mle_retvals\n",
      "  warnings.warn(\"Maximum Likelihood optimization failed to \"\n"
     ]
    },
    {
     "name": "stdout",
     "output_type": "stream",
     "text": [
      "Order (2, 1, 5): MAE = 5.130211325270025\n"
     ]
    },
    {
     "name": "stderr",
     "output_type": "stream",
     "text": [
      "/Users/alikhan/anaconda3/lib/python3.10/site-packages/statsmodels/base/model.py:604: ConvergenceWarning: Maximum Likelihood optimization failed to converge. Check mle_retvals\n",
      "  warnings.warn(\"Maximum Likelihood optimization failed to \"\n"
     ]
    },
    {
     "name": "stdout",
     "output_type": "stream",
     "text": [
      "Order (2, 1, 6): MAE = 5.143193269014386\n",
      "Best Order for Stock ID 184: (1, 1, 4)\n",
      "Best MAE for Stock ID 184: 5.093843807775405\n",
      "\n",
      "Training and evaluating for Stock ID: 185\n",
      "Training Set Date Range: 0 -- 477\n",
      "Testing Set Date Range: 478 -- 480\n",
      "Order (0, 0, 0): MAE = 4.941974951302395\n",
      "Order (0, 0, 1): MAE = 4.941482957722129\n",
      "Order (0, 0, 2): MAE = 4.943627987500095\n",
      "Order (0, 0, 3): MAE = 4.9410825860374645\n",
      "Order (0, 0, 4): MAE = 4.941584783775545\n",
      "Order (0, 0, 5): MAE = 4.942747929051786\n",
      "Order (0, 0, 6): MAE = 4.942688703142688\n",
      "Order (0, 1, 0): MAE = 4.856860998012121\n",
      "Order (0, 1, 1): MAE = 4.823759972130192\n",
      "Order (0, 1, 2): MAE = 4.816562395652134\n",
      "Order (0, 1, 3): MAE = 4.931888610744541\n",
      "Order (0, 1, 4): MAE = 4.929321630749065\n",
      "Order (0, 1, 5): MAE = 4.931813537454618\n",
      "Order (0, 1, 6): MAE = 4.942639013820857\n",
      "Order (1, 0, 0): MAE = 4.940620033750973\n",
      "Order (1, 0, 1): MAE = 4.940178400809982\n",
      "Order (1, 0, 2): MAE = 4.9403391389071505\n",
      "Order (1, 0, 3): MAE = 4.938851840672806\n",
      "Order (1, 0, 4): MAE = 4.943284224063441\n",
      "Order (1, 0, 5): MAE = 4.942581129847672\n",
      "Order (1, 0, 6): MAE = 4.94323023939772\n",
      "Order (1, 1, 0): MAE = 4.828790547612678\n",
      "Order (1, 1, 1): MAE = 4.933152822315948\n",
      "Order (1, 1, 2): MAE = 4.8025845798558295\n",
      "Order (1, 1, 3): MAE = 4.938670672715966\n",
      "Order (1, 1, 4): MAE = 4.930621456374537\n",
      "Order (1, 1, 5): MAE = 4.930584822846936\n"
     ]
    },
    {
     "name": "stderr",
     "output_type": "stream",
     "text": [
      "/Users/alikhan/anaconda3/lib/python3.10/site-packages/statsmodels/base/model.py:604: ConvergenceWarning: Maximum Likelihood optimization failed to converge. Check mle_retvals\n",
      "  warnings.warn(\"Maximum Likelihood optimization failed to \"\n"
     ]
    },
    {
     "name": "stdout",
     "output_type": "stream",
     "text": [
      "Order (1, 1, 6): MAE = 4.942148081169904\n",
      "Order (2, 0, 0): MAE = 4.940152465369674\n",
      "Order (2, 0, 1): MAE = 4.939871340055445\n",
      "Order (2, 0, 2): MAE = 4.942890677352826\n",
      "Order (2, 0, 3): MAE = 4.939184826100386\n",
      "Order (2, 0, 4): MAE = 4.946021200900592\n",
      "Order (2, 0, 5): MAE = 4.942593130767829\n",
      "Order (2, 0, 6): MAE = 4.943333669622102\n",
      "Order (2, 1, 0): MAE = 4.823327133744161\n",
      "Order (2, 1, 1): MAE = 4.939745276654488\n",
      "Order (2, 1, 2): MAE = 4.938243897751862\n",
      "Order (2, 1, 3): MAE = 4.938638752333424\n"
     ]
    },
    {
     "name": "stderr",
     "output_type": "stream",
     "text": [
      "/Users/alikhan/anaconda3/lib/python3.10/site-packages/statsmodels/base/model.py:604: ConvergenceWarning: Maximum Likelihood optimization failed to converge. Check mle_retvals\n",
      "  warnings.warn(\"Maximum Likelihood optimization failed to \"\n"
     ]
    },
    {
     "name": "stdout",
     "output_type": "stream",
     "text": [
      "Order (2, 1, 4): MAE = 4.937406999873294\n"
     ]
    },
    {
     "name": "stderr",
     "output_type": "stream",
     "text": [
      "/Users/alikhan/anaconda3/lib/python3.10/site-packages/statsmodels/base/model.py:604: ConvergenceWarning: Maximum Likelihood optimization failed to converge. Check mle_retvals\n",
      "  warnings.warn(\"Maximum Likelihood optimization failed to \"\n"
     ]
    },
    {
     "name": "stdout",
     "output_type": "stream",
     "text": [
      "Order (2, 1, 5): MAE = 4.9367164970292245\n"
     ]
    },
    {
     "name": "stderr",
     "output_type": "stream",
     "text": [
      "/Users/alikhan/anaconda3/lib/python3.10/site-packages/statsmodels/base/model.py:604: ConvergenceWarning: Maximum Likelihood optimization failed to converge. Check mle_retvals\n",
      "  warnings.warn(\"Maximum Likelihood optimization failed to \"\n"
     ]
    },
    {
     "name": "stdout",
     "output_type": "stream",
     "text": [
      "Order (2, 1, 6): MAE = 4.941408902967074\n",
      "Best Order for Stock ID 185: (1, 1, 2)\n",
      "Best MAE for Stock ID 185: 4.8025845798558295\n",
      "\n",
      "Training and evaluating for Stock ID: 186\n",
      "Training Set Date Range: 0 -- 477\n",
      "Testing Set Date Range: 478 -- 480\n",
      "Order (0, 0, 0): MAE = 2.685601291294812\n",
      "Order (0, 0, 1): MAE = 2.6886911638659554\n",
      "Order (0, 0, 2): MAE = 2.6881229527254047\n",
      "Order (0, 0, 3): MAE = 2.6908469343472787\n",
      "Order (0, 0, 4): MAE = 2.6912767271786624\n",
      "Order (0, 0, 5): MAE = 2.6982745772079575\n",
      "Order (0, 0, 6): MAE = 2.6978915091478095\n",
      "Order (0, 1, 0): MAE = 5.227829476290909\n",
      "Order (0, 1, 1): MAE = 5.25103097789115\n",
      "Order (0, 1, 2): MAE = 5.276018684718462\n",
      "Order (0, 1, 3): MAE = 4.603775049530108\n",
      "Order (0, 1, 4): MAE = 2.7591442711803364\n",
      "Order (0, 1, 5): MAE = 2.6314585424605625\n",
      "Order (0, 1, 6): MAE = 2.698144416350432\n",
      "Order (1, 0, 0): MAE = 2.7007453756444635\n",
      "Order (1, 0, 1): MAE = 2.6988848050540213\n",
      "Order (1, 0, 2): MAE = 2.6979698439262516\n",
      "Order (1, 0, 3): MAE = 2.701139174273188\n",
      "Order (1, 0, 4): MAE = 2.69717829941707\n",
      "Order (1, 0, 5): MAE = 2.6979616086781424\n",
      "Order (1, 0, 6): MAE = 2.6962211150832265\n",
      "Order (1, 1, 0): MAE = 5.246390060272887\n",
      "Order (1, 1, 1): MAE = 2.700567155730916\n",
      "Order (1, 1, 2): MAE = 2.698709211167694\n",
      "Order (1, 1, 3): MAE = 2.697810097083724\n",
      "Order (1, 1, 4): MAE = 2.9654770343926877\n",
      "Order (1, 1, 5): MAE = 2.6970175903576026\n"
     ]
    },
    {
     "name": "stderr",
     "output_type": "stream",
     "text": [
      "/Users/alikhan/anaconda3/lib/python3.10/site-packages/statsmodels/base/model.py:604: ConvergenceWarning: Maximum Likelihood optimization failed to converge. Check mle_retvals\n",
      "  warnings.warn(\"Maximum Likelihood optimization failed to \"\n"
     ]
    },
    {
     "name": "stdout",
     "output_type": "stream",
     "text": [
      "Order (1, 1, 6): MAE = 2.6978251125237294\n",
      "Order (2, 0, 0): MAE = 2.698578403682938\n",
      "Order (2, 0, 1): MAE = 2.7019164381390306\n",
      "Order (2, 0, 2): MAE = 2.7019378376555183\n",
      "Order (2, 0, 3): MAE = 2.6978134931237543\n",
      "Order (2, 0, 4): MAE = 2.6945476790573903\n",
      "Order (2, 0, 5): MAE = 2.697209737329903\n"
     ]
    },
    {
     "name": "stderr",
     "output_type": "stream",
     "text": [
      "/Users/alikhan/anaconda3/lib/python3.10/site-packages/statsmodels/base/model.py:604: ConvergenceWarning: Maximum Likelihood optimization failed to converge. Check mle_retvals\n",
      "  warnings.warn(\"Maximum Likelihood optimization failed to \"\n"
     ]
    },
    {
     "name": "stdout",
     "output_type": "stream",
     "text": [
      "Order (2, 0, 6): MAE = 2.697540357584795\n",
      "Order (2, 1, 0): MAE = 5.281652402292796\n",
      "Order (2, 1, 1): MAE = 2.6985233033841727\n",
      "Order (2, 1, 2): MAE = 2.7008626915444918\n",
      "Order (2, 1, 3): MAE = 2.7006842160211306\n"
     ]
    },
    {
     "name": "stderr",
     "output_type": "stream",
     "text": [
      "/Users/alikhan/anaconda3/lib/python3.10/site-packages/statsmodels/base/model.py:604: ConvergenceWarning: Maximum Likelihood optimization failed to converge. Check mle_retvals\n",
      "  warnings.warn(\"Maximum Likelihood optimization failed to \"\n"
     ]
    },
    {
     "name": "stdout",
     "output_type": "stream",
     "text": [
      "Order (2, 1, 4): MAE = 2.69950246614629\n",
      "Order (2, 1, 5): MAE = 2.617945162789967\n"
     ]
    },
    {
     "name": "stderr",
     "output_type": "stream",
     "text": [
      "/Users/alikhan/anaconda3/lib/python3.10/site-packages/statsmodels/base/model.py:604: ConvergenceWarning: Maximum Likelihood optimization failed to converge. Check mle_retvals\n",
      "  warnings.warn(\"Maximum Likelihood optimization failed to \"\n"
     ]
    },
    {
     "name": "stdout",
     "output_type": "stream",
     "text": [
      "Order (2, 1, 6): MAE = 2.6972237395956147\n",
      "Best Order for Stock ID 186: (2, 1, 5)\n",
      "Best MAE for Stock ID 186: 2.617945162789967\n",
      "\n",
      "Training and evaluating for Stock ID: 187\n",
      "Training Set Date Range: 0 -- 477\n",
      "Testing Set Date Range: 478 -- 480\n",
      "Order (0, 0, 0): MAE = 3.510885811947718\n",
      "Order (0, 0, 1): MAE = 3.5145941962833667\n",
      "Order (0, 0, 2): MAE = 3.518675339373255\n",
      "Order (0, 0, 3): MAE = 3.5220269061969134\n",
      "Order (0, 0, 4): MAE = 3.520023517191358\n",
      "Order (0, 0, 5): MAE = 3.5198378758451083\n",
      "Order (0, 0, 6): MAE = 3.5184302273795427\n",
      "Order (0, 1, 0): MAE = 4.732410102024241\n",
      "Order (0, 1, 1): MAE = 4.359529791033885\n",
      "Order (0, 1, 2): MAE = 4.252530900864143\n",
      "Order (0, 1, 3): MAE = 3.845890787460041\n",
      "Order (0, 1, 4): MAE = 3.6062351217014803\n",
      "Order (0, 1, 5): MAE = 3.5575869775294606\n",
      "Order (0, 1, 6): MAE = 3.5336891449396166\n",
      "Order (1, 0, 0): MAE = 3.5245549824771736\n",
      "Order (1, 0, 1): MAE = 3.524542435187599\n",
      "Order (1, 0, 2): MAE = 3.525062780147377\n",
      "Order (1, 0, 3): MAE = 3.5235288096815287\n",
      "Order (1, 0, 4): MAE = 3.52367774733944\n",
      "Order (1, 0, 5): MAE = 3.518603618846026\n",
      "Order (1, 0, 6): MAE = 3.518391721764615\n",
      "Order (1, 1, 0): MAE = 4.425332537717387\n",
      "Order (1, 1, 1): MAE = 3.536504097713657\n",
      "Order (1, 1, 2): MAE = 3.535923803485414\n",
      "Order (1, 1, 3): MAE = 3.537085202326822\n",
      "Order (1, 1, 4): MAE = 3.5739801973182708\n",
      "Order (1, 1, 5): MAE = 3.5364271850749907\n",
      "Order (1, 1, 6): MAE = 3.5336144119873456\n",
      "Order (2, 0, 0): MAE = 3.5245396460633\n",
      "Order (2, 0, 1): MAE = 3.524832665775893\n",
      "Order (2, 0, 2): MAE = 3.5254319252086486\n",
      "Order (2, 0, 3): MAE = 3.5245431565158762\n",
      "Order (2, 0, 4): MAE = 3.5223980389912493\n",
      "Order (2, 0, 5): MAE = 3.5181165654621918\n"
     ]
    },
    {
     "name": "stderr",
     "output_type": "stream",
     "text": [
      "/Users/alikhan/anaconda3/lib/python3.10/site-packages/statsmodels/base/model.py:604: ConvergenceWarning: Maximum Likelihood optimization failed to converge. Check mle_retvals\n",
      "  warnings.warn(\"Maximum Likelihood optimization failed to \"\n"
     ]
    },
    {
     "name": "stdout",
     "output_type": "stream",
     "text": [
      "Order (2, 0, 6): MAE = 3.517813115607861\n",
      "Order (2, 1, 0): MAE = 4.30429733153797\n",
      "Order (2, 1, 1): MAE = 3.538214588810515\n",
      "Order (2, 1, 2): MAE = 3.5355802542375496\n",
      "Order (2, 1, 3): MAE = 3.5343265944334776\n",
      "Order (2, 1, 4): MAE = 3.536303208972206\n",
      "Order (2, 1, 5): MAE = 3.53607622837827\n",
      "Order (2, 1, 6): MAE = 3.5337296068668316\n",
      "Best Order for Stock ID 187: (0, 0, 0)\n",
      "Best MAE for Stock ID 187: 3.510885811947718\n",
      "\n",
      "Training and evaluating for Stock ID: 188\n",
      "Training Set Date Range: 0 -- 477\n",
      "Testing Set Date Range: 478 -- 480\n",
      "Order (0, 0, 0): MAE = 6.319797001502652\n",
      "Order (0, 0, 1): MAE = 6.32920367220681\n",
      "Order (0, 0, 2): MAE = 6.352536685901759\n",
      "Order (0, 0, 3): MAE = 6.350236412404512\n",
      "Order (0, 0, 4): MAE = 6.340192597338825\n",
      "Order (0, 0, 5): MAE = 6.3654184624653976\n",
      "Order (0, 0, 6): MAE = 6.361801539677247\n",
      "Order (0, 1, 0): MAE = 7.772265011290908\n",
      "Order (0, 1, 1): MAE = 7.365787757151918\n",
      "Order (0, 1, 2): MAE = 6.958717585592394\n",
      "Order (0, 1, 3): MAE = 6.663056837788929\n",
      "Order (0, 1, 4): MAE = 6.31668944439615\n",
      "Order (0, 1, 5): MAE = 6.314579021234504\n",
      "Order (0, 1, 6): MAE = 6.398441407514332\n",
      "Order (1, 0, 0): MAE = 6.338731216804929\n",
      "Order (1, 0, 1): MAE = 6.34193887312352\n",
      "Order (1, 0, 2): MAE = 6.34540031618193\n",
      "Order (1, 0, 3): MAE = 6.342273140466463\n",
      "Order (1, 0, 4): MAE = 6.342873744366148\n",
      "Order (1, 0, 5): MAE = 6.362328277616802\n",
      "Order (1, 0, 6): MAE = 6.361850676353745\n",
      "Order (1, 1, 0): MAE = 7.4300124558641825\n",
      "Order (1, 1, 1): MAE = 6.362861965094638\n",
      "Order (1, 1, 2): MAE = 6.370526868708206\n",
      "Order (1, 1, 3): MAE = 6.372745460357296\n",
      "Order (1, 1, 4): MAE = 6.322485214150559\n",
      "Order (1, 1, 5): MAE = 6.3708907538967114\n",
      "Order (1, 1, 6): MAE = 6.401238130729555\n",
      "Order (2, 0, 0): MAE = 6.342784025243046\n",
      "Order (2, 0, 1): MAE = 6.361834188074051\n",
      "Order (2, 0, 2): MAE = 6.3605707464241314\n",
      "Order (2, 0, 3): MAE = 6.3440603236007505\n",
      "Order (2, 0, 4): MAE = 6.3521271256279555\n",
      "Order (2, 0, 5): MAE = 6.361080767676865\n",
      "Order (2, 0, 6): MAE = 6.361570174582785\n",
      "Order (2, 1, 0): MAE = 7.09820936990117\n",
      "Order (2, 1, 1): MAE = 6.367015911325805\n",
      "Order (2, 1, 2): MAE = 6.361453061345326\n",
      "Order (2, 1, 3): MAE = 6.361107291482012\n",
      "Order (2, 1, 4): MAE = 6.375899309505082\n",
      "Order (2, 1, 5): MAE = 6.375679858014687\n",
      "Order (2, 1, 6): MAE = 6.408101565574121\n",
      "Best Order for Stock ID 188: (0, 1, 5)\n",
      "Best MAE for Stock ID 188: 6.314579021234504\n",
      "\n",
      "Training and evaluating for Stock ID: 189\n",
      "Training Set Date Range: 0 -- 477\n",
      "Testing Set Date Range: 478 -- 480\n",
      "Order (0, 0, 0): MAE = 12.521865906835872\n",
      "Order (0, 0, 1): MAE = 12.52448874933208\n",
      "Order (0, 0, 2): MAE = 12.524170100837223\n",
      "Order (0, 0, 3): MAE = 12.525879019077564\n",
      "Order (0, 0, 4): MAE = 12.524243125900899\n",
      "Order (0, 0, 5): MAE = 12.526553839869772\n",
      "Order (0, 0, 6): MAE = 12.526349675255485\n",
      "Order (0, 1, 0): MAE = 12.585383547066666\n",
      "Order (0, 1, 1): MAE = 12.541473923189248\n",
      "Order (0, 1, 2): MAE = 12.524981781717784\n",
      "Order (0, 1, 3): MAE = 12.67405425418127\n",
      "Order (0, 1, 4): MAE = 12.520057909475117\n",
      "Order (0, 1, 5): MAE = 12.514236071832451\n",
      "Order (0, 1, 6): MAE = 12.52812913349671\n",
      "Order (1, 0, 0): MAE = 12.522965312638146\n",
      "Order (1, 0, 1): MAE = 12.523395629167789\n",
      "Order (1, 0, 2): MAE = 12.523841077547761\n",
      "Order (1, 0, 3): MAE = 12.524649006824138\n",
      "Order (1, 0, 4): MAE = 12.524664465860496\n",
      "Order (1, 0, 5): MAE = 12.526369430324774\n",
      "Order (1, 0, 6): MAE = 12.5271700590208\n",
      "Order (1, 1, 0): MAE = 12.54677653953836\n",
      "Order (1, 1, 1): MAE = 12.524648517228819\n",
      "Order (1, 1, 2): MAE = 12.524899284607327\n",
      "Order (1, 1, 3): MAE = 12.524931820801772\n",
      "Order (1, 1, 4): MAE = 12.525958533866088\n",
      "Order (1, 1, 5): MAE = 12.52551575075498\n",
      "Order (1, 1, 6): MAE = 12.528280249763801\n",
      "Order (2, 0, 0): MAE = 12.523501172945162\n",
      "Order (2, 0, 1): MAE = 12.523843848773597\n",
      "Order (2, 0, 2): MAE = 12.528546383072785\n",
      "Order (2, 0, 3): MAE = 12.526096714817582\n",
      "Order (2, 0, 4): MAE = 12.525558536097273\n",
      "Order (2, 0, 5): MAE = 12.526391688465\n",
      "Order (2, 0, 6): MAE = 12.52717811909583\n",
      "Order (2, 1, 0): MAE = 12.530926139254339\n",
      "Order (2, 1, 1): MAE = 12.524356735048078\n",
      "Order (2, 1, 2): MAE = 12.524047879314848\n",
      "Order (2, 1, 3): MAE = 12.523824026280273\n",
      "Order (2, 1, 4): MAE = 12.525551369876846\n",
      "Order (2, 1, 5): MAE = 12.526640431588827\n",
      "Order (2, 1, 6): MAE = 12.528491326923975\n",
      "Best Order for Stock ID 189: (0, 1, 5)\n",
      "Best MAE for Stock ID 189: 12.514236071832451\n",
      "\n",
      "Training and evaluating for Stock ID: 190\n",
      "Training Set Date Range: 0 -- 477\n",
      "Testing Set Date Range: 478 -- 480\n",
      "Order (0, 0, 0): MAE = 4.85456966300624\n",
      "Order (0, 0, 1): MAE = 4.854548535673877\n",
      "Order (0, 0, 2): MAE = 4.854576102488119\n",
      "Order (0, 0, 3): MAE = 4.854472561293589\n",
      "Order (0, 0, 4): MAE = 4.854487364136223\n",
      "Order (0, 0, 5): MAE = 4.8548290506419365\n",
      "Order (0, 0, 6): MAE = 4.855115575509101\n",
      "Order (0, 1, 0): MAE = 4.8543033970424245\n",
      "Order (0, 1, 1): MAE = 4.849257883383181\n",
      "Order (0, 1, 2): MAE = 4.849640950645997\n",
      "Order (0, 1, 3): MAE = 4.887594068144715\n",
      "Order (0, 1, 4): MAE = 4.8507475712347405\n",
      "Order (0, 1, 5): MAE = 4.851787475309322\n",
      "Order (0, 1, 6): MAE = 4.854783054543504\n",
      "Order (1, 0, 0): MAE = 4.8543404262088785\n",
      "Order (1, 0, 1): MAE = 4.854312790291161\n",
      "Order (1, 0, 2): MAE = 4.854315515536729\n",
      "Order (1, 0, 3): MAE = 4.854330759751713\n",
      "Order (1, 0, 4): MAE = 4.854425002018869\n",
      "Order (1, 0, 5): MAE = 4.855049439312957\n",
      "Order (1, 0, 6): MAE = 4.855146514821565\n",
      "Order (1, 1, 0): MAE = 4.849035853146994\n",
      "Order (1, 1, 1): MAE = 4.854107715431265\n",
      "Order (1, 1, 2): MAE = 4.850019300207009\n",
      "Order (1, 1, 3): MAE = 4.854266285594111\n",
      "Order (1, 1, 4): MAE = 4.850664898491629\n",
      "Order (1, 1, 5): MAE = 4.850678609986769\n",
      "Order (1, 1, 6): MAE = 4.8550005867752075\n",
      "Order (2, 0, 0): MAE = 4.854312697967373\n",
      "Order (2, 0, 1): MAE = 4.854295627930284\n",
      "Order (2, 0, 2): MAE = 4.854310973226646\n",
      "Order (2, 0, 3): MAE = 4.854336596643978\n",
      "Order (2, 0, 4): MAE = 4.85474579286419\n",
      "Order (2, 0, 5): MAE = 4.85510501991926\n",
      "Order (2, 0, 6): MAE = 4.855122858801251\n",
      "Order (2, 1, 0): MAE = 4.849285071629934\n",
      "Order (2, 1, 1): MAE = 4.854174616006791\n",
      "Order (2, 1, 2): MAE = 4.854297101694266\n",
      "Order (2, 1, 3): MAE = 4.854284062170011\n"
     ]
    },
    {
     "name": "stderr",
     "output_type": "stream",
     "text": [
      "/Users/alikhan/anaconda3/lib/python3.10/site-packages/statsmodels/base/model.py:604: ConvergenceWarning: Maximum Likelihood optimization failed to converge. Check mle_retvals\n",
      "  warnings.warn(\"Maximum Likelihood optimization failed to \"\n"
     ]
    },
    {
     "name": "stdout",
     "output_type": "stream",
     "text": [
      "Order (2, 1, 4): MAE = 4.850581960665589\n"
     ]
    },
    {
     "name": "stderr",
     "output_type": "stream",
     "text": [
      "/Users/alikhan/anaconda3/lib/python3.10/site-packages/statsmodels/base/model.py:604: ConvergenceWarning: Maximum Likelihood optimization failed to converge. Check mle_retvals\n",
      "  warnings.warn(\"Maximum Likelihood optimization failed to \"\n"
     ]
    },
    {
     "name": "stdout",
     "output_type": "stream",
     "text": [
      "Order (2, 1, 5): MAE = 4.852678444712084\n"
     ]
    },
    {
     "name": "stderr",
     "output_type": "stream",
     "text": [
      "/Users/alikhan/anaconda3/lib/python3.10/site-packages/statsmodels/base/model.py:604: ConvergenceWarning: Maximum Likelihood optimization failed to converge. Check mle_retvals\n",
      "  warnings.warn(\"Maximum Likelihood optimization failed to \"\n"
     ]
    },
    {
     "name": "stdout",
     "output_type": "stream",
     "text": [
      "Order (2, 1, 6): MAE = 4.855037417756411\n",
      "Best Order for Stock ID 190: (1, 1, 0)\n",
      "Best MAE for Stock ID 190: 4.849035853146994\n",
      "\n",
      "Training and evaluating for Stock ID: 191\n",
      "Training Set Date Range: 0 -- 477\n",
      "Testing Set Date Range: 478 -- 480\n",
      "Order (0, 0, 0): MAE = 5.4412382597475935\n",
      "Order (0, 0, 1): MAE = 5.441986972329205\n",
      "Order (0, 0, 2): MAE = 5.445191582723487\n",
      "Order (0, 0, 3): MAE = 5.444288968064798\n",
      "Order (0, 0, 4): MAE = 5.4436123328347295\n",
      "Order (0, 0, 5): MAE = 5.4569262986273515\n",
      "Order (0, 0, 6): MAE = 5.453984983040576\n",
      "Order (0, 1, 0): MAE = 5.61654207029091\n",
      "Order (0, 1, 1): MAE = 5.424605036930423\n",
      "Order (0, 1, 2): MAE = 5.406144770365824\n",
      "Order (0, 1, 3): MAE = 5.5243452798154\n",
      "Order (0, 1, 4): MAE = 5.483057481866986\n",
      "Order (0, 1, 5): MAE = 5.507007250328651\n",
      "Order (0, 1, 6): MAE = 5.453369358266662\n",
      "Order (1, 0, 0): MAE = 5.439729531591031\n",
      "Order (1, 0, 1): MAE = 5.439659034888853\n",
      "Order (1, 0, 2): MAE = 5.4403076584048256\n",
      "Order (1, 0, 3): MAE = 5.44153269368666\n",
      "Order (1, 0, 4): MAE = 5.451884033148441\n",
      "Order (1, 0, 5): MAE = 5.454197580063936\n",
      "Order (1, 0, 6): MAE = 5.454510180046075\n",
      "Order (1, 1, 0): MAE = 5.45039458692176\n",
      "Order (1, 1, 1): MAE = 5.439123990526217\n",
      "Order (1, 1, 2): MAE = 5.436412464433901\n",
      "Order (1, 1, 3): MAE = 5.438935822687289\n",
      "Order (1, 1, 4): MAE = 5.439922531668096\n",
      "Order (1, 1, 5): MAE = 5.448643074168807\n",
      "Order (1, 1, 6): MAE = 5.449826721075948\n",
      "Order (2, 0, 0): MAE = 5.439642227380588\n",
      "Order (2, 0, 1): MAE = 5.439612983614447\n",
      "Order (2, 0, 2): MAE = 5.446980271506914\n",
      "Order (2, 0, 3): MAE = 5.44044474492714\n",
      "Order (2, 0, 4): MAE = 5.4573650177444435\n",
      "Order (2, 0, 5): MAE = 5.453963302257769\n",
      "Order (2, 0, 6): MAE = 5.454070991918041\n",
      "Order (2, 1, 0): MAE = 5.415583846416576\n",
      "Order (2, 1, 1): MAE = 5.43804237380582\n",
      "Order (2, 1, 2): MAE = 5.43867308077781\n"
     ]
    },
    {
     "name": "stderr",
     "output_type": "stream",
     "text": [
      "/Users/alikhan/anaconda3/lib/python3.10/site-packages/statsmodels/base/model.py:604: ConvergenceWarning: Maximum Likelihood optimization failed to converge. Check mle_retvals\n",
      "  warnings.warn(\"Maximum Likelihood optimization failed to \"\n"
     ]
    },
    {
     "name": "stdout",
     "output_type": "stream",
     "text": [
      "Order (2, 1, 3): MAE = 5.439210386613644\n",
      "Order (2, 1, 4): MAE = 5.438584564891723\n",
      "Order (2, 1, 5): MAE = 5.451756722650353\n",
      "Order (2, 1, 6): MAE = 5.4495542669007015\n",
      "Best Order for Stock ID 191: (0, 1, 2)\n",
      "Best MAE for Stock ID 191: 5.406144770365824\n",
      "\n",
      "Training and evaluating for Stock ID: 192\n",
      "Training Set Date Range: 0 -- 477\n",
      "Testing Set Date Range: 478 -- 480\n",
      "Order (0, 0, 0): MAE = 3.518031759727349\n",
      "Order (0, 0, 1): MAE = 3.517549465824885\n",
      "Order (0, 0, 2): MAE = 3.5182154072809158\n",
      "Order (0, 0, 3): MAE = 3.517253244793592\n",
      "Order (0, 0, 4): MAE = 3.516983405669699\n",
      "Order (0, 0, 5): MAE = 3.519197432872184\n",
      "Order (0, 0, 6): MAE = 3.518888076841729\n",
      "Order (0, 1, 0): MAE = 3.416328719515152\n",
      "Order (0, 1, 1): MAE = 3.4249408850500456\n",
      "Order (0, 1, 2): MAE = 3.4237597617181597\n",
      "Order (0, 1, 3): MAE = 3.51830001327817\n",
      "Order (0, 1, 4): MAE = 3.517312720133288\n",
      "Order (0, 1, 5): MAE = 3.5170558771455913\n"
     ]
    },
    {
     "name": "stderr",
     "output_type": "stream",
     "text": [
      "/Users/alikhan/anaconda3/lib/python3.10/site-packages/statsmodels/base/model.py:604: ConvergenceWarning: Maximum Likelihood optimization failed to converge. Check mle_retvals\n",
      "  warnings.warn(\"Maximum Likelihood optimization failed to \"\n"
     ]
    },
    {
     "name": "stdout",
     "output_type": "stream",
     "text": [
      "Order (0, 1, 6): MAE = 3.5193107508462163\n",
      "Order (1, 0, 0): MAE = 3.515064030842404\n",
      "Order (1, 0, 1): MAE = 3.5146251868991905\n",
      "Order (1, 0, 2): MAE = 3.5149830203783403\n",
      "Order (1, 0, 3): MAE = 3.5151690999690492\n",
      "Order (1, 0, 4): MAE = 3.5164275545361625\n",
      "Order (1, 0, 5): MAE = 3.518862820785232\n",
      "Order (1, 0, 6): MAE = 3.519583883036732\n",
      "Order (1, 1, 0): MAE = 3.4223059443367494\n",
      "Order (1, 1, 1): MAE = 3.5153716636966794\n",
      "Order (1, 1, 2): MAE = 3.514850315157316\n",
      "Order (1, 1, 3): MAE = 3.515195552867709\n"
     ]
    },
    {
     "name": "stderr",
     "output_type": "stream",
     "text": [
      "/Users/alikhan/anaconda3/lib/python3.10/site-packages/statsmodels/base/model.py:604: ConvergenceWarning: Maximum Likelihood optimization failed to converge. Check mle_retvals\n",
      "  warnings.warn(\"Maximum Likelihood optimization failed to \"\n"
     ]
    },
    {
     "name": "stdout",
     "output_type": "stream",
     "text": [
      "Order (1, 1, 4): MAE = 3.5180714062068366\n",
      "Order (1, 1, 5): MAE = 3.516589113475808\n",
      "Order (1, 1, 6): MAE = 3.5189651576507877\n",
      "Order (2, 0, 0): MAE = 3.514588703322618\n",
      "Order (2, 0, 1): MAE = 3.515262484026357\n",
      "Order (2, 0, 2): MAE = 3.518949787745049\n",
      "Order (2, 0, 3): MAE = 3.5153354365166516\n",
      "Order (2, 0, 4): MAE = 3.519504265723731\n",
      "Order (2, 0, 5): MAE = 3.5189011272844475\n",
      "Order (2, 0, 6): MAE = 3.51988780529171\n",
      "Order (2, 1, 0): MAE = 3.427343889595805\n",
      "Order (2, 1, 1): MAE = 3.514903208878407\n",
      "Order (2, 1, 2): MAE = 3.515278380915034\n",
      "Order (2, 1, 3): MAE = 3.5144827959079015\n"
     ]
    },
    {
     "name": "stderr",
     "output_type": "stream",
     "text": [
      "/Users/alikhan/anaconda3/lib/python3.10/site-packages/statsmodels/base/model.py:604: ConvergenceWarning: Maximum Likelihood optimization failed to converge. Check mle_retvals\n",
      "  warnings.warn(\"Maximum Likelihood optimization failed to \"\n"
     ]
    },
    {
     "name": "stdout",
     "output_type": "stream",
     "text": [
      "Order (2, 1, 4): MAE = 3.515219260516939\n"
     ]
    },
    {
     "name": "stderr",
     "output_type": "stream",
     "text": [
      "/Users/alikhan/anaconda3/lib/python3.10/site-packages/statsmodels/base/model.py:604: ConvergenceWarning: Maximum Likelihood optimization failed to converge. Check mle_retvals\n",
      "  warnings.warn(\"Maximum Likelihood optimization failed to \"\n"
     ]
    },
    {
     "name": "stdout",
     "output_type": "stream",
     "text": [
      "Order (2, 1, 5): MAE = 3.5203351036329846\n"
     ]
    },
    {
     "name": "stderr",
     "output_type": "stream",
     "text": [
      "/Users/alikhan/anaconda3/lib/python3.10/site-packages/statsmodels/base/model.py:604: ConvergenceWarning: Maximum Likelihood optimization failed to converge. Check mle_retvals\n",
      "  warnings.warn(\"Maximum Likelihood optimization failed to \"\n"
     ]
    },
    {
     "name": "stdout",
     "output_type": "stream",
     "text": [
      "Order (2, 1, 6): MAE = 3.5190184940582823\n",
      "Best Order for Stock ID 192: (0, 1, 0)\n",
      "Best MAE for Stock ID 192: 3.416328719515152\n",
      "\n",
      "Training and evaluating for Stock ID: 193\n",
      "Training Set Date Range: 0 -- 477\n",
      "Testing Set Date Range: 478 -- 480\n",
      "Order (0, 0, 0): MAE = 3.5562518474482263\n",
      "Order (0, 0, 1): MAE = 3.569059757970908\n",
      "Order (0, 0, 2): MAE = 3.584214912579073\n",
      "Order (0, 0, 3): MAE = 3.5871569648332136\n",
      "Order (0, 0, 4): MAE = 3.588435695312333\n",
      "Order (0, 0, 5): MAE = 3.6124332627253346\n",
      "Order (0, 0, 6): MAE = 3.610457592002066\n",
      "Order (0, 1, 0): MAE = 8.413112505284847\n",
      "Order (0, 1, 1): MAE = 7.928596430414564\n",
      "Order (0, 1, 2): MAE = 7.784790612427318\n",
      "Order (0, 1, 3): MAE = 6.679472079007488\n",
      "Order (0, 1, 4): MAE = 4.146481858507656\n",
      "Order (0, 1, 5): MAE = 3.5854994065030175\n",
      "Order (0, 1, 6): MAE = 3.6125096391262916\n",
      "Order (1, 0, 0): MAE = 3.6196015603353024\n",
      "Order (1, 0, 1): MAE = 3.618792734921896\n",
      "Order (1, 0, 2): MAE = 3.61668719144919\n",
      "Order (1, 0, 3): MAE = 3.61486142196681\n",
      "Order (1, 0, 4): MAE = 3.6190649960744756\n",
      "Order (1, 0, 5): MAE = 3.6104753226548705\n"
     ]
    },
    {
     "name": "stderr",
     "output_type": "stream",
     "text": [
      "/Users/alikhan/anaconda3/lib/python3.10/site-packages/statsmodels/base/model.py:604: ConvergenceWarning: Maximum Likelihood optimization failed to converge. Check mle_retvals\n",
      "  warnings.warn(\"Maximum Likelihood optimization failed to \"\n"
     ]
    },
    {
     "name": "stdout",
     "output_type": "stream",
     "text": [
      "Order (1, 0, 6): MAE = 3.6141838998050426\n",
      "Order (1, 1, 0): MAE = 7.988164897422321\n",
      "Order (1, 1, 1): MAE = 3.6196742990508013\n",
      "Order (1, 1, 2): MAE = 3.6188139275871825\n",
      "Order (1, 1, 3): MAE = 3.616774618320495\n"
     ]
    },
    {
     "name": "stderr",
     "output_type": "stream",
     "text": [
      "/Users/alikhan/anaconda3/lib/python3.10/site-packages/statsmodels/base/model.py:604: ConvergenceWarning: Maximum Likelihood optimization failed to converge. Check mle_retvals\n",
      "  warnings.warn(\"Maximum Likelihood optimization failed to \"\n"
     ]
    },
    {
     "name": "stdout",
     "output_type": "stream",
     "text": [
      "Order (1, 1, 4): MAE = 3.6149908521701217\n",
      "Order (1, 1, 5): MAE = 3.6191692891221177\n"
     ]
    },
    {
     "name": "stderr",
     "output_type": "stream",
     "text": [
      "/Users/alikhan/anaconda3/lib/python3.10/site-packages/statsmodels/base/model.py:604: ConvergenceWarning: Maximum Likelihood optimization failed to converge. Check mle_retvals\n",
      "  warnings.warn(\"Maximum Likelihood optimization failed to \"\n"
     ]
    },
    {
     "name": "stdout",
     "output_type": "stream",
     "text": [
      "Order (1, 1, 6): MAE = 3.6105512754267512\n",
      "Order (2, 0, 0): MAE = 3.618633690258767\n",
      "Order (2, 0, 1): MAE = 3.6179095577961995\n",
      "Order (2, 0, 2): MAE = 3.610563880213054\n",
      "Order (2, 0, 3): MAE = 3.6152407395085167\n",
      "Order (2, 0, 4): MAE = 3.604741508479776\n",
      "Order (2, 0, 5): MAE = 3.610847715033264\n",
      "Order (2, 0, 6): MAE = 3.612965077762074\n",
      "Order (2, 1, 0): MAE = 7.852644764938359\n",
      "Order (2, 1, 1): MAE = 3.6187223006148637\n"
     ]
    },
    {
     "name": "stderr",
     "output_type": "stream",
     "text": [
      "/Users/alikhan/anaconda3/lib/python3.10/site-packages/statsmodels/base/model.py:604: ConvergenceWarning: Maximum Likelihood optimization failed to converge. Check mle_retvals\n",
      "  warnings.warn(\"Maximum Likelihood optimization failed to \"\n"
     ]
    },
    {
     "name": "stdout",
     "output_type": "stream",
     "text": [
      "Order (2, 1, 2): MAE = 3.617935199038217\n",
      "Order (2, 1, 3): MAE = 3.619046777777446\n"
     ]
    },
    {
     "name": "stderr",
     "output_type": "stream",
     "text": [
      "/Users/alikhan/anaconda3/lib/python3.10/site-packages/statsmodels/base/model.py:604: ConvergenceWarning: Maximum Likelihood optimization failed to converge. Check mle_retvals\n",
      "  warnings.warn(\"Maximum Likelihood optimization failed to \"\n"
     ]
    },
    {
     "name": "stdout",
     "output_type": "stream",
     "text": [
      "Order (2, 1, 4): MAE = 3.6150547063588876\n"
     ]
    },
    {
     "name": "stderr",
     "output_type": "stream",
     "text": [
      "/Users/alikhan/anaconda3/lib/python3.10/site-packages/statsmodels/base/model.py:604: ConvergenceWarning: Maximum Likelihood optimization failed to converge. Check mle_retvals\n",
      "  warnings.warn(\"Maximum Likelihood optimization failed to \"\n"
     ]
    },
    {
     "name": "stdout",
     "output_type": "stream",
     "text": [
      "Order (2, 1, 5): MAE = 3.6150385258042963\n"
     ]
    },
    {
     "name": "stderr",
     "output_type": "stream",
     "text": [
      "/Users/alikhan/anaconda3/lib/python3.10/site-packages/statsmodels/base/model.py:604: ConvergenceWarning: Maximum Likelihood optimization failed to converge. Check mle_retvals\n",
      "  warnings.warn(\"Maximum Likelihood optimization failed to \"\n"
     ]
    },
    {
     "name": "stdout",
     "output_type": "stream",
     "text": [
      "Order (2, 1, 6): MAE = 3.610873638155786\n",
      "Best Order for Stock ID 193: (0, 0, 0)\n",
      "Best MAE for Stock ID 193: 3.5562518474482263\n",
      "\n",
      "Training and evaluating for Stock ID: 194\n",
      "Training Set Date Range: 0 -- 477\n",
      "Testing Set Date Range: 478 -- 480\n",
      "Order (0, 0, 0): MAE = 6.344951533262083\n",
      "Order (0, 0, 1): MAE = 6.347698572259158\n",
      "Order (0, 0, 2): MAE = 6.358987095906338\n",
      "Order (0, 0, 3): MAE = 6.357917764586064\n",
      "Order (0, 0, 4): MAE = 6.369591053058757\n",
      "Order (0, 0, 5): MAE = 6.380514882878978\n",
      "Order (0, 0, 6): MAE = 6.379264523230715\n",
      "Order (0, 1, 0): MAE = 8.174025664781817\n",
      "Order (0, 1, 1): MAE = 8.010477730176612\n",
      "Order (0, 1, 2): MAE = 7.880247342260462\n",
      "Order (0, 1, 3): MAE = 7.875831307672368\n",
      "Order (0, 1, 4): MAE = 6.361991425409862\n",
      "Order (0, 1, 5): MAE = 6.369585775268421\n",
      "Order (0, 1, 6): MAE = 6.380521362964674\n",
      "Order (1, 0, 0): MAE = 6.3781176580138865\n",
      "Order (1, 0, 1): MAE = 6.376718622507618\n",
      "Order (1, 0, 2): MAE = 6.376650423133416\n",
      "Order (1, 0, 3): MAE = 6.378607795524939\n",
      "Order (1, 0, 4): MAE = 6.392278546030418\n",
      "Order (1, 0, 5): MAE = 6.37940467663259\n",
      "Order (1, 0, 6): MAE = 6.376626189716192\n",
      "Order (1, 1, 0): MAE = 8.038108889157254\n",
      "Order (1, 1, 1): MAE = 6.379736935426604\n",
      "Order (1, 1, 2): MAE = 6.376882493696355\n",
      "Order (1, 1, 3): MAE = 6.376959691722129\n",
      "Order (1, 1, 4): MAE = 6.3480412172386425\n",
      "Order (1, 1, 5): MAE = 6.39235847985365\n"
     ]
    },
    {
     "name": "stderr",
     "output_type": "stream",
     "text": [
      "/Users/alikhan/anaconda3/lib/python3.10/site-packages/statsmodels/base/model.py:604: ConvergenceWarning: Maximum Likelihood optimization failed to converge. Check mle_retvals\n",
      "  warnings.warn(\"Maximum Likelihood optimization failed to \"\n"
     ]
    },
    {
     "name": "stdout",
     "output_type": "stream",
     "text": [
      "Order (1, 1, 6): MAE = 6.37940842744033\n",
      "Order (2, 0, 0): MAE = 6.376444144659543\n",
      "Order (2, 0, 1): MAE = 6.374258434505122\n",
      "Order (2, 0, 2): MAE = 6.368227667524511\n",
      "Order (2, 0, 3): MAE = 6.3819278291683\n",
      "Order (2, 0, 4): MAE = 6.38181490936867\n",
      "Order (2, 0, 5): MAE = 6.378447444407074\n"
     ]
    },
    {
     "name": "stderr",
     "output_type": "stream",
     "text": [
      "/Users/alikhan/anaconda3/lib/python3.10/site-packages/statsmodels/base/model.py:604: ConvergenceWarning: Maximum Likelihood optimization failed to converge. Check mle_retvals\n",
      "  warnings.warn(\"Maximum Likelihood optimization failed to \"\n"
     ]
    },
    {
     "name": "stdout",
     "output_type": "stream",
     "text": [
      "Order (2, 0, 6): MAE = 6.3758186449333625\n",
      "Order (2, 1, 0): MAE = 7.921507398282799\n",
      "Order (2, 1, 1): MAE = 6.37664093131268\n",
      "Order (2, 1, 2): MAE = 6.3742613457953095\n"
     ]
    },
    {
     "name": "stderr",
     "output_type": "stream",
     "text": [
      "/Users/alikhan/anaconda3/lib/python3.10/site-packages/statsmodels/base/model.py:604: ConvergenceWarning: Maximum Likelihood optimization failed to converge. Check mle_retvals\n",
      "  warnings.warn(\"Maximum Likelihood optimization failed to \"\n"
     ]
    },
    {
     "name": "stdout",
     "output_type": "stream",
     "text": [
      "Order (2, 1, 3): MAE = 6.37434558274957\n",
      "Order (2, 1, 4): MAE = 6.373490980422667\n",
      "Order (2, 1, 5): MAE = 6.373514310041923\n"
     ]
    },
    {
     "name": "stderr",
     "output_type": "stream",
     "text": [
      "/Users/alikhan/anaconda3/lib/python3.10/site-packages/statsmodels/base/model.py:604: ConvergenceWarning: Maximum Likelihood optimization failed to converge. Check mle_retvals\n",
      "  warnings.warn(\"Maximum Likelihood optimization failed to \"\n"
     ]
    },
    {
     "name": "stdout",
     "output_type": "stream",
     "text": [
      "Order (2, 1, 6): MAE = 6.378565191354312\n",
      "Best Order for Stock ID 194: (0, 0, 0)\n",
      "Best MAE for Stock ID 194: 6.344951533262083\n",
      "\n",
      "Training and evaluating for Stock ID: 195\n",
      "Training Set Date Range: 0 -- 477\n",
      "Testing Set Date Range: 478 -- 480\n",
      "Order (0, 0, 0): MAE = 3.702598115064379\n",
      "Order (0, 0, 1): MAE = 3.7066107724978057\n",
      "Order (0, 0, 2): MAE = 3.7155467822001635\n",
      "Order (0, 0, 3): MAE = 3.716694294245225\n",
      "Order (0, 0, 4): MAE = 3.7188610210577697\n",
      "Order (0, 0, 5): MAE = 3.730924165519083\n",
      "Order (0, 0, 6): MAE = 3.7308138854601975\n",
      "Order (0, 1, 0): MAE = 4.888884954339394\n",
      "Order (0, 1, 1): MAE = 4.741881080904743\n",
      "Order (0, 1, 2): MAE = 4.505879562602982\n",
      "Order (0, 1, 3): MAE = 4.037279052356529\n",
      "Order (0, 1, 4): MAE = 3.7306376360742766\n",
      "Order (0, 1, 5): MAE = 3.688937121559488\n",
      "Order (0, 1, 6): MAE = 3.6959193769836096\n",
      "Order (1, 0, 0): MAE = 3.723122198227668\n",
      "Order (1, 0, 1): MAE = 3.7236655092254316\n",
      "Order (1, 0, 2): MAE = 3.724588868996289\n",
      "Order (1, 0, 3): MAE = 3.725765713563242\n",
      "Order (1, 0, 4): MAE = 3.7310288652113592\n",
      "Order (1, 0, 5): MAE = 3.7308203539587246\n",
      "Order (1, 0, 6): MAE = 3.7310158739533543\n",
      "Order (1, 1, 0): MAE = 4.765845084829617\n",
      "Order (1, 1, 1): MAE = 3.6998285394705466\n",
      "Order (1, 1, 2): MAE = 3.6861214540046645\n",
      "Order (1, 1, 3): MAE = 3.696786917063403\n",
      "Order (1, 1, 4): MAE = 3.6971861379896787\n",
      "Order (1, 1, 5): MAE = 3.700897738006183\n",
      "Order (1, 1, 6): MAE = 3.695731610211735\n",
      "Order (2, 0, 0): MAE = 3.7238484177081537\n",
      "Order (2, 0, 1): MAE = 3.7326123788687147\n",
      "Order (2, 0, 2): MAE = 3.733015163115286\n",
      "Order (2, 0, 3): MAE = 3.7272174574153474\n",
      "Order (2, 0, 4): MAE = 3.729361995220892\n",
      "Order (2, 0, 5): MAE = 3.7302408636224174\n",
      "Order (2, 0, 6): MAE = 3.73106639639168\n",
      "Order (2, 1, 0): MAE = 4.566305668625946\n",
      "Order (2, 1, 1): MAE = 3.696931181906765\n",
      "Order (2, 1, 2): MAE = 5.005653750784042\n",
      "Order (2, 1, 3): MAE = 3.6973532782488507\n",
      "Order (2, 1, 4): MAE = 3.6961018448651464\n",
      "Order (2, 1, 5): MAE = 3.688900760618405\n",
      "Order (2, 1, 6): MAE = 3.694376751818455\n",
      "Best Order for Stock ID 195: (1, 1, 2)\n",
      "Best MAE for Stock ID 195: 3.6861214540046645\n",
      "\n",
      "Training and evaluating for Stock ID: 196\n",
      "Training Set Date Range: 0 -- 477\n",
      "Testing Set Date Range: 478 -- 480\n",
      "Order (0, 0, 0): MAE = 4.022710777627935\n",
      "Order (0, 0, 1): MAE = 4.024370520737885\n",
      "Order (0, 0, 2): MAE = 4.024193571654544\n",
      "Order (0, 0, 3): MAE = 4.029230827784823\n",
      "Order (0, 0, 4): MAE = 4.0368849569514405\n",
      "Order (0, 0, 5): MAE = 4.029057652303054\n",
      "Order (0, 0, 6): MAE = 4.028760334145067\n",
      "Order (0, 1, 0): MAE = 7.479465250957575\n",
      "Order (0, 1, 1): MAE = 7.632974075132893\n",
      "Order (0, 1, 2): MAE = 7.815158135538631\n",
      "Order (0, 1, 3): MAE = 7.253135841977144\n",
      "Order (0, 1, 4): MAE = 4.111170074254228\n",
      "Order (0, 1, 5): MAE = 4.1105646533595435\n",
      "Order (0, 1, 6): MAE = 4.030037877377275\n",
      "Order (1, 0, 0): MAE = 4.065165468833557\n",
      "Order (1, 0, 1): MAE = 4.058340946787872\n",
      "Order (1, 0, 2): MAE = 4.053012263035762\n",
      "Order (1, 0, 3): MAE = 4.050267180535499\n",
      "Order (1, 0, 4): MAE = 4.043750028352266\n",
      "Order (1, 0, 5): MAE = 4.028803704109278\n",
      "Order (1, 0, 6): MAE = 4.0292898366154\n",
      "Order (1, 1, 0): MAE = 7.606963344560504\n",
      "Order (1, 1, 1): MAE = 4.065857153731357\n",
      "Order (1, 1, 2): MAE = 4.061431876700062\n",
      "Order (1, 1, 3): MAE = 4.053428080371629\n",
      "Order (1, 1, 4): MAE = 4.1458005851558575\n",
      "Order (1, 1, 5): MAE = 4.044012751428149\n",
      "Order (1, 1, 6): MAE = 4.030084103145739\n",
      "Order (2, 0, 0): MAE = 4.0567130223679575\n",
      "Order (2, 0, 1): MAE = 4.05843838175477\n",
      "Order (2, 0, 2): MAE = 4.040896238283753\n",
      "Order (2, 0, 3): MAE = 4.036471276421659\n",
      "Order (2, 0, 4): MAE = 4.031641328516556\n",
      "Order (2, 0, 5): MAE = 4.02863997036274\n",
      "Order (2, 0, 6): MAE = 4.029109524698244\n",
      "Order (2, 1, 0): MAE = 7.768580743543299\n",
      "Order (2, 1, 1): MAE = 4.057192377634546\n",
      "Order (2, 1, 2): MAE = 4.058412839828656\n",
      "Order (2, 1, 3): MAE = 4.057821513458656\n",
      "Order (2, 1, 4): MAE = 4.0485622689629865\n",
      "Order (2, 1, 5): MAE = 4.048368868537149\n",
      "Order (2, 1, 6): MAE = 4.030468501215297\n",
      "Best Order for Stock ID 196: (0, 0, 0)\n",
      "Best MAE for Stock ID 196: 4.022710777627935\n",
      "\n",
      "Training and evaluating for Stock ID: 197\n",
      "Training Set Date Range: 0 -- 477\n",
      "Testing Set Date Range: 478 -- 480\n",
      "Order (0, 0, 0): MAE = 5.410672721167187\n",
      "Order (0, 0, 1): MAE = 5.411042810596437\n",
      "Order (0, 0, 2): MAE = 5.41093235968208\n",
      "Order (0, 0, 3): MAE = 5.4112315658274515\n",
      "Order (0, 0, 4): MAE = 5.411003286518474\n",
      "Order (0, 0, 5): MAE = 5.412424582843108\n",
      "Order (0, 0, 6): MAE = 5.4125999649589165\n",
      "Order (0, 1, 0): MAE = 5.408734996375757\n",
      "Order (0, 1, 1): MAE = 5.409610496211327\n",
      "Order (0, 1, 2): MAE = 5.410227112950429\n",
      "Order (0, 1, 3): MAE = 5.431905652404889\n",
      "Order (0, 1, 4): MAE = 5.540632605932299\n",
      "Order (0, 1, 5): MAE = 5.460630990121799\n",
      "Order (0, 1, 6): MAE = 5.412410130390697\n",
      "Order (1, 0, 0): MAE = 5.410626922408138\n",
      "Order (1, 0, 1): MAE = 5.410636472463653\n",
      "Order (1, 0, 2): MAE = 5.410683135346078\n",
      "Order (1, 0, 3): MAE = 5.410747860384859\n",
      "Order (1, 0, 4): MAE = 5.411395020701007\n",
      "Order (1, 0, 5): MAE = 5.412550644511508\n",
      "Order (1, 0, 6): MAE = 5.4126582260808345\n",
      "Order (1, 1, 0): MAE = 5.409414357237584\n",
      "Order (1, 1, 1): MAE = 5.410647870598959\n",
      "Order (1, 1, 2): MAE = 5.410643212842042\n",
      "Order (1, 1, 3): MAE = 5.410694795508979\n",
      "Order (1, 1, 4): MAE = 5.600832763488642\n",
      "Order (1, 1, 5): MAE = 5.411381645587564\n"
     ]
    },
    {
     "name": "stderr",
     "output_type": "stream",
     "text": [
      "/Users/alikhan/anaconda3/lib/python3.10/site-packages/statsmodels/base/model.py:604: ConvergenceWarning: Maximum Likelihood optimization failed to converge. Check mle_retvals\n",
      "  warnings.warn(\"Maximum Likelihood optimization failed to \"\n"
     ]
    },
    {
     "name": "stdout",
     "output_type": "stream",
     "text": [
      "Order (1, 1, 6): MAE = 5.412539139434846\n",
      "Order (2, 0, 0): MAE = 5.410639118631387\n",
      "Order (2, 0, 1): MAE = 5.410546989762088\n",
      "Order (2, 0, 2): MAE = 5.410779218752602\n",
      "Order (2, 0, 3): MAE = 5.4107068055419845\n",
      "Order (2, 0, 4): MAE = 5.412001238381638\n",
      "Order (2, 0, 5): MAE = 5.412631843442341\n",
      "Order (2, 0, 6): MAE = 5.412545519405044\n",
      "Order (2, 1, 0): MAE = 5.409961951624312\n",
      "Order (2, 1, 1): MAE = 5.4106933356640585\n",
      "Order (2, 1, 2): MAE = 5.410652896281097\n"
     ]
    },
    {
     "name": "stderr",
     "output_type": "stream",
     "text": [
      "/Users/alikhan/anaconda3/lib/python3.10/site-packages/statsmodels/base/model.py:604: ConvergenceWarning: Maximum Likelihood optimization failed to converge. Check mle_retvals\n",
      "  warnings.warn(\"Maximum Likelihood optimization failed to \"\n"
     ]
    },
    {
     "name": "stdout",
     "output_type": "stream",
     "text": [
      "Order (2, 1, 3): MAE = 5.410626902445939\n"
     ]
    },
    {
     "name": "stderr",
     "output_type": "stream",
     "text": [
      "/Users/alikhan/anaconda3/lib/python3.10/site-packages/statsmodels/base/model.py:604: ConvergenceWarning: Maximum Likelihood optimization failed to converge. Check mle_retvals\n",
      "  warnings.warn(\"Maximum Likelihood optimization failed to \"\n"
     ]
    },
    {
     "name": "stdout",
     "output_type": "stream",
     "text": [
      "Order (2, 1, 4): MAE = 5.410804313628241\n"
     ]
    },
    {
     "name": "stderr",
     "output_type": "stream",
     "text": [
      "/Users/alikhan/anaconda3/lib/python3.10/site-packages/statsmodels/base/model.py:604: ConvergenceWarning: Maximum Likelihood optimization failed to converge. Check mle_retvals\n",
      "  warnings.warn(\"Maximum Likelihood optimization failed to \"\n"
     ]
    },
    {
     "name": "stdout",
     "output_type": "stream",
     "text": [
      "Order (2, 1, 5): MAE = 5.4122053170144815\n"
     ]
    },
    {
     "name": "stderr",
     "output_type": "stream",
     "text": [
      "/Users/alikhan/anaconda3/lib/python3.10/site-packages/statsmodels/base/model.py:604: ConvergenceWarning: Maximum Likelihood optimization failed to converge. Check mle_retvals\n",
      "  warnings.warn(\"Maximum Likelihood optimization failed to \"\n"
     ]
    },
    {
     "name": "stdout",
     "output_type": "stream",
     "text": [
      "Order (2, 1, 6): MAE = 5.412627751142487\n",
      "Best Order for Stock ID 197: (0, 1, 0)\n",
      "Best MAE for Stock ID 197: 5.408734996375757\n",
      "\n",
      "Training and evaluating for Stock ID: 198\n",
      "Training Set Date Range: 0 -- 477\n",
      "Testing Set Date Range: 478 -- 480\n",
      "Order (0, 0, 0): MAE = 3.662390347788036\n",
      "Order (0, 0, 1): MAE = 3.662280106828753\n",
      "Order (0, 0, 2): MAE = 3.6626985016541775\n",
      "Order (0, 0, 3): MAE = 3.662892278604838\n",
      "Order (0, 0, 4): MAE = 3.6645419478680883\n",
      "Order (0, 0, 5): MAE = 3.663710968002559\n",
      "Order (0, 0, 6): MAE = 3.6637143333451503\n",
      "Order (0, 1, 0): MAE = 4.056016578418181\n",
      "Order (0, 1, 1): MAE = 4.1238426697915855\n",
      "Order (0, 1, 2): MAE = 4.105393667804902\n",
      "Order (0, 1, 3): MAE = 3.9579782217583293\n",
      "Order (0, 1, 4): MAE = 3.7579281952087853\n",
      "Order (0, 1, 5): MAE = 3.7531046201701135\n",
      "Order (0, 1, 6): MAE = 3.7051370497188802\n",
      "Order (1, 0, 0): MAE = 3.6681544775905803\n",
      "Order (1, 0, 1): MAE = 3.6672112361633054\n",
      "Order (1, 0, 2): MAE = 3.6668630053102613\n",
      "Order (1, 0, 3): MAE = 3.668055370787244\n",
      "Order (1, 0, 4): MAE = 3.66776707377649\n",
      "Order (1, 0, 5): MAE = 3.663713965873467\n",
      "Order (1, 0, 6): MAE = 3.6635910454698304\n",
      "Order (1, 1, 0): MAE = 4.120394867779573\n",
      "Order (1, 1, 1): MAE = 3.698784899738774\n",
      "Order (1, 1, 2): MAE = 3.6990933072529\n",
      "Order (1, 1, 3): MAE = 3.7016131029234836\n",
      "Order (1, 1, 4): MAE = 3.703213082871585\n",
      "Order (1, 1, 5): MAE = 3.7039365825708437\n",
      "Order (1, 1, 6): MAE = 3.7056718889879554\n",
      "Order (2, 0, 0): MAE = 3.6670507599819615\n",
      "Order (2, 0, 1): MAE = 3.6670266496866386\n",
      "Order (2, 0, 2): MAE = 3.6662975743890653\n",
      "Order (2, 0, 3): MAE = 3.666543824323079\n",
      "Order (2, 0, 4): MAE = 3.6648799671983068\n",
      "Order (2, 0, 5): MAE = 3.663697066611632\n",
      "Order (2, 0, 6): MAE = 3.6636416625480317\n",
      "Order (2, 1, 0): MAE = 4.111164010351762\n",
      "Order (2, 1, 1): MAE = 3.6995268665170977\n",
      "Order (2, 1, 2): MAE = 3.698820495189609\n",
      "Order (2, 1, 3): MAE = 3.698402430149733\n",
      "Order (2, 1, 4): MAE = 3.7014813796003567\n",
      "Order (2, 1, 5): MAE = 3.7013652140753885\n",
      "Order (2, 1, 6): MAE = 3.7063736032234016\n",
      "Best Order for Stock ID 198: (0, 0, 1)\n",
      "Best MAE for Stock ID 198: 3.662280106828753\n",
      "\n",
      "Training and evaluating for Stock ID: 78\n",
      "Training Set Date Range: 4 -- 477\n",
      "Testing Set Date Range: 478 -- 480\n",
      "Order (0, 0, 0): MAE = 5.734958688061438\n",
      "Order (0, 0, 1): MAE = 5.7399617014796815\n",
      "Order (0, 0, 2): MAE = 5.763455333063637\n",
      "Order (0, 0, 3): MAE = 5.7653997532921375\n",
      "Order (0, 0, 4): MAE = 5.7794368811376\n",
      "Order (0, 0, 5): MAE = 5.829346898176599\n",
      "Order (0, 0, 6): MAE = 5.829022067262847\n",
      "Order (0, 1, 0): MAE = 12.01135865421212\n",
      "Order (0, 1, 1): MAE = 11.893512573182738\n",
      "Order (0, 1, 2): MAE = 11.594838640904127\n",
      "Order (0, 1, 3): MAE = 9.150213849252157\n",
      "Order (0, 1, 4): MAE = 5.769187780405635\n",
      "Order (0, 1, 5): MAE = 5.801988745993616\n",
      "Order (0, 1, 6): MAE = 5.844080412823526\n",
      "Order (1, 0, 0): MAE = 5.815390159321393\n",
      "Order (1, 0, 1): MAE = 5.807571658553896\n",
      "Order (1, 0, 2): MAE = 5.807476994283379\n",
      "Order (1, 0, 3): MAE = 5.813808787011387\n",
      "Order (1, 0, 4): MAE = 5.842651727992911\n",
      "Order (1, 0, 5): MAE = 5.829034623674577\n",
      "Order (1, 0, 6): MAE = 5.828345605775862\n",
      "Order (1, 1, 0): MAE = 11.914815582391851\n",
      "Order (1, 1, 1): MAE = 5.817302335898077\n",
      "Order (1, 1, 2): MAE = 5.808766278694797\n",
      "Order (1, 1, 3): MAE = 5.811073460001362\n",
      "Order (1, 1, 4): MAE = 5.817913438028046\n",
      "Order (1, 1, 5): MAE = 5.847895432082751\n",
      "Order (1, 1, 6): MAE = 5.843869025150273\n",
      "Order (2, 0, 0): MAE = 5.806053145622104\n",
      "Order (2, 0, 1): MAE = 5.805671246376357\n",
      "Order (2, 0, 2): MAE = 5.817572665714048\n",
      "Order (2, 0, 3): MAE = 5.831873914091912\n",
      "Order (2, 0, 4): MAE = 5.831141367445046\n",
      "Order (2, 0, 5): MAE = 5.827785603613222\n",
      "Order (2, 0, 6): MAE = 5.8285751048053775\n",
      "Order (2, 1, 0): MAE = 11.676476796362454\n",
      "Order (2, 1, 1): MAE = 5.810679985763669\n",
      "Order (2, 1, 2): MAE = 5.806732528572559\n",
      "Order (2, 1, 3): MAE = 5.804131262693243\n"
     ]
    },
    {
     "name": "stderr",
     "output_type": "stream",
     "text": [
      "/Users/alikhan/anaconda3/lib/python3.10/site-packages/statsmodels/base/model.py:604: ConvergenceWarning: Maximum Likelihood optimization failed to converge. Check mle_retvals\n",
      "  warnings.warn(\"Maximum Likelihood optimization failed to \"\n"
     ]
    },
    {
     "name": "stdout",
     "output_type": "stream",
     "text": [
      "Order (2, 1, 4): MAE = 5.808610225162311\n",
      "Order (2, 1, 5): MAE = 5.855484064247811\n",
      "Order (2, 1, 6): MAE = 5.843010423800937\n",
      "Best Order for Stock ID 78: (0, 0, 0)\n",
      "Best MAE for Stock ID 78: 5.734958688061438\n",
      "\n",
      "Training and evaluating for Stock ID: 69\n",
      "Training Set Date Range: 37 -- 477\n",
      "Testing Set Date Range: 478 -- 480\n",
      "Order (0, 0, 0): MAE = 8.876081870463693\n",
      "Order (0, 0, 1): MAE = 8.875684892382045\n",
      "Order (0, 0, 2): MAE = 8.879005472734418\n",
      "Order (0, 0, 3): MAE = 8.87788326865508\n",
      "Order (0, 0, 4): MAE = 8.883756150929173\n",
      "Order (0, 0, 5): MAE = 8.90175245896201\n",
      "Order (0, 0, 6): MAE = 8.901961395620686\n",
      "Order (0, 1, 0): MAE = 10.273525242993937\n",
      "Order (0, 1, 1): MAE = 10.347320724534509\n",
      "Order (0, 1, 2): MAE = 10.320102360759526\n",
      "Order (0, 1, 3): MAE = 10.28503857554055\n",
      "Order (0, 1, 4): MAE = 8.79610706033758\n",
      "Order (0, 1, 5): MAE = 8.806864006856275\n",
      "Order (0, 1, 6): MAE = 8.901648429260106\n",
      "Order (1, 0, 0): MAE = 8.881134792180497\n",
      "Order (1, 0, 1): MAE = 8.880787036891883\n",
      "Order (1, 0, 2): MAE = 8.881338647792612\n",
      "Order (1, 0, 3): MAE = 8.885099600251671\n",
      "Order (1, 0, 4): MAE = 8.894380634305247\n",
      "Order (1, 0, 5): MAE = 8.901987626802613\n",
      "Order (1, 0, 6): MAE = 8.901583644712966\n",
      "Order (1, 1, 0): MAE = 10.355641788903833\n",
      "Order (1, 1, 1): MAE = 8.869997027199192\n",
      "Order (1, 1, 2): MAE = 8.875381779543948\n",
      "Order (1, 1, 3): MAE = 8.880931834603178\n"
     ]
    },
    {
     "name": "stderr",
     "output_type": "stream",
     "text": [
      "/Users/alikhan/anaconda3/lib/python3.10/site-packages/statsmodels/base/model.py:604: ConvergenceWarning: Maximum Likelihood optimization failed to converge. Check mle_retvals\n",
      "  warnings.warn(\"Maximum Likelihood optimization failed to \"\n"
     ]
    },
    {
     "name": "stdout",
     "output_type": "stream",
     "text": [
      "Order (1, 1, 4): MAE = 8.885012218041478\n"
     ]
    },
    {
     "name": "stderr",
     "output_type": "stream",
     "text": [
      "/Users/alikhan/anaconda3/lib/python3.10/site-packages/statsmodels/base/model.py:604: ConvergenceWarning: Maximum Likelihood optimization failed to converge. Check mle_retvals\n",
      "  warnings.warn(\"Maximum Likelihood optimization failed to \"\n"
     ]
    },
    {
     "name": "stdout",
     "output_type": "stream",
     "text": [
      "Order (1, 1, 5): MAE = 8.894182722748402\n",
      "Order (1, 1, 6): MAE = 8.901887617803641\n",
      "Order (2, 0, 0): MAE = 8.880711572471581\n",
      "Order (2, 0, 1): MAE = 8.881179434759703\n",
      "Order (2, 0, 2): MAE = 8.886800637478812\n",
      "Order (2, 0, 3): MAE = 8.89361108180006\n",
      "Order (2, 0, 4): MAE = 8.894080239099289\n",
      "Order (2, 0, 5): MAE = 8.901423597264854\n",
      "Order (2, 0, 6): MAE = 8.90158590866398\n",
      "Order (2, 1, 0): MAE = 10.334310879346866\n",
      "Order (2, 1, 1): MAE = 8.875109240108948\n",
      "Order (2, 1, 2): MAE = 8.881000498125701\n"
     ]
    },
    {
     "name": "stderr",
     "output_type": "stream",
     "text": [
      "/Users/alikhan/anaconda3/lib/python3.10/site-packages/statsmodels/base/model.py:604: ConvergenceWarning: Maximum Likelihood optimization failed to converge. Check mle_retvals\n",
      "  warnings.warn(\"Maximum Likelihood optimization failed to \"\n"
     ]
    },
    {
     "name": "stdout",
     "output_type": "stream",
     "text": [
      "Order (2, 1, 3): MAE = 8.88133465477856\n"
     ]
    },
    {
     "name": "stderr",
     "output_type": "stream",
     "text": [
      "/Users/alikhan/anaconda3/lib/python3.10/site-packages/statsmodels/base/model.py:604: ConvergenceWarning: Maximum Likelihood optimization failed to converge. Check mle_retvals\n",
      "  warnings.warn(\"Maximum Likelihood optimization failed to \"\n"
     ]
    },
    {
     "name": "stdout",
     "output_type": "stream",
     "text": [
      "Order (2, 1, 4): MAE = 8.882380243140187\n"
     ]
    },
    {
     "name": "stderr",
     "output_type": "stream",
     "text": [
      "/Users/alikhan/anaconda3/lib/python3.10/site-packages/statsmodels/base/model.py:604: ConvergenceWarning: Maximum Likelihood optimization failed to converge. Check mle_retvals\n",
      "  warnings.warn(\"Maximum Likelihood optimization failed to \"\n"
     ]
    },
    {
     "name": "stdout",
     "output_type": "stream",
     "text": [
      "Order (2, 1, 5): MAE = 8.863844786698094\n"
     ]
    },
    {
     "name": "stderr",
     "output_type": "stream",
     "text": [
      "/Users/alikhan/anaconda3/lib/python3.10/site-packages/statsmodels/base/model.py:604: ConvergenceWarning: Maximum Likelihood optimization failed to converge. Check mle_retvals\n",
      "  warnings.warn(\"Maximum Likelihood optimization failed to \"\n"
     ]
    },
    {
     "name": "stdout",
     "output_type": "stream",
     "text": [
      "Order (2, 1, 6): MAE = 8.901192423343279\n",
      "Best Order for Stock ID 69: (0, 1, 4)\n",
      "Best MAE for Stock ID 69: 8.79610706033758\n",
      "\n",
      "Training and evaluating for Stock ID: 156\n",
      "Training Set Date Range: 37 -- 477\n",
      "Testing Set Date Range: 478 -- 480\n",
      "Order (0, 0, 0): MAE = 11.458130385724735\n",
      "Order (0, 0, 1): MAE = 11.464308405187055\n",
      "Order (0, 0, 2): MAE = 11.464018286290218\n",
      "Order (0, 0, 3): MAE = 11.464043035601694\n",
      "Order (0, 0, 4): MAE = 11.458813914498398\n",
      "Order (0, 0, 5): MAE = 11.462724001581423\n",
      "Order (0, 0, 6): MAE = 11.461680915510492\n",
      "Order (0, 1, 0): MAE = 10.456666813848486\n",
      "Order (0, 1, 1): MAE = 10.394468579120435\n",
      "Order (0, 1, 2): MAE = 10.394469771416736\n",
      "Order (0, 1, 3): MAE = 10.50908648711493\n",
      "Order (0, 1, 4): MAE = 10.777609865559914\n",
      "Order (0, 1, 5): MAE = 10.590084555788309\n",
      "Order (0, 1, 6): MAE = 11.077380343035006\n",
      "Order (1, 0, 0): MAE = 11.427744722563713\n",
      "Order (1, 0, 1): MAE = 11.432476931860052\n",
      "Order (1, 0, 2): MAE = 11.437133135137534\n",
      "Order (1, 0, 3): MAE = 11.44525272779277\n",
      "Order (1, 0, 4): MAE = 11.453050371146965\n",
      "Order (1, 0, 5): MAE = 11.461746210432027\n",
      "Order (1, 0, 6): MAE = 11.464227049286214\n",
      "Order (1, 1, 0): MAE = 10.397145259658824\n",
      "Order (1, 1, 1): MAE = 11.097294605730296\n",
      "Order (1, 1, 2): MAE = 11.136654245796183\n",
      "Order (1, 1, 3): MAE = 11.134263922356855\n",
      "Order (1, 1, 4): MAE = 11.133090841590187\n",
      "Order (1, 1, 5): MAE = 11.120039883027403\n",
      "Order (1, 1, 6): MAE = 11.063766741767724\n",
      "Order (2, 0, 0): MAE = 11.433259910591417\n",
      "Order (2, 0, 1): MAE = 11.434671015371306\n",
      "Order (2, 0, 2): MAE = 11.472701778726195\n",
      "Order (2, 0, 3): MAE = 11.470025963643874\n",
      "Order (2, 0, 4): MAE = 11.460450262135561\n",
      "Order (2, 0, 5): MAE = 11.461541112177315\n",
      "Order (2, 0, 6): MAE = 11.456667667492267\n",
      "Order (2, 1, 0): MAE = 10.393537751576275\n",
      "Order (2, 1, 1): MAE = 11.142330617441738\n",
      "Order (2, 1, 2): MAE = 11.147444130613163\n",
      "Order (2, 1, 3): MAE = 11.152294641394494\n",
      "Order (2, 1, 4): MAE = 11.127523519704317\n",
      "Order (2, 1, 5): MAE = 10.974313378964588\n",
      "Order (2, 1, 6): MAE = 11.054431162870188\n",
      "Best Order for Stock ID 156: (2, 1, 0)\n",
      "Best MAE for Stock ID 156: 10.393537751576275\n",
      "\n",
      "Training and evaluating for Stock ID: 150\n",
      "Training Set Date Range: 59 -- 477\n",
      "Testing Set Date Range: 478 -- 480\n",
      "Order (0, 0, 0): MAE = 3.2017630028943294\n",
      "Order (0, 0, 1): MAE = 3.20144476361697\n",
      "Order (0, 0, 2): MAE = 3.2015572250991546\n",
      "Order (0, 0, 3): MAE = 3.2003667663721935\n",
      "Order (0, 0, 4): MAE = 3.198500063023277\n",
      "Order (0, 0, 5): MAE = 3.2013225376747263\n",
      "Order (0, 0, 6): MAE = 3.20024852912625\n",
      "Order (0, 1, 0): MAE = 3.3133246579272724\n",
      "Order (0, 1, 1): MAE = 3.12588633796764\n",
      "Order (0, 1, 2): MAE = 3.1020347776660846\n",
      "Order (0, 1, 3): MAE = 3.201480899803488\n",
      "Order (0, 1, 4): MAE = 3.200323529890581\n",
      "Order (0, 1, 5): MAE = 3.1984764161234787\n",
      "Order (0, 1, 6): MAE = 3.201065487403052\n",
      "Order (1, 0, 0): MAE = 3.1963565862356815\n",
      "Order (1, 0, 1): MAE = 3.1959812917848884\n",
      "Order (1, 0, 2): MAE = 3.196251639458903\n",
      "Order (1, 0, 3): MAE = 3.1962450173217953\n",
      "Order (1, 0, 4): MAE = 3.19709414498638\n",
      "Order (1, 0, 5): MAE = 3.200352339569001\n",
      "Order (1, 0, 6): MAE = 3.2005883068932888\n",
      "Order (1, 1, 0): MAE = 3.1568361558385454\n",
      "Order (1, 1, 1): MAE = 3.2038364635007643\n",
      "Order (1, 1, 2): MAE = 3.19601981091346\n",
      "Order (1, 1, 3): MAE = 3.1964339151304757\n",
      "Order (1, 1, 4): MAE = 3.2027890147424385\n",
      "Order (1, 1, 5): MAE = 3.197015633115787\n"
     ]
    },
    {
     "name": "stderr",
     "output_type": "stream",
     "text": [
      "/Users/alikhan/anaconda3/lib/python3.10/site-packages/statsmodels/base/model.py:604: ConvergenceWarning: Maximum Likelihood optimization failed to converge. Check mle_retvals\n",
      "  warnings.warn(\"Maximum Likelihood optimization failed to \"\n"
     ]
    },
    {
     "name": "stdout",
     "output_type": "stream",
     "text": [
      "Order (1, 1, 6): MAE = 3.200226970562284\n",
      "Order (2, 0, 0): MAE = 3.1959531959731535\n",
      "Order (2, 0, 1): MAE = 3.195846296236408\n",
      "Order (2, 0, 2): MAE = 3.1977842929359963\n",
      "Order (2, 0, 3): MAE = 3.1960095523659273\n",
      "Order (2, 0, 4): MAE = 3.199361898311231\n",
      "Order (2, 0, 5): MAE = 3.2002375356338018\n"
     ]
    },
    {
     "name": "stderr",
     "output_type": "stream",
     "text": [
      "/Users/alikhan/anaconda3/lib/python3.10/site-packages/statsmodels/base/model.py:604: ConvergenceWarning: Maximum Likelihood optimization failed to converge. Check mle_retvals\n",
      "  warnings.warn(\"Maximum Likelihood optimization failed to \"\n"
     ]
    },
    {
     "name": "stdout",
     "output_type": "stream",
     "text": [
      "Order (2, 0, 6): MAE = 3.199586296599194\n",
      "Order (2, 1, 0): MAE = 3.1164633337463816\n",
      "Order (2, 1, 1): MAE = 3.195806117499118\n",
      "Order (2, 1, 2): MAE = 3.1969329750839255\n"
     ]
    },
    {
     "name": "stderr",
     "output_type": "stream",
     "text": [
      "/Users/alikhan/anaconda3/lib/python3.10/site-packages/statsmodels/base/model.py:604: ConvergenceWarning: Maximum Likelihood optimization failed to converge. Check mle_retvals\n",
      "  warnings.warn(\"Maximum Likelihood optimization failed to \"\n"
     ]
    },
    {
     "name": "stdout",
     "output_type": "stream",
     "text": [
      "Order (2, 1, 3): MAE = 3.1959416743891054\n"
     ]
    },
    {
     "name": "stderr",
     "output_type": "stream",
     "text": [
      "/Users/alikhan/anaconda3/lib/python3.10/site-packages/statsmodels/base/model.py:604: ConvergenceWarning: Maximum Likelihood optimization failed to converge. Check mle_retvals\n",
      "  warnings.warn(\"Maximum Likelihood optimization failed to \"\n"
     ]
    },
    {
     "name": "stdout",
     "output_type": "stream",
     "text": [
      "Order (2, 1, 4): MAE = 3.2075813049180484\n"
     ]
    },
    {
     "name": "stderr",
     "output_type": "stream",
     "text": [
      "/Users/alikhan/anaconda3/lib/python3.10/site-packages/statsmodels/base/model.py:604: ConvergenceWarning: Maximum Likelihood optimization failed to converge. Check mle_retvals\n",
      "  warnings.warn(\"Maximum Likelihood optimization failed to \"\n"
     ]
    },
    {
     "name": "stdout",
     "output_type": "stream",
     "text": [
      "Order (2, 1, 5): MAE = 3.201360067283173\n"
     ]
    },
    {
     "name": "stderr",
     "output_type": "stream",
     "text": [
      "/Users/alikhan/anaconda3/lib/python3.10/site-packages/statsmodels/base/model.py:604: ConvergenceWarning: Maximum Likelihood optimization failed to converge. Check mle_retvals\n",
      "  warnings.warn(\"Maximum Likelihood optimization failed to \"\n"
     ]
    },
    {
     "name": "stdout",
     "output_type": "stream",
     "text": [
      "Order (2, 1, 6): MAE = 3.200498360743949\n",
      "Best Order for Stock ID 150: (0, 1, 2)\n",
      "Best MAE for Stock ID 150: 3.1020347776660846\n",
      "\n",
      "Training and evaluating for Stock ID: 153\n",
      "Training Set Date Range: 70 -- 477\n",
      "Testing Set Date Range: 478 -- 480\n",
      "Order (0, 0, 0): MAE = 7.692235969416074\n",
      "Order (0, 0, 1): MAE = 7.692212662212785\n",
      "Order (0, 0, 2): MAE = 7.690149416634163\n",
      "Order (0, 0, 3): MAE = 7.6891679038861875\n",
      "Order (0, 0, 4): MAE = 7.690428532812472\n",
      "Order (0, 0, 5): MAE = 7.69531213718913\n",
      "Order (0, 0, 6): MAE = 7.695170665744997\n",
      "Order (0, 1, 0): MAE = 7.659525606957575\n",
      "Order (0, 1, 1): MAE = 7.644008514472203\n",
      "Order (0, 1, 2): MAE = 7.658498885710224\n",
      "Order (0, 1, 3): MAE = 7.655501932885462\n",
      "Order (0, 1, 4): MAE = 7.504434207793136\n",
      "Order (0, 1, 5): MAE = 7.550520023622516\n",
      "Order (0, 1, 6): MAE = 7.5526225169068475\n",
      "Order (1, 0, 0): MAE = 7.6812982300258295\n",
      "Order (1, 0, 1): MAE = 7.681893523843744\n",
      "Order (1, 0, 2): MAE = 7.68339771938402\n",
      "Order (1, 0, 3): MAE = 7.687338930286078\n",
      "Order (1, 0, 4): MAE = 7.691570716238512\n",
      "Order (1, 0, 5): MAE = 7.69516963470724\n",
      "Order (1, 0, 6): MAE = 7.694192791004824\n",
      "Order (1, 1, 0): MAE = 7.638490734857459\n",
      "Order (1, 1, 1): MAE = 7.550109296707574\n",
      "Order (1, 1, 2): MAE = 7.769163573812141\n",
      "Order (1, 1, 3): MAE = 7.546881249357978\n",
      "Order (1, 1, 4): MAE = 7.549151092652496\n",
      "Order (1, 1, 5): MAE = 7.551177626389107\n",
      "Order (1, 1, 6): MAE = 7.5513443959458515\n",
      "Order (2, 0, 0): MAE = 7.682049124226134\n",
      "Order (2, 0, 1): MAE = 7.67862102114907\n",
      "Order (2, 0, 2): MAE = 7.692411199702542\n",
      "Order (2, 0, 3): MAE = 7.698576058008\n",
      "Order (2, 0, 4): MAE = 7.69812482138147\n",
      "Order (2, 0, 5): MAE = 7.695077396197966\n",
      "Order (2, 0, 6): MAE = 7.697309702163206\n",
      "Order (2, 1, 0): MAE = 7.65727002801082\n",
      "Order (2, 1, 1): MAE = 7.758675391504191\n",
      "Order (2, 1, 2): MAE = 7.549821007797795\n",
      "Order (2, 1, 3): MAE = 7.550757486140909\n",
      "Order (2, 1, 4): MAE = 7.547878061356009\n",
      "Order (2, 1, 5): MAE = 7.5490517196186335\n",
      "Order (2, 1, 6): MAE = 7.550775490539031\n",
      "Best Order for Stock ID 153: (0, 1, 4)\n",
      "Best MAE for Stock ID 153: 7.504434207793136\n",
      "\n",
      "Training and evaluating for Stock ID: 199\n",
      "Training Set Date Range: 88 -- 477\n",
      "Testing Set Date Range: 478 -- 480\n",
      "Order (0, 0, 0): MAE = 4.461314540390007\n",
      "Order (0, 0, 1): MAE = 4.4591861272910025\n",
      "Order (0, 0, 2): MAE = 4.456680868189891\n",
      "Order (0, 0, 3): MAE = 4.454009279985473\n",
      "Order (0, 0, 4): MAE = 4.452454909058267\n",
      "Order (0, 0, 5): MAE = 4.453974912361187\n",
      "Order (0, 0, 6): MAE = 4.453741670304397\n",
      "Order (0, 1, 0): MAE = 4.131974597999999\n",
      "Order (0, 1, 1): MAE = 4.186385475703777\n",
      "Order (0, 1, 2): MAE = 4.2785353346516946\n",
      "Order (0, 1, 3): MAE = 4.7061945406224\n",
      "Order (0, 1, 4): MAE = 4.873132484794156\n",
      "Order (0, 1, 5): MAE = 4.705559247431201\n",
      "Order (0, 1, 6): MAE = 4.592609567963287\n",
      "Order (1, 0, 0): MAE = 4.452051895494361\n",
      "Order (1, 0, 1): MAE = 4.449296991852589\n",
      "Order (1, 0, 2): MAE = 4.448508959686348\n",
      "Order (1, 0, 3): MAE = 4.4472967955977\n",
      "Order (1, 0, 4): MAE = 4.444360174323518\n",
      "Order (1, 0, 5): MAE = 4.453778529019094\n",
      "Order (1, 0, 6): MAE = 4.45915295752847\n",
      "Order (1, 1, 0): MAE = 4.179484961595294\n",
      "Order (1, 1, 1): MAE = 4.587691159484635\n",
      "Order (1, 1, 2): MAE = 4.588355383398928\n",
      "Order (1, 1, 3): MAE = 4.588467461951397\n"
     ]
    },
    {
     "name": "stderr",
     "output_type": "stream",
     "text": [
      "/Users/alikhan/anaconda3/lib/python3.10/site-packages/statsmodels/base/model.py:604: ConvergenceWarning: Maximum Likelihood optimization failed to converge. Check mle_retvals\n",
      "  warnings.warn(\"Maximum Likelihood optimization failed to \"\n"
     ]
    },
    {
     "name": "stdout",
     "output_type": "stream",
     "text": [
      "Order (1, 1, 4): MAE = 5.467366084604447\n",
      "Order (1, 1, 5): MAE = 4.5829201620485565\n",
      "Order (1, 1, 6): MAE = 4.592603313689551\n",
      "Order (2, 0, 0): MAE = 4.448805463245636\n",
      "Order (2, 0, 1): MAE = 4.445748669825553\n",
      "Order (2, 0, 2): MAE = 4.448753491021293\n",
      "Order (2, 0, 3): MAE = 4.456039504469736\n",
      "Order (2, 0, 4): MAE = 4.4571200873856265\n",
      "Order (2, 0, 5): MAE = 4.454449463511076\n",
      "Order (2, 0, 6): MAE = 4.459729826893919\n",
      "Order (2, 1, 0): MAE = 4.250431758209261\n",
      "Order (2, 1, 1): MAE = 4.58833346735833\n",
      "Order (2, 1, 2): MAE = 4.587163668803837\n",
      "Order (2, 1, 3): MAE = 4.587402283837121\n",
      "Order (2, 1, 4): MAE = 4.5881347924322196\n",
      "Order (2, 1, 5): MAE = 4.599786944072872\n",
      "Order (2, 1, 6): MAE = 4.593869534957617\n",
      "Best Order for Stock ID 199: (0, 1, 0)\n",
      "Best MAE for Stock ID 199: 4.131974597999999\n",
      "\n",
      "Training and evaluating for Stock ID: 79\n",
      "Training Set Date Range: 181 -- 477\n",
      "Testing Set Date Range: 478 -- 480\n",
      "Order (0, 0, 0): MAE = 5.839287878280917\n",
      "Order (0, 0, 1): MAE = 5.848855360523893\n",
      "Order (0, 0, 2): MAE = 5.84760340015092\n",
      "Order (0, 0, 3): MAE = 5.85450187066541\n",
      "Order (0, 0, 4): MAE = 5.8473877197502935\n",
      "Order (0, 0, 5): MAE = 5.86247155235659\n",
      "Order (0, 0, 6): MAE = 5.861573426239989\n",
      "Order (0, 1, 0): MAE = 7.248051284012121\n",
      "Order (0, 1, 1): MAE = 6.950119721734104\n",
      "Order (0, 1, 2): MAE = 6.885135801870968\n",
      "Order (0, 1, 3): MAE = 6.12087883918324\n",
      "Order (0, 1, 4): MAE = 5.859345078663277\n",
      "Order (0, 1, 5): MAE = 5.841120428123847\n",
      "Order (0, 1, 6): MAE = 5.857279351323861\n",
      "Order (1, 0, 0): MAE = 5.849816257244652\n",
      "Order (1, 0, 1): MAE = 5.851090361755899\n",
      "Order (1, 0, 2): MAE = 5.8520786682147685\n",
      "Order (1, 0, 3): MAE = 5.85258058822703\n",
      "Order (1, 0, 4): MAE = 5.851530405028888\n",
      "Order (1, 0, 5): MAE = 5.8616634823274625\n",
      "Order (1, 0, 6): MAE = 5.861259780861475\n",
      "Order (1, 1, 0): MAE = 6.97654596258956\n",
      "Order (1, 1, 1): MAE = 5.850277052385963\n",
      "Order (1, 1, 2): MAE = 5.85023020572681\n",
      "Order (1, 1, 3): MAE = 5.849218842956236\n",
      "Order (1, 1, 4): MAE = 5.849900688727964\n",
      "Order (1, 1, 5): MAE = 5.849268398791844\n",
      "Order (1, 1, 6): MAE = 5.8544901141683905\n",
      "Order (2, 0, 0): MAE = 5.851396413907017\n",
      "Order (2, 0, 1): MAE = 5.8537008794493435\n",
      "Order (2, 0, 2): MAE = 5.850336530180641\n",
      "Order (2, 0, 3): MAE = 5.860373906815514\n",
      "Order (2, 0, 4): MAE = 5.853964614790217\n",
      "Order (2, 0, 5): MAE = 5.861503313817969\n",
      "Order (2, 0, 6): MAE = 5.861200717454431\n",
      "Order (2, 1, 0): MAE = 6.914472942831223\n",
      "Order (2, 1, 1): MAE = 5.850096019143379\n",
      "Order (2, 1, 2): MAE = 5.853272318017776\n",
      "Order (2, 1, 3): MAE = 5.853318764735968\n",
      "Order (2, 1, 4): MAE = 5.852872305474436\n",
      "Order (2, 1, 5): MAE = 5.838237055358389\n",
      "Order (2, 1, 6): MAE = 5.853131933811962\n",
      "Best Order for Stock ID 79: (2, 1, 5)\n",
      "Best MAE for Stock ID 79: 5.838237055358389\n",
      "\n",
      "Training and evaluating for Stock ID: 135\n",
      "Training Set Date Range: 191 -- 477\n",
      "Testing Set Date Range: 478 -- 480\n",
      "Order (0, 0, 0): MAE = 5.672366536899447\n",
      "Order (0, 0, 1): MAE = 5.674066155493925\n",
      "Order (0, 0, 2): MAE = 5.6726912760601325\n",
      "Order (0, 0, 3): MAE = 5.674127113981834\n",
      "Order (0, 0, 4): MAE = 5.672413004657859\n",
      "Order (0, 0, 5): MAE = 5.6741212824372855\n",
      "Order (0, 0, 6): MAE = 5.674121218530016\n",
      "Order (0, 1, 0): MAE = 5.713050987757575\n",
      "Order (0, 1, 1): MAE = 5.710686702948305\n",
      "Order (0, 1, 2): MAE = 5.718576174188817\n",
      "Order (0, 1, 3): MAE = 5.755867685036579\n",
      "Order (0, 1, 4): MAE = 5.755936697182986\n",
      "Order (0, 1, 5): MAE = 5.743491892105345\n",
      "Order (0, 1, 6): MAE = 5.7108577442359945\n",
      "Order (1, 0, 0): MAE = 5.6730949814119755\n",
      "Order (1, 0, 1): MAE = 5.673218444726555\n",
      "Order (1, 0, 2): MAE = 5.673073241405028\n",
      "Order (1, 0, 3): MAE = 5.672659529357527\n",
      "Order (1, 0, 4): MAE = 5.672221763175777\n",
      "Order (1, 0, 5): MAE = 5.674120095540702\n",
      "Order (1, 0, 6): MAE = 5.67423292872286\n",
      "Order (1, 1, 0): MAE = 5.71084359348688\n",
      "Order (1, 1, 1): MAE = 5.695820625726966\n",
      "Order (1, 1, 2): MAE = 5.701618729074827\n",
      "Order (1, 1, 3): MAE = 5.70392022482939\n",
      "Order (1, 1, 4): MAE = 5.70352870092918\n",
      "Order (1, 1, 5): MAE = 5.70237075606983\n",
      "Order (1, 1, 6): MAE = 5.710894363695242\n",
      "Order (2, 0, 0): MAE = 5.673198383019701\n",
      "Order (2, 0, 1): MAE = 5.672410743938939\n",
      "Order (2, 0, 2): MAE = 5.672228217689174\n",
      "Order (2, 0, 3): MAE = 5.672878453017603\n",
      "Order (2, 0, 4): MAE = 5.67405947282879\n",
      "Order (2, 0, 5): MAE = 5.674161766026002\n",
      "Order (2, 0, 6): MAE = 5.674139347998499\n",
      "Order (2, 1, 0): MAE = 5.717076839258651\n",
      "Order (2, 1, 1): MAE = 5.703053683440409\n",
      "Order (2, 1, 2): MAE = 5.699345678488953\n",
      "Order (2, 1, 3): MAE = 5.70125931531384\n",
      "Order (2, 1, 4): MAE = 5.705798674089259\n",
      "Order (2, 1, 5): MAE = 5.705687713207969\n",
      "Order (2, 1, 6): MAE = 5.712474627621165\n",
      "Best Order for Stock ID 135: (1, 0, 4)\n",
      "Best MAE for Stock ID 135: 5.672221763175777\n",
      "\n",
      "Training and evaluating for Stock ID: 102\n",
      "Training Set Date Range: 295 -- 477\n",
      "Testing Set Date Range: 478 -- 480\n",
      "Order (0, 0, 0): MAE = 6.9449061760694475\n",
      "Order (0, 0, 1): MAE = 6.944717999162818\n",
      "Order (0, 0, 2): MAE = 6.943554484037823\n",
      "Order (0, 0, 3): MAE = 6.943512585895236\n",
      "Order (0, 0, 4): MAE = 6.942325180316273\n",
      "Order (0, 0, 5): MAE = 6.945060265428974\n",
      "Order (0, 0, 6): MAE = 6.9448650268349\n",
      "Order (0, 1, 0): MAE = 7.14209223509091\n",
      "Order (0, 1, 1): MAE = 7.1030364213065385\n",
      "Order (0, 1, 2): MAE = 7.073663498565843\n",
      "Order (0, 1, 3): MAE = 6.83325163952016\n",
      "Order (0, 1, 4): MAE = 7.480763560572145\n",
      "Order (0, 1, 5): MAE = 7.186602686843638\n"
     ]
    },
    {
     "name": "stderr",
     "output_type": "stream",
     "text": [
      "/Users/alikhan/anaconda3/lib/python3.10/site-packages/statsmodels/base/model.py:604: ConvergenceWarning: Maximum Likelihood optimization failed to converge. Check mle_retvals\n",
      "  warnings.warn(\"Maximum Likelihood optimization failed to \"\n"
     ]
    },
    {
     "name": "stdout",
     "output_type": "stream",
     "text": [
      "Order (0, 1, 6): MAE = 6.944966882513875\n",
      "Order (1, 0, 0): MAE = 6.937829433603232\n",
      "Order (1, 0, 1): MAE = 6.938173371429258\n",
      "Order (1, 0, 2): MAE = 6.938759890252779\n",
      "Order (1, 0, 3): MAE = 6.940783884865095\n",
      "Order (1, 0, 4): MAE = 6.941934476483177\n",
      "Order (1, 0, 5): MAE = 6.94487502253148\n"
     ]
    },
    {
     "name": "stderr",
     "output_type": "stream",
     "text": [
      "/Users/alikhan/anaconda3/lib/python3.10/site-packages/statsmodels/base/model.py:604: ConvergenceWarning: Maximum Likelihood optimization failed to converge. Check mle_retvals\n",
      "  warnings.warn(\"Maximum Likelihood optimization failed to \"\n"
     ]
    },
    {
     "name": "stdout",
     "output_type": "stream",
     "text": [
      "Order (1, 0, 6): MAE = 6.939924562799328\n",
      "Order (1, 1, 0): MAE = 7.110158062308039\n",
      "Order (1, 1, 1): MAE = 6.93863366556745\n",
      "Order (1, 1, 2): MAE = 6.938151357748109\n",
      "Order (1, 1, 3): MAE = 6.938748842630342\n"
     ]
    },
    {
     "name": "stderr",
     "output_type": "stream",
     "text": [
      "/Users/alikhan/anaconda3/lib/python3.10/site-packages/statsmodels/base/model.py:604: ConvergenceWarning: Maximum Likelihood optimization failed to converge. Check mle_retvals\n",
      "  warnings.warn(\"Maximum Likelihood optimization failed to \"\n"
     ]
    },
    {
     "name": "stdout",
     "output_type": "stream",
     "text": [
      "Order (1, 1, 4): MAE = 6.940686617098149\n"
     ]
    },
    {
     "name": "stderr",
     "output_type": "stream",
     "text": [
      "/Users/alikhan/anaconda3/lib/python3.10/site-packages/statsmodels/base/model.py:604: ConvergenceWarning: Maximum Likelihood optimization failed to converge. Check mle_retvals\n",
      "  warnings.warn(\"Maximum Likelihood optimization failed to \"\n"
     ]
    },
    {
     "name": "stdout",
     "output_type": "stream",
     "text": [
      "Order (1, 1, 5): MAE = 6.9419601265003354\n"
     ]
    },
    {
     "name": "stderr",
     "output_type": "stream",
     "text": [
      "/Users/alikhan/anaconda3/lib/python3.10/site-packages/statsmodels/base/model.py:604: ConvergenceWarning: Maximum Likelihood optimization failed to converge. Check mle_retvals\n",
      "  warnings.warn(\"Maximum Likelihood optimization failed to \"\n"
     ]
    },
    {
     "name": "stdout",
     "output_type": "stream",
     "text": [
      "Order (1, 1, 6): MAE = 6.944844350129887\n",
      "Order (2, 0, 0): MAE = 6.938232573660324\n",
      "Order (2, 0, 1): MAE = 6.938015881996504\n",
      "Order (2, 0, 2): MAE = 6.942600951148875\n",
      "Order (2, 0, 3): MAE = 6.945365117199955\n",
      "Order (2, 0, 4): MAE = 6.944364699560049\n",
      "Order (2, 0, 5): MAE = 6.944851264344381\n",
      "Order (2, 0, 6): MAE = 6.9461911740112745\n",
      "Order (2, 1, 0): MAE = 7.092730125258109\n",
      "Order (2, 1, 1): MAE = 6.938073415917581\n",
      "Order (2, 1, 2): MAE = 6.938478741064107\n"
     ]
    },
    {
     "name": "stderr",
     "output_type": "stream",
     "text": [
      "/Users/alikhan/anaconda3/lib/python3.10/site-packages/statsmodels/base/model.py:604: ConvergenceWarning: Maximum Likelihood optimization failed to converge. Check mle_retvals\n",
      "  warnings.warn(\"Maximum Likelihood optimization failed to \"\n"
     ]
    },
    {
     "name": "stdout",
     "output_type": "stream",
     "text": [
      "Order (2, 1, 3): MAE = 6.938041757686998\n"
     ]
    },
    {
     "name": "stderr",
     "output_type": "stream",
     "text": [
      "/Users/alikhan/anaconda3/lib/python3.10/site-packages/statsmodels/base/model.py:604: ConvergenceWarning: Maximum Likelihood optimization failed to converge. Check mle_retvals\n",
      "  warnings.warn(\"Maximum Likelihood optimization failed to \"\n"
     ]
    },
    {
     "name": "stdout",
     "output_type": "stream",
     "text": [
      "Order (2, 1, 4): MAE = 6.939587015703249\n"
     ]
    },
    {
     "name": "stderr",
     "output_type": "stream",
     "text": [
      "/Users/alikhan/anaconda3/lib/python3.10/site-packages/statsmodels/base/model.py:604: ConvergenceWarning: Maximum Likelihood optimization failed to converge. Check mle_retvals\n",
      "  warnings.warn(\"Maximum Likelihood optimization failed to \"\n"
     ]
    },
    {
     "name": "stdout",
     "output_type": "stream",
     "text": [
      "Order (2, 1, 5): MAE = 6.947878250751522\n"
     ]
    },
    {
     "name": "stderr",
     "output_type": "stream",
     "text": [
      "/Users/alikhan/anaconda3/lib/python3.10/site-packages/statsmodels/base/model.py:604: ConvergenceWarning: Maximum Likelihood optimization failed to converge. Check mle_retvals\n",
      "  warnings.warn(\"Maximum Likelihood optimization failed to \"\n"
     ]
    },
    {
     "name": "stdout",
     "output_type": "stream",
     "text": [
      "Order (2, 1, 6): MAE = 6.946850948981348\n",
      "Best Order for Stock ID 102: (0, 1, 3)\n",
      "Best MAE for Stock ID 102: 6.83325163952016\n",
      "\n",
      "Best Orders for Each Stock:\n",
      "Stock ID 0: (0, 1, 1)\n",
      "Stock ID 1: (0, 1, 3)\n",
      "Stock ID 2: (0, 0, 0)\n",
      "Stock ID 3: (0, 1, 4)\n",
      "Stock ID 4: (0, 1, 5)\n",
      "Stock ID 5: (1, 0, 0)\n",
      "Stock ID 6: (0, 0, 0)\n",
      "Stock ID 7: (0, 0, 0)\n",
      "Stock ID 8: (0, 0, 0)\n",
      "Stock ID 9: (0, 1, 5)\n",
      "Stock ID 10: (0, 0, 0)\n",
      "Stock ID 11: (0, 0, 0)\n",
      "Stock ID 12: (0, 1, 4)\n",
      "Stock ID 13: (0, 0, 0)\n",
      "Stock ID 14: (2, 1, 5)\n",
      "Stock ID 15: (0, 0, 0)\n",
      "Stock ID 16: (0, 0, 0)\n",
      "Stock ID 17: (0, 0, 0)\n",
      "Stock ID 18: (0, 0, 0)\n",
      "Stock ID 19: (0, 0, 0)\n",
      "Stock ID 20: (0, 1, 3)\n",
      "Stock ID 21: (1, 1, 4)\n",
      "Stock ID 22: (0, 1, 4)\n",
      "Stock ID 23: (1, 1, 4)\n",
      "Stock ID 24: (0, 1, 3)\n",
      "Stock ID 25: (0, 1, 5)\n",
      "Stock ID 26: (0, 0, 0)\n",
      "Stock ID 27: (1, 1, 1)\n",
      "Stock ID 28: (1, 1, 4)\n",
      "Stock ID 29: (0, 1, 3)\n",
      "Stock ID 30: (0, 1, 5)\n",
      "Stock ID 31: (0, 0, 0)\n",
      "Stock ID 32: (0, 0, 0)\n",
      "Stock ID 33: (0, 1, 3)\n",
      "Stock ID 34: (0, 1, 5)\n",
      "Stock ID 35: (0, 1, 4)\n",
      "Stock ID 36: (0, 1, 2)\n",
      "Stock ID 37: (0, 1, 2)\n",
      "Stock ID 38: (0, 1, 4)\n",
      "Stock ID 39: (0, 1, 2)\n",
      "Stock ID 40: (0, 1, 5)\n",
      "Stock ID 41: (0, 1, 4)\n",
      "Stock ID 42: (0, 0, 0)\n",
      "Stock ID 43: (0, 1, 3)\n",
      "Stock ID 44: (0, 0, 0)\n",
      "Stock ID 45: (0, 0, 0)\n",
      "Stock ID 46: (2, 1, 4)\n",
      "Stock ID 47: (0, 1, 4)\n",
      "Stock ID 48: (0, 0, 0)\n",
      "Stock ID 49: (1, 0, 0)\n",
      "Stock ID 50: (0, 1, 4)\n",
      "Stock ID 51: (0, 1, 5)\n",
      "Stock ID 52: (0, 1, 0)\n",
      "Stock ID 53: (1, 1, 4)\n",
      "Stock ID 54: (0, 0, 0)\n",
      "Stock ID 55: (2, 0, 1)\n",
      "Stock ID 56: (0, 1, 4)\n",
      "Stock ID 57: (0, 0, 0)\n",
      "Stock ID 58: (0, 1, 4)\n",
      "Stock ID 59: (0, 1, 0)\n",
      "Stock ID 60: (0, 1, 5)\n",
      "Stock ID 61: (1, 0, 3)\n",
      "Stock ID 62: (0, 0, 0)\n",
      "Stock ID 63: (0, 1, 4)\n",
      "Stock ID 64: (0, 0, 0)\n",
      "Stock ID 65: (0, 1, 4)\n",
      "Stock ID 66: (0, 0, 0)\n",
      "Stock ID 67: (0, 1, 4)\n",
      "Stock ID 68: (0, 1, 2)\n",
      "Stock ID 70: (0, 1, 4)\n",
      "Stock ID 71: (0, 1, 3)\n",
      "Stock ID 72: (0, 1, 4)\n",
      "Stock ID 73: (0, 1, 3)\n",
      "Stock ID 74: (0, 0, 0)\n",
      "Stock ID 75: (0, 1, 3)\n",
      "Stock ID 76: (0, 1, 2)\n",
      "Stock ID 77: (0, 1, 4)\n",
      "Stock ID 80: (1, 1, 4)\n",
      "Stock ID 81: (0, 1, 4)\n",
      "Stock ID 82: (0, 0, 0)\n",
      "Stock ID 83: (2, 1, 5)\n",
      "Stock ID 84: (0, 0, 0)\n",
      "Stock ID 85: (0, 1, 2)\n",
      "Stock ID 86: (0, 0, 0)\n",
      "Stock ID 87: (1, 1, 4)\n",
      "Stock ID 88: (0, 1, 0)\n",
      "Stock ID 89: (0, 1, 3)\n",
      "Stock ID 90: (0, 0, 0)\n",
      "Stock ID 91: (2, 0, 2)\n",
      "Stock ID 92: (0, 1, 3)\n",
      "Stock ID 93: (1, 1, 0)\n",
      "Stock ID 94: (0, 1, 4)\n",
      "Stock ID 95: (0, 1, 4)\n",
      "Stock ID 96: (0, 1, 3)\n",
      "Stock ID 97: (0, 1, 3)\n",
      "Stock ID 98: (0, 0, 0)\n",
      "Stock ID 99: (0, 0, 0)\n",
      "Stock ID 100: (0, 0, 0)\n",
      "Stock ID 101: (2, 1, 0)\n",
      "Stock ID 103: (0, 1, 3)\n",
      "Stock ID 104: (0, 0, 0)\n",
      "Stock ID 105: (0, 1, 4)\n",
      "Stock ID 106: (1, 1, 1)\n",
      "Stock ID 107: (0, 1, 2)\n",
      "Stock ID 108: (0, 0, 2)\n",
      "Stock ID 109: (0, 0, 0)\n",
      "Stock ID 110: (0, 1, 5)\n",
      "Stock ID 111: (0, 0, 0)\n",
      "Stock ID 112: (0, 1, 5)\n",
      "Stock ID 113: (2, 0, 2)\n",
      "Stock ID 114: (0, 1, 4)\n",
      "Stock ID 115: (0, 0, 0)\n",
      "Stock ID 116: (2, 1, 6)\n",
      "Stock ID 117: (0, 1, 4)\n",
      "Stock ID 118: (0, 0, 0)\n",
      "Stock ID 119: (0, 0, 1)\n",
      "Stock ID 120: (0, 0, 0)\n",
      "Stock ID 121: (0, 1, 3)\n",
      "Stock ID 122: (0, 0, 0)\n",
      "Stock ID 123: (0, 0, 0)\n",
      "Stock ID 124: (0, 0, 1)\n",
      "Stock ID 125: (0, 1, 3)\n",
      "Stock ID 126: (0, 1, 3)\n",
      "Stock ID 127: (0, 0, 0)\n",
      "Stock ID 128: (0, 0, 0)\n",
      "Stock ID 129: (0, 0, 0)\n",
      "Stock ID 130: (0, 0, 0)\n",
      "Stock ID 131: (2, 0, 6)\n",
      "Stock ID 132: (0, 1, 3)\n",
      "Stock ID 133: (0, 1, 3)\n",
      "Stock ID 134: (0, 1, 4)\n",
      "Stock ID 136: (0, 0, 0)\n",
      "Stock ID 137: (0, 0, 0)\n",
      "Stock ID 138: (0, 0, 0)\n",
      "Stock ID 139: (0, 1, 2)\n",
      "Stock ID 140: (0, 0, 0)\n",
      "Stock ID 141: (0, 0, 0)\n",
      "Stock ID 142: (1, 1, 4)\n",
      "Stock ID 143: (0, 0, 0)\n",
      "Stock ID 144: (0, 0, 0)\n",
      "Stock ID 145: (0, 1, 5)\n",
      "Stock ID 146: (0, 0, 0)\n",
      "Stock ID 147: (0, 1, 1)\n",
      "Stock ID 148: (0, 1, 5)\n",
      "Stock ID 149: (0, 1, 5)\n",
      "Stock ID 151: (0, 1, 4)\n",
      "Stock ID 152: (0, 1, 3)\n",
      "Stock ID 154: (0, 1, 5)\n",
      "Stock ID 155: (0, 0, 0)\n",
      "Stock ID 157: (0, 1, 3)\n",
      "Stock ID 158: (1, 1, 0)\n",
      "Stock ID 159: (0, 0, 0)\n",
      "Stock ID 160: (0, 1, 5)\n",
      "Stock ID 161: (0, 0, 0)\n",
      "Stock ID 162: (0, 1, 3)\n",
      "Stock ID 163: (0, 1, 1)\n",
      "Stock ID 164: (1, 1, 0)\n",
      "Stock ID 165: (0, 1, 4)\n",
      "Stock ID 166: (0, 1, 4)\n",
      "Stock ID 167: (0, 0, 0)\n",
      "Stock ID 168: (0, 0, 0)\n",
      "Stock ID 169: (0, 0, 0)\n",
      "Stock ID 170: (0, 0, 0)\n",
      "Stock ID 171: (0, 1, 3)\n",
      "Stock ID 172: (0, 0, 0)\n",
      "Stock ID 173: (0, 1, 0)\n",
      "Stock ID 174: (2, 0, 2)\n",
      "Stock ID 175: (0, 0, 0)\n",
      "Stock ID 176: (2, 0, 6)\n",
      "Stock ID 177: (0, 0, 0)\n",
      "Stock ID 178: (0, 0, 0)\n",
      "Stock ID 179: (0, 0, 0)\n",
      "Stock ID 180: (1, 1, 5)\n",
      "Stock ID 181: (2, 1, 4)\n",
      "Stock ID 182: (0, 0, 0)\n",
      "Stock ID 183: (0, 1, 4)\n",
      "Stock ID 184: (1, 1, 4)\n",
      "Stock ID 185: (1, 1, 2)\n",
      "Stock ID 186: (2, 1, 5)\n",
      "Stock ID 187: (0, 0, 0)\n",
      "Stock ID 188: (0, 1, 5)\n",
      "Stock ID 189: (0, 1, 5)\n",
      "Stock ID 190: (1, 1, 0)\n",
      "Stock ID 191: (0, 1, 2)\n",
      "Stock ID 192: (0, 1, 0)\n",
      "Stock ID 193: (0, 0, 0)\n",
      "Stock ID 194: (0, 0, 0)\n",
      "Stock ID 195: (1, 1, 2)\n",
      "Stock ID 196: (0, 0, 0)\n",
      "Stock ID 197: (0, 1, 0)\n",
      "Stock ID 198: (0, 0, 1)\n",
      "Stock ID 78: (0, 0, 0)\n",
      "Stock ID 69: (0, 1, 4)\n",
      "Stock ID 156: (2, 1, 0)\n",
      "Stock ID 150: (0, 1, 2)\n",
      "Stock ID 153: (0, 1, 4)\n",
      "Stock ID 199: (0, 1, 0)\n",
      "Stock ID 79: (2, 1, 5)\n",
      "Stock ID 135: (1, 0, 4)\n",
      "Stock ID 102: (0, 1, 3)\n"
     ]
    }
   ],
   "source": [
    "import numpy as np\n",
    "import pandas as pd\n",
    "from statsmodels.tsa.arima.model import ARIMA\n",
    "\n",
    "def mae(y_true, y_pred):\n",
    "    return np.abs(y_true - y_pred).mean()\n",
    "\n",
    "def train_and_evaluate_ARIMA(train):\n",
    "    # Initialize variables to store the best order for each stock\n",
    "    best_orders = {}\n",
    "\n",
    "    # Iterate over unique stock IDs\n",
    "    unique_stock_ids = train['stock_id'].unique()\n",
    "    for stock_id in unique_stock_ids:\n",
    "        print(f\"\\nTraining and evaluating for Stock ID: {stock_id}\")\n",
    "\n",
    "        # Filter data for the current stock ID\n",
    "        train_data = train[train['stock_id'] == stock_id]\n",
    "        date_ids_train = train_data[['date_id', 'target']].reset_index(drop=True)\n",
    "\n",
    "        # Split data into training and testing\n",
    "        train_data = date_ids_train[date_ids_train['date_id'] <= 477]\n",
    "        test_data = date_ids_train[date_ids_train['date_id'] > 477]\n",
    "\n",
    "        print(\"Training Set Date Range: {} -- {}\".format(train_data['date_id'].min(), train_data['date_id'].max()))\n",
    "        print(\"Testing Set Date Range: {} -- {}\".format(test_data['date_id'].min(), test_data['date_id'].max()))\n",
    "\n",
    "        train_data = train_data.drop(['date_id'], axis=1)\n",
    "        test_data = test_data.drop(['date_id'], axis=1)\n",
    "\n",
    "        best_mae = float('inf')\n",
    "        best_order = None\n",
    "\n",
    "        # Experiment with different orders\n",
    "        for p in range(3):\n",
    "            for d in range(2):\n",
    "                for q in range(7):\n",
    "                    order = (p, d, q)\n",
    "                    model = ARIMA(train_data, order=order)\n",
    "                    fitted = model.fit()\n",
    "                    fc = fitted.forecast(len(test_data))\n",
    "                    score = mae(fc.values, test_data.values)\n",
    "\n",
    "                    print(f\"Order {order}: MAE = {score}\")\n",
    "\n",
    "                    if score < best_mae:\n",
    "                        best_mae = score\n",
    "                        best_order = order\n",
    "\n",
    "        print(f'Best Order for Stock ID {stock_id}: {best_order}')\n",
    "        print(f'Best MAE for Stock ID {stock_id}: {best_mae}')\n",
    "\n",
    "        # Store the best order for the current stock ID\n",
    "        best_orders[stock_id] = best_order\n",
    "\n",
    "    return best_orders\n",
    "\n",
    "# Assuming 'train.csv' contains the training data\n",
    "train_df = pd.read_csv('train.csv')\n",
    "\n",
    "# Find the best orders for each stock\n",
    "best_orders = train_and_evaluate_ARIMA(train_df)\n",
    "\n",
    "# Display the best orders for each stock\n",
    "print(\"\\nBest Orders for Each Stock:\")\n",
    "for stock_id, order in best_orders.items():\n",
    "    print(f\"Stock ID {stock_id}: {order}\")"
   ]
  }
 ],
 "metadata": {
  "kernelspec": {
   "display_name": "Python 3 (ipykernel)",
   "language": "python",
   "name": "python3"
  },
  "language_info": {
   "codemirror_mode": {
    "name": "ipython",
    "version": 3
   },
   "file_extension": ".py",
   "mimetype": "text/x-python",
   "name": "python",
   "nbconvert_exporter": "python",
   "pygments_lexer": "ipython3",
   "version": "3.10.9"
  }
 },
 "nbformat": 4,
 "nbformat_minor": 5
}
