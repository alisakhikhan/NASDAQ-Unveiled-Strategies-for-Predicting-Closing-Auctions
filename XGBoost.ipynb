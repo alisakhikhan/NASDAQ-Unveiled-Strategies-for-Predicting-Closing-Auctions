{
 "cells": [
  {
   "cell_type": "code",
   "execution_count": 1,
   "id": "442aa499",
   "metadata": {
    "_cell_guid": "b1076dfc-b9ad-4769-8c92-a6c4dae69d19",
    "_uuid": "8f2839f25d086af736a60e9eeb907d3b93b6e0e5",
    "execution": {
     "iopub.execute_input": "2023-10-17T01:10:40.645087Z",
     "iopub.status.busy": "2023-10-17T01:10:40.644745Z",
     "iopub.status.idle": "2023-10-17T01:11:04.956968Z",
     "shell.execute_reply": "2023-10-17T01:11:04.955719Z"
    },
    "papermill": {
     "duration": 24.321331,
     "end_time": "2023-10-17T01:11:04.960869",
     "exception": false,
     "start_time": "2023-10-17T01:10:40.639538",
     "status": "completed"
    },
    "tags": []
   },
   "outputs": [],
   "source": [
    "# This Python 3 environment comes with many helpful analytics libraries installed\n",
    "# It is defined by the kaggle/python Docker image: https://github.com/kaggle/docker-python\n",
    "# For example, here's several helpful packages to load\n",
    "\n",
    "import matplotlib.pyplot as plt\n",
    "import warnings\n",
    "import seaborn as sns\n",
    "from sklearn.metrics import mean_squared_error\n",
    "from numba import jit, cuda\n",
    "warnings.filterwarnings(\"ignore\")\n",
    "import os\n",
    "import joblib\n",
    "import numpy as np # linear algebra\n",
    "import pandas as pd # data processing, CSV file I/O (e.g. pd.read_csv)\n",
    "from sklearn.linear_model import LinearRegression\n",
    "from sklearn.ensemble import RandomForestRegressor\n",
    "from sklearn.metrics import mean_absolute_error\n",
    "from sklearn.model_selection import train_test_split\n",
    "#x_train,x_test,y_train,y_test=train_test_split(x,y,test_size=0.3,random_state=42)\n",
    "\n",
    "\n",
    "models=[]\n",
    "\n",
    "# You can write up to 20GB to the current directory (/kaggle/working/) that gets preserved as output when you create a version using \"Save & Run All\" \n",
    "# You can also write temporary files to /kaggle/temp/, but they won't be saved outside of the current session\n",
    "\n",
    "df = pd.read_csv('/kaggle/input/optiver-trading-at-the-close/train.csv')\n",
    "x_test = pd.read_csv('/kaggle/input/optiver-trading-at-the-close/example_test_files/test.csv')"
   ]
  },
  {
   "cell_type": "code",
   "execution_count": 2,
   "id": "0694a02e",
   "metadata": {
    "execution": {
     "iopub.execute_input": "2023-10-17T01:11:04.967969Z",
     "iopub.status.busy": "2023-10-17T01:11:04.967595Z",
     "iopub.status.idle": "2023-10-17T01:11:05.291262Z",
     "shell.execute_reply": "2023-10-17T01:11:05.290258Z"
    },
    "papermill": {
     "duration": 0.329898,
     "end_time": "2023-10-17T01:11:05.293769",
     "exception": false,
     "start_time": "2023-10-17T01:11:04.963871",
     "status": "completed"
    },
    "tags": []
   },
   "outputs": [],
   "source": [
    "df_test = x_test.copy()\n",
    "x=df.drop(['target'],axis=1)\n",
    "y=df[['target']]"
   ]
  },
  {
   "cell_type": "code",
   "execution_count": 3,
   "id": "ee9d582b",
   "metadata": {
    "execution": {
     "iopub.execute_input": "2023-10-17T01:11:05.301562Z",
     "iopub.status.busy": "2023-10-17T01:11:05.300526Z",
     "iopub.status.idle": "2023-10-17T01:11:05.307802Z",
     "shell.execute_reply": "2023-10-17T01:11:05.306870Z"
    },
    "papermill": {
     "duration": 0.013331,
     "end_time": "2023-10-17T01:11:05.310016",
     "exception": false,
     "start_time": "2023-10-17T01:11:05.296685",
     "status": "completed"
    },
    "tags": []
   },
   "outputs": [],
   "source": [
    "def data_preprocessing(x):\n",
    "    x['imbalance_ratio'] = x['imbalance_size'] / x['matched_size']\n",
    "    x['bid_ask_volume_diff'] = x['ask_size'] - x['bid_size']\n",
    "    x['mid_price'] = (x['ask_price'] + x['bid_price']) / 2\n",
    "    x['bid_plus_ask_sizes'] = x['bid_size'] + x['ask_size']\n",
    "    if 'time_id' not in x.columns:\n",
    "        x['time_id']=[0]*x.shape[0]\n",
    "    x.drop(['far_price','near_price','imbalance_size','matched_size','ask_size','bid_size','row_id','time_id'],axis=1,inplace=True)\n",
    "    for i in x.columns:\n",
    "        if x[i].isnull().sum()>0:\n",
    "            x[i].fillna(x[i].mean(),inplace=True)\n",
    "    return x"
   ]
  },
  {
   "cell_type": "code",
   "execution_count": 4,
   "id": "0c9aee71",
   "metadata": {
    "execution": {
     "iopub.execute_input": "2023-10-17T01:11:05.317823Z",
     "iopub.status.busy": "2023-10-17T01:11:05.316936Z",
     "iopub.status.idle": "2023-10-17T01:11:06.138007Z",
     "shell.execute_reply": "2023-10-17T01:11:06.137164Z"
    },
    "papermill": {
     "duration": 0.827413,
     "end_time": "2023-10-17T01:11:06.140278",
     "exception": false,
     "start_time": "2023-10-17T01:11:05.312865",
     "status": "completed"
    },
    "tags": []
   },
   "outputs": [],
   "source": [
    "x=data_preprocessing(x)\n",
    "x_test = data_preprocessing(x_test)\n",
    "y.fillna(y.mean(),inplace=True)"
   ]
  },
  {
   "cell_type": "code",
   "execution_count": 5,
   "id": "0ebc6b1a",
   "metadata": {
    "execution": {
     "iopub.execute_input": "2023-10-17T01:11:06.147131Z",
     "iopub.status.busy": "2023-10-17T01:11:06.146748Z",
     "iopub.status.idle": "2023-10-17T01:12:07.400216Z",
     "shell.execute_reply": "2023-10-17T01:12:07.399181Z"
    },
    "papermill": {
     "duration": 61.263091,
     "end_time": "2023-10-17T01:12:07.406122",
     "exception": false,
     "start_time": "2023-10-17T01:11:06.143031",
     "status": "completed"
    },
    "tags": []
   },
   "outputs": [
    {
     "data": {
      "text/html": [
       "<style>#sk-container-id-1 {color: black;background-color: white;}#sk-container-id-1 pre{padding: 0;}#sk-container-id-1 div.sk-toggleable {background-color: white;}#sk-container-id-1 label.sk-toggleable__label {cursor: pointer;display: block;width: 100%;margin-bottom: 0;padding: 0.3em;box-sizing: border-box;text-align: center;}#sk-container-id-1 label.sk-toggleable__label-arrow:before {content: \"▸\";float: left;margin-right: 0.25em;color: #696969;}#sk-container-id-1 label.sk-toggleable__label-arrow:hover:before {color: black;}#sk-container-id-1 div.sk-estimator:hover label.sk-toggleable__label-arrow:before {color: black;}#sk-container-id-1 div.sk-toggleable__content {max-height: 0;max-width: 0;overflow: hidden;text-align: left;background-color: #f0f8ff;}#sk-container-id-1 div.sk-toggleable__content pre {margin: 0.2em;color: black;border-radius: 0.25em;background-color: #f0f8ff;}#sk-container-id-1 input.sk-toggleable__control:checked~div.sk-toggleable__content {max-height: 200px;max-width: 100%;overflow: auto;}#sk-container-id-1 input.sk-toggleable__control:checked~label.sk-toggleable__label-arrow:before {content: \"▾\";}#sk-container-id-1 div.sk-estimator input.sk-toggleable__control:checked~label.sk-toggleable__label {background-color: #d4ebff;}#sk-container-id-1 div.sk-label input.sk-toggleable__control:checked~label.sk-toggleable__label {background-color: #d4ebff;}#sk-container-id-1 input.sk-hidden--visually {border: 0;clip: rect(1px 1px 1px 1px);clip: rect(1px, 1px, 1px, 1px);height: 1px;margin: -1px;overflow: hidden;padding: 0;position: absolute;width: 1px;}#sk-container-id-1 div.sk-estimator {font-family: monospace;background-color: #f0f8ff;border: 1px dotted black;border-radius: 0.25em;box-sizing: border-box;margin-bottom: 0.5em;}#sk-container-id-1 div.sk-estimator:hover {background-color: #d4ebff;}#sk-container-id-1 div.sk-parallel-item::after {content: \"\";width: 100%;border-bottom: 1px solid gray;flex-grow: 1;}#sk-container-id-1 div.sk-label:hover label.sk-toggleable__label {background-color: #d4ebff;}#sk-container-id-1 div.sk-serial::before {content: \"\";position: absolute;border-left: 1px solid gray;box-sizing: border-box;top: 0;bottom: 0;left: 50%;z-index: 0;}#sk-container-id-1 div.sk-serial {display: flex;flex-direction: column;align-items: center;background-color: white;padding-right: 0.2em;padding-left: 0.2em;position: relative;}#sk-container-id-1 div.sk-item {position: relative;z-index: 1;}#sk-container-id-1 div.sk-parallel {display: flex;align-items: stretch;justify-content: center;background-color: white;position: relative;}#sk-container-id-1 div.sk-item::before, #sk-container-id-1 div.sk-parallel-item::before {content: \"\";position: absolute;border-left: 1px solid gray;box-sizing: border-box;top: 0;bottom: 0;left: 50%;z-index: -1;}#sk-container-id-1 div.sk-parallel-item {display: flex;flex-direction: column;z-index: 1;position: relative;background-color: white;}#sk-container-id-1 div.sk-parallel-item:first-child::after {align-self: flex-end;width: 50%;}#sk-container-id-1 div.sk-parallel-item:last-child::after {align-self: flex-start;width: 50%;}#sk-container-id-1 div.sk-parallel-item:only-child::after {width: 0;}#sk-container-id-1 div.sk-dashed-wrapped {border: 1px dashed gray;margin: 0 0.4em 0.5em 0.4em;box-sizing: border-box;padding-bottom: 0.4em;background-color: white;}#sk-container-id-1 div.sk-label label {font-family: monospace;font-weight: bold;display: inline-block;line-height: 1.2em;}#sk-container-id-1 div.sk-label-container {text-align: center;}#sk-container-id-1 div.sk-container {/* jupyter's `normalize.less` sets `[hidden] { display: none; }` but bootstrap.min.css set `[hidden] { display: none !important; }` so we also need the `!important` here to be able to override the default hidden behavior on the sphinx rendered scikit-learn.org. See: https://github.com/scikit-learn/scikit-learn/issues/21755 */display: inline-block !important;position: relative;}#sk-container-id-1 div.sk-text-repr-fallback {display: none;}</style><div id=\"sk-container-id-1\" class=\"sk-top-container\"><div class=\"sk-text-repr-fallback\"><pre>XGBRegressor(base_score=None, booster=None, callbacks=None,\n",
       "             colsample_bylevel=None, colsample_bynode=None,\n",
       "             colsample_bytree=None, early_stopping_rounds=None,\n",
       "             enable_categorical=False, eval_metric=None, feature_types=None,\n",
       "             gamma=None, gpu_id=None, grow_policy=None, importance_type=None,\n",
       "             interaction_constraints=None, learning_rate=None, max_bin=None,\n",
       "             max_cat_threshold=None, max_cat_to_onehot=None,\n",
       "             max_delta_step=None, max_depth=None, max_leaves=None,\n",
       "             min_child_weight=None, missing=nan, monotone_constraints=None,\n",
       "             n_estimators=100, n_jobs=None, num_parallel_tree=None,\n",
       "             predictor=None, random_state=None, ...)</pre><b>In a Jupyter environment, please rerun this cell to show the HTML representation or trust the notebook. <br />On GitHub, the HTML representation is unable to render, please try loading this page with nbviewer.org.</b></div><div class=\"sk-container\" hidden><div class=\"sk-item\"><div class=\"sk-estimator sk-toggleable\"><input class=\"sk-toggleable__control sk-hidden--visually\" id=\"sk-estimator-id-1\" type=\"checkbox\" checked><label for=\"sk-estimator-id-1\" class=\"sk-toggleable__label sk-toggleable__label-arrow\">XGBRegressor</label><div class=\"sk-toggleable__content\"><pre>XGBRegressor(base_score=None, booster=None, callbacks=None,\n",
       "             colsample_bylevel=None, colsample_bynode=None,\n",
       "             colsample_bytree=None, early_stopping_rounds=None,\n",
       "             enable_categorical=False, eval_metric=None, feature_types=None,\n",
       "             gamma=None, gpu_id=None, grow_policy=None, importance_type=None,\n",
       "             interaction_constraints=None, learning_rate=None, max_bin=None,\n",
       "             max_cat_threshold=None, max_cat_to_onehot=None,\n",
       "             max_delta_step=None, max_depth=None, max_leaves=None,\n",
       "             min_child_weight=None, missing=nan, monotone_constraints=None,\n",
       "             n_estimators=100, n_jobs=None, num_parallel_tree=None,\n",
       "             predictor=None, random_state=None, ...)</pre></div></div></div></div></div>"
      ],
      "text/plain": [
       "XGBRegressor(base_score=None, booster=None, callbacks=None,\n",
       "             colsample_bylevel=None, colsample_bynode=None,\n",
       "             colsample_bytree=None, early_stopping_rounds=None,\n",
       "             enable_categorical=False, eval_metric=None, feature_types=None,\n",
       "             gamma=None, gpu_id=None, grow_policy=None, importance_type=None,\n",
       "             interaction_constraints=None, learning_rate=None, max_bin=None,\n",
       "             max_cat_threshold=None, max_cat_to_onehot=None,\n",
       "             max_delta_step=None, max_depth=None, max_leaves=None,\n",
       "             min_child_weight=None, missing=nan, monotone_constraints=None,\n",
       "             n_estimators=100, n_jobs=None, num_parallel_tree=None,\n",
       "             predictor=None, random_state=None, ...)"
      ]
     },
     "execution_count": 5,
     "metadata": {},
     "output_type": "execute_result"
    }
   ],
   "source": [
    "from xgboost import XGBRegressor\n",
    "XG=XGBRegressor()\n",
    "XG.fit(x,y)\n",
    "\n",
    "#pred_XG_test=XG.predict(x_test)"
   ]
  },
  {
   "cell_type": "code",
   "execution_count": 6,
   "id": "207ff5cf",
   "metadata": {
    "execution": {
     "iopub.execute_input": "2023-10-17T01:12:07.414800Z",
     "iopub.status.busy": "2023-10-17T01:12:07.413927Z",
     "iopub.status.idle": "2023-10-17T01:12:07.419067Z",
     "shell.execute_reply": "2023-10-17T01:12:07.417985Z"
    },
    "papermill": {
     "duration": 0.011831,
     "end_time": "2023-10-17T01:12:07.421296",
     "exception": false,
     "start_time": "2023-10-17T01:12:07.409465",
     "status": "completed"
    },
    "tags": []
   },
   "outputs": [],
   "source": [
    "def get_preds(data):\n",
    "    data = data.fillna(0)\n",
    "    data = data_preprocessing(data)\n",
    "    values = XG.predict(data)\n",
    "    return values"
   ]
  },
  {
   "cell_type": "code",
   "execution_count": 7,
   "id": "1256f55b",
   "metadata": {
    "execution": {
     "iopub.execute_input": "2023-10-17T01:12:07.429184Z",
     "iopub.status.busy": "2023-10-17T01:12:07.428823Z",
     "iopub.status.idle": "2023-10-17T01:12:07.433105Z",
     "shell.execute_reply": "2023-10-17T01:12:07.432050Z"
    },
    "papermill": {
     "duration": 0.010557,
     "end_time": "2023-10-17T01:12:07.435080",
     "exception": false,
     "start_time": "2023-10-17T01:12:07.424523",
     "status": "completed"
    },
    "tags": []
   },
   "outputs": [],
   "source": [
    "# data = {\"time_id\":df_test[\"time_id\"],\"row_id\":df_test[\"row_id\"],\"target\":pred_XG_test}\n",
    "# final_preds = pd.DataFrame(data,columns=[\"time_id\",\"row_id\",\"target\"])"
   ]
  },
  {
   "cell_type": "code",
   "execution_count": 8,
   "id": "97c04734",
   "metadata": {
    "execution": {
     "iopub.execute_input": "2023-10-17T01:12:07.443403Z",
     "iopub.status.busy": "2023-10-17T01:12:07.442650Z",
     "iopub.status.idle": "2023-10-17T01:12:07.469267Z",
     "shell.execute_reply": "2023-10-17T01:12:07.468145Z"
    },
    "papermill": {
     "duration": 0.033417,
     "end_time": "2023-10-17T01:12:07.471749",
     "exception": false,
     "start_time": "2023-10-17T01:12:07.438332",
     "status": "completed"
    },
    "tags": []
   },
   "outputs": [],
   "source": [
    "import optiver2023\n",
    "env = optiver2023.make_env()\n",
    "iter_test = env.iter_test()"
   ]
  },
  {
   "cell_type": "code",
   "execution_count": 9,
   "id": "eee4aeb3",
   "metadata": {
    "execution": {
     "iopub.execute_input": "2023-10-17T01:12:07.479827Z",
     "iopub.status.busy": "2023-10-17T01:12:07.479091Z",
     "iopub.status.idle": "2023-10-17T01:12:09.587364Z",
     "shell.execute_reply": "2023-10-17T01:12:09.586137Z"
    },
    "papermill": {
     "duration": 2.114964,
     "end_time": "2023-10-17T01:12:09.589872",
     "exception": false,
     "start_time": "2023-10-17T01:12:07.474908",
     "status": "completed"
    },
    "tags": []
   },
   "outputs": [
    {
     "name": "stdout",
     "output_type": "stream",
     "text": [
      "This version of the API is not optimized and should not be used to estimate the runtime of your code on the hidden test set.\n",
      "   stock_id  date_id  seconds_in_bucket  imbalance_size  \\\n",
      "0         0      478                  0      3753451.43   \n",
      "1         1      478                  0       985977.11   \n",
      "2         2      478                  0       599128.74   \n",
      "\n",
      "   imbalance_buy_sell_flag  reference_price  matched_size  far_price  \\\n",
      "0                       -1         0.999875   11548975.43        NaN   \n",
      "1                       -1         1.000245    3850033.97        NaN   \n",
      "2                        1         1.000584    4359198.25        NaN   \n",
      "\n",
      "   near_price  bid_price  bid_size  ask_price  ask_size  wap   row_id  \n",
      "0         NaN   0.999875  22940.00   1.000050   9177.60  1.0  478_0_0  \n",
      "1         NaN   0.999940   1967.90   1.000601  19692.00  1.0  478_0_1  \n",
      "2         NaN   0.999918   4488.22   1.000636  34955.12  1.0  478_0_2  \n",
      "   stock_id  date_id  seconds_in_bucket  revealed_target  revealed_date_id  \\\n",
      "0         0      478                  0        -2.310276               477   \n",
      "1         1      478                  0       -12.850165               477   \n",
      "2         2      478                  0        -0.439882               477   \n",
      "\n",
      "   revealed_time_id  \n",
      "0             26235  \n",
      "1             26235  \n",
      "2             26235  \n",
      "    row_id  target\n",
      "0  478_0_0     1.0\n",
      "1  478_0_1     1.0\n",
      "2  478_0_2     1.0\n"
     ]
    }
   ],
   "source": [
    "counter = 0\n",
    "for (test, revealed_targets, sample_prediction) in iter_test:\n",
    "    if counter == 0:\n",
    "        print(test.head(3))\n",
    "        print(revealed_targets.head(3))\n",
    "        print(sample_prediction.head(3))\n",
    "    sample_prediction['target'] = get_preds(test)\n",
    "    env.predict(sample_prediction)\n",
    "    sample_prediction = sample_prediction.fillna(0)\n",
    "    sample_prediction = 10000\n",
    "    counter += 1"
   ]
  },
  {
   "cell_type": "code",
   "execution_count": null,
   "id": "425fe437",
   "metadata": {
    "execution": {
     "iopub.execute_input": "2023-10-16T22:13:47.324439Z",
     "iopub.status.busy": "2023-10-16T22:13:47.324049Z",
     "iopub.status.idle": "2023-10-16T22:13:47.332871Z",
     "shell.execute_reply": "2023-10-16T22:13:47.331285Z",
     "shell.execute_reply.started": "2023-10-16T22:13:47.324402Z"
    },
    "papermill": {
     "duration": 0.00299,
     "end_time": "2023-10-17T01:12:09.596229",
     "exception": false,
     "start_time": "2023-10-17T01:12:09.593239",
     "status": "completed"
    },
    "tags": []
   },
   "outputs": [],
   "source": []
  }
 ],
 "metadata": {
  "kernelspec": {
   "display_name": "Python 3",
   "language": "python",
   "name": "python3"
  },
  "language_info": {
   "codemirror_mode": {
    "name": "ipython",
    "version": 3
   },
   "file_extension": ".py",
   "mimetype": "text/x-python",
   "name": "python",
   "nbconvert_exporter": "python",
   "pygments_lexer": "ipython3",
   "version": "3.10.12"
  },
  "papermill": {
   "default_parameters": {},
   "duration": 94.347286,
   "end_time": "2023-10-17T01:12:10.521646",
   "environment_variables": {},
   "exception": null,
   "input_path": "__notebook__.ipynb",
   "output_path": "__notebook__.ipynb",
   "parameters": {},
   "start_time": "2023-10-17T01:10:36.174360",
   "version": "2.4.0"
  }
 },
 "nbformat": 4,
 "nbformat_minor": 5
}
